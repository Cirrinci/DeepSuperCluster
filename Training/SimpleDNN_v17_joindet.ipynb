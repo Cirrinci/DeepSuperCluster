{
 "cells": [
  {
   "cell_type": "code",
   "execution_count": 2,
   "metadata": {
    "ExecuteTime": {
     "end_time": "2020-05-04T14:22:35.838781Z",
     "start_time": "2020-05-04T14:22:35.831130Z"
    }
   },
   "outputs": [],
   "source": [
    "import pickle\n",
    "import numpy as np \n",
    "import pandas as pd\n",
    "import matplotlib.colors as colors\n",
    "import matplotlib.pyplot as plt\n",
    "import matplotlib as mpl\n",
    "import os \n",
    "import glob\n",
    "\n",
    "\n",
    "mpl.rcParams['figure.figsize'] = (5,5)\n",
    "mpl.rcParams['figure.dpi'] = 150\n",
    "mpl.rcParams[\"image.origin\"] = 'lower'"
   ]
  },
  {
   "cell_type": "code",
   "execution_count": 3,
   "metadata": {
    "ExecuteTime": {
     "end_time": "2020-05-04T14:22:36.542179Z",
     "start_time": "2020-05-04T14:22:36.538268Z"
    }
   },
   "outputs": [],
   "source": [
    "model_name = \"v17_joinde\"\n",
    "model_dir = \"../models/\"+model_name\n",
    "model_version = 2\n",
    "numpy_version = 1\n",
    "limit_files = 15\n",
    "cols = [\"seed_eta\", \"seed_iz\",\"en_seed\",\"et_seed\",\n",
    "        \"cluster_deta\", \"cluster_dphi\", \"en_cluster\", \"et_cluster\",\n",
    "       \"seed_f5_r9\", \"seed_f5_sigmaIetaIeta\",\"seed_f5_sigmaIetaIphi\",\"seed_f5_sigmaIphiIphi\",\n",
    "        \"seed_f5_swissCross\",\"seed_nxtals\", \"seed_etaWidth\", \"seed_phiWidth\",\n",
    "        \"cl_f5_r9\", \"cl_f5_sigmaIetaIeta\",\"cl_f5_sigmaIetaIphi\",\"cl_f5_sigmaIphiIphi\",\n",
    "        \"cl_f5_swissCross\", \"cl_nxtals\", \"cl_etaWidth\", \"cl_phiWidth\"]\n",
    "\n",
    "os.makedirs(model_dir, exist_ok = True)\n",
    "with open(\"variables.txt\", \"w\") as of:\n",
    "    of.write(\"\\n\".join(cols))"
   ]
  },
  {
   "cell_type": "markdown",
   "metadata": {},
   "source": [
    "# Data preparation\n",
    "## Input: \n",
    "- E seed\n",
    "- eta,phi,z seed\n",
    "- E cluster\n",
    "- delta_eta,delta_phi,\n",
    "\n",
    "Filter only windows with the calo"
   ]
  },
  {
   "cell_type": "code",
   "execution_count": 4,
   "metadata": {},
   "outputs": [],
   "source": [
    "files_ele = f\"/storage/ECAL/training_data/wp_comparison/electrons/numpy_wp_ele_v{numpy_version}/training/\"\n",
    "files_gamma = f\"/storage/ECAL/training_data/wp_comparison/gammas/numpy_wp_gamma_v{numpy_version}/training/\""
   ]
  },
  {
   "cell_type": "code",
   "execution_count": 4,
   "metadata": {},
   "outputs": [],
   "source": [
    "files_ele = f\"/storage/ECAL/training_data/electrons/numpy_v{numpy_version}/training/\"\n",
    "files_gamma = f\"/storage/ECAL/training_data/gammas/numpy_v{numpy_version}/training/\""
   ]
  },
  {
   "cell_type": "code",
   "execution_count": 5,
   "metadata": {
    "ExecuteTime": {
     "start_time": "2020-05-04T14:22:39.023Z"
    }
   },
   "outputs": [
    {
     "name": "stdout",
     "output_type": "stream",
     "text": [
      "N events ele:  7497593\n",
      "N events gamma:  7251791\n"
     ]
    }
   ],
   "source": [
    "datas_ele = []\n",
    "\n",
    "i = 0\n",
    "for f in glob.glob(files_ele+\"*.pkl\"):\n",
    "    if i>limit_files :continue\n",
    "    d = pickle.load(open(f, \"rb\"))   \n",
    "    datas_ele.append(d[d.is_seed == False])\n",
    "    i+=1\n",
    "    \n",
    "data_ele = pd.concat(datas_ele, ignore_index=True)\n",
    "data_ele[\"particle\"] = \"electron\"\n",
    "print(\"N events ele: \",len(data_ele))\n",
    "\n",
    "datas_gamma = []\n",
    "i = 0\n",
    "for f in glob.glob(files_gamma+\"*.pkl\"):\n",
    "    if i>limit_files :continue\n",
    "    d = pickle.load(open(f, \"rb\"))  \n",
    "    datas_gamma.append(d[d.is_seed==False])\n",
    "    i+=1\n",
    "    \n",
    "data_gamma = pd.concat(datas_gamma, ignore_index=True)\n",
    "data_gamma[\"particle\"] = \"gamma\"\n",
    "print(\"N events gamma: \",len(data_gamma))\n",
    "\n",
    "if data_ele.shape[0]> data_gamma.shape[0]:\n",
    "    data = pd.concat([data_gamma, data_ele.iloc[0:len(data_gamma)]], ignore_index=True)\n",
    "else:\n",
    "    data = pd.concat([data_gamma.iloc[0:len(data_ele)], data_ele], ignore_index=True)\n",
    "    \n",
    "del data_gamma\n",
    "del data_ele"
   ]
  },
  {
   "cell_type": "markdown",
   "metadata": {},
   "source": [
    "Balance gamma and electron"
   ]
  },
  {
   "cell_type": "code",
   "execution_count": 5,
   "metadata": {
    "ExecuteTime": {
     "start_time": "2020-05-04T14:14:26.563Z"
    }
   },
   "outputs": [],
   "source": [
    "data_EB = data[data.seed_iz == 0]\n",
    "data_EE = data[data.seed_iz != 0]"
   ]
  },
  {
   "cell_type": "code",
   "execution_count": 6,
   "metadata": {
    "ExecuteTime": {
     "end_time": "2020-05-03T14:58:15.903327Z",
     "start_time": "2020-05-03T14:58:12.456898Z"
    }
   },
   "outputs": [
    {
     "name": "stdout",
     "output_type": "stream",
     "text": [
      "Sample in EB: 7399437\n",
      "Sample in EE: 2563543\n",
      "Sample in EB in SC: 444591\n",
      "Sample in EE in SC: 181691\n",
      "N in supercluster:  626282\n",
      "N out supercluster:  9336698\n",
      "14.908137228916047\n"
     ]
    }
   ],
   "source": [
    "print(\"Sample in EB:\", len(data[abs(data.seed_eta) <1.479]))\n",
    "print(\"Sample in EE:\", len(data[abs(data.seed_eta) >=1.479]))\n",
    "print(\"Sample in EB in SC:\", len(data[(abs(data.seed_eta) <1.479)&(data.in_scluster)]))\n",
    "print(\"Sample in EE in SC:\", len(data[(abs(data.seed_eta) >=1.479)&(data.in_scluster)]))\n",
    "print(\"N in supercluster: \", len(data[ data.in_scluster]))\n",
    "print(\"N out supercluster: \", len(data[data.in_scluster == False]))\n",
    "w = len(data[(data.is_seed == False) & (data.in_scluster == False)]) / len(data[(data.is_seed == False) & (data.in_scluster==True)])\n",
    "print(w)"
   ]
  },
  {
   "cell_type": "code",
   "execution_count": 7,
   "metadata": {
    "ExecuteTime": {
     "end_time": "2020-05-03T14:58:46.167174Z",
     "start_time": "2020-05-03T14:58:45.165966Z"
    }
   },
   "outputs": [
    {
     "name": "stdout",
     "output_type": "stream",
     "text": [
      "caloMatch samples:  1639480\n",
      "Not caloMatch samples:  8323500\n"
     ]
    }
   ],
   "source": [
    "print(\"caloMatch samples: \", len(data[data.is_calo_matched]))\n",
    "print(\"Not caloMatch samples: \", len(data[data.is_calo_matched ==False]))"
   ]
  },
  {
   "cell_type": "markdown",
   "metadata": {},
   "source": [
    "# Data Preparation"
   ]
  },
  {
   "cell_type": "code",
   "execution_count": 12,
   "metadata": {
    "ExecuteTime": {
     "end_time": "2020-05-03T19:39:50.337125Z",
     "start_time": "2020-05-03T19:39:50.330651Z"
    }
   },
   "outputs": [],
   "source": [
    "if det == \"EB\":\n",
    "    data = data_EB\n",
    "if det == \"EE\":\n",
    "    data = data_EE"
   ]
  },
  {
   "cell_type": "markdown",
   "metadata": {},
   "source": [
    "## Reweighting\n",
    "Only the classes are reweighted, not in Et/eta bins"
   ]
  },
  {
   "cell_type": "code",
   "execution_count": 6,
   "metadata": {},
   "outputs": [
    {
     "name": "stdout",
     "output_type": "stream",
     "text": [
      "Weight  14.955377779537937\n"
     ]
    }
   ],
   "source": [
    "w = len(data[(data.is_seed == False) & (data.in_scluster == False)]) / len(data[(data.is_seed == False) & (data.in_scluster==True)])\n",
    "print(\"Weight \",w)\n",
    "data.loc[data.in_scluster,\"w\"] = w\n",
    "data.loc[data.in_scluster==False, \"w\"] = 1."
   ]
  },
  {
   "cell_type": "markdown",
   "metadata": {},
   "source": [
    "# Array preparation"
   ]
  },
  {
   "cell_type": "code",
   "execution_count": 28,
   "metadata": {},
   "outputs": [
    {
     "data": {
      "text/html": [
       "<div>\n",
       "<style scoped>\n",
       "    .dataframe tbody tr th:only-of-type {\n",
       "        vertical-align: middle;\n",
       "    }\n",
       "\n",
       "    .dataframe tbody tr th {\n",
       "        vertical-align: top;\n",
       "    }\n",
       "\n",
       "    .dataframe thead th {\n",
       "        text-align: right;\n",
       "    }\n",
       "</style>\n",
       "<table border=\"1\" class=\"dataframe\">\n",
       "  <thead>\n",
       "    <tr style=\"text-align: right;\">\n",
       "      <th></th>\n",
       "      <th>calo_seed_index</th>\n",
       "      <th>cl_etaWidth</th>\n",
       "      <th>cl_f5_r9</th>\n",
       "      <th>cl_f5_sigmaIetaIeta</th>\n",
       "      <th>cl_f5_sigmaIetaIphi</th>\n",
       "      <th>cl_f5_sigmaIphiIphi</th>\n",
       "      <th>cl_f5_swissCross</th>\n",
       "      <th>cl_nxtals</th>\n",
       "      <th>cl_phiWidth</th>\n",
       "      <th>cluster_deta</th>\n",
       "      <th>...</th>\n",
       "      <th>seed_f5_swissCross</th>\n",
       "      <th>seed_iz</th>\n",
       "      <th>seed_nxtals</th>\n",
       "      <th>seed_phi</th>\n",
       "      <th>seed_phiWidth</th>\n",
       "      <th>window_index</th>\n",
       "      <th>particle</th>\n",
       "      <th>et_bin</th>\n",
       "      <th>eta_bin</th>\n",
       "      <th>w</th>\n",
       "    </tr>\n",
       "  </thead>\n",
       "  <tbody>\n",
       "    <tr>\n",
       "      <th>1</th>\n",
       "      <td>-1</td>\n",
       "      <td>0.002766</td>\n",
       "      <td>1.000000</td>\n",
       "      <td>0.000000</td>\n",
       "      <td>0.000000</td>\n",
       "      <td>0.000000</td>\n",
       "      <td>1.000000</td>\n",
       "      <td>1</td>\n",
       "      <td>0.002089</td>\n",
       "      <td>-0.016367</td>\n",
       "      <td>...</td>\n",
       "      <td>0.688010</td>\n",
       "      <td>0</td>\n",
       "      <td>3</td>\n",
       "      <td>-2.834352</td>\n",
       "      <td>0.004936</td>\n",
       "      <td>hvlerqxix</td>\n",
       "      <td>gamma</td>\n",
       "      <td>0</td>\n",
       "      <td>3</td>\n",
       "      <td>1.000000</td>\n",
       "    </tr>\n",
       "    <tr>\n",
       "      <th>5</th>\n",
       "      <td>2</td>\n",
       "      <td>0.002557</td>\n",
       "      <td>1.000000</td>\n",
       "      <td>0.000000</td>\n",
       "      <td>0.000000</td>\n",
       "      <td>0.000000</td>\n",
       "      <td>1.000000</td>\n",
       "      <td>1</td>\n",
       "      <td>0.001303</td>\n",
       "      <td>0.102629</td>\n",
       "      <td>...</td>\n",
       "      <td>0.238974</td>\n",
       "      <td>0</td>\n",
       "      <td>22</td>\n",
       "      <td>2.334469</td>\n",
       "      <td>0.018377</td>\n",
       "      <td>hwwsnyejt</td>\n",
       "      <td>gamma</td>\n",
       "      <td>8</td>\n",
       "      <td>3</td>\n",
       "      <td>1.000000</td>\n",
       "    </tr>\n",
       "    <tr>\n",
       "      <th>6</th>\n",
       "      <td>-1</td>\n",
       "      <td>0.002266</td>\n",
       "      <td>1.647160</td>\n",
       "      <td>0.009259</td>\n",
       "      <td>0.000043</td>\n",
       "      <td>0.008191</td>\n",
       "      <td>0.701537</td>\n",
       "      <td>1</td>\n",
       "      <td>0.001874</td>\n",
       "      <td>-0.158738</td>\n",
       "      <td>...</td>\n",
       "      <td>0.688010</td>\n",
       "      <td>0</td>\n",
       "      <td>3</td>\n",
       "      <td>-2.834352</td>\n",
       "      <td>0.004936</td>\n",
       "      <td>hvlerqxix</td>\n",
       "      <td>gamma</td>\n",
       "      <td>0</td>\n",
       "      <td>3</td>\n",
       "      <td>1.000000</td>\n",
       "    </tr>\n",
       "    <tr>\n",
       "      <th>10</th>\n",
       "      <td>2</td>\n",
       "      <td>0.002434</td>\n",
       "      <td>1.000000</td>\n",
       "      <td>0.000000</td>\n",
       "      <td>0.000000</td>\n",
       "      <td>0.000000</td>\n",
       "      <td>1.000000</td>\n",
       "      <td>1</td>\n",
       "      <td>0.001172</td>\n",
       "      <td>0.136999</td>\n",
       "      <td>...</td>\n",
       "      <td>0.238974</td>\n",
       "      <td>0</td>\n",
       "      <td>22</td>\n",
       "      <td>2.334469</td>\n",
       "      <td>0.018377</td>\n",
       "      <td>hwwsnyejt</td>\n",
       "      <td>gamma</td>\n",
       "      <td>8</td>\n",
       "      <td>3</td>\n",
       "      <td>1.000000</td>\n",
       "    </tr>\n",
       "    <tr>\n",
       "      <th>11</th>\n",
       "      <td>1</td>\n",
       "      <td>0.002267</td>\n",
       "      <td>1.000000</td>\n",
       "      <td>0.000000</td>\n",
       "      <td>0.000000</td>\n",
       "      <td>0.000000</td>\n",
       "      <td>1.000000</td>\n",
       "      <td>1</td>\n",
       "      <td>0.001510</td>\n",
       "      <td>0.146770</td>\n",
       "      <td>...</td>\n",
       "      <td>0.341402</td>\n",
       "      <td>0</td>\n",
       "      <td>2</td>\n",
       "      <td>-0.967447</td>\n",
       "      <td>0.001695</td>\n",
       "      <td>maaimtxxj</td>\n",
       "      <td>gamma</td>\n",
       "      <td>0</td>\n",
       "      <td>6</td>\n",
       "      <td>1.000000</td>\n",
       "    </tr>\n",
       "    <tr>\n",
       "      <th>...</th>\n",
       "      <td>...</td>\n",
       "      <td>...</td>\n",
       "      <td>...</td>\n",
       "      <td>...</td>\n",
       "      <td>...</td>\n",
       "      <td>...</td>\n",
       "      <td>...</td>\n",
       "      <td>...</td>\n",
       "      <td>...</td>\n",
       "      <td>...</td>\n",
       "      <td>...</td>\n",
       "      <td>...</td>\n",
       "      <td>...</td>\n",
       "      <td>...</td>\n",
       "      <td>...</td>\n",
       "      <td>...</td>\n",
       "      <td>...</td>\n",
       "      <td>...</td>\n",
       "      <td>...</td>\n",
       "      <td>...</td>\n",
       "      <td>...</td>\n",
       "    </tr>\n",
       "    <tr>\n",
       "      <th>34420905</th>\n",
       "      <td>2</td>\n",
       "      <td>0.002469</td>\n",
       "      <td>1.000000</td>\n",
       "      <td>0.014994</td>\n",
       "      <td>-0.000176</td>\n",
       "      <td>0.014128</td>\n",
       "      <td>0.307549</td>\n",
       "      <td>1</td>\n",
       "      <td>0.008952</td>\n",
       "      <td>-0.184024</td>\n",
       "      <td>...</td>\n",
       "      <td>0.707970</td>\n",
       "      <td>0</td>\n",
       "      <td>1</td>\n",
       "      <td>-0.480436</td>\n",
       "      <td>0.001315</td>\n",
       "      <td>isxkdovpx</td>\n",
       "      <td>electron</td>\n",
       "      <td>0</td>\n",
       "      <td>3</td>\n",
       "      <td>1.000000</td>\n",
       "    </tr>\n",
       "    <tr>\n",
       "      <th>34420906</th>\n",
       "      <td>1</td>\n",
       "      <td>0.002529</td>\n",
       "      <td>1.616666</td>\n",
       "      <td>0.018228</td>\n",
       "      <td>0.000150</td>\n",
       "      <td>0.017587</td>\n",
       "      <td>0.663418</td>\n",
       "      <td>1</td>\n",
       "      <td>0.001423</td>\n",
       "      <td>0.001223</td>\n",
       "      <td>...</td>\n",
       "      <td>0.112008</td>\n",
       "      <td>0</td>\n",
       "      <td>2</td>\n",
       "      <td>1.597663</td>\n",
       "      <td>0.014243</td>\n",
       "      <td>vcolwulhq</td>\n",
       "      <td>electron</td>\n",
       "      <td>1</td>\n",
       "      <td>6</td>\n",
       "      <td>16.916718</td>\n",
       "    </tr>\n",
       "    <tr>\n",
       "      <th>34420907</th>\n",
       "      <td>1</td>\n",
       "      <td>0.002505</td>\n",
       "      <td>1.249638</td>\n",
       "      <td>0.008355</td>\n",
       "      <td>-0.000112</td>\n",
       "      <td>0.015185</td>\n",
       "      <td>0.750362</td>\n",
       "      <td>3</td>\n",
       "      <td>0.001400</td>\n",
       "      <td>0.018357</td>\n",
       "      <td>...</td>\n",
       "      <td>0.112008</td>\n",
       "      <td>0</td>\n",
       "      <td>2</td>\n",
       "      <td>1.597663</td>\n",
       "      <td>0.014243</td>\n",
       "      <td>vcolwulhq</td>\n",
       "      <td>electron</td>\n",
       "      <td>1</td>\n",
       "      <td>6</td>\n",
       "      <td>16.916718</td>\n",
       "    </tr>\n",
       "    <tr>\n",
       "      <th>34420909</th>\n",
       "      <td>-1</td>\n",
       "      <td>0.002163</td>\n",
       "      <td>1.000000</td>\n",
       "      <td>0.000000</td>\n",
       "      <td>0.000000</td>\n",
       "      <td>0.000000</td>\n",
       "      <td>1.000000</td>\n",
       "      <td>1</td>\n",
       "      <td>0.002124</td>\n",
       "      <td>-0.178211</td>\n",
       "      <td>...</td>\n",
       "      <td>1.000000</td>\n",
       "      <td>0</td>\n",
       "      <td>1</td>\n",
       "      <td>-0.864838</td>\n",
       "      <td>0.002363</td>\n",
       "      <td>lxponyheo</td>\n",
       "      <td>electron</td>\n",
       "      <td>0</td>\n",
       "      <td>4</td>\n",
       "      <td>1.000000</td>\n",
       "    </tr>\n",
       "    <tr>\n",
       "      <th>34420910</th>\n",
       "      <td>1</td>\n",
       "      <td>0.002457</td>\n",
       "      <td>1.262919</td>\n",
       "      <td>0.021749</td>\n",
       "      <td>0.000040</td>\n",
       "      <td>0.024886</td>\n",
       "      <td>-0.122740</td>\n",
       "      <td>1</td>\n",
       "      <td>0.008694</td>\n",
       "      <td>0.035227</td>\n",
       "      <td>...</td>\n",
       "      <td>0.112008</td>\n",
       "      <td>0</td>\n",
       "      <td>2</td>\n",
       "      <td>1.597663</td>\n",
       "      <td>0.014243</td>\n",
       "      <td>vcolwulhq</td>\n",
       "      <td>electron</td>\n",
       "      <td>1</td>\n",
       "      <td>6</td>\n",
       "      <td>1.000000</td>\n",
       "    </tr>\n",
       "  </tbody>\n",
       "</table>\n",
       "<p>25555153 rows × 46 columns</p>\n",
       "</div>"
      ],
      "text/plain": [
       "          calo_seed_index  cl_etaWidth  cl_f5_r9  cl_f5_sigmaIetaIeta  \\\n",
       "1                      -1     0.002766  1.000000             0.000000   \n",
       "5                       2     0.002557  1.000000             0.000000   \n",
       "6                      -1     0.002266  1.647160             0.009259   \n",
       "10                      2     0.002434  1.000000             0.000000   \n",
       "11                      1     0.002267  1.000000             0.000000   \n",
       "...                   ...          ...       ...                  ...   \n",
       "34420905                2     0.002469  1.000000             0.014994   \n",
       "34420906                1     0.002529  1.616666             0.018228   \n",
       "34420907                1     0.002505  1.249638             0.008355   \n",
       "34420909               -1     0.002163  1.000000             0.000000   \n",
       "34420910                1     0.002457  1.262919             0.021749   \n",
       "\n",
       "          cl_f5_sigmaIetaIphi  cl_f5_sigmaIphiIphi  cl_f5_swissCross  \\\n",
       "1                    0.000000             0.000000          1.000000   \n",
       "5                    0.000000             0.000000          1.000000   \n",
       "6                    0.000043             0.008191          0.701537   \n",
       "10                   0.000000             0.000000          1.000000   \n",
       "11                   0.000000             0.000000          1.000000   \n",
       "...                       ...                  ...               ...   \n",
       "34420905            -0.000176             0.014128          0.307549   \n",
       "34420906             0.000150             0.017587          0.663418   \n",
       "34420907            -0.000112             0.015185          0.750362   \n",
       "34420909             0.000000             0.000000          1.000000   \n",
       "34420910             0.000040             0.024886         -0.122740   \n",
       "\n",
       "          cl_nxtals  cl_phiWidth  cluster_deta  ...  seed_f5_swissCross  \\\n",
       "1                 1     0.002089     -0.016367  ...            0.688010   \n",
       "5                 1     0.001303      0.102629  ...            0.238974   \n",
       "6                 1     0.001874     -0.158738  ...            0.688010   \n",
       "10                1     0.001172      0.136999  ...            0.238974   \n",
       "11                1     0.001510      0.146770  ...            0.341402   \n",
       "...             ...          ...           ...  ...                 ...   \n",
       "34420905          1     0.008952     -0.184024  ...            0.707970   \n",
       "34420906          1     0.001423      0.001223  ...            0.112008   \n",
       "34420907          3     0.001400      0.018357  ...            0.112008   \n",
       "34420909          1     0.002124     -0.178211  ...            1.000000   \n",
       "34420910          1     0.008694      0.035227  ...            0.112008   \n",
       "\n",
       "          seed_iz  seed_nxtals  seed_phi  seed_phiWidth  window_index  \\\n",
       "1               0            3 -2.834352       0.004936     hvlerqxix   \n",
       "5               0           22  2.334469       0.018377     hwwsnyejt   \n",
       "6               0            3 -2.834352       0.004936     hvlerqxix   \n",
       "10              0           22  2.334469       0.018377     hwwsnyejt   \n",
       "11              0            2 -0.967447       0.001695     maaimtxxj   \n",
       "...           ...          ...       ...            ...           ...   \n",
       "34420905        0            1 -0.480436       0.001315     isxkdovpx   \n",
       "34420906        0            2  1.597663       0.014243     vcolwulhq   \n",
       "34420907        0            2  1.597663       0.014243     vcolwulhq   \n",
       "34420909        0            1 -0.864838       0.002363     lxponyheo   \n",
       "34420910        0            2  1.597663       0.014243     vcolwulhq   \n",
       "\n",
       "          particle  et_bin  eta_bin          w  \n",
       "1            gamma       0        3   1.000000  \n",
       "5            gamma       8        3   1.000000  \n",
       "6            gamma       0        3   1.000000  \n",
       "10           gamma       8        3   1.000000  \n",
       "11           gamma       0        6   1.000000  \n",
       "...            ...     ...      ...        ...  \n",
       "34420905  electron       0        3   1.000000  \n",
       "34420906  electron       1        6  16.916718  \n",
       "34420907  electron       1        6  16.916718  \n",
       "34420909  electron       0        4   1.000000  \n",
       "34420910  electron       1        6   1.000000  \n",
       "\n",
       "[25555153 rows x 46 columns]"
      ]
     },
     "execution_count": 28,
     "metadata": {},
     "output_type": "execute_result"
    }
   ],
   "source": [
    "data"
   ]
  },
  {
   "cell_type": "code",
   "execution_count": 7,
   "metadata": {
    "ExecuteTime": {
     "end_time": "2020-05-03T19:40:22.348120Z",
     "start_time": "2020-05-03T19:40:21.924777Z"
    }
   },
   "outputs": [],
   "source": [
    "X = data[ cols ].values\n",
    "truth = data[[\"in_scluster\"]].values\n",
    "y = np.array(truth[:], dtype=int)\n",
    "weights = data.w.values"
   ]
  },
  {
   "cell_type": "code",
   "execution_count": 8,
   "metadata": {
    "ExecuteTime": {
     "end_time": "2020-05-03T16:59:09.418959Z",
     "start_time": "2020-05-03T16:59:08.383315Z"
    }
   },
   "outputs": [],
   "source": [
    "from sklearn.preprocessing import MinMaxScaler, StandardScaler, QuantileTransformer\n",
    "from sklearn.model_selection import train_test_split\n",
    "scaler = StandardScaler()\n",
    "X_scaled = scaler.fit_transform(X)\n",
    "\n"
   ]
  },
  {
   "cell_type": "code",
   "execution_count": 9,
   "metadata": {},
   "outputs": [],
   "source": [
    "pickle.dump(scaler, open(model_dir + \"/scaler_model_v{}.pkl\".format(model_version), \"wb\"))"
   ]
  },
  {
   "cell_type": "code",
   "execution_count": 9,
   "metadata": {
    "ExecuteTime": {
     "end_time": "2020-04-27T20:36:06.424318Z",
     "start_time": "2020-04-27T20:36:06.415406Z"
    }
   },
   "outputs": [
    {
     "data": {
      "text/plain": [
       "array([ 7.02463575e-03, -1.24199275e-02,  1.52806921e-03,  5.81765246e+01,\n",
       "        2.57289413e+01, -7.38239696e-04, -1.34617199e-04,  1.30394112e+00,\n",
       "        5.67097515e-01,  1.00777807e+00,  1.35878960e-02, -4.33484837e-06,\n",
       "        1.71075590e-02,  4.90503419e-01,  5.10130183e+00,  8.82503260e-03,\n",
       "        1.04085524e-02,  1.92347850e+00,  1.31552897e-02,  1.63385939e-05,\n",
       "        1.43022597e-02,  5.92813578e-01,  1.49568997e+00,  3.36221652e-03,\n",
       "        3.06406199e-03])"
      ]
     },
     "execution_count": 9,
     "metadata": {},
     "output_type": "execute_result"
    }
   ],
   "source": [
    "scaler.mean_"
   ]
  },
  {
   "cell_type": "code",
   "execution_count": 10,
   "metadata": {
    "ExecuteTime": {
     "end_time": "2020-04-27T20:36:11.862086Z",
     "start_time": "2020-04-27T20:36:11.856918Z"
    }
   },
   "outputs": [
    {
     "data": {
      "text/plain": [
       "array([1.31379037e+00, 1.80873202e+00, 5.07211178e-01, 9.21428703e+01,\n",
       "       2.98673042e+01, 1.10279366e-01, 3.30498998e-01, 2.62680772e+00,\n",
       "       1.16208917e+00, 1.29027118e-01, 1.12036931e-02, 1.86629825e-04,\n",
       "       1.31007837e-02, 4.02186564e-01, 5.67336346e+00, 6.14557913e-03,\n",
       "       7.24830585e-03, 7.83988200e+00, 1.70465625e-02, 3.06117345e-04,\n",
       "       1.80221678e-02, 1.99389927e+00, 1.88835196e+00, 4.12488693e-03,\n",
       "       4.79731185e-03])"
      ]
     },
     "execution_count": 10,
     "metadata": {},
     "output_type": "execute_result"
    }
   ],
   "source": [
    "scaler.scale_"
   ]
  },
  {
   "cell_type": "code",
   "execution_count": 9,
   "metadata": {},
   "outputs": [
    {
     "name": "stdout",
     "output_type": "stream",
     "text": [
      "N. samples: 23560522\n"
     ]
    }
   ],
   "source": [
    "print(\"N. samples:\", X.shape[0])"
   ]
  },
  {
   "cell_type": "code",
   "execution_count": 12,
   "metadata": {
    "ExecuteTime": {
     "end_time": "2020-05-03T19:42:21.213537Z",
     "start_time": "2020-05-03T19:42:20.253569Z"
    }
   },
   "outputs": [],
   "source": [
    "X_train, X_val, y_train, y_val, w_train, w_val = train_test_split(X_scaled, y, weights, test_size=0.20,\n",
    "                                                stratify=y)"
   ]
  },
  {
   "cell_type": "markdown",
   "metadata": {},
   "source": [
    "### Some plots"
   ]
  },
  {
   "cell_type": "markdown",
   "metadata": {},
   "source": [
    "# Training"
   ]
  },
  {
   "cell_type": "code",
   "execution_count": 10,
   "metadata": {
    "ExecuteTime": {
     "end_time": "2020-05-03T15:15:19.694207Z",
     "start_time": "2020-05-03T15:15:13.962325Z"
    }
   },
   "outputs": [
    {
     "name": "stderr",
     "output_type": "stream",
     "text": [
      "Using TensorFlow backend.\n"
     ]
    }
   ],
   "source": [
    "# Import all the required Libraries\n",
    "import tensorflow\n",
    "import keras\n",
    "import pandas as pd\n",
    "import numpy as np\n",
    "import matplotlib.pyplot as plt\n",
    "from keras.datasets import mnist\n",
    "from keras.models import Model, Sequential\n",
    "from keras.layers import Dense, Conv2D, Dropout, BatchNormalization, Input, Reshape, Flatten, Deconvolution2D, Conv2DTranspose, MaxPooling2D, UpSampling2D, Lambda\n",
    "from keras.layers.advanced_activations import LeakyReLU\n",
    "from keras.optimizers import adam\n",
    "from keras import callbacks\n",
    "from keras import backend as K\n",
    "from keras import regularizers\n",
    "from keras.callbacks import *"
   ]
  },
  {
   "cell_type": "code",
   "execution_count": 15,
   "metadata": {},
   "outputs": [
    {
     "name": "stdout",
     "output_type": "stream",
     "text": [
      "Model: \"sequential_3\"\n",
      "_________________________________________________________________\n",
      "Layer (type)                 Output Shape              Param #   \n",
      "=================================================================\n",
      "dense_4 (Dense)              (None, 400)               10000     \n",
      "_________________________________________________________________\n",
      "dropout_3 (Dropout)          (None, 400)               0         \n",
      "_________________________________________________________________\n",
      "dense_5 (Dense)              (None, 400)               160400    \n",
      "_________________________________________________________________\n",
      "dropout_4 (Dropout)          (None, 400)               0         \n",
      "_________________________________________________________________\n",
      "dense_6 (Dense)              (None, 1)                 401       \n",
      "=================================================================\n",
      "Total params: 170,801\n",
      "Trainable params: 170,801\n",
      "Non-trainable params: 0\n",
      "_________________________________________________________________\n"
     ]
    }
   ],
   "source": [
    "model = Sequential()\n",
    "model.add(Dense(400, input_dim=X_val.shape[1], activation=\"relu\"))\n",
    "model.add(Dropout(0.01))\n",
    "model.add(Dense(400, activation=\"relu\"))\n",
    "model.add(Dropout(0.01))\n",
    "#model.add(Dense(300, activation=\"relu\"))\n",
    "#model.add(Dropout(0.1))\n",
    "#model.add(Dense(100, activation=\"relu\"))\n",
    "#model.add(Dropout(0.05))\n",
    "\n",
    "model.add(Dense(1, activation=\"sigmoid\"))\n",
    "\n",
    "\n",
    "model.compile(optimizer='adagrad',\n",
    "              loss='binary_crossentropy',\n",
    "              metrics=['accuracy'])\n",
    "\n",
    "model.summary()"
   ]
  },
  {
   "cell_type": "code",
   "execution_count": 15,
   "metadata": {},
   "outputs": [
    {
     "name": "stdout",
     "output_type": "stream",
     "text": [
      "Model: \"sequential_1\"\n",
      "_________________________________________________________________\n",
      "Layer (type)                 Output Shape              Param #   \n",
      "=================================================================\n",
      "dense_1 (Dense)              (None, 300)               7800      \n",
      "_________________________________________________________________\n",
      "dropout_1 (Dropout)          (None, 300)               0         \n",
      "_________________________________________________________________\n",
      "dense_2 (Dense)              (None, 200)               60200     \n",
      "_________________________________________________________________\n",
      "dropout_2 (Dropout)          (None, 200)               0         \n",
      "_________________________________________________________________\n",
      "dense_3 (Dense)              (None, 200)               40200     \n",
      "_________________________________________________________________\n",
      "dropout_3 (Dropout)          (None, 200)               0         \n",
      "_________________________________________________________________\n",
      "dense_4 (Dense)              (None, 200)               40200     \n",
      "_________________________________________________________________\n",
      "dropout_4 (Dropout)          (None, 200)               0         \n",
      "_________________________________________________________________\n",
      "dense_5 (Dense)              (None, 50)                10050     \n",
      "_________________________________________________________________\n",
      "dropout_5 (Dropout)          (None, 50)                0         \n",
      "_________________________________________________________________\n",
      "dense_6 (Dense)              (None, 1)                 51        \n",
      "=================================================================\n",
      "Total params: 158,501\n",
      "Trainable params: 158,501\n",
      "Non-trainable params: 0\n",
      "_________________________________________________________________\n"
     ]
    }
   ],
   "source": [
    "model = Sequential()\n",
    "model.add(Dense(300, input_dim=X_val.shape[1], activation=\"relu\",kernel_regularizer=regularizers.l2(0.01)))\n",
    "model.add(Dropout(0.1))\n",
    "model.add(Dense(200, activation=\"relu\",kernel_regularizer=regularizers.l2(0.01)))\n",
    "model.add(Dropout(0.1))\n",
    "model.add(Dense(200, activation=\"relu\"))\n",
    "model.add(Dropout(0.05))\n",
    "model.add(Dense(200, activation=\"relu\"))\n",
    "model.add(Dropout(0.05))\n",
    "model.add(Dense(50, activation=\"relu\"))\n",
    "model.add(Dropout(0.05))\n",
    "\n",
    "model.add(Dense(1, activation=\"sigmoid\"))\n",
    "\n",
    "\n",
    "model.compile(optimizer='adagrad',\n",
    "              loss='binary_crossentropy',\n",
    "              metrics=['accuracy'])\n",
    "\n",
    "model.summary()"
   ]
  },
  {
   "cell_type": "code",
   "execution_count": null,
   "metadata": {},
   "outputs": [],
   "source": [
    "model = Sequential()\n",
    "model.add(Dense(400, input_dim=X_val.shape[1], activation=\"relu\",kernel_regularizer=regularizers.l2(0.01)))\n",
    "model.add(Dropout(0.01))\n",
    "model.add(Dense(400, activation=\"relu\"))\n",
    "model.add(Dropout(0.01))\n",
    "#model.add(Dense(300, activation=\"relu\"))\n",
    "#model.add(Dropout(0.1))\n",
    "#model.add(Dense(100, activation=\"relu\"))\n",
    "#model.add(Dropout(0.05))\n",
    "\n",
    "model.add(Dense(1, activation=\"sigmoid\"))\n",
    "\n",
    "\n",
    "model.compile(optimizer='adagrad',\n",
    "              loss='binary_crossentropy',\n",
    "              metrics=['accuracy'])\n",
    "\n",
    "model.summary()"
   ]
  },
  {
   "cell_type": "code",
   "execution_count": 12,
   "metadata": {},
   "outputs": [
    {
     "name": "stdout",
     "output_type": "stream",
     "text": [
      "Model: \"sequential_1\"\n",
      "_________________________________________________________________\n",
      "Layer (type)                 Output Shape              Param #   \n",
      "=================================================================\n",
      "dense_1 (Dense)              (None, 300)               7500      \n",
      "_________________________________________________________________\n",
      "dropout_1 (Dropout)          (None, 300)               0         \n",
      "_________________________________________________________________\n",
      "dense_2 (Dense)              (None, 300)               90300     \n",
      "_________________________________________________________________\n",
      "dropout_2 (Dropout)          (None, 300)               0         \n",
      "_________________________________________________________________\n",
      "dense_3 (Dense)              (None, 300)               90300     \n",
      "_________________________________________________________________\n",
      "dropout_3 (Dropout)          (None, 300)               0         \n",
      "_________________________________________________________________\n",
      "dense_4 (Dense)              (None, 100)               30100     \n",
      "_________________________________________________________________\n",
      "dropout_4 (Dropout)          (None, 100)               0         \n",
      "_________________________________________________________________\n",
      "dense_5 (Dense)              (None, 1)                 101       \n",
      "=================================================================\n",
      "Total params: 218,301\n",
      "Trainable params: 218,301\n",
      "Non-trainable params: 0\n",
      "_________________________________________________________________\n"
     ]
    }
   ],
   "source": [
    "model = Sequential()\n",
    "model.add(Dense(300, input_dim=X_val.shape[1], activation=\"relu\",kernel_regularizer=regularizers.l2(0.01)))\n",
    "model.add(Dropout(0.1))\n",
    "model.add(Dense(300, activation=\"relu\"))\n",
    "model.add(Dropout(0.1))\n",
    "model.add(Dense(300, activation=\"relu\"))\n",
    "model.add(Dropout(0.1))\n",
    "model.add(Dense(100, activation=\"relu\"))\n",
    "model.add(Dropout(0.05))\n",
    "\n",
    "model.add(Dense(1, activation=\"sigmoid\"))\n",
    "\n",
    "\n",
    "model.compile(optimizer='adagrad',\n",
    "              loss='binary_crossentropy',\n",
    "              metrics=['accuracy'])\n",
    "\n",
    "model.summary()"
   ]
  },
  {
   "cell_type": "code",
   "execution_count": 23,
   "metadata": {},
   "outputs": [
    {
     "name": "stdout",
     "output_type": "stream",
     "text": [
      "Model: \"sequential_1\"\n",
      "_________________________________________________________________\n",
      "Layer (type)                 Output Shape              Param #   \n",
      "=================================================================\n",
      "dense_1 (Dense)              (None, 200)               5200      \n",
      "_________________________________________________________________\n",
      "dropout_1 (Dropout)          (None, 200)               0         \n",
      "_________________________________________________________________\n",
      "dense_2 (Dense)              (None, 200)               40200     \n",
      "_________________________________________________________________\n",
      "dropout_2 (Dropout)          (None, 200)               0         \n",
      "_________________________________________________________________\n",
      "dense_3 (Dense)              (None, 200)               40200     \n",
      "_________________________________________________________________\n",
      "dropout_3 (Dropout)          (None, 200)               0         \n",
      "_________________________________________________________________\n",
      "dense_4 (Dense)              (None, 1)                 201       \n",
      "=================================================================\n",
      "Total params: 85,801\n",
      "Trainable params: 85,801\n",
      "Non-trainable params: 0\n",
      "_________________________________________________________________\n"
     ]
    }
   ],
   "source": [
    "model = Sequential()\n",
    "model.add(Dense(200, input_dim=X_val.shape[1], activation=\"relu\",kernel_regularizer=regularizers.l2(0.01)))\n",
    "model.add(Dropout(0.5))\n",
    "model.add(Dense(200, activation=\"relu\"))\n",
    "model.add(Dropout(0.5))\n",
    "model.add(Dense(200, activation=\"relu\"))\n",
    "model.add(Dropout(0.5))\n",
    "#model.add(Dense(50, activation=\"relu\"))\n",
    "#model.add(Dropout(0.05))\n",
    "\n",
    "model.add(Dense(1, activation=\"sigmoid\"))\n",
    "\n",
    "\n",
    "model.compile(optimizer='adagrad',\n",
    "              loss='binary_crossentropy',\n",
    "              metrics=['accuracy'])\n",
    "\n",
    "model.summary()"
   ]
  },
  {
   "cell_type": "code",
   "execution_count": 17,
   "metadata": {},
   "outputs": [
    {
     "name": "stdout",
     "output_type": "stream",
     "text": [
      "Model: \"sequential_1\"\n",
      "_________________________________________________________________\n",
      "Layer (type)                 Output Shape              Param #   \n",
      "=================================================================\n",
      "dense_1 (Dense)              (None, 300)               7800      \n",
      "_________________________________________________________________\n",
      "dropout_1 (Dropout)          (None, 300)               0         \n",
      "_________________________________________________________________\n",
      "dense_2 (Dense)              (None, 200)               60200     \n",
      "_________________________________________________________________\n",
      "dropout_2 (Dropout)          (None, 200)               0         \n",
      "_________________________________________________________________\n",
      "dense_3 (Dense)              (None, 200)               40200     \n",
      "_________________________________________________________________\n",
      "dropout_3 (Dropout)          (None, 200)               0         \n",
      "_________________________________________________________________\n",
      "dense_4 (Dense)              (None, 50)                10050     \n",
      "_________________________________________________________________\n",
      "dropout_4 (Dropout)          (None, 50)                0         \n",
      "_________________________________________________________________\n",
      "dense_5 (Dense)              (None, 1)                 51        \n",
      "=================================================================\n",
      "Total params: 118,301\n",
      "Trainable params: 118,301\n",
      "Non-trainable params: 0\n",
      "_________________________________________________________________\n"
     ]
    }
   ],
   "source": [
    "model = Sequential()\n",
    "model.add(Dense(300, input_dim=X_val.shape[1], activation=\"relu\",kernel_regularizer=regularizers.l2(0.01)))\n",
    "model.add(Dropout(0.1))\n",
    "model.add(Dense(200, activation=\"relu\",kernel_regularizer=regularizers.l2(0.01)))\n",
    "model.add(Dropout(0.1))\n",
    "model.add(Dense(200, activation=\"relu\"))\n",
    "model.add(Dropout(0.05))\n",
    "model.add(Dense(50, activation=\"relu\"))\n",
    "model.add(Dropout(0.05))\n",
    "\n",
    "model.add(Dense(1, activation=\"sigmoid\"))\n",
    "\n",
    "\n",
    "model.compile(optimizer='adagrad',\n",
    "              loss='binary_crossentropy',\n",
    "              metrics=['accuracy'])\n",
    "\n",
    "model.summary()"
   ]
  },
  {
   "cell_type": "code",
   "execution_count": 16,
   "metadata": {
    "ExecuteTime": {
     "end_time": "2020-05-03T19:43:37.659152Z",
     "start_time": "2020-05-03T19:43:37.313696Z"
    }
   },
   "outputs": [
    {
     "name": "stdout",
     "output_type": "stream",
     "text": [
      "Model: \"sequential_2\"\n",
      "_________________________________________________________________\n",
      "Layer (type)                 Output Shape              Param #   \n",
      "=================================================================\n",
      "dense_9 (Dense)              (None, 100)               2600      \n",
      "_________________________________________________________________\n",
      "dropout_8 (Dropout)          (None, 100)               0         \n",
      "_________________________________________________________________\n",
      "dense_10 (Dense)             (None, 100)               10100     \n",
      "_________________________________________________________________\n",
      "dropout_9 (Dropout)          (None, 100)               0         \n",
      "_________________________________________________________________\n",
      "dense_11 (Dense)             (None, 100)               10100     \n",
      "_________________________________________________________________\n",
      "dropout_10 (Dropout)         (None, 100)               0         \n",
      "_________________________________________________________________\n",
      "dense_12 (Dense)             (None, 50)                5050      \n",
      "_________________________________________________________________\n",
      "dropout_11 (Dropout)         (None, 50)                0         \n",
      "_________________________________________________________________\n",
      "dense_13 (Dense)             (None, 50)                2550      \n",
      "_________________________________________________________________\n",
      "dropout_12 (Dropout)         (None, 50)                0         \n",
      "_________________________________________________________________\n",
      "dense_14 (Dense)             (None, 50)                2550      \n",
      "_________________________________________________________________\n",
      "dropout_13 (Dropout)         (None, 50)                0         \n",
      "_________________________________________________________________\n",
      "dense_15 (Dense)             (None, 50)                2550      \n",
      "_________________________________________________________________\n",
      "dropout_14 (Dropout)         (None, 50)                0         \n",
      "_________________________________________________________________\n",
      "dense_16 (Dense)             (None, 1)                 51        \n",
      "=================================================================\n",
      "Total params: 35,551\n",
      "Trainable params: 35,551\n",
      "Non-trainable params: 0\n",
      "_________________________________________________________________\n"
     ]
    }
   ],
   "source": [
    "model = Sequential()\n",
    "model.add(Dense(200, input_dim=X_val.shape[1], activation=\"relu\",kernel_regularizer=regularizers.l2(0.01)))\n",
    "model.add(Dropout(0.1))\n",
    "model.add(Dense(100, activation=\"relu\",kernel_regularizer=regularizers.l2(0.01)))\n",
    "model.add(Dropout(0.1))\n",
    "model.add(Dense(100, activation=\"relu\"))\n",
    "model.add(Dropout(0.05))\n",
    "model.add(Dense(50, activation=\"relu\"))\n",
    "model.add(Dropout(0.05))\n",
    "model.add(Dense(50, activation=\"relu\"))\n",
    "model.add(Dropout(0.05))\n",
    "model.add(Dense(50, activation=\"relu\"))\n",
    "model.add(Dropout(0.05))\n",
    "model.add(Dense(50, activation=\"relu\"))\n",
    "model.add(Dropout(0.05))\n",
    "model.add(Dense(50, activation=\"relu\"))\n",
    "model.add(Dropout(0.05))\n",
    "model.add(Dense(1, activation=\"sigmoid\"))\n",
    "\n",
    "\n",
    "model.compile(optimizer='adagrad',\n",
    "              loss='binary_crossentropy',\n",
    "              metrics=['accuracy'])\n",
    "\n",
    "model.summary()"
   ]
  },
  {
   "cell_type": "code",
   "execution_count": 23,
   "metadata": {},
   "outputs": [
    {
     "name": "stdout",
     "output_type": "stream",
     "text": [
      "Model: \"sequential_2\"\n",
      "_________________________________________________________________\n",
      "Layer (type)                 Output Shape              Param #   \n",
      "=================================================================\n",
      "dense_6 (Dense)              (None, 200)               5200      \n",
      "_________________________________________________________________\n",
      "dropout_5 (Dropout)          (None, 200)               0         \n",
      "_________________________________________________________________\n",
      "dense_7 (Dense)              (None, 100)               20100     \n",
      "_________________________________________________________________\n",
      "dropout_6 (Dropout)          (None, 100)               0         \n",
      "_________________________________________________________________\n",
      "dense_8 (Dense)              (None, 100)               10100     \n",
      "_________________________________________________________________\n",
      "dropout_7 (Dropout)          (None, 100)               0         \n",
      "_________________________________________________________________\n",
      "dense_9 (Dense)              (None, 50)                5050      \n",
      "_________________________________________________________________\n",
      "dropout_8 (Dropout)          (None, 50)                0         \n",
      "_________________________________________________________________\n",
      "dense_10 (Dense)             (None, 50)                2550      \n",
      "_________________________________________________________________\n",
      "dropout_9 (Dropout)          (None, 50)                0         \n",
      "_________________________________________________________________\n",
      "dense_11 (Dense)             (None, 50)                2550      \n",
      "_________________________________________________________________\n",
      "dropout_10 (Dropout)         (None, 50)                0         \n",
      "_________________________________________________________________\n",
      "dense_12 (Dense)             (None, 1)                 51        \n",
      "=================================================================\n",
      "Total params: 45,601\n",
      "Trainable params: 45,601\n",
      "Non-trainable params: 0\n",
      "_________________________________________________________________\n"
     ]
    }
   ],
   "source": [
    "model = Sequential()\n",
    "model.add(Dense(200, input_dim=X_val.shape[1], activation=\"relu\",kernel_regularizer=regularizers.l2(0.01)))\n",
    "model.add(Dropout(0.1))\n",
    "model.add(Dense(100, activation=\"relu\",kernel_regularizer=regularizers.l2(0.01)))\n",
    "model.add(Dropout(0.1))\n",
    "model.add(Dense(100, activation=\"relu\"))\n",
    "model.add(Dropout(0.05))\n",
    "model.add(Dense(50, activation=\"relu\"))\n",
    "model.add(Dropout(0.05))\n",
    "model.add(Dense(50, activation=\"relu\"))\n",
    "model.add(Dropout(0.05))\n",
    "model.add(Dense(50, activation=\"relu\"))\n",
    "model.add(Dropout(0.05))\n",
    "model.add(Dense(1, activation=\"sigmoid\"))\n",
    "\n",
    "\n",
    "model.compile(optimizer='adam',\n",
    "              loss='binary_crossentropy',\n",
    "              metrics=['accuracy'])\n",
    "\n",
    "model.summary()"
   ]
  },
  {
   "cell_type": "code",
   "execution_count": 50,
   "metadata": {
    "ExecuteTime": {
     "end_time": "2020-05-03T19:42:50.162047Z",
     "start_time": "2020-05-03T19:42:49.929560Z"
    }
   },
   "outputs": [
    {
     "name": "stdout",
     "output_type": "stream",
     "text": [
      "Model: \"sequential_2\"\n",
      "_________________________________________________________________\n",
      "Layer (type)                 Output Shape              Param #   \n",
      "=================================================================\n",
      "dense_8 (Dense)              (None, 100)               2200      \n",
      "_________________________________________________________________\n",
      "dropout_7 (Dropout)          (None, 100)               0         \n",
      "_________________________________________________________________\n",
      "dense_9 (Dense)              (None, 100)               10100     \n",
      "_________________________________________________________________\n",
      "dropout_8 (Dropout)          (None, 100)               0         \n",
      "_________________________________________________________________\n",
      "dense_10 (Dense)             (None, 100)               10100     \n",
      "_________________________________________________________________\n",
      "dropout_9 (Dropout)          (None, 100)               0         \n",
      "_________________________________________________________________\n",
      "dense_11 (Dense)             (None, 100)               10100     \n",
      "_________________________________________________________________\n",
      "dropout_10 (Dropout)         (None, 100)               0         \n",
      "_________________________________________________________________\n",
      "dense_12 (Dense)             (None, 1)                 101       \n",
      "=================================================================\n",
      "Total params: 32,601\n",
      "Trainable params: 32,601\n",
      "Non-trainable params: 0\n",
      "_________________________________________________________________\n"
     ]
    }
   ],
   "source": [
    "model = Sequential()\n",
    "model.add(Dense(100, input_dim=X_val.shape[1], activation=\"relu\",kernel_regularizer=regularizers.l2(0.01)))\n",
    "model.add(Dropout(0.1))\n",
    "model.add(Dense(100, activation=\"relu\",kernel_regularizer=regularizers.l2(0.01)))\n",
    "model.add(Dropout(0.1))\n",
    "model.add(Dense(100, activation=\"relu\"))\n",
    "model.add(Dropout(0.05))\n",
    "model.add(Dense(100, activation=\"relu\"))\n",
    "model.add(Dropout(0.05))\n",
    "model.add(Dense(1, activation=\"sigmoid\"))\n",
    "\n",
    "\n",
    "model.compile(optimizer='adagrad',\n",
    "              loss='binary_crossentropy',\n",
    "              metrics=['accuracy'])\n",
    "\n",
    "model.summary()"
   ]
  },
  {
   "cell_type": "code",
   "execution_count": 23,
   "metadata": {
    "ExecuteTime": {
     "end_time": "2020-04-27T20:43:36.141251Z",
     "start_time": "2020-04-27T20:43:36.131252Z"
    }
   },
   "outputs": [],
   "source": [
    "import math\n",
    "def step_decay(epoch):\n",
    "    initial_lrate = 1\n",
    "    drop = 0.5\n",
    "    epochs_drop = 2.0\n",
    "    lrate = initial_lrate * math.pow(drop, math.floor((1+epoch)/epochs_drop))\n",
    "    if lrate < 0.005: return 0.005\n",
    "    return lrate"
   ]
  },
  {
   "cell_type": "code",
   "execution_count": 11,
   "metadata": {},
   "outputs": [],
   "source": [
    "from keras import models\n",
    "model = models.load_model(model_dir+ \"/model_v{}.hd5\".format(model_version))\n",
    "scaler = pickle.load(open(model_dir+ \"/scaler_model_v{}.pkl\".format(model_version), \"rb\"))"
   ]
  },
  {
   "cell_type": "code",
   "execution_count": 25,
   "metadata": {
    "ExecuteTime": {
     "end_time": "2020-05-03T17:51:50.420166Z",
     "start_time": "2020-05-03T17:00:34.510038Z"
    },
    "scrolled": false
   },
   "outputs": [
    {
     "name": "stdout",
     "output_type": "stream",
     "text": [
      "Train on 11602865 samples, validate on 2900717 samples\n",
      "Epoch 201/600\n",
      "11602865/11602865 [==============================] - 53s 5us/step - loss: 0.2201 - accuracy: 0.9498 - val_loss: 0.2252 - val_accuracy: 0.9514\n",
      "\n",
      "Epoch 00201: val_loss improved from inf to 0.22523, saving model to ../models/v17_joinde/model_v2.hd5\n",
      "Epoch 202/600\n",
      "11602865/11602865 [==============================] - 51s 4us/step - loss: 0.2199 - accuracy: 0.9498 - val_loss: 0.2248 - val_accuracy: 0.9494\n",
      "\n",
      "Epoch 00202: val_loss improved from 0.22523 to 0.22477, saving model to ../models/v17_joinde/model_v2.hd5\n",
      "Epoch 203/600\n",
      "11602865/11602865 [==============================] - 51s 4us/step - loss: 0.2198 - accuracy: 0.9499 - val_loss: 0.2251 - val_accuracy: 0.9465\n",
      "\n",
      "Epoch 00203: val_loss did not improve from 0.22477\n",
      "Epoch 204/600\n",
      "11602865/11602865 [==============================] - 52s 4us/step - loss: 0.2198 - accuracy: 0.9499 - val_loss: 0.2247 - val_accuracy: 0.9489\n",
      "\n",
      "Epoch 00204: val_loss improved from 0.22477 to 0.22471, saving model to ../models/v17_joinde/model_v2.hd5\n",
      "Epoch 205/600\n",
      "11602865/11602865 [==============================] - 52s 4us/step - loss: 0.2197 - accuracy: 0.9498 - val_loss: 0.2246 - val_accuracy: 0.9497\n",
      "\n",
      "Epoch 00205: val_loss improved from 0.22471 to 0.22461, saving model to ../models/v17_joinde/model_v2.hd5\n",
      "Epoch 206/600\n",
      "11602865/11602865 [==============================] - 52s 4us/step - loss: 0.2196 - accuracy: 0.9499 - val_loss: 0.2248 - val_accuracy: 0.9473\n",
      "\n",
      "Epoch 00206: val_loss did not improve from 0.22461\n",
      "Epoch 207/600\n",
      "11602865/11602865 [==============================] - 52s 4us/step - loss: 0.2195 - accuracy: 0.9499 - val_loss: 0.2249 - val_accuracy: 0.9503\n",
      "\n",
      "Epoch 00207: val_loss did not improve from 0.22461\n",
      "Epoch 208/600\n",
      "11602865/11602865 [==============================] - 52s 4us/step - loss: 0.2195 - accuracy: 0.9499 - val_loss: 0.2244 - val_accuracy: 0.9490\n",
      "\n",
      "Epoch 00208: val_loss improved from 0.22461 to 0.22435, saving model to ../models/v17_joinde/model_v2.hd5\n",
      "Epoch 209/600\n",
      "11602865/11602865 [==============================] - 52s 4us/step - loss: 0.2194 - accuracy: 0.9499 - val_loss: 0.2246 - val_accuracy: 0.9494\n",
      "\n",
      "Epoch 00209: val_loss did not improve from 0.22435\n",
      "Epoch 210/600\n",
      "11602865/11602865 [==============================] - 53s 5us/step - loss: 0.2193 - accuracy: 0.9499 - val_loss: 0.2247 - val_accuracy: 0.9480\n",
      "\n",
      "Epoch 00210: val_loss did not improve from 0.22435\n",
      "Epoch 211/600\n",
      "11602865/11602865 [==============================] - 52s 4us/step - loss: 0.2193 - accuracy: 0.9499 - val_loss: 0.2244 - val_accuracy: 0.9496\n",
      "\n",
      "Epoch 00211: val_loss did not improve from 0.22435\n",
      "Epoch 212/600\n",
      "11602865/11602865 [==============================] - 52s 4us/step - loss: 0.2192 - accuracy: 0.9499 - val_loss: 0.2246 - val_accuracy: 0.9507\n",
      "\n",
      "Epoch 00212: val_loss did not improve from 0.22435\n",
      "Epoch 213/600\n",
      "11602865/11602865 [==============================] - 52s 4us/step - loss: 0.2191 - accuracy: 0.9499 - val_loss: 0.2245 - val_accuracy: 0.9492\n",
      "\n",
      "Epoch 00213: val_loss did not improve from 0.22435\n",
      "Epoch 214/600\n",
      "11602865/11602865 [==============================] - 52s 4us/step - loss: 0.2190 - accuracy: 0.9500 - val_loss: 0.2243 - val_accuracy: 0.9494\n",
      "\n",
      "Epoch 00214: val_loss improved from 0.22435 to 0.22432, saving model to ../models/v17_joinde/model_v2.hd5\n",
      "Epoch 215/600\n",
      "11602865/11602865 [==============================] - 52s 4us/step - loss: 0.2190 - accuracy: 0.9500 - val_loss: 0.2244 - val_accuracy: 0.9499\n",
      "\n",
      "Epoch 00215: val_loss did not improve from 0.22432\n",
      "Epoch 216/600\n",
      "11602865/11602865 [==============================] - 52s 4us/step - loss: 0.2189 - accuracy: 0.9500 - val_loss: 0.2243 - val_accuracy: 0.9503\n",
      "\n",
      "Epoch 00216: val_loss improved from 0.22432 to 0.22428, saving model to ../models/v17_joinde/model_v2.hd5\n",
      "Epoch 217/600\n",
      "11602865/11602865 [==============================] - 52s 5us/step - loss: 0.2188 - accuracy: 0.9500 - val_loss: 0.2243 - val_accuracy: 0.9499\n",
      "\n",
      "Epoch 00217: val_loss did not improve from 0.22428\n",
      "Epoch 218/600\n",
      "11602865/11602865 [==============================] - 53s 5us/step - loss: 0.2187 - accuracy: 0.9499 - val_loss: 0.2245 - val_accuracy: 0.9512\n",
      "\n",
      "Epoch 00218: val_loss did not improve from 0.22428\n",
      "Epoch 219/600\n",
      "11602865/11602865 [==============================] - 52s 5us/step - loss: 0.2187 - accuracy: 0.9500 - val_loss: 0.2242 - val_accuracy: 0.9512\n",
      "\n",
      "Epoch 00219: val_loss improved from 0.22428 to 0.22424, saving model to ../models/v17_joinde/model_v2.hd5\n",
      "Epoch 220/600\n",
      "11602865/11602865 [==============================] - 53s 5us/step - loss: 0.2186 - accuracy: 0.9500 - val_loss: 0.2243 - val_accuracy: 0.9502\n",
      "\n",
      "Epoch 00220: val_loss did not improve from 0.22424\n",
      "Epoch 221/600\n",
      "11602865/11602865 [==============================] - 53s 5us/step - loss: 0.2185 - accuracy: 0.9501 - val_loss: 0.2242 - val_accuracy: 0.9505\n",
      "\n",
      "Epoch 00221: val_loss improved from 0.22424 to 0.22420, saving model to ../models/v17_joinde/model_v2.hd5\n",
      "Epoch 222/600\n",
      "11602865/11602865 [==============================] - 52s 5us/step - loss: 0.2185 - accuracy: 0.9500 - val_loss: 0.2242 - val_accuracy: 0.9495\n",
      "\n",
      "Epoch 00222: val_loss did not improve from 0.22420\n",
      "Epoch 223/600\n",
      "11602865/11602865 [==============================] - 52s 5us/step - loss: 0.2184 - accuracy: 0.9501 - val_loss: 0.2242 - val_accuracy: 0.9481\n",
      "\n",
      "Epoch 00223: val_loss improved from 0.22420 to 0.22415, saving model to ../models/v17_joinde/model_v2.hd5\n",
      "Epoch 224/600\n",
      "11602865/11602865 [==============================] - 52s 4us/step - loss: 0.2184 - accuracy: 0.9501 - val_loss: 0.2240 - val_accuracy: 0.9488\n",
      "\n",
      "Epoch 00224: val_loss improved from 0.22415 to 0.22396, saving model to ../models/v17_joinde/model_v2.hd5\n",
      "Epoch 225/600\n",
      "11602865/11602865 [==============================] - 52s 4us/step - loss: 0.2182 - accuracy: 0.9501 - val_loss: 0.2240 - val_accuracy: 0.9501\n",
      "\n",
      "Epoch 00225: val_loss did not improve from 0.22396\n",
      "Epoch 226/600\n",
      "11602865/11602865 [==============================] - 52s 4us/step - loss: 0.2182 - accuracy: 0.9500 - val_loss: 0.2244 - val_accuracy: 0.9515\n",
      "\n",
      "Epoch 00226: val_loss did not improve from 0.22396\n",
      "Epoch 227/600\n",
      "11602865/11602865 [==============================] - 52s 5us/step - loss: 0.2182 - accuracy: 0.9501 - val_loss: 0.2239 - val_accuracy: 0.9498\n",
      "\n",
      "Epoch 00227: val_loss improved from 0.22396 to 0.22390, saving model to ../models/v17_joinde/model_v2.hd5\n",
      "Epoch 228/600\n",
      "11602865/11602865 [==============================] - 52s 4us/step - loss: 0.2181 - accuracy: 0.9501 - val_loss: 0.2241 - val_accuracy: 0.9507\n",
      "\n",
      "Epoch 00228: val_loss did not improve from 0.22390\n",
      "Epoch 229/600\n",
      "11602865/11602865 [==============================] - 53s 5us/step - loss: 0.2180 - accuracy: 0.9501 - val_loss: 0.2238 - val_accuracy: 0.9488\n",
      "\n",
      "Epoch 00229: val_loss improved from 0.22390 to 0.22383, saving model to ../models/v17_joinde/model_v2.hd5\n",
      "Epoch 230/600\n",
      "11602865/11602865 [==============================] - 53s 5us/step - loss: 0.2181 - accuracy: 0.9501 - val_loss: 0.2239 - val_accuracy: 0.9511\n",
      "\n",
      "Epoch 00230: val_loss did not improve from 0.22383\n",
      "Epoch 231/600\n",
      "11602865/11602865 [==============================] - 52s 5us/step - loss: 0.2180 - accuracy: 0.9501 - val_loss: 0.2238 - val_accuracy: 0.9501\n",
      "\n",
      "Epoch 00231: val_loss did not improve from 0.22383\n",
      "Epoch 232/600\n",
      "11602865/11602865 [==============================] - 53s 5us/step - loss: 0.2178 - accuracy: 0.9501 - val_loss: 0.2240 - val_accuracy: 0.9510\n",
      "\n",
      "Epoch 00232: val_loss did not improve from 0.22383\n",
      "Epoch 233/600\n",
      "11602865/11602865 [==============================] - 52s 5us/step - loss: 0.2178 - accuracy: 0.9501 - val_loss: 0.2238 - val_accuracy: 0.9505\n",
      "\n",
      "Epoch 00233: val_loss improved from 0.22383 to 0.22377, saving model to ../models/v17_joinde/model_v2.hd5\n",
      "Epoch 234/600\n",
      "11602865/11602865 [==============================] - 52s 5us/step - loss: 0.2177 - accuracy: 0.9502 - val_loss: 0.2238 - val_accuracy: 0.9484\n",
      "\n",
      "Epoch 00234: val_loss did not improve from 0.22377\n",
      "Epoch 235/600\n",
      "11602865/11602865 [==============================] - 52s 4us/step - loss: 0.2177 - accuracy: 0.9501 - val_loss: 0.2238 - val_accuracy: 0.9482\n",
      "\n",
      "Epoch 00235: val_loss did not improve from 0.22377\n",
      "Epoch 236/600\n"
     ]
    },
    {
     "name": "stdout",
     "output_type": "stream",
     "text": [
      "11602865/11602865 [==============================] - 52s 4us/step - loss: 0.2176 - accuracy: 0.9502 - val_loss: 0.2236 - val_accuracy: 0.9496\n",
      "\n",
      "Epoch 00236: val_loss improved from 0.22377 to 0.22359, saving model to ../models/v17_joinde/model_v2.hd5\n",
      "Epoch 237/600\n",
      "11602865/11602865 [==============================] - 52s 4us/step - loss: 0.2177 - accuracy: 0.9502 - val_loss: 0.2244 - val_accuracy: 0.9499\n",
      "\n",
      "Epoch 00237: val_loss did not improve from 0.22359\n",
      "Epoch 238/600\n",
      "11602865/11602865 [==============================] - 52s 4us/step - loss: 0.2175 - accuracy: 0.9502 - val_loss: 0.2238 - val_accuracy: 0.9492\n",
      "\n",
      "Epoch 00238: val_loss did not improve from 0.22359\n",
      "Epoch 239/600\n",
      "11602865/11602865 [==============================] - 52s 4us/step - loss: 0.2175 - accuracy: 0.9502 - val_loss: 0.2237 - val_accuracy: 0.9486\n",
      "\n",
      "Epoch 00239: val_loss did not improve from 0.22359\n",
      "Epoch 240/600\n",
      "11602865/11602865 [==============================] - 53s 5us/step - loss: 0.2174 - accuracy: 0.9502 - val_loss: 0.2238 - val_accuracy: 0.9493\n",
      "\n",
      "Epoch 00240: val_loss did not improve from 0.22359\n",
      "Epoch 241/600\n",
      "11602865/11602865 [==============================] - 53s 5us/step - loss: 0.2174 - accuracy: 0.9502 - val_loss: 0.2236 - val_accuracy: 0.9509\n",
      "\n",
      "Epoch 00241: val_loss improved from 0.22359 to 0.22356, saving model to ../models/v17_joinde/model_v2.hd5\n",
      "Epoch 242/600\n",
      "11602865/11602865 [==============================] - 53s 5us/step - loss: 0.2172 - accuracy: 0.9502 - val_loss: 0.2236 - val_accuracy: 0.9495\n",
      "\n",
      "Epoch 00242: val_loss did not improve from 0.22356\n",
      "Epoch 243/600\n",
      "11602865/11602865 [==============================] - 52s 5us/step - loss: 0.2173 - accuracy: 0.9502 - val_loss: 0.2238 - val_accuracy: 0.9471\n",
      "\n",
      "Epoch 00243: val_loss did not improve from 0.22356\n",
      "Epoch 244/600\n",
      "11602865/11602865 [==============================] - 53s 5us/step - loss: 0.2173 - accuracy: 0.9503 - val_loss: 0.2238 - val_accuracy: 0.9506\n",
      "\n",
      "Epoch 00244: val_loss did not improve from 0.22356\n",
      "Epoch 245/600\n",
      "11602865/11602865 [==============================] - 52s 5us/step - loss: 0.2171 - accuracy: 0.9502 - val_loss: 0.2238 - val_accuracy: 0.9515\n",
      "\n",
      "Epoch 00245: val_loss did not improve from 0.22356\n",
      "Epoch 246/600\n",
      "11602865/11602865 [==============================] - 51s 4us/step - loss: 0.2170 - accuracy: 0.9503 - val_loss: 0.2235 - val_accuracy: 0.9505\n",
      "\n",
      "Epoch 00246: val_loss improved from 0.22356 to 0.22352, saving model to ../models/v17_joinde/model_v2.hd5\n",
      "Epoch 247/600\n",
      "11602865/11602865 [==============================] - 52s 4us/step - loss: 0.2171 - accuracy: 0.9503 - val_loss: 0.2235 - val_accuracy: 0.9504\n",
      "\n",
      "Epoch 00247: val_loss improved from 0.22352 to 0.22352, saving model to ../models/v17_joinde/model_v2.hd5\n",
      "Epoch 248/600\n",
      "11602865/11602865 [==============================] - 52s 4us/step - loss: 0.2169 - accuracy: 0.9502 - val_loss: 0.2234 - val_accuracy: 0.9484\n",
      "\n",
      "Epoch 00248: val_loss improved from 0.22352 to 0.22338, saving model to ../models/v17_joinde/model_v2.hd5\n",
      "Epoch 249/600\n",
      "11602865/11602865 [==============================] - 52s 4us/step - loss: 0.2169 - accuracy: 0.9503 - val_loss: 0.2234 - val_accuracy: 0.9498\n",
      "\n",
      "Epoch 00249: val_loss did not improve from 0.22338\n",
      "Epoch 250/600\n",
      "11602865/11602865 [==============================] - 52s 4us/step - loss: 0.2168 - accuracy: 0.9503 - val_loss: 0.2234 - val_accuracy: 0.9497\n",
      "\n",
      "Epoch 00250: val_loss did not improve from 0.22338\n",
      "Epoch 251/600\n",
      "11602865/11602865 [==============================] - 52s 5us/step - loss: 0.2168 - accuracy: 0.9503 - val_loss: 0.2235 - val_accuracy: 0.9507\n",
      "\n",
      "Epoch 00251: val_loss did not improve from 0.22338\n",
      "Epoch 252/600\n",
      "11602865/11602865 [==============================] - 53s 5us/step - loss: 0.2169 - accuracy: 0.9503 - val_loss: 0.2233 - val_accuracy: 0.9494\n",
      "\n",
      "Epoch 00252: val_loss improved from 0.22338 to 0.22335, saving model to ../models/v17_joinde/model_v2.hd5\n",
      "Epoch 253/600\n",
      "11602865/11602865 [==============================] - 52s 5us/step - loss: 0.2167 - accuracy: 0.9503 - val_loss: 0.2236 - val_accuracy: 0.9487\n",
      "\n",
      "Epoch 00253: val_loss did not improve from 0.22335\n",
      "Epoch 254/600\n",
      "11602865/11602865 [==============================] - 52s 5us/step - loss: 0.2166 - accuracy: 0.9504 - val_loss: 0.2232 - val_accuracy: 0.9497\n",
      "\n",
      "Epoch 00254: val_loss improved from 0.22335 to 0.22324, saving model to ../models/v17_joinde/model_v2.hd5\n",
      "Epoch 255/600\n",
      "11602865/11602865 [==============================] - 52s 5us/step - loss: 0.2166 - accuracy: 0.9503 - val_loss: 0.2237 - val_accuracy: 0.9509\n",
      "\n",
      "Epoch 00255: val_loss did not improve from 0.22324\n",
      "Epoch 256/600\n",
      "11602865/11602865 [==============================] - 52s 4us/step - loss: 0.2167 - accuracy: 0.9503 - val_loss: 0.2234 - val_accuracy: 0.9500\n",
      "\n",
      "Epoch 00256: val_loss did not improve from 0.22324\n",
      "Epoch 257/600\n",
      "11602865/11602865 [==============================] - 51s 4us/step - loss: 0.2166 - accuracy: 0.9503 - val_loss: 0.2232 - val_accuracy: 0.9492\n",
      "\n",
      "Epoch 00257: val_loss did not improve from 0.22324\n",
      "Epoch 258/600\n",
      "11602865/11602865 [==============================] - 52s 4us/step - loss: 0.2165 - accuracy: 0.9504 - val_loss: 0.2234 - val_accuracy: 0.9504\n",
      "\n",
      "Epoch 00258: val_loss did not improve from 0.22324\n",
      "Epoch 259/600\n",
      "11602865/11602865 [==============================] - 52s 4us/step - loss: 0.2165 - accuracy: 0.9504 - val_loss: 0.2233 - val_accuracy: 0.9502\n",
      "\n",
      "Epoch 00259: val_loss did not improve from 0.22324\n",
      "Epoch 260/600\n",
      "11602865/11602865 [==============================] - 52s 4us/step - loss: 0.2163 - accuracy: 0.9504 - val_loss: 0.2232 - val_accuracy: 0.9491\n",
      "\n",
      "Epoch 00260: val_loss improved from 0.22324 to 0.22315, saving model to ../models/v17_joinde/model_v2.hd5\n",
      "Epoch 261/600\n",
      "11602865/11602865 [==============================] - 52s 4us/step - loss: 0.2165 - accuracy: 0.9503 - val_loss: 0.2233 - val_accuracy: 0.9497\n",
      "\n",
      "Epoch 00261: val_loss did not improve from 0.22315\n",
      "Epoch 262/600\n",
      "11602865/11602865 [==============================] - 52s 5us/step - loss: 0.2162 - accuracy: 0.9504 - val_loss: 0.2231 - val_accuracy: 0.9503\n",
      "\n",
      "Epoch 00262: val_loss improved from 0.22315 to 0.22308, saving model to ../models/v17_joinde/model_v2.hd5\n",
      "Epoch 263/600\n",
      "11602865/11602865 [==============================] - 52s 5us/step - loss: 0.2162 - accuracy: 0.9504 - val_loss: 0.2233 - val_accuracy: 0.9501\n",
      "\n",
      "Epoch 00265: val_loss did not improve from 0.22308\n",
      "Epoch 266/600\n",
      "11602865/11602865 [==============================] - 52s 4us/step - loss: 0.2162 - accuracy: 0.9504 - val_loss: 0.2231 - val_accuracy: 0.9505\n",
      "\n",
      "Epoch 00266: val_loss did not improve from 0.22308\n",
      "Epoch 267/600\n",
      "11602865/11602865 [==============================] - 52s 4us/step - loss: 0.2161 - accuracy: 0.9504 - val_loss: 0.2232 - val_accuracy: 0.9501\n",
      "\n",
      "Epoch 00267: val_loss did not improve from 0.22308\n",
      "Epoch 268/600\n",
      "11602865/11602865 [==============================] - 51s 4us/step - loss: 0.2160 - accuracy: 0.9504 - val_loss: 0.2232 - val_accuracy: 0.9499\n",
      "\n",
      "Epoch 00268: val_loss did not improve from 0.22308\n",
      "Epoch 269/600\n",
      " 8974336/11602865 [======================>.......] - ETA: 10s - loss: 0.2156 - accuracy: 0.9505"
     ]
    },
    {
     "name": "stderr",
     "output_type": "stream",
     "text": [
      "IOPub message rate exceeded.\n",
      "The notebook server will temporarily stop sending output\n",
      "to the client in order to avoid crashing it.\n",
      "To change this limit, set the config variable\n",
      "`--NotebookApp.iopub_msg_rate_limit`.\n",
      "\n",
      "Current values:\n",
      "NotebookApp.iopub_msg_rate_limit=1000.0 (msgs/sec)\n",
      "NotebookApp.rate_limit_window=3.0 (secs)\n",
      "\n"
     ]
    },
    {
     "name": "stdout",
     "output_type": "stream",
     "text": [
      "11602865/11602865 [==============================] - 52s 4us/step - loss: 0.2159 - accuracy: 0.9504 - val_loss: 0.2231 - val_accuracy: 0.9508\n",
      "\n",
      "Epoch 00272: val_loss did not improve from 0.22292\n",
      "Epoch 273/600\n",
      "11602865/11602865 [==============================] - 52s 4us/step - loss: 0.2158 - accuracy: 0.9505 - val_loss: 0.2231 - val_accuracy: 0.9499\n",
      "\n",
      "Epoch 00273: val_loss did not improve from 0.22292\n",
      "Epoch 274/600\n",
      "11602865/11602865 [==============================] - 52s 4us/step - loss: 0.2158 - accuracy: 0.9505 - val_loss: 0.2234 - val_accuracy: 0.9522\n",
      "\n",
      "Epoch 00274: val_loss did not improve from 0.22292\n",
      "Epoch 275/600\n",
      "10702848/11602865 [==========================>...] - ETA: 3s - loss: 0.2159 - accuracy: 0.9504"
     ]
    },
    {
     "name": "stderr",
     "output_type": "stream",
     "text": [
      "IOPub message rate exceeded.\n",
      "The notebook server will temporarily stop sending output\n",
      "to the client in order to avoid crashing it.\n",
      "To change this limit, set the config variable\n",
      "`--NotebookApp.iopub_msg_rate_limit`.\n",
      "\n",
      "Current values:\n",
      "NotebookApp.iopub_msg_rate_limit=1000.0 (msgs/sec)\n",
      "NotebookApp.rate_limit_window=3.0 (secs)\n",
      "\n"
     ]
    },
    {
     "name": "stdout",
     "output_type": "stream",
     "text": [
      "11602865/11602865 [==============================] - 52s 4us/step - loss: 0.2154 - accuracy: 0.9505 - val_loss: 0.2230 - val_accuracy: 0.9499\n",
      "\n",
      "Epoch 00283: val_loss did not improve from 0.22284\n",
      "Epoch 284/600\n",
      "11602865/11602865 [==============================] - 52s 5us/step - loss: 0.2155 - accuracy: 0.9505 - val_loss: 0.2228 - val_accuracy: 0.9487\n",
      "\n",
      "Epoch 00284: val_loss improved from 0.22284 to 0.22284, saving model to ../models/v17_joinde/model_v2.hd5\n",
      "Epoch 285/600\n",
      "11602865/11602865 [==============================] - 52s 5us/step - loss: 0.2154 - accuracy: 0.9505 - val_loss: 0.2231 - val_accuracy: 0.9513\n",
      "\n",
      "Epoch 00285: val_loss did not improve from 0.22284\n",
      "Epoch 286/600\n",
      "11602865/11602865 [==============================] - 52s 4us/step - loss: 0.2154 - accuracy: 0.9505 - val_loss: 0.2229 - val_accuracy: 0.9492\n",
      "\n",
      "Epoch 00286: val_loss did not improve from 0.22284\n",
      "Epoch 287/600\n",
      " 2117632/11602865 [====>.........................] - ETA: 40s - loss: 0.2160 - accuracy: 0.9504"
     ]
    },
    {
     "name": "stderr",
     "output_type": "stream",
     "text": [
      "IOPub message rate exceeded.\n",
      "The notebook server will temporarily stop sending output\n",
      "to the client in order to avoid crashing it.\n",
      "To change this limit, set the config variable\n",
      "`--NotebookApp.iopub_msg_rate_limit`.\n",
      "\n",
      "Current values:\n",
      "NotebookApp.iopub_msg_rate_limit=1000.0 (msgs/sec)\n",
      "NotebookApp.rate_limit_window=3.0 (secs)\n",
      "\n"
     ]
    }
   ],
   "source": [
    "auto_save = ModelCheckpoint(model_dir+ \"/model_v{}.hd5\".format(model_version), monitor='val_loss', \n",
    "                    verbose=1, save_best_only=True, save_weights_only=False, \n",
    "                    mode='auto', period=1)\n",
    "\n",
    "early_stop = EarlyStopping(monitor='val_loss', min_delta=0.0001, \n",
    "                            patience=20, verbose=1)\n",
    "\n",
    "\n",
    "#lr_scheduler = callbacks.LearningRateScheduler(step_decay, verbose=1)\n",
    "\n",
    "history = model.fit(\n",
    "            X_train, y_train,\n",
    "            sample_weight = w_train,\n",
    "            batch_size = 4096,\n",
    "            epochs=600,\n",
    "           initial_epoch=200,\n",
    "            shuffle=True,\n",
    "            validation_data = (X_val, y_val, w_val),\n",
    "            callbacks = [ auto_save, early_stop ] #lr_scheduler\n",
    "            )"
   ]
  },
  {
   "cell_type": "code",
   "execution_count": 26,
   "metadata": {},
   "outputs": [],
   "source": [
    "hist = history.history\n"
   ]
  },
  {
   "cell_type": "code",
   "execution_count": 27,
   "metadata": {},
   "outputs": [
    {
     "data": {
      "text/plain": [
       "{'val_loss': [0.22522940029441027,\n",
       "  0.22476733623196665,\n",
       "  0.2251457854380751,\n",
       "  0.22470787348407084,\n",
       "  0.22461411957698096,\n",
       "  0.22478499895895462,\n",
       "  0.22493440379054716,\n",
       "  0.22435247547990014,\n",
       "  0.2246389330177483,\n",
       "  0.22469660618244755,\n",
       "  0.22438416716548837,\n",
       "  0.2246314817655679,\n",
       "  0.22452696187290144,\n",
       "  0.22432100944145786,\n",
       "  0.2243519657390523,\n",
       "  0.22427641358103254,\n",
       "  0.22431639715500035,\n",
       "  0.2244740793358816,\n",
       "  0.22424337244735265,\n",
       "  0.2243032171464194,\n",
       "  0.22419628949679732,\n",
       "  0.22420830382392856,\n",
       "  0.22415201095381784,\n",
       "  0.22395674047871125,\n",
       "  0.22397500523078742,\n",
       "  0.22440979194257304,\n",
       "  0.22389504684966827,\n",
       "  0.22411613826007978,\n",
       "  0.22382836392621117,\n",
       "  0.22389031798660863,\n",
       "  0.2238447428576711,\n",
       "  0.22403516670017215,\n",
       "  0.22377303339868906,\n",
       "  0.22382784743461748,\n",
       "  0.22380547364593611,\n",
       "  0.22359395930711173,\n",
       "  0.2243865927716876,\n",
       "  0.22381584836752252,\n",
       "  0.2237279983201192,\n",
       "  0.22379488906032646,\n",
       "  0.22356303574606745,\n",
       "  0.22358386872023123,\n",
       "  0.22381152250988492,\n",
       "  0.22378633418740101,\n",
       "  0.22376356632699665,\n",
       "  0.22351923846014296,\n",
       "  0.22351529776016318,\n",
       "  0.22338220088658614,\n",
       "  0.22341749206757336,\n",
       "  0.2234283737543455,\n",
       "  0.2234872823656096,\n",
       "  0.22334765362735093,\n",
       "  0.22355607606891473,\n",
       "  0.22324475520760986,\n",
       "  0.22367256417032805,\n",
       "  0.2233686930962113,\n",
       "  0.22324968018600555,\n",
       "  0.22339816692232717,\n",
       "  0.2232711145528493,\n",
       "  0.2231504193552132,\n",
       "  0.22330504079598942,\n",
       "  0.2230785266237026,\n",
       "  0.22317182191152884,\n",
       "  0.22307556904124506,\n",
       "  0.22329478544174966,\n",
       "  0.22307568446716086,\n",
       "  0.2231506013371476,\n",
       "  0.22323214028870764,\n",
       "  0.22302160966147583,\n",
       "  0.22292266819071221,\n",
       "  0.22314908401777117,\n",
       "  0.22312891973400517,\n",
       "  0.22313158879248204,\n",
       "  0.22341311960307336,\n",
       "  0.22319779214939858,\n",
       "  0.22284043919643048,\n",
       "  0.22312875478505081,\n",
       "  0.22315547030780206,\n",
       "  0.22316248620398335,\n",
       "  0.2229882796883535,\n",
       "  0.22293684034102945,\n",
       "  0.22308543886928908,\n",
       "  0.22304395303309807,\n",
       "  0.22283770367235756,\n",
       "  0.2231455434954615,\n",
       "  0.22287245962476673,\n",
       "  0.22303091640618208,\n",
       "  0.22290143729906722,\n",
       "  0.2231212574206197,\n",
       "  0.22331282227550286],\n",
       " 'val_accuracy': [0.9514199495315552,\n",
       "  0.9493955969810486,\n",
       "  0.9465490579605103,\n",
       "  0.9489367604255676,\n",
       "  0.9496628046035767,\n",
       "  0.9473009705543518,\n",
       "  0.9502657651901245,\n",
       "  0.9490112066268921,\n",
       "  0.9493621587753296,\n",
       "  0.9480252861976624,\n",
       "  0.9496431350708008,\n",
       "  0.9507246017456055,\n",
       "  0.9491539597511292,\n",
       "  0.9494259357452393,\n",
       "  0.949883759021759,\n",
       "  0.9502505660057068,\n",
       "  0.9498782753944397,\n",
       "  0.951159656047821,\n",
       "  0.9512437582015991,\n",
       "  0.9502250552177429,\n",
       "  0.9505129456520081,\n",
       "  0.9494604468345642,\n",
       "  0.9480697512626648,\n",
       "  0.9487798810005188,\n",
       "  0.9501368403434753,\n",
       "  0.9515382051467896,\n",
       "  0.949829638004303,\n",
       "  0.9507421851158142,\n",
       "  0.948826789855957,\n",
       "  0.9511124491691589,\n",
       "  0.9501326680183411,\n",
       "  0.9510114192962646,\n",
       "  0.9504698514938354,\n",
       "  0.9484437704086304,\n",
       "  0.9481797218322754,\n",
       "  0.9495890140533447,\n",
       "  0.9498844742774963,\n",
       "  0.9492028951644897,\n",
       "  0.9485844373703003,\n",
       "  0.9493352770805359,\n",
       "  0.9508583545684814,\n",
       "  0.9494670033454895,\n",
       "  0.9471292495727539,\n",
       "  0.9505943059921265,\n",
       "  0.9515212774276733,\n",
       "  0.9505118727684021,\n",
       "  0.9504460692405701,\n",
       "  0.9483948349952698,\n",
       "  0.9497679471969604,\n",
       "  0.9496896862983704,\n",
       "  0.9507008194923401,\n",
       "  0.9493759870529175,\n",
       "  0.9486568570137024,\n",
       "  0.9496914148330688,\n",
       "  0.9509252309799194,\n",
       "  0.9500144124031067,\n",
       "  0.949240505695343,\n",
       "  0.9503936171531677,\n",
       "  0.9502174854278564,\n",
       "  0.9491487741470337,\n",
       "  0.9496986269950867,\n",
       "  0.9502857327461243,\n",
       "  0.9509217739105225,\n",
       "  0.9502588510513306,\n",
       "  0.9501206278800964,\n",
       "  0.9504677653312683,\n",
       "  0.9500923156738281,\n",
       "  0.949851393699646,\n",
       "  0.9488581418991089,\n",
       "  0.9496821165084839,\n",
       "  0.9486282467842102,\n",
       "  0.9507783651351929,\n",
       "  0.9499078989028931,\n",
       "  0.9521535634994507,\n",
       "  0.9513489007949829,\n",
       "  0.9504622220993042,\n",
       "  0.9515102505683899,\n",
       "  0.9502112865447998,\n",
       "  0.9512292742729187,\n",
       "  0.9509428143501282,\n",
       "  0.9499937295913696,\n",
       "  0.947387158870697,\n",
       "  0.9499427080154419,\n",
       "  0.9487099051475525,\n",
       "  0.9513316750526428,\n",
       "  0.9492177367210388,\n",
       "  0.950598418712616,\n",
       "  0.9484823942184448,\n",
       "  0.9517750144004822,\n",
       "  0.9519363641738892],\n",
       " 'loss': [0.2200560113177354,\n",
       "  0.21989824801782276,\n",
       "  0.21978512831924774,\n",
       "  0.2198374549438035,\n",
       "  0.21966516126526683,\n",
       "  0.2196367905300765,\n",
       "  0.2195362034856036,\n",
       "  0.21946104291356527,\n",
       "  0.21942852501807844,\n",
       "  0.21926615767155996,\n",
       "  0.2193272113126734,\n",
       "  0.21915321563729087,\n",
       "  0.21909767849014766,\n",
       "  0.2190373523974607,\n",
       "  0.21897237964305313,\n",
       "  0.21890196370030546,\n",
       "  0.21881977326287325,\n",
       "  0.2186748727275013,\n",
       "  0.21872364791222315,\n",
       "  0.2185762508499926,\n",
       "  0.21852274794057389,\n",
       "  0.21852954754453305,\n",
       "  0.2183634468161245,\n",
       "  0.21837653393292253,\n",
       "  0.21822759915218162,\n",
       "  0.2182171203989208,\n",
       "  0.21816657667003872,\n",
       "  0.21805474620584334,\n",
       "  0.21799011746583788,\n",
       "  0.21807410321995294,\n",
       "  0.21800230954131583,\n",
       "  0.21777075989200428,\n",
       "  0.2178074379295457,\n",
       "  0.21772292065544102,\n",
       "  0.21765533857464883,\n",
       "  0.21757518692577119,\n",
       "  0.2176717938518661,\n",
       "  0.21746532502618685,\n",
       "  0.21745451395644014,\n",
       "  0.21738957165686978,\n",
       "  0.21736279181462684,\n",
       "  0.21721531690016,\n",
       "  0.21732018068285472,\n",
       "  0.21727566594210168,\n",
       "  0.2171086499563092,\n",
       "  0.21701888648412634,\n",
       "  0.21705939876151806,\n",
       "  0.21694600706591005,\n",
       "  0.21692062574368962,\n",
       "  0.21675155996875692,\n",
       "  0.2168432277547616,\n",
       "  0.2168842689681966,\n",
       "  0.21666253439120406,\n",
       "  0.2166212652844278,\n",
       "  0.2166205152015374,\n",
       "  0.21666615461679398,\n",
       "  0.21660611856879833,\n",
       "  0.21653825976116783,\n",
       "  0.21647350121950257,\n",
       "  0.21632159892409725,\n",
       "  0.21653607014923254,\n",
       "  0.21624811694882398,\n",
       "  0.21632098803501743,\n",
       "  0.21616024156752017,\n",
       "  0.2161857919032317,\n",
       "  0.21619138774160726,\n",
       "  0.21609893737572686,\n",
       "  0.21602960883505187,\n",
       "  0.21607807724933417,\n",
       "  0.21597783150653213,\n",
       "  0.2158894378572756,\n",
       "  0.2158652127183247,\n",
       "  0.21581951799569699,\n",
       "  0.21578797094551433,\n",
       "  0.21583754140420344,\n",
       "  0.21582894634166164,\n",
       "  0.21578090730197225,\n",
       "  0.21560160043499557,\n",
       "  0.21562481992679824,\n",
       "  0.21570567947181704,\n",
       "  0.215617939688412,\n",
       "  0.21551013658733814,\n",
       "  0.2153884821193018,\n",
       "  0.21551935566775085,\n",
       "  0.2153587312409624,\n",
       "  0.21536189689058555,\n",
       "  0.21535450584355442,\n",
       "  0.21532058276736174,\n",
       "  0.21524738627439002,\n",
       "  0.21525019637738307],\n",
       " 'accuracy': [0.9497905,\n",
       "  0.9498237,\n",
       "  0.9498588,\n",
       "  0.9498592,\n",
       "  0.94981325,\n",
       "  0.94986814,\n",
       "  0.9498664,\n",
       "  0.94987655,\n",
       "  0.9499211,\n",
       "  0.9499252,\n",
       "  0.9499033,\n",
       "  0.94991976,\n",
       "  0.9499268,\n",
       "  0.9499559,\n",
       "  0.94996613,\n",
       "  0.94999623,\n",
       "  0.9499789,\n",
       "  0.94994795,\n",
       "  0.94999546,\n",
       "  0.95003355,\n",
       "  0.9500544,\n",
       "  0.9500422,\n",
       "  0.9500832,\n",
       "  0.9501268,\n",
       "  0.9500662,\n",
       "  0.95004034,\n",
       "  0.9500911,\n",
       "  0.95011955,\n",
       "  0.95013565,\n",
       "  0.95009923,\n",
       "  0.95012015,\n",
       "  0.95008993,\n",
       "  0.9501412,\n",
       "  0.9501997,\n",
       "  0.95012337,\n",
       "  0.9501578,\n",
       "  0.9501541,\n",
       "  0.9502102,\n",
       "  0.9502156,\n",
       "  0.9501991,\n",
       "  0.95020366,\n",
       "  0.9501827,\n",
       "  0.95023644,\n",
       "  0.95025575,\n",
       "  0.9502351,\n",
       "  0.95028824,\n",
       "  0.950283,\n",
       "  0.9502372,\n",
       "  0.9502649,\n",
       "  0.9503172,\n",
       "  0.9502867,\n",
       "  0.95030004,\n",
       "  0.95031905,\n",
       "  0.9503634,\n",
       "  0.95032865,\n",
       "  0.9503021,\n",
       "  0.9503188,\n",
       "  0.95037276,\n",
       "  0.9503847,\n",
       "  0.95036036,\n",
       "  0.9503416,\n",
       "  0.9503787,\n",
       "  0.95042455,\n",
       "  0.950417,\n",
       "  0.9503957,\n",
       "  0.950371,\n",
       "  0.95042354,\n",
       "  0.9504305,\n",
       "  0.95040053,\n",
       "  0.9504402,\n",
       "  0.95041525,\n",
       "  0.9504211,\n",
       "  0.9504788,\n",
       "  0.9504525,\n",
       "  0.950437,\n",
       "  0.95043606,\n",
       "  0.95047283,\n",
       "  0.9504923,\n",
       "  0.95047057,\n",
       "  0.9504879,\n",
       "  0.9504989,\n",
       "  0.950445,\n",
       "  0.95052135,\n",
       "  0.9504767,\n",
       "  0.95052147,\n",
       "  0.9505424,\n",
       "  0.95050704,\n",
       "  0.9505277,\n",
       "  0.9505053,\n",
       "  0.950594]}"
      ]
     },
     "execution_count": 27,
     "metadata": {},
     "output_type": "execute_result"
    }
   ],
   "source": [
    "hist"
   ]
  },
  {
   "cell_type": "code",
   "execution_count": 28,
   "metadata": {},
   "outputs": [],
   "source": [
    "import json\n",
    "json.dump(str(hist), open(model_dir+\"/history2.json\", \"w\"))"
   ]
  },
  {
   "cell_type": "code",
   "execution_count": 38,
   "metadata": {},
   "outputs": [
    {
     "ename": "NameError",
     "evalue": "name 'step_decay' is not defined",
     "output_type": "error",
     "traceback": [
      "\u001b[0;31m---------------------------------------------------------------------------\u001b[0m",
      "\u001b[0;31mNameError\u001b[0m                                 Traceback (most recent call last)",
      "\u001b[0;32m<ipython-input-38-ff916459c108>\u001b[0m in \u001b[0;36m<module>\u001b[0;34m\u001b[0m\n\u001b[1;32m      7\u001b[0m \u001b[0;34m\u001b[0m\u001b[0m\n\u001b[1;32m      8\u001b[0m \u001b[0;34m\u001b[0m\u001b[0m\n\u001b[0;32m----> 9\u001b[0;31m \u001b[0mlr_scheduler\u001b[0m \u001b[0;34m=\u001b[0m \u001b[0mcallbacks\u001b[0m\u001b[0;34m.\u001b[0m\u001b[0mLearningRateScheduler\u001b[0m\u001b[0;34m(\u001b[0m\u001b[0mstep_decay\u001b[0m\u001b[0;34m,\u001b[0m \u001b[0mverbose\u001b[0m\u001b[0;34m=\u001b[0m\u001b[0;36m1\u001b[0m\u001b[0;34m)\u001b[0m\u001b[0;34m\u001b[0m\u001b[0;34m\u001b[0m\u001b[0m\n\u001b[0m\u001b[1;32m     10\u001b[0m \u001b[0;34m\u001b[0m\u001b[0m\n\u001b[1;32m     11\u001b[0m history = model.fit(\n",
      "\u001b[0;31mNameError\u001b[0m: name 'step_decay' is not defined"
     ]
    }
   ],
   "source": [
    "auto_save = ModelCheckpoint(model_dir+ \"/model_v{}_{}.hd5\".format(model_version,det), monitor='val_loss', \n",
    "                    verbose=1, save_best_only=True, save_weights_only=False, \n",
    "                    mode='auto', period=2)\n",
    "\n",
    "early_stop = EarlyStopping(monitor='val_loss', min_delta=0.0001, \n",
    "                            patience=5, verbose=1)\n",
    "\n",
    "\n",
    "lr_scheduler = callbacks.LearningRateScheduler(step_decay, verbose=1)\n",
    "\n",
    "history = model.fit(\n",
    "            X_train, y_train,\n",
    "            sample_weight = w_train,\n",
    "            batch_size = 4096,\n",
    "            epochs=400,\n",
    "            shuffle=True,\n",
    "            validation_data = (X_val, y_val, w_val),\n",
    "            callbacks = [early_stop, auto_save,lr_scheduler] #lr_scheduler\n",
    "            )"
   ]
  },
  {
   "cell_type": "code",
   "execution_count": 29,
   "metadata": {
    "ExecuteTime": {
     "end_time": "2020-05-03T21:02:31.639054Z",
     "start_time": "2020-05-03T21:02:28.213008Z"
    }
   },
   "outputs": [
    {
     "name": "stdout",
     "output_type": "stream",
     "text": [
      ">>> Computing AUC...\n",
      "AUC score: 0.9912357133705492\n",
      ">>> Saving ROC curve...\n"
     ]
    },
    {
     "data": {
      "text/plain": [
       "<matplotlib.legend.Legend at 0x7ff9145bf860>"
      ]
     },
     "execution_count": 29,
     "metadata": {},
     "output_type": "execute_result"
    },
    {
     "name": "stderr",
     "output_type": "stream",
     "text": [
      "/usr/local/lib/python3.6/dist-packages/IPython/core/pylabtools.py:128: UserWarning: Creating legend with loc=\"best\" can be slow with large amounts of data.\n",
      "  fig.canvas.print_figure(bytes_io, **kw)\n"
     ]
    },
    {
     "data": {
      "image/png": "[encoded data removed]",
      "text/plain": [
       "<Figure size 750x750 with 1 Axes>"
      ]
     },
     "metadata": {
      "needs_background": "light"
     },
     "output_type": "display_data"
    }
   ],
   "source": [
    "# Evalutation\n",
    "print(\">>> Computing AUC...\")\n",
    "\n",
    "from sklearn.metrics import roc_auc_score, roc_curve\n",
    "\n",
    "pred = model.predict(X_val,batch_size=2048)\n",
    "auc = roc_auc_score(y_val, pred, sample_weight=w_val)\n",
    "print(\"AUC score: \" + str(auc))\n",
    "\n",
    "print(\">>> Saving ROC curve...\")\n",
    "fp , tp, th = roc_curve(y_val, pred, sample_weight=w_val,drop_intermediate=True)\n",
    "plt.plot(fp, tp, label=\"roc\")\n",
    "#plt.plot(fp, th, label=\"threshold\")\n",
    "plt.xlabel(\"false positives\")\n",
    "plt.ylabel(\"true positives\")\n",
    "plt.ylim(-0.05,1.05)\n",
    "\n",
    "plt.legend()"
   ]
  },
  {
   "cell_type": "markdown",
   "metadata": {},
   "source": [
    "# AUC by eta and Et bin"
   ]
  },
  {
   "cell_type": "code",
   "execution_count": 30,
   "metadata": {
    "scrolled": true
   },
   "outputs": [
    {
     "ename": "KeyboardInterrupt",
     "evalue": "",
     "output_type": "error",
     "traceback": [
      "\u001b[0;31m---------------------------------------------------------------------------\u001b[0m",
      "\u001b[0;31mKeyboardInterrupt\u001b[0m                         Traceback (most recent call last)",
      "\u001b[0;32m<ipython-input-30-8a96b2f1b117>\u001b[0m in \u001b[0;36m<module>\u001b[0;34m\u001b[0m\n\u001b[0;32m----> 1\u001b[0;31m \u001b[0mdata\u001b[0m\u001b[0;34m[\u001b[0m\u001b[0;34m\"y\"\u001b[0m\u001b[0;34m]\u001b[0m \u001b[0;34m=\u001b[0m  \u001b[0mmodel\u001b[0m\u001b[0;34m.\u001b[0m\u001b[0mpredict\u001b[0m\u001b[0;34m(\u001b[0m\u001b[0mscaler\u001b[0m\u001b[0;34m.\u001b[0m\u001b[0mtransform\u001b[0m\u001b[0;34m(\u001b[0m\u001b[0mdata\u001b[0m\u001b[0;34m[\u001b[0m\u001b[0mcols\u001b[0m\u001b[0;34m]\u001b[0m\u001b[0;34m.\u001b[0m\u001b[0mvalues\u001b[0m\u001b[0;34m)\u001b[0m\u001b[0;34m,\u001b[0m \u001b[0mbatch_size\u001b[0m\u001b[0;34m=\u001b[0m\u001b[0;36m4096\u001b[0m\u001b[0;34m)\u001b[0m\u001b[0;34m\u001b[0m\u001b[0;34m\u001b[0m\u001b[0m\n\u001b[0m\u001b[1;32m      2\u001b[0m \u001b[0;34m\u001b[0m\u001b[0m\n\u001b[1;32m      3\u001b[0m \u001b[0mdet\u001b[0m \u001b[0;34m==\u001b[0m \u001b[0;34m\"EB\"\u001b[0m\u001b[0;34m\u001b[0m\u001b[0;34m\u001b[0m\u001b[0m\n\u001b[1;32m      4\u001b[0m \u001b[0mets\u001b[0m \u001b[0;34m=\u001b[0m \u001b[0;34m[\u001b[0m\u001b[0;36m0\u001b[0m\u001b[0;34m,\u001b[0m\u001b[0;36m20\u001b[0m\u001b[0;34m,\u001b[0m\u001b[0;36m40\u001b[0m\u001b[0;34m,\u001b[0m\u001b[0;36m60\u001b[0m\u001b[0;34m,\u001b[0m\u001b[0;36m80\u001b[0m\u001b[0;34m,\u001b[0m\u001b[0;36m100\u001b[0m\u001b[0;34m]\u001b[0m\u001b[0;34m\u001b[0m\u001b[0;34m\u001b[0m\u001b[0m\n\u001b[1;32m      5\u001b[0m \u001b[0;32mif\u001b[0m \u001b[0mdet\u001b[0m\u001b[0;34m==\u001b[0m\u001b[0;34m\"EB\"\u001b[0m\u001b[0;34m:\u001b[0m\u001b[0;34m\u001b[0m\u001b[0;34m\u001b[0m\u001b[0m\n",
      "\u001b[0;32m/usr/local/lib/python3.6/dist-packages/keras/engine/training.py\u001b[0m in \u001b[0;36mpredict\u001b[0;34m(self, x, batch_size, verbose, steps, callbacks, max_queue_size, workers, use_multiprocessing)\u001b[0m\n\u001b[1;32m   1460\u001b[0m                                             \u001b[0mverbose\u001b[0m\u001b[0;34m=\u001b[0m\u001b[0mverbose\u001b[0m\u001b[0;34m,\u001b[0m\u001b[0;34m\u001b[0m\u001b[0;34m\u001b[0m\u001b[0m\n\u001b[1;32m   1461\u001b[0m                                             \u001b[0msteps\u001b[0m\u001b[0;34m=\u001b[0m\u001b[0msteps\u001b[0m\u001b[0;34m,\u001b[0m\u001b[0;34m\u001b[0m\u001b[0;34m\u001b[0m\u001b[0m\n\u001b[0;32m-> 1462\u001b[0;31m                                             callbacks=callbacks)\n\u001b[0m\u001b[1;32m   1463\u001b[0m \u001b[0;34m\u001b[0m\u001b[0m\n\u001b[1;32m   1464\u001b[0m     def train_on_batch(self, x, y,\n",
      "\u001b[0;32m/usr/local/lib/python3.6/dist-packages/keras/engine/training_arrays.py\u001b[0m in \u001b[0;36mpredict_loop\u001b[0;34m(model, f, ins, batch_size, verbose, steps, callbacks)\u001b[0m\n\u001b[1;32m    322\u001b[0m             \u001b[0mbatch_logs\u001b[0m \u001b[0;34m=\u001b[0m \u001b[0;34m{\u001b[0m\u001b[0;34m'batch'\u001b[0m\u001b[0;34m:\u001b[0m \u001b[0mbatch_index\u001b[0m\u001b[0;34m,\u001b[0m \u001b[0;34m'size'\u001b[0m\u001b[0;34m:\u001b[0m \u001b[0mlen\u001b[0m\u001b[0;34m(\u001b[0m\u001b[0mbatch_ids\u001b[0m\u001b[0;34m)\u001b[0m\u001b[0;34m}\u001b[0m\u001b[0;34m\u001b[0m\u001b[0;34m\u001b[0m\u001b[0m\n\u001b[1;32m    323\u001b[0m             \u001b[0mcallbacks\u001b[0m\u001b[0;34m.\u001b[0m\u001b[0m_call_batch_hook\u001b[0m\u001b[0;34m(\u001b[0m\u001b[0;34m'predict'\u001b[0m\u001b[0;34m,\u001b[0m \u001b[0;34m'begin'\u001b[0m\u001b[0;34m,\u001b[0m \u001b[0mbatch_index\u001b[0m\u001b[0;34m,\u001b[0m \u001b[0mbatch_logs\u001b[0m\u001b[0;34m)\u001b[0m\u001b[0;34m\u001b[0m\u001b[0;34m\u001b[0m\u001b[0m\n\u001b[0;32m--> 324\u001b[0;31m             \u001b[0mbatch_outs\u001b[0m \u001b[0;34m=\u001b[0m \u001b[0mf\u001b[0m\u001b[0;34m(\u001b[0m\u001b[0mins_batch\u001b[0m\u001b[0;34m)\u001b[0m\u001b[0;34m\u001b[0m\u001b[0;34m\u001b[0m\u001b[0m\n\u001b[0m\u001b[1;32m    325\u001b[0m             \u001b[0mbatch_outs\u001b[0m \u001b[0;34m=\u001b[0m \u001b[0mto_list\u001b[0m\u001b[0;34m(\u001b[0m\u001b[0mbatch_outs\u001b[0m\u001b[0;34m)\u001b[0m\u001b[0;34m\u001b[0m\u001b[0;34m\u001b[0m\u001b[0m\n\u001b[1;32m    326\u001b[0m             \u001b[0;32mif\u001b[0m \u001b[0mbatch_index\u001b[0m \u001b[0;34m==\u001b[0m \u001b[0;36m0\u001b[0m\u001b[0;34m:\u001b[0m\u001b[0;34m\u001b[0m\u001b[0;34m\u001b[0m\u001b[0m\n",
      "\u001b[0;32m/usr/local/lib/python3.6/dist-packages/tensorflow_core/python/keras/backend.py\u001b[0m in \u001b[0;36m__call__\u001b[0;34m(self, inputs)\u001b[0m\n\u001b[1;32m   3725\u001b[0m         \u001b[0mvalue\u001b[0m \u001b[0;34m=\u001b[0m \u001b[0mmath_ops\u001b[0m\u001b[0;34m.\u001b[0m\u001b[0mcast\u001b[0m\u001b[0;34m(\u001b[0m\u001b[0mvalue\u001b[0m\u001b[0;34m,\u001b[0m \u001b[0mtensor\u001b[0m\u001b[0;34m.\u001b[0m\u001b[0mdtype\u001b[0m\u001b[0;34m)\u001b[0m\u001b[0;34m\u001b[0m\u001b[0;34m\u001b[0m\u001b[0m\n\u001b[1;32m   3726\u001b[0m       \u001b[0mconverted_inputs\u001b[0m\u001b[0;34m.\u001b[0m\u001b[0mappend\u001b[0m\u001b[0;34m(\u001b[0m\u001b[0mvalue\u001b[0m\u001b[0;34m)\u001b[0m\u001b[0;34m\u001b[0m\u001b[0;34m\u001b[0m\u001b[0m\n\u001b[0;32m-> 3727\u001b[0;31m     \u001b[0moutputs\u001b[0m \u001b[0;34m=\u001b[0m \u001b[0mself\u001b[0m\u001b[0;34m.\u001b[0m\u001b[0m_graph_fn\u001b[0m\u001b[0;34m(\u001b[0m\u001b[0;34m*\u001b[0m\u001b[0mconverted_inputs\u001b[0m\u001b[0;34m)\u001b[0m\u001b[0;34m\u001b[0m\u001b[0;34m\u001b[0m\u001b[0m\n\u001b[0m\u001b[1;32m   3728\u001b[0m \u001b[0;34m\u001b[0m\u001b[0m\n\u001b[1;32m   3729\u001b[0m     \u001b[0;31m# EagerTensor.numpy() will often make a copy to ensure memory safety.\u001b[0m\u001b[0;34m\u001b[0m\u001b[0;34m\u001b[0m\u001b[0;34m\u001b[0m\u001b[0m\n",
      "\u001b[0;32m/usr/local/lib/python3.6/dist-packages/tensorflow_core/python/eager/function.py\u001b[0m in \u001b[0;36m__call__\u001b[0;34m(self, *args, **kwargs)\u001b[0m\n\u001b[1;32m   1549\u001b[0m       \u001b[0mTypeError\u001b[0m\u001b[0;34m:\u001b[0m \u001b[0mFor\u001b[0m \u001b[0minvalid\u001b[0m \u001b[0mpositional\u001b[0m\u001b[0;34m/\u001b[0m\u001b[0mkeyword\u001b[0m \u001b[0margument\u001b[0m \u001b[0mcombinations\u001b[0m\u001b[0;34m.\u001b[0m\u001b[0;34m\u001b[0m\u001b[0;34m\u001b[0m\u001b[0m\n\u001b[1;32m   1550\u001b[0m     \"\"\"\n\u001b[0;32m-> 1551\u001b[0;31m     \u001b[0;32mreturn\u001b[0m \u001b[0mself\u001b[0m\u001b[0;34m.\u001b[0m\u001b[0m_call_impl\u001b[0m\u001b[0;34m(\u001b[0m\u001b[0margs\u001b[0m\u001b[0;34m,\u001b[0m \u001b[0mkwargs\u001b[0m\u001b[0;34m)\u001b[0m\u001b[0;34m\u001b[0m\u001b[0;34m\u001b[0m\u001b[0m\n\u001b[0m\u001b[1;32m   1552\u001b[0m \u001b[0;34m\u001b[0m\u001b[0m\n\u001b[1;32m   1553\u001b[0m   \u001b[0;32mdef\u001b[0m \u001b[0m_call_impl\u001b[0m\u001b[0;34m(\u001b[0m\u001b[0mself\u001b[0m\u001b[0;34m,\u001b[0m \u001b[0margs\u001b[0m\u001b[0;34m,\u001b[0m \u001b[0mkwargs\u001b[0m\u001b[0;34m,\u001b[0m \u001b[0mcancellation_manager\u001b[0m\u001b[0;34m=\u001b[0m\u001b[0;32mNone\u001b[0m\u001b[0;34m)\u001b[0m\u001b[0;34m:\u001b[0m\u001b[0;34m\u001b[0m\u001b[0;34m\u001b[0m\u001b[0m\n",
      "\u001b[0;32m/usr/local/lib/python3.6/dist-packages/tensorflow_core/python/eager/function.py\u001b[0m in \u001b[0;36m_call_impl\u001b[0;34m(self, args, kwargs, cancellation_manager)\u001b[0m\n\u001b[1;32m   1589\u001b[0m       raise TypeError(\"Keyword arguments {} unknown. Expected {}.\".format(\n\u001b[1;32m   1590\u001b[0m           list(kwargs.keys()), list(self._arg_keywords)))\n\u001b[0;32m-> 1591\u001b[0;31m     \u001b[0;32mreturn\u001b[0m \u001b[0mself\u001b[0m\u001b[0;34m.\u001b[0m\u001b[0m_call_flat\u001b[0m\u001b[0;34m(\u001b[0m\u001b[0margs\u001b[0m\u001b[0;34m,\u001b[0m \u001b[0mself\u001b[0m\u001b[0;34m.\u001b[0m\u001b[0mcaptured_inputs\u001b[0m\u001b[0;34m,\u001b[0m \u001b[0mcancellation_manager\u001b[0m\u001b[0;34m)\u001b[0m\u001b[0;34m\u001b[0m\u001b[0;34m\u001b[0m\u001b[0m\n\u001b[0m\u001b[1;32m   1592\u001b[0m \u001b[0;34m\u001b[0m\u001b[0m\n\u001b[1;32m   1593\u001b[0m   \u001b[0;32mdef\u001b[0m \u001b[0m_filtered_call\u001b[0m\u001b[0;34m(\u001b[0m\u001b[0mself\u001b[0m\u001b[0;34m,\u001b[0m \u001b[0margs\u001b[0m\u001b[0;34m,\u001b[0m \u001b[0mkwargs\u001b[0m\u001b[0;34m)\u001b[0m\u001b[0;34m:\u001b[0m\u001b[0;34m\u001b[0m\u001b[0;34m\u001b[0m\u001b[0m\n",
      "\u001b[0;32m/usr/local/lib/python3.6/dist-packages/tensorflow_core/python/eager/function.py\u001b[0m in \u001b[0;36m_call_flat\u001b[0;34m(self, args, captured_inputs, cancellation_manager)\u001b[0m\n\u001b[1;32m   1690\u001b[0m       \u001b[0;31m# No tape is watching; skip to running the function.\u001b[0m\u001b[0;34m\u001b[0m\u001b[0;34m\u001b[0m\u001b[0;34m\u001b[0m\u001b[0m\n\u001b[1;32m   1691\u001b[0m       return self._build_call_outputs(self._inference_function.call(\n\u001b[0;32m-> 1692\u001b[0;31m           ctx, args, cancellation_manager=cancellation_manager))\n\u001b[0m\u001b[1;32m   1693\u001b[0m     forward_backward = self._select_forward_and_backward_functions(\n\u001b[1;32m   1694\u001b[0m         \u001b[0margs\u001b[0m\u001b[0;34m,\u001b[0m\u001b[0;34m\u001b[0m\u001b[0;34m\u001b[0m\u001b[0m\n",
      "\u001b[0;32m/usr/local/lib/python3.6/dist-packages/tensorflow_core/python/eager/function.py\u001b[0m in \u001b[0;36mcall\u001b[0;34m(self, ctx, args, cancellation_manager)\u001b[0m\n\u001b[1;32m    543\u001b[0m               \u001b[0minputs\u001b[0m\u001b[0;34m=\u001b[0m\u001b[0margs\u001b[0m\u001b[0;34m,\u001b[0m\u001b[0;34m\u001b[0m\u001b[0;34m\u001b[0m\u001b[0m\n\u001b[1;32m    544\u001b[0m               \u001b[0mattrs\u001b[0m\u001b[0;34m=\u001b[0m\u001b[0;34m(\u001b[0m\u001b[0;34m\"executor_type\"\u001b[0m\u001b[0;34m,\u001b[0m \u001b[0mexecutor_type\u001b[0m\u001b[0;34m,\u001b[0m \u001b[0;34m\"config_proto\"\u001b[0m\u001b[0;34m,\u001b[0m \u001b[0mconfig\u001b[0m\u001b[0;34m)\u001b[0m\u001b[0;34m,\u001b[0m\u001b[0;34m\u001b[0m\u001b[0;34m\u001b[0m\u001b[0m\n\u001b[0;32m--> 545\u001b[0;31m               ctx=ctx)\n\u001b[0m\u001b[1;32m    546\u001b[0m         \u001b[0;32melse\u001b[0m\u001b[0;34m:\u001b[0m\u001b[0;34m\u001b[0m\u001b[0;34m\u001b[0m\u001b[0m\n\u001b[1;32m    547\u001b[0m           outputs = execute.execute_with_cancellation(\n",
      "\u001b[0;32m/usr/local/lib/python3.6/dist-packages/tensorflow_core/python/eager/execute.py\u001b[0m in \u001b[0;36mquick_execute\u001b[0;34m(op_name, num_outputs, inputs, attrs, ctx, name)\u001b[0m\n\u001b[1;32m     59\u001b[0m     tensors = pywrap_tensorflow.TFE_Py_Execute(ctx._handle, device_name,\n\u001b[1;32m     60\u001b[0m                                                \u001b[0mop_name\u001b[0m\u001b[0;34m,\u001b[0m \u001b[0minputs\u001b[0m\u001b[0;34m,\u001b[0m \u001b[0mattrs\u001b[0m\u001b[0;34m,\u001b[0m\u001b[0;34m\u001b[0m\u001b[0;34m\u001b[0m\u001b[0m\n\u001b[0;32m---> 61\u001b[0;31m                                                num_outputs)\n\u001b[0m\u001b[1;32m     62\u001b[0m   \u001b[0;32mexcept\u001b[0m \u001b[0mcore\u001b[0m\u001b[0;34m.\u001b[0m\u001b[0m_NotOkStatusException\u001b[0m \u001b[0;32mas\u001b[0m \u001b[0me\u001b[0m\u001b[0;34m:\u001b[0m\u001b[0;34m\u001b[0m\u001b[0;34m\u001b[0m\u001b[0m\n\u001b[1;32m     63\u001b[0m     \u001b[0;32mif\u001b[0m \u001b[0mname\u001b[0m \u001b[0;32mis\u001b[0m \u001b[0;32mnot\u001b[0m \u001b[0;32mNone\u001b[0m\u001b[0;34m:\u001b[0m\u001b[0;34m\u001b[0m\u001b[0;34m\u001b[0m\u001b[0m\n",
      "\u001b[0;31mKeyboardInterrupt\u001b[0m: "
     ]
    }
   ],
   "source": [
    "data[\"y\"] =  model.predict(scaler.transform(data[cols].values), batch_size=4096)\n",
    "\n",
    "det == \"EB\"\n",
    "ets = [0,20,40,60,80,100]\n",
    "if det==\"EB\":\n",
    "    etas = [0, 0.4,0.8, 1.2,1.479]\n",
    "if det==\"EE\":\n",
    "    etas = [1.479,1.75,2.,2.25,3]\n",
    "\n",
    "data[\"eta_bin\"] = pd.cut(abs(data.seed_eta), etas, labels=list(range(len(etas)-1)))\n",
    "data[\"et_bin\"] = pd.cut(data.et_seed, ets, labels=list(range(len(ets)-1)))\n",
    "\n",
    "result =  data.groupby([\"eta_bin\", \"et_bin\"]).apply(\n",
    "        lambda gr:  roc_auc_score(gr.in_scluster, gr.y, sample_weight=gr.w)\n",
    ")\n",
    "\n",
    "a = result.values.reshape((len(etas)-1,len(ets)-1))\n",
    "plt.imshow(a.T)\n",
    "plt.xlabel(\"Eta bin\")\n",
    "plt.ylabel(\"Et bin\")\n",
    "plt.title(\"AUC\")\n",
    "plt.colorbar()"
   ]
  },
  {
   "cell_type": "code",
   "execution_count": 31,
   "metadata": {},
   "outputs": [],
   "source": [
    "from sklearn.metrics import roc_auc_score, roc_curve\n",
    "data[\"y\"] =  model.predict(scaler.transform(data[cols].values), batch_size=4096)\n",
    "\n",
    "ets = [0,20,40,60,80,100]\n",
    "etas = [0, 0.4,0.8, 1.2,1.479, 1.75,2.,2.25,3]\n",
    "\n",
    "data[\"eta_bin\"] = pd.cut(abs(data.seed_eta), etas, labels=list(range(len(etas)-1)))\n",
    "data[\"et_bin\"] = pd.cut(data.et_seed, ets, labels=list(range(len(ets)-1)))\n",
    "\n",
    "result =  data.groupby([\"eta_bin\", \"et_bin\"]).apply(\n",
    "        lambda gr:  roc_auc_score(gr.in_scluster, gr.y, sample_weight=gr.w)\n",
    ")\n",
    "\n",
    "a = result.values.reshape((len(etas)-1,len(ets)-1))\n"
   ]
  },
  {
   "cell_type": "code",
   "execution_count": 32,
   "metadata": {},
   "outputs": [
    {
     "data": {
      "image/png": "[encoded data removed]",
      "text/plain": [
       "<Figure size 1500x750 with 2 Axes>"
      ]
     },
     "metadata": {
      "needs_background": "light"
     },
     "output_type": "display_data"
    }
   ],
   "source": [
    "plt.figure(figsize=(10,5))\n",
    "plt.imshow(a.T)\n",
    "plt.xlabel(\"Eta bin\")\n",
    "plt.ylabel(\"Et bin\")\n",
    "plt.title(\"AUC\")\n",
    "plt.colorbar()\n",
    "plt.savefig(model_dir+ \"/AUC.png\")"
   ]
  },
  {
   "cell_type": "code",
   "execution_count": 16,
   "metadata": {},
   "outputs": [
    {
     "data": {
      "image/png": "[encoded data removed]",
      "text/plain": [
       "<Figure size 1500x750 with 2 Axes>"
      ]
     },
     "metadata": {
      "needs_background": "light"
     },
     "output_type": "display_data"
    }
   ],
   "source": [
    "plt.figure(figsize=(10,5))\n",
    "plt.imshow(a.T)\n",
    "plt.xlabel(\"Eta bin\")\n",
    "plt.ylabel(\"Et bin\")\n",
    "plt.title(\"AUC\")\n",
    "plt.colorbar()\n",
    "plt.savefig(model_dir+ \"/AUC.png\")"
   ]
  },
  {
   "cell_type": "code",
   "execution_count": 17,
   "metadata": {
    "ExecuteTime": {
     "end_time": "2020-05-03T18:02:08.432215Z",
     "start_time": "2020-05-03T18:02:08.040559Z"
    }
   },
   "outputs": [
    {
     "data": {
      "text/plain": [
       "<matplotlib.legend.Legend at 0x7fa5204cf898>"
      ]
     },
     "execution_count": 17,
     "metadata": {},
     "output_type": "execute_result"
    },
    {
     "data": {
      "image/png": "[encoded data removed]",
      "text/plain": [
       "<Figure size 750x750 with 1 Axes>"
      ]
     },
     "metadata": {
      "needs_background": "light"
     },
     "output_type": "display_data"
    }
   ],
   "source": [
    "plt.plot(history.epoch, history.history[\"val_loss\"], label=\"validation loss\")\n",
    "plt.plot(history.epoch, history.history[\"loss\"], label=\"training loss\")\n",
    "plt.legend()"
   ]
  },
  {
   "cell_type": "code",
   "execution_count": 16,
   "metadata": {
    "ExecuteTime": {
     "end_time": "2020-05-03T18:02:48.984671Z",
     "start_time": "2020-05-03T18:02:41.386118Z"
    }
   },
   "outputs": [
    {
     "data": {
      "text/plain": [
       "<matplotlib.legend.Legend at 0x7fa5c33197b8>"
      ]
     },
     "execution_count": 16,
     "metadata": {},
     "output_type": "execute_result"
    },
    {
     "data": {
      "image/png": "[encoded data removed]",
      "text/plain": [
       "<Figure size 750x750 with 1 Axes>"
      ]
     },
     "metadata": {
      "needs_background": "light"
     },
     "output_type": "display_data"
    }
   ],
   "source": [
    "results = model.predict(X_val[:200000])\n",
    "plt.hist(results[y_val[:200000]==0], bins=30,density=True, label=\"false\", histtype=\"step\")\n",
    "plt.hist(results[y_val[:200000]==1], bins=30, density=True, label=\"true\", histtype=\"step\")\n",
    "plt.yscale(\"log\")\n",
    "plt.legend()"
   ]
  },
  {
   "cell_type": "code",
   "execution_count": 28,
   "metadata": {},
   "outputs": [
    {
     "data": {
      "text/plain": [
       "<matplotlib.legend.Legend at 0x7fa7e618cdd8>"
      ]
     },
     "execution_count": 28,
     "metadata": {},
     "output_type": "execute_result"
    },
    {
     "data": {
      "image/png": "[encoded data removed]",
      "text/plain": [
       "<Figure size 750x750 with 1 Axes>"
      ]
     },
     "metadata": {
      "needs_background": "light"
     },
     "output_type": "display_data"
    }
   ],
   "source": [
    "results = model.predict(X_val[:500000])\n",
    "plt.hist(results[y_val[:500000]==0], bins=30,density=True, label=\"false\", histtype=\"step\")\n",
    "plt.hist(results[y_val[:500000]==1], bins=30, density=True, label=\"true\", histtype=\"step\")\n",
    "plt.yscale(\"log\")\n",
    "plt.legend()"
   ]
  },
  {
   "cell_type": "code",
   "execution_count": 25,
   "metadata": {},
   "outputs": [
    {
     "data": {
      "text/plain": [
       "<Figure size 750x750 with 0 Axes>"
      ]
     },
     "metadata": {},
     "output_type": "display_data"
    }
   ],
   "source": [
    "plt.savefig(model_dir +\"/output_model_v2_EE.png\")"
   ]
  },
  {
   "cell_type": "markdown",
   "metadata": {},
   "source": [
    "# Some plots"
   ]
  },
  {
   "cell_type": "code",
   "execution_count": 1,
   "metadata": {
    "ExecuteTime": {
     "end_time": "2020-01-13T09:25:43.435534Z",
     "start_time": "2020-01-13T09:25:30.930818Z"
    },
    "scrolled": true
   },
   "outputs": [
    {
     "name": "stderr",
     "output_type": "stream",
     "text": [
      "Using TensorFlow backend.\n"
     ]
    },
    {
     "ename": "OSError",
     "evalue": "Unable to open file (unable to open file: name = 'models/model11_balanced_100_80_50.hd5', errno = 2, error message = 'No such file or directory', flags = 0, o_flags = 0)",
     "output_type": "error",
     "traceback": [
      "\u001b[0;31m---------------------------------------------------------------------------\u001b[0m",
      "\u001b[0;31mOSError\u001b[0m                                   Traceback (most recent call last)",
      "\u001b[0;32m<ipython-input-1-5beff4d610ed>\u001b[0m in \u001b[0;36m<module>\u001b[0;34m\u001b[0m\n\u001b[1;32m      1\u001b[0m \u001b[0;32mfrom\u001b[0m \u001b[0mkeras\u001b[0m\u001b[0;34m.\u001b[0m\u001b[0mmodels\u001b[0m \u001b[0;32mimport\u001b[0m \u001b[0mload_model\u001b[0m\u001b[0;34m\u001b[0m\u001b[0m\n\u001b[0;32m----> 2\u001b[0;31m \u001b[0mmodel\u001b[0m \u001b[0;34m=\u001b[0m \u001b[0mload_model\u001b[0m\u001b[0;34m(\u001b[0m\u001b[0;34m\"models/model11_balanced_100_80_50.hd5\"\u001b[0m\u001b[0;34m)\u001b[0m\u001b[0;34m\u001b[0m\u001b[0m\n\u001b[0m\u001b[1;32m      3\u001b[0m \u001b[0mscaler\u001b[0m \u001b[0;34m=\u001b[0m \u001b[0mpickle\u001b[0m\u001b[0;34m.\u001b[0m\u001b[0mload\u001b[0m\u001b[0;34m(\u001b[0m\u001b[0mopen\u001b[0m\u001b[0;34m(\u001b[0m\u001b[0;34m\"models/scaler_gamma_electrons.pkl\"\u001b[0m\u001b[0;34m,\u001b[0m \u001b[0;34m\"rb\"\u001b[0m\u001b[0;34m)\u001b[0m\u001b[0;34m)\u001b[0m\u001b[0;34m\u001b[0m\u001b[0m\n",
      "\u001b[0;32m/cvmfs/sft.cern.ch/lcg/views/LCG_96python3/x86_64-centos7-gcc8-opt/lib/python3.6/site-packages/keras/engine/saving.py\u001b[0m in \u001b[0;36mload_model\u001b[0;34m(filepath, custom_objects, compile)\u001b[0m\n\u001b[1;32m    415\u001b[0m     \u001b[0mmodel\u001b[0m \u001b[0;34m=\u001b[0m \u001b[0;32mNone\u001b[0m\u001b[0;34m\u001b[0m\u001b[0m\n\u001b[1;32m    416\u001b[0m     \u001b[0mopened_new_file\u001b[0m \u001b[0;34m=\u001b[0m \u001b[0;32mnot\u001b[0m \u001b[0misinstance\u001b[0m\u001b[0;34m(\u001b[0m\u001b[0mfilepath\u001b[0m\u001b[0;34m,\u001b[0m \u001b[0mh5py\u001b[0m\u001b[0;34m.\u001b[0m\u001b[0mGroup\u001b[0m\u001b[0;34m)\u001b[0m\u001b[0;34m\u001b[0m\u001b[0m\n\u001b[0;32m--> 417\u001b[0;31m     \u001b[0mf\u001b[0m \u001b[0;34m=\u001b[0m \u001b[0mh5dict\u001b[0m\u001b[0;34m(\u001b[0m\u001b[0mfilepath\u001b[0m\u001b[0;34m,\u001b[0m \u001b[0;34m'r'\u001b[0m\u001b[0;34m)\u001b[0m\u001b[0;34m\u001b[0m\u001b[0m\n\u001b[0m\u001b[1;32m    418\u001b[0m     \u001b[0;32mtry\u001b[0m\u001b[0;34m:\u001b[0m\u001b[0;34m\u001b[0m\u001b[0m\n\u001b[1;32m    419\u001b[0m         \u001b[0mmodel\u001b[0m \u001b[0;34m=\u001b[0m \u001b[0m_deserialize_model\u001b[0m\u001b[0;34m(\u001b[0m\u001b[0mf\u001b[0m\u001b[0;34m,\u001b[0m \u001b[0mcustom_objects\u001b[0m\u001b[0;34m,\u001b[0m \u001b[0mcompile\u001b[0m\u001b[0;34m)\u001b[0m\u001b[0;34m\u001b[0m\u001b[0m\n",
      "\u001b[0;32m/cvmfs/sft.cern.ch/lcg/views/LCG_96python3/x86_64-centos7-gcc8-opt/lib/python3.6/site-packages/keras/utils/io_utils.py\u001b[0m in \u001b[0;36m__init__\u001b[0;34m(self, path, mode)\u001b[0m\n\u001b[1;32m    184\u001b[0m             \u001b[0mself\u001b[0m\u001b[0;34m.\u001b[0m\u001b[0m_is_file\u001b[0m \u001b[0;34m=\u001b[0m \u001b[0;32mFalse\u001b[0m\u001b[0;34m\u001b[0m\u001b[0m\n\u001b[1;32m    185\u001b[0m         \u001b[0;32melif\u001b[0m \u001b[0misinstance\u001b[0m\u001b[0;34m(\u001b[0m\u001b[0mpath\u001b[0m\u001b[0;34m,\u001b[0m \u001b[0mstr\u001b[0m\u001b[0;34m)\u001b[0m\u001b[0;34m:\u001b[0m\u001b[0;34m\u001b[0m\u001b[0m\n\u001b[0;32m--> 186\u001b[0;31m             \u001b[0mself\u001b[0m\u001b[0;34m.\u001b[0m\u001b[0mdata\u001b[0m \u001b[0;34m=\u001b[0m \u001b[0mh5py\u001b[0m\u001b[0;34m.\u001b[0m\u001b[0mFile\u001b[0m\u001b[0;34m(\u001b[0m\u001b[0mpath\u001b[0m\u001b[0;34m,\u001b[0m \u001b[0mmode\u001b[0m\u001b[0;34m=\u001b[0m\u001b[0mmode\u001b[0m\u001b[0;34m)\u001b[0m\u001b[0;34m\u001b[0m\u001b[0m\n\u001b[0m\u001b[1;32m    187\u001b[0m             \u001b[0mself\u001b[0m\u001b[0;34m.\u001b[0m\u001b[0m_is_file\u001b[0m \u001b[0;34m=\u001b[0m \u001b[0;32mTrue\u001b[0m\u001b[0;34m\u001b[0m\u001b[0m\n\u001b[1;32m    188\u001b[0m         \u001b[0;32melif\u001b[0m \u001b[0misinstance\u001b[0m\u001b[0;34m(\u001b[0m\u001b[0mpath\u001b[0m\u001b[0;34m,\u001b[0m \u001b[0mdict\u001b[0m\u001b[0;34m)\u001b[0m\u001b[0;34m:\u001b[0m\u001b[0;34m\u001b[0m\u001b[0m\n",
      "\u001b[0;32m/cvmfs/sft.cern.ch/lcg/views/LCG_96python3/x86_64-centos7-gcc8-opt/lib/python3.6/site-packages/h5py/_hl/files.py\u001b[0m in \u001b[0;36m__init__\u001b[0;34m(self, name, mode, driver, libver, userblock_size, swmr, rdcc_nslots, rdcc_nbytes, rdcc_w0, track_order, **kwds)\u001b[0m\n\u001b[1;32m    392\u001b[0m                 fid = make_fid(name, mode, userblock_size,\n\u001b[1;32m    393\u001b[0m                                \u001b[0mfapl\u001b[0m\u001b[0;34m,\u001b[0m \u001b[0mfcpl\u001b[0m\u001b[0;34m=\u001b[0m\u001b[0mmake_fcpl\u001b[0m\u001b[0;34m(\u001b[0m\u001b[0mtrack_order\u001b[0m\u001b[0;34m=\u001b[0m\u001b[0mtrack_order\u001b[0m\u001b[0;34m)\u001b[0m\u001b[0;34m,\u001b[0m\u001b[0;34m\u001b[0m\u001b[0m\n\u001b[0;32m--> 394\u001b[0;31m                                swmr=swmr)\n\u001b[0m\u001b[1;32m    395\u001b[0m \u001b[0;34m\u001b[0m\u001b[0m\n\u001b[1;32m    396\u001b[0m             \u001b[0;32mif\u001b[0m \u001b[0mswmr_support\u001b[0m\u001b[0;34m:\u001b[0m\u001b[0;34m\u001b[0m\u001b[0m\n",
      "\u001b[0;32m/cvmfs/sft.cern.ch/lcg/views/LCG_96python3/x86_64-centos7-gcc8-opt/lib/python3.6/site-packages/h5py/_hl/files.py\u001b[0m in \u001b[0;36mmake_fid\u001b[0;34m(name, mode, userblock_size, fapl, fcpl, swmr)\u001b[0m\n\u001b[1;32m    168\u001b[0m         \u001b[0;32mif\u001b[0m \u001b[0mswmr\u001b[0m \u001b[0;32mand\u001b[0m \u001b[0mswmr_support\u001b[0m\u001b[0;34m:\u001b[0m\u001b[0;34m\u001b[0m\u001b[0m\n\u001b[1;32m    169\u001b[0m             \u001b[0mflags\u001b[0m \u001b[0;34m|=\u001b[0m \u001b[0mh5f\u001b[0m\u001b[0;34m.\u001b[0m\u001b[0mACC_SWMR_READ\u001b[0m\u001b[0;34m\u001b[0m\u001b[0m\n\u001b[0;32m--> 170\u001b[0;31m         \u001b[0mfid\u001b[0m \u001b[0;34m=\u001b[0m \u001b[0mh5f\u001b[0m\u001b[0;34m.\u001b[0m\u001b[0mopen\u001b[0m\u001b[0;34m(\u001b[0m\u001b[0mname\u001b[0m\u001b[0;34m,\u001b[0m \u001b[0mflags\u001b[0m\u001b[0;34m,\u001b[0m \u001b[0mfapl\u001b[0m\u001b[0;34m=\u001b[0m\u001b[0mfapl\u001b[0m\u001b[0;34m)\u001b[0m\u001b[0;34m\u001b[0m\u001b[0m\n\u001b[0m\u001b[1;32m    171\u001b[0m     \u001b[0;32melif\u001b[0m \u001b[0mmode\u001b[0m \u001b[0;34m==\u001b[0m \u001b[0;34m'r+'\u001b[0m\u001b[0;34m:\u001b[0m\u001b[0;34m\u001b[0m\u001b[0m\n\u001b[1;32m    172\u001b[0m         \u001b[0mfid\u001b[0m \u001b[0;34m=\u001b[0m \u001b[0mh5f\u001b[0m\u001b[0;34m.\u001b[0m\u001b[0mopen\u001b[0m\u001b[0;34m(\u001b[0m\u001b[0mname\u001b[0m\u001b[0;34m,\u001b[0m \u001b[0mh5f\u001b[0m\u001b[0;34m.\u001b[0m\u001b[0mACC_RDWR\u001b[0m\u001b[0;34m,\u001b[0m \u001b[0mfapl\u001b[0m\u001b[0;34m=\u001b[0m\u001b[0mfapl\u001b[0m\u001b[0;34m)\u001b[0m\u001b[0;34m\u001b[0m\u001b[0m\n",
      "\u001b[0;32mh5py/_objects.pyx\u001b[0m in \u001b[0;36mh5py._objects.with_phil.wrapper\u001b[0;34m()\u001b[0m\n",
      "\u001b[0;32mh5py/_objects.pyx\u001b[0m in \u001b[0;36mh5py._objects.with_phil.wrapper\u001b[0;34m()\u001b[0m\n",
      "\u001b[0;32mh5py/h5f.pyx\u001b[0m in \u001b[0;36mh5py.h5f.open\u001b[0;34m()\u001b[0m\n",
      "\u001b[0;31mOSError\u001b[0m: Unable to open file (unable to open file: name = 'models/model11_balanced_100_80_50.hd5', errno = 2, error message = 'No such file or directory', flags = 0, o_flags = 0)"
     ]
    }
   ],
   "source": [
    "from keras.models import load_model\n",
    "model = load_model(\"models/model11_balanced_100_80_50.hd5\")\n",
    "scaler = pickle.load(open(\"models/scaler_gamma_electrons.pkl\", \"rb\"))"
   ]
  },
  {
   "cell_type": "code",
   "execution_count": null,
   "metadata": {
    "ExecuteTime": {
     "end_time": "2020-04-20T22:38:16.819969Z",
     "start_time": "2020-04-20T22:38:16.467585Z"
    }
   },
   "outputs": [],
   "source": [
    "fp , tp, th = roc_curve(y_test, pred)\n",
    "fig, ax1 = plt.subplots(figsize=(7,6), dpi=100)\n",
    "ax1.plot(fp, tp, label=\"roc\", color=\"blue\")\n",
    "\n",
    "ax1.set_xlabel(\"Bkg contamination\", fontsize=18)\n",
    "ax1.set_ylabel(\"Signal efficiency\", fontsize=18, color=\"blue\")\n",
    "ax1.set_ylim(0.850, 1.01)\n",
    "ax1.set_xlim(0, 0.06)\n",
    "#ax1.plot([0,1],[1,1],\"b--\")\n",
    "ax1.tick_params(\"y\",labelsize=\"large\", labelcolor=\"blue\")\n",
    "\n",
    "ax2 = ax1.twinx()\n",
    "ax2.plot(fp, th, label=\"threshold\", color=\"red\")\n",
    "ax2.tick_params(axis='y', labelcolor=\"red\", labelsize=\"large\")\n",
    "ax2.set_ylabel(\"Threshold\", fontsize=18, color=\"red\")\n",
    "ax2.set_ylim(0, 1)\n",
    "ax1.grid()\n",
    "#ax2.grid(linestyle=\"dashed\", color=\"red\")\n",
    "\n",
    "ax2.plot([0.01, 0.01], [0, 2], \"g--\")\n",
    "ax2.set_yticks(np.arange(0, 1.1, 0.1))\n",
    "#ax2.minorticks_on()\n",
    "\n",
    "ax1.set_title(\"ROC curve\", fontsize=20)\n",
    "ax2.text(x = 0.048, y = 1.01, s=\"AUC=0.997\", fontsize=\"large\")\n",
    "\n",
    "fig.tight_layout()"
   ]
  },
  {
   "cell_type": "code",
   "execution_count": 36,
   "metadata": {
    "ExecuteTime": {
     "end_time": "2020-01-11T14:23:01.035443Z",
     "start_time": "2020-01-11T14:23:00.336449Z"
    }
   },
   "outputs": [
    {
     "data": {
      "image/png": "[encoded data removed]",
      "text/plain": [
       "<Figure size 700x600 with 2 Axes>"
      ]
     },
     "metadata": {},
     "output_type": "display_data"
    }
   ],
   "source": [
    "fp , tp, th = roc_curve(y_test, pred)\n",
    "fig, ax1 = plt.subplots(figsize=(7,6), dpi=100)\n",
    "ax1.plot(fp, tp, label=\"roc\", color=\"blue\")\n",
    "\n",
    "ax1.set_xlabel(\"Bkg contamination\", fontsize=18)\n",
    "ax1.set_ylabel(\"Signal efficiency\", fontsize=18, color=\"blue\")\n",
    "ax1.set_ylim(0.850, 1.01)\n",
    "ax1.set_xlim(0, 0.06)\n",
    "#ax1.plot([0,1],[1,1],\"b--\")\n",
    "ax1.tick_params(\"y\",labelsize=\"large\", labelcolor=\"blue\")\n",
    "\n",
    "ax2 = ax1.twinx()\n",
    "ax2.plot(fp, th, label=\"threshold\", color=\"red\")\n",
    "ax2.tick_params(axis='y', labelcolor=\"red\", labelsize=\"large\")\n",
    "ax2.set_ylabel(\"Threshold\", fontsize=18, color=\"red\")\n",
    "ax2.set_ylim(0, 1)\n",
    "ax1.grid()\n",
    "#ax2.grid(linestyle=\"dashed\", color=\"red\")\n",
    "\n",
    "ax2.plot([0.01, 0.01], [0, 2], \"g--\")\n",
    "ax2.set_yticks(np.arange(0, 1.1, 0.1))\n",
    "#ax2.minorticks_on()\n",
    "\n",
    "ax1.set_title(\"ROC curve\", fontsize=20)\n",
    "ax2.text(x = 0.048, y = 1.01, s=\"AUC=0.997\", fontsize=\"large\")\n",
    "\n",
    "fig.tight_layout()"
   ]
  }
 ],
 "metadata": {
  "kernelspec": {
   "display_name": "Python 3",
   "language": "python",
   "name": "python3"
  },
  "language_info": {
   "codemirror_mode": {
    "name": "ipython",
    "version": 3
   },
   "file_extension": ".py",
   "mimetype": "text/x-python",
   "name": "python",
   "nbconvert_exporter": "python",
   "pygments_lexer": "ipython3",
   "version": "3.6.9"
  },
  "toc": {
   "base_numbering": 1,
   "nav_menu": {},
   "number_sections": true,
   "sideBar": true,
   "skip_h1_title": false,
   "title_cell": "Table of Contents",
   "title_sidebar": "Contents",
   "toc_cell": false,
   "toc_position": {},
   "toc_section_display": true,
   "toc_window_display": false
  },
  "varInspector": {
   "cols": {
    "lenName": 16,
    "lenType": 16,
    "lenVar": 40
   },
   "kernels_config": {
    "python": {
     "delete_cmd_postfix": "",
     "delete_cmd_prefix": "del ",
     "library": "var_list.py",
     "varRefreshCmd": "print(var_dic_list())"
    },
    "r": {
     "delete_cmd_postfix": ") ",
     "delete_cmd_prefix": "rm(",
     "library": "var_list.r",
     "varRefreshCmd": "cat(var_dic_list()) "
    }
   },
   "oldHeight": 745.183666,
   "position": {
    "height": "40px",
    "left": "717.5px",
    "right": "20px",
    "top": "55px",
    "width": "800px"
   },
   "types_to_exclude": [
    "module",
    "function",
    "builtin_function_or_method",
    "instance",
    "_Feature"
   ],
   "varInspector_section_display": "none",
   "window_display": false
  }
 },
 "nbformat": 4,
 "nbformat_minor": 2
}
