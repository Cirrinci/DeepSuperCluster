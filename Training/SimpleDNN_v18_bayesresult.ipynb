{
 "cells": [
  {
   "cell_type": "code",
   "execution_count": 3,
   "metadata": {
    "ExecuteTime": {
     "end_time": "2020-05-04T14:22:35.838781Z",
     "start_time": "2020-05-04T14:22:35.831130Z"
    }
   },
   "outputs": [],
   "source": [
    "import pickle\n",
    "import numpy as np \n",
    "import pandas as pd\n",
    "import matplotlib.colors as colors\n",
    "import matplotlib.pyplot as plt\n",
    "import matplotlib as mpl\n",
    "import os \n",
    "import glob\n",
    "\n",
    "\n",
    "mpl.rcParams['figure.figsize'] = (5,5)\n",
    "mpl.rcParams['figure.dpi'] = 150\n",
    "mpl.rcParams[\"image.origin\"] = 'lower'"
   ]
  },
  {
   "cell_type": "code",
   "execution_count": 4,
   "metadata": {
    "ExecuteTime": {
     "end_time": "2020-05-04T14:22:36.542179Z",
     "start_time": "2020-05-04T14:22:36.538268Z"
    }
   },
   "outputs": [],
   "source": [
    "model_name = \"v18_bayesresult\"\n",
    "model_dir = \"../models/\"+model_name\n",
    "model_version = 1\n",
    "numpy_version = 1\n",
    "limit_files = 25\n",
    "cols = [\"seed_eta\", \"seed_iz\",\"en_seed\",\"et_seed\",\n",
    "        \"cluster_deta\", \"cluster_dphi\", \"en_cluster\", \"et_cluster\",\n",
    "       \"seed_f5_r9\", \"seed_f5_sigmaIetaIeta\",\"seed_f5_sigmaIetaIphi\",\"seed_f5_sigmaIphiIphi\",\n",
    "        \"seed_f5_swissCross\",\"seed_nxtals\", \"seed_etaWidth\", \"seed_phiWidth\",\n",
    "        \"cl_f5_r9\", \"cl_f5_sigmaIetaIeta\",\"cl_f5_sigmaIetaIphi\",\"cl_f5_sigmaIphiIphi\",\n",
    "        \"cl_f5_swissCross\", \"cl_nxtals\", \"cl_etaWidth\", \"cl_phiWidth\"]\n",
    "\n",
    "os.makedirs(model_dir, exist_ok = True)\n",
    "with open(\"variables.txt\", \"w\") as of:\n",
    "    of.write(\"\\n\".join(cols))"
   ]
  },
  {
   "cell_type": "markdown",
   "metadata": {},
   "source": [
    "# Data preparation\n",
    "## Input: \n",
    "- E seed\n",
    "- eta,phi,z seed\n",
    "- E cluster\n",
    "- delta_eta,delta_phi,\n",
    "\n",
    "Filter only windows with the calo"
   ]
  },
  {
   "cell_type": "code",
   "execution_count": 5,
   "metadata": {},
   "outputs": [],
   "source": [
    "files_ele = f\"/storage/ECAL/training_data/wp_comparison/electrons/numpy_wp_ele_v{numpy_version}/training/\"\n",
    "files_gamma = f\"/storage/ECAL/training_data/wp_comparison/gammas/numpy_wp_gamma_v{numpy_version}/training/\""
   ]
  },
  {
   "cell_type": "code",
   "execution_count": 4,
   "metadata": {},
   "outputs": [],
   "source": [
    "files_ele = f\"/storage/ECAL/training_data/electrons/numpy_v{numpy_version}/training/\"\n",
    "files_gamma = f\"/storage/ECAL/training_data/gammas/numpy_v{numpy_version}/training/\""
   ]
  },
  {
   "cell_type": "code",
   "execution_count": 6,
   "metadata": {
    "ExecuteTime": {
     "start_time": "2020-05-04T14:22:39.023Z"
    }
   },
   "outputs": [
    {
     "name": "stdout",
     "output_type": "stream",
     "text": [
      "N events ele:  12175090\n",
      "N events gamma:  11780261\n"
     ]
    }
   ],
   "source": [
    "datas_ele = []\n",
    "\n",
    "i = 0\n",
    "for f in glob.glob(files_ele+\"*.pkl\"):\n",
    "    if i>limit_files :continue\n",
    "    d = pickle.load(open(f, \"rb\"))   \n",
    "    datas_ele.append(d[d.is_seed == False])\n",
    "    i+=1\n",
    "    \n",
    "data_ele = pd.concat(datas_ele, ignore_index=True)\n",
    "data_ele[\"particle\"] = \"electron\"\n",
    "print(\"N events ele: \",len(data_ele))\n",
    "\n",
    "datas_gamma = []\n",
    "i = 0\n",
    "for f in glob.glob(files_gamma+\"*.pkl\"):\n",
    "    if i>limit_files :continue\n",
    "    d = pickle.load(open(f, \"rb\"))  \n",
    "    datas_gamma.append(d[d.is_seed==False])\n",
    "    i+=1\n",
    "    \n",
    "data_gamma = pd.concat(datas_gamma, ignore_index=True)\n",
    "data_gamma[\"particle\"] = \"gamma\"\n",
    "print(\"N events gamma: \",len(data_gamma))\n",
    "\n",
    "if data_ele.shape[0]> data_gamma.shape[0]:\n",
    "    data = pd.concat([data_gamma, data_ele.iloc[0:len(data_gamma)]], ignore_index=True)\n",
    "else:\n",
    "    data = pd.concat([data_gamma.iloc[0:len(data_ele)], data_ele], ignore_index=True)\n",
    "    \n",
    "del data_gamma\n",
    "del data_ele"
   ]
  },
  {
   "cell_type": "markdown",
   "metadata": {},
   "source": [
    "Balance gamma and electron"
   ]
  },
  {
   "cell_type": "code",
   "execution_count": 5,
   "metadata": {
    "ExecuteTime": {
     "start_time": "2020-05-04T14:14:26.563Z"
    }
   },
   "outputs": [],
   "source": [
    "data_EB = data[data.seed_iz == 0]\n",
    "data_EE = data[data.seed_iz != 0]"
   ]
  },
  {
   "cell_type": "code",
   "execution_count": 6,
   "metadata": {
    "ExecuteTime": {
     "end_time": "2020-05-03T14:58:15.903327Z",
     "start_time": "2020-05-03T14:58:12.456898Z"
    }
   },
   "outputs": [
    {
     "name": "stdout",
     "output_type": "stream",
     "text": [
      "Sample in EB: 7399437\n",
      "Sample in EE: 2563543\n",
      "Sample in EB in SC: 444591\n",
      "Sample in EE in SC: 181691\n",
      "N in supercluster:  626282\n",
      "N out supercluster:  9336698\n",
      "14.908137228916047\n"
     ]
    }
   ],
   "source": [
    "print(\"Sample in EB:\", len(data[abs(data.seed_eta) <1.479]))\n",
    "print(\"Sample in EE:\", len(data[abs(data.seed_eta) >=1.479]))\n",
    "print(\"Sample in EB in SC:\", len(data[(abs(data.seed_eta) <1.479)&(data.in_scluster)]))\n",
    "print(\"Sample in EE in SC:\", len(data[(abs(data.seed_eta) >=1.479)&(data.in_scluster)]))\n",
    "print(\"N in supercluster: \", len(data[ data.in_scluster]))\n",
    "print(\"N out supercluster: \", len(data[data.in_scluster == False]))\n",
    "w = len(data[(data.is_seed == False) & (data.in_scluster == False)]) / len(data[(data.is_seed == False) & (data.in_scluster==True)])\n",
    "print(w)"
   ]
  },
  {
   "cell_type": "code",
   "execution_count": 7,
   "metadata": {
    "ExecuteTime": {
     "end_time": "2020-05-03T14:58:46.167174Z",
     "start_time": "2020-05-03T14:58:45.165966Z"
    }
   },
   "outputs": [
    {
     "name": "stdout",
     "output_type": "stream",
     "text": [
      "caloMatch samples:  1639480\n",
      "Not caloMatch samples:  8323500\n"
     ]
    }
   ],
   "source": [
    "print(\"caloMatch samples: \", len(data[data.is_calo_matched]))\n",
    "print(\"Not caloMatch samples: \", len(data[data.is_calo_matched ==False]))"
   ]
  },
  {
   "cell_type": "markdown",
   "metadata": {},
   "source": [
    "# Data Preparation"
   ]
  },
  {
   "cell_type": "code",
   "execution_count": 12,
   "metadata": {
    "ExecuteTime": {
     "end_time": "2020-05-03T19:39:50.337125Z",
     "start_time": "2020-05-03T19:39:50.330651Z"
    }
   },
   "outputs": [],
   "source": [
    "if det == \"EB\":\n",
    "    data = data_EB\n",
    "if det == \"EE\":\n",
    "    data = data_EE"
   ]
  },
  {
   "cell_type": "markdown",
   "metadata": {},
   "source": [
    "## Reweighting\n",
    "Only the classes are reweighted, not in Et/eta bins"
   ]
  },
  {
   "cell_type": "code",
   "execution_count": 7,
   "metadata": {},
   "outputs": [
    {
     "name": "stdout",
     "output_type": "stream",
     "text": [
      "Weight  14.974448229289274\n"
     ]
    }
   ],
   "source": [
    "w = len(data[(data.is_seed == False) & (data.in_scluster == False)]) / len(data[(data.is_seed == False) & (data.in_scluster==True)])\n",
    "print(\"Weight \",w)\n",
    "data.loc[data.in_scluster,\"w\"] = w\n",
    "data.loc[data.in_scluster==False, \"w\"] = 1."
   ]
  },
  {
   "cell_type": "markdown",
   "metadata": {},
   "source": [
    "# Array preparation"
   ]
  },
  {
   "cell_type": "code",
   "execution_count": 28,
   "metadata": {},
   "outputs": [
    {
     "data": {
      "text/html": [
       "<div>\n",
       "<style scoped>\n",
       "    .dataframe tbody tr th:only-of-type {\n",
       "        vertical-align: middle;\n",
       "    }\n",
       "\n",
       "    .dataframe tbody tr th {\n",
       "        vertical-align: top;\n",
       "    }\n",
       "\n",
       "    .dataframe thead th {\n",
       "        text-align: right;\n",
       "    }\n",
       "</style>\n",
       "<table border=\"1\" class=\"dataframe\">\n",
       "  <thead>\n",
       "    <tr style=\"text-align: right;\">\n",
       "      <th></th>\n",
       "      <th>calo_seed_index</th>\n",
       "      <th>cl_etaWidth</th>\n",
       "      <th>cl_f5_r9</th>\n",
       "      <th>cl_f5_sigmaIetaIeta</th>\n",
       "      <th>cl_f5_sigmaIetaIphi</th>\n",
       "      <th>cl_f5_sigmaIphiIphi</th>\n",
       "      <th>cl_f5_swissCross</th>\n",
       "      <th>cl_nxtals</th>\n",
       "      <th>cl_phiWidth</th>\n",
       "      <th>cluster_deta</th>\n",
       "      <th>...</th>\n",
       "      <th>seed_f5_swissCross</th>\n",
       "      <th>seed_iz</th>\n",
       "      <th>seed_nxtals</th>\n",
       "      <th>seed_phi</th>\n",
       "      <th>seed_phiWidth</th>\n",
       "      <th>window_index</th>\n",
       "      <th>particle</th>\n",
       "      <th>et_bin</th>\n",
       "      <th>eta_bin</th>\n",
       "      <th>w</th>\n",
       "    </tr>\n",
       "  </thead>\n",
       "  <tbody>\n",
       "    <tr>\n",
       "      <th>1</th>\n",
       "      <td>-1</td>\n",
       "      <td>0.002766</td>\n",
       "      <td>1.000000</td>\n",
       "      <td>0.000000</td>\n",
       "      <td>0.000000</td>\n",
       "      <td>0.000000</td>\n",
       "      <td>1.000000</td>\n",
       "      <td>1</td>\n",
       "      <td>0.002089</td>\n",
       "      <td>-0.016367</td>\n",
       "      <td>...</td>\n",
       "      <td>0.688010</td>\n",
       "      <td>0</td>\n",
       "      <td>3</td>\n",
       "      <td>-2.834352</td>\n",
       "      <td>0.004936</td>\n",
       "      <td>hvlerqxix</td>\n",
       "      <td>gamma</td>\n",
       "      <td>0</td>\n",
       "      <td>3</td>\n",
       "      <td>1.000000</td>\n",
       "    </tr>\n",
       "    <tr>\n",
       "      <th>5</th>\n",
       "      <td>2</td>\n",
       "      <td>0.002557</td>\n",
       "      <td>1.000000</td>\n",
       "      <td>0.000000</td>\n",
       "      <td>0.000000</td>\n",
       "      <td>0.000000</td>\n",
       "      <td>1.000000</td>\n",
       "      <td>1</td>\n",
       "      <td>0.001303</td>\n",
       "      <td>0.102629</td>\n",
       "      <td>...</td>\n",
       "      <td>0.238974</td>\n",
       "      <td>0</td>\n",
       "      <td>22</td>\n",
       "      <td>2.334469</td>\n",
       "      <td>0.018377</td>\n",
       "      <td>hwwsnyejt</td>\n",
       "      <td>gamma</td>\n",
       "      <td>8</td>\n",
       "      <td>3</td>\n",
       "      <td>1.000000</td>\n",
       "    </tr>\n",
       "    <tr>\n",
       "      <th>6</th>\n",
       "      <td>-1</td>\n",
       "      <td>0.002266</td>\n",
       "      <td>1.647160</td>\n",
       "      <td>0.009259</td>\n",
       "      <td>0.000043</td>\n",
       "      <td>0.008191</td>\n",
       "      <td>0.701537</td>\n",
       "      <td>1</td>\n",
       "      <td>0.001874</td>\n",
       "      <td>-0.158738</td>\n",
       "      <td>...</td>\n",
       "      <td>0.688010</td>\n",
       "      <td>0</td>\n",
       "      <td>3</td>\n",
       "      <td>-2.834352</td>\n",
       "      <td>0.004936</td>\n",
       "      <td>hvlerqxix</td>\n",
       "      <td>gamma</td>\n",
       "      <td>0</td>\n",
       "      <td>3</td>\n",
       "      <td>1.000000</td>\n",
       "    </tr>\n",
       "    <tr>\n",
       "      <th>10</th>\n",
       "      <td>2</td>\n",
       "      <td>0.002434</td>\n",
       "      <td>1.000000</td>\n",
       "      <td>0.000000</td>\n",
       "      <td>0.000000</td>\n",
       "      <td>0.000000</td>\n",
       "      <td>1.000000</td>\n",
       "      <td>1</td>\n",
       "      <td>0.001172</td>\n",
       "      <td>0.136999</td>\n",
       "      <td>...</td>\n",
       "      <td>0.238974</td>\n",
       "      <td>0</td>\n",
       "      <td>22</td>\n",
       "      <td>2.334469</td>\n",
       "      <td>0.018377</td>\n",
       "      <td>hwwsnyejt</td>\n",
       "      <td>gamma</td>\n",
       "      <td>8</td>\n",
       "      <td>3</td>\n",
       "      <td>1.000000</td>\n",
       "    </tr>\n",
       "    <tr>\n",
       "      <th>11</th>\n",
       "      <td>1</td>\n",
       "      <td>0.002267</td>\n",
       "      <td>1.000000</td>\n",
       "      <td>0.000000</td>\n",
       "      <td>0.000000</td>\n",
       "      <td>0.000000</td>\n",
       "      <td>1.000000</td>\n",
       "      <td>1</td>\n",
       "      <td>0.001510</td>\n",
       "      <td>0.146770</td>\n",
       "      <td>...</td>\n",
       "      <td>0.341402</td>\n",
       "      <td>0</td>\n",
       "      <td>2</td>\n",
       "      <td>-0.967447</td>\n",
       "      <td>0.001695</td>\n",
       "      <td>maaimtxxj</td>\n",
       "      <td>gamma</td>\n",
       "      <td>0</td>\n",
       "      <td>6</td>\n",
       "      <td>1.000000</td>\n",
       "    </tr>\n",
       "    <tr>\n",
       "      <th>...</th>\n",
       "      <td>...</td>\n",
       "      <td>...</td>\n",
       "      <td>...</td>\n",
       "      <td>...</td>\n",
       "      <td>...</td>\n",
       "      <td>...</td>\n",
       "      <td>...</td>\n",
       "      <td>...</td>\n",
       "      <td>...</td>\n",
       "      <td>...</td>\n",
       "      <td>...</td>\n",
       "      <td>...</td>\n",
       "      <td>...</td>\n",
       "      <td>...</td>\n",
       "      <td>...</td>\n",
       "      <td>...</td>\n",
       "      <td>...</td>\n",
       "      <td>...</td>\n",
       "      <td>...</td>\n",
       "      <td>...</td>\n",
       "      <td>...</td>\n",
       "    </tr>\n",
       "    <tr>\n",
       "      <th>34420905</th>\n",
       "      <td>2</td>\n",
       "      <td>0.002469</td>\n",
       "      <td>1.000000</td>\n",
       "      <td>0.014994</td>\n",
       "      <td>-0.000176</td>\n",
       "      <td>0.014128</td>\n",
       "      <td>0.307549</td>\n",
       "      <td>1</td>\n",
       "      <td>0.008952</td>\n",
       "      <td>-0.184024</td>\n",
       "      <td>...</td>\n",
       "      <td>0.707970</td>\n",
       "      <td>0</td>\n",
       "      <td>1</td>\n",
       "      <td>-0.480436</td>\n",
       "      <td>0.001315</td>\n",
       "      <td>isxkdovpx</td>\n",
       "      <td>electron</td>\n",
       "      <td>0</td>\n",
       "      <td>3</td>\n",
       "      <td>1.000000</td>\n",
       "    </tr>\n",
       "    <tr>\n",
       "      <th>34420906</th>\n",
       "      <td>1</td>\n",
       "      <td>0.002529</td>\n",
       "      <td>1.616666</td>\n",
       "      <td>0.018228</td>\n",
       "      <td>0.000150</td>\n",
       "      <td>0.017587</td>\n",
       "      <td>0.663418</td>\n",
       "      <td>1</td>\n",
       "      <td>0.001423</td>\n",
       "      <td>0.001223</td>\n",
       "      <td>...</td>\n",
       "      <td>0.112008</td>\n",
       "      <td>0</td>\n",
       "      <td>2</td>\n",
       "      <td>1.597663</td>\n",
       "      <td>0.014243</td>\n",
       "      <td>vcolwulhq</td>\n",
       "      <td>electron</td>\n",
       "      <td>1</td>\n",
       "      <td>6</td>\n",
       "      <td>16.916718</td>\n",
       "    </tr>\n",
       "    <tr>\n",
       "      <th>34420907</th>\n",
       "      <td>1</td>\n",
       "      <td>0.002505</td>\n",
       "      <td>1.249638</td>\n",
       "      <td>0.008355</td>\n",
       "      <td>-0.000112</td>\n",
       "      <td>0.015185</td>\n",
       "      <td>0.750362</td>\n",
       "      <td>3</td>\n",
       "      <td>0.001400</td>\n",
       "      <td>0.018357</td>\n",
       "      <td>...</td>\n",
       "      <td>0.112008</td>\n",
       "      <td>0</td>\n",
       "      <td>2</td>\n",
       "      <td>1.597663</td>\n",
       "      <td>0.014243</td>\n",
       "      <td>vcolwulhq</td>\n",
       "      <td>electron</td>\n",
       "      <td>1</td>\n",
       "      <td>6</td>\n",
       "      <td>16.916718</td>\n",
       "    </tr>\n",
       "    <tr>\n",
       "      <th>34420909</th>\n",
       "      <td>-1</td>\n",
       "      <td>0.002163</td>\n",
       "      <td>1.000000</td>\n",
       "      <td>0.000000</td>\n",
       "      <td>0.000000</td>\n",
       "      <td>0.000000</td>\n",
       "      <td>1.000000</td>\n",
       "      <td>1</td>\n",
       "      <td>0.002124</td>\n",
       "      <td>-0.178211</td>\n",
       "      <td>...</td>\n",
       "      <td>1.000000</td>\n",
       "      <td>0</td>\n",
       "      <td>1</td>\n",
       "      <td>-0.864838</td>\n",
       "      <td>0.002363</td>\n",
       "      <td>lxponyheo</td>\n",
       "      <td>electron</td>\n",
       "      <td>0</td>\n",
       "      <td>4</td>\n",
       "      <td>1.000000</td>\n",
       "    </tr>\n",
       "    <tr>\n",
       "      <th>34420910</th>\n",
       "      <td>1</td>\n",
       "      <td>0.002457</td>\n",
       "      <td>1.262919</td>\n",
       "      <td>0.021749</td>\n",
       "      <td>0.000040</td>\n",
       "      <td>0.024886</td>\n",
       "      <td>-0.122740</td>\n",
       "      <td>1</td>\n",
       "      <td>0.008694</td>\n",
       "      <td>0.035227</td>\n",
       "      <td>...</td>\n",
       "      <td>0.112008</td>\n",
       "      <td>0</td>\n",
       "      <td>2</td>\n",
       "      <td>1.597663</td>\n",
       "      <td>0.014243</td>\n",
       "      <td>vcolwulhq</td>\n",
       "      <td>electron</td>\n",
       "      <td>1</td>\n",
       "      <td>6</td>\n",
       "      <td>1.000000</td>\n",
       "    </tr>\n",
       "  </tbody>\n",
       "</table>\n",
       "<p>25555153 rows × 46 columns</p>\n",
       "</div>"
      ],
      "text/plain": [
       "          calo_seed_index  cl_etaWidth  cl_f5_r9  cl_f5_sigmaIetaIeta  \\\n",
       "1                      -1     0.002766  1.000000             0.000000   \n",
       "5                       2     0.002557  1.000000             0.000000   \n",
       "6                      -1     0.002266  1.647160             0.009259   \n",
       "10                      2     0.002434  1.000000             0.000000   \n",
       "11                      1     0.002267  1.000000             0.000000   \n",
       "...                   ...          ...       ...                  ...   \n",
       "34420905                2     0.002469  1.000000             0.014994   \n",
       "34420906                1     0.002529  1.616666             0.018228   \n",
       "34420907                1     0.002505  1.249638             0.008355   \n",
       "34420909               -1     0.002163  1.000000             0.000000   \n",
       "34420910                1     0.002457  1.262919             0.021749   \n",
       "\n",
       "          cl_f5_sigmaIetaIphi  cl_f5_sigmaIphiIphi  cl_f5_swissCross  \\\n",
       "1                    0.000000             0.000000          1.000000   \n",
       "5                    0.000000             0.000000          1.000000   \n",
       "6                    0.000043             0.008191          0.701537   \n",
       "10                   0.000000             0.000000          1.000000   \n",
       "11                   0.000000             0.000000          1.000000   \n",
       "...                       ...                  ...               ...   \n",
       "34420905            -0.000176             0.014128          0.307549   \n",
       "34420906             0.000150             0.017587          0.663418   \n",
       "34420907            -0.000112             0.015185          0.750362   \n",
       "34420909             0.000000             0.000000          1.000000   \n",
       "34420910             0.000040             0.024886         -0.122740   \n",
       "\n",
       "          cl_nxtals  cl_phiWidth  cluster_deta  ...  seed_f5_swissCross  \\\n",
       "1                 1     0.002089     -0.016367  ...            0.688010   \n",
       "5                 1     0.001303      0.102629  ...            0.238974   \n",
       "6                 1     0.001874     -0.158738  ...            0.688010   \n",
       "10                1     0.001172      0.136999  ...            0.238974   \n",
       "11                1     0.001510      0.146770  ...            0.341402   \n",
       "...             ...          ...           ...  ...                 ...   \n",
       "34420905          1     0.008952     -0.184024  ...            0.707970   \n",
       "34420906          1     0.001423      0.001223  ...            0.112008   \n",
       "34420907          3     0.001400      0.018357  ...            0.112008   \n",
       "34420909          1     0.002124     -0.178211  ...            1.000000   \n",
       "34420910          1     0.008694      0.035227  ...            0.112008   \n",
       "\n",
       "          seed_iz  seed_nxtals  seed_phi  seed_phiWidth  window_index  \\\n",
       "1               0            3 -2.834352       0.004936     hvlerqxix   \n",
       "5               0           22  2.334469       0.018377     hwwsnyejt   \n",
       "6               0            3 -2.834352       0.004936     hvlerqxix   \n",
       "10              0           22  2.334469       0.018377     hwwsnyejt   \n",
       "11              0            2 -0.967447       0.001695     maaimtxxj   \n",
       "...           ...          ...       ...            ...           ...   \n",
       "34420905        0            1 -0.480436       0.001315     isxkdovpx   \n",
       "34420906        0            2  1.597663       0.014243     vcolwulhq   \n",
       "34420907        0            2  1.597663       0.014243     vcolwulhq   \n",
       "34420909        0            1 -0.864838       0.002363     lxponyheo   \n",
       "34420910        0            2  1.597663       0.014243     vcolwulhq   \n",
       "\n",
       "          particle  et_bin  eta_bin          w  \n",
       "1            gamma       0        3   1.000000  \n",
       "5            gamma       8        3   1.000000  \n",
       "6            gamma       0        3   1.000000  \n",
       "10           gamma       8        3   1.000000  \n",
       "11           gamma       0        6   1.000000  \n",
       "...            ...     ...      ...        ...  \n",
       "34420905  electron       0        3   1.000000  \n",
       "34420906  electron       1        6  16.916718  \n",
       "34420907  electron       1        6  16.916718  \n",
       "34420909  electron       0        4   1.000000  \n",
       "34420910  electron       1        6   1.000000  \n",
       "\n",
       "[25555153 rows x 46 columns]"
      ]
     },
     "execution_count": 28,
     "metadata": {},
     "output_type": "execute_result"
    }
   ],
   "source": [
    "data"
   ]
  },
  {
   "cell_type": "code",
   "execution_count": 8,
   "metadata": {
    "ExecuteTime": {
     "end_time": "2020-05-03T19:40:22.348120Z",
     "start_time": "2020-05-03T19:40:21.924777Z"
    }
   },
   "outputs": [],
   "source": [
    "X = data[ cols ].values\n",
    "truth = data[[\"in_scluster\"]].values\n",
    "y = np.array(truth[:], dtype=int)\n",
    "weights = data.w.values"
   ]
  },
  {
   "cell_type": "code",
   "execution_count": 9,
   "metadata": {
    "ExecuteTime": {
     "end_time": "2020-05-03T16:59:09.418959Z",
     "start_time": "2020-05-03T16:59:08.383315Z"
    }
   },
   "outputs": [],
   "source": [
    "from sklearn.preprocessing import MinMaxScaler, StandardScaler, QuantileTransformer\n",
    "from sklearn.model_selection import train_test_split\n",
    "scaler = StandardScaler()\n",
    "X_scaled = scaler.fit_transform(X)\n",
    "\n"
   ]
  },
  {
   "cell_type": "code",
   "execution_count": 10,
   "metadata": {},
   "outputs": [],
   "source": [
    "pickle.dump(scaler, open(model_dir + \"/scaler_model_v{}.pkl\".format(model_version), \"wb\"))"
   ]
  },
  {
   "cell_type": "code",
   "execution_count": 11,
   "metadata": {
    "ExecuteTime": {
     "end_time": "2020-04-27T20:36:06.424318Z",
     "start_time": "2020-04-27T20:36:06.415406Z"
    }
   },
   "outputs": [
    {
     "data": {
      "text/plain": [
       "array([ 6.59605159e-03,  1.40310983e-03,  5.81520619e+01,  2.57268528e+01,\n",
       "       -7.60385364e-04, -8.20990424e-05,  1.30389782e+00,  5.67076975e-01,\n",
       "        1.00779321e+00,  1.35849840e-02, -4.39461231e-06,  1.71042198e-02,\n",
       "        4.90437527e-01,  5.08827453e+00,  8.82387165e-03,  1.04089082e-02,\n",
       "        1.92350734e+00,  1.31540746e-02,  1.63013622e-05,  1.42988754e-02,\n",
       "        5.92932189e-01,  1.49464371e+00,  3.36168707e-03,  3.06380062e-03])"
      ]
     },
     "execution_count": 11,
     "metadata": {},
     "output_type": "execute_result"
    }
   ],
   "source": [
    "scaler.mean_"
   ]
  },
  {
   "cell_type": "code",
   "execution_count": 12,
   "metadata": {
    "ExecuteTime": {
     "end_time": "2020-04-27T20:36:11.862086Z",
     "start_time": "2020-04-27T20:36:11.856918Z"
    }
   },
   "outputs": [
    {
     "data": {
      "text/plain": [
       "array([1.31374887e+00, 5.07153804e-01, 9.20833733e+01, 2.98672898e+01,\n",
       "       1.10282082e-01, 3.30509185e-01, 2.62803922e+00, 1.16235636e+00,\n",
       "       1.28405813e-01, 1.12011772e-02, 1.86584005e-04, 1.31021698e-02,\n",
       "       4.01940837e-01, 5.66432789e+00, 6.14518214e-03, 7.25111773e-03,\n",
       "       7.83279567e+00, 1.70455724e-02, 3.06048936e-04, 1.80199726e-02,\n",
       "       1.99289103e+00, 1.88525191e+00, 4.12279432e-03, 4.79732956e-03])"
      ]
     },
     "execution_count": 12,
     "metadata": {},
     "output_type": "execute_result"
    }
   ],
   "source": [
    "scaler.scale_"
   ]
  },
  {
   "cell_type": "code",
   "execution_count": 13,
   "metadata": {},
   "outputs": [
    {
     "name": "stdout",
     "output_type": "stream",
     "text": [
      "N. samples: 23560522\n"
     ]
    }
   ],
   "source": [
    "print(\"N. samples:\", X.shape[0])"
   ]
  },
  {
   "cell_type": "code",
   "execution_count": 14,
   "metadata": {
    "ExecuteTime": {
     "end_time": "2020-05-03T19:42:21.213537Z",
     "start_time": "2020-05-03T19:42:20.253569Z"
    }
   },
   "outputs": [],
   "source": [
    "X_train, X_val, y_train, y_val, w_train, w_val = train_test_split(X_scaled, y, weights, test_size=0.20,\n",
    "                                                stratify=y)"
   ]
  },
  {
   "cell_type": "markdown",
   "metadata": {},
   "source": [
    "### Some plots"
   ]
  },
  {
   "cell_type": "markdown",
   "metadata": {},
   "source": [
    "# Training"
   ]
  },
  {
   "cell_type": "code",
   "execution_count": 1,
   "metadata": {
    "ExecuteTime": {
     "end_time": "2020-05-03T15:15:19.694207Z",
     "start_time": "2020-05-03T15:15:13.962325Z"
    }
   },
   "outputs": [
    {
     "name": "stderr",
     "output_type": "stream",
     "text": [
      "Using TensorFlow backend.\n"
     ]
    }
   ],
   "source": [
    "# Import all the required Libraries\n",
    "import tensorflow\n",
    "import keras\n",
    "import pandas as pd\n",
    "import numpy as np\n",
    "import matplotlib.pyplot as plt\n",
    "from keras.datasets import mnist\n",
    "from keras.models import Model, Sequential\n",
    "from keras.layers import Dense, Conv2D, Dropout, BatchNormalization, Input, Reshape, Flatten, Deconvolution2D, Conv2DTranspose, MaxPooling2D, UpSampling2D, Lambda\n",
    "from keras.layers.advanced_activations import LeakyReLU\n",
    "from keras.optimizers import adam\n",
    "from keras import callbacks\n",
    "from keras import backend as K\n",
    "from keras import regularizers\n",
    "from keras.callbacks import *\n",
    "from keras.metrics import AUC"
   ]
  },
  {
   "cell_type": "code",
   "execution_count": 15,
   "metadata": {},
   "outputs": [
    {
     "name": "stdout",
     "output_type": "stream",
     "text": [
      "Model: \"sequential_2\"\n",
      "_________________________________________________________________\n",
      "Layer (type)                 Output Shape              Param #   \n",
      "=================================================================\n",
      "dense_1 (Dense)              (None, 220)               5500      \n",
      "_________________________________________________________________\n",
      "dense_2 (Dense)              (None, 220)               48620     \n",
      "_________________________________________________________________\n",
      "dense_3 (Dense)              (None, 220)               48620     \n",
      "_________________________________________________________________\n",
      "dense_4 (Dense)              (None, 220)               48620     \n",
      "_________________________________________________________________\n",
      "dense_5 (Dense)              (None, 220)               48620     \n",
      "_________________________________________________________________\n",
      "dense_6 (Dense)              (None, 220)               48620     \n",
      "_________________________________________________________________\n",
      "dense_7 (Dense)              (None, 1)                 221       \n",
      "=================================================================\n",
      "Total params: 248,821\n",
      "Trainable params: 248,821\n",
      "Non-trainable params: 0\n",
      "_________________________________________________________________\n"
     ]
    }
   ],
   "source": [
    "model = Sequential()\n",
    "model.add(Dense(220, input_dim=X_val.shape[1], activation=\"relu\"))\n",
    "for i in range(5):\n",
    "    model.add(Dense(220, activation=\"relu\"))\n",
    "\n",
    "model.add(Dense(1, activation=\"sigmoid\"))\n",
    "\n",
    "model.compile(optimizer='adam',\n",
    "              loss='binary_crossentropy',\n",
    "              metrics=['accuracy',AUC()])\n",
    "\n",
    "model.summary()"
   ]
  },
  {
   "cell_type": "code",
   "execution_count": 23,
   "metadata": {
    "ExecuteTime": {
     "end_time": "2020-04-27T20:43:36.141251Z",
     "start_time": "2020-04-27T20:43:36.131252Z"
    }
   },
   "outputs": [],
   "source": [
    "import math\n",
    "def step_decay(epoch):\n",
    "    initial_lrate = 1\n",
    "    drop = 0.5\n",
    "    epochs_drop = 2.0\n",
    "    lrate = initial_lrate * math.pow(drop, math.floor((1+epoch)/epochs_drop))\n",
    "    if lrate < 0.005: return 0.005\n",
    "    return lrate"
   ]
  },
  {
   "cell_type": "code",
   "execution_count": 11,
   "metadata": {},
   "outputs": [],
   "source": [
    "from keras import models\n",
    "model = models.load_model(model_dir+ \"/model_v{}.hd5\".format(model_version))\n",
    "scaler = pickle.load(open(model_dir+ \"/scaler_model_v{}.pkl\".format(model_version), \"rb\"))"
   ]
  },
  {
   "cell_type": "code",
   "execution_count": 16,
   "metadata": {
    "ExecuteTime": {
     "end_time": "2020-05-03T17:51:50.420166Z",
     "start_time": "2020-05-03T17:00:34.510038Z"
    },
    "scrolled": false
   },
   "outputs": [
    {
     "name": "stdout",
     "output_type": "stream",
     "text": [
      "Train on 18848417 samples, validate on 4712105 samples\n",
      "Epoch 1/300\n",
      "18848417/18848417 [==============================] - 110s 6us/step - loss: 0.2633 - accuracy: 0.9409 - auc_1: 0.9877 - val_loss: 0.2506 - val_accuracy: 0.9303 - val_auc_1: 0.9893\n",
      "\n",
      "Epoch 00001: val_loss improved from inf to 0.25064, saving model to ../models/v18_bayesresult/model_v1.hd5\n",
      "Epoch 2/300\n",
      "18848417/18848417 [==============================] - 110s 6us/step - loss: 0.2374 - accuracy: 0.9466 - auc_1: 0.9899 - val_loss: 0.2334 - val_accuracy: 0.9496 - val_auc_1: 0.9903\n",
      "\n",
      "Epoch 00002: val_loss improved from 0.25064 to 0.23336, saving model to ../models/v18_bayesresult/model_v1.hd5\n",
      "Epoch 3/300\n",
      "18848417/18848417 [==============================] - 112s 6us/step - loss: 0.2322 - accuracy: 0.9478 - auc_1: 0.9903 - val_loss: 0.2313 - val_accuracy: 0.9452 - val_auc_1: 0.9906\n",
      "\n",
      "Epoch 00003: val_loss improved from 0.23336 to 0.23127, saving model to ../models/v18_bayesresult/model_v1.hd5\n",
      "Epoch 4/300\n",
      "18848417/18848417 [==============================] - 113s 6us/step - loss: 0.2291 - accuracy: 0.9484 - auc_1: 0.9906 - val_loss: 0.2291 - val_accuracy: 0.9490 - val_auc_1: 0.9906\n",
      "\n",
      "Epoch 00004: val_loss improved from 0.23127 to 0.22914, saving model to ../models/v18_bayesresult/model_v1.hd5\n",
      "Epoch 5/300\n",
      "18848417/18848417 [==============================] - 113s 6us/step - loss: 0.2268 - accuracy: 0.9487 - auc_1: 0.9907 - val_loss: 0.2277 - val_accuracy: 0.9465 - val_auc_1: 0.9907\n",
      "\n",
      "Epoch 00005: val_loss improved from 0.22914 to 0.22767, saving model to ../models/v18_bayesresult/model_v1.hd5\n",
      "Epoch 6/300\n",
      "18848417/18848417 [==============================] - 111s 6us/step - loss: 0.2252 - accuracy: 0.9489 - auc_1: 0.9908 - val_loss: 0.2262 - val_accuracy: 0.9511 - val_auc_1: 0.9907\n",
      "\n",
      "Epoch 00006: val_loss improved from 0.22767 to 0.22617, saving model to ../models/v18_bayesresult/model_v1.hd5\n",
      "Epoch 7/300\n",
      "18848417/18848417 [==============================] - 112s 6us/step - loss: 0.2236 - accuracy: 0.9493 - auc_1: 0.9910 - val_loss: 0.2261 - val_accuracy: 0.9499 - val_auc_1: 0.9909\n",
      "\n",
      "Epoch 00007: val_loss improved from 0.22617 to 0.22613, saving model to ../models/v18_bayesresult/model_v1.hd5\n",
      "Epoch 8/300\n",
      "18848417/18848417 [==============================] - 112s 6us/step - loss: 0.2224 - accuracy: 0.9495 - auc_1: 0.9911 - val_loss: 0.2244 - val_accuracy: 0.9536 - val_auc_1: 0.9909\n",
      "\n",
      "Epoch 00008: val_loss improved from 0.22613 to 0.22444, saving model to ../models/v18_bayesresult/model_v1.hd5\n",
      "Epoch 9/300\n",
      "18848417/18848417 [==============================] - 112s 6us/step - loss: 0.2212 - accuracy: 0.9498 - auc_1: 0.9912 - val_loss: 0.2231 - val_accuracy: 0.9513 - val_auc_1: 0.9911\n",
      "\n",
      "Epoch 00009: val_loss improved from 0.22444 to 0.22309, saving model to ../models/v18_bayesresult/model_v1.hd5\n",
      "Epoch 10/300\n",
      "18848417/18848417 [==============================] - 112s 6us/step - loss: 0.2201 - accuracy: 0.9501 - auc_1: 0.9912 - val_loss: 0.2235 - val_accuracy: 0.9508 - val_auc_1: 0.9909\n",
      "\n",
      "Epoch 00010: val_loss did not improve from 0.22309\n",
      "Epoch 11/300\n",
      "18848417/18848417 [==============================] - 111s 6us/step - loss: 0.2194 - accuracy: 0.9504 - auc_1: 0.9913 - val_loss: 0.2226 - val_accuracy: 0.9515 - val_auc_1: 0.9911\n",
      "\n",
      "Epoch 00011: val_loss improved from 0.22309 to 0.22256, saving model to ../models/v18_bayesresult/model_v1.hd5\n",
      "Epoch 12/300\n",
      "18848417/18848417 [==============================] - 110s 6us/step - loss: 0.2187 - accuracy: 0.9503 - auc_1: 0.9913 - val_loss: 0.2235 - val_accuracy: 0.9531 - val_auc_1: 0.9910\n",
      "\n",
      "Epoch 00012: val_loss did not improve from 0.22256\n",
      "Epoch 13/300\n",
      "18848417/18848417 [==============================] - 111s 6us/step - loss: 0.2179 - accuracy: 0.9503 - auc_1: 0.9914 - val_loss: 0.2226 - val_accuracy: 0.9513 - val_auc_1: 0.9911\n",
      "\n",
      "Epoch 00013: val_loss did not improve from 0.22256\n",
      "Epoch 14/300\n",
      "18848417/18848417 [==============================] - 111s 6us/step - loss: 0.2174 - accuracy: 0.9504 - auc_1: 0.9914 - val_loss: 0.2211 - val_accuracy: 0.9500 - val_auc_1: 0.9912\n",
      "\n",
      "Epoch 00014: val_loss improved from 0.22256 to 0.22111, saving model to ../models/v18_bayesresult/model_v1.hd5\n",
      "Epoch 15/300\n",
      "18848417/18848417 [==============================] - 111s 6us/step - loss: 0.2165 - accuracy: 0.9503 - auc_1: 0.9915 - val_loss: 0.2220 - val_accuracy: 0.9464 - val_auc_1: 0.9911\n",
      "\n",
      "Epoch 00015: val_loss did not improve from 0.22111\n",
      "Epoch 16/300\n",
      "18848417/18848417 [==============================] - 111s 6us/step - loss: 0.2160 - accuracy: 0.9507 - auc_1: 0.9915 - val_loss: 0.2210 - val_accuracy: 0.9464 - val_auc_1: 0.9912\n",
      "\n",
      "Epoch 00016: val_loss improved from 0.22111 to 0.22097, saving model to ../models/v18_bayesresult/model_v1.hd5\n",
      "Epoch 17/300\n",
      "18848417/18848417 [==============================] - 110s 6us/step - loss: 0.2158 - accuracy: 0.9506 - auc_1: 0.9916 - val_loss: 0.2204 - val_accuracy: 0.9500 - val_auc_1: 0.9912\n",
      "\n",
      "Epoch 00017: val_loss improved from 0.22097 to 0.22039, saving model to ../models/v18_bayesresult/model_v1.hd5\n",
      "Epoch 18/300\n",
      "18848417/18848417 [==============================] - 111s 6us/step - loss: 0.2152 - accuracy: 0.9506 - auc_1: 0.9916 - val_loss: 0.2212 - val_accuracy: 0.9508 - val_auc_1: 0.9911\n",
      "\n",
      "Epoch 00018: val_loss did not improve from 0.22039\n",
      "Epoch 19/300\n",
      "18848417/18848417 [==============================] - 111s 6us/step - loss: 0.2146 - accuracy: 0.9505 - auc_1: 0.9917 - val_loss: 0.2217 - val_accuracy: 0.9506 - val_auc_1: 0.9911\n",
      "\n",
      "Epoch 00019: val_loss did not improve from 0.22039\n",
      "Epoch 20/300\n",
      "18848417/18848417 [==============================] - 111s 6us/step - loss: 0.2141 - accuracy: 0.9505 - auc_1: 0.9917 - val_loss: 0.2241 - val_accuracy: 0.9543 - val_auc_1: 0.9910\n",
      "\n",
      "Epoch 00020: val_loss did not improve from 0.22039\n",
      "Epoch 21/300\n",
      "18848417/18848417 [==============================] - 111s 6us/step - loss: 0.2138 - accuracy: 0.9505 - auc_1: 0.9917 - val_loss: 0.2222 - val_accuracy: 0.9483 - val_auc_1: 0.9911\n",
      "\n",
      "Epoch 00021: val_loss did not improve from 0.22039\n",
      "Epoch 22/300\n",
      "18848417/18848417 [==============================] - 110s 6us/step - loss: 0.2134 - accuracy: 0.9507 - auc_1: 0.9917 - val_loss: 0.2219 - val_accuracy: 0.9507 - val_auc_1: 0.9911\n",
      "\n",
      "Epoch 00022: val_loss did not improve from 0.22039\n",
      "Epoch 23/300\n",
      "18848417/18848417 [==============================] - 111s 6us/step - loss: 0.2128 - accuracy: 0.9507 - auc_1: 0.9918 - val_loss: 0.2214 - val_accuracy: 0.9520 - val_auc_1: 0.9911\n",
      "\n",
      "Epoch 00023: val_loss did not improve from 0.22039\n",
      "Epoch 24/300\n",
      "18848417/18848417 [==============================] - 111s 6us/step - loss: 0.2125 - accuracy: 0.9507 - auc_1: 0.9918 - val_loss: 0.2218 - val_accuracy: 0.9505 - val_auc_1: 0.9911\n",
      "\n",
      "Epoch 00024: val_loss did not improve from 0.22039\n",
      "Epoch 25/300\n",
      "18848417/18848417 [==============================] - 111s 6us/step - loss: 0.2121 - accuracy: 0.9507 - auc_1: 0.9918 - val_loss: 0.2227 - val_accuracy: 0.9480 - val_auc_1: 0.9910\n",
      "\n",
      "Epoch 00025: val_loss did not improve from 0.22039\n",
      "Epoch 26/300\n",
      "18848417/18848417 [==============================] - 111s 6us/step - loss: 0.2120 - accuracy: 0.9507 - auc_1: 0.9918 - val_loss: 0.2226 - val_accuracy: 0.9507 - val_auc_1: 0.9910\n",
      "\n",
      "Epoch 00026: val_loss did not improve from 0.22039\n",
      "Epoch 27/300\n",
      "18848417/18848417 [==============================] - 110s 6us/step - loss: 0.2114 - accuracy: 0.9506 - auc_1: 0.9919 - val_loss: 0.2224 - val_accuracy: 0.9490 - val_auc_1: 0.9911\n",
      "\n",
      "Epoch 00027: val_loss did not improve from 0.22039\n",
      "Epoch 28/300\n",
      "18848417/18848417 [==============================] - 111s 6us/step - loss: 0.2113 - accuracy: 0.9505 - auc_1: 0.9919 - val_loss: 0.2221 - val_accuracy: 0.9501 - val_auc_1: 0.9911\n",
      "\n",
      "Epoch 00028: val_loss did not improve from 0.22039\n",
      "Epoch 29/300\n",
      "18848417/18848417 [==============================] - 111s 6us/step - loss: 0.2105 - accuracy: 0.9508 - auc_1: 0.9919 - val_loss: 0.2236 - val_accuracy: 0.9505 - val_auc_1: 0.9909\n",
      "\n",
      "Epoch 00029: val_loss did not improve from 0.22039\n",
      "Epoch 30/300\n",
      "18848417/18848417 [==============================] - 111s 6us/step - loss: 0.2105 - accuracy: 0.9508 - auc_1: 0.9919 - val_loss: 0.2273 - val_accuracy: 0.9493 - val_auc_1: 0.9908\n",
      "\n",
      "Epoch 00030: val_loss did not improve from 0.22039\n",
      "Epoch 31/300\n"
     ]
    },
    {
     "name": "stdout",
     "output_type": "stream",
     "text": [
      "18848417/18848417 [==============================] - 111s 6us/step - loss: 0.2103 - accuracy: 0.9505 - auc_1: 0.9919 - val_loss: 0.2269 - val_accuracy: 0.9499 - val_auc_1: 0.9910\n",
      "\n",
      "Epoch 00031: val_loss did not improve from 0.22039\n",
      "Epoch 32/300\n",
      "18848417/18848417 [==============================] - 111s 6us/step - loss: 0.2097 - accuracy: 0.9508 - auc_1: 0.9920 - val_loss: 0.2382 - val_accuracy: 0.9526 - val_auc_1: 0.9909\n",
      "\n",
      "Epoch 00032: val_loss did not improve from 0.22039\n",
      "Epoch 33/300\n",
      "18848417/18848417 [==============================] - 111s 6us/step - loss: 0.2093 - accuracy: 0.9506 - auc_1: 0.9920 - val_loss: 0.2389 - val_accuracy: 0.9507 - val_auc_1: 0.9908\n",
      "\n",
      "Epoch 00033: val_loss did not improve from 0.22039\n",
      "Epoch 34/300\n",
      "18848417/18848417 [==============================] - 111s 6us/step - loss: 0.2093 - accuracy: 0.9503 - auc_1: 0.9920 - val_loss: 0.2242 - val_accuracy: 0.9506 - val_auc_1: 0.9910\n",
      "\n",
      "Epoch 00034: val_loss did not improve from 0.22039\n",
      "Epoch 35/300\n",
      "18848417/18848417 [==============================] - 111s 6us/step - loss: 0.2090 - accuracy: 0.9504 - auc_1: 0.9920 - val_loss: 0.2237 - val_accuracy: 0.9498 - val_auc_1: 0.9909\n",
      "\n",
      "Epoch 00035: val_loss did not improve from 0.22039\n",
      "Epoch 36/300\n",
      "18848417/18848417 [==============================] - 111s 6us/step - loss: 0.2090 - accuracy: 0.9503 - auc_1: 0.9920 - val_loss: 0.2254 - val_accuracy: 0.9492 - val_auc_1: 0.9910\n",
      "\n",
      "Epoch 00036: val_loss did not improve from 0.22039\n",
      "Epoch 37/300\n",
      "18848417/18848417 [==============================] - 111s 6us/step - loss: 0.2083 - accuracy: 0.9504 - auc_1: 0.9921 - val_loss: 0.2273 - val_accuracy: 0.9505 - val_auc_1: 0.9910\n",
      "\n",
      "Epoch 00037: val_loss did not improve from 0.22039\n",
      "Epoch 00037: early stopping\n"
     ]
    }
   ],
   "source": [
    "auto_save = ModelCheckpoint(model_dir+ \"/model_v{}.hd5\".format(model_version), monitor='val_loss', \n",
    "                    verbose=1, save_best_only=True, save_weights_only=False, \n",
    "                    mode='auto', period=1)\n",
    "\n",
    "early_stop = EarlyStopping(monitor='val_loss', min_delta=0.0001, \n",
    "                            patience=20, verbose=1)\n",
    "\n",
    "\n",
    "#lr_scheduler = callbacks.LearningRateScheduler(step_decay, verbose=1)\n",
    "\n",
    "history = model.fit(\n",
    "            X_train, y_train,\n",
    "            sample_weight = w_train,\n",
    "            batch_size = 4096,\n",
    "            epochs=300,\n",
    "           initial_epoch=0,\n",
    "            shuffle=True,\n",
    "            validation_data = (X_val, y_val, w_val),\n",
    "            callbacks = [ auto_save, early_stop ] #lr_scheduler\n",
    "            )"
   ]
  },
  {
   "cell_type": "code",
   "execution_count": 17,
   "metadata": {},
   "outputs": [],
   "source": [
    "hist = history.history\n"
   ]
  },
  {
   "cell_type": "code",
   "execution_count": 18,
   "metadata": {},
   "outputs": [
    {
     "data": {
      "text/plain": [
       "{'val_loss': [0.2506363292520831,\n",
       "  0.23335735416350334,\n",
       "  0.23126622479535192,\n",
       "  0.22914301631352232,\n",
       "  0.227670520957645,\n",
       "  0.22617481745152165,\n",
       "  0.22613362016862482,\n",
       "  0.22444070882690956,\n",
       "  0.2230858754688817,\n",
       "  0.22352669257918467,\n",
       "  0.2225632203480858,\n",
       "  0.22350556335983804,\n",
       "  0.22263492359224793,\n",
       "  0.22110975462367297,\n",
       "  0.22202531999896225,\n",
       "  0.22097489625172745,\n",
       "  0.22038997213025097,\n",
       "  0.2211648013137137,\n",
       "  0.22173325150654472,\n",
       "  0.22410740016424818,\n",
       "  0.22218081701236236,\n",
       "  0.22186904868989998,\n",
       "  0.22138345061781978,\n",
       "  0.22176773400372105,\n",
       "  0.22265883826754707,\n",
       "  0.22259951578516973,\n",
       "  0.22243778713198814,\n",
       "  0.22205463714928395,\n",
       "  0.2236373895859478,\n",
       "  0.22729344564449275,\n",
       "  0.22685530095227838,\n",
       "  0.23816469153255618,\n",
       "  0.23889351396351952,\n",
       "  0.22419786287467125,\n",
       "  0.2237083925331765,\n",
       "  0.2253515442562818,\n",
       "  0.22728926024368798],\n",
       " 'val_accuracy': [0.9302976131439209,\n",
       "  0.9495641589164734,\n",
       "  0.9452310800552368,\n",
       "  0.9489561319351196,\n",
       "  0.946463406085968,\n",
       "  0.9511398673057556,\n",
       "  0.9499223828315735,\n",
       "  0.9535850882530212,\n",
       "  0.9513310790061951,\n",
       "  0.950829803943634,\n",
       "  0.9514685869216919,\n",
       "  0.953119695186615,\n",
       "  0.9513174891471863,\n",
       "  0.9499807357788086,\n",
       "  0.9463687539100647,\n",
       "  0.9464139938354492,\n",
       "  0.9500393271446228,\n",
       "  0.9507593512535095,\n",
       "  0.9505580067634583,\n",
       "  0.954251229763031,\n",
       "  0.9483415484428406,\n",
       "  0.9506540894508362,\n",
       "  0.9520273804664612,\n",
       "  0.950467586517334,\n",
       "  0.948027491569519,\n",
       "  0.9507474899291992,\n",
       "  0.9489805698394775,\n",
       "  0.9501165747642517,\n",
       "  0.9504858255386353,\n",
       "  0.9493292570114136,\n",
       "  0.9498602151870728,\n",
       "  0.9525810480117798,\n",
       "  0.9507284164428711,\n",
       "  0.9506218433380127,\n",
       "  0.9498347043991089,\n",
       "  0.9491713643074036,\n",
       "  0.9505482316017151],\n",
       " 'val_auc_1': [0.9892544746398926,\n",
       "  0.9902969002723694,\n",
       "  0.9905721545219421,\n",
       "  0.9906430840492249,\n",
       "  0.9906920194625854,\n",
       "  0.9907310009002686,\n",
       "  0.990851879119873,\n",
       "  0.9909390211105347,\n",
       "  0.9910706281661987,\n",
       "  0.9909278750419617,\n",
       "  0.9911310076713562,\n",
       "  0.9909616708755493,\n",
       "  0.9910957217216492,\n",
       "  0.9911766648292542,\n",
       "  0.991133987903595,\n",
       "  0.9912290573120117,\n",
       "  0.9912030100822449,\n",
       "  0.9911403656005859,\n",
       "  0.991144061088562,\n",
       "  0.9909709095954895,\n",
       "  0.9910915493965149,\n",
       "  0.9910829067230225,\n",
       "  0.9911277890205383,\n",
       "  0.9911150336265564,\n",
       "  0.9910249710083008,\n",
       "  0.9910179376602173,\n",
       "  0.991144061088562,\n",
       "  0.9910808801651001,\n",
       "  0.9909052848815918,\n",
       "  0.9908437132835388,\n",
       "  0.9910396933555603,\n",
       "  0.990877628326416,\n",
       "  0.9908499121665955,\n",
       "  0.9909831285476685,\n",
       "  0.9908941984176636,\n",
       "  0.9910325407981873,\n",
       "  0.9909569621086121],\n",
       " 'loss': [0.2632655773388097,\n",
       "  0.2374284546297042,\n",
       "  0.2322357558084753,\n",
       "  0.22907044976538335,\n",
       "  0.2268458569538809,\n",
       "  0.22520279508204805,\n",
       "  0.22360993181350253,\n",
       "  0.22235015110406892,\n",
       "  0.22117925220616333,\n",
       "  0.22013374965862387,\n",
       "  0.21935029332222106,\n",
       "  0.21867931124144718,\n",
       "  0.21787006180257204,\n",
       "  0.21743973939822656,\n",
       "  0.21654540610587847,\n",
       "  0.2159886825754417,\n",
       "  0.2157633035764771,\n",
       "  0.21519594491156,\n",
       "  0.2146221756393622,\n",
       "  0.21412895085862105,\n",
       "  0.2137849786418171,\n",
       "  0.21335512815764635,\n",
       "  0.2127781539575763,\n",
       "  0.21247973548273874,\n",
       "  0.21212798386932194,\n",
       "  0.21196759096702103,\n",
       "  0.21141300272849975,\n",
       "  0.21134594849809948,\n",
       "  0.2105444049728783,\n",
       "  0.21046538691202882,\n",
       "  0.2102593352487138,\n",
       "  0.2096989131708807,\n",
       "  0.2092988571873517,\n",
       "  0.20928244405377186,\n",
       "  0.20896444922324545,\n",
       "  0.2089767175690633,\n",
       "  0.20830400366850071],\n",
       " 'accuracy': [0.9409421,\n",
       "  0.94655913,\n",
       "  0.9478174,\n",
       "  0.94836,\n",
       "  0.9486991,\n",
       "  0.94891244,\n",
       "  0.9492923,\n",
       "  0.9494783,\n",
       "  0.94977826,\n",
       "  0.95011467,\n",
       "  0.9503905,\n",
       "  0.95034385,\n",
       "  0.9502972,\n",
       "  0.9503708,\n",
       "  0.9503362,\n",
       "  0.950673,\n",
       "  0.9505827,\n",
       "  0.9506269,\n",
       "  0.9505389,\n",
       "  0.9504943,\n",
       "  0.95051396,\n",
       "  0.9507009,\n",
       "  0.95070684,\n",
       "  0.9506781,\n",
       "  0.95072883,\n",
       "  0.9507286,\n",
       "  0.95064574,\n",
       "  0.9504797,\n",
       "  0.9507743,\n",
       "  0.95078325,\n",
       "  0.95054543,\n",
       "  0.9508249,\n",
       "  0.95058936,\n",
       "  0.9502842,\n",
       "  0.95040727,\n",
       "  0.95026785,\n",
       "  0.95042574],\n",
       " 'auc_1': [0.98772055,\n",
       "  0.9898948,\n",
       "  0.990296,\n",
       "  0.9905523,\n",
       "  0.99072593,\n",
       "  0.9908488,\n",
       "  0.9909753,\n",
       "  0.9910714,\n",
       "  0.9911555,\n",
       "  0.9912381,\n",
       "  0.99129575,\n",
       "  0.991337,\n",
       "  0.99140435,\n",
       "  0.9914408,\n",
       "  0.9915046,\n",
       "  0.9915453,\n",
       "  0.99156976,\n",
       "  0.9916002,\n",
       "  0.99165505,\n",
       "  0.9916817,\n",
       "  0.99170595,\n",
       "  0.9917348,\n",
       "  0.9917676,\n",
       "  0.99179065,\n",
       "  0.99182403,\n",
       "  0.9918354,\n",
       "  0.9918749,\n",
       "  0.9918773,\n",
       "  0.99193525,\n",
       "  0.99194133,\n",
       "  0.99194443,\n",
       "  0.9919949,\n",
       "  0.9920231,\n",
       "  0.992034,\n",
       "  0.9920454,\n",
       "  0.99204206,\n",
       "  0.9920936]}"
      ]
     },
     "execution_count": 18,
     "metadata": {},
     "output_type": "execute_result"
    }
   ],
   "source": [
    "hist"
   ]
  },
  {
   "cell_type": "code",
   "execution_count": 28,
   "metadata": {},
   "outputs": [],
   "source": [
    "import json\n",
    "json.dump(str(hist), open(model_dir+\"/history2.json\", \"w\"))"
   ]
  },
  {
   "cell_type": "code",
   "execution_count": 19,
   "metadata": {
    "ExecuteTime": {
     "end_time": "2020-05-03T21:02:31.639054Z",
     "start_time": "2020-05-03T21:02:28.213008Z"
    }
   },
   "outputs": [
    {
     "name": "stdout",
     "output_type": "stream",
     "text": [
      ">>> Computing AUC...\n",
      "AUC score: 0.9913150525099291\n",
      ">>> Saving ROC curve...\n"
     ]
    },
    {
     "data": {
      "text/plain": [
       "<matplotlib.legend.Legend at 0x7f2d0c1ac550>"
      ]
     },
     "execution_count": 19,
     "metadata": {},
     "output_type": "execute_result"
    },
    {
     "name": "stderr",
     "output_type": "stream",
     "text": [
      "/usr/local/lib/python3.6/dist-packages/IPython/core/pylabtools.py:128: UserWarning: Creating legend with loc=\"best\" can be slow with large amounts of data.\n",
      "  fig.canvas.print_figure(bytes_io, **kw)\n"
     ]
    },
    {
     "data": {
      "image/png": "[encoded data removed]",
      "text/plain": [
       "<Figure size 750x750 with 1 Axes>"
      ]
     },
     "metadata": {
      "needs_background": "light"
     },
     "output_type": "display_data"
    }
   ],
   "source": [
    "# Evalutation\n",
    "print(\">>> Computing AUC...\")\n",
    "\n",
    "from sklearn.metrics import roc_auc_score, roc_curve\n",
    "\n",
    "pred = model.predict(X_val,batch_size=2048)\n",
    "auc = roc_auc_score(y_val, pred, sample_weight=w_val)\n",
    "print(\"AUC score: \" + str(auc))\n",
    "\n",
    "print(\">>> Saving ROC curve...\")\n",
    "fp , tp, th = roc_curve(y_val, pred, sample_weight=w_val,drop_intermediate=True)\n",
    "plt.plot(fp, tp, label=\"roc\")\n",
    "#plt.plot(fp, th, label=\"threshold\")\n",
    "plt.xlabel(\"false positives\")\n",
    "plt.ylabel(\"true positives\")\n",
    "plt.ylim(-0.05,1.05)\n",
    "\n",
    "plt.legend()"
   ]
  },
  {
   "cell_type": "markdown",
   "metadata": {},
   "source": [
    "# AUC by eta and Et bin"
   ]
  },
  {
   "cell_type": "code",
   "execution_count": 20,
   "metadata": {
    "scrolled": true
   },
   "outputs": [
    {
     "ename": "NameError",
     "evalue": "name 'det' is not defined",
     "output_type": "error",
     "traceback": [
      "\u001b[0;31m---------------------------------------------------------------------------\u001b[0m",
      "\u001b[0;31mNameError\u001b[0m                                 Traceback (most recent call last)",
      "\u001b[0;32m<ipython-input-20-8a96b2f1b117>\u001b[0m in \u001b[0;36m<module>\u001b[0;34m\u001b[0m\n\u001b[1;32m      1\u001b[0m \u001b[0mdata\u001b[0m\u001b[0;34m[\u001b[0m\u001b[0;34m\"y\"\u001b[0m\u001b[0;34m]\u001b[0m \u001b[0;34m=\u001b[0m  \u001b[0mmodel\u001b[0m\u001b[0;34m.\u001b[0m\u001b[0mpredict\u001b[0m\u001b[0;34m(\u001b[0m\u001b[0mscaler\u001b[0m\u001b[0;34m.\u001b[0m\u001b[0mtransform\u001b[0m\u001b[0;34m(\u001b[0m\u001b[0mdata\u001b[0m\u001b[0;34m[\u001b[0m\u001b[0mcols\u001b[0m\u001b[0;34m]\u001b[0m\u001b[0;34m.\u001b[0m\u001b[0mvalues\u001b[0m\u001b[0;34m)\u001b[0m\u001b[0;34m,\u001b[0m \u001b[0mbatch_size\u001b[0m\u001b[0;34m=\u001b[0m\u001b[0;36m4096\u001b[0m\u001b[0;34m)\u001b[0m\u001b[0;34m\u001b[0m\u001b[0;34m\u001b[0m\u001b[0m\n\u001b[1;32m      2\u001b[0m \u001b[0;34m\u001b[0m\u001b[0m\n\u001b[0;32m----> 3\u001b[0;31m \u001b[0mdet\u001b[0m \u001b[0;34m==\u001b[0m \u001b[0;34m\"EB\"\u001b[0m\u001b[0;34m\u001b[0m\u001b[0;34m\u001b[0m\u001b[0m\n\u001b[0m\u001b[1;32m      4\u001b[0m \u001b[0mets\u001b[0m \u001b[0;34m=\u001b[0m \u001b[0;34m[\u001b[0m\u001b[0;36m0\u001b[0m\u001b[0;34m,\u001b[0m\u001b[0;36m20\u001b[0m\u001b[0;34m,\u001b[0m\u001b[0;36m40\u001b[0m\u001b[0;34m,\u001b[0m\u001b[0;36m60\u001b[0m\u001b[0;34m,\u001b[0m\u001b[0;36m80\u001b[0m\u001b[0;34m,\u001b[0m\u001b[0;36m100\u001b[0m\u001b[0;34m]\u001b[0m\u001b[0;34m\u001b[0m\u001b[0;34m\u001b[0m\u001b[0m\n\u001b[1;32m      5\u001b[0m \u001b[0;32mif\u001b[0m \u001b[0mdet\u001b[0m\u001b[0;34m==\u001b[0m\u001b[0;34m\"EB\"\u001b[0m\u001b[0;34m:\u001b[0m\u001b[0;34m\u001b[0m\u001b[0;34m\u001b[0m\u001b[0m\n",
      "\u001b[0;31mNameError\u001b[0m: name 'det' is not defined"
     ]
    }
   ],
   "source": [
    "data[\"y\"] =  model.predict(scaler.transform(data[cols].values), batch_size=4096)\n",
    "\n",
    "det == \"EB\"\n",
    "ets = [0,20,40,60,80,100]\n",
    "if det==\"EB\":\n",
    "    etas = [0, 0.4,0.8, 1.2,1.479]\n",
    "if det==\"EE\":\n",
    "    etas = [1.479,1.75,2.,2.25,3]\n",
    "\n",
    "data[\"eta_bin\"] = pd.cut(abs(data.seed_eta), etas, labels=list(range(len(etas)-1)))\n",
    "data[\"et_bin\"] = pd.cut(data.et_seed, ets, labels=list(range(len(ets)-1)))\n",
    "\n",
    "result =  data.groupby([\"eta_bin\", \"et_bin\"]).apply(\n",
    "        lambda gr:  roc_auc_score(gr.in_scluster, gr.y, sample_weight=gr.w)\n",
    ")\n",
    "\n",
    "a = result.values.reshape((len(etas)-1,len(ets)-1))\n",
    "plt.imshow(a.T)\n",
    "plt.xlabel(\"Eta bin\")\n",
    "plt.ylabel(\"Et bin\")\n",
    "plt.title(\"AUC\")\n",
    "plt.colorbar()"
   ]
  },
  {
   "cell_type": "code",
   "execution_count": 21,
   "metadata": {},
   "outputs": [],
   "source": [
    "from sklearn.metrics import roc_auc_score, roc_curve\n",
    "data[\"y\"] =  model.predict(scaler.transform(data[cols].values), batch_size=4096)\n",
    "\n",
    "ets = [0,20,40,60,80,100]\n",
    "etas = [0, 0.4,0.8, 1.2,1.479, 1.75,2.,2.25,3]\n",
    "\n",
    "data[\"eta_bin\"] = pd.cut(abs(data.seed_eta), etas, labels=list(range(len(etas)-1)))\n",
    "data[\"et_bin\"] = pd.cut(data.et_seed, ets, labels=list(range(len(ets)-1)))\n",
    "\n",
    "result =  data.groupby([\"eta_bin\", \"et_bin\"]).apply(\n",
    "        lambda gr:  roc_auc_score(gr.in_scluster, gr.y, sample_weight=gr.w)\n",
    ")\n",
    "\n",
    "a = result.values.reshape((len(etas)-1,len(ets)-1))\n"
   ]
  },
  {
   "cell_type": "code",
   "execution_count": 23,
   "metadata": {},
   "outputs": [
    {
     "data": {
      "image/png": "[encoded data removed]",
      "text/plain": [
       "<Figure size 1500x750 with 2 Axes>"
      ]
     },
     "metadata": {
      "needs_background": "light"
     },
     "output_type": "display_data"
    }
   ],
   "source": [
    "plt.figure(figsize=(10,5))\n",
    "plt.imshow(a.T, vmin=0.970)\n",
    "plt.xlabel(\"Eta bin\")\n",
    "plt.ylabel(\"Et bin\")\n",
    "plt.title(\"AUC\")\n",
    "plt.colorbar()\n",
    "plt.savefig(model_dir+ \"/AUC.png\")"
   ]
  },
  {
   "cell_type": "code",
   "execution_count": 16,
   "metadata": {},
   "outputs": [
    {
     "data": {
      "image/png": "[encoded data removed]",
      "text/plain": [
       "<Figure size 1500x750 with 2 Axes>"
      ]
     },
     "metadata": {
      "needs_background": "light"
     },
     "output_type": "display_data"
    }
   ],
   "source": [
    "plt.figure(figsize=(10,5))\n",
    "plt.imshow(a.T)\n",
    "plt.xlabel(\"Eta bin\")\n",
    "plt.ylabel(\"Et bin\")\n",
    "plt.title(\"AUC\")\n",
    "plt.colorbar()\n",
    "plt.savefig(model_dir+ \"/AUC.png\")"
   ]
  },
  {
   "cell_type": "code",
   "execution_count": null,
   "metadata": {
    "ExecuteTime": {
     "end_time": "2020-05-03T18:02:08.432215Z",
     "start_time": "2020-05-03T18:02:08.040559Z"
    }
   },
   "outputs": [],
   "source": [
    "plt.plot(history.epoch, history.history[\"val_loss\"], label=\"validation loss\")\n",
    "plt.plot(history.epoch, history.history[\"loss\"], label=\"training loss\")\n",
    "plt.legend()"
   ]
  },
  {
   "cell_type": "code",
   "execution_count": 16,
   "metadata": {
    "ExecuteTime": {
     "end_time": "2020-05-03T18:02:48.984671Z",
     "start_time": "2020-05-03T18:02:41.386118Z"
    }
   },
   "outputs": [
    {
     "data": {
      "text/plain": [
       "<matplotlib.legend.Legend at 0x7fa5c33197b8>"
      ]
     },
     "execution_count": 16,
     "metadata": {},
     "output_type": "execute_result"
    },
    {
     "data": {
      "image/png": "[encoded data removed]",
      "text/plain": [
       "<Figure size 750x750 with 1 Axes>"
      ]
     },
     "metadata": {
      "needs_background": "light"
     },
     "output_type": "display_data"
    }
   ],
   "source": [
    "results = model.predict(X_val[:200000])\n",
    "plt.hist(results[y_val[:200000]==0], bins=30,density=True, label=\"false\", histtype=\"step\")\n",
    "plt.hist(results[y_val[:200000]==1], bins=30, density=True, label=\"true\", histtype=\"step\")\n",
    "plt.yscale(\"log\")\n",
    "plt.legend()"
   ]
  },
  {
   "cell_type": "code",
   "execution_count": 28,
   "metadata": {},
   "outputs": [
    {
     "data": {
      "text/plain": [
       "<matplotlib.legend.Legend at 0x7fa7e618cdd8>"
      ]
     },
     "execution_count": 28,
     "metadata": {},
     "output_type": "execute_result"
    },
    {
     "data": {
      "image/png": "[encoded data removed]",
      "text/plain": [
       "<Figure size 750x750 with 1 Axes>"
      ]
     },
     "metadata": {
      "needs_background": "light"
     },
     "output_type": "display_data"
    }
   ],
   "source": [
    "results = model.predict(X_val[:500000])\n",
    "plt.hist(results[y_val[:500000]==0], bins=30,density=True, label=\"false\", histtype=\"step\")\n",
    "plt.hist(results[y_val[:500000]==1], bins=30, density=True, label=\"true\", histtype=\"step\")\n",
    "plt.yscale(\"log\")\n",
    "plt.legend()"
   ]
  },
  {
   "cell_type": "code",
   "execution_count": 25,
   "metadata": {},
   "outputs": [
    {
     "data": {
      "text/plain": [
       "<Figure size 750x750 with 0 Axes>"
      ]
     },
     "metadata": {},
     "output_type": "display_data"
    }
   ],
   "source": [
    "plt.savefig(model_dir +\"/output_model_v2_EE.png\")"
   ]
  },
  {
   "cell_type": "markdown",
   "metadata": {},
   "source": [
    "# Some plots"
   ]
  },
  {
   "cell_type": "code",
   "execution_count": 1,
   "metadata": {
    "ExecuteTime": {
     "end_time": "2020-01-13T09:25:43.435534Z",
     "start_time": "2020-01-13T09:25:30.930818Z"
    },
    "scrolled": true
   },
   "outputs": [
    {
     "name": "stderr",
     "output_type": "stream",
     "text": [
      "Using TensorFlow backend.\n"
     ]
    },
    {
     "ename": "OSError",
     "evalue": "Unable to open file (unable to open file: name = 'models/model11_balanced_100_80_50.hd5', errno = 2, error message = 'No such file or directory', flags = 0, o_flags = 0)",
     "output_type": "error",
     "traceback": [
      "\u001b[0;31m---------------------------------------------------------------------------\u001b[0m",
      "\u001b[0;31mOSError\u001b[0m                                   Traceback (most recent call last)",
      "\u001b[0;32m<ipython-input-1-5beff4d610ed>\u001b[0m in \u001b[0;36m<module>\u001b[0;34m\u001b[0m\n\u001b[1;32m      1\u001b[0m \u001b[0;32mfrom\u001b[0m \u001b[0mkeras\u001b[0m\u001b[0;34m.\u001b[0m\u001b[0mmodels\u001b[0m \u001b[0;32mimport\u001b[0m \u001b[0mload_model\u001b[0m\u001b[0;34m\u001b[0m\u001b[0m\n\u001b[0;32m----> 2\u001b[0;31m \u001b[0mmodel\u001b[0m \u001b[0;34m=\u001b[0m \u001b[0mload_model\u001b[0m\u001b[0;34m(\u001b[0m\u001b[0;34m\"models/model11_balanced_100_80_50.hd5\"\u001b[0m\u001b[0;34m)\u001b[0m\u001b[0;34m\u001b[0m\u001b[0m\n\u001b[0m\u001b[1;32m      3\u001b[0m \u001b[0mscaler\u001b[0m \u001b[0;34m=\u001b[0m \u001b[0mpickle\u001b[0m\u001b[0;34m.\u001b[0m\u001b[0mload\u001b[0m\u001b[0;34m(\u001b[0m\u001b[0mopen\u001b[0m\u001b[0;34m(\u001b[0m\u001b[0;34m\"models/scaler_gamma_electrons.pkl\"\u001b[0m\u001b[0;34m,\u001b[0m \u001b[0;34m\"rb\"\u001b[0m\u001b[0;34m)\u001b[0m\u001b[0;34m)\u001b[0m\u001b[0;34m\u001b[0m\u001b[0m\n",
      "\u001b[0;32m/cvmfs/sft.cern.ch/lcg/views/LCG_96python3/x86_64-centos7-gcc8-opt/lib/python3.6/site-packages/keras/engine/saving.py\u001b[0m in \u001b[0;36mload_model\u001b[0;34m(filepath, custom_objects, compile)\u001b[0m\n\u001b[1;32m    415\u001b[0m     \u001b[0mmodel\u001b[0m \u001b[0;34m=\u001b[0m \u001b[0;32mNone\u001b[0m\u001b[0;34m\u001b[0m\u001b[0m\n\u001b[1;32m    416\u001b[0m     \u001b[0mopened_new_file\u001b[0m \u001b[0;34m=\u001b[0m \u001b[0;32mnot\u001b[0m \u001b[0misinstance\u001b[0m\u001b[0;34m(\u001b[0m\u001b[0mfilepath\u001b[0m\u001b[0;34m,\u001b[0m \u001b[0mh5py\u001b[0m\u001b[0;34m.\u001b[0m\u001b[0mGroup\u001b[0m\u001b[0;34m)\u001b[0m\u001b[0;34m\u001b[0m\u001b[0m\n\u001b[0;32m--> 417\u001b[0;31m     \u001b[0mf\u001b[0m \u001b[0;34m=\u001b[0m \u001b[0mh5dict\u001b[0m\u001b[0;34m(\u001b[0m\u001b[0mfilepath\u001b[0m\u001b[0;34m,\u001b[0m \u001b[0;34m'r'\u001b[0m\u001b[0;34m)\u001b[0m\u001b[0;34m\u001b[0m\u001b[0m\n\u001b[0m\u001b[1;32m    418\u001b[0m     \u001b[0;32mtry\u001b[0m\u001b[0;34m:\u001b[0m\u001b[0;34m\u001b[0m\u001b[0m\n\u001b[1;32m    419\u001b[0m         \u001b[0mmodel\u001b[0m \u001b[0;34m=\u001b[0m \u001b[0m_deserialize_model\u001b[0m\u001b[0;34m(\u001b[0m\u001b[0mf\u001b[0m\u001b[0;34m,\u001b[0m \u001b[0mcustom_objects\u001b[0m\u001b[0;34m,\u001b[0m \u001b[0mcompile\u001b[0m\u001b[0;34m)\u001b[0m\u001b[0;34m\u001b[0m\u001b[0m\n",
      "\u001b[0;32m/cvmfs/sft.cern.ch/lcg/views/LCG_96python3/x86_64-centos7-gcc8-opt/lib/python3.6/site-packages/keras/utils/io_utils.py\u001b[0m in \u001b[0;36m__init__\u001b[0;34m(self, path, mode)\u001b[0m\n\u001b[1;32m    184\u001b[0m             \u001b[0mself\u001b[0m\u001b[0;34m.\u001b[0m\u001b[0m_is_file\u001b[0m \u001b[0;34m=\u001b[0m \u001b[0;32mFalse\u001b[0m\u001b[0;34m\u001b[0m\u001b[0m\n\u001b[1;32m    185\u001b[0m         \u001b[0;32melif\u001b[0m \u001b[0misinstance\u001b[0m\u001b[0;34m(\u001b[0m\u001b[0mpath\u001b[0m\u001b[0;34m,\u001b[0m \u001b[0mstr\u001b[0m\u001b[0;34m)\u001b[0m\u001b[0;34m:\u001b[0m\u001b[0;34m\u001b[0m\u001b[0m\n\u001b[0;32m--> 186\u001b[0;31m             \u001b[0mself\u001b[0m\u001b[0;34m.\u001b[0m\u001b[0mdata\u001b[0m \u001b[0;34m=\u001b[0m \u001b[0mh5py\u001b[0m\u001b[0;34m.\u001b[0m\u001b[0mFile\u001b[0m\u001b[0;34m(\u001b[0m\u001b[0mpath\u001b[0m\u001b[0;34m,\u001b[0m \u001b[0mmode\u001b[0m\u001b[0;34m=\u001b[0m\u001b[0mmode\u001b[0m\u001b[0;34m)\u001b[0m\u001b[0;34m\u001b[0m\u001b[0m\n\u001b[0m\u001b[1;32m    187\u001b[0m             \u001b[0mself\u001b[0m\u001b[0;34m.\u001b[0m\u001b[0m_is_file\u001b[0m \u001b[0;34m=\u001b[0m \u001b[0;32mTrue\u001b[0m\u001b[0;34m\u001b[0m\u001b[0m\n\u001b[1;32m    188\u001b[0m         \u001b[0;32melif\u001b[0m \u001b[0misinstance\u001b[0m\u001b[0;34m(\u001b[0m\u001b[0mpath\u001b[0m\u001b[0;34m,\u001b[0m \u001b[0mdict\u001b[0m\u001b[0;34m)\u001b[0m\u001b[0;34m:\u001b[0m\u001b[0;34m\u001b[0m\u001b[0m\n",
      "\u001b[0;32m/cvmfs/sft.cern.ch/lcg/views/LCG_96python3/x86_64-centos7-gcc8-opt/lib/python3.6/site-packages/h5py/_hl/files.py\u001b[0m in \u001b[0;36m__init__\u001b[0;34m(self, name, mode, driver, libver, userblock_size, swmr, rdcc_nslots, rdcc_nbytes, rdcc_w0, track_order, **kwds)\u001b[0m\n\u001b[1;32m    392\u001b[0m                 fid = make_fid(name, mode, userblock_size,\n\u001b[1;32m    393\u001b[0m                                \u001b[0mfapl\u001b[0m\u001b[0;34m,\u001b[0m \u001b[0mfcpl\u001b[0m\u001b[0;34m=\u001b[0m\u001b[0mmake_fcpl\u001b[0m\u001b[0;34m(\u001b[0m\u001b[0mtrack_order\u001b[0m\u001b[0;34m=\u001b[0m\u001b[0mtrack_order\u001b[0m\u001b[0;34m)\u001b[0m\u001b[0;34m,\u001b[0m\u001b[0;34m\u001b[0m\u001b[0m\n\u001b[0;32m--> 394\u001b[0;31m                                swmr=swmr)\n\u001b[0m\u001b[1;32m    395\u001b[0m \u001b[0;34m\u001b[0m\u001b[0m\n\u001b[1;32m    396\u001b[0m             \u001b[0;32mif\u001b[0m \u001b[0mswmr_support\u001b[0m\u001b[0;34m:\u001b[0m\u001b[0;34m\u001b[0m\u001b[0m\n",
      "\u001b[0;32m/cvmfs/sft.cern.ch/lcg/views/LCG_96python3/x86_64-centos7-gcc8-opt/lib/python3.6/site-packages/h5py/_hl/files.py\u001b[0m in \u001b[0;36mmake_fid\u001b[0;34m(name, mode, userblock_size, fapl, fcpl, swmr)\u001b[0m\n\u001b[1;32m    168\u001b[0m         \u001b[0;32mif\u001b[0m \u001b[0mswmr\u001b[0m \u001b[0;32mand\u001b[0m \u001b[0mswmr_support\u001b[0m\u001b[0;34m:\u001b[0m\u001b[0;34m\u001b[0m\u001b[0m\n\u001b[1;32m    169\u001b[0m             \u001b[0mflags\u001b[0m \u001b[0;34m|=\u001b[0m \u001b[0mh5f\u001b[0m\u001b[0;34m.\u001b[0m\u001b[0mACC_SWMR_READ\u001b[0m\u001b[0;34m\u001b[0m\u001b[0m\n\u001b[0;32m--> 170\u001b[0;31m         \u001b[0mfid\u001b[0m \u001b[0;34m=\u001b[0m \u001b[0mh5f\u001b[0m\u001b[0;34m.\u001b[0m\u001b[0mopen\u001b[0m\u001b[0;34m(\u001b[0m\u001b[0mname\u001b[0m\u001b[0;34m,\u001b[0m \u001b[0mflags\u001b[0m\u001b[0;34m,\u001b[0m \u001b[0mfapl\u001b[0m\u001b[0;34m=\u001b[0m\u001b[0mfapl\u001b[0m\u001b[0;34m)\u001b[0m\u001b[0;34m\u001b[0m\u001b[0m\n\u001b[0m\u001b[1;32m    171\u001b[0m     \u001b[0;32melif\u001b[0m \u001b[0mmode\u001b[0m \u001b[0;34m==\u001b[0m \u001b[0;34m'r+'\u001b[0m\u001b[0;34m:\u001b[0m\u001b[0;34m\u001b[0m\u001b[0m\n\u001b[1;32m    172\u001b[0m         \u001b[0mfid\u001b[0m \u001b[0;34m=\u001b[0m \u001b[0mh5f\u001b[0m\u001b[0;34m.\u001b[0m\u001b[0mopen\u001b[0m\u001b[0;34m(\u001b[0m\u001b[0mname\u001b[0m\u001b[0;34m,\u001b[0m \u001b[0mh5f\u001b[0m\u001b[0;34m.\u001b[0m\u001b[0mACC_RDWR\u001b[0m\u001b[0;34m,\u001b[0m \u001b[0mfapl\u001b[0m\u001b[0;34m=\u001b[0m\u001b[0mfapl\u001b[0m\u001b[0;34m)\u001b[0m\u001b[0;34m\u001b[0m\u001b[0m\n",
      "\u001b[0;32mh5py/_objects.pyx\u001b[0m in \u001b[0;36mh5py._objects.with_phil.wrapper\u001b[0;34m()\u001b[0m\n",
      "\u001b[0;32mh5py/_objects.pyx\u001b[0m in \u001b[0;36mh5py._objects.with_phil.wrapper\u001b[0;34m()\u001b[0m\n",
      "\u001b[0;32mh5py/h5f.pyx\u001b[0m in \u001b[0;36mh5py.h5f.open\u001b[0;34m()\u001b[0m\n",
      "\u001b[0;31mOSError\u001b[0m: Unable to open file (unable to open file: name = 'models/model11_balanced_100_80_50.hd5', errno = 2, error message = 'No such file or directory', flags = 0, o_flags = 0)"
     ]
    }
   ],
   "source": [
    "from keras.models import load_model\n",
    "model = load_model(\"models/model11_balanced_100_80_50.hd5\")\n",
    "scaler = pickle.load(open(\"models/scaler_gamma_electrons.pkl\", \"rb\"))"
   ]
  },
  {
   "cell_type": "code",
   "execution_count": null,
   "metadata": {
    "ExecuteTime": {
     "end_time": "2020-04-20T22:38:16.819969Z",
     "start_time": "2020-04-20T22:38:16.467585Z"
    }
   },
   "outputs": [],
   "source": [
    "fp , tp, th = roc_curve(y_test, pred)\n",
    "fig, ax1 = plt.subplots(figsize=(7,6), dpi=100)\n",
    "ax1.plot(fp, tp, label=\"roc\", color=\"blue\")\n",
    "\n",
    "ax1.set_xlabel(\"Bkg contamination\", fontsize=18)\n",
    "ax1.set_ylabel(\"Signal efficiency\", fontsize=18, color=\"blue\")\n",
    "ax1.set_ylim(0.850, 1.01)\n",
    "ax1.set_xlim(0, 0.06)\n",
    "#ax1.plot([0,1],[1,1],\"b--\")\n",
    "ax1.tick_params(\"y\",labelsize=\"large\", labelcolor=\"blue\")\n",
    "\n",
    "ax2 = ax1.twinx()\n",
    "ax2.plot(fp, th, label=\"threshold\", color=\"red\")\n",
    "ax2.tick_params(axis='y', labelcolor=\"red\", labelsize=\"large\")\n",
    "ax2.set_ylabel(\"Threshold\", fontsize=18, color=\"red\")\n",
    "ax2.set_ylim(0, 1)\n",
    "ax1.grid()\n",
    "#ax2.grid(linestyle=\"dashed\", color=\"red\")\n",
    "\n",
    "ax2.plot([0.01, 0.01], [0, 2], \"g--\")\n",
    "ax2.set_yticks(np.arange(0, 1.1, 0.1))\n",
    "#ax2.minorticks_on()\n",
    "\n",
    "ax1.set_title(\"ROC curve\", fontsize=20)\n",
    "ax2.text(x = 0.048, y = 1.01, s=\"AUC=0.997\", fontsize=\"large\")\n",
    "\n",
    "fig.tight_layout()"
   ]
  },
  {
   "cell_type": "code",
   "execution_count": 36,
   "metadata": {
    "ExecuteTime": {
     "end_time": "2020-01-11T14:23:01.035443Z",
     "start_time": "2020-01-11T14:23:00.336449Z"
    }
   },
   "outputs": [
    {
     "data": {
      "image/png": "[encoded data removed]",
      "text/plain": [
       "<Figure size 700x600 with 2 Axes>"
      ]
     },
     "metadata": {},
     "output_type": "display_data"
    }
   ],
   "source": [
    "fp , tp, th = roc_curve(y_test, pred)\n",
    "fig, ax1 = plt.subplots(figsize=(7,6), dpi=100)\n",
    "ax1.plot(fp, tp, label=\"roc\", color=\"blue\")\n",
    "\n",
    "ax1.set_xlabel(\"Bkg contamination\", fontsize=18)\n",
    "ax1.set_ylabel(\"Signal efficiency\", fontsize=18, color=\"blue\")\n",
    "ax1.set_ylim(0.850, 1.01)\n",
    "ax1.set_xlim(0, 0.06)\n",
    "#ax1.plot([0,1],[1,1],\"b--\")\n",
    "ax1.tick_params(\"y\",labelsize=\"large\", labelcolor=\"blue\")\n",
    "\n",
    "ax2 = ax1.twinx()\n",
    "ax2.plot(fp, th, label=\"threshold\", color=\"red\")\n",
    "ax2.tick_params(axis='y', labelcolor=\"red\", labelsize=\"large\")\n",
    "ax2.set_ylabel(\"Threshold\", fontsize=18, color=\"red\")\n",
    "ax2.set_ylim(0, 1)\n",
    "ax1.grid()\n",
    "#ax2.grid(linestyle=\"dashed\", color=\"red\")\n",
    "\n",
    "ax2.plot([0.01, 0.01], [0, 2], \"g--\")\n",
    "ax2.set_yticks(np.arange(0, 1.1, 0.1))\n",
    "#ax2.minorticks_on()\n",
    "\n",
    "ax1.set_title(\"ROC curve\", fontsize=20)\n",
    "ax2.text(x = 0.048, y = 1.01, s=\"AUC=0.997\", fontsize=\"large\")\n",
    "\n",
    "fig.tight_layout()"
   ]
  }
 ],
 "metadata": {
  "kernelspec": {
   "display_name": "Python 3",
   "language": "python",
   "name": "python3"
  },
  "language_info": {
   "codemirror_mode": {
    "name": "ipython",
    "version": 3
   },
   "file_extension": ".py",
   "mimetype": "text/x-python",
   "name": "python",
   "nbconvert_exporter": "python",
   "pygments_lexer": "ipython3",
   "version": "3.6.9"
  },
  "toc": {
   "base_numbering": 1,
   "nav_menu": {},
   "number_sections": true,
   "sideBar": true,
   "skip_h1_title": false,
   "title_cell": "Table of Contents",
   "title_sidebar": "Contents",
   "toc_cell": false,
   "toc_position": {},
   "toc_section_display": true,
   "toc_window_display": false
  },
  "varInspector": {
   "cols": {
    "lenName": 16,
    "lenType": 16,
    "lenVar": 40
   },
   "kernels_config": {
    "python": {
     "delete_cmd_postfix": "",
     "delete_cmd_prefix": "del ",
     "library": "var_list.py",
     "varRefreshCmd": "print(var_dic_list())"
    },
    "r": {
     "delete_cmd_postfix": ") ",
     "delete_cmd_prefix": "rm(",
     "library": "var_list.r",
     "varRefreshCmd": "cat(var_dic_list()) "
    }
   },
   "oldHeight": 745.183666,
   "position": {
    "height": "40px",
    "left": "717.5px",
    "right": "20px",
    "top": "55px",
    "width": "800px"
   },
   "types_to_exclude": [
    "module",
    "function",
    "builtin_function_or_method",
    "instance",
    "_Feature"
   ],
   "varInspector_section_display": "none",
   "window_display": false
  }
 },
 "nbformat": 4,
 "nbformat_minor": 2
}
