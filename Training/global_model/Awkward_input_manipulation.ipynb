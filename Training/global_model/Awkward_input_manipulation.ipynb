{
 "cells": [
  {
   "cell_type": "code",
   "execution_count": 1,
   "id": "218ae4b8",
   "metadata": {
    "ExecuteTime": {
     "end_time": "2022-07-28T11:47:23.103112Z",
     "start_time": "2022-07-28T11:47:22.437429Z"
    }
   },
   "outputs": [
    {
     "name": "stderr",
     "output_type": "stream",
     "text": [
      "2022-09-06 09:48:54.193873: W tensorflow/stream_executor/platform/default/dso_loader.cc:64] Could not load dynamic library 'libcudart.so.11.0'; dlerror: libcudart.so.11.0: cannot open shared object file: No such file or directory\n",
      "2022-09-06 09:48:54.193907: I tensorflow/stream_executor/cuda/cudart_stub.cc:29] Ignore above cudart dlerror if you do not have a GPU set up on your machine.\n"
     ]
    }
   ],
   "source": [
    "import awkward as ak\n",
    "import matplotlib.pyplot as plt\n",
    "from matplotlib import colors\n",
    "from matplotlib.colors import LogNorm\n",
    "import matplotlib as mpl \n",
    "mpl.rcParams[\"image.origin\"] = 'lower'\n",
    "mpl.rcParams[\"image.cmap\"] = \"Blues\"\n",
    "mpl.rcParams[\"figure.dpi\"] = 100\n",
    "\n",
    "import h5py\n",
    "import os\n",
    "import numpy as np\n",
    "from glob import glob\n",
    "\n",
    "import mplhep as hep\n",
    "plt.style.use(hep.style.CMS)\n",
    "\n",
    "import tensorflow as tf"
   ]
  },
  {
   "cell_type": "code",
   "execution_count": 2,
   "id": "2bb48a04",
   "metadata": {
    "ExecuteTime": {
     "end_time": "2022-07-28T11:47:25.821496Z",
     "start_time": "2022-07-28T11:47:25.818148Z"
    }
   },
   "outputs": [],
   "source": [
    "inputdir_ele = \"/work/dvalsecc/Clustering/dataset/electrons_awkward_2022v8/\"\n",
    "inputdir_gamma = \"/work/dvalsecc/Clustering/dataset/gammas_awkward_2022v8/\""
   ]
  },
  {
   "cell_type": "markdown",
   "id": "2e5877c2",
   "metadata": {},
   "source": [
    "# Training dataset preparation"
   ]
  },
  {
   "cell_type": "markdown",
   "id": "173c7a51-65a3-4612-9dec-1d1960050c1f",
   "metadata": {},
   "source": [
    "### Utility functions"
   ]
  },
  {
   "cell_type": "code",
   "execution_count": 3,
   "id": "933c83ae",
   "metadata": {
    "ExecuteTime": {
     "end_time": "2022-07-28T11:47:35.723665Z",
     "start_time": "2022-07-28T11:47:35.719822Z"
    }
   },
   "outputs": [],
   "source": [
    "from itertools import zip_longest, islice\n",
    "from collections import deque\n",
    "\n",
    "def load_dataset_chunks(df, config, chunk_size, offset=0, maxevents=None):\n",
    "    # Filtering the columns to keey only the requested ones\n",
    "    cols = { key: df[key][v] for key, v in config[\"columns\"].items() }\n",
    "    # Adding the clusters hits \n",
    "    if config[\"read_hits\"]:\n",
    "        cols['cl_h'] = df.cl_h\n",
    "    filtered_df = ak.zip(cols, depth_limit=1)\n",
    "    # Now load in large chunks batching\n",
    "    if maxevents:\n",
    "        nchunks = maxevents // chunk_size\n",
    "    else:\n",
    "        nchunks = ak.num(filtered_df.cl_features, axis=0)//chunk_size \n",
    "    for i in range(nchunks):\n",
    "        # Then materialize it\n",
    "        yield chunk_size, ak.materialized(filtered_df[offset + i*chunk_size: offset + (i+1)*chunk_size])\n",
    "        #yield batch_size, df[i*batch_size: (i+1)*batch_size]\n",
    "        \n",
    "def split_batches(gen, batch_size):\n",
    "    for size, df in gen:\n",
    "        if size % batch_size == 0:\n",
    "            for i in range(size//batch_size):\n",
    "                if isinstance(df, tuple):\n",
    "                    yield batch_size, tuple(d[i*batch_size : (i+1)*batch_size] for d in df)\n",
    "                else:\n",
    "                    yield batch_size, df[i*batch_size : (i+1)*batch_size]\n",
    "        else:\n",
    "            raise Exception(\"Please specifie a batchsize compatible with the loaded chunks size\")\n",
    "        \n",
    "def buffer(gen,size):\n",
    "    ''' This generator buffer a number `size` of elements from an iterator and yields them. \n",
    "    When the buffer is empty the quee is filled again'''\n",
    "    q = deque()\n",
    "    while True:\n",
    "        # Caching in the the queue some number of elements\n",
    "        in_q = 0\n",
    "        try:\n",
    "            for _ in range(size):\n",
    "                q.append(next(gen))\n",
    "                in_q +=1\n",
    "        except StopIteration:\n",
    "            for _ in range(in_q):\n",
    "                yield q.popleft()\n",
    "            break\n",
    "        # Now serve them\n",
    "        for _ in range(in_q):\n",
    "            yield q.popleft()\n",
    "        \n",
    "def shuffle_fn(size, df):\n",
    "    try:\n",
    "        perm_i = np.random.permutation(size)\n",
    "        return size, df[perm_i]\n",
    "    except:\n",
    "        return 0, ak.Array([])\n",
    "    \n",
    "    \n",
    "def shuffle_dataset(gen, n_batches=None):\n",
    "    if n_batches==None: \n",
    "        # permute the single batch\n",
    "        for i, (size, df) in enumerate(gen):\n",
    "            yield shuffle_fn(size, df)\n",
    "    else:\n",
    "        for dflist in cache_generator(gen, n_batches):\n",
    "            size = dflist[0][0] \n",
    "            perm_i = np.random.permutation(size*len(dflist))\n",
    "            totdf = ak.concatenate([df[1] for df in dflist])[perm_i]\n",
    "            for i in range(n_batches):\n",
    "                yield size, totdf[i*size: (i+1)*size]\n",
    "                \n",
    "def zip_datasets(*iterables):\n",
    "    yield from zip_longest(*iterables, fillvalue=(0, ak.Array([])))\n",
    "    \n",
    "def concat_fn(dfs):\n",
    "    return sum([d[0] for d in dfs]), ak.concatenate([d[1] for d in dfs])\n",
    "\n",
    "def concat_datasets(*iterables):\n",
    "    for dfs in zip_datasets(*iterables):\n",
    "        yield concat_fn(dfs)\n",
    "        \n",
    "def to_flat_numpy(X, axis=2, allow_missing=True):\n",
    "    return np.stack([ak.to_numpy(X[f], allow_missing=allow_missing) for f in X.fields], axis=axis)\n",
    "\n",
    "def convert_to_tf(df):\n",
    "    return [ tf.convert_to_tensor(d) for d in df ]"
   ]
  },
  {
   "cell_type": "code",
   "execution_count": 4,
   "id": "7552cf80-e601-44cf-9f6d-e08d557aa820",
   "metadata": {},
   "outputs": [],
   "source": [
    "def load_batches_from_files_generator(config, preprocessing_fn):\n",
    "    '''\n",
    "    The function provides a generator producing batches of data from a list of files (usually ele+gamma). \n",
    "    It is intended to use with the multiprocessing generator. \n",
    "    The config contains all the options. \n",
    "    \n",
    "    config = { \n",
    "            \"file_input_columns\":  [\"cl_features\", \"cl_labels\", \"window_features\", \"window_metadata\", \"cl_h\"]\n",
    "            \"columns\": {\"cl_features\": cl_x_f, \"cl_labels\":cl_y_f,\n",
    "                          \"window_metadata\":[\"flavour\", \"nVtx\", \"rho\", \"obsPU\", \"truePU\",\"ncls\",\"ncls\", \"nclusters_insc\"]}, \n",
    "              \"padding\" : True,\n",
    "              \"read_hits\":True, \n",
    "              \"ncls_padding\" : 45, \n",
    "              \"nhits_padding\": 45,\n",
    "              \"chunk_size\": 5120\n",
    "              \"batch_size\": 512,\n",
    "              \"maxevents\": 2500000 # this is the global threshold and it is applied later to stop the multiprocessing generator\n",
    "              \"offset\" : 0\n",
    "             }\n",
    "        '''\n",
    "    def _fn(files): \n",
    "        # Parquet files\n",
    "        dfs_raw = [ ak.from_parquet(file, lazy=True, use_threads=True, columns=config[\"file_input_columns\"]) for file in files if file!=None]\n",
    "        # Loading chunks from the files\n",
    "        initial_dfs = [ load_dataset_chunks(df, config, chunk_size=config[\"chunk_size\"], offset=config[\"offset\"]) for df in dfs_raw] \n",
    "        # Contatenate the chunks from the list of files\n",
    "        concat_df = concat_datasets(*initial_dfs)\n",
    "        # Shuffle the axis=0\n",
    "        shuffled = shuffle_dataset(concat_df)\n",
    "        # Processing the data to extract X,Y, etc\n",
    "        _preprocess_fn = preprocessing_fn(config)\n",
    "        processed  = (_preprocess_fn(d) for d in shuffled)\n",
    "        # Split in batches\n",
    "        #yield from processed\n",
    "        yield from split_batches(processed, config[\"batch_size\"])\n",
    "    \n",
    "    return _fn\n",
    "        "
   ]
  },
  {
   "cell_type": "markdown",
   "id": "7888b5fa-e1df-444b-9c66-6b3628cf1490",
   "metadata": {},
   "source": [
    "### Multiprocessing generators"
   ]
  },
  {
   "cell_type": "code",
   "execution_count": 5,
   "id": "ff5f1bcc-e12c-4a1a-8155-b9558d833b26",
   "metadata": {},
   "outputs": [],
   "source": [
    "import multiprocessing as mp\n",
    "\n",
    "def multiprocessor_generator(iterable, heavy_processing, input_queue_size=10, output_queue_size=20, nworkers=2):\n",
    "    def gen_to_queue(input_q, iterable):\n",
    "        # This function simply consume our generator and write it to the input queue\n",
    "        for it in iterable:\n",
    "            input_q.put(it)\n",
    "        for _ in range(nworkers):    # Once generator is consumed, send end-signal\n",
    "            input_q.put(None)\n",
    "\n",
    "    def process(input_q, output_q):\n",
    "        # Change the random seed for each processor\n",
    "        pid = mp.current_process().pid\n",
    "        np.random.seed()\n",
    "        while True:\n",
    "            it = input_q.get()\n",
    "            if it is None:\n",
    "                output_q.put(None)\n",
    "                break\n",
    "            output_q.put(heavy_processing(it))\n",
    "    \n",
    "    input_q = mp.Queue(maxsize=input_queue_size)\n",
    "    output_q = mp.Queue(maxsize=output_queue_size)\n",
    "\n",
    "    # Here we need 3 groups of worker :\n",
    "    # * One that will consume the input generator and put it into a queue. It will be `gen_pool`. It's ok to have only 1 process doing this, since this is a very light task\n",
    "    # * One that do the main processing. It will be `pool`.\n",
    "    # * One that read the results and yield it back, to keep it as a generator. The main thread will do it.\n",
    "    gen_pool = mp.Pool(1, initializer=gen_to_queue, initargs=(input_q, iterable))\n",
    "    pool = mp.Pool(nworkers, initializer=process, initargs=(input_q, output_q))\n",
    "    \n",
    "    \n",
    "    try : \n",
    "        finished_workers = 0\n",
    "        while True:\n",
    "            it = output_q.get()\n",
    "            if it is None:\n",
    "                finished_workers += 1\n",
    "                if finished_workers == nworkers:\n",
    "                    break\n",
    "            else:\n",
    "                yield it\n",
    "    finally: \n",
    "        # This is called at GeneratorExit\n",
    "        gen_pool.close()\n",
    "        pool.close()   "
   ]
  },
  {
   "cell_type": "code",
   "execution_count": 6,
   "id": "f726746b-87af-4a79-99a8-29fcd31678b3",
   "metadata": {},
   "outputs": [],
   "source": [
    "def multiprocessor_generator_from_files(files, internal_generator, output_queue_size=40, nworkers=4, maxevents=None):\n",
    "    '''\n",
    "    Generator with multiprocessing working on a list of input files.\n",
    "    All the input files are put in a Queue that is consumed by a Pool of workers. \n",
    "    Each worker passes the file to the `internal_generator` and consumes it. \n",
    "    The output is put in an output Queue which is consumed by the main thread.\n",
    "    Doing so the processing is in parallel. \n",
    "    '''\n",
    "    def process(input_q, output_q):\n",
    "        # Change the random seed for each processor\n",
    "        pid = mp.current_process().pid\n",
    "        np.random.seed()\n",
    "        while True:\n",
    "            file = input_q.get()\n",
    "            if file is None:\n",
    "                output_q.put(None)\n",
    "                break\n",
    "            # We give the file to the generator and then yield from it\n",
    "            for out in internal_generator(file):\n",
    "                output_q.put(out)\n",
    "    \n",
    "    input_q = mp.Queue()\n",
    "    # Load all the files in the input file\n",
    "    for file in files: \n",
    "        input_q.put(file)\n",
    "    # Once generator is consumed, send end-signal\n",
    "    for i in range(nworkers):\n",
    "        input_q.put(None)\n",
    "    \n",
    "    #output_q = mp.Queue(maxsize=output_queue_size)\n",
    "    output_q = mp.SimpleQueue()\n",
    "    # Here we need 2 groups of worker :\n",
    "    # * One that do the main processing. It will be `pool`.\n",
    "    # * One that read the results and yield it back, to keep it as a generator. The main thread will do it.\n",
    "    pool = mp.Pool(nworkers, initializer=process, initargs=(input_q, output_q))\n",
    "    \n",
    "    try : \n",
    "        finished_workers = 0\n",
    "        tot_events = 0\n",
    "        while True:\n",
    "            it = output_q.get()\n",
    "            if it is None:\n",
    "                finished_workers += 1\n",
    "                if finished_workers == nworkers:\n",
    "                    break\n",
    "            else:\n",
    "                size, df = it\n",
    "                tot_events += size\n",
    "                if maxevents and tot_events > maxevents:\n",
    "                    break\n",
    "                else:\n",
    "                    yield it\n",
    "    finally: \n",
    "        # This is called at GeneratorExit\n",
    "        pool.close()\n",
    "        pool.terminate()\n",
    "        print(\"Multiprocessing generator closed\")\n",
    "            "
   ]
  },
  {
   "cell_type": "markdown",
   "id": "c5f92b5e",
   "metadata": {},
   "source": [
    "## Getting features and padding"
   ]
  },
  {
   "cell_type": "code",
   "execution_count": 7,
   "id": "a91055f4",
   "metadata": {
    "ExecuteTime": {
     "end_time": "2022-07-28T11:45:09.910996Z",
     "start_time": "2022-07-28T11:45:09.893560Z"
    }
   },
   "outputs": [],
   "source": [
    "default_features_dict = {\n",
    "        \"cl_features\" : [ \"en_cluster\",\"et_cluster\",\n",
    "                        \"cluster_eta\", \"cluster_phi\", \n",
    "                        \"cluster_ieta\",\"cluster_iphi\",\"cluster_iz\",\n",
    "                        \"cluster_deta\", \"cluster_dphi\",\n",
    "                        \"cluster_den_seed\",\"cluster_det_seed\",\n",
    "                        \"en_cluster_calib\", \"et_cluster_calib\",\n",
    "                        \"cl_f5_r9\", \"cl_f5_sigmaIetaIeta\", \"cl_f5_sigmaIetaIphi\",\n",
    "                        \"cl_f5_sigmaIphiIphi\",\"cl_f5_swissCross\",\n",
    "                        \"cl_r9\", \"cl_sigmaIetaIeta\", \"cl_sigmaIetaIphi\",\n",
    "                        \"cl_sigmaIphiIphi\",\"cl_swissCross\",\n",
    "                        \"cl_nxtals\", \"cl_etaWidth\",\"cl_phiWidth\"],\n",
    "\n",
    "\n",
    "    \"cl_metadata\": [ \"calo_score\", \"calo_simen_sig\", \"calo_simen_PU\",\n",
    "                     \"cluster_PUfrac\",\"calo_nxtals_PU\",\n",
    "                     \"noise_en\",\"noise_en_uncal\",\"noise_en_nofrac\",\"noise_en_uncal_nofrac\" ],\n",
    "\n",
    "    \"cl_labels\" : [\"is_seed\",\"is_calo_matched\",\"is_calo_seed\", \"in_scluster\",\"in_geom_mustache\",\"in_mustache\"],\n",
    "\n",
    "    \n",
    "    \"seed_features\" : [\"seed_eta\",\"seed_phi\", \"seed_ieta\",\"seed_iphi\", \"seed_iz\", \n",
    "                     \"en_seed\", \"et_seed\",\"en_seed_calib\",\"et_seed_calib\",\n",
    "                    \"seed_f5_r9\",\"seed_f5_sigmaIetaIeta\", \"seed_f5_sigmaIetaIphi\",\n",
    "                    \"seed_f5_sigmaIphiIphi\",\"seed_f5_swissCross\",\n",
    "                    \"seed_r9\",\"seed_sigmaIetaIeta\", \"seed_sigmaIetaIphi\",\n",
    "                    \"seed_sigmaIphiIphi\",\"seed_swissCross\",\n",
    "                    \"seed_nxtals\",\"seed_etaWidth\",\"seed_phiWidth\"\n",
    "                    ],\n",
    "\n",
    "    \"seed_metadata\": [ \"seed_score\", \"seed_simen_sig\", \"seed_simen_PU\", \"seed_PUfrac\"],\n",
    "    \"seed_labels\" : [ \"is_seed_calo_matched\", \"is_seed_calo_seed\", \"is_seed_mustache_matched\"],\n",
    "\n",
    "     \"window_features\" : [ \"max_en_cluster\",\"max_et_cluster\",\"max_deta_cluster\",\"max_dphi_cluster\",\"max_den_cluster\",\"max_det_cluster\",\n",
    "                         \"min_en_cluster\",\"min_et_cluster\",\"min_deta_cluster\",\"min_dphi_cluster\",\"min_den_cluster\",\"min_det_cluster\",\n",
    "                         \"mean_en_cluster\",\"mean_et_cluster\",\"mean_deta_cluster\",\"mean_dphi_cluster\",\"mean_den_cluster\",\"mean_det_cluster\" ],\n",
    "\n",
    "    \"window_metadata\": [\"flavour\", \"ncls\", \"nclusters_insc\",\n",
    "                        \"nVtx\", \"rho\", \"obsPU\", \"truePU\",\n",
    "                        \"sim_true_eta\", \"sim_true_phi\",  \n",
    "                        \"gen_true_eta\",\"gen_true_phi\",\n",
    "                        \"en_true_sim\",\"et_true_sim\", \"en_true_gen\", \"et_true_gen\",\n",
    "                        \"en_true_sim_good\", \"et_true_sim_good\",\n",
    "                        \"en_mustache_raw\", \"et_mustache_raw\",\"en_mustache_calib\", \"et_mustache_calib\",\n",
    "                        \"max_en_cluster_insc\",\"max_deta_cluster_insc\",\"max_dphi_cluster_insc\",\n",
    "                        \"event_tot_simen_PU\",\"wtot_simen_PU\",\"wtot_simen_sig\" ],\n",
    "}"
   ]
  },
  {
   "cell_type": "markdown",
   "id": "7813d4de-8633-4a53-833c-623c6defe3f3",
   "metadata": {},
   "source": [
    "### Example of branches selection"
   ]
  },
  {
   "cell_type": "code",
   "execution_count": 8,
   "id": "bcdbe587-69da-474d-8419-1e6730b1f5af",
   "metadata": {},
   "outputs": [],
   "source": [
    "cl_x_f = [\"en_cluster\",\"et_cluster\",\n",
    "            \"cluster_eta\", \"cluster_phi\", \n",
    "            \"cluster_ieta\",\"cluster_iphi\",\"cluster_iz\",\n",
    "            \"cluster_deta\", \"cluster_dphi\",\n",
    "            \"cluster_den_seed\",\"cluster_det_seed\",\n",
    "            \"en_cluster_calib\", \"et_cluster_calib\",\n",
    "            \"cl_f5_r9\", \"cl_f5_sigmaIetaIeta\", \"cl_f5_sigmaIetaIphi\",\n",
    "            \"cl_f5_sigmaIphiIphi\",\"cl_f5_swissCross\",\n",
    "            \"cl_r9\", \"cl_sigmaIetaIeta\", \"cl_sigmaIetaIphi\",\n",
    "            \"cl_sigmaIphiIphi\",\"cl_swissCross\",\n",
    "            \"cl_nxtals\", \"cl_etaWidth\",\"cl_phiWidth\"]\n",
    "\n",
    "cl_y_f = [\"in_scluster\", \"is_seed\"] \n",
    "\n",
    "wind_m = [\"flavour\", \"nVtx\", \"rho\", \"obsPU\", \"truePU\",\"ncls\",\"ncls\", \"nclusters_insc\"]\n",
    "\n",
    "wind_x = [ \"max_en_cluster\",\"max_et_cluster\",\"max_deta_cluster\",\"max_dphi_cluster\",\"max_den_cluster\",\"max_det_cluster\",]"
   ]
  },
  {
   "cell_type": "markdown",
   "id": "0ed10c0b-475b-4649-bd00-de7061914350",
   "metadata": {},
   "source": [
    "### Normalization factors"
   ]
  },
  {
   "cell_type": "code",
   "execution_count": 45,
   "id": "051c7c4b-f447-4ffa-8bfa-4d66984a68e2",
   "metadata": {},
   "outputs": [],
   "source": [
    "df_ele_all = ak.from_parquet(inputdir_ele, lazy=True)\n",
    "df_gamma_all = ak.from_parquet(inputdir_gamma, lazy=True)\n",
    "\n",
    "df_tot = ak.concatenate([df_ele_all, df_gamma_all])"
   ]
  },
  {
   "cell_type": "code",
   "execution_count": 89,
   "id": "24136d0d-ee22-4d50-999e-7508bb259d9f",
   "metadata": {},
   "outputs": [],
   "source": [
    "norm_factor = { \"cluster\" : { \"mean\" : {}, \"max\": {}, \"min\": {}, \"std\": {}},\n",
    "               \"window\":  { \"mean\" : {}, \"max\": {}, \"min\": {}, \"std\": {}}}"
   ]
  },
  {
   "cell_type": "code",
   "execution_count": 90,
   "id": "ed6a2d65-9ddd-4b85-b6ee-0a28203fed56",
   "metadata": {},
   "outputs": [],
   "source": [
    "for cl in default_features_dict[\"cl_features\"]:\n",
    "    norm_factor[\"cluster\"][\"mean\"][cl] = ak.mean(df_tot.cl_features[cl])\n",
    "    norm_factor[\"cluster\"][\"std\"][cl] = ak.std(df_tot.cl_features[cl])\n",
    "    norm_factor[\"cluster\"][\"min\"][cl] = ak.min(df_tot.cl_features[cl])\n",
    "    norm_factor[\"cluster\"][\"max\"][cl] = ak.max(df_tot.cl_features[cl])\n",
    "    \n",
    "for wi in default_features_dict[\"window_features\"]:\n",
    "    norm_factor[\"window\"][\"mean\"][wi] = ak.mean(df_tot.window_features[wi])\n",
    "    norm_factor[\"window\"][\"std\"][wi] = ak.std(df_tot.window_features[wi])\n",
    "    norm_factor[\"window\"][\"min\"][wi] = ak.min(df_tot.window_features[wi])\n",
    "    norm_factor[\"window\"][\"max\"][wi] = ak.max(df_tot.window_features[wi])"
   ]
  },
  {
   "cell_type": "code",
   "execution_count": 93,
   "id": "03ec6cb4-f4ae-47d1-a212-be83b8fb476c",
   "metadata": {},
   "outputs": [],
   "source": [
    "norm_fact_awk = ak.Record(norm_factor)\n",
    "ak.to_json(norm_fact_awk, \"normalization_factor_v1.json\", pretty=True)"
   ]
  },
  {
   "cell_type": "code",
   "execution_count": 9,
   "id": "12e5b469-47fc-4b85-b654-62de2d63e8a8",
   "metadata": {},
   "outputs": [],
   "source": [
    "def get_norm_factors(cl_features, wind_features, numpy=True):\n",
    "    # Loading the factors from file\n",
    "    norm_factors = ak.from_json(\"normalization_factor_v1.json\")\n",
    "    if numpy:\n",
    "        return {\n",
    "            \"cluster\" : {\n",
    "                \"mean\": to_flat_numpy(norm_factors[\"cluster\"][\"mean\"][cl_features], axis=0),\n",
    "                \"std\": to_flat_numpy(norm_factors[\"cluster\"][\"std\"][cl_features], axis=0),\n",
    "                \"min\": to_flat_numpy(norm_factors[\"cluster\"][\"min\"][cl_features], axis=0),\n",
    "                \"max\": to_flat_numpy(norm_factors[\"cluster\"][\"max\"][cl_features], axis=0)\n",
    "            },\n",
    "            \"window\":{\n",
    "                \"mean\": to_flat_numpy(norm_factors[\"window\"][\"mean\"][wind_features], axis=0),\n",
    "                \"std\": to_flat_numpy(norm_factors[\"window\"][\"std\"][wind_features], axis=0),\n",
    "                \"min\": to_flat_numpy(norm_factors[\"window\"][\"min\"][wind_features], axis=0),\n",
    "                \"max\": to_flat_numpy(norm_factors[\"window\"][\"max\"][wind_features], axis=0)\n",
    "            }\n",
    "        }\n",
    "    else:\n",
    "        return {\n",
    "            \"cluster\" : {\n",
    "                \"mean\": norm_factors[\"cluster\"][\"mean\"][cl_features],\n",
    "                \"std\": norm_factors[\"cluster\"][\"std\"][cl_features],\n",
    "                \"min\": norm_factors[\"cluster\"][\"min\"][cl_features],\n",
    "                \"max\": norm_factors[\"cluster\"][\"max\"][cl_features],\n",
    "            },\n",
    "            \"window\":{\n",
    "                \"mean\": norm_factors[\"window\"][\"mean\"][wind_features],\n",
    "                \"std\": norm_factors[\"window\"][\"std\"][wind_features], \n",
    "                \"min\": norm_factors[\"window\"][\"min\"][wind_features], \n",
    "                \"max\": norm_factors[\"window\"][\"max\"][wind_features], \n",
    "            }\n",
    "        }"
   ]
  },
  {
   "cell_type": "markdown",
   "id": "d2df848f-853b-4b01-9602-dd5c6e960c91",
   "metadata": {},
   "source": [
    "## Preprocessing function"
   ]
  },
  {
   "cell_type": "code",
   "execution_count": 10,
   "id": "213503b4-6729-45a0-a412-38b1dc66cdba",
   "metadata": {},
   "outputs": [],
   "source": [
    " def preprocessing(config):\n",
    "    '''\n",
    "    config must contains\n",
    "    - ncls_padding\n",
    "    - nhits_padding\n",
    "    '''\n",
    "    def process_fn(data): \n",
    "        size, df = data\n",
    "        # Extraction of the ntuples and zero padding\n",
    "\n",
    "        #padding\n",
    "        if config[\"padding\"]:\n",
    "            if config[\"ncls_padding\"] == -1:\n",
    "                # dynamic padding\n",
    "                max_ncls = ak.max(ak.num(df.cl_features, axis=1))\n",
    "            else:\n",
    "                max_ncls = config[\"ncls_padding\"]\n",
    "            if config[\"nhits_padding\"] == -1:\n",
    "                max_nhits = ak.max(ak.num(df.cl_h, axis=2))\n",
    "            else:\n",
    "                max_nhits = config[\"nhits_padding\"]\n",
    "\n",
    "            cls_X_pad = ak.pad_none(df.cl_features, max_ncls, clip=True)\n",
    "            cls_Y_pad = ak.pad_none(df.cl_labels, max_ncls, clip=True)\n",
    "            wind_X = df.window_features\n",
    "            wind_meta = df.window_metadata\n",
    "            is_seed_pad = ak.pad_none(df.cl_labels[\"is_seed\"], max_ncls, clip=True)\n",
    "\n",
    "            # cls_X_pad = ak.fill_none(cls_X_pad, {k:0 for k in config[\"columns\"][\"cl_features\"]})\n",
    "            # cls_Y_pad = ak.fill_none(cls_Y_pad, 0.)\n",
    "            # is_seed_pad = ak.fill_none(is_seed_pad, False)\n",
    "            # hits padding\n",
    "            cl_hits_padrec = ak.pad_none(df.cl_h, max_nhits, axis=2) # --> pad rechits dim\n",
    "            cl_hits_padded = ak.pad_none(cl_hits_padrec, max_ncls, axis=1) # --> pad ncls dimension\n",
    "            # h_padh_padcl_fillnoneCL = ak.fill_none(h_padh_padcl, [None]*max_nhits, axis=1) #-- > fill the out dimension with None\n",
    "            # cl_hits_pad = np.asarray(ak.fill_none(h_padh_padcl_fillnoneCL, [0.,0.,0.,0.] , axis=2)) # --> fill the padded rechit dim with 0.\n",
    "           \n",
    "            cls_X_pad_n = to_flat_numpy(cls_X_pad, axis=2, allow_missing=True)\n",
    "            cls_Y_pad_n = to_flat_numpy(cls_Y_pad, axis=2, allow_missing=True)\n",
    "            is_seed_pad_n = ak.to_numpy(is_seed_pad, allow_missing=True)\n",
    "            cl_hits_pad_n = ak.to_numpy(cl_hits_padded, allow_missing=True)\n",
    "            wind_X_n = to_flat_numpy(wind_X, axis=1)\n",
    "            wind_meta_n = to_flat_numpy(wind_meta, axis=1)\n",
    "            \n",
    "            # Masks for padding\n",
    "            hits_mask = np.array(np.any(~cl_hits_pad_n.mask, axis=-1), dtype=int)\n",
    "            cls_mask = np.array(np.any(hits_mask, axis=-1), dtype=int)\n",
    "            #adding the last dim for broadcasting the 0s\n",
    "            hits_mask = hits_mask[:,:,:,None]\n",
    "            cls_mask = cls_mask[:,:,None]\n",
    "            \n",
    "            \n",
    "            # Normalization\n",
    "            norm_fact = config[\"norm_factors\"]\n",
    "            if config[\"norm_type\"] == \"stdscale\":\n",
    "                # With remasking\n",
    "                cls_X_pad_n = ((cls_X_pad_n - norm_fact[\"cluster\"][\"mean\"])/ norm_fact[\"cluster\"][\"std\"] ) * cls_mask\n",
    "                wind_X_n =  ((wind_X_n - norm_fact[\"window\"][\"mean\"])/ norm_fact[\"window\"][\"std\"] )  \n",
    "            elif config[\"norm_type\"] == \"minmax\":\n",
    "                cls_X_pad_n = ((cls_X_pad_n - norm_fact[\"cluster\"][\"min\"])/ (norm_fact[\"cluster\"][\"max\"]-norm_fact[\"cluster\"][\"min\"])) * cls_mask\n",
    "                wind_X_n =  ((wind_X_n - norm_fact[\"window\"][\"min\"])/ (norm_fact[\"window\"][\"max\"]-norm_fact[\"window\"][\"min\"]) )  \n",
    "            \n",
    "            flavour = np.asarray(df.window_metadata.flavour)\n",
    "            \n",
    "            return size, ( cls_X_pad_n, cls_Y_pad_n, is_seed_pad_n, cl_hits_pad_n,  wind_X_n, wind_meta_n, flavour, hits_mask, cls_mask)\n",
    "        else:\n",
    "            cls_X = df.cl_features, max_ncls\n",
    "            cls_Y = df.cl_labels[\"in_scluster\"], max_ncls\n",
    "            is_seed = df.cl_labels[\"is_seed\"], max_ncls\n",
    "            cl_hits = df.cl_h\n",
    "            return size, (cls_X, cls_Y, is_seed, cl_hits, flavour)\n",
    "            \n",
    "    return process_fn"
   ]
  },
  {
   "cell_type": "markdown",
   "id": "dc86ec98-c349-447c-8ac5-47524d24f7ec",
   "metadata": {},
   "source": [
    "###  Running configuration"
   ]
  },
  {
   "cell_type": "code",
   "execution_count": 17,
   "id": "b2be756b-07b1-4a9c-82d3-7bb380feebf4",
   "metadata": {},
   "outputs": [],
   "source": [
    "config = { \n",
    "                \"file_input_columns\":  [\"cl_features\", \"cl_labels\", \"window_features\", \"window_metadata\", \"cl_h\"],\n",
    "                \"columns\": {\"cl_features\": cl_x_f, \"cl_labels\":cl_y_f,\n",
    "                              \"window_metadata\":wind_m, \"window_features\":wind_x},\n",
    "                \"norm_factors\": get_norm_factors(cl_x_f, wind_x), # record with all the factors\n",
    "                \"norm_type\" : \"stdscale\", #minmax or stdscale\n",
    "                  \"padding\" : True,\n",
    "                  \"read_hits\":True, \n",
    "                  \"ncls_padding\" : -1, \n",
    "                  \"nhits_padding\": 45,\n",
    "                  \"chunk_size\": 256*20,\n",
    "                  \"batch_size\": 256,\n",
    "                  \"maxevents\": 500000,\n",
    "                  \"offset\" : 0,\n",
    "                 }\n",
    "\n",
    "input_files = zip_longest(glob(inputdir_ele+\"/*.parquet\"),\n",
    "                          glob(inputdir_gamma+\"/*.parquet\"))\n",
    "\n",
    "file_loader_generator = load_batches_from_files_generator(config, preprocessing)\n",
    "\n",
    "multidataset = multiprocessor_generator_from_files(input_files, file_loader_generator, output_queue_size=300, nworkers=4, maxevents=config[\"maxevents\"])"
   ]
  },
  {
   "cell_type": "code",
   "execution_count": 12,
   "id": "1e5d8db5-dc6d-422e-a424-c3dbe0bf09cb",
   "metadata": {},
   "outputs": [],
   "source": [
    "multidataset.close()"
   ]
  },
  {
   "cell_type": "code",
   "execution_count": 14,
   "id": "89fc3cbe-c777-401d-a02a-dc54eb8bedb8",
   "metadata": {
    "tags": []
   },
   "outputs": [
    {
     "name": "stdout",
     "output_type": "stream",
     "text": [
      "0, 1, 2, 3, 4, 5, 6, 7, 8, 9, 10, 11, 12, 13, 14, 15, 16, 17, 18, 19, 20, 21, 22, 23, 24, 25, 26, 27, 28, 29, 30, 31, 32, 33, 34, 35, 36, 37, 38, 39, 40, 41, 42, 43, 44, 45, 46, 47, 48, 49, 50, 51, 52, 53, 54, 55, 56, 57, 58, 59, 60, 61, 62, 63, 64, 65, 66, 67, 68, 69, 70, 71, 72, 73, 74, 75, 76, 77, 78, 79, 80, 81, 82, 83, 84, 85, 86, 87, 88, 89, 90, 91, 92, 93, 94, 95, 96, 97, 98, 99, 100, 101, 102, 103, 104, 105, 106, 107, 108, 109, 110, 111, 112, 113, 114, 115, 116, 117, 118, 119, 120, 121, 122, 123, 124, 125, 126, 127, 128, 129, 130, 131, 132, 133, 134, 135, 136, 137, 138, 139, 140, 141, 142, 143, 144, 145, 146, 147, 148, 149, 150, 151, 152, 153, 154, 155, 156, 157, 158, 159, 160, 161, 162, 163, 164, 165, 166, 167, 168, 169, 170, 171, 172, 173, 174, 175, 176, 177, 178, 179, 180, 181, 182, 183, 184, 185, 186, 187, 188, 189, 190, 191, 192, 193, 194, 195, 196, 197, 198, 199, 200, 201, 202, 203, 204, 205, 206, 207, 208, 209, 210, 211, 212, 213, 214, 215, 216, 217, 218, 219, 220, 221, 222, 223, 224, 225, 226, 227, 228, 229, 230, 231, 232, 233, 234, 235, 236, 237, 238, 239, 240, 241, 242, 243, 244, 245, 246, 247, 248, 249, 250, 251, 252, 253, 254, 255, 256, 257, 258, 259, 260, 261, 262, 263, 264, "
     ]
    },
    {
     "name": "stderr",
     "output_type": "stream",
     "text": [
      "/work/dvalsecc/miniconda3/envs/clustering/lib/python3.10/site-packages/numpy/ma/core.py:1156: RuntimeWarning: overflow encountered in true_divide\n",
      "  result = self.f(da, db, *args, **kwargs)\n"
     ]
    },
    {
     "name": "stdout",
     "output_type": "stream",
     "text": [
      "265, 266, 267, 268, 269, 270, 271, 272, 273, 274, 275, 276, 277, 278, 279, 280, 281, 282, 283, 284, 285, 286, 287, 288, 289, 290, 291, 292, 293, 294, 295, 296, 297, 298, 299, 300, 301, 302, 303, 304, 305, 306, 307, 308, 309, 310, 311, 312, 313, 314, 315, 316, 317, 318, 319, 320, 321, 322, 323, 324, 325, 326, 327, 328, 329, 330, 331, 332, 333, 334, 335, 336, 337, 338, 339, 340, 341, 342, 343, 344, 345, 346, 347, 348, 349, 350, 351, 352, 353, 354, 355, 356, 357, 358, 359, 360, 361, 362, 363, 364, 365, 366, 367, 368, 369, 370, 371, 372, 373, 374, 375, 376, 377, 378, 379, 380, 381, 382, 383, 384, 385, 386, 387, "
     ]
    },
    {
     "name": "stderr",
     "output_type": "stream",
     "text": [
      "/work/dvalsecc/miniconda3/envs/clustering/lib/python3.10/site-packages/numpy/ma/core.py:1156: RuntimeWarning: overflow encountered in true_divide\n",
      "  result = self.f(da, db, *args, **kwargs)\n"
     ]
    },
    {
     "name": "stdout",
     "output_type": "stream",
     "text": [
      "388, 389, 390, 391, 392, 393, 394, 395, 396, 397, 398, 399, 400, 401, 402, 403, 404, 405, 406, 407, 408, 409, 410, 411, 412, 413, 414, 415, 416, 417, 418, 419, 420, 421, 422, 423, 424, 425, 426, 427, 428, 429, 430, 431, 432, 433, 434, 435, 436, 437, 438, 439, 440, 441, 442, 443, 444, 445, 446, 447, 448, 449, 450, 451, 452, 453, 454, 455, 456, 457, 458, 459, 460, 461, 462, 463, 464, 465, 466, 467, 468, 469, 470, 471, 472, 473, 474, 475, 476, 477, 478, 479, 480, 481, 482, 483, 484, 485, 486, 487, 488, 489, 490, 491, 492, 493, 494, 495, 496, 497, 498, 499, 500, 501, 502, 503, 504, 505, 506, 507, 508, 509, 510, 511, 512, 513, 514, 515, 516, 517, 518, 519, 520, 521, 522, 523, 524, 525, 526, 527, 528, 529, 530, 531, 532, 533, 534, 535, 536, 537, 538, 539, 540, 541, 542, 543, 544, 545, 546, 547, 548, 549, 550, 551, 552, 553, 554, 555, 556, 557, 558, 559, 560, 561, 562, 563, 564, 565, 566, 567, 568, 569, 570, 571, 572, 573, 574, 575, 576, 577, 578, 579, 580, 581, 582, 583, 584, 585, 586, 587, 588, 589, 590, 591, 592, 593, 594, 595, 596, 597, 598, 599, 600, 601, 602, 603, 604, 605, 606, 607, 608, 609, 610, 611, 612, 613, 614, 615, 616, 617, 618, 619, 620, 621, 622, 623, 624, 625, 626, 627, 628, 629, 630, 631, 632, 633, 634, 635, 636, 637, 638, 639, 640, 641, 642, 643, 644, 645, 646, 647, 648, 649, 650, 651, 652, 653, 654, 655, 656, 657, 658, 659, 660, 661, 662, 663, 664, 665, 666, 667, 668, 669, 670, 671, 672, 673, 674, 675, 676, 677, 678, 679, 680, 681, 682, 683, 684, 685, 686, 687, 688, 689, 690, 691, 692, 693, 694, 695, 696, 697, 698, 699, 700, 701, 702, 703, 704, 705, 706, 707, 708, 709, 710, 711, 712, 713, 714, 715, 716, 717, 718, 719, 720, 721, 722, 723, 724, 725, 726, 727, 728, 729, 730, 731, 732, 733, 734, 735, 736, 737, 738, 739, 740, 741, 742, 743, 744, 745, 746, 747, 748, 749, 750, 751, 752, 753, 754, 755, 756, 757, 758, 759, 760, 761, 762, 763, 764, 765, 766, 767, 768, 769, 770, 771, 772, 773, 774, 775, 776, 777, 778, 779, 780, 781, 782, 783, 784, 785, 786, 787, 788, 789, 790, 791, 792, 793, 794, 795, 796, 797, 798, 799, 800, 801, 802, 803, 804, 805, 806, 807, 808, 809, 810, 811, 812, 813, 814, 815, 816, 817, 818, 819, 820, 821, 822, 823, 824, 825, 826, 827, 828, 829, 830, 831, 832, 833, 834, 835, 836, 837, 838, 839, 840, 841, 842, 843, 844, 845, 846, 847, 848, 849, 850, 851, 852, 853, 854, 855, 856, 857, 858, 859, 860, 861, 862, 863, 864, 865, 866, 867, 868, 869, 870, 871, 872, 873, 874, 875, 876, 877, 878, 879, 880, 881, 882, 883, 884, 885, 886, 887, 888, 889, 890, 891, 892, 893, 894, 895, 896, 897, 898, 899, 900, 901, 902, 903, 904, 905, 906, 907, 908, 909, 910, 911, 912, 913, 914, 915, 916, 917, 918, 919, 920, 921, 922, 923, 924, 925, 926, 927, 928, 929, 930, 931, 932, 933, 934, 935, 936, 937, 938, 939, 940, 941, 942, 943, 944, 945, 946, 947, 948, 949, 950, 951, 952, 953, 954, 955, 956, 957, 958, 959, 960, 961, 962, 963, 964, 965, 966, 967, 968, 969, 970, 971, 972, 973, 974, 975, 976, 977, 978, 979, 980, 981, 982, 983, 984, 985, 986, 987, 988, 989, 990, 991, 992, 993, 994, 995, 996, 997, 998, 999, 1000, 1001, 1002, 1003, 1004, 1005, 1006, 1007, 1008, 1009, 1010, 1011, 1012, 1013, 1014, 1015, 1016, 1017, 1018, 1019, 1020, 1021, 1022, 1023, 1024, 1025, 1026, 1027, 1028, 1029, 1030, 1031, 1032, 1033, 1034, 1035, 1036, 1037, 1038, 1039, 1040, 1041, 1042, 1043, 1044, 1045, 1046, 1047, 1048, 1049, 1050, 1051, 1052, 1053, 1054, 1055, 1056, 1057, 1058, 1059, 1060, 1061, 1062, 1063, 1064, 1065, 1066, 1067, 1068, 1069, 1070, 1071, 1072, 1073, 1074, 1075, 1076, 1077, 1078, 1079, 1080, 1081, 1082, 1083, 1084, 1085, 1086, 1087, 1088, 1089, 1090, 1091, 1092, 1093, 1094, 1095, 1096, 1097, 1098, 1099, 1100, 1101, 1102, 1103, 1104, 1105, 1106, 1107, 1108, 1109, 1110, 1111, 1112, 1113, 1114, 1115, 1116, 1117, 1118, 1119, 1120, 1121, 1122, 1123, 1124, 1125, 1126, 1127, 1128, 1129, 1130, 1131, 1132, 1133, 1134, 1135, 1136, 1137, 1138, 1139, 1140, 1141, 1142, 1143, 1144, 1145, 1146, 1147, 1148, 1149, 1150, 1151, 1152, 1153, 1154, 1155, 1156, 1157, 1158, 1159, 1160, 1161, 1162, 1163, 1164, 1165, 1166, 1167, 1168, 1169, 1170, 1171, 1172, 1173, 1174, 1175, 1176, 1177, 1178, 1179, 1180, 1181, 1182, 1183, 1184, 1185, 1186, 1187, 1188, 1189, 1190, 1191, 1192, 1193, 1194, 1195, 1196, 1197, 1198, 1199, 1200, 1201, 1202, 1203, 1204, 1205, 1206, 1207, 1208, 1209, 1210, 1211, 1212, 1213, 1214, 1215, 1216, 1217, 1218, 1219, 1220, 1221, 1222, 1223, 1224, 1225, 1226, 1227, 1228, 1229, 1230, 1231, 1232, 1233, 1234, 1235, 1236, 1237, 1238, 1239, 1240, 1241, 1242, 1243, 1244, 1245, 1246, 1247, 1248, 1249, 1250, 1251, 1252, 1253, 1254, 1255, 1256, 1257, 1258, 1259, 1260, 1261, 1262, 1263, 1264, 1265, 1266, 1267, 1268, 1269, 1270, 1271, 1272, 1273, 1274, 1275, 1276, 1277, 1278, 1279, 1280, 1281, 1282, 1283, 1284, 1285, 1286, 1287, 1288, 1289, 1290, 1291, 1292, 1293, 1294, 1295, 1296, 1297, 1298, 1299, 1300, 1301, 1302, 1303, 1304, 1305, 1306, 1307, 1308, 1309, 1310, 1311, 1312, 1313, 1314, 1315, 1316, 1317, 1318, 1319, 1320, 1321, 1322, 1323, 1324, 1325, 1326, 1327, 1328, 1329, 1330, 1331, 1332, 1333, 1334, 1335, 1336, 1337, 1338, 1339, 1340, 1341, 1342, 1343, 1344, 1345, 1346, 1347, 1348, 1349, 1350, 1351, 1352, 1353, 1354, 1355, 1356, 1357, 1358, 1359, 1360, 1361, 1362, 1363, 1364, 1365, 1366, 1367, 1368, 1369, 1370, 1371, 1372, 1373, 1374, 1375, 1376, 1377, 1378, 1379, 1380, 1381, 1382, 1383, 1384, 1385, 1386, 1387, 1388, 1389, 1390, 1391, 1392, 1393, 1394, 1395, 1396, 1397, 1398, 1399, 1400, 1401, 1402, 1403, 1404, 1405, 1406, 1407, 1408, 1409, 1410, 1411, 1412, 1413, 1414, 1415, 1416, 1417, 1418, 1419, 1420, 1421, 1422, 1423, 1424, 1425, 1426, 1427, 1428, 1429, 1430, 1431, 1432, 1433, 1434, 1435, 1436, 1437, 1438, 1439, 1440, 1441, 1442, 1443, 1444, 1445, 1446, 1447, 1448, 1449, 1450, 1451, 1452, 1453, 1454, 1455, 1456, 1457, 1458, 1459, 1460, 1461, 1462, 1463, 1464, 1465, 1466, 1467, 1468, 1469, 1470, 1471, 1472, 1473, 1474, 1475, 1476, 1477, 1478, 1479, 1480, 1481, 1482, 1483, 1484, 1485, 1486, 1487, 1488, 1489, 1490, 1491, 1492, 1493, 1494, 1495, 1496, 1497, 1498, 1499, 1500, 1501, 1502, 1503, 1504, 1505, 1506, 1507, 1508, 1509, 1510, 1511, 1512, 1513, 1514, 1515, 1516, 1517, 1518, 1519, 1520, 1521, 1522, 1523, 1524, 1525, 1526, 1527, 1528, 1529, 1530, 1531, 1532, 1533, 1534, 1535, 1536, 1537, 1538, 1539, 1540, 1541, 1542, 1543, 1544, 1545, 1546, 1547, 1548, 1549, 1550, 1551, 1552, 1553, 1554, 1555, 1556, 1557, 1558, 1559, 1560, 1561, 1562, 1563, 1564, 1565, 1566, 1567, 1568, 1569, 1570, 1571, 1572, 1573, 1574, 1575, 1576, 1577, 1578, 1579, 1580, 1581, 1582, 1583, 1584, 1585, 1586, 1587, 1588, 1589, 1590, 1591, 1592, 1593, 1594, 1595, 1596, 1597, 1598, 1599, 1600, 1601, 1602, 1603, 1604, 1605, 1606, 1607, 1608, 1609, 1610, 1611, 1612, 1613, 1614, 1615, 1616, 1617, 1618, 1619, 1620, 1621, 1622, 1623, 1624, 1625, 1626, 1627, 1628, 1629, 1630, 1631, 1632, 1633, 1634, 1635, 1636, 1637, 1638, 1639, 1640, 1641, 1642, 1643, 1644, 1645, 1646, 1647, 1648, 1649, 1650, 1651, 1652, 1653, 1654, 1655, 1656, 1657, 1658, 1659, 1660, 1661, 1662, 1663, 1664, 1665, 1666, 1667, 1668, 1669, 1670, 1671, 1672, 1673, 1674, 1675, 1676, 1677, 1678, 1679, 1680, 1681, 1682, 1683, 1684, 1685, 1686, 1687, 1688, 1689, 1690, 1691, 1692, 1693, 1694, 1695, 1696, 1697, 1698, 1699, 1700, 1701, 1702, 1703, 1704, 1705, 1706, 1707, 1708, 1709, 1710, 1711, 1712, 1713, 1714, 1715, 1716, 1717, 1718, 1719, 1720, 1721, 1722, 1723, 1724, 1725, 1726, 1727, 1728, 1729, 1730, 1731, 1732, 1733, 1734, 1735, 1736, 1737, 1738, 1739, 1740, 1741, 1742, 1743, 1744, 1745, 1746, 1747, 1748, 1749, 1750, 1751, 1752, 1753, 1754, 1755, 1756, 1757, 1758, 1759, 1760, 1761, 1762, 1763, 1764, 1765, 1766, 1767, 1768, 1769, 1770, 1771, 1772, 1773, 1774, 1775, 1776, 1777, 1778, 1779, 1780, 1781, 1782, 1783, 1784, 1785, 1786, 1787, 1788, 1789, 1790, 1791, 1792, 1793, 1794, 1795, 1796, 1797, 1798, 1799, 1800, 1801, 1802, 1803, 1804, 1805, 1806, 1807, 1808, 1809, 1810, 1811, 1812, 1813, 1814, 1815, 1816, 1817, 1818, 1819, 1820, 1821, 1822, 1823, 1824, 1825, 1826, 1827, 1828, 1829, 1830, 1831, 1832, 1833, 1834, 1835, 1836, 1837, 1838, 1839, 1840, 1841, 1842, 1843, 1844, 1845, 1846, 1847, 1848, 1849, 1850, 1851, 1852, 1853, 1854, 1855, 1856, 1857, 1858, 1859, 1860, 1861, 1862, 1863, 1864, 1865, 1866, 1867, 1868, 1869, 1870, 1871, 1872, 1873, 1874, 1875, 1876, 1877, 1878, 1879, 1880, 1881, 1882, 1883, 1884, 1885, 1886, 1887, 1888, 1889, 1890, 1891, 1892, 1893, 1894, 1895, 1896, 1897, 1898, 1899, 1900, 1901, 1902, 1903, 1904, 1905, 1906, 1907, 1908, 1909, 1910, 1911, 1912, 1913, 1914, 1915, 1916, 1917, 1918, 1919, 1920, 1921, 1922, 1923, 1924, 1925, 1926, 1927, 1928, 1929, 1930, 1931, 1932, 1933, 1934, 1935, 1936, 1937, 1938, 1939, 1940, 1941, 1942, 1943, 1944, 1945, 1946, 1947, 1948, 1949, 1950, 1951, 1952, Multiprocessing generator closed\n",
      "CPU times: user 13.3 s, sys: 24.9 s, total: 38.2 s\n",
      "Wall time: 1min 21s\n"
     ]
    }
   ],
   "source": [
    "%%time\n",
    "for i, (size, df) in enumerate(multidataset):\n",
    "    print(i, end=\", \")"
   ]
  },
  {
   "cell_type": "markdown",
   "id": "0b9fc756-cec1-4435-8c59-2324b50e1ddd",
   "metadata": {},
   "source": [
    "### Alternative example:\n",
    "Single thread input and multiprocessing of chunks: limited by IO"
   ]
  },
  {
   "cell_type": "code",
   "execution_count": 11,
   "id": "3df1efe5-34bf-45ba-90cc-1db87bbabe2f",
   "metadata": {},
   "outputs": [
    {
     "ename": "NameError",
     "evalue": "name 'df_ele' is not defined",
     "output_type": "error",
     "traceback": [
      "\u001b[0;31m---------------------------------------------------------------------------\u001b[0m",
      "\u001b[0;31mNameError\u001b[0m                                 Traceback (most recent call last)",
      "Input \u001b[0;32mIn [11]\u001b[0m, in \u001b[0;36m<cell line: 12>\u001b[0;34m()\u001b[0m\n\u001b[1;32m      2\u001b[0m chunk_size \u001b[38;5;241m=\u001b[39m batch_size \u001b[38;5;241m*\u001b[39m\u001b[38;5;241m10\u001b[39m\n\u001b[1;32m      4\u001b[0m config \u001b[38;5;241m=\u001b[39m { \u001b[38;5;124m\"\u001b[39m\u001b[38;5;124mcolumns\u001b[39m\u001b[38;5;124m\"\u001b[39m: {\u001b[38;5;124m\"\u001b[39m\u001b[38;5;124mcl_features\u001b[39m\u001b[38;5;124m\"\u001b[39m: cl_x_f, \u001b[38;5;124m\"\u001b[39m\u001b[38;5;124mcl_labels\u001b[39m\u001b[38;5;124m\"\u001b[39m:cl_y_f,\n\u001b[1;32m      5\u001b[0m                       \u001b[38;5;124m\"\u001b[39m\u001b[38;5;124mwindow_metadata\u001b[39m\u001b[38;5;124m\"\u001b[39m:[\u001b[38;5;124m\"\u001b[39m\u001b[38;5;124mflavour\u001b[39m\u001b[38;5;124m\"\u001b[39m, \u001b[38;5;124m\"\u001b[39m\u001b[38;5;124mnVtx\u001b[39m\u001b[38;5;124m\"\u001b[39m, \u001b[38;5;124m\"\u001b[39m\u001b[38;5;124mrho\u001b[39m\u001b[38;5;124m\"\u001b[39m, \u001b[38;5;124m\"\u001b[39m\u001b[38;5;124mobsPU\u001b[39m\u001b[38;5;124m\"\u001b[39m, \u001b[38;5;124m\"\u001b[39m\u001b[38;5;124mtruePU\u001b[39m\u001b[38;5;124m\"\u001b[39m,\u001b[38;5;124m\"\u001b[39m\u001b[38;5;124mncls\u001b[39m\u001b[38;5;124m\"\u001b[39m,\u001b[38;5;124m\"\u001b[39m\u001b[38;5;124mncls\u001b[39m\u001b[38;5;124m\"\u001b[39m, \u001b[38;5;124m\"\u001b[39m\u001b[38;5;124mnclusters_insc\u001b[39m\u001b[38;5;124m\"\u001b[39m]}, \n\u001b[1;32m      6\u001b[0m           \u001b[38;5;124m\"\u001b[39m\u001b[38;5;124mpadding\u001b[39m\u001b[38;5;124m\"\u001b[39m : \u001b[38;5;28;01mTrue\u001b[39;00m,\n\u001b[0;32m   (...)\u001b[0m\n\u001b[1;32m      9\u001b[0m           \u001b[38;5;124m\"\u001b[39m\u001b[38;5;124mnhits_padding\u001b[39m\u001b[38;5;124m\"\u001b[39m: \u001b[38;5;241m45\u001b[39m,\n\u001b[1;32m     10\u001b[0m          }\n\u001b[0;32m---> 12\u001b[0m initial_ele \u001b[38;5;241m=\u001b[39m load_dataset_chunks(\u001b[43mdf_ele\u001b[49m, chunk_size,\u001b[38;5;241m2500000\u001b[39m, config)\n\u001b[1;32m     13\u001b[0m initial_gamma \u001b[38;5;241m=\u001b[39m load_dataset_chunks(df_gamma, chunk_size, \u001b[38;5;241m2500000\u001b[39m, config)\n\u001b[1;32m     14\u001b[0m ele_gamma \u001b[38;5;241m=\u001b[39m concat_datasets(initial_ele, initial_gamma)\n",
      "\u001b[0;31mNameError\u001b[0m: name 'df_ele' is not defined"
     ]
    }
   ],
   "source": [
    "batch_size = 512\n",
    "chunk_size = batch_size *10\n",
    "\n",
    "config = { \"columns\": {\"cl_features\": cl_x_f, \"cl_labels\":cl_y_f,\n",
    "                      \"window_metadata\":[\"flavour\", \"nVtx\", \"rho\", \"obsPU\", \"truePU\",\"ncls\",\"ncls\", \"nclusters_insc\"]}, \n",
    "          \"padding\" : True,\n",
    "          \"read_hits\":True, \n",
    "          \"ncls_padding\" : 45, \n",
    "          \"nhits_padding\": 45,\n",
    "         }\n",
    "\n",
    "initial_ele = load_dataset_chunks(df_ele, chunk_size,2500000, config)\n",
    "initial_gamma = load_dataset_chunks(df_gamma, chunk_size, 2500000, config)\n",
    "ele_gamma = concat_datasets(initial_ele, initial_gamma)\n",
    "shuffled = shuffle_dataset(ele_gamma)\n",
    "preprocess_fn = preprocessing(config)\n",
    "\n",
    "m = multiprocessor_generator(shuffled, preprocess_fn, 8, 6, nworkers=4)\n",
    "final = split_batches(m, batch_size)"
   ]
  },
  {
   "cell_type": "code",
   "execution_count": 54,
   "id": "9c5dcf39-7a36-48e4-b7e9-affec225a7d7",
   "metadata": {},
   "outputs": [],
   "source": [
    "m.close()"
   ]
  },
  {
   "cell_type": "code",
   "execution_count": 12,
   "id": "9994bf39-937a-4483-8e8c-ae8819f1299b",
   "metadata": {},
   "outputs": [
    {
     "name": "stdout",
     "output_type": "stream",
     "text": [
      "31.5 ms ± 5.9 ms per loop (mean ± std. dev. of 7 runs, 1 loop each)\n"
     ]
    }
   ],
   "source": [
    "%%timeit\n",
    "next(ele_gamma)"
   ]
  },
  {
   "cell_type": "code",
   "execution_count": 14,
   "id": "8bc437ba-8f4a-4fa2-9406-b2ac519f863b",
   "metadata": {},
   "outputs": [
    {
     "name": "stdout",
     "output_type": "stream",
     "text": [
      "1.54 s ± 88.4 ms per loop (mean ± std. dev. of 7 runs, 1 loop each)\n"
     ]
    }
   ],
   "source": [
    "%%timeit\n",
    "next(shuffled)"
   ]
  },
  {
   "cell_type": "code",
   "execution_count": 16,
   "id": "faac0a45-1f05-42b6-931f-e9b9ebcab23c",
   "metadata": {},
   "outputs": [
    {
     "name": "stdout",
     "output_type": "stream",
     "text": [
      "3.17 s ± 464 ms per loop (mean ± std. dev. of 7 runs, 1 loop each)\n"
     ]
    }
   ],
   "source": [
    "%%timeit\n",
    "next(m)"
   ]
  },
  {
   "cell_type": "code",
   "execution_count": null,
   "id": "9aac3d48-cd5e-4721-9efd-0bd81cdf86ce",
   "metadata": {},
   "outputs": [],
   "source": [
    "%%time\n",
    "for i, (size, df) in enumerate(shuffled):\n",
    "    print(i, end=\", \")"
   ]
  },
  {
   "cell_type": "code",
   "execution_count": null,
   "id": "827f4867-ad40-49d5-ad2e-ac641da81fa5",
   "metadata": {},
   "outputs": [],
   "source": [
    "output_dataset = \"/work/dvalsecc/Clustering/dataset/numpy_ntuples/all\"\n",
    "os.makedirs(output_dataset, exist_ok=True)"
   ]
  },
  {
   "cell_type": "markdown",
   "id": "cbcf79f3-fc3e-4005-8668-20efe8ce2fee",
   "metadata": {},
   "source": [
    "####  Test numpy export from awkward record"
   ]
  },
  {
   "cell_type": "code",
   "execution_count": 66,
   "id": "e4877aa2-a7f1-4521-a095-38acd1ef3eac",
   "metadata": {},
   "outputs": [
    {
     "name": "stdout",
     "output_type": "stream",
     "text": [
      "13.1 s ± 250 ms per loop (mean ± std. dev. of 7 runs, 1 loop each)\n"
     ]
    }
   ],
   "source": [
    "%%timeit\n",
    "X_numpy = np.transpose(np.asarray(ak.concatenate(ak.unzip(X[:, np.newaxis]), axis=1)),axes=(0,2,1))"
   ]
  },
  {
   "cell_type": "code",
   "execution_count": 67,
   "id": "85cdd8a5-0b1e-4492-9fa3-33cb5c495e53",
   "metadata": {},
   "outputs": [
    {
     "name": "stdout",
     "output_type": "stream",
     "text": [
      "509 ms ± 9.37 ms per loop (mean ± std. dev. of 7 runs, 1 loop each)\n"
     ]
    }
   ],
   "source": [
    "%%timeit\n",
    "nps = []\n",
    "for fil in X.fields:\n",
    "    nps.append(ak.to_numpy(X[fil]))\n",
    "    \n",
    "out = np.stack(nps, axis=2)"
   ]
  },
  {
   "cell_type": "code",
   "execution_count": 74,
   "id": "e0234381-3f57-4a2a-afa0-3952850056e2",
   "metadata": {},
   "outputs": [],
   "source": [
    "out = np.stack([ak.to_numpy(X[f]) for f in X.fields], axis=2)"
   ]
  },
  {
   "cell_type": "markdown",
   "id": "ffbd8e86-fba1-4b8b-98d7-74516ff99f70",
   "metadata": {},
   "source": [
    "# Tensorflow pipeline"
   ]
  },
  {
   "cell_type": "code",
   "execution_count": 11,
   "id": "5a57d12a-65b0-41b0-b272-542a0b9b57a8",
   "metadata": {},
   "outputs": [
    {
     "name": "stderr",
     "output_type": "stream",
     "text": [
      "2022-09-05 12:02:17.541052: W tensorflow/stream_executor/platform/default/dso_loader.cc:64] Could not load dynamic library 'libcudart.so.11.0'; dlerror: libcudart.so.11.0: cannot open shared object file: No such file or directory\n",
      "2022-09-05 12:02:17.541090: I tensorflow/stream_executor/cuda/cudart_stub.cc:29] Ignore above cudart dlerror if you do not have a GPU set up on your machine.\n"
     ]
    }
   ],
   "source": [
    "import tensorflow as tf"
   ]
  },
  {
   "cell_type": "code",
   "execution_count": 12,
   "id": "b3569375-651c-46e8-92f2-15c34c9c0184",
   "metadata": {},
   "outputs": [],
   "source": [
    "def tf_generator(config):\n",
    "    def _gen():\n",
    "        print(\"Creating generator\")\n",
    "        file_loader_generator = load_batches_from_files_generator(config, preprocessing)\n",
    "        multidataset = multiprocessor_generator_from_files(config[\"input_files\"], \n",
    "                                                           file_loader_generator, \n",
    "                                                           output_queue_size=config[\"output_queue\"], \n",
    "                                                           nworkers=config[\"nworkers\"], \n",
    "                                                           maxevents=config.get(\"maxevents\", None))\n",
    "       \n",
    "        for size, df in multidataset:\n",
    "            tfs = convert_to_tf(df)\n",
    "            yield tuple(tfs)\n",
    "    return _gen\n"
   ]
  },
  {
   "cell_type": "code",
   "execution_count": 13,
   "id": "3b1aac69-3c7c-4b36-bb05-11ed49c740ec",
   "metadata": {},
   "outputs": [],
   "source": [
    "config = { \n",
    "    \"input_files\": list(zip_longest(glob(inputdir_ele+\"/*.parquet\"),\n",
    "                             glob(inputdir_gamma+\"/*.parquet\"))),\n",
    "    \"file_input_columns\":  [\"cl_features\", \"cl_labels\", \"window_features\", \"window_metadata\", \"cl_h\"],\n",
    "    \"columns\": {\"cl_features\": cl_x_f, \"cl_labels\":cl_y_f,\n",
    "                  \"window_metadata\":[\"flavour\", \"nVtx\", \"rho\", \"obsPU\", \"truePU\",\"ncls\",\"ncls\", \"nclusters_insc\"]}, \n",
    "      \"padding\" : True,\n",
    "      \"read_hits\":True, \n",
    "      \"ncls_padding\" : 45, \n",
    "      \"nhits_padding\": 45,\n",
    "      \"chunk_size\": 256*50,\n",
    "      \"batch_size\": 256,\n",
    "      \"maxevents_file\": 125000,\n",
    "      \"maxevents\": 100000,\n",
    "      \"nworkers\": 5,\n",
    "      \"output_queue\":200,\n",
    "      \"offset\" : 0}"
   ]
  },
  {
   "cell_type": "code",
   "execution_count": 14,
   "id": "20ef1350-478d-4291-8709-e711447d0264",
   "metadata": {},
   "outputs": [
    {
     "name": "stderr",
     "output_type": "stream",
     "text": [
      "2022-09-05 12:02:42.464104: W tensorflow/stream_executor/platform/default/dso_loader.cc:64] Could not load dynamic library 'libcuda.so.1'; dlerror: libcuda.so.1: cannot open shared object file: No such file or directory\n",
      "2022-09-05 12:02:42.464163: W tensorflow/stream_executor/cuda/cuda_driver.cc:269] failed call to cuInit: UNKNOWN ERROR (303)\n",
      "2022-09-05 12:02:42.464208: I tensorflow/stream_executor/cuda/cuda_diagnostics.cc:156] kernel driver does not appear to be running on this host (t3ui01.psi.ch): /proc/driver/nvidia/version does not exist\n",
      "2022-09-05 12:02:42.464930: I tensorflow/core/platform/cpu_feature_guard.cc:193] This TensorFlow binary is optimized with oneAPI Deep Neural Network Library (oneDNN) to use the following CPU instructions in performance-critical operations:  AVX2 FMA\n",
      "To enable them in other operations, rebuild TensorFlow with the appropriate compiler flags.\n"
     ]
    }
   ],
   "source": [
    "df = tf.data.Dataset.from_generator(tf_generator(config), output_signature= (\n",
    "                           tf.TensorSpec(shape=(None,45,26), dtype=tf.float64),\n",
    "                           tf.TensorSpec(shape=(None,45), dtype=tf.bool),\n",
    "                            tf.TensorSpec(shape=(None,45), dtype=tf.bool),\n",
    "                           tf.TensorSpec(shape=(None,45, 45, 4), dtype=tf.float64),\n",
    "                           tf.TensorSpec(shape=(None,), dtype=tf.float64)))\n"
   ]
  },
  {
   "cell_type": "code",
   "execution_count": 15,
   "id": "a9fdf50f-af67-4eda-a3e6-5a1404ce6700",
   "metadata": {},
   "outputs": [
    {
     "name": "stdout",
     "output_type": "stream",
     "text": [
      "Creating generator\n",
      "0, 20, 40, 60, 80, 100, 120, 140, 160, 180, 200, 220, 240, 260, 280, 300, 320, 340, 360, 380, Multiprocessing generator closed\n",
      "CPU times: user 7.45 s, sys: 9.4 s, total: 16.9 s\n",
      "Wall time: 26.2 s\n"
     ]
    }
   ],
   "source": [
    "%%time\n",
    "for i, d in enumerate(df):\n",
    "    if i % 20 == 0:\n",
    "        print(i, end=', ')"
   ]
  },
  {
   "cell_type": "code",
   "execution_count": null,
   "id": "2db7485e-bf39-4227-b618-d8585d544e41",
   "metadata": {},
   "outputs": [],
   "source": [
    "%%time\n",
    "for i, d in enumerate(df):\n",
    "    if i % 20 == 0:\n",
    "        print(i, end=', ')"
   ]
  },
  {
   "cell_type": "code",
   "execution_count": 17,
   "id": "741b5d4d-519f-4e51-9655-f43b2e06068e",
   "metadata": {},
   "outputs": [
    {
     "name": "stdout",
     "output_type": "stream",
     "text": [
      "0, 20, 40, 60, 80, 100, 120, 140, 160, 180, 200, 220, 240, 260, 280, 300, 320, 340, 360, 380, 400, 420, 440, 460, 480, 500, 520, 540, 560, 580, 600, 620, 640, 660, 680, 700, 720, 740, 760, 780, 800, 820, 840, 860, 880, 900, 920, 940, 960, 980, CPU times: user 16 s, sys: 13.6 s, total: 29.6 s\n",
      "Wall time: 50.8 s\n"
     ]
    }
   ],
   "source": [
    "%%time\n",
    "for i, d in enumerate(df):\n",
    "    if i % 20 == 0:\n",
    "        print(i, end=', ')"
   ]
  },
  {
   "cell_type": "code",
   "execution_count": 16,
   "id": "cf6e2f98-55c1-462f-bf0b-c69e747cc00f",
   "metadata": {},
   "outputs": [
    {
     "name": "stdout",
     "output_type": "stream",
     "text": [
      "0, 20, 40, 60, 80, 100, 120, 140, 160, 180, 200, 220, 240, 260, 280, 300, 320, 340, 360, 380, 400, 420, 440, 460, 480, 500, 520, 540, 560, 580, 600, 620, 640, 660, 680, 700, 720, 740, 760, 780, 800, 820, 840, 860, 880, 900, 920, 940, 960, 980, CPU times: user 15.8 s, sys: 12.2 s, total: 28 s\n",
      "Wall time: 50.2 s\n"
     ]
    }
   ],
   "source": [
    "%%time\n",
    "for i, d in enumerate(df):\n",
    "    if i % 20 == 0:\n",
    "        print(i, end=', ')"
   ]
  },
  {
   "cell_type": "markdown",
   "id": "95edb39a-5e62-4143-9207-31fff001d800",
   "metadata": {},
   "source": [
    "### Test tf conversion"
   ]
  },
  {
   "cell_type": "code",
   "execution_count": 18,
   "id": "00709803-6e63-4f09-a5bd-814ea71ee1f6",
   "metadata": {},
   "outputs": [],
   "source": [
    "df = df.prefetch(10).repeat(2)"
   ]
  },
  {
   "cell_type": "code",
   "execution_count": 17,
   "id": "07c00e2d-a348-4574-95bc-3663d8ca875c",
   "metadata": {},
   "outputs": [
    {
     "name": "stdout",
     "output_type": "stream",
     "text": [
      "Creating generator\n",
      "0, 1, 2, 3, 4, 5, 6, 7, 8, 9, 10, 11, 12, 13, 14, 15, 16, 17, 18, 19, 20, 21, 22, 23, 24, 25, 26, 27, 28, 29, 30, 31, 32, 33, 34, 35, 36, 37, 38, 39, 40, 41, 42, 43, 44, 45, 46, 47, 48, 49, 50, 51, 52, 53, 54, 55, 56, 57, 58, 59, 60, 61, 62, 63, 64, 65, 66, 67, 68, 69, 70, 71, 72, 73, 74, 75, 76, 77, 78, 79, 80, 81, 82, 83, 84, 85, 86, 87, 88, 89, 90, 91, 92, 93, 94, 95, 96, 97, 98, 99, 100, 101, 102, 103, 104, 105, 106, 107, 108, 109, 110, 111, 112, 113, 114, 115, 116, 117, 118, 119, 120, 121, 122, 123, 124, 125, 126, 127, 128, 129, 130, 131, 132, 133, 134, 135, 136, 137, 138, 139, 140, 141, 142, 143, 144, 145, 146, 147, 148, 149, 150, 151, 152, 153, 154, 155, 156, 157, 158, 159, 160, 161, 162, 163, 164, 165, 166, 167, 168, 169, 170, 171, 172, 173, 174, 175, 176, 177, 178, 179, 180, 181, 182, 183, 184, 185, 186, 187, 188, 189, 190, 191, 192, 193, 194, 195, 196, 197, 198, 199, 200, 201, 202, 203, 204, 205, 206, 207, 208, 209, 210, 211, 212, 213, 214, 215, 216, 217, 218, 219, 220, 221, 222, 223, 224, 225, 226, 227, 228, 229, 230, 231, 232, 233, 234, 235, 236, 237, 238, 239, 240, 241, 242, 243, 244, 245, 246, 247, 248, 249, 250, 251, 252, 253, 254, 255, 256, 257, 258, 259, 260, 261, 262, 263, 264, 265, 266, 267, 268, 269, 270, 271, 272, 273, 274, 275, 276, 277, 278, 279, 280, 281, 282, 283, 284, 285, 286, 287, 288, 289, 290, 291, 292, 293, 294, 295, 296, 297, 298, 299, 300, 301, 302, 303, 304, 305, 306, 307, 308, 309, 310, 311, 312, 313, 314, 315, 316, 317, 318, 319, 320, 321, 322, 323, 324, 325, 326, 327, 328, 329, 330, 331, 332, 333, 334, 335, 336, 337, 338, 339, 340, 341, 342, 343, 344, 345, 346, 347, 348, 349, 350, 351, 352, 353, 354, 355, 356, 357, 358, 359, 360, 361, 362, 363, 364, 365, 366, 367, 368, 369, 370, 371, 372, 373, 374, 375, 376, 377, 378, 379, 380, 381, 382, 383, 384, 385, 386, 387, 388, 389, Multiprocessing generator closed\n",
      "Creating generator\n",
      "390, 391, 392, 393, 394, 395, 396, 397, 398, 399, 400, 401, 402, 403, 404, 405, 406, 407, 408, 409, 410, 411, 412, 413, 414, 415, 416, 417, 418, 419, 420, 421, 422, 423, 424, 425, 426, 427, 428, 429, 430, 431, 432, 433, 434, 435, 436, 437, 438, 439, 440, 441, 442, 443, 444, 445, 446, 447, 448, 449, 450, 451, 452, 453, 454, 455, 456, 457, 458, 459, 460, 461, 462, 463, 464, 465, 466, 467, 468, 469, 470, 471, 472, 473, 474, 475, 476, 477, 478, 479, 480, 481, 482, 483, 484, 485, 486, 487, 488, 489, 490, 491, 492, 493, 494, 495, 496, 497, 498, 499, 500, 501, 502, 503, 504, 505, 506, 507, 508, 509, 510, 511, 512, 513, 514, 515, 516, 517, 518, 519, 520, 521, 522, 523, 524, 525, 526, 527, 528, 529, 530, 531, 532, 533, 534, 535, 536, 537, 538, 539, 540, 541, 542, 543, 544, 545, 546, 547, 548, 549, 550, 551, 552, 553, 554, 555, 556, 557, 558, 559, 560, 561, 562, 563, 564, 565, 566, 567, 568, 569, 570, 571, 572, 573, 574, 575, 576, 577, 578, 579, 580, 581, 582, 583, 584, 585, 586, 587, 588, 589, 590, 591, 592, 593, 594, 595, 596, 597, 598, 599, 600, 601, 602, 603, 604, 605, 606, 607, 608, 609, 610, 611, 612, 613, 614, 615, 616, 617, 618, 619, 620, 621, 622, 623, 624, 625, 626, 627, 628, 629, 630, 631, 632, 633, 634, 635, 636, 637, 638, 639, 640, 641, 642, 643, 644, 645, 646, 647, 648, 649, 650, 651, 652, 653, 654, 655, 656, 657, 658, 659, 660, 661, 662, 663, 664, 665, 666, 667, 668, 669, 670, 671, 672, 673, 674, 675, 676, 677, 678, 679, 680, 681, 682, 683, 684, 685, 686, 687, 688, 689, 690, 691, 692, 693, 694, 695, 696, 697, 698, 699, 700, 701, 702, 703, 704, 705, 706, 707, 708, 709, 710, 711, 712, 713, 714, 715, 716, 717, 718, 719, 720, 721, 722, 723, 724, 725, 726, 727, 728, 729, 730, 731, 732, 733, 734, 735, 736, 737, 738, 739, 740, 741, 742, 743, 744, 745, 746, 747, 748, 749, 750, 751, 752, 753, 754, 755, 756, 757, 758, 759, 760, 761, 762, 763, 764, 765, 766, 767, 768, 769, 770, 771, 772, 773, 774, 775, 776, 777, 778, 779, Multiprocessing generator closed\n",
      "CPU times: user 13.1 s, sys: 17 s, total: 30.1 s\n",
      "Wall time: 47.5 s\n"
     ]
    }
   ],
   "source": [
    "%%time\n",
    "for i, d in enumerate(df):\n",
    "    print(i, end=', ')"
   ]
  },
  {
   "cell_type": "code",
   "execution_count": 19,
   "id": "8b6996b3-b492-4fd5-a715-cda8ee983759",
   "metadata": {},
   "outputs": [
    {
     "ename": "TypeError",
     "evalue": "'RepeatDataset' object is not subscriptable",
     "output_type": "error",
     "traceback": [
      "\u001b[0;31m---------------------------------------------------------------------------\u001b[0m",
      "\u001b[0;31mTypeError\u001b[0m                                 Traceback (most recent call last)",
      "Input \u001b[0;32mIn [19]\u001b[0m, in \u001b[0;36m<cell line: 1>\u001b[0;34m()\u001b[0m\n\u001b[0;32m----> 1\u001b[0m \u001b[43mdf\u001b[49m\u001b[43m[\u001b[49m\u001b[38;5;241;43m0\u001b[39;49m\u001b[43m]\u001b[49m\n",
      "\u001b[0;31mTypeError\u001b[0m: 'RepeatDataset' object is not subscriptable"
     ]
    }
   ],
   "source": [
    "df[0]"
   ]
  },
  {
   "cell_type": "code",
   "execution_count": 24,
   "id": "fb2477bc-4440-4ddf-b102-6298f100808a",
   "metadata": {},
   "outputs": [
    {
     "ename": "TypeError",
     "evalue": "'TakeDataset' object is not an iterator",
     "output_type": "error",
     "traceback": [
      "\u001b[0;31m---------------------------------------------------------------------------\u001b[0m",
      "\u001b[0;31mTypeError\u001b[0m                                 Traceback (most recent call last)",
      "Input \u001b[0;32mIn [24]\u001b[0m, in \u001b[0;36m<cell line: 1>\u001b[0;34m()\u001b[0m\n\u001b[0;32m----> 1\u001b[0m a \u001b[38;5;241m=\u001b[39m \u001b[38;5;28;43mnext\u001b[39;49m\u001b[43m(\u001b[49m\u001b[43mdf\u001b[49m\u001b[38;5;241;43m.\u001b[39;49m\u001b[43mtake\u001b[49m\u001b[43m(\u001b[49m\u001b[38;5;241;43m1\u001b[39;49m\u001b[43m)\u001b[49m\u001b[43m)\u001b[49m\n",
      "\u001b[0;31mTypeError\u001b[0m: 'TakeDataset' object is not an iterator"
     ]
    }
   ],
   "source": [
    "a = next(df.take(1))"
   ]
  },
  {
   "cell_type": "code",
   "execution_count": 21,
   "id": "bf4b1f7e-afc7-42ab-b095-b5ee258304bf",
   "metadata": {},
   "outputs": [
    {
     "data": {
      "text/plain": [
       "<TakeDataset element_spec=(TensorSpec(shape=(None, 45, 26), dtype=tf.float64, name=None), TensorSpec(shape=(None, 45), dtype=tf.bool, name=None), TensorSpec(shape=(None, 45), dtype=tf.bool, name=None), TensorSpec(shape=(None, 45, 45, 4), dtype=tf.float64, name=None), TensorSpec(shape=(None,), dtype=tf.float64, name=None))>"
      ]
     },
     "execution_count": 21,
     "metadata": {},
     "output_type": "execute_result"
    }
   ],
   "source": [
    "a"
   ]
  },
  {
   "cell_type": "code",
   "execution_count": 23,
   "id": "90b09d0e-aea5-4bfd-99af-5b503a293773",
   "metadata": {},
   "outputs": [
    {
     "ename": "TypeError",
     "evalue": "'TakeDataset' object is not subscriptable",
     "output_type": "error",
     "traceback": [
      "\u001b[0;31m---------------------------------------------------------------------------\u001b[0m",
      "\u001b[0;31mTypeError\u001b[0m                                 Traceback (most recent call last)",
      "Input \u001b[0;32mIn [23]\u001b[0m, in \u001b[0;36m<cell line: 1>\u001b[0;34m()\u001b[0m\n\u001b[0;32m----> 1\u001b[0m \u001b[43ma\u001b[49m\u001b[43m[\u001b[49m\u001b[38;5;241;43m0\u001b[39;49m\u001b[43m]\u001b[49m\n",
      "\u001b[0;31mTypeError\u001b[0m: 'TakeDataset' object is not subscriptable"
     ]
    }
   ],
   "source": []
  },
  {
   "cell_type": "code",
   "execution_count": null,
   "id": "42e0690c-ee9c-4c8b-9812-bd156e900e19",
   "metadata": {},
   "outputs": [],
   "source": []
  }
 ],
 "metadata": {
  "kernelspec": {
   "display_name": "Python 3 (ipykernel)",
   "language": "python",
   "name": "python3"
  },
  "language_info": {
   "codemirror_mode": {
    "name": "ipython",
    "version": 3
   },
   "file_extension": ".py",
   "mimetype": "text/x-python",
   "name": "python",
   "nbconvert_exporter": "python",
   "pygments_lexer": "ipython3",
   "version": "3.10.5"
  },
  "toc": {
   "base_numbering": 1,
   "nav_menu": {},
   "number_sections": true,
   "sideBar": true,
   "skip_h1_title": false,
   "title_cell": "Table of Contents",
   "title_sidebar": "Contents",
   "toc_cell": false,
   "toc_position": {},
   "toc_section_display": true,
   "toc_window_display": false
  },
  "varInspector": {
   "cols": {
    "lenName": 16,
    "lenType": 16,
    "lenVar": 40
   },
   "kernels_config": {
    "python": {
     "delete_cmd_postfix": "",
     "delete_cmd_prefix": "del ",
     "library": "var_list.py",
     "varRefreshCmd": "print(var_dic_list())"
    },
    "r": {
     "delete_cmd_postfix": ") ",
     "delete_cmd_prefix": "rm(",
     "library": "var_list.r",
     "varRefreshCmd": "cat(var_dic_list()) "
    }
   },
   "types_to_exclude": [
    "module",
    "function",
    "builtin_function_or_method",
    "instance",
    "_Feature"
   ],
   "window_display": false
  }
 },
 "nbformat": 4,
 "nbformat_minor": 5
}
