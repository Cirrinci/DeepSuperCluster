{
 "cells": [
  {
   "cell_type": "code",
   "execution_count": 2,
   "id": "electrical-aircraft",
   "metadata": {
    "ExecuteTime": {
     "end_time": "2021-04-27T09:15:59.007678Z",
     "start_time": "2021-04-27T09:15:52.227205Z"
    }
   },
   "outputs": [
    {
     "ename": "ImportError",
     "evalue": "attempted relative import with no known parent package",
     "output_type": "error",
     "traceback": [
      "\u001b[0;31m---------------------------------------------------------------------------\u001b[0m",
      "\u001b[0;31mImportError\u001b[0m                               Traceback (most recent call last)",
      "\u001b[0;32m<ipython-input-2-4e28ffb47924>\u001b[0m in \u001b[0;36m<module>\u001b[0;34m\u001b[0m\n\u001b[1;32m      8\u001b[0m \u001b[0;34m\u001b[0m\u001b[0m\n\u001b[1;32m      9\u001b[0m \u001b[0;32mimport\u001b[0m \u001b[0mtensorflow\u001b[0m \u001b[0;32mas\u001b[0m \u001b[0mtf\u001b[0m\u001b[0;34m\u001b[0m\u001b[0;34m\u001b[0m\u001b[0m\n\u001b[0;32m---> 10\u001b[0;31m \u001b[0;32mfrom\u001b[0m \u001b[0;34m.\u001b[0m\u001b[0;34m.\u001b[0m \u001b[0;32mimport\u001b[0m \u001b[0mtf_data\u001b[0m\u001b[0;34m\u001b[0m\u001b[0;34m\u001b[0m\u001b[0m\n\u001b[0m",
      "\u001b[0;31mImportError\u001b[0m: attempted relative import with no known parent package"
     ]
    }
   ],
   "source": [
    "import os\n",
    "import sys\n",
    "import matplotlib.pyplot as plt\n",
    "import numpy as np\n",
    "from sklearn.metrics import confusion_matrix, accuracy_score\n",
    "import pandas\n",
    "\n",
    "\n",
    "import tensorflow as tf\n",
    "from .. import tf_data"
   ]
  },
  {
   "cell_type": "code",
   "execution_count": null,
   "id": "electronic-rainbow",
   "metadata": {},
   "outputs": [],
   "source": [
    "data_path_train = {\"ele_match\": \"/eos/user/r/rdfexp/ecal/cluster/output_deepcluster_dumper/windows_data/electrons/recordio_allinfo_v6/training/calo_matched/*.proto\",\n",
    "                  \"gamma_match\": \"/eos/user/r/rdfexp/ecal/cluster/output_deepcluster_dumper/windows_data/gammas/recordio_allinfo_v6/training/calo_matched/*.proto\",\n",
    "                 \"nomatch\": \"/eos/user/r/rdfexp/ecal/cluster/output_deepcluster_dumper/windows_data/electrons/recordio_allinfo_v6/training/no_calo_matched/*.proto\",\n",
    "                  #\"gamma_nomatch\": \"/eos/user/r/rdfexp/ecal/cluster/output_deepcluster_dumper/windows_data/gammas/recordio_allinfo_v2/training/no_calo_matched/*.proto\"\n",
    "                  }\n",
    "data_path_test = {\"ele_match\": \"/eos/user/r/rdfexp/ecal/cluster/output_deepcluster_dumper/windows_data/electrons/recordio_allinfo_v6/testing/calo_matched/*.proto\",\n",
    "                  \"gamma_match\": \"/eos/user/r/rdfexp/ecal/cluster/output_deepcluster_dumper/windows_data/gammas/recordio_allinfo_v6/testing/calo_matched/*.proto\",\n",
    "                  \"nomatch\": \"/eos/user/r/rdfexp/ecal/cluster/output_deepcluster_dumper/windows_data/electrons/recordio_allinfo_v6/testing/no_calo_matched/*.proto\",\n",
    "                  #\"gamma_nomatch\": \"/eos/user/r/rdfexp/ecal/cluster/output_deepcluster_dumper/windows_data/gammas/recordio_allinfo_v2/testing/no_calo_matched/*.proto\"\n",
    "                  }"
   ]
  },
  {
   "cell_type": "code",
   "execution_count": null,
   "id": "cardiovascular-rebecca",
   "metadata": {},
   "outputs": [],
   "source": [
    "features = [ \"en_cluster\",\"et_cluster\", \n",
    "            \"cluster_ieta\",\"cluster_iphi\",\"cluster_iz\",\n",
    "            \"cluster_deta\", \"cluster_dphi\",\n",
    "            \"cl_r9\", \"cl_sigmaIetaIeta\", \"cl_sigmaIetaIphi\",\n",
    "            \"cl_sigmaIphiIphi\",\"cl_swissCross\",\n",
    "            \"cl_nxtals\", \"cl_etaWidth\",\"cl_phiWidth\"]\n",
    "\n",
    "\n",
    "metadata =  [  \"en_true_sim\",\"et_true_sim\", \"en_true_gen\", \"et_true_gen\",\n",
    "            \"nclusters_insc\",\"max_en_cluster_insc\",\"max_deta_cluster_insc\",\n",
    "            \"max_dphi_cluster_insc\",\n",
    "             \"max_en_cluster\",\"max_deta_cluster\",\"max_dphi_cluster\",\n",
    "            \"event_tot_simen_PU\",\"wtot_simen_PU\",\"wtot_simen_sig\" ]"
   ]
  },
  {
   "cell_type": "code",
   "execution_count": null,
   "id": "severe-orlando",
   "metadata": {},
   "outputs": [],
   "source": [
    "# Load a balanced dataset from the list of paths given to the function. Selected only the requestes features from clusters and prepare batches\n",
    "train_ds = tf_data.load_balanced_dataset_batch(data_path_train, features, metadata,  args.batch_size, weights={\"ele_match\":0.4,\"gamma_match\":0.4, \"nomatch\":0.2})\n",
    "# the indexes for energy and et are from the features list we requestes\n",
    "train_ds = tf_data.delta_energy_seed(train_ds, en_index=0, et_index=1)\n",
    "train_ds = tf_data.training_format(train_ds)\n",
    "\n",
    "\n",
    "test_ds = tf_data.load_balanced_dataset_batch(data_path_test, features, metadata, args.batch_size,weights={\"ele_match\":0.4,\"gamma_match\":0.4,\"nomatch\":0.2})\n",
    "# the indexes for energy and et are from the features list we requestes\n",
    "test_ds = tf_data.delta_energy_seed(test_ds, en_index=0, et_index=1)\n",
    "test_ds = tf_data.training_format(test_ds)\n",
    "\n",
    "\n",
    "# Create training and validation\n",
    "ds_train = train_ds.prefetch(100).take(args.ntrain).repeat(args.nepochs)\n",
    "ds_test  = test_ds.prefetch(100).take(args.nval).repeat(args.nepochs)"
   ]
  }
 ],
 "metadata": {
  "kernelspec": {
   "display_name": "Python 3",
   "language": "python",
   "name": "python3"
  },
  "language_info": {
   "codemirror_mode": {
    "name": "ipython",
    "version": 3
   },
   "file_extension": ".py",
   "mimetype": "text/x-python",
   "name": "python",
   "nbconvert_exporter": "python",
   "pygments_lexer": "ipython3",
   "version": "3.7.6"
  },
  "toc": {
   "base_numbering": 1,
   "nav_menu": {},
   "number_sections": true,
   "sideBar": true,
   "skip_h1_title": false,
   "title_cell": "Table of Contents",
   "title_sidebar": "Contents",
   "toc_cell": false,
   "toc_position": {},
   "toc_section_display": true,
   "toc_window_display": false
  },
  "varInspector": {
   "cols": {
    "lenName": 16,
    "lenType": 16,
    "lenVar": 40
   },
   "kernels_config": {
    "python": {
     "delete_cmd_postfix": "",
     "delete_cmd_prefix": "del ",
     "library": "var_list.py",
     "varRefreshCmd": "print(var_dic_list())"
    },
    "r": {
     "delete_cmd_postfix": ") ",
     "delete_cmd_prefix": "rm(",
     "library": "var_list.r",
     "varRefreshCmd": "cat(var_dic_list()) "
    }
   },
   "types_to_exclude": [
    "module",
    "function",
    "builtin_function_or_method",
    "instance",
    "_Feature"
   ],
   "window_display": false
  }
 },
 "nbformat": 4,
 "nbformat_minor": 5
}
