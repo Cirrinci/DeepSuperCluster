{
 "cells": [
  {
   "cell_type": "code",
   "execution_count": 1,
   "id": "hispanic-november",
   "metadata": {
    "ExecuteTime": {
     "end_time": "2021-04-07T14:06:19.669808Z",
     "start_time": "2021-04-07T14:06:19.623479Z"
    }
   },
   "outputs": [],
   "source": [
    "%load_ext autoreload"
   ]
  },
  {
   "cell_type": "code",
   "execution_count": 2,
   "id": "atomic-number",
   "metadata": {
    "ExecuteTime": {
     "end_time": "2021-04-07T14:06:20.494532Z",
     "start_time": "2021-04-07T14:06:20.490926Z"
    }
   },
   "outputs": [],
   "source": [
    "%autoreload 2"
   ]
  },
  {
   "cell_type": "code",
   "execution_count": 3,
   "id": "original-uniform",
   "metadata": {
    "ExecuteTime": {
     "end_time": "2021-04-07T14:06:26.659846Z",
     "start_time": "2021-04-07T14:06:20.875423Z"
    }
   },
   "outputs": [],
   "source": [
    "import os\n",
    "import sys\n",
    "import random\n",
    "import glob\n",
    "import pickle\n",
    "import itertools\n",
    "import io\n",
    "import matplotlib.pyplot as plt\n",
    "import numpy as np\n",
    "from sklearn.metrics import confusion_matrix, accuracy_score\n",
    "import pandas\n",
    "import time\n",
    "from tqdm import tqdm\n",
    "\n",
    "import sklearn\n",
    "\n",
    "import tensorflow as tf\n",
    "\n",
    "# utils lib for the tf dataset\n",
    "import tf_data"
   ]
  },
  {
   "cell_type": "code",
   "execution_count": 4,
   "id": "successful-workstation",
   "metadata": {
    "ExecuteTime": {
     "end_time": "2021-04-07T14:06:27.578395Z",
     "start_time": "2021-04-07T14:06:27.402210Z"
    }
   },
   "outputs": [],
   "source": [
    "data_path = {\"ele_match\": \"/eos/user/r/rdfexp/ecal/cluster/output_deepcluster_dumper/windows_data/electrons/recordio_allinfo_v2/training/calo_matched/*.proto\",\n",
    "             \"gamma_match\": \"/eos/user/r/rdfexp/ecal/cluster/output_deepcluster_dumper/windows_data/gammas/recordio_allinfo_v2/training/calo_matched/*.proto\",\n",
    "             \"ele_nomatch\": \"/eos/user/r/rdfexp/ecal/cluster/output_deepcluster_dumper/windows_data/electrons/recordio_allinfo_v2/training/no_calo_matched/*.proto\",\n",
    "             \"gamma_nomatch\": \"/eos/user/r/rdfexp/ecal/cluster/output_deepcluster_dumper/windows_data/gammas/recordio_allinfo_v2/training/no_calo_matched/*.proto\"\n",
    "            }"
   ]
  },
  {
   "cell_type": "code",
   "execution_count": 14,
   "id": "refined-drain",
   "metadata": {
    "ExecuteTime": {
     "end_time": "2021-04-07T14:09:56.494242Z",
     "start_time": "2021-04-07T14:09:55.981381Z"
    }
   },
   "outputs": [],
   "source": [
    "features = [\"cluster_ieta\",\"cluster_iphi\",\"cluster_iz\",\n",
    "            \"cluster_deta\", \"cluster_dphi\",\n",
    "            \"en_cluster\",\"et_cluster\", \n",
    "            \"cl_swissCross\", \"cl_nxtals\", \"cl_etaWidth\",\"cl_phiWidth\"]\n",
    "features = [\"et_cluster\"]"
   ]
  },
  {
   "cell_type": "code",
   "execution_count": 6,
   "id": "specialized-brunswick",
   "metadata": {
    "ExecuteTime": {
     "end_time": "2021-04-07T14:06:29.409464Z",
     "start_time": "2021-04-07T14:06:29.231035Z"
    }
   },
   "outputs": [],
   "source": [
    "_load_n_items = 10\n",
    "_batch_size = 5\n",
    "_nepochs = 100\n",
    "_ntrain = 10000\n",
    "_nval = 1000"
   ]
  },
  {
   "cell_type": "code",
   "execution_count": 15,
   "id": "complex-devil",
   "metadata": {
    "ExecuteTime": {
     "end_time": "2021-04-07T14:09:58.521354Z",
     "start_time": "2021-04-07T14:09:58.102152Z"
    }
   },
   "outputs": [],
   "source": [
    "dataset = tf.data.TFRecordDataset(tf.io.gfile.glob(data_path[\"ele_match\"]))\n",
    "\n",
    "dataset =  dataset.batch(_batch_size).map(\n",
    "                lambda el: tf_data.parse_windows_batch(el, True),\n",
    "                num_parallel_calls=tf.data.experimental.AUTOTUNE, deterministic=False)\n",
    "\n",
    "dataset = tf_data.cluster_features_and_hits(dataset,features)"
   ]
  },
  {
   "cell_type": "code",
   "execution_count": 16,
   "id": "offshore-kentucky",
   "metadata": {
    "ExecuteTime": {
     "end_time": "2021-04-07T14:09:59.537282Z",
     "start_time": "2021-04-07T14:09:59.306910Z"
    }
   },
   "outputs": [],
   "source": [
    "a = next(iter(dataset.take(1)))"
   ]
  },
  {
   "cell_type": "code",
   "execution_count": 17,
   "id": "improved-ceiling",
   "metadata": {
    "ExecuteTime": {
     "end_time": "2021-04-07T14:10:00.455323Z",
     "start_time": "2021-04-07T14:10:00.277321Z"
    },
    "scrolled": false
   },
   "outputs": [],
   "source": [
    "cl_X, cl_hits, is_seed, in_sc,  cl_features = a"
   ]
  },
  {
   "cell_type": "code",
   "execution_count": 20,
   "id": "threatened-pressure",
   "metadata": {
    "ExecuteTime": {
     "end_time": "2021-04-07T14:11:57.641560Z",
     "start_time": "2021-04-07T14:11:57.389280Z"
    }
   },
   "outputs": [
    {
     "name": "stdout",
     "output_type": "stream",
     "text": [
      "tf.Tensor(683.0, shape=(), dtype=float32)\n"
     ]
    }
   ],
   "source": [
    "sum = 0.\n",
    "N = 0. \n",
    "for ev in dataset:\n",
    "    cl_X, cl_hits, is_seed, in_sc,  cl_features = ev\n",
    "    tot_en = tf.reduce_sum(cl_X[:,:,0])\n",
    "    print(tot_en)\n",
    "    N = cl_X.shape[0] * cl_X.shape[1] \n",
    "    break\n",
    "    "
   ]
  },
  {
   "cell_type": "code",
   "execution_count": null,
   "id": "cosmetic-parking",
   "metadata": {},
   "outputs": [],
   "source": [
    " for ev in dataset:\n",
    "    #do your think\n",
    "    break"
   ]
  },
  {
   "cell_type": "code",
   "execution_count": 24,
   "id": "smoking-pencil",
   "metadata": {
    "ExecuteTime": {
     "end_time": "2021-04-07T13:49:15.869521Z",
     "start_time": "2021-04-07T13:49:15.362986Z"
    }
   },
   "outputs": [
    {
     "data": {
      "text/plain": [
       "<tf.Tensor: shape=(9, 4), dtype=float32, numpy=\n",
       "array([[-41.        , 182.        ,   0.        ,  21.892532  ],\n",
       "       [-41.        , 183.        ,   0.        ,   0.46643642],\n",
       "       [-42.        , 183.        ,   0.        ,   0.2937847 ],\n",
       "       [-42.        , 182.        ,   0.        ,   0.8742974 ],\n",
       "       [-42.        , 181.        ,   0.        ,   0.56234646],\n",
       "       [-41.        , 181.        ,   0.        ,   4.902018  ],\n",
       "       [-40.        , 181.        ,   0.        ,   0.54801035],\n",
       "       [-40.        , 182.        ,   0.        ,   0.7728225 ],\n",
       "       [-39.        , 182.        ,   0.        ,   0.25400263]],\n",
       "      dtype=float32)>"
      ]
     },
     "execution_count": 24,
     "metadata": {},
     "output_type": "execute_result"
    }
   ],
   "source": [
    "a[1]['cl_h'][0]"
   ]
  },
  {
   "cell_type": "code",
   "execution_count": 27,
   "id": "bigger-leisure",
   "metadata": {
    "ExecuteTime": {
     "end_time": "2021-04-07T13:49:35.054044Z",
     "start_time": "2021-04-07T13:49:34.871252Z"
    }
   },
   "outputs": [
    {
     "data": {
      "text/plain": [
       "<tf.Tensor: shape=(1, 4), dtype=float32, numpy=\n",
       "array([[-37.        , 152.        ,   0.        ,   0.42435348]],\n",
       "      dtype=float32)>"
      ]
     },
     "execution_count": 27,
     "metadata": {},
     "output_type": "execute_result"
    }
   ],
   "source": [
    "a[1]['cl_h'][3]"
   ]
  },
  {
   "cell_type": "code",
   "execution_count": null,
   "id": "cosmetic-virginia",
   "metadata": {},
   "outputs": [],
   "source": []
  }
 ],
 "metadata": {
  "kernelspec": {
   "display_name": "Python 3",
   "language": "python",
   "name": "python3"
  },
  "language_info": {
   "codemirror_mode": {
    "name": "ipython",
    "version": 3
   },
   "file_extension": ".py",
   "mimetype": "text/x-python",
   "name": "python",
   "nbconvert_exporter": "python",
   "pygments_lexer": "ipython3",
   "version": "3.7.6"
  },
  "toc": {
   "base_numbering": 1,
   "nav_menu": {},
   "number_sections": true,
   "sideBar": true,
   "skip_h1_title": false,
   "title_cell": "Table of Contents",
   "title_sidebar": "Contents",
   "toc_cell": false,
   "toc_position": {},
   "toc_section_display": true,
   "toc_window_display": false
  },
  "varInspector": {
   "cols": {
    "lenName": 16,
    "lenType": 16,
    "lenVar": 40
   },
   "kernels_config": {
    "python": {
     "delete_cmd_postfix": "",
     "delete_cmd_prefix": "del ",
     "library": "var_list.py",
     "varRefreshCmd": "print(var_dic_list())"
    },
    "r": {
     "delete_cmd_postfix": ") ",
     "delete_cmd_prefix": "rm(",
     "library": "var_list.r",
     "varRefreshCmd": "cat(var_dic_list()) "
    }
   },
   "types_to_exclude": [
    "module",
    "function",
    "builtin_function_or_method",
    "instance",
    "_Feature"
   ],
   "window_display": false
  }
 },
 "nbformat": 4,
 "nbformat_minor": 5
}
