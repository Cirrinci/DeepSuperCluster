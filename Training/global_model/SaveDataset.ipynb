{
 "cells": [
  {
   "cell_type": "code",
   "execution_count": 1,
   "id": "transsexual-hygiene",
   "metadata": {
    "ExecuteTime": {
     "end_time": "2021-07-29T13:41:53.060249Z",
     "start_time": "2021-07-29T13:41:46.080264Z"
    }
   },
   "outputs": [],
   "source": [
    "import os\n",
    "import sys\n",
    "import matplotlib.pyplot as plt\n",
    "import numpy as np\n",
    "from sklearn.metrics import confusion_matrix, accuracy_score\n",
    "import pandas\n",
    "import pandas as pd\n",
    "\n",
    "\n",
    "import tensorflow as tf\n",
    "import tf_data"
   ]
  },
  {
   "cell_type": "code",
   "execution_count": 2,
   "id": "pretty-correlation",
   "metadata": {
    "ExecuteTime": {
     "end_time": "2021-07-29T13:41:53.109767Z",
     "start_time": "2021-07-29T13:41:53.073414Z"
    }
   },
   "outputs": [],
   "source": [
    "output_path = \"/eos/user/r/rdfexp/ecal/cluster/output_deepcluster_dumper/windows_data/electrons/recordio_allinfo_v11/testing_saved/calo_matched/\"\n",
    "os.makedirs(output_path,exist_ok=True)"
   ]
  },
  {
   "cell_type": "code",
   "execution_count": 3,
   "id": "pacific-necessity",
   "metadata": {
    "ExecuteTime": {
     "end_time": "2021-07-29T13:41:53.127863Z",
     "start_time": "2021-07-29T13:41:53.124385Z"
    }
   },
   "outputs": [],
   "source": [
    "data_path_train = {\"ele_match\": \"/eos/user/r/rdfexp/ecal/cluster/output_deepcluster_dumper/windows_data/electrons/recordio_allinfo_v11/training/calo_matched/*.proto\",\n",
    "                   \"gamma_match\": \"/eos/user/r/rdfexp/ecal/cluster/output_deepcluster_dumper/windows_data/gammas/recordio_allinfo_v11/training/calo_matched/*.proto\",\n",
    "                 # \"nomatch\": \"/eos/user/r/rdfexp/ecal/cluster/output_deepcluster_dumper/windows_data/electrons/recordio_allinfo_v10/training/no_calo_matched/*.proto\",\n",
    "                  #\"gamma_nomatch\": \"/eos/user/r/rdfexp/ecal/cluster/output_deepcluster_dumper/windows_data/gammas/recordio_allinfo_v2/training/no_calo_matched/*.proto\"\n",
    "                  }\n",
    "data_path_test = {\"ele_match\": \"/eos/user/r/rdfexp/ecal/cluster/output_deepcluster_dumper/windows_data/electrons/recordio_allinfo_v11/testing/calo_matched/*.proto\",\n",
    "                   \"gamma_match\": \"/eos/user/r/rdfexp/ecal/cluster/output_deepcluster_dumper/windows_data/gammas/recordio_allinfo_v11/testing/calo_matched/*.proto\",\n",
    "#                   \"nomatch\": \"/eos/user/r/rdfexp/ecal/cluster/output_deepcluster_dumper/windows_data/electrons/recordio_allinfo_v10/testing/no_calo_matched/*.proto\",\n",
    "                  #\"gamma_nomatch\": \"/eos/user/r/rdfexp/ecal/cluster/output_deepcluster_dumper/windows_data/gammas/recordio_allinfo_v2/testing/no_calo_matched/*.proto\"\n",
    "                  }"
   ]
  },
  {
   "cell_type": "code",
   "execution_count": 4,
   "id": "juvenile-courage",
   "metadata": {
    "ExecuteTime": {
     "end_time": "2021-07-29T13:41:54.334275Z",
     "start_time": "2021-07-29T13:41:54.325568Z"
    }
   },
   "outputs": [],
   "source": [
    "features_dict = {\n",
    "\n",
    "\"cl_features\" : [ \"en_cluster\",\"et_cluster\",\n",
    "            \"cluster_eta\", \"cluster_phi\", \n",
    "            \"cluster_ieta\",\"cluster_iphi\",\"cluster_iz\",\n",
    "            \"cluster_deta\", \"cluster_dphi\",\n",
    "             \"cluster_den_seed\",\"cluster_det_seed\",\n",
    "            \n",
    "#             \"cl_r9\", \"cl_sigmaIetaIeta\", \"cl_sigmaIetaIphi\",\n",
    "#             \"cl_sigmaIphiIphi\",\"cl_swissCross\",\"cl_etaWidth\",\"cl_phiWidth\"\n",
    "                 \n",
    "            \"cl_nxtals\" ],\n",
    "    \n",
    "\n",
    " \"window_features\" : [ \"max_en_cluster\",\"max_et_cluster\",\"max_deta_cluster\",\"max_dphi_cluster\",\"max_den_cluster\",\"max_det_cluster\",\n",
    "                    \"min_en_cluster\",\"min_et_cluster\",\"min_deta_cluster\",\"min_dphi_cluster\",\"min_den_cluster\",\"min_det_cluster\",\n",
    "                    \"mean_en_cluster\",\"mean_et_cluster\",\"mean_deta_cluster\",\"mean_dphi_cluster\",\"mean_den_cluster\",\"mean_det_cluster\" ],\n",
    "\n",
    "# Metadata about the window like true energy, true calo position, useful info\n",
    " \"window_metadata\" :  [\"en_true_sim\",\"et_true_sim\", \"en_true_gen\", \"et_true_gen\",\n",
    "                    \"en_true_sim_good\", \"et_true_sim_good\",\n",
    "                    \"nclusters_insc\",\n",
    "                    \"nVtx\", \"rho\", \"obsPU\", \"truePU\",\n",
    "                    \"sim_true_eta\", \"sim_true_phi\",  \n",
    "                    \"en_mustache_raw\", \"et_mustache_raw\",\"en_mustache_calib\", \"et_mustache_calib\",\n",
    "                    \"event_tot_simen_PU\",\"wtot_simen_PU\", \"wtot_simen_sig\" ]    \n",
    "}\n",
    "    \n",
    "    "
   ]
  },
  {
   "cell_type": "code",
   "execution_count": 5,
   "id": "featured-creativity",
   "metadata": {
    "ExecuteTime": {
     "end_time": "2021-07-29T13:42:26.706658Z",
     "start_time": "2021-07-29T13:42:26.703401Z"
    }
   },
   "outputs": [],
   "source": [
    "bs = 128"
   ]
  },
  {
   "cell_type": "code",
   "execution_count": 6,
   "id": "binary-sandwich",
   "metadata": {
    "ExecuteTime": {
     "end_time": "2021-07-29T13:42:34.792013Z",
     "start_time": "2021-07-29T13:42:30.534262Z"
    }
   },
   "outputs": [],
   "source": [
    "# Load a balanced dataset from the list of paths given to the function. Selected only the requestes features from clusters and prepare batches\n",
    "train_ds = tf_data.load_balanced_dataset_batch(data_path_train, features_dict, bs,weights={\"ele_match\":0.5,\"gamma_match\":0.5} )#weights={\"ele_match\":0.4,\"gamma_match\":0.4}\n",
    "# the indexes for energy and et are from the features list we requestes\n",
    "# train_ds = tf_data.delta_energy_seed(train_ds, en_index=0, et_index=1)\n",
    "train_ds = tf_data.normalize_features(train_ds, \"normalization_v11_all.npz\", \"normalization_wind_features_v11_all.npz\",features_dict['cl_features'], features_dict['window_features'] )\n",
    "train_ds = tf_data.training_format(train_ds)\n",
    "\n",
    "\n",
    "test_ds = tf_data.load_balanced_dataset_batch(data_path_test,features_dict, bs ,weights={\"ele_match\":0.5,\"gamma_match\":0.5})\n",
    "# the indexes for energy and et are from the features list we requestes\n",
    "# test_ds = tf_data.delta_energy_seed(test_ds, en_index=0, et_index=1)\n",
    "test_ds = tf_data.normalize_features(test_ds, \"normalization_v11_all.npz\", \"normalization_wind_features_v11_all.npz\",features_dict['cl_features'], features_dict['window_features'])\n",
    "test_ds = tf_data.training_format(test_ds)\n",
    "\n",
    "# Create training and validation\n",
    "ds_train = train_ds.prefetch(300)\n",
    "ds_test  = test_ds.prefetch(300)"
   ]
  },
  {
   "cell_type": "code",
   "execution_count": null,
   "id": "lined-prime",
   "metadata": {
    "ExecuteTime": {
     "start_time": "2021-07-29T13:42:09.151Z"
    }
   },
   "outputs": [],
   "source": [
    "tf.data.experimental.save(\n",
    "    ds_train, output_path, compression='GZIP'\n",
    ")\n",
    "with open(output_path + '/element_spec', 'wb') as out_:  # also save the element_spec to disk for future loading\n",
    "    pickle.dump(ds_train.element_spec, out_)"
   ]
  },
  {
   "cell_type": "code",
   "execution_count": null,
   "id": "phantom-application",
   "metadata": {},
   "outputs": [],
   "source": []
  }
 ],
 "metadata": {
  "kernelspec": {
   "display_name": "Python 3",
   "language": "python",
   "name": "python3"
  },
  "language_info": {
   "codemirror_mode": {
    "name": "ipython",
    "version": 3
   },
   "file_extension": ".py",
   "mimetype": "text/x-python",
   "name": "python",
   "nbconvert_exporter": "python",
   "pygments_lexer": "ipython3",
   "version": "3.7.6"
  },
  "toc": {
   "base_numbering": 1,
   "nav_menu": {},
   "number_sections": true,
   "sideBar": true,
   "skip_h1_title": false,
   "title_cell": "Table of Contents",
   "title_sidebar": "Contents",
   "toc_cell": false,
   "toc_position": {},
   "toc_section_display": true,
   "toc_window_display": false
  },
  "varInspector": {
   "cols": {
    "lenName": 16,
    "lenType": 16,
    "lenVar": 40
   },
   "kernels_config": {
    "python": {
     "delete_cmd_postfix": "",
     "delete_cmd_prefix": "del ",
     "library": "var_list.py",
     "varRefreshCmd": "print(var_dic_list())"
    },
    "r": {
     "delete_cmd_postfix": ") ",
     "delete_cmd_prefix": "rm(",
     "library": "var_list.r",
     "varRefreshCmd": "cat(var_dic_list()) "
    }
   },
   "types_to_exclude": [
    "module",
    "function",
    "builtin_function_or_method",
    "instance",
    "_Feature"
   ],
   "window_display": false
  }
 },
 "nbformat": 4,
 "nbformat_minor": 5
}
