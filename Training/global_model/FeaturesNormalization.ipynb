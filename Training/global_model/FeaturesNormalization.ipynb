{
 "cells": [
  {
   "cell_type": "code",
   "execution_count": 1,
   "id": "democratic-kernel",
   "metadata": {
    "ExecuteTime": {
     "end_time": "2021-04-27T11:28:31.103164Z",
     "start_time": "2021-04-27T11:28:25.374205Z"
    }
   },
   "outputs": [],
   "source": [
    "import os\n",
    "import sys\n",
    "import matplotlib.pyplot as plt\n",
    "import numpy as np\n",
    "from sklearn.metrics import confusion_matrix, accuracy_score\n",
    "import pandas\n",
    "\n",
    "\n",
    "import tensorflow as tf\n",
    "import tf_data"
   ]
  },
  {
   "cell_type": "code",
   "execution_count": 2,
   "id": "voluntary-russell",
   "metadata": {
    "ExecuteTime": {
     "end_time": "2021-04-27T11:28:34.536246Z",
     "start_time": "2021-04-27T11:28:34.533128Z"
    }
   },
   "outputs": [],
   "source": [
    "data_path_train = {\"ele_match\": \"/eos/user/r/rdfexp/ecal/cluster/output_deepcluster_dumper/windows_data/electrons/recordio_allinfo_v6/training/calo_matched/*.proto\",\n",
    "                  \"gamma_match\": \"/eos/user/r/rdfexp/ecal/cluster/output_deepcluster_dumper/windows_data/gammas/recordio_allinfo_v6/training/calo_matched/*.proto\",\n",
    "                 \"nomatch\": \"/eos/user/r/rdfexp/ecal/cluster/output_deepcluster_dumper/windows_data/electrons/recordio_allinfo_v6/training/no_calo_matched/*.proto\",\n",
    "                  #\"gamma_nomatch\": \"/eos/user/r/rdfexp/ecal/cluster/output_deepcluster_dumper/windows_data/gammas/recordio_allinfo_v2/training/no_calo_matched/*.proto\"\n",
    "                  }"
   ]
  },
  {
   "cell_type": "code",
   "execution_count": 3,
   "id": "random-burlington",
   "metadata": {
    "ExecuteTime": {
     "end_time": "2021-04-27T11:28:34.754432Z",
     "start_time": "2021-04-27T11:28:34.750370Z"
    }
   },
   "outputs": [],
   "source": [
    "features = [ \"en_cluster\",\"et_cluster\", \n",
    "            \"cluster_ieta\",\"cluster_iphi\",\"cluster_iz\",\n",
    "            \"cluster_deta\", \"cluster_dphi\",\n",
    "            \"cl_r9\", \"cl_sigmaIetaIeta\", \"cl_sigmaIetaIphi\",\n",
    "            \"cl_sigmaIphiIphi\",\"cl_swissCross\",\n",
    "            \"cl_nxtals\", \"cl_etaWidth\",\"cl_phiWidth\"]\n",
    "                \n",
    "\n",
    "metadata =  [  \"en_true_sim\",\"et_true_sim\", \"en_true_gen\", \"et_true_gen\",\n",
    "            \"nclusters_insc\",\"max_en_cluster_insc\",\"max_deta_cluster_insc\",\n",
    "            \"max_dphi_cluster_insc\",\n",
    "             \"max_en_cluster\",\"max_deta_cluster\",\"max_dphi_cluster\",\n",
    "            \"event_tot_simen_PU\",\"wtot_simen_PU\",\"wtot_simen_sig\" ]"
   ]
  },
  {
   "cell_type": "code",
   "execution_count": 4,
   "id": "creative-pattern",
   "metadata": {
    "ExecuteTime": {
     "end_time": "2021-04-27T11:28:34.979262Z",
     "start_time": "2021-04-27T11:28:34.973982Z"
    }
   },
   "outputs": [
    {
     "data": {
      "text/plain": [
       "15"
      ]
     },
     "execution_count": 4,
     "metadata": {},
     "output_type": "execute_result"
    }
   ],
   "source": [
    "len(features)"
   ]
  },
  {
   "cell_type": "code",
   "execution_count": 5,
   "id": "thermal-grocery",
   "metadata": {
    "ExecuteTime": {
     "end_time": "2021-04-27T11:28:38.692026Z",
     "start_time": "2021-04-27T11:28:35.425050Z"
    },
    "scrolled": false
   },
   "outputs": [],
   "source": [
    "# Load a balanced dataset from the list of paths given to the function. Selected only the requestes features from clusters and prepare batches\n",
    "train_ds = tf_data.load_balanced_dataset_batch(data_path_train, features, metadata, batch_size= 100, weights={\"ele_match\":0.33,\"gamma_match\":0.33, \"nomatch\":0.33})\n",
    "# the indexes for energy and et are from the features list we requestes\n",
    "train_ds = tf_data.delta_energy_seed(train_ds, en_index=0, et_index=1)\n",
    "train_ds = tf_data.training_format(train_ds)\n",
    "\n",
    "# Create training and validation\n",
    "ds_train = train_ds.take(10000)"
   ]
  },
  {
   "cell_type": "code",
   "execution_count": 6,
   "id": "registered-swedish",
   "metadata": {
    "ExecuteTime": {
     "end_time": "2021-04-27T11:28:38.844680Z",
     "start_time": "2021-04-27T11:28:38.821568Z"
    }
   },
   "outputs": [],
   "source": [
    "from training_data import data_tools"
   ]
  },
  {
   "cell_type": "code",
   "execution_count": 7,
   "id": "ethical-aside",
   "metadata": {
    "ExecuteTime": {
     "end_time": "2021-04-27T11:28:38.999166Z",
     "start_time": "2021-04-27T11:28:38.988625Z"
    }
   },
   "outputs": [],
   "source": [
    "def parameters(ds, features):\n",
    "    '''\n",
    "    Function to calculate the parameters (mean, sigma) for features' distributions.\n",
    "    \n",
    "    Return: \n",
    "    - mean (dim: n_features): mean of the features' distributions.\n",
    "    - sigma (dim: n_features): sigma of the features' distributions. \n",
    "    \n",
    "    Args:\n",
    "    - ds: tensorflow dataset (in the format after tf_data.training_format)\n",
    "    - features: list of all the features recorded in the dataset. \n",
    "    '''\n",
    "    \n",
    "    # initialize counting variables\n",
    "    n_features = len(features)\n",
    "    \n",
    "    total_cl = 0.\n",
    "    m = tf.zeros(shape=n_features)\n",
    "    s = tf.zeros(shape=n_features)\n",
    "    \n",
    "    # iterate through dataset to calculate mean \n",
    "    for el in ds:\n",
    "        (cl_X, _, _, n_cl), (*_) = el\n",
    "        cl_X = cl_X[:,:,0:n_features]\n",
    "\n",
    "        m += tf.reduce_sum(cl_X, axis=(0,1)).numpy()\n",
    "        total_cl += tf.reduce_sum(n_cl).numpy()\n",
    "    \n",
    "    # calculate mean for each feature, create dictionary with feature labels\n",
    "    #ind = tf_data.get_cluster_features_indexes(features)\n",
    "    m = m/total_cl\n",
    "    mean = dict(zip(features, m))\n",
    "    m = tf.reshape(m, shape=[1,1,-1])\n",
    "    \n",
    "    # iterate through dataset to calculate sigma\n",
    "    for el in ds: \n",
    "        (cl_X, _, _, n_cl), (*_) = el\n",
    "        cl_X = cl_X[:,:,0:n_features]\n",
    "        # create mask to eliminate the padded values from calculation\n",
    "        mask = tf.expand_dims(tf.cast(tf.reduce_sum(cl_X, axis=-1) != 0., tf.float32), axis=-1)\n",
    "        \n",
    "        dif_masked = mask*(cl_X-m)\n",
    "        s +=tf.reduce_sum(tf.math.pow(dif_masked, 2), axis=(0,1)).numpy()\n",
    "    s = tf.math.sqrt(s/total_cl)\n",
    "    sigma = dict(zip(features, s))\n",
    "    return m,s , mean, sigma"
   ]
  },
  {
   "cell_type": "code",
   "execution_count": 8,
   "id": "stable-round",
   "metadata": {
    "ExecuteTime": {
     "end_time": "2021-04-27T11:32:05.925114Z",
     "start_time": "2021-04-27T11:28:44.558955Z"
    }
   },
   "outputs": [],
   "source": [
    "m ,s , mean, sigma = parameters(ds_train, features+[\"delta_seed_en\",\"delta_seed_et\"])"
   ]
  },
  {
   "cell_type": "code",
   "execution_count": 9,
   "id": "conventional-spray",
   "metadata": {
    "ExecuteTime": {
     "end_time": "2021-04-27T11:32:09.830619Z",
     "start_time": "2021-04-27T11:32:09.825320Z"
    }
   },
   "outputs": [
    {
     "data": {
      "text/plain": [
       "<tf.Tensor: shape=(1, 1, 17), dtype=float32, numpy=\n",
       "array([[[2.1569590e+01, 6.8596444e+00, 1.7554193e+01, 1.3628761e+02,\n",
       "         4.8938330e-04, 1.9939605e-02, 8.8600042e-05, 9.8884904e-01,\n",
       "         5.2043227e-03, 9.4845706e-07, 6.4802836e-03, 7.8155839e-01,\n",
       "         2.6977096e+00, 5.7275230e-03, 5.9658368e-03, 5.2845585e+01,\n",
       "         2.2607422e+01]]], dtype=float32)>"
      ]
     },
     "execution_count": 9,
     "metadata": {},
     "output_type": "execute_result"
    }
   ],
   "source": [
    "m"
   ]
  },
  {
   "cell_type": "code",
   "execution_count": 10,
   "id": "joined-summit",
   "metadata": {
    "ExecuteTime": {
     "end_time": "2021-04-27T11:32:11.719034Z",
     "start_time": "2021-04-27T11:32:11.713663Z"
    }
   },
   "outputs": [
    {
     "data": {
      "text/plain": [
       "{'en_cluster': <tf.Tensor: shape=(), dtype=float32, numpy=21.56959>,\n",
       " 'et_cluster': <tf.Tensor: shape=(), dtype=float32, numpy=6.8596444>,\n",
       " 'cluster_ieta': <tf.Tensor: shape=(), dtype=float32, numpy=17.554193>,\n",
       " 'cluster_iphi': <tf.Tensor: shape=(), dtype=float32, numpy=136.28761>,\n",
       " 'cluster_iz': <tf.Tensor: shape=(), dtype=float32, numpy=0.0004893833>,\n",
       " 'cluster_deta': <tf.Tensor: shape=(), dtype=float32, numpy=0.019939605>,\n",
       " 'cluster_dphi': <tf.Tensor: shape=(), dtype=float32, numpy=8.860004e-05>,\n",
       " 'cl_r9': <tf.Tensor: shape=(), dtype=float32, numpy=0.98884904>,\n",
       " 'cl_sigmaIetaIeta': <tf.Tensor: shape=(), dtype=float32, numpy=0.0052043227>,\n",
       " 'cl_sigmaIetaIphi': <tf.Tensor: shape=(), dtype=float32, numpy=9.4845706e-07>,\n",
       " 'cl_sigmaIphiIphi': <tf.Tensor: shape=(), dtype=float32, numpy=0.0064802836>,\n",
       " 'cl_swissCross': <tf.Tensor: shape=(), dtype=float32, numpy=0.7815584>,\n",
       " 'cl_nxtals': <tf.Tensor: shape=(), dtype=float32, numpy=2.6977096>,\n",
       " 'cl_etaWidth': <tf.Tensor: shape=(), dtype=float32, numpy=0.005727523>,\n",
       " 'cl_phiWidth': <tf.Tensor: shape=(), dtype=float32, numpy=0.005965837>,\n",
       " 'delta_seed_en': <tf.Tensor: shape=(), dtype=float32, numpy=52.845585>,\n",
       " 'delta_seed_et': <tf.Tensor: shape=(), dtype=float32, numpy=22.607422>}"
      ]
     },
     "execution_count": 10,
     "metadata": {},
     "output_type": "execute_result"
    }
   ],
   "source": [
    "mean"
   ]
  },
  {
   "cell_type": "code",
   "execution_count": 12,
   "id": "banned-longer",
   "metadata": {
    "ExecuteTime": {
     "end_time": "2021-04-27T11:32:17.412478Z",
     "start_time": "2021-04-27T11:32:17.407113Z"
    }
   },
   "outputs": [
    {
     "data": {
      "text/plain": [
       "{'en_cluster': <tf.Tensor: shape=(), dtype=float32, numpy=74.28398>,\n",
       " 'et_cluster': <tf.Tensor: shape=(), dtype=float32, numpy=18.324402>,\n",
       " 'cluster_ieta': <tf.Tensor: shape=(), dtype=float32, numpy=51.565166>,\n",
       " 'cluster_iphi': <tf.Tensor: shape=(), dtype=float32, numpy=105.40503>,\n",
       " 'cluster_iz': <tf.Tensor: shape=(), dtype=float32, numpy=0.5844528>,\n",
       " 'cluster_deta': <tf.Tensor: shape=(), dtype=float32, numpy=0.059056774>,\n",
       " 'cluster_dphi': <tf.Tensor: shape=(), dtype=float32, numpy=0.279133>,\n",
       " 'cl_r9': <tf.Tensor: shape=(), dtype=float32, numpy=0.042185422>,\n",
       " 'cl_sigmaIetaIeta': <tf.Tensor: shape=(), dtype=float32, numpy=0.008838983>,\n",
       " 'cl_sigmaIetaIphi': <tf.Tensor: shape=(), dtype=float32, numpy=8.4691026e-05>,\n",
       " 'cl_sigmaIphiIphi': <tf.Tensor: shape=(), dtype=float32, numpy=0.010501431>,\n",
       " 'cl_swissCross': <tf.Tensor: shape=(), dtype=float32, numpy=0.35644677>,\n",
       " 'cl_nxtals': <tf.Tensor: shape=(), dtype=float32, numpy=3.96378>,\n",
       " 'cl_etaWidth': <tf.Tensor: shape=(), dtype=float32, numpy=0.006982614>,\n",
       " 'cl_phiWidth': <tf.Tensor: shape=(), dtype=float32, numpy=0.008195227>,\n",
       " 'delta_seed_en': <tf.Tensor: shape=(), dtype=float32, numpy=87.74308>,\n",
       " 'delta_seed_et': <tf.Tensor: shape=(), dtype=float32, numpy=28.898613>}"
      ]
     },
     "execution_count": 12,
     "metadata": {},
     "output_type": "execute_result"
    }
   ],
   "source": [
    "sigma"
   ]
  },
  {
   "cell_type": "code",
   "execution_count": 13,
   "id": "personal-porcelain",
   "metadata": {
    "ExecuteTime": {
     "end_time": "2021-04-27T11:32:22.795004Z",
     "start_time": "2021-04-27T11:32:22.750422Z"
    }
   },
   "outputs": [],
   "source": [
    "np.savez(\"normalization.npz\", mean=m, sigma=s)"
   ]
  },
  {
   "cell_type": "code",
   "execution_count": null,
   "id": "incredible-cambodia",
   "metadata": {},
   "outputs": [],
   "source": []
  }
 ],
 "metadata": {
  "kernelspec": {
   "display_name": "Python 3",
   "language": "python",
   "name": "python3"
  },
  "language_info": {
   "codemirror_mode": {
    "name": "ipython",
    "version": 3
   },
   "file_extension": ".py",
   "mimetype": "text/x-python",
   "name": "python",
   "nbconvert_exporter": "python",
   "pygments_lexer": "ipython3",
   "version": "3.7.6"
  },
  "toc": {
   "base_numbering": 1,
   "nav_menu": {},
   "number_sections": true,
   "sideBar": true,
   "skip_h1_title": false,
   "title_cell": "Table of Contents",
   "title_sidebar": "Contents",
   "toc_cell": false,
   "toc_position": {},
   "toc_section_display": true,
   "toc_window_display": false
  },
  "varInspector": {
   "cols": {
    "lenName": 16,
    "lenType": 16,
    "lenVar": 40
   },
   "kernels_config": {
    "python": {
     "delete_cmd_postfix": "",
     "delete_cmd_prefix": "del ",
     "library": "var_list.py",
     "varRefreshCmd": "print(var_dic_list())"
    },
    "r": {
     "delete_cmd_postfix": ") ",
     "delete_cmd_prefix": "rm(",
     "library": "var_list.r",
     "varRefreshCmd": "cat(var_dic_list()) "
    }
   },
   "types_to_exclude": [
    "module",
    "function",
    "builtin_function_or_method",
    "instance",
    "_Feature"
   ],
   "window_display": false
  }
 },
 "nbformat": 4,
 "nbformat_minor": 5
}
