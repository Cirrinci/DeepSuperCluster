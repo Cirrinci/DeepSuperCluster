{
 "cells": [
  {
   "cell_type": "code",
   "execution_count": 3,
   "id": "outdoor-delicious",
   "metadata": {
    "ExecuteTime": {
     "end_time": "2021-05-23T10:43:12.103084Z",
     "start_time": "2021-05-23T10:43:06.016460Z"
    }
   },
   "outputs": [],
   "source": [
    "import os\n",
    "import sys\n",
    "import matplotlib.pyplot as plt\n",
    "import numpy as np\n",
    "from sklearn.metrics import confusion_matrix, accuracy_score\n",
    "import pandas\n",
    "\n",
    "\n",
    "import tensorflow as tf\n",
    "import tf_data"
   ]
  },
  {
   "cell_type": "code",
   "execution_count": 4,
   "id": "attended-browse",
   "metadata": {
    "ExecuteTime": {
     "end_time": "2021-05-23T10:43:12.114869Z",
     "start_time": "2021-05-23T10:43:12.111515Z"
    }
   },
   "outputs": [],
   "source": [
    "data_path_train = {\"ele_match\": \"/eos/user/r/rdfexp/ecal/cluster/output_deepcluster_dumper/windows_data/electrons/recordio_allinfo_v8/training/calo_matched/*.proto\",\n",
    "                  \"gamma_match\": \"/eos/user/r/rdfexp/ecal/cluster/output_deepcluster_dumper/windows_data/gammas/recordio_allinfo_v8/training/calo_matched/*.proto\",\n",
    "                 \"nomatch\": \"/eos/user/r/rdfexp/ecal/cluster/output_deepcluster_dumper/windows_data/electrons/recordio_allinfo_v8/training/no_calo_matched/*.proto\",\n",
    "                  #\"gamma_nomatch\": \"/eos/user/r/rdfexp/ecal/cluster/output_deepcluster_dumper/windows_data/gammas/recordio_allinfo_v2/training/no_calo_matched/*.proto\"\n",
    "                  }"
   ]
  },
  {
   "cell_type": "code",
   "execution_count": 10,
   "id": "lined-driver",
   "metadata": {
    "ExecuteTime": {
     "end_time": "2021-05-23T10:43:58.764348Z",
     "start_time": "2021-05-23T10:43:58.757568Z"
    }
   },
   "outputs": [],
   "source": [
    "features = [ \"en_cluster\",\"et_cluster\",\n",
    "            \"cluster_eta\", \"cluster_phi\", \n",
    "            \"cluster_ieta\",\"cluster_iphi\",\"cluster_iz\",\n",
    "            \"cluster_deta\", \"cluster_dphi\",\n",
    "            \"cluster_den_seed\",\"cluster_det_seed\",\n",
    "            \"cl_f5_r9\", \"cl_f5_sigmaIetaIeta\", \"cl_f5_sigmaIetaIphi\",\n",
    "            \"cl_f5_sigmaIphiIphi\",\"cl_f5_swissCross\",\n",
    "            \"cl_r9\", \"cl_sigmaIetaIeta\", \"cl_sigmaIetaIphi\",\n",
    "            \"cl_sigmaIphiIphi\",\"cl_swissCross\",\n",
    "            \"cl_nxtals\", \"cl_etaWidth\",\"cl_phiWidth\"]\n",
    "\n",
    "window_features = [ \"max_en_cluster\",\"max_et_cluster\",\"max_deta_cluster\",\"max_dphi_cluster\",\"max_den_cluster\",\"max_det_cluster\",\n",
    "                    \"min_en_cluster\",\"min_et_cluster\",\"min_deta_cluster\",\"min_dphi_cluster\",\"min_den_cluster\",\"min_det_cluster\",\n",
    "                    \"mean_en_cluster\",\"mean_et_cluster\",\"mean_deta_cluster\",\"mean_dphi_cluster\",\"mean_den_cluster\",\"mean_det_cluster\" ]\n",
    "\n",
    "# Metadata about the window like true energy, true calo position, useful info\n",
    "window_metadata = [\"en_true_sim\",\"et_true_sim\", \"en_true_gen\", \"et_true_gen\",\n",
    "                    \"nclusters_insc\",\n",
    "                    \"nVtx\", \"rho\", \"obsPU\", \"truePU\",\n",
    "                    \"sim_true_eta\", \"sim_true_phi\",  \n",
    "                    \"en_mustache_raw\", \"et_mustache_raw\",\"en_mustache_calib\", \"et_mustache_calib\",\n",
    "                    \"event_tot_simen_PU\",\"wtot_simen_PU\",\"wtot_recoen_PU\",\"wtot_simen_sig\"  ]\n",
    "    \n",
    "    "
   ]
  },
  {
   "cell_type": "code",
   "execution_count": 7,
   "id": "buried-great",
   "metadata": {
    "ExecuteTime": {
     "end_time": "2021-05-23T10:43:14.831970Z",
     "start_time": "2021-05-23T10:43:14.825754Z"
    }
   },
   "outputs": [
    {
     "data": {
      "text/plain": [
       "15"
      ]
     },
     "execution_count": 7,
     "metadata": {},
     "output_type": "execute_result"
    }
   ],
   "source": [
    "len(features)"
   ]
  },
  {
   "cell_type": "code",
   "execution_count": 12,
   "id": "opposite-buffalo",
   "metadata": {
    "ExecuteTime": {
     "end_time": "2021-05-23T10:44:25.423715Z",
     "start_time": "2021-05-23T10:44:24.792585Z"
    },
    "scrolled": false
   },
   "outputs": [],
   "source": [
    "# Load a balanced dataset from the list of paths given to the function. Selected only the requestes features from clusters and prepare batches\n",
    "train_ds = tf_data.load_balanced_dataset_batch(data_path_train, features,window_features, window_metadata, batch_size= 100, \n",
    "                                                weights={\"ele_match\":0.33,\"gamma_match\":0.33, \"nomatch\":0.33})\n",
    "# the indexes for energy and et are from the features list we requestes\n",
    "train_ds = tf_data.training_format(train_ds, norm=False)\n",
    "\n",
    "# Create training and validation\n",
    "ds_train = train_ds.take(10000)"
   ]
  },
  {
   "cell_type": "code",
   "execution_count": 13,
   "id": "apparent-biography",
   "metadata": {
    "ExecuteTime": {
     "end_time": "2021-05-23T10:44:27.522424Z",
     "start_time": "2021-05-23T10:44:27.118567Z"
    }
   },
   "outputs": [],
   "source": [
    "from training_data import data_tools"
   ]
  },
  {
   "cell_type": "code",
   "execution_count": 34,
   "id": "amazing-somewhere",
   "metadata": {
    "ExecuteTime": {
     "end_time": "2021-05-23T11:55:48.554985Z",
     "start_time": "2021-05-23T11:55:48.543726Z"
    }
   },
   "outputs": [],
   "source": [
    "def parameters(ds, features):\n",
    "    '''\n",
    "    Function to calculate the parameters (mean, sigma) for features' distributions.\n",
    "    \n",
    "    Return: \n",
    "    - mean (dim: n_features): mean of the features' distributions.\n",
    "    - sigma (dim: n_features): sigma of the features' distributions. \n",
    "    \n",
    "    Args:\n",
    "    - ds: tensorflow dataset (in the format after tf_data.training_format)\n",
    "    - features: list of all the features recorded in the dataset. \n",
    "    '''\n",
    "    \n",
    "    # initialize counting variables\n",
    "    n_features = len(features)\n",
    "    \n",
    "    total_cl = 0.\n",
    "    m = tf.zeros(shape=n_features)\n",
    "    s = tf.zeros(shape=n_features)\n",
    "    \n",
    "    # iterate through dataset to calculate mean \n",
    "    for el in ds:\n",
    "        (cl_X, _, _, _, n_cl), (*_) = el\n",
    "        cl_X = cl_X[:,:,0:n_features]\n",
    "\n",
    "        m += tf.reduce_sum(cl_X, axis=(0,1)).numpy()\n",
    "        total_cl += tf.reduce_sum(n_cl).numpy()\n",
    "    \n",
    "    # calculate mean for each feature, create dictionary with feature labels\n",
    "    #ind = tf_data.get_cluster_features_indexes(features)\n",
    "    m = m/total_cl\n",
    "    mean = dict(zip(features, m))\n",
    "    m = tf.reshape(m, shape=[1,1,-1])\n",
    "    \n",
    "    # iterate through dataset to calculate sigma\n",
    "    for el in ds: \n",
    "        (cl_X, _,_, _, n_cl), (*_) = el\n",
    "        cl_X = cl_X[:,:,0:n_features]\n",
    "        # create mask to eliminate the padded values from calculation\n",
    "        mask = tf.expand_dims(tf.cast(tf.reduce_sum(cl_X, axis=-1) != 0., tf.float32), axis=-1)\n",
    "        \n",
    "        dif_masked = mask*(cl_X-m)\n",
    "        s +=tf.reduce_sum(tf.math.pow(dif_masked, 2), axis=(0,1)).numpy()\n",
    "    s = tf.math.sqrt(s/total_cl)\n",
    "    sigma = dict(zip(features, s))\n",
    "    return m,s , mean, sigma"
   ]
  },
  {
   "cell_type": "code",
   "execution_count": 36,
   "id": "weighted-wells",
   "metadata": {
    "ExecuteTime": {
     "end_time": "2021-05-23T11:59:19.550017Z",
     "start_time": "2021-05-23T11:59:19.540222Z"
    }
   },
   "outputs": [],
   "source": [
    "def parameters_wind(ds, features):\n",
    "    '''\n",
    "    Function to calculate the parameters (mean, sigma) for features' distributions.\n",
    "    \n",
    "    Return: \n",
    "    - mean (dim: n_features): mean of the features' distributions.\n",
    "    - sigma (dim: n_features): sigma of the features' distributions. \n",
    "    \n",
    "    Args:\n",
    "    - ds: tensorflow dataset (in the format after tf_data.training_format)\n",
    "    - features: list of all the features recorded in the dataset. \n",
    "    '''\n",
    "    \n",
    "    # initialize counting variables\n",
    "    n_features = len(features)\n",
    "    \n",
    "    total_cl = 0.\n",
    "    m = tf.zeros(shape=n_features)\n",
    "    s = tf.zeros(shape=n_features)\n",
    "    \n",
    "    # iterate through dataset to calculate mean \n",
    "    for el in ds:\n",
    "        (_, _, wind_X, _, n_cl), (*_) = el\n",
    "        wind_X = wind_X[:,0:n_features]\n",
    "\n",
    "        m += tf.reduce_sum(wind_X, axis=(0)).numpy()\n",
    "        total_cl += len(wind_X)\n",
    "    \n",
    "    # calculate mean for each feature, create dictionary with feature labels\n",
    "    #ind = tf_data.get_cluster_features_indexes(features)\n",
    "    m = m/total_cl\n",
    "    mean = dict(zip(features, m))\n",
    "    m = tf.reshape(m, shape=[1,-1])\n",
    "    \n",
    "    # iterate through dataset to calculate sigma\n",
    "    for el in ds: \n",
    "        (_, _,wind_X, _, n_cl), (*_) = el\n",
    "        wind_X = wind_X[:,0:n_features]\n",
    "        # create mask to eliminate the padded values from calculation\n",
    "        #mask = tf.expand_dims(tf.cast(tf.reduce_sum(cl_X, axis=-1) != 0., tf.float32), axis=-1)\n",
    "        \n",
    "#         dif_masked = mask*(cl_X-m)\n",
    "        s +=tf.reduce_sum(tf.math.pow(wind_X-m, 2), axis=(0)).numpy()\n",
    "    s = tf.math.sqrt(s/total_cl)\n",
    "    sigma = dict(zip(features, s))\n",
    "    return m,s , mean, sigma"
   ]
  },
  {
   "cell_type": "code",
   "execution_count": 22,
   "id": "personalized-lotus",
   "metadata": {
    "ExecuteTime": {
     "end_time": "2021-05-23T10:54:12.264051Z",
     "start_time": "2021-05-23T10:49:28.533271Z"
    }
   },
   "outputs": [],
   "source": [
    "m ,s , mean, sigma = parameters(ds_train, features)"
   ]
  },
  {
   "cell_type": "code",
   "execution_count": 37,
   "id": "associate-orange",
   "metadata": {
    "ExecuteTime": {
     "end_time": "2021-05-23T12:04:01.665982Z",
     "start_time": "2021-05-23T11:59:22.955737Z"
    }
   },
   "outputs": [],
   "source": [
    "mw ,sw , meanw, sigmaw = parameters_wind(ds_train, window_features)"
   ]
  },
  {
   "cell_type": "code",
   "execution_count": 24,
   "id": "exclusive-ontario",
   "metadata": {
    "ExecuteTime": {
     "end_time": "2021-05-23T11:15:25.929066Z",
     "start_time": "2021-05-23T11:15:25.923257Z"
    }
   },
   "outputs": [
    {
     "data": {
      "text/plain": [
       "{'en_cluster': <tf.Tensor: shape=(), dtype=float32, numpy=22.524303>,\n",
       " 'et_cluster': <tf.Tensor: shape=(), dtype=float32, numpy=7.1766996>,\n",
       " 'cluster_eta': <tf.Tensor: shape=(), dtype=float32, numpy=0.0010188665>,\n",
       " 'cluster_phi': <tf.Tensor: shape=(), dtype=float32, numpy=-0.011558083>,\n",
       " 'cluster_ieta': <tf.Tensor: shape=(), dtype=float32, numpy=17.339075>,\n",
       " 'cluster_iphi': <tf.Tensor: shape=(), dtype=float32, numpy=136.76228>,\n",
       " 'cluster_iz': <tf.Tensor: shape=(), dtype=float32, numpy=0.00061966974>,\n",
       " 'cluster_deta': <tf.Tensor: shape=(), dtype=float32, numpy=0.020145211>,\n",
       " 'cluster_dphi': <tf.Tensor: shape=(), dtype=float32, numpy=-0.00013252016>,\n",
       " 'cluster_den_seed': <tf.Tensor: shape=(), dtype=float32, numpy=56.139122>,\n",
       " 'cluster_det_seed': <tf.Tensor: shape=(), dtype=float32, numpy=24.030712>,\n",
       " 'cl_f5_r9': <tf.Tensor: shape=(), dtype=float32, numpy=2.3928623>,\n",
       " 'cl_f5_sigmaIetaIeta': <tf.Tensor: shape=(), dtype=float32, numpy=0.01664246>,\n",
       " 'cl_f5_sigmaIetaIphi': <tf.Tensor: shape=(), dtype=float32, numpy=1.0914244e-05>,\n",
       " 'cl_f5_sigmaIphiIphi': <tf.Tensor: shape=(), dtype=float32, numpy=0.019025523>,\n",
       " 'cl_f5_swissCross': <tf.Tensor: shape=(), dtype=float32, numpy=0.36320585>,\n",
       " 'cl_r9': <tf.Tensor: shape=(), dtype=float32, numpy=0.9885563>,\n",
       " 'cl_sigmaIetaIeta': <tf.Tensor: shape=(), dtype=float32, numpy=0.0051746876>,\n",
       " 'cl_sigmaIetaIphi': <tf.Tensor: shape=(), dtype=float32, numpy=4.9645735e-07>,\n",
       " 'cl_sigmaIphiIphi': <tf.Tensor: shape=(), dtype=float32, numpy=0.00651448>,\n",
       " 'cl_swissCross': <tf.Tensor: shape=(), dtype=float32, numpy=0.7804626>,\n",
       " 'cl_nxtals': <tf.Tensor: shape=(), dtype=float32, numpy=3.2459621>,\n",
       " 'cl_etaWidth': <tf.Tensor: shape=(), dtype=float32, numpy=0.0056706415>,\n",
       " 'cl_phiWidth': <tf.Tensor: shape=(), dtype=float32, numpy=0.005954155>}"
      ]
     },
     "execution_count": 24,
     "metadata": {},
     "output_type": "execute_result"
    }
   ],
   "source": [
    "mean"
   ]
  },
  {
   "cell_type": "code",
   "execution_count": 25,
   "id": "quality-hungary",
   "metadata": {
    "ExecuteTime": {
     "end_time": "2021-05-23T11:15:26.429706Z",
     "start_time": "2021-05-23T11:15:26.423816Z"
    }
   },
   "outputs": [
    {
     "data": {
      "text/plain": [
       "{'en_cluster': <tf.Tensor: shape=(), dtype=float32, numpy=76.19602>,\n",
       " 'et_cluster': <tf.Tensor: shape=(), dtype=float32, numpy=18.7965>,\n",
       " 'cluster_eta': <tf.Tensor: shape=(), dtype=float32, numpy=1.4732423>,\n",
       " 'cluster_phi': <tf.Tensor: shape=(), dtype=float32, numpy=1.8075603>,\n",
       " 'cluster_ieta': <tf.Tensor: shape=(), dtype=float32, numpy=51.906487>,\n",
       " 'cluster_iphi': <tf.Tensor: shape=(), dtype=float32, numpy=105.55555>,\n",
       " 'cluster_iz': <tf.Tensor: shape=(), dtype=float32, numpy=0.5823184>,\n",
       " 'cluster_deta': <tf.Tensor: shape=(), dtype=float32, numpy=0.058878865>,\n",
       " 'cluster_dphi': <tf.Tensor: shape=(), dtype=float32, numpy=0.27938646>,\n",
       " 'cluster_den_seed': <tf.Tensor: shape=(), dtype=float32, numpy=89.72599>,\n",
       " 'cluster_det_seed': <tf.Tensor: shape=(), dtype=float32, numpy=29.370329>,\n",
       " 'cl_f5_r9': <tf.Tensor: shape=(), dtype=float32, numpy=9.873369>,\n",
       " 'cl_f5_sigmaIetaIeta': <tf.Tensor: shape=(), dtype=float32, numpy=0.017052714>,\n",
       " 'cl_f5_sigmaIetaIphi': <tf.Tensor: shape=(), dtype=float32, numpy=0.0003178742>,\n",
       " 'cl_f5_sigmaIphiIphi': <tf.Tensor: shape=(), dtype=float32, numpy=0.018680705>,\n",
       " 'cl_f5_swissCross': <tf.Tensor: shape=(), dtype=float32, numpy=2.452948>,\n",
       " 'cl_r9': <tf.Tensor: shape=(), dtype=float32, numpy=0.04256875>,\n",
       " 'cl_sigmaIetaIeta': <tf.Tensor: shape=(), dtype=float32, numpy=0.008784526>,\n",
       " 'cl_sigmaIetaIphi': <tf.Tensor: shape=(), dtype=float32, numpy=8.3347695e-05>,\n",
       " 'cl_sigmaIphiIphi': <tf.Tensor: shape=(), dtype=float32, numpy=0.010553891>,\n",
       " 'cl_swissCross': <tf.Tensor: shape=(), dtype=float32, numpy=0.35717908>,\n",
       " 'cl_nxtals': <tf.Tensor: shape=(), dtype=float32, numpy=4.3831005>,\n",
       " 'cl_etaWidth': <tf.Tensor: shape=(), dtype=float32, numpy=0.0068348767>,\n",
       " 'cl_phiWidth': <tf.Tensor: shape=(), dtype=float32, numpy=0.008113729>}"
      ]
     },
     "execution_count": 25,
     "metadata": {},
     "output_type": "execute_result"
    }
   ],
   "source": [
    "sigma"
   ]
  },
  {
   "cell_type": "code",
   "execution_count": 26,
   "id": "endangered-coverage",
   "metadata": {
    "ExecuteTime": {
     "end_time": "2021-05-23T11:15:27.302400Z",
     "start_time": "2021-05-23T11:15:27.181300Z"
    }
   },
   "outputs": [],
   "source": [
    "np.savez(\"normalization.npz\", mean=m, sigma=s)"
   ]
  },
  {
   "cell_type": "code",
   "execution_count": 38,
   "id": "dutch-escape",
   "metadata": {
    "ExecuteTime": {
     "end_time": "2021-05-23T12:09:04.241936Z",
     "start_time": "2021-05-23T12:09:04.235577Z"
    }
   },
   "outputs": [
    {
     "data": {
      "text/plain": [
       "{'max_en_cluster': <tf.Tensor: shape=(), dtype=float32, numpy=139.98135>,\n",
       " 'max_et_cluster': <tf.Tensor: shape=(), dtype=float32, numpy=30.462042>,\n",
       " 'max_deta_cluster': <tf.Tensor: shape=(), dtype=float32, numpy=0.05672447>,\n",
       " 'max_dphi_cluster': <tf.Tensor: shape=(), dtype=float32, numpy=0.2092758>,\n",
       " 'max_den_cluster': <tf.Tensor: shape=(), dtype=float32, numpy=117.98411>,\n",
       " 'max_det_cluster': <tf.Tensor: shape=(), dtype=float32, numpy=30.259237>,\n",
       " 'min_en_cluster': <tf.Tensor: shape=(), dtype=float32, numpy=92.93467>,\n",
       " 'min_et_cluster': <tf.Tensor: shape=(), dtype=float32, numpy=13.695581>,\n",
       " 'min_deta_cluster': <tf.Tensor: shape=(), dtype=float32, numpy=0.03514311>,\n",
       " 'min_dphi_cluster': <tf.Tensor: shape=(), dtype=float32, numpy=0.2090637>,\n",
       " 'min_den_cluster': <tf.Tensor: shape=(), dtype=float32, numpy=6.1971254>,\n",
       " 'min_det_cluster': <tf.Tensor: shape=(), dtype=float32, numpy=2.021335>,\n",
       " 'mean_en_cluster': <tf.Tensor: shape=(), dtype=float32, numpy=99.7142>,\n",
       " 'mean_et_cluster': <tf.Tensor: shape=(), dtype=float32, numpy=15.2161665>,\n",
       " 'mean_deta_cluster': <tf.Tensor: shape=(), dtype=float32, numpy=0.031355962>,\n",
       " 'mean_dphi_cluster': <tf.Tensor: shape=(), dtype=float32, numpy=0.121134>,\n",
       " 'mean_den_cluster': <tf.Tensor: shape=(), dtype=float32, numpy=77.54512>,\n",
       " 'mean_det_cluster': <tf.Tensor: shape=(), dtype=float32, numpy=23.007715>}"
      ]
     },
     "execution_count": 38,
     "metadata": {},
     "output_type": "execute_result"
    }
   ],
   "source": [
    "sigmaw"
   ]
  },
  {
   "cell_type": "code",
   "execution_count": 40,
   "id": "indirect-chorus",
   "metadata": {
    "ExecuteTime": {
     "end_time": "2021-05-23T12:09:10.164113Z",
     "start_time": "2021-05-23T12:09:10.155202Z"
    }
   },
   "outputs": [
    {
     "data": {
      "text/plain": [
       "{'max_en_cluster': <tf.Tensor: shape=(), dtype=float32, numpy=98.56081>,\n",
       " 'max_et_cluster': <tf.Tensor: shape=(), dtype=float32, numpy=30.730434>,\n",
       " 'max_deta_cluster': <tf.Tensor: shape=(), dtype=float32, numpy=0.06807884>,\n",
       " 'max_dphi_cluster': <tf.Tensor: shape=(), dtype=float32, numpy=0.267591>,\n",
       " 'max_den_cluster': <tf.Tensor: shape=(), dtype=float32, numpy=76.70408>,\n",
       " 'max_det_cluster': <tf.Tensor: shape=(), dtype=float32, numpy=27.073963>,\n",
       " 'min_en_cluster': <tf.Tensor: shape=(), dtype=float32, numpy=21.644217>,\n",
       " 'min_et_cluster': <tf.Tensor: shape=(), dtype=float32, numpy=3.581526>,\n",
       " 'min_deta_cluster': <tf.Tensor: shape=(), dtype=float32, numpy=-0.035444207>,\n",
       " 'min_dphi_cluster': <tf.Tensor: shape=(), dtype=float32, numpy=-0.2677228>,\n",
       " 'min_den_cluster': <tf.Tensor: shape=(), dtype=float32, numpy=-0.21257907>,\n",
       " 'min_det_cluster': <tf.Tensor: shape=(), dtype=float32, numpy=-0.07502321>,\n",
       " 'mean_en_cluster': <tf.Tensor: shape=(), dtype=float32, numpy=44.903072>,\n",
       " 'mean_et_cluster': <tf.Tensor: shape=(), dtype=float32, numpy=10.72235>,\n",
       " 'mean_deta_cluster': <tf.Tensor: shape=(), dtype=float32, numpy=0.01381582>,\n",
       " 'mean_dphi_cluster': <tf.Tensor: shape=(), dtype=float32, numpy=-0.00014560526>,\n",
       " 'mean_den_cluster': <tf.Tensor: shape=(), dtype=float32, numpy=53.44505>,\n",
       " 'mean_det_cluster': <tf.Tensor: shape=(), dtype=float32, numpy=19.933111>}"
      ]
     },
     "execution_count": 40,
     "metadata": {},
     "output_type": "execute_result"
    }
   ],
   "source": [
    "meanw"
   ]
  },
  {
   "cell_type": "code",
   "execution_count": 41,
   "id": "black-switzerland",
   "metadata": {
    "ExecuteTime": {
     "end_time": "2021-05-23T12:12:38.635366Z",
     "start_time": "2021-05-23T12:12:38.608955Z"
    }
   },
   "outputs": [],
   "source": [
    "np.savez(\"normalization_wind_features.npz\", mean=mw, sigma=sw)"
   ]
  },
  {
   "cell_type": "code",
   "execution_count": null,
   "id": "arranged-escape",
   "metadata": {},
   "outputs": [],
   "source": []
  }
 ],
 "metadata": {
  "kernelspec": {
   "display_name": "Python 3",
   "language": "python",
   "name": "python3"
  },
  "language_info": {
   "codemirror_mode": {
    "name": "ipython",
    "version": 3
   },
   "file_extension": ".py",
   "mimetype": "text/x-python",
   "name": "python",
   "nbconvert_exporter": "python",
   "pygments_lexer": "ipython3",
   "version": "3.7.6"
  },
  "toc": {
   "base_numbering": 1,
   "nav_menu": {},
   "number_sections": true,
   "sideBar": true,
   "skip_h1_title": false,
   "title_cell": "Table of Contents",
   "title_sidebar": "Contents",
   "toc_cell": false,
   "toc_position": {},
   "toc_section_display": true,
   "toc_window_display": false
  },
  "varInspector": {
   "cols": {
    "lenName": 16,
    "lenType": 16,
    "lenVar": 40
   },
   "kernels_config": {
    "python": {
     "delete_cmd_postfix": "",
     "delete_cmd_prefix": "del ",
     "library": "var_list.py",
     "varRefreshCmd": "print(var_dic_list())"
    },
    "r": {
     "delete_cmd_postfix": ") ",
     "delete_cmd_prefix": "rm(",
     "library": "var_list.r",
     "varRefreshCmd": "cat(var_dic_list()) "
    }
   },
   "types_to_exclude": [
    "module",
    "function",
    "builtin_function_or_method",
    "instance",
    "_Feature"
   ],
   "window_display": false
  }
 },
 "nbformat": 4,
 "nbformat_minor": 5
}
