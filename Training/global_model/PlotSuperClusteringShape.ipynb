{
 "cells": [
  {
   "cell_type": "code",
   "execution_count": 1,
   "id": "8ccd10e5",
   "metadata": {
    "ExecuteTime": {
     "end_time": "2021-11-23T11:00:32.902140Z",
     "start_time": "2021-11-23T11:00:24.621069Z"
    }
   },
   "outputs": [],
   "source": [
    "import loader \n",
    "import tensorflow as tf"
   ]
  },
  {
   "cell_type": "code",
   "execution_count": 2,
   "id": "d9c7f300",
   "metadata": {
    "ExecuteTime": {
     "end_time": "2021-11-23T11:00:32.953359Z",
     "start_time": "2021-11-23T11:00:32.949093Z"
    }
   },
   "outputs": [],
   "source": [
    "config = \"/eos/user/d/dvalsecc/www/ECAL/Clustering/DeepCluster/models_archive/gcn_models/gcn_models_SA_v19/run_03_testexport/args_load.json\"\n",
    "model_weights = \"/eos/user/d/dvalsecc/www/ECAL/Clustering/DeepCluster/models_archive/gcn_models/gcn_models_SA_v19/run_03_testexport/weights.best.hdf5\""
   ]
  },
  {
   "cell_type": "code",
   "execution_count": 3,
   "id": "8d9c2a5a",
   "metadata": {
    "ExecuteTime": {
     "end_time": "2021-11-23T11:00:47.659071Z",
     "start_time": "2021-11-23T11:00:32.999274Z"
    },
    "scrolled": true
   },
   "outputs": [
    {
     "name": "stdout",
     "output_type": "stream",
     "text": [
      "Model options: \n",
      "{'activation': 'elu',\n",
      " 'batch_size': 512,\n",
      " 'coord_dim': 3,\n",
      " 'coord_dim_sa': 15,\n",
      " 'data_definition_path': '/eos/user/d/dvalsecc/www/ECAL/Clustering/DeepCluster/models_archive/gcn_models/gcn_models_SA_v19/run_03_testexport/tf_data.py',\n",
      " 'data_path': {'ele_match': '/eos/user/d/dvalsecc/www/ECAL/Clustering/DeepCluster/dataset/electrons/recordio_allinfo_v11/training/calo_matched/*.proto',\n",
      "               'gamma_match': '/eos/user/d/dvalsecc/www/ECAL/Clustering/DeepCluster/dataset/gammas/recordio_allinfo_v11/training/calo_matched/*.proto'},\n",
      " 'dropout': 0.1,\n",
      " 'features_dict': {'cl_features': ['en_cluster',\n",
      "                                   'et_cluster',\n",
      "                                   'cluster_eta',\n",
      "                                   'cluster_phi',\n",
      "                                   'cluster_ieta',\n",
      "                                   'cluster_iphi',\n",
      "                                   'cluster_iz',\n",
      "                                   'cluster_deta',\n",
      "                                   'cluster_dphi',\n",
      "                                   'cluster_den_seed',\n",
      "                                   'cluster_det_seed',\n",
      "                                   'cl_nxtals'],\n",
      "                   'cl_metadata': ['calo_score',\n",
      "                                   'calo_simen_sig',\n",
      "                                   'calo_simen_PU',\n",
      "                                   'cluster_PUfrac',\n",
      "                                   'calo_nxtals_PU',\n",
      "                                   'noise_en',\n",
      "                                   'noise_en_uncal',\n",
      "                                   'noise_en_nofrac',\n",
      "                                   'noise_en_uncal_nofrac'],\n",
      "                   'seed_features': ['seed_eta',\n",
      "                                     'seed_phi',\n",
      "                                     'seed_ieta',\n",
      "                                     'seed_iphi',\n",
      "                                     'seed_iz',\n",
      "                                     'en_seed',\n",
      "                                     'et_seed',\n",
      "                                     'en_seed_calib',\n",
      "                                     'et_seed_calib',\n",
      "                                     'seed_f5_r9',\n",
      "                                     'seed_f5_sigmaIetaIeta',\n",
      "                                     'seed_f5_sigmaIetaIphi',\n",
      "                                     'seed_f5_sigmaIphiIphi',\n",
      "                                     'seed_f5_swissCross',\n",
      "                                     'seed_r9',\n",
      "                                     'seed_sigmaIetaIeta',\n",
      "                                     'seed_sigmaIetaIphi',\n",
      "                                     'seed_sigmaIphiIphi',\n",
      "                                     'seed_swissCross',\n",
      "                                     'seed_nxtals',\n",
      "                                     'seed_etaWidth',\n",
      "                                     'seed_phiWidth'],\n",
      "                   'window_features': ['max_en_cluster',\n",
      "                                       'max_et_cluster',\n",
      "                                       'max_deta_cluster',\n",
      "                                       'max_dphi_cluster',\n",
      "                                       'max_den_cluster',\n",
      "                                       'max_det_cluster',\n",
      "                                       'min_en_cluster',\n",
      "                                       'min_et_cluster',\n",
      "                                       'min_deta_cluster',\n",
      "                                       'min_dphi_cluster',\n",
      "                                       'min_den_cluster',\n",
      "                                       'min_det_cluster',\n",
      "                                       'mean_en_cluster',\n",
      "                                       'mean_et_cluster',\n",
      "                                       'mean_deta_cluster',\n",
      "                                       'mean_dphi_cluster',\n",
      "                                       'mean_den_cluster',\n",
      "                                       'mean_det_cluster'],\n",
      "                   'window_metadata': ['en_true_sim',\n",
      "                                       'et_true_sim',\n",
      "                                       'en_true_gen',\n",
      "                                       'et_true_gen',\n",
      "                                       'en_true_sim_good',\n",
      "                                       'et_true_sim_good',\n",
      "                                       'nclusters_insc',\n",
      "                                       'nVtx',\n",
      "                                       'rho',\n",
      "                                       'obsPU',\n",
      "                                       'truePU',\n",
      "                                       'sim_true_eta',\n",
      "                                       'sim_true_phi',\n",
      "                                       'en_mustache_raw',\n",
      "                                       'et_mustache_raw',\n",
      "                                       'en_mustache_calib',\n",
      "                                       'et_mustache_calib',\n",
      "                                       'event_tot_simen_PU',\n",
      "                                       'wtot_simen_PU',\n",
      "                                       'wtot_simen_sig']},\n",
      " 'initial_epoch': 0,\n",
      " 'l2_reg': True,\n",
      " 'layers_clclass': [256, 128, 128, 64],\n",
      " 'layers_enregr': [256, 128, 128, 64],\n",
      " 'layers_input': [256, 128, 128, 64],\n",
      " 'layers_windclass': [128, 64, 64],\n",
      " 'load': False,\n",
      " 'loss_clusters': 100,\n",
      " 'loss_en_regr': 0.05,\n",
      " 'loss_en_resol': 0.0,\n",
      " 'loss_en_softF1': 100,\n",
      " 'loss_softF1': 1.0,\n",
      " 'loss_window': 1.0,\n",
      " 'lr': 0.001,\n",
      " 'lr_decay': 0.0,\n",
      " 'model_definition_path': '/eos/user/d/dvalsecc/www/ECAL/Clustering/DeepCluster/models_archive/gcn_models/gcn_models_SA_v19/run_03_testexport/model.py',\n",
      " 'n_windclasses': 3,\n",
      " 'nconv': 3,\n",
      " 'nconv_rechits': 4,\n",
      " 'nepochs': 200,\n",
      " 'normalizations': ['normalization_v11_all.npz',\n",
      "                    'normalization_wind_features_v11_all.npz'],\n",
      " 'ntrain': 1400000,\n",
      " 'nval': 400000,\n",
      " 'opt': 'adam',\n",
      " 'output_dim_gconv': 64,\n",
      " 'output_dim_nodes': 64,\n",
      " 'output_dim_rechits': 25,\n",
      " 'output_dim_sa_clclass': 64,\n",
      " 'output_dim_sa_enregr': 64,\n",
      " 'output_dim_sa_windclass': 64}\n",
      ">> Load the dataset \n",
      ">> Load the model\n",
      "Model: \"deep_cluster_gn\"\n",
      "_________________________________________________________________\n",
      "Layer (type)                 Output Shape              Param #   \n",
      "=================================================================\n",
      "graph_builder (GraphBuilding multiple                  77499     \n",
      "_________________________________________________________________\n",
      "GHN_global (GHConvI)         multiple                  8256      \n",
      "_________________________________________________________________\n",
      "SA_clclass (SelfAttentionBlo multiple                  24960     \n",
      "_________________________________________________________________\n",
      "dense_clclass (Sequential)   (512, 19, 1)              90753     \n",
      "_________________________________________________________________\n",
      "SA_windclass (SelfAttentionB multiple                  41344     \n",
      "_________________________________________________________________\n",
      "dense_windclass (Sequential) (512, 3)                  23235     \n",
      "_________________________________________________________________\n",
      "SA_enregr (SelfAttentionBloc multiple                  47744     \n",
      "_________________________________________________________________\n",
      "dense_enregr (Sequential)    (512, 1)                  74369     \n",
      "_________________________________________________________________\n",
      "dropout_27 (Dropout)         multiple                  0         \n",
      "_________________________________________________________________\n",
      "dropout_28 (Dropout)         multiple                  0         \n",
      "_________________________________________________________________\n",
      "dropout_29 (Dropout)         multiple                  0         \n",
      "_________________________________________________________________\n",
      "gcn_output_layernorm (LayerN multiple                  128       \n",
      "_________________________________________________________________\n",
      "SA_windclass_layernorm (Laye multiple                  164       \n",
      "_________________________________________________________________\n",
      "SA_enregr_layernorm (LayerNo multiple                  306       \n",
      "_________________________________________________________________\n",
      "concatenate_1 (Concatenate)  multiple                  0         \n",
      "_________________________________________________________________\n",
      "concatenate_2 (Concatenate)  multiple                  0         \n",
      "_________________________________________________________________\n",
      "concatenate_3 (Concatenate)  multiple                  0         \n",
      "=================================================================\n",
      "Total params: 388,758\n",
      "Trainable params: 388,758\n",
      "Non-trainable params: 0\n",
      "_________________________________________________________________\n"
     ]
    }
   ],
   "source": [
    "model,dataset,tf_data = loader.get_model_and_dataset( config, model_weights, training=False, overwrite={\"batch_size\":512} )"
   ]
  },
  {
   "cell_type": "code",
   "execution_count": 4,
   "id": "4ec3a536",
   "metadata": {
    "ExecuteTime": {
     "end_time": "2021-11-23T11:01:04.888026Z",
     "start_time": "2021-11-23T11:01:04.883422Z"
    }
   },
   "outputs": [],
   "source": [
    "seed_et_lim = [2,30]\n",
    "seed_eta_lim = [0.8, 1.4]"
   ]
  },
  {
   "cell_type": "code",
   "execution_count": 5,
   "id": "d69bf409",
   "metadata": {
    "ExecuteTime": {
     "end_time": "2021-11-23T11:01:05.507013Z",
     "start_time": "2021-11-23T11:01:05.501360Z"
    }
   },
   "outputs": [],
   "source": [
    "Tin_etaphis = []\n",
    "Tout_etaphis = []\n",
    "Tin_m_etaphis = []\n",
    "Tout_m_etaphis = []\n",
    "\n",
    "Fin_etaphis = []\n",
    "Fout_etaphis = []\n",
    "Fin_m_etaphis = []\n",
    "Fout_m_etaphis = []"
   ]
  },
  {
   "cell_type": "code",
   "execution_count": 6,
   "id": "d240afdc",
   "metadata": {
    "ExecuteTime": {
     "end_time": "2021-11-23T11:24:34.194182Z",
     "start_time": "2021-11-23T11:01:08.627074Z"
    },
    "scrolled": false
   },
   "outputs": [
    {
     "name": "stdout",
     "output_type": "stream",
     "text": [
      "................................................................................................................................................................................................................................................................................................................................................................................................................................................................................................................................................................................................................................................................................................................................................................................................................................................................................................................................................................................................................................................................................................................................................................................................................................................................................................................................................................................................................................................................................................................................................................................................................................................................................................................................................................................................................................................................................................................................................................................................................................................................................"
     ]
    }
   ],
   "source": [
    "for X,y,w in dataset.take(2000):\n",
    "    print('.', end=\"\")\n",
    "    y_out = model(X, training=False)\n",
    "    cl_X_initial, wind_X_norm , cl_hits, is_seed,n_cl = X\n",
    "    \n",
    "    dense_clclass = y_out[\"cl_class\"]\n",
    "    mask_cls = y_out[\"mask_cls\"]\n",
    "    \n",
    "    pred_prob = tf.nn.sigmoid(dense_clclass) * mask_cls[:,:,tf.newaxis]\n",
    "    y_pred = tf.cast(pred_prob >= 0.5, tf.float32)\n",
    "    \n",
    "    \n",
    "    y_clclass, y_windclass, cl_X, wind_X, y_metadata, cl_labels = y\n",
    "    y_mustache = cl_labels[:,:,4] == 1\n",
    "\n",
    "    cluster_etaphi = tf.gather(cl_X, indices=tf_data.get_cluster_features_indexes([\"cluster_deta\",\"cluster_dphi\"]), axis=-1)\n",
    "    N_metadata = 20\n",
    "    seed_etaet = tf.gather(y_metadata, indices=(tf_data.get_seed_features_indexes([\"seed_eta\", \"et_seed\"]) + tf.constant(N_metadata)), axis=1)\n",
    "    \n",
    "    #keepig only interesting seeds\n",
    "    mask_seed = (tf.abs(seed_etaet[:,0]) > seed_eta_lim[0]) & ( tf.abs(seed_etaet[:,0]) < seed_eta_lim[1]) & ( seed_etaet[:,1] > seed_et_lim[0]) & ( seed_etaet[:,1] < seed_et_lim[1])\n",
    "    # masking padded clusters\n",
    "    mcls = mask_cls[mask_seed]==1\n",
    "    simmatch = y_clclass[mask_seed] ==1\n",
    "    nonmatch = y_clclass[mask_seed] ==0\n",
    "    \n",
    "    Tin_etaphi = tf.boolean_mask(cluster_etaphi[mask_seed], tf.squeeze( (y_pred[mask_seed]==1)& (is_seed[mask_seed]==0)& (simmatch), axis=-1 )& (mcls) )\n",
    "    Tout_etaphi = tf.boolean_mask(cluster_etaphi[mask_seed], tf.squeeze( ( y_pred[mask_seed]==0)& (is_seed[mask_seed]==0)& (simmatch), axis=-1  )& (mcls))\n",
    "    Tin_m_etaphi = tf.boolean_mask(cluster_etaphi[mask_seed], (y_mustache[mask_seed])& tf.squeeze((is_seed[mask_seed]==0)& (simmatch)) & (mcls) )\n",
    "    Tout_m_etaphi = tf.boolean_mask(cluster_etaphi[mask_seed],(y_mustache[mask_seed]==False)& tf.squeeze((is_seed[mask_seed]==0)& (simmatch))& (mcls))\n",
    "    \n",
    "    Tin_etaphis.append(Tin_etaphi)\n",
    "    Tout_etaphis.append(Tout_etaphi)\n",
    "    Tin_m_etaphis.append(Tin_m_etaphi)\n",
    "    Tout_m_etaphis.append(Tout_m_etaphi)\n",
    "    \n",
    "    Fin_etaphi = tf.boolean_mask(cluster_etaphi[mask_seed], tf.squeeze( (y_pred[mask_seed]==1)& (is_seed[mask_seed]==0)& (nonmatch), axis=-1 )& (mcls) )\n",
    "    Fout_etaphi = tf.boolean_mask(cluster_etaphi[mask_seed], tf.squeeze( ( y_pred[mask_seed]==0)& (is_seed[mask_seed]==0)& (nonmatch), axis=-1  )& (mcls))\n",
    "    Fin_m_etaphi = tf.boolean_mask(cluster_etaphi[mask_seed], (y_mustache[mask_seed])& tf.squeeze((is_seed[mask_seed]==0)& (nonmatch)) & (mcls) )\n",
    "    Fout_m_etaphi = tf.boolean_mask(cluster_etaphi[mask_seed],(y_mustache[mask_seed]==False)& tf.squeeze((is_seed[mask_seed]==0)& (nonmatch))& (mcls))\n",
    "    \n",
    "    Fin_etaphis.append(Fin_etaphi)\n",
    "    Fout_etaphis.append(Fout_etaphi)\n",
    "    Fin_m_etaphis.append(Fin_m_etaphi)\n",
    "    Fout_m_etaphis.append(Fout_m_etaphi)"
   ]
  },
  {
   "cell_type": "code",
   "execution_count": 13,
   "id": "3abce6b8",
   "metadata": {
    "ExecuteTime": {
     "end_time": "2021-11-23T14:15:45.643783Z",
     "start_time": "2021-11-23T14:15:45.405644Z"
    }
   },
   "outputs": [
    {
     "name": "stderr",
     "output_type": "stream",
     "text": [
      "ERROR:root:Internal Python error in the inspect module.\n",
      "Below is the traceback from this internal error.\n",
      "\n"
     ]
    },
    {
     "name": "stdout",
     "output_type": "stream",
     "text": [
      "Traceback (most recent call last):\n",
      "  File \"/cvmfs/sft.cern.ch/lcg/views/LCG_100cuda/x86_64-centos7-gcc8-opt/lib/python3.7/site-packages/IPython/core/interactiveshell.py\", line 3296, in run_code\n",
      "    exec(code_obj, self.user_global_ns, self.user_ns)\n",
      "  File \"<ipython-input-13-6416b4e70d51>\", line 7, in <module>\n",
      "    import mplhep as hep\n",
      "  File \"/eos/user/d/dvalsecc/.local/lib/python3.7/site-packages/mplhep/__init__.py\", line 8, in <module>\n",
      "    from . import atlas\n",
      "  File \"/eos/user/d/dvalsecc/.local/lib/python3.7/site-packages/mplhep/atlas.py\", line 36, in <module>\n",
      "    @mpl.docstring.copy(label_base._exp_text)\n",
      "AttributeError: module 'matplotlib' has no attribute 'docstring'\n",
      "\n",
      "During handling of the above exception, another exception occurred:\n",
      "\n",
      "Traceback (most recent call last):\n",
      "  File \"/cvmfs/sft.cern.ch/lcg/views/LCG_100cuda/x86_64-centos7-gcc8-opt/lib/python3.7/site-packages/IPython/core/interactiveshell.py\", line 2033, in showtraceback\n",
      "    stb = value._render_traceback_()\n",
      "AttributeError: 'AttributeError' object has no attribute '_render_traceback_'\n",
      "\n",
      "During handling of the above exception, another exception occurred:\n",
      "\n",
      "Traceback (most recent call last):\n",
      "  File \"/cvmfs/sft.cern.ch/lcg/views/LCG_100cuda/x86_64-centos7-gcc8-opt/lib/python3.7/site-packages/IPython/core/ultratb.py\", line 1095, in get_records\n",
      "    return _fixed_getinnerframes(etb, number_of_lines_of_context, tb_offset)\n",
      "  File \"/cvmfs/sft.cern.ch/lcg/views/LCG_100cuda/x86_64-centos7-gcc8-opt/lib/python3.7/site-packages/IPython/core/ultratb.py\", line 313, in wrapped\n",
      "    return f(*args, **kwargs)\n",
      "  File \"/cvmfs/sft.cern.ch/lcg/views/LCG_100cuda/x86_64-centos7-gcc8-opt/lib/python3.7/site-packages/IPython/core/ultratb.py\", line 347, in _fixed_getinnerframes\n",
      "    records = fix_frame_records_filenames(inspect.getinnerframes(etb, context))\n",
      "  File \"/cvmfs/sft.cern.ch/lcg/releases/Python/3.7.6-7a85e/x86_64-centos7-gcc8-opt/lib/python3.7/inspect.py\", line 1502, in getinnerframes\n",
      "    frameinfo = (tb.tb_frame,) + getframeinfo(tb, context)\n",
      "  File \"/cvmfs/sft.cern.ch/lcg/releases/Python/3.7.6-7a85e/x86_64-centos7-gcc8-opt/lib/python3.7/inspect.py\", line 1460, in getframeinfo\n",
      "    filename = getsourcefile(frame) or getfile(frame)\n",
      "  File \"/cvmfs/sft.cern.ch/lcg/releases/Python/3.7.6-7a85e/x86_64-centos7-gcc8-opt/lib/python3.7/inspect.py\", line 696, in getsourcefile\n",
      "    if getattr(getmodule(object, filename), '__loader__', None) is not None:\n",
      "  File \"/cvmfs/sft.cern.ch/lcg/releases/Python/3.7.6-7a85e/x86_64-centos7-gcc8-opt/lib/python3.7/inspect.py\", line 725, in getmodule\n",
      "    file = getabsfile(object, _filename)\n",
      "  File \"/cvmfs/sft.cern.ch/lcg/releases/Python/3.7.6-7a85e/x86_64-centos7-gcc8-opt/lib/python3.7/inspect.py\", line 709, in getabsfile\n",
      "    return os.path.normcase(os.path.abspath(_filename))\n",
      "  File \"/cvmfs/sft.cern.ch/lcg/releases/Python/3.7.6-7a85e/x86_64-centos7-gcc8-opt/lib/python3.7/posixpath.py\", line 383, in abspath\n",
      "    cwd = os.getcwd()\n",
      "FileNotFoundError: [Errno 2] No such file or directory\n"
     ]
    },
    {
     "ename": "AttributeError",
     "evalue": "module 'matplotlib' has no attribute 'docstring'",
     "output_type": "error",
     "traceback": [
      "\u001b[0;31m---------------------------------------------------------------------------\u001b[0m"
     ]
    }
   ],
   "source": [
    "import matplotlib.pyplot as plt\n",
    "import matplotlib.lines as mlines\n",
    "from matplotlib import colors\n",
    "import matplotlib as mpl \n",
    "mpl.rcParams[\"image.origin\"] = 'lower'\n",
    "\n",
    "import mplhep as hep\n",
    "plt.style.use(hep.style.CMS)"
   ]
  },
  {
   "cell_type": "code",
   "execution_count": 11,
   "id": "8b3d8c09",
   "metadata": {
    "ExecuteTime": {
     "end_time": "2021-11-23T13:34:55.028266Z",
     "start_time": "2021-11-23T13:34:55.003018Z"
    }
   },
   "outputs": [],
   "source": [
    "IN_T = tf.concat(Tin_etaphis, axis=0)\n",
    "OUT_T = tf.concat(Tout_etaphis, axis=0)\n",
    "INM_T = tf.concat(Tin_m_etaphis, axis=0)\n",
    "OUTM_T = tf.concat(Tout_m_etaphis, axis=0)\n",
    "\n",
    "IN_F = tf.concat(Fin_etaphis, axis=0)\n",
    "OUT_F = tf.concat(Fout_etaphis, axis=0)\n",
    "INM_F = tf.concat(Fin_m_etaphis, axis=0)\n",
    "OUTM_F = tf.concat(Fout_m_etaphis, axis=0)"
   ]
  },
  {
   "cell_type": "markdown",
   "id": "57b9a41a",
   "metadata": {},
   "source": [
    "# By algo:\n"
   ]
  },
  {
   "cell_type": "code",
   "execution_count": 14,
   "id": "34e31b91",
   "metadata": {
    "ExecuteTime": {
     "end_time": "2021-11-23T14:22:25.055217Z",
     "start_time": "2021-11-23T14:15:48.350602Z"
    }
   },
   "outputs": [
    {
     "name": "stderr",
     "output_type": "stream",
     "text": [
      "ERROR:root:Internal Python error in the inspect module.\n",
      "Below is the traceback from this internal error.\n",
      "\n"
     ]
    },
    {
     "name": "stdout",
     "output_type": "stream",
     "text": [
      "Traceback (most recent call last):\n",
      "  File \"/cvmfs/sft.cern.ch/lcg/views/LCG_100cuda/x86_64-centos7-gcc8-opt/lib/python3.7/site-packages/IPython/core/interactiveshell.py\", line 3296, in run_code\n",
      "    exec(code_obj, self.user_global_ns, self.user_ns)\n",
      "  File \"<ipython-input-14-1ee763e6e0ed>\", line 18, in <module>\n",
      "    hep.cms.label(llabel=\"Simulation\", rlabel='14 TeV',loc=0, ax=a)\n",
      "NameError: name 'hep' is not defined\n",
      "\n",
      "During handling of the above exception, another exception occurred:\n",
      "\n",
      "Traceback (most recent call last):\n",
      "  File \"/cvmfs/sft.cern.ch/lcg/views/LCG_100cuda/x86_64-centos7-gcc8-opt/lib/python3.7/site-packages/IPython/core/interactiveshell.py\", line 2033, in showtraceback\n",
      "    stb = value._render_traceback_()\n",
      "AttributeError: 'NameError' object has no attribute '_render_traceback_'\n",
      "\n",
      "During handling of the above exception, another exception occurred:\n",
      "\n",
      "Traceback (most recent call last):\n",
      "  File \"/cvmfs/sft.cern.ch/lcg/views/LCG_100cuda/x86_64-centos7-gcc8-opt/lib/python3.7/site-packages/IPython/core/ultratb.py\", line 1095, in get_records\n",
      "    return _fixed_getinnerframes(etb, number_of_lines_of_context, tb_offset)\n",
      "  File \"/cvmfs/sft.cern.ch/lcg/views/LCG_100cuda/x86_64-centos7-gcc8-opt/lib/python3.7/site-packages/IPython/core/ultratb.py\", line 313, in wrapped\n",
      "    return f(*args, **kwargs)\n",
      "  File \"/cvmfs/sft.cern.ch/lcg/views/LCG_100cuda/x86_64-centos7-gcc8-opt/lib/python3.7/site-packages/IPython/core/ultratb.py\", line 347, in _fixed_getinnerframes\n",
      "    records = fix_frame_records_filenames(inspect.getinnerframes(etb, context))\n",
      "  File \"/cvmfs/sft.cern.ch/lcg/releases/Python/3.7.6-7a85e/x86_64-centos7-gcc8-opt/lib/python3.7/inspect.py\", line 1502, in getinnerframes\n",
      "    frameinfo = (tb.tb_frame,) + getframeinfo(tb, context)\n",
      "  File \"/cvmfs/sft.cern.ch/lcg/releases/Python/3.7.6-7a85e/x86_64-centos7-gcc8-opt/lib/python3.7/inspect.py\", line 1460, in getframeinfo\n",
      "    filename = getsourcefile(frame) or getfile(frame)\n",
      "  File \"/cvmfs/sft.cern.ch/lcg/releases/Python/3.7.6-7a85e/x86_64-centos7-gcc8-opt/lib/python3.7/inspect.py\", line 696, in getsourcefile\n",
      "    if getattr(getmodule(object, filename), '__loader__', None) is not None:\n",
      "  File \"/cvmfs/sft.cern.ch/lcg/releases/Python/3.7.6-7a85e/x86_64-centos7-gcc8-opt/lib/python3.7/inspect.py\", line 725, in getmodule\n",
      "    file = getabsfile(object, _filename)\n",
      "  File \"/cvmfs/sft.cern.ch/lcg/releases/Python/3.7.6-7a85e/x86_64-centos7-gcc8-opt/lib/python3.7/inspect.py\", line 709, in getabsfile\n",
      "    return os.path.normcase(os.path.abspath(_filename))\n",
      "  File \"/cvmfs/sft.cern.ch/lcg/releases/Python/3.7.6-7a85e/x86_64-centos7-gcc8-opt/lib/python3.7/posixpath.py\", line 383, in abspath\n",
      "    cwd = os.getcwd()\n",
      "FileNotFoundError: [Errno 2] No such file or directory\n"
     ]
    },
    {
     "ename": "NameError",
     "evalue": "name 'hep' is not defined",
     "output_type": "error",
     "traceback": [
      "\u001b[0;31m---------------------------------------------------------------------------\u001b[0m"
     ]
    },
    {
     "name": "stderr",
     "output_type": "stream",
     "text": [
      "/cvmfs/sft.cern.ch/lcg/views/LCG_100cuda/x86_64-centos7-gcc8-opt/lib/python3.7/site-packages/matplotlib/colors.py:1207: RuntimeWarning: invalid value encountered in less_equal\n",
      "  mask |= resdat <= 0\n"
     ]
    },
    {
     "data": {
      "image/png": "[encoded data removed]",
      "text/plain": [
       "<Figure size 1500x1500 with 4 Axes>"
      ]
     },
     "metadata": {
      "needs_background": "light"
     },
     "output_type": "display_data"
    }
   ],
   "source": [
    "fig, ((ax,ay), (bx,by)) = plt.subplots(2,2, figsize=(15,15), dpi=100)\n",
    "plt.subplots_adjust( hspace=0.3, wspace=0.3)\n",
    "\n",
    "\n",
    "brange =((-0.5,0.5), (-0.1, 0.25))\n",
    "nbins=(60,60)\n",
    "\n",
    "A = ax.hist2d( IN_T[:,1], IN_T[:,0], bins=nbins, range=brange,cmin=1, norm=colors.LogNorm( vmin=1, vmax=1500))\n",
    "amax = np.max(A[0])\n",
    "ay.hist2d( OUT_T[:,1], OUT_T[:,0], bins=nbins, range=brange,cmin=1, norm=colors.LogNorm(vmin=1, vmax=1500))\n",
    "\n",
    "bx.hist2d( IN_F[:,1], IN_F[:,0], bins=nbins, range=brange,cmin=1,  norm=colors.LogNorm(vmin=1, vmax=1500))\n",
    "im = by.hist2d( OUT_F[:,1], OUT_F[:,0], bins=nbins, range=brange,cmin=1, norm=colors.LogNorm(vmin=1, vmax=1500))\n",
    "\n",
    "for a in [ax,ay, bx,by]:\n",
    "    a.set_xlabel(\"$\\Delta\\phi$\")\n",
    "    a.set_ylabel(\"$\\Delta\\eta$\")\n",
    "    hep.cms.label(llabel=\"Simulation\", rlabel='14 TeV',loc=0, ax=a)\n",
    "    \n",
    "x = 0.05\n",
    "y = 0.88\n",
    "ax.text(x,y, \"DeepSC: clustered ele/$\\gamma$\", transform=ax.transAxes,  fontsize=23)\n",
    "ay.text(x,y, \"DeepSC: rejected ele/$\\gamma$\", transform=ay.transAxes,  fontsize=23)\n",
    "bx.text(x,y, \"DeepSC: clustered PU/noise\", transform=bx.transAxes,  fontsize=23)\n",
    "by.text(x,y, \"DeepSC: rejected PU/noise\", transform=by.transAxes,  fontsize=23)\n",
    "\n",
    "fig.subplots_adjust(right=0.9)\n",
    "cbar_ax = fig.add_axes([0.95, 0.15, 0.03, 0.7])\n",
    "fig.colorbar(im[3], cax=cbar_ax, label=\"N. clusters\")"
   ]
  },
  {
   "cell_type": "code",
   "execution_count": null,
   "id": "195c1088",
   "metadata": {
    "ExecuteTime": {
     "end_time": "2021-11-23T13:38:30.145469Z",
     "start_time": "2021-11-23T13:34:57.518Z"
    }
   },
   "outputs": [],
   "source": [
    "fig, ((ax,ay), (bx,by)) = plt.subplots(2,2, figsize=(15,15), dpi=100)\n",
    "plt.subplots_adjust( hspace=0.3, wspace=0.3)\n",
    "\n",
    "\n",
    "brange =((-0.5,0.5), (-0.1, 0.25))\n",
    "nbins=(60,60)\n",
    "\n",
    "A = ax.hist2d( INM_T[:,1], INM_T[:,0], bins=nbins, range=brange,cmin=1, norm=colors.LogNorm( vmin=1, vmax=1500))\n",
    "amax = np.max(A[0])\n",
    "ay.hist2d( OUTM_T[:,1], OUTM_T[:,0], bins=nbins, range=brange,cmin=1, norm=colors.LogNorm(vmin=1, vmax=1500))\n",
    "\n",
    "bx.hist2d( INM_F[:,1], INM_F[:,0], bins=nbins, range=brange,cmin=1,  norm=colors.LogNorm(vmin=1, vmax=1500))\n",
    "im = by.hist2d( OUTM_F[:,1], OUTM_F[:,0], bins=nbins, range=brange,cmin=1, norm=colors.LogNorm(vmin=1, vmax=1500))\n",
    "\n",
    "for a in [ax,ay, bx,by]:\n",
    "    a.set_xlabel(\"$\\Delta\\phi$\")\n",
    "    a.set_ylabel(\"$\\Delta\\eta$\")\n",
    "    hep.cms.label(llabel=\"Simulation\", rlabel='14 TeV',loc=0, ax=a)\n",
    "    \n",
    "x = 0.05\n",
    "y = 0.88\n",
    "ax.text(x,y, \"Mustache: clustered ele/$\\gamma$\", transform=ax.transAxes,  fontsize=23)\n",
    "ay.text(x,y, \"Mustache: rejected ele/$\\gamma$\", transform=ay.transAxes,  fontsize=23)\n",
    "bx.text(x,y, \"Mustache: clustered PU/noise\", transform=bx.transAxes,  fontsize=23)\n",
    "by.text(x,y, \"Mustache: rejected PU/noise\", transform=by.transAxes,  fontsize=23)\n",
    "\n",
    "fig.subplots_adjust(right=0.9)\n",
    "cbar_ax = fig.add_axes([0.95, 0.15, 0.03, 0.7])\n",
    "fig.colorbar(im[3], cax=cbar_ax, label=\"N. clusters\")"
   ]
  },
  {
   "cell_type": "code",
   "execution_count": null,
   "id": "949af01b",
   "metadata": {},
   "outputs": [],
   "source": []
  }
 ],
 "metadata": {
  "kernelspec": {
   "display_name": "Python 3",
   "language": "python",
   "name": "python3"
  },
  "language_info": {
   "codemirror_mode": {
    "name": "ipython",
    "version": 3
   },
   "file_extension": ".py",
   "mimetype": "text/x-python",
   "name": "python",
   "nbconvert_exporter": "python",
   "pygments_lexer": "ipython3",
   "version": "3.7.6"
  },
  "toc": {
   "base_numbering": 1,
   "nav_menu": {},
   "number_sections": true,
   "sideBar": true,
   "skip_h1_title": false,
   "title_cell": "Table of Contents",
   "title_sidebar": "Contents",
   "toc_cell": false,
   "toc_position": {},
   "toc_section_display": true,
   "toc_window_display": false
  },
  "varInspector": {
   "cols": {
    "lenName": 16,
    "lenType": 16,
    "lenVar": 40
   },
   "kernels_config": {
    "python": {
     "delete_cmd_postfix": "",
     "delete_cmd_prefix": "del ",
     "library": "var_list.py",
     "varRefreshCmd": "print(var_dic_list())"
    },
    "r": {
     "delete_cmd_postfix": ") ",
     "delete_cmd_prefix": "rm(",
     "library": "var_list.r",
     "varRefreshCmd": "cat(var_dic_list()) "
    }
   },
   "types_to_exclude": [
    "module",
    "function",
    "builtin_function_or_method",
    "instance",
    "_Feature"
   ],
   "window_display": false
  }
 },
 "nbformat": 4,
 "nbformat_minor": 5
}
