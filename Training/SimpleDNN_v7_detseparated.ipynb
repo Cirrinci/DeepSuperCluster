{
 "cells": [
  {
   "cell_type": "code",
   "execution_count": 1,
   "metadata": {
    "ExecuteTime": {
     "end_time": "2020-05-04T14:22:35.838781Z",
     "start_time": "2020-05-04T14:22:35.831130Z"
    }
   },
   "outputs": [],
   "source": [
    "import pickle\n",
    "import numpy as np \n",
    "import pandas as pd\n",
    "import matplotlib.colors as colors\n",
    "import matplotlib.pyplot as plt\n",
    "import matplotlib as mpl\n",
    "import os \n",
    "import glob\n",
    "\n",
    "mpl.rcParams['figure.figsize'] = (5,5)\n",
    "mpl.rcParams['figure.dpi'] = 150\n",
    "mpl.rcParams[\"image.origin\"] = 'lower'"
   ]
  },
  {
   "cell_type": "code",
   "execution_count": 2,
   "metadata": {
    "ExecuteTime": {
     "end_time": "2020-05-04T14:22:36.542179Z",
     "start_time": "2020-05-04T14:22:36.538268Z"
    }
   },
   "outputs": [],
   "source": [
    "model_dir = \"../models/v8_shrinkwindows/\"\n",
    "model_name = \"v8_shrinkwindows\"\n",
    "model_version = 1\n",
    "cols = [\"seed_eta\", \"seed_phi\", \"seed_iz\",\"en_seed\",\"et_seed\",\n",
    "        \"cluster_deta\", \"cluster_dphi\", \"en_cluster\", \"et_cluster\",\n",
    "       \"seed_f5_r9\", \"seed_f5_sigmaIetaIeta\",\"seed_f5_sigmaIetaIphi\",\"seed_f5_sigmaIphiIphi\",\"seed_swissCross\",\"seed_nxtals\",\n",
    "        \"cl_f5_r9\", \"cl_f5_sigmaIetaIeta\",\"cl_f5_sigmaIetaIphi\",\"cl_f5_sigmaIphiIphi\",\"cl_swissCross\", \"cl_nxtals\"]\n",
    "os.makedirs(model_dir, exist_ok = True)\n",
    "with open(\"variables.txt\", \"w\") as of:\n",
    "    of.write(\"\\n\".join(cols))"
   ]
  },
  {
   "cell_type": "markdown",
   "metadata": {},
   "source": [
    "# Data preparation\n",
    "## Input: \n",
    "- E seed\n",
    "- eta,phi,z seed\n",
    "- E cluster\n",
    "- delta_eta,delta_phi,\n",
    "\n",
    "Filter only windows with the calo"
   ]
  },
  {
   "cell_type": "code",
   "execution_count": 3,
   "metadata": {},
   "outputs": [],
   "source": [
    "files_ele = \"/storage/ECAL/training_data/electrons/numpy_v10/training/\"\n",
    "files_gamma = \"/storage/ECAL/training_data/gammas/numpy_v10/training/\""
   ]
  },
  {
   "cell_type": "code",
   "execution_count": 4,
   "metadata": {
    "ExecuteTime": {
     "end_time": "2020-05-04T14:22:38.611857Z",
     "start_time": "2020-05-04T14:22:38.606202Z"
    }
   },
   "outputs": [],
   "source": [
    "files_ele = \"/eos/user/r/rdfexp/ecal/cluster/output_deepcluster_dumper/electrons/numpy_v9/training/\"\n",
    "files_gamma = \"/eos/user/r/rdfexp/ecal/cluster/output_deepcluster_dumper/gammas/numpy_v9/training/\""
   ]
  },
  {
   "cell_type": "code",
   "execution_count": 4,
   "metadata": {
    "ExecuteTime": {
     "start_time": "2020-05-04T14:22:39.023Z"
    }
   },
   "outputs": [
    {
     "name": "stdout",
     "output_type": "stream",
     "text": [
      "N events ele:  7932037\n",
      "N events gamma:  7240773\n"
     ]
    }
   ],
   "source": [
    "datas_ele = []\n",
    "\n",
    "for f in glob.glob(files_ele+\"*.pkl\"):\n",
    "    d = pickle.load(open(f, \"rb\"))   \n",
    "    datas_ele.append(d[d.is_seed == False])\n",
    "    \n",
    "data_ele = pd.concat(datas_ele, ignore_index=True)\n",
    "data_ele[\"particle\"] = \"electron\"\n",
    "print(\"N events ele: \",len(data_ele))\n",
    "\n",
    "datas_gamma = []\n",
    "for f in glob.glob(files_gamma+\"*.pkl\"):\n",
    "    d = pickle.load(open(f, \"rb\"))  \n",
    "    datas_gamma.append(d[d.is_seed==False])\n",
    "    \n",
    "data_gamma = pd.concat(datas_gamma, ignore_index=True)\n",
    "data_gamma[\"particle\"] = \"gamma\"\n",
    "print(\"N events gamma: \",len(data_gamma))\n",
    "\n",
    "if data_ele.shape[0]> data_gamma.shape[0]:\n",
    "    data = pd.concat([data_gamma, data_ele.iloc[0:len(data_gamma)]], ignore_index=True)\n",
    "else:\n",
    "    data = pd.concat([data_gamma.iloc[0:len(data_ele)], data_ele], ignore_index=True)\n",
    "    \n",
    "del data_gamma\n",
    "del data_ele"
   ]
  },
  {
   "cell_type": "markdown",
   "metadata": {},
   "source": [
    "Balance gamma and electron"
   ]
  },
  {
   "cell_type": "code",
   "execution_count": 5,
   "metadata": {
    "ExecuteTime": {
     "start_time": "2020-05-04T14:14:26.563Z"
    }
   },
   "outputs": [],
   "source": [
    "data_EB = data[abs(data.seed_eta)<1.479]\n",
    "data_EE = data[abs(data.seed_eta)>=1.479]"
   ]
  },
  {
   "cell_type": "code",
   "execution_count": 6,
   "metadata": {
    "ExecuteTime": {
     "end_time": "2020-05-03T14:58:15.903327Z",
     "start_time": "2020-05-03T14:58:12.456898Z"
    }
   },
   "outputs": [
    {
     "name": "stdout",
     "output_type": "stream",
     "text": [
      "Sample in EB: 9605925\n",
      "Sample in EE: 4875621\n",
      "Sample in EB in SC: 803186\n",
      "Sample in EE in SC: 444375\n",
      "N in supercluster:  1247561\n",
      "N out supercluster:  13233985\n",
      "10.607886107372705\n"
     ]
    }
   ],
   "source": [
    "print(\"Sample in EB:\", len(data[abs(data.seed_eta) <1.479]))\n",
    "print(\"Sample in EE:\", len(data[abs(data.seed_eta) >=1.479]))\n",
    "print(\"Sample in EB in SC:\", len(data[(abs(data.seed_eta) <1.479)&(data.in_scluster)]))\n",
    "print(\"Sample in EE in SC:\", len(data[(abs(data.seed_eta) >=1.479)&(data.in_scluster)]))\n",
    "print(\"N in supercluster: \", len(data[ data.in_scluster]))\n",
    "print(\"N out supercluster: \", len(data[data.in_scluster == False]))\n",
    "w = len(data[(data.is_seed == False) & (data.in_scluster == False)]) / len(data[(data.is_seed == False) & (data.in_scluster==True)])\n",
    "print(w)"
   ]
  },
  {
   "cell_type": "code",
   "execution_count": 8,
   "metadata": {
    "ExecuteTime": {
     "end_time": "2020-05-03T14:58:46.167174Z",
     "start_time": "2020-05-03T14:58:45.165966Z"
    }
   },
   "outputs": [
    {
     "name": "stdout",
     "output_type": "stream",
     "text": [
      "caloMatch samples:  11639606\n",
      "Not caloMatch samples:  2841940\n"
     ]
    }
   ],
   "source": [
    "print(\"caloMatch samples: \", len(data[data.is_calo_matched]))\n",
    "print(\"Not caloMatch samples: \", len(data[data.is_calo_matched ==False]))"
   ]
  },
  {
   "cell_type": "markdown",
   "metadata": {},
   "source": [
    "## Check plots"
   ]
  },
  {
   "cell_type": "code",
   "execution_count": 9,
   "metadata": {
    "ExecuteTime": {
     "end_time": "2020-04-27T14:07:39.272642Z",
     "start_time": "2020-04-27T14:07:38.560302Z"
    }
   },
   "outputs": [],
   "source": [
    "data_in = data[ (data.is_seed == False) & data.in_scluster]\n",
    "data_out =  data[(data.is_seed == False) & (data.in_scluster == False)]"
   ]
  },
  {
   "cell_type": "markdown",
   "metadata": {},
   "source": [
    "## Weights by DeltaPhi"
   ]
  },
  {
   "cell_type": "code",
   "execution_count": 9,
   "metadata": {
    "ExecuteTime": {
     "end_time": "2020-05-03T19:39:50.337125Z",
     "start_time": "2020-05-03T19:39:50.330651Z"
    }
   },
   "outputs": [],
   "source": [
    "data = data_EE"
   ]
  },
  {
   "cell_type": "code",
   "execution_count": 46,
   "metadata": {},
   "outputs": [],
   "source": [
    "inSC = len(data[(data.is_seed == False) & (data.in_scluster == True)])\n",
    "data = pd.concat([data[(data.is_seed == False) & (data.in_scluster == True)],\n",
    "                  data[(data.is_seed == False) & (data.in_scluster == False)].iloc[:25*inSC]])"
   ]
  },
  {
   "cell_type": "code",
   "execution_count": 10,
   "metadata": {
    "ExecuteTime": {
     "end_time": "2020-05-03T19:40:22.348120Z",
     "start_time": "2020-05-03T19:40:21.924777Z"
    }
   },
   "outputs": [
    {
     "name": "stdout",
     "output_type": "stream",
     "text": [
      "9.971861603375528\n"
     ]
    }
   ],
   "source": [
    "X = data[ cols ].values\n",
    "truth = data[[\"in_scluster\"]].values\n",
    "y = np.array(truth[:], dtype=int)\n",
    "w = len(data[(data.is_seed == False) & (data.in_scluster == False)]) / len(data[(data.is_seed == False) & (data.in_scluster==True)])\n",
    "print(w)\n",
    "data[\"w\"] = data.in_scluster.apply(lambda a: w if a else 1.)\n",
    "weight = data.w.values"
   ]
  },
  {
   "cell_type": "code",
   "execution_count": 15,
   "metadata": {
    "ExecuteTime": {
     "end_time": "2020-05-03T16:59:09.418959Z",
     "start_time": "2020-05-03T16:59:08.383315Z"
    }
   },
   "outputs": [],
   "source": [
    "from sklearn.preprocessing import MinMaxScaler, StandardScaler, QuantileTransformer\n",
    "from sklearn.model_selection import train_test_split\n",
    "scaler = StandardScaler()\n",
    "X_scaled = scaler.fit_transform(X)\n",
    "pickle.dump(scaler, open(model_dir + \"/scaler_model_v{}_EB.pkl\".format(model_version), \"wb\"))"
   ]
  },
  {
   "cell_type": "code",
   "execution_count": 11,
   "metadata": {
    "ExecuteTime": {
     "end_time": "2020-05-03T19:41:51.724830Z",
     "start_time": "2020-05-03T19:41:49.713894Z"
    }
   },
   "outputs": [],
   "source": [
    "from sklearn.preprocessing import MinMaxScaler, StandardScaler, QuantileTransformer\n",
    "from sklearn.model_selection import train_test_split\n",
    "scaler = StandardScaler()\n",
    "X_scaled = scaler.fit_transform(X)\n",
    "pickle.dump(scaler, open(model_dir+\"/scaler_model_v{}_EE.pkl\".format(model_version), \"wb\"))"
   ]
  },
  {
   "cell_type": "code",
   "execution_count": 68,
   "metadata": {
    "ExecuteTime": {
     "end_time": "2020-04-27T20:36:06.424318Z",
     "start_time": "2020-04-27T20:36:06.415406Z"
    }
   },
   "outputs": [
    {
     "data": {
      "text/plain": [
       "array([-9.48937722e-02, -2.59092069e-02, -3.23802034e-02,  8.54387012e+01,\n",
       "        1.95493967e+01, -7.99008024e-03,  1.68780274e-05,  8.92748605e+00,\n",
       "        1.92283524e+00,  1.08804190e+00,  3.39450646e-02,  1.85485538e-05,\n",
       "        4.13554904e-02,  4.96716655e-01,  5.44590774e+00,  4.09401210e+00,\n",
       "        3.71462585e-02,  4.80538918e-05,  4.39461957e-02,  5.70297494e-01,\n",
       "        3.15806715e+00])"
      ]
     },
     "execution_count": 68,
     "metadata": {},
     "output_type": "execute_result"
    }
   ],
   "source": [
    "scaler.mean_"
   ]
  },
  {
   "cell_type": "code",
   "execution_count": 69,
   "metadata": {
    "ExecuteTime": {
     "end_time": "2020-04-27T20:36:11.862086Z",
     "start_time": "2020-04-27T20:36:11.856918Z"
    }
   },
   "outputs": [
    {
     "data": {
      "text/plain": [
       "array([2.27502784e+00, 1.80358311e+00, 9.99475624e-01, 1.25874656e+02,\n",
       "       2.62122915e+01, 1.01794340e-01, 1.81101293e-01, 6.05398279e+00,\n",
       "       1.77231292e+00, 5.03589571e-01, 1.40048073e-02, 4.14562658e-04,\n",
       "       1.53689902e-02, 4.13270103e-01, 5.68762983e+00, 9.93354108e+00,\n",
       "       1.65018741e-02, 5.45041026e-04, 1.80243836e-02, 4.37347302e-01,\n",
       "       4.28826919e+00])"
      ]
     },
     "execution_count": 69,
     "metadata": {},
     "output_type": "execute_result"
    }
   ],
   "source": [
    "scaler.scale_"
   ]
  },
  {
   "cell_type": "code",
   "execution_count": 12,
   "metadata": {
    "ExecuteTime": {
     "end_time": "2020-05-03T19:42:21.213537Z",
     "start_time": "2020-05-03T19:42:20.253569Z"
    }
   },
   "outputs": [],
   "source": [
    "X_train, X_val, y_train, y_val, w_train, w_val = train_test_split(X_scaled, y, weight, test_size=0.30)"
   ]
  },
  {
   "cell_type": "markdown",
   "metadata": {},
   "source": [
    "### Some plots"
   ]
  },
  {
   "cell_type": "code",
   "execution_count": 13,
   "metadata": {},
   "outputs": [
    {
     "data": {
      "text/plain": [
       "(array([ 879198., 1157476.,  355561.,  156087.,   99604.,   80121.,\n",
       "          70304.,   65799.,   62245.,   60431.,   58162.,   57469.,\n",
       "          57348.,   56096.,   55020.,   53636.,   53590.,   54743.,\n",
       "          53722.,   53496.,   52947.,   53331.,   52992.,   52850.,\n",
       "          51693.,   52015.,   51295.,   51462.,   51289.,   51670.,\n",
       "          50930.,   50379.,   51134.,   50516.,   50429.,   49248.,\n",
       "          48468.,   49130.,   48456.,   47443.,   45860.,   45847.,\n",
       "          43142.,   41491.,   37639.,   33660.,   27916.,   20321.,\n",
       "          12643.,    6076.]),\n",
       " array([  0.,   2.,   4.,   6.,   8.,  10.,  12.,  14.,  16.,  18.,  20.,\n",
       "         22.,  24.,  26.,  28.,  30.,  32.,  34.,  36.,  38.,  40.,  42.,\n",
       "         44.,  46.,  48.,  50.,  52.,  54.,  56.,  58.,  60.,  62.,  64.,\n",
       "         66.,  68.,  70.,  72.,  74.,  76.,  78.,  80.,  82.,  84.,  86.,\n",
       "         88.,  90.,  92.,  94.,  96.,  98., 100.]),\n",
       " <a list of 50 Patch objects>)"
      ]
     },
     "execution_count": 13,
     "metadata": {},
     "output_type": "execute_result"
    },
    {
     "data": {
      "image/png": "[encoded data removed]",
      "text/plain": [
       "<Figure size 750x750 with 1 Axes>"
      ]
     },
     "metadata": {
      "needs_background": "light"
     },
     "output_type": "display_data"
    }
   ],
   "source": [
    "plt.hist(data.et_seed, bins=50, range=(0,100))"
   ]
  },
  {
   "cell_type": "markdown",
   "metadata": {},
   "source": [
    "### Balancing the et regions"
   ]
  },
  {
   "cell_type": "code",
   "execution_count": 14,
   "metadata": {},
   "outputs": [],
   "source": [
    "small_et = data[data.et_seed < 20].w.sum()\n",
    "big_et = data[data.et_seed > 20].w.sum()"
   ]
  },
  {
   "cell_type": "code",
   "execution_count": 15,
   "metadata": {},
   "outputs": [
    {
     "name": "stdout",
     "output_type": "stream",
     "text": [
      "4429501.345822784\n",
      "4432990.65417721\n"
     ]
    }
   ],
   "source": [
    "print(small_et)\n",
    "print(big_et)"
   ]
  },
  {
   "cell_type": "markdown",
   "metadata": {},
   "source": [
    "# Training"
   ]
  },
  {
   "cell_type": "code",
   "execution_count": 16,
   "metadata": {
    "ExecuteTime": {
     "end_time": "2020-05-03T15:15:19.694207Z",
     "start_time": "2020-05-03T15:15:13.962325Z"
    }
   },
   "outputs": [
    {
     "name": "stderr",
     "output_type": "stream",
     "text": [
      "Using TensorFlow backend.\n"
     ]
    }
   ],
   "source": [
    "# Import all the required Libraries\n",
    "import tensorflow\n",
    "import keras\n",
    "import pandas as pd\n",
    "import numpy as np\n",
    "import matplotlib.pyplot as plt\n",
    "from keras.datasets import mnist\n",
    "from keras.models import Model, Sequential\n",
    "from keras.layers import Dense, Conv2D, Dropout, BatchNormalization, Input, Reshape, Flatten, Deconvolution2D, Conv2DTranspose, MaxPooling2D, UpSampling2D, Lambda\n",
    "from keras.layers.advanced_activations import LeakyReLU\n",
    "from keras.optimizers import adam\n",
    "from keras import callbacks\n",
    "from keras import backend as K\n",
    "from keras import regularizers\n",
    "from keras.callbacks import *"
   ]
  },
  {
   "cell_type": "code",
   "execution_count": 17,
   "metadata": {
    "ExecuteTime": {
     "end_time": "2020-05-03T19:43:37.659152Z",
     "start_time": "2020-05-03T19:43:37.313696Z"
    }
   },
   "outputs": [
    {
     "name": "stdout",
     "output_type": "stream",
     "text": [
      "Model: \"sequential_1\"\n",
      "_________________________________________________________________\n",
      "Layer (type)                 Output Shape              Param #   \n",
      "=================================================================\n",
      "dense_1 (Dense)              (None, 100)               2200      \n",
      "_________________________________________________________________\n",
      "dropout_1 (Dropout)          (None, 100)               0         \n",
      "_________________________________________________________________\n",
      "dense_2 (Dense)              (None, 100)               10100     \n",
      "_________________________________________________________________\n",
      "dropout_2 (Dropout)          (None, 100)               0         \n",
      "_________________________________________________________________\n",
      "dense_3 (Dense)              (None, 100)               10100     \n",
      "_________________________________________________________________\n",
      "dropout_3 (Dropout)          (None, 100)               0         \n",
      "_________________________________________________________________\n",
      "dense_4 (Dense)              (None, 100)               10100     \n",
      "_________________________________________________________________\n",
      "dropout_4 (Dropout)          (None, 100)               0         \n",
      "_________________________________________________________________\n",
      "dense_5 (Dense)              (None, 1)                 101       \n",
      "=================================================================\n",
      "Total params: 32,601\n",
      "Trainable params: 32,601\n",
      "Non-trainable params: 0\n",
      "_________________________________________________________________\n"
     ]
    }
   ],
   "source": [
    "model = Sequential()\n",
    "model.add(Dense(100, input_dim=X_val.shape[1], activation=\"relu\",kernel_regularizer=regularizers.l2(0.01)))\n",
    "model.add(Dropout(0.05))\n",
    "model.add(Dense(100, activation=\"relu\",kernel_regularizer=regularizers.l2(0.01)))\n",
    "model.add(Dropout(0.05))\n",
    "model.add(Dense(100, activation=\"relu\"))\n",
    "model.add(Dropout(0.05))\n",
    "model.add(Dense(100, activation=\"relu\"))\n",
    "model.add(Dropout(0.05))\n",
    "model.add(Dense(1, activation=\"sigmoid\"))\n",
    "\n",
    "\n",
    "model.compile(optimizer='adagrad',\n",
    "              loss='binary_crossentropy',\n",
    "              metrics=['accuracy'])\n",
    "\n",
    "model.summary()"
   ]
  },
  {
   "cell_type": "code",
   "execution_count": 49,
   "metadata": {
    "ExecuteTime": {
     "end_time": "2020-05-03T19:42:50.162047Z",
     "start_time": "2020-05-03T19:42:49.929560Z"
    }
   },
   "outputs": [
    {
     "name": "stdout",
     "output_type": "stream",
     "text": [
      "Model: \"sequential_5\"\n",
      "_________________________________________________________________\n",
      "Layer (type)                 Output Shape              Param #   \n",
      "=================================================================\n",
      "dense_23 (Dense)             (None, 200)               4400      \n",
      "_________________________________________________________________\n",
      "dropout_19 (Dropout)         (None, 200)               0         \n",
      "_________________________________________________________________\n",
      "dense_24 (Dense)             (None, 200)               40200     \n",
      "_________________________________________________________________\n",
      "dropout_20 (Dropout)         (None, 200)               0         \n",
      "_________________________________________________________________\n",
      "dense_25 (Dense)             (None, 100)               20100     \n",
      "_________________________________________________________________\n",
      "dropout_21 (Dropout)         (None, 100)               0         \n",
      "_________________________________________________________________\n",
      "dense_26 (Dense)             (None, 100)               10100     \n",
      "_________________________________________________________________\n",
      "dropout_22 (Dropout)         (None, 100)               0         \n",
      "_________________________________________________________________\n",
      "dense_27 (Dense)             (None, 50)                5050      \n",
      "_________________________________________________________________\n",
      "dropout_23 (Dropout)         (None, 50)                0         \n",
      "_________________________________________________________________\n",
      "dense_28 (Dense)             (None, 1)                 51        \n",
      "=================================================================\n",
      "Total params: 79,901\n",
      "Trainable params: 79,901\n",
      "Non-trainable params: 0\n",
      "_________________________________________________________________\n"
     ]
    }
   ],
   "source": [
    "model = Sequential()\n",
    "model.add(Dense(200, input_dim=X_val.shape[1], activation=\"relu\",kernel_regularizer=regularizers.l2(0.01)))\n",
    "model.add(Dropout(0.1))\n",
    "model.add(Dense(200, activation=\"relu\",kernel_regularizer=regularizers.l2(0.01)))\n",
    "model.add(Dropout(0.1))\n",
    "model.add(Dense(100, activation=\"relu\"))\n",
    "model.add(Dropout(0.05))\n",
    "model.add(Dense(100, activation=\"relu\"))\n",
    "model.add(Dropout(0.05))\n",
    "model.add(Dense(50, activation=\"relu\"))\n",
    "model.add(Dropout(0.01))\n",
    "model.add(Dense(1, activation=\"sigmoid\"))\n",
    "\n",
    "\n",
    "model.compile(optimizer='adagrad',\n",
    "              loss='binary_crossentropy',\n",
    "              metrics=['accuracy'])\n",
    "\n",
    "model.summary()"
   ]
  },
  {
   "cell_type": "code",
   "execution_count": 23,
   "metadata": {
    "ExecuteTime": {
     "end_time": "2020-04-27T20:43:36.141251Z",
     "start_time": "2020-04-27T20:43:36.131252Z"
    }
   },
   "outputs": [],
   "source": [
    "import math\n",
    "def step_decay(epoch):\n",
    "    initial_lrate = 0.4\n",
    "    drop = 0.65\n",
    "    epochs_drop = 5.0\n",
    "    lrate = initial_lrate * math.pow(drop, math.floor((1+epoch)/epochs_drop))\n",
    "    if lrate < 0.002: return 0.002\n",
    "    return lrate"
   ]
  },
  {
   "cell_type": "code",
   "execution_count": 18,
   "metadata": {
    "ExecuteTime": {
     "end_time": "2020-05-03T17:51:50.420166Z",
     "start_time": "2020-05-03T17:00:34.510038Z"
    },
    "scrolled": false
   },
   "outputs": [
    {
     "name": "stdout",
     "output_type": "stream",
     "text": [
      "Train on 3412934 samples, validate on 1462687 samples\n",
      "Epoch 1/400\n",
      "3412934/3412934 [==============================] - 14s 4us/step - loss: 0.4563 - accuracy: 0.9295 - val_loss: 0.3108 - val_accuracy: 0.9358\n",
      "Epoch 2/400\n",
      "3412934/3412934 [==============================] - 14s 4us/step - loss: 0.3018 - accuracy: 0.9405 - val_loss: 0.2852 - val_accuracy: 0.9518\n",
      "\n",
      "Epoch 00002: val_loss improved from inf to 0.28522, saving model to ../models/v8_shrinkwindows//model_v1_EB.hd5\n",
      "Epoch 3/400\n",
      "3412934/3412934 [==============================] - 14s 4us/step - loss: 0.2822 - accuracy: 0.9431 - val_loss: 0.2682 - val_accuracy: 0.9421\n",
      "Epoch 4/400\n",
      "3412934/3412934 [==============================] - 14s 4us/step - loss: 0.2734 - accuracy: 0.9445 - val_loss: 0.2645 - val_accuracy: 0.9414\n",
      "\n",
      "Epoch 00004: val_loss improved from 0.28522 to 0.26450, saving model to ../models/v8_shrinkwindows//model_v1_EB.hd5\n",
      "Epoch 5/400\n",
      "3412934/3412934 [==============================] - 14s 4us/step - loss: 0.2672 - accuracy: 0.9455 - val_loss: 0.2607 - val_accuracy: 0.9368\n",
      "Epoch 6/400\n",
      "3412934/3412934 [==============================] - 15s 4us/step - loss: 0.2633 - accuracy: 0.9462 - val_loss: 0.2604 - val_accuracy: 0.9600\n",
      "\n",
      "Epoch 00006: val_loss improved from 0.26450 to 0.26038, saving model to ../models/v8_shrinkwindows//model_v1_EB.hd5\n",
      "Epoch 7/400\n",
      "3412934/3412934 [==============================] - 14s 4us/step - loss: 0.2605 - accuracy: 0.9465 - val_loss: 0.2574 - val_accuracy: 0.9361\n",
      "Epoch 8/400\n",
      "3412934/3412934 [==============================] - 14s 4us/step - loss: 0.2578 - accuracy: 0.9469 - val_loss: 0.2530 - val_accuracy: 0.9500\n",
      "\n",
      "Epoch 00008: val_loss improved from 0.26038 to 0.25305, saving model to ../models/v8_shrinkwindows//model_v1_EB.hd5\n",
      "Epoch 9/400\n",
      "3412934/3412934 [==============================] - 14s 4us/step - loss: 0.2559 - accuracy: 0.9473 - val_loss: 0.2500 - val_accuracy: 0.9537\n",
      "Epoch 10/400\n",
      "3412934/3412934 [==============================] - 14s 4us/step - loss: 0.2541 - accuracy: 0.9476 - val_loss: 0.2535 - val_accuracy: 0.9353\n",
      "\n",
      "Epoch 00010: val_loss did not improve from 0.25305\n",
      "Epoch 11/400\n",
      "3412934/3412934 [==============================] - 14s 4us/step - loss: 0.2520 - accuracy: 0.9479 - val_loss: 0.2466 - val_accuracy: 0.9435\n",
      "Epoch 12/400\n",
      "3412934/3412934 [==============================] - 14s 4us/step - loss: 0.2513 - accuracy: 0.9479 - val_loss: 0.2507 - val_accuracy: 0.9533\n",
      "\n",
      "Epoch 00012: val_loss improved from 0.25305 to 0.25066, saving model to ../models/v8_shrinkwindows//model_v1_EB.hd5\n",
      "Epoch 13/400\n",
      "3412934/3412934 [==============================] - 14s 4us/step - loss: 0.2499 - accuracy: 0.9481 - val_loss: 0.2483 - val_accuracy: 0.9412\n",
      "Epoch 14/400\n",
      "3412934/3412934 [==============================] - 14s 4us/step - loss: 0.2491 - accuracy: 0.9482 - val_loss: 0.2468 - val_accuracy: 0.9365\n",
      "\n",
      "Epoch 00014: val_loss improved from 0.25066 to 0.24680, saving model to ../models/v8_shrinkwindows//model_v1_EB.hd5\n",
      "Epoch 15/400\n",
      "3412934/3412934 [==============================] - 14s 4us/step - loss: 0.2480 - accuracy: 0.9484 - val_loss: 0.2419 - val_accuracy: 0.9492\n",
      "Epoch 16/400\n",
      "3412934/3412934 [==============================] - 14s 4us/step - loss: 0.2466 - accuracy: 0.9486 - val_loss: 0.2403 - val_accuracy: 0.9523\n",
      "\n",
      "Epoch 00016: val_loss improved from 0.24680 to 0.24029, saving model to ../models/v8_shrinkwindows//model_v1_EB.hd5\n",
      "Epoch 17/400\n",
      "3412934/3412934 [==============================] - 14s 4us/step - loss: 0.2460 - accuracy: 0.9489 - val_loss: 0.2407 - val_accuracy: 0.9529\n",
      "Epoch 18/400\n",
      "3412934/3412934 [==============================] - 14s 4us/step - loss: 0.2454 - accuracy: 0.9488 - val_loss: 0.2400 - val_accuracy: 0.9486\n",
      "\n",
      "Epoch 00018: val_loss improved from 0.24029 to 0.24000, saving model to ../models/v8_shrinkwindows//model_v1_EB.hd5\n",
      "Epoch 19/400\n",
      "3412934/3412934 [==============================] - 14s 4us/step - loss: 0.2447 - accuracy: 0.9489 - val_loss: 0.2470 - val_accuracy: 0.9630\n",
      "Epoch 20/400\n",
      "3412934/3412934 [==============================] - 14s 4us/step - loss: 0.2440 - accuracy: 0.9490 - val_loss: 0.2383 - val_accuracy: 0.9519\n",
      "\n",
      "Epoch 00020: val_loss improved from 0.24000 to 0.23834, saving model to ../models/v8_shrinkwindows//model_v1_EB.hd5\n",
      "Epoch 21/400\n",
      "3412934/3412934 [==============================] - 15s 4us/step - loss: 0.2432 - accuracy: 0.9491 - val_loss: 0.2384 - val_accuracy: 0.9456\n",
      "Epoch 22/400\n",
      "3412934/3412934 [==============================] - 14s 4us/step - loss: 0.2425 - accuracy: 0.9493 - val_loss: 0.2484 - val_accuracy: 0.9624\n",
      "\n",
      "Epoch 00022: val_loss did not improve from 0.23834\n",
      "Epoch 23/400\n",
      "3412934/3412934 [==============================] - 14s 4us/step - loss: 0.2422 - accuracy: 0.9493 - val_loss: 0.2430 - val_accuracy: 0.9602\n",
      "Epoch 24/400\n",
      "3412934/3412934 [==============================] - 14s 4us/step - loss: 0.2419 - accuracy: 0.9492 - val_loss: 0.2373 - val_accuracy: 0.9561\n",
      "\n",
      "Epoch 00024: val_loss improved from 0.23834 to 0.23725, saving model to ../models/v8_shrinkwindows//model_v1_EB.hd5\n",
      "Epoch 25/400\n",
      "3412934/3412934 [==============================] - 15s 4us/step - loss: 0.2411 - accuracy: 0.9494 - val_loss: 0.2374 - val_accuracy: 0.9543\n",
      "Epoch 26/400\n",
      "3412934/3412934 [==============================] - 16s 5us/step - loss: 0.2406 - accuracy: 0.9497 - val_loss: 0.2414 - val_accuracy: 0.9589\n",
      "\n",
      "Epoch 00026: val_loss did not improve from 0.23725\n",
      "Epoch 27/400\n",
      "3412934/3412934 [==============================] - 16s 5us/step - loss: 0.2402 - accuracy: 0.9496 - val_loss: 0.2487 - val_accuracy: 0.9322\n",
      "Epoch 28/400\n",
      "3412934/3412934 [==============================] - 16s 5us/step - loss: 0.2402 - accuracy: 0.9495 - val_loss: 0.2346 - val_accuracy: 0.9507\n",
      "\n",
      "Epoch 00028: val_loss improved from 0.23725 to 0.23456, saving model to ../models/v8_shrinkwindows//model_v1_EB.hd5\n",
      "Epoch 29/400\n",
      "3412934/3412934 [==============================] - 16s 5us/step - loss: 0.2399 - accuracy: 0.9494 - val_loss: 0.2424 - val_accuracy: 0.9608\n",
      "Epoch 30/400\n",
      "3412934/3412934 [==============================] - 15s 4us/step - loss: 0.2389 - accuracy: 0.9497 - val_loss: 0.2356 - val_accuracy: 0.9472\n",
      "\n",
      "Epoch 00030: val_loss did not improve from 0.23456\n",
      "Epoch 31/400\n",
      "3412934/3412934 [==============================] - 14s 4us/step - loss: 0.2387 - accuracy: 0.9497 - val_loss: 0.2350 - val_accuracy: 0.9465\n",
      "Epoch 32/400\n",
      "3412934/3412934 [==============================] - 14s 4us/step - loss: 0.2386 - accuracy: 0.9498 - val_loss: 0.2346 - val_accuracy: 0.9577\n",
      "\n",
      "Epoch 00032: val_loss did not improve from 0.23456\n",
      "Epoch 33/400\n",
      "3412934/3412934 [==============================] - 14s 4us/step - loss: 0.2379 - accuracy: 0.9498 - val_loss: 0.2352 - val_accuracy: 0.9430\n",
      "Epoch 34/400\n",
      "3412934/3412934 [==============================] - 14s 4us/step - loss: 0.2379 - accuracy: 0.9498 - val_loss: 0.2362 - val_accuracy: 0.9420\n",
      "\n",
      "Epoch 00034: val_loss did not improve from 0.23456\n",
      "Epoch 35/400\n",
      "3412934/3412934 [==============================] - 15s 4us/step - loss: 0.2373 - accuracy: 0.9498 - val_loss: 0.2343 - val_accuracy: 0.9441\n",
      "Epoch 36/400\n",
      "3412934/3412934 [==============================] - 14s 4us/step - loss: 0.2371 - accuracy: 0.9500 - val_loss: 0.2338 - val_accuracy: 0.9477\n",
      "\n",
      "Epoch 00036: val_loss improved from 0.23456 to 0.23376, saving model to ../models/v8_shrinkwindows//model_v1_EB.hd5\n",
      "Epoch 37/400\n",
      "3412934/3412934 [==============================] - 14s 4us/step - loss: 0.2369 - accuracy: 0.9500 - val_loss: 0.2336 - val_accuracy: 0.9463\n",
      "Epoch 38/400\n",
      "3412934/3412934 [==============================] - 14s 4us/step - loss: 0.2366 - accuracy: 0.9500 - val_loss: 0.2344 - val_accuracy: 0.9437\n",
      "\n",
      "Epoch 00038: val_loss did not improve from 0.23376\n",
      "Epoch 39/400\n",
      "3412934/3412934 [==============================] - 14s 4us/step - loss: 0.2362 - accuracy: 0.9503 - val_loss: 0.2318 - val_accuracy: 0.9481\n",
      "Epoch 40/400\n",
      "3412934/3412934 [==============================] - 14s 4us/step - loss: 0.2362 - accuracy: 0.9499 - val_loss: 0.2323 - val_accuracy: 0.9554\n",
      "\n",
      "Epoch 00040: val_loss improved from 0.23376 to 0.23235, saving model to ../models/v8_shrinkwindows//model_v1_EB.hd5\n",
      "Epoch 41/400\n",
      "3412934/3412934 [==============================] - 14s 4us/step - loss: 0.2359 - accuracy: 0.9501 - val_loss: 0.2365 - val_accuracy: 0.9602\n"
     ]
    },
    {
     "name": "stdout",
     "output_type": "stream",
     "text": [
      "Epoch 42/400\n",
      "3412934/3412934 [==============================] - 14s 4us/step - loss: 0.2357 - accuracy: 0.9501 - val_loss: 0.2329 - val_accuracy: 0.9458\n",
      "\n",
      "Epoch 00042: val_loss did not improve from 0.23235\n",
      "Epoch 43/400\n",
      "3412934/3412934 [==============================] - 14s 4us/step - loss: 0.2355 - accuracy: 0.9503 - val_loss: 0.2347 - val_accuracy: 0.9419\n",
      "Epoch 44/400\n",
      "3412934/3412934 [==============================] - 14s 4us/step - loss: 0.2354 - accuracy: 0.9502 - val_loss: 0.2322 - val_accuracy: 0.9484\n",
      "\n",
      "Epoch 00044: val_loss improved from 0.23235 to 0.23220, saving model to ../models/v8_shrinkwindows//model_v1_EB.hd5\n",
      "Epoch 45/400\n",
      "3412934/3412934 [==============================] - 14s 4us/step - loss: 0.2349 - accuracy: 0.9503 - val_loss: 0.2405 - val_accuracy: 0.9634\n",
      "Epoch 46/400\n",
      "3412934/3412934 [==============================] - 14s 4us/step - loss: 0.2348 - accuracy: 0.9503 - val_loss: 0.2414 - val_accuracy: 0.9637\n",
      "\n",
      "Epoch 00046: val_loss did not improve from 0.23220\n",
      "Epoch 47/400\n",
      "3412934/3412934 [==============================] - 14s 4us/step - loss: 0.2343 - accuracy: 0.9504 - val_loss: 0.2312 - val_accuracy: 0.9457\n",
      "Epoch 48/400\n",
      "3412934/3412934 [==============================] - 14s 4us/step - loss: 0.2348 - accuracy: 0.9503 - val_loss: 0.2353 - val_accuracy: 0.9616\n",
      "\n",
      "Epoch 00048: val_loss did not improve from 0.23220\n",
      "Epoch 49/400\n",
      "3412934/3412934 [==============================] - 14s 4us/step - loss: 0.2340 - accuracy: 0.9504 - val_loss: 0.2320 - val_accuracy: 0.9450\n",
      "Epoch 50/400\n",
      "3412934/3412934 [==============================] - 14s 4us/step - loss: 0.2339 - accuracy: 0.9504 - val_loss: 0.2357 - val_accuracy: 0.9620\n",
      "\n",
      "Epoch 00050: val_loss did not improve from 0.23220\n",
      "Epoch 51/400\n",
      "3412934/3412934 [==============================] - 14s 4us/step - loss: 0.2336 - accuracy: 0.9505 - val_loss: 0.2301 - val_accuracy: 0.9476\n",
      "Epoch 52/400\n",
      "3412934/3412934 [==============================] - 14s 4us/step - loss: 0.2335 - accuracy: 0.9506 - val_loss: 0.2423 - val_accuracy: 0.9652\n",
      "\n",
      "Epoch 00052: val_loss did not improve from 0.23220\n",
      "Epoch 53/400\n",
      "3412934/3412934 [==============================] - 14s 4us/step - loss: 0.2338 - accuracy: 0.9505 - val_loss: 0.2286 - val_accuracy: 0.9507\n",
      "Epoch 54/400\n",
      "3412934/3412934 [==============================] - 14s 4us/step - loss: 0.2332 - accuracy: 0.9505 - val_loss: 0.2523 - val_accuracy: 0.9678\n",
      "\n",
      "Epoch 00054: val_loss did not improve from 0.23220\n",
      "Epoch 55/400\n",
      "3412934/3412934 [==============================] - 14s 4us/step - loss: 0.2331 - accuracy: 0.9505 - val_loss: 0.2317 - val_accuracy: 0.9538\n",
      "Epoch 56/400\n",
      "3412934/3412934 [==============================] - 14s 4us/step - loss: 0.2332 - accuracy: 0.9505 - val_loss: 0.2322 - val_accuracy: 0.9578\n",
      "\n",
      "Epoch 00056: val_loss did not improve from 0.23220\n",
      "Epoch 57/400\n",
      "3412934/3412934 [==============================] - 14s 4us/step - loss: 0.2331 - accuracy: 0.9504 - val_loss: 0.2409 - val_accuracy: 0.9644\n",
      "Epoch 58/400\n",
      "3412934/3412934 [==============================] - 14s 4us/step - loss: 0.2329 - accuracy: 0.9507 - val_loss: 0.2284 - val_accuracy: 0.9498\n",
      "\n",
      "Epoch 00058: val_loss improved from 0.23220 to 0.22845, saving model to ../models/v8_shrinkwindows//model_v1_EB.hd5\n",
      "Epoch 59/400\n",
      "3412934/3412934 [==============================] - 14s 4us/step - loss: 0.2328 - accuracy: 0.9506 - val_loss: 0.2279 - val_accuracy: 0.9521\n",
      "Epoch 60/400\n",
      "3412934/3412934 [==============================] - 14s 4us/step - loss: 0.2324 - accuracy: 0.9508 - val_loss: 0.2336 - val_accuracy: 0.9600\n",
      "\n",
      "Epoch 00060: val_loss did not improve from 0.22845\n",
      "Epoch 61/400\n",
      "3412934/3412934 [==============================] - 14s 4us/step - loss: 0.2325 - accuracy: 0.9507 - val_loss: 0.2384 - val_accuracy: 0.9349\n",
      "Epoch 62/400\n",
      "3412934/3412934 [==============================] - 14s 4us/step - loss: 0.2322 - accuracy: 0.9507 - val_loss: 0.2333 - val_accuracy: 0.9608\n",
      "\n",
      "Epoch 00062: val_loss did not improve from 0.22845\n",
      "Epoch 63/400\n",
      "3412934/3412934 [==============================] - 14s 4us/step - loss: 0.2322 - accuracy: 0.9506 - val_loss: 0.2284 - val_accuracy: 0.9536\n",
      "Epoch 64/400\n",
      "3412934/3412934 [==============================] - 14s 4us/step - loss: 0.2318 - accuracy: 0.9508 - val_loss: 0.2327 - val_accuracy: 0.9417\n",
      "\n",
      "Epoch 00064: val_loss did not improve from 0.22845\n",
      "Epoch 65/400\n",
      "3412934/3412934 [==============================] - 14s 4us/step - loss: 0.2317 - accuracy: 0.9506 - val_loss: 0.2290 - val_accuracy: 0.9504\n",
      "Epoch 66/400\n",
      "3412934/3412934 [==============================] - 14s 4us/step - loss: 0.2316 - accuracy: 0.9507 - val_loss: 0.2304 - val_accuracy: 0.9590\n",
      "\n",
      "Epoch 00066: val_loss did not improve from 0.22845\n",
      "Epoch 67/400\n",
      "3412934/3412934 [==============================] - 14s 4us/step - loss: 0.2312 - accuracy: 0.9507 - val_loss: 0.2339 - val_accuracy: 0.9416\n",
      "Epoch 68/400\n",
      "3412934/3412934 [==============================] - 14s 4us/step - loss: 0.2315 - accuracy: 0.9507 - val_loss: 0.2285 - val_accuracy: 0.9568\n",
      "\n",
      "Epoch 00068: val_loss did not improve from 0.22845\n",
      "Epoch 69/400\n",
      "3412934/3412934 [==============================] - 14s 4us/step - loss: 0.2314 - accuracy: 0.9507 - val_loss: 0.2296 - val_accuracy: 0.9580\n",
      "Epoch 70/400\n",
      "3412934/3412934 [==============================] - 14s 4us/step - loss: 0.2314 - accuracy: 0.9507 - val_loss: 0.2285 - val_accuracy: 0.9483\n",
      "\n",
      "Epoch 00070: val_loss did not improve from 0.22845\n",
      "Epoch 71/400\n",
      "3412934/3412934 [==============================] - 14s 4us/step - loss: 0.2309 - accuracy: 0.9508 - val_loss: 0.2300 - val_accuracy: 0.9437\n",
      "Epoch 72/400\n",
      "3412934/3412934 [==============================] - 14s 4us/step - loss: 0.2310 - accuracy: 0.9508 - val_loss: 0.2283 - val_accuracy: 0.9558\n",
      "\n",
      "Epoch 00072: val_loss improved from 0.22845 to 0.22829, saving model to ../models/v8_shrinkwindows//model_v1_EB.hd5\n",
      "Epoch 73/400\n",
      "3412934/3412934 [==============================] - 14s 4us/step - loss: 0.2309 - accuracy: 0.9508 - val_loss: 0.2316 - val_accuracy: 0.9413\n",
      "Epoch 74/400\n",
      "3412934/3412934 [==============================] - 14s 4us/step - loss: 0.2310 - accuracy: 0.9509 - val_loss: 0.2275 - val_accuracy: 0.9554\n",
      "\n",
      "Epoch 00074: val_loss improved from 0.22829 to 0.22753, saving model to ../models/v8_shrinkwindows//model_v1_EB.hd5\n",
      "Epoch 75/400\n",
      "3412934/3412934 [==============================] - 14s 4us/step - loss: 0.2307 - accuracy: 0.9510 - val_loss: 0.2350 - val_accuracy: 0.9369\n",
      "Epoch 76/400\n",
      "3412934/3412934 [==============================] - 14s 4us/step - loss: 0.2304 - accuracy: 0.9509 - val_loss: 0.2293 - val_accuracy: 0.9470\n",
      "\n",
      "Epoch 00076: val_loss did not improve from 0.22753\n",
      "Epoch 77/400\n",
      "3412934/3412934 [==============================] - 14s 4us/step - loss: 0.2300 - accuracy: 0.9509 - val_loss: 0.2328 - val_accuracy: 0.9411\n",
      "Epoch 78/400\n",
      "3412934/3412934 [==============================] - 14s 4us/step - loss: 0.2303 - accuracy: 0.9510 - val_loss: 0.2282 - val_accuracy: 0.9491\n",
      "\n",
      "Epoch 00078: val_loss did not improve from 0.22753\n",
      "Epoch 79/400\n",
      "3412934/3412934 [==============================] - 14s 4us/step - loss: 0.2304 - accuracy: 0.9510 - val_loss: 0.2302 - val_accuracy: 0.9580\n",
      "Epoch 80/400\n",
      "3412934/3412934 [==============================] - 14s 4us/step - loss: 0.2301 - accuracy: 0.9509 - val_loss: 0.2279 - val_accuracy: 0.9555\n",
      "\n",
      "Epoch 00080: val_loss did not improve from 0.22753\n",
      "Epoch 81/400\n",
      "3412934/3412934 [==============================] - 14s 4us/step - loss: 0.2302 - accuracy: 0.9509 - val_loss: 0.2277 - val_accuracy: 0.9443\n",
      "Epoch 82/400\n",
      "3412934/3412934 [==============================] - 15s 4us/step - loss: 0.2300 - accuracy: 0.9509 - val_loss: 0.2277 - val_accuracy: 0.9546\n",
      "\n",
      "Epoch 00082: val_loss did not improve from 0.22753\n",
      "Epoch 83/400\n",
      "3412934/3412934 [==============================] - 14s 4us/step - loss: 0.2298 - accuracy: 0.9509 - val_loss: 0.2327 - val_accuracy: 0.9583\n",
      "Epoch 84/400\n",
      "3412934/3412934 [==============================] - 14s 4us/step - loss: 0.2293 - accuracy: 0.9511 - val_loss: 0.2288 - val_accuracy: 0.9478\n",
      "\n",
      "Epoch 00084: val_loss did not improve from 0.22753\n",
      "Epoch 85/400\n",
      "3412934/3412934 [==============================] - 14s 4us/step - loss: 0.2297 - accuracy: 0.9510 - val_loss: 0.2269 - val_accuracy: 0.9569\n",
      "Epoch 86/400\n"
     ]
    },
    {
     "name": "stdout",
     "output_type": "stream",
     "text": [
      "3412934/3412934 [==============================] - 14s 4us/step - loss: 0.2295 - accuracy: 0.9511 - val_loss: 0.2266 - val_accuracy: 0.9559\n",
      "\n",
      "Epoch 00086: val_loss improved from 0.22753 to 0.22662, saving model to ../models/v8_shrinkwindows//model_v1_EB.hd5\n",
      "Epoch 87/400\n",
      "3412934/3412934 [==============================] - 14s 4us/step - loss: 0.2293 - accuracy: 0.9510 - val_loss: 0.2302 - val_accuracy: 0.9474\n",
      "Epoch 88/400\n",
      "3412934/3412934 [==============================] - 14s 4us/step - loss: 0.2297 - accuracy: 0.9509 - val_loss: 0.2257 - val_accuracy: 0.9517\n",
      "\n",
      "Epoch 00088: val_loss improved from 0.22662 to 0.22569, saving model to ../models/v8_shrinkwindows//model_v1_EB.hd5\n",
      "Epoch 89/400\n",
      "3412934/3412934 [==============================] - 14s 4us/step - loss: 0.2294 - accuracy: 0.9509 - val_loss: 0.2485 - val_accuracy: 0.9679\n",
      "Epoch 90/400\n",
      "3412934/3412934 [==============================] - 14s 4us/step - loss: 0.2292 - accuracy: 0.9510 - val_loss: 0.2292 - val_accuracy: 0.9576\n",
      "\n",
      "Epoch 00090: val_loss did not improve from 0.22569\n",
      "Epoch 91/400\n",
      "3412934/3412934 [==============================] - 14s 4us/step - loss: 0.2291 - accuracy: 0.9510 - val_loss: 0.2412 - val_accuracy: 0.9314\n",
      "Epoch 92/400\n",
      "3412934/3412934 [==============================] - 14s 4us/step - loss: 0.2292 - accuracy: 0.9510 - val_loss: 0.2268 - val_accuracy: 0.9567\n",
      "\n",
      "Epoch 00092: val_loss did not improve from 0.22569\n",
      "Epoch 93/400\n",
      "3412934/3412934 [==============================] - 14s 4us/step - loss: 0.2288 - accuracy: 0.9510 - val_loss: 0.2325 - val_accuracy: 0.9622\n",
      "Epoch 94/400\n",
      "3412934/3412934 [==============================] - 14s 4us/step - loss: 0.2287 - accuracy: 0.9511 - val_loss: 0.2285 - val_accuracy: 0.9584\n",
      "\n",
      "Epoch 00094: val_loss did not improve from 0.22569\n",
      "Epoch 95/400\n",
      "3412934/3412934 [==============================] - 14s 4us/step - loss: 0.2285 - accuracy: 0.9512 - val_loss: 0.2245 - val_accuracy: 0.9534\n",
      "Epoch 96/400\n",
      "3412934/3412934 [==============================] - 14s 4us/step - loss: 0.2289 - accuracy: 0.9511 - val_loss: 0.2254 - val_accuracy: 0.9516\n",
      "\n",
      "Epoch 00096: val_loss improved from 0.22569 to 0.22539, saving model to ../models/v8_shrinkwindows//model_v1_EB.hd5\n",
      "Epoch 97/400\n",
      "3412934/3412934 [==============================] - 14s 4us/step - loss: 0.2287 - accuracy: 0.9511 - val_loss: 0.2260 - val_accuracy: 0.9543\n",
      "Epoch 98/400\n",
      "3412934/3412934 [==============================] - 14s 4us/step - loss: 0.2288 - accuracy: 0.9512 - val_loss: 0.2319 - val_accuracy: 0.9420\n",
      "\n",
      "Epoch 00098: val_loss did not improve from 0.22539\n",
      "Epoch 99/400\n",
      "3412934/3412934 [==============================] - 14s 4us/step - loss: 0.2286 - accuracy: 0.9510 - val_loss: 0.2264 - val_accuracy: 0.9561\n",
      "Epoch 100/400\n",
      "3412934/3412934 [==============================] - 14s 4us/step - loss: 0.2282 - accuracy: 0.9512 - val_loss: 0.2343 - val_accuracy: 0.9626\n",
      "\n",
      "Epoch 00100: val_loss did not improve from 0.22539\n",
      "Epoch 101/400\n",
      "3412934/3412934 [==============================] - 14s 4us/step - loss: 0.2286 - accuracy: 0.9511 - val_loss: 0.2458 - val_accuracy: 0.9276\n",
      "Epoch 102/400\n",
      "3412934/3412934 [==============================] - 14s 4us/step - loss: 0.2284 - accuracy: 0.9512 - val_loss: 0.2299 - val_accuracy: 0.9615\n",
      "\n",
      "Epoch 00102: val_loss did not improve from 0.22539\n",
      "Epoch 103/400\n",
      "3412934/3412934 [==============================] - 14s 4us/step - loss: 0.2283 - accuracy: 0.9512 - val_loss: 0.2242 - val_accuracy: 0.9525\n",
      "Epoch 104/400\n",
      "3412934/3412934 [==============================] - 14s 4us/step - loss: 0.2285 - accuracy: 0.9511 - val_loss: 0.2252 - val_accuracy: 0.9508\n",
      "\n",
      "Epoch 00104: val_loss improved from 0.22539 to 0.22521, saving model to ../models/v8_shrinkwindows//model_v1_EB.hd5\n",
      "Epoch 105/400\n",
      "3412934/3412934 [==============================] - 14s 4us/step - loss: 0.2281 - accuracy: 0.9511 - val_loss: 0.2416 - val_accuracy: 0.9663\n",
      "Epoch 106/400\n",
      "3412934/3412934 [==============================] - 14s 4us/step - loss: 0.2280 - accuracy: 0.9512 - val_loss: 0.2335 - val_accuracy: 0.9623\n",
      "\n",
      "Epoch 00106: val_loss did not improve from 0.22521\n",
      "Epoch 107/400\n",
      "3412934/3412934 [==============================] - 14s 4us/step - loss: 0.2280 - accuracy: 0.9512 - val_loss: 0.2258 - val_accuracy: 0.9496\n",
      "Epoch 108/400\n",
      "3412934/3412934 [==============================] - 14s 4us/step - loss: 0.2280 - accuracy: 0.9512 - val_loss: 0.2267 - val_accuracy: 0.9578\n",
      "\n",
      "Epoch 00108: val_loss did not improve from 0.22521\n",
      "Epoch 109/400\n",
      "3412934/3412934 [==============================] - 14s 4us/step - loss: 0.2278 - accuracy: 0.9512 - val_loss: 0.2260 - val_accuracy: 0.9548\n",
      "Epoch 110/400\n",
      "3412934/3412934 [==============================] - 14s 4us/step - loss: 0.2278 - accuracy: 0.9512 - val_loss: 0.2240 - val_accuracy: 0.9498\n",
      "\n",
      "Epoch 00110: val_loss improved from 0.22521 to 0.22397, saving model to ../models/v8_shrinkwindows//model_v1_EB.hd5\n",
      "Epoch 111/400\n",
      "3412934/3412934 [==============================] - 14s 4us/step - loss: 0.2278 - accuracy: 0.9511 - val_loss: 0.2260 - val_accuracy: 0.9472\n",
      "Epoch 112/400\n",
      "3412934/3412934 [==============================] - 14s 4us/step - loss: 0.2278 - accuracy: 0.9512 - val_loss: 0.2278 - val_accuracy: 0.9572\n",
      "\n",
      "Epoch 00112: val_loss did not improve from 0.22397\n",
      "Epoch 113/400\n",
      "3412934/3412934 [==============================] - 14s 4us/step - loss: 0.2276 - accuracy: 0.9511 - val_loss: 0.2257 - val_accuracy: 0.9561\n",
      "Epoch 114/400\n",
      "3412934/3412934 [==============================] - 14s 4us/step - loss: 0.2276 - accuracy: 0.9512 - val_loss: 0.2290 - val_accuracy: 0.9599\n",
      "\n",
      "Epoch 00114: val_loss did not improve from 0.22397\n",
      "Epoch 115/400\n",
      "3412934/3412934 [==============================] - 14s 4us/step - loss: 0.2277 - accuracy: 0.9511 - val_loss: 0.2290 - val_accuracy: 0.9604\n",
      "Epoch 116/400\n",
      "3412934/3412934 [==============================] - 14s 4us/step - loss: 0.2275 - accuracy: 0.9511 - val_loss: 0.2359 - val_accuracy: 0.9334\n",
      "\n",
      "Epoch 00116: val_loss did not improve from 0.22397\n",
      "Epoch 117/400\n",
      "3412934/3412934 [==============================] - 14s 4us/step - loss: 0.2277 - accuracy: 0.9512 - val_loss: 0.2319 - val_accuracy: 0.9623\n",
      "Epoch 118/400\n",
      "3412934/3412934 [==============================] - 14s 4us/step - loss: 0.2271 - accuracy: 0.9514 - val_loss: 0.2254 - val_accuracy: 0.9523\n",
      "\n",
      "Epoch 00118: val_loss did not improve from 0.22397\n",
      "Epoch 119/400\n",
      "3412934/3412934 [==============================] - 14s 4us/step - loss: 0.2273 - accuracy: 0.9513 - val_loss: 0.2243 - val_accuracy: 0.9528\n",
      "Epoch 120/400\n",
      "3412934/3412934 [==============================] - 14s 4us/step - loss: 0.2272 - accuracy: 0.9512 - val_loss: 0.2300 - val_accuracy: 0.9407\n",
      "\n",
      "Epoch 00120: val_loss did not improve from 0.22397\n",
      "Epoch 121/400\n",
      "3412934/3412934 [==============================] - 14s 4us/step - loss: 0.2271 - accuracy: 0.9512 - val_loss: 0.2247 - val_accuracy: 0.9551\n",
      "Epoch 122/400\n",
      "3412934/3412934 [==============================] - 14s 4us/step - loss: 0.2270 - accuracy: 0.9512 - val_loss: 0.2248 - val_accuracy: 0.9473\n",
      "\n",
      "Epoch 00122: val_loss did not improve from 0.22397\n",
      "Epoch 123/400\n",
      "3412934/3412934 [==============================] - 14s 4us/step - loss: 0.2270 - accuracy: 0.9514 - val_loss: 0.2305 - val_accuracy: 0.9622\n",
      "Epoch 124/400\n",
      "3412934/3412934 [==============================] - 14s 4us/step - loss: 0.2270 - accuracy: 0.9514 - val_loss: 0.2254 - val_accuracy: 0.9553\n",
      "\n",
      "Epoch 00124: val_loss did not improve from 0.22397\n",
      "Epoch 125/400\n",
      "3412934/3412934 [==============================] - 14s 4us/step - loss: 0.2267 - accuracy: 0.9513 - val_loss: 0.2255 - val_accuracy: 0.9571\n",
      "Epoch 00125: early stopping\n"
     ]
    }
   ],
   "source": [
    "auto_save = ModelCheckpoint(model_dir+ \"/model_v{}_EB.hd5\".format(model_version), monitor='val_loss', \n",
    "                    verbose=1, save_best_only=True, save_weights_only=False, \n",
    "                    mode='auto', period=2)\n",
    "\n",
    "early_stop = EarlyStopping(monitor='val_loss', min_delta=0.0001, \n",
    "                            patience=15, verbose=1)\n",
    "\n",
    "\n",
    "#lr_scheduler = callbacks.LearningRateScheduler(step_decay, verbose=1)\n",
    "\n",
    "history = model.fit(\n",
    "            X_train, y_train,\n",
    "            sample_weight = w_train,\n",
    "            batch_size = 4096,\n",
    "            epochs=400,\n",
    "            shuffle=True,\n",
    "            validation_data = (X_val, y_val, w_val),\n",
    "            callbacks = [early_stop, auto_save] #lr_scheduler\n",
    "            )"
   ]
  },
  {
   "cell_type": "code",
   "execution_count": 50,
   "metadata": {
    "ExecuteTime": {
     "end_time": "2020-05-03T21:01:53.835957Z",
     "start_time": "2020-05-03T19:44:06.183365Z"
    },
    "scrolled": true
   },
   "outputs": [
    {
     "name": "stdout",
     "output_type": "stream",
     "text": [
      "Train on 9323759 samples, validate on 3995898 samples\n",
      "Epoch 1/400\n",
      "9323759/9323759 [==============================] - 45s 5us/step - loss: 0.2955 - accuracy: 0.9560 - val_loss: 0.2166 - val_accuracy: 0.9659\n",
      "Epoch 2/400\n",
      "9323759/9323759 [==============================] - 44s 5us/step - loss: 0.2095 - accuracy: 0.9629 - val_loss: 0.1975 - val_accuracy: 0.9709\n",
      "Epoch 3/400\n",
      "9323759/9323759 [==============================] - 44s 5us/step - loss: 0.2000 - accuracy: 0.9636 - val_loss: 0.1922 - val_accuracy: 0.9671\n",
      "\n",
      "Epoch 00003: val_loss improved from inf to 0.19218, saving model to ../models/v7_detseparated//model_1_EE.hd5\n",
      "Epoch 4/400\n",
      "9323759/9323759 [==============================] - 44s 5us/step - loss: 0.1954 - accuracy: 0.9639 - val_loss: 0.1994 - val_accuracy: 0.9504\n",
      "Epoch 5/400\n",
      "9323759/9323759 [==============================] - 44s 5us/step - loss: 0.1920 - accuracy: 0.9641 - val_loss: 0.1914 - val_accuracy: 0.9743\n",
      "Epoch 6/400\n",
      "9323759/9323759 [==============================] - 44s 5us/step - loss: 0.1902 - accuracy: 0.9648 - val_loss: 0.1831 - val_accuracy: 0.9631\n",
      "\n",
      "Epoch 00006: val_loss improved from 0.19218 to 0.18305, saving model to ../models/v7_detseparated//model_1_EE.hd5\n",
      "Epoch 7/400\n",
      "9323759/9323759 [==============================] - 44s 5us/step - loss: 0.1882 - accuracy: 0.9647 - val_loss: 0.1822 - val_accuracy: 0.9683\n",
      "Epoch 8/400\n",
      "9323759/9323759 [==============================] - 44s 5us/step - loss: 0.1868 - accuracy: 0.9652 - val_loss: 0.1871 - val_accuracy: 0.9535\n",
      "Epoch 9/400\n",
      "9323759/9323759 [==============================] - 44s 5us/step - loss: 0.1854 - accuracy: 0.9651 - val_loss: 0.1807 - val_accuracy: 0.9704\n",
      "\n",
      "Epoch 00009: val_loss improved from 0.18305 to 0.18068, saving model to ../models/v7_detseparated//model_1_EE.hd5\n",
      "Epoch 10/400\n",
      "9323759/9323759 [==============================] - 44s 5us/step - loss: 0.1843 - accuracy: 0.9654 - val_loss: 0.1835 - val_accuracy: 0.9595\n",
      "Epoch 11/400\n",
      "9323759/9323759 [==============================] - 45s 5us/step - loss: 0.1831 - accuracy: 0.9655 - val_loss: 0.1795 - val_accuracy: 0.9621\n",
      "Epoch 12/400\n",
      "9323759/9323759 [==============================] - 44s 5us/step - loss: 0.1826 - accuracy: 0.9656 - val_loss: 0.1811 - val_accuracy: 0.9749\n",
      "\n",
      "Epoch 00012: val_loss did not improve from 0.18068\n",
      "Epoch 13/400\n",
      "9323759/9323759 [==============================] - 45s 5us/step - loss: 0.1817 - accuracy: 0.9657 - val_loss: 0.1758 - val_accuracy: 0.9645\n",
      "Epoch 14/400\n",
      "9323759/9323759 [==============================] - 44s 5us/step - loss: 0.1812 - accuracy: 0.9658 - val_loss: 0.1779 - val_accuracy: 0.9742\n",
      "Epoch 15/400\n",
      "9323759/9323759 [==============================] - 44s 5us/step - loss: 0.1802 - accuracy: 0.9659 - val_loss: 0.1802 - val_accuracy: 0.9742\n",
      "\n",
      "Epoch 00015: val_loss improved from 0.18068 to 0.18022, saving model to ../models/v7_detseparated//model_1_EE.hd5\n",
      "Epoch 16/400\n",
      "9323759/9323759 [==============================] - 44s 5us/step - loss: 0.1797 - accuracy: 0.9659 - val_loss: 0.1924 - val_accuracy: 0.9494\n",
      "Epoch 17/400\n",
      "9323759/9323759 [==============================] - 44s 5us/step - loss: 0.1796 - accuracy: 0.9658 - val_loss: 0.1745 - val_accuracy: 0.9687\n",
      "Epoch 18/400\n",
      "9323759/9323759 [==============================] - 44s 5us/step - loss: 0.1786 - accuracy: 0.9659 - val_loss: 0.1745 - val_accuracy: 0.9722\n",
      "\n",
      "Epoch 00018: val_loss improved from 0.18022 to 0.17449, saving model to ../models/v7_detseparated//model_1_EE.hd5\n",
      "Epoch 19/400\n",
      "9323759/9323759 [==============================] - 44s 5us/step - loss: 0.1783 - accuracy: 0.9661 - val_loss: 0.1728 - val_accuracy: 0.9639\n",
      "Epoch 20/400\n",
      "9323759/9323759 [==============================] - 44s 5us/step - loss: 0.1779 - accuracy: 0.9661 - val_loss: 0.1756 - val_accuracy: 0.9711\n",
      "Epoch 21/400\n",
      "9323759/9323759 [==============================] - 44s 5us/step - loss: 0.1774 - accuracy: 0.9661 - val_loss: 0.1718 - val_accuracy: 0.9694\n",
      "\n",
      "Epoch 00021: val_loss improved from 0.17449 to 0.17183, saving model to ../models/v7_detseparated//model_1_EE.hd5\n",
      "Epoch 22/400\n",
      "9323759/9323759 [==============================] - 44s 5us/step - loss: 0.1771 - accuracy: 0.9662 - val_loss: 0.1955 - val_accuracy: 0.9461\n",
      "Epoch 23/400\n",
      "9323759/9323759 [==============================] - 45s 5us/step - loss: 0.1770 - accuracy: 0.9661 - val_loss: 0.1739 - val_accuracy: 0.9618\n",
      "Epoch 24/400\n",
      "9323759/9323759 [==============================] - 44s 5us/step - loss: 0.1763 - accuracy: 0.9662 - val_loss: 0.1778 - val_accuracy: 0.9752\n",
      "\n",
      "Epoch 00024: val_loss did not improve from 0.17183\n",
      "Epoch 25/400\n",
      "9323759/9323759 [==============================] - 45s 5us/step - loss: 0.1759 - accuracy: 0.9662 - val_loss: 0.1717 - val_accuracy: 0.9705\n",
      "Epoch 26/400\n",
      "9323759/9323759 [==============================] - 44s 5us/step - loss: 0.1759 - accuracy: 0.9663 - val_loss: 0.1706 - val_accuracy: 0.9659\n",
      "Epoch 27/400\n",
      "9323759/9323759 [==============================] - 45s 5us/step - loss: 0.1757 - accuracy: 0.9662 - val_loss: 0.1748 - val_accuracy: 0.9749\n",
      "\n",
      "Epoch 00027: val_loss did not improve from 0.17183\n",
      "Epoch 28/400\n",
      "9323759/9323759 [==============================] - 45s 5us/step - loss: 0.1750 - accuracy: 0.9662 - val_loss: 0.1785 - val_accuracy: 0.9756\n",
      "Epoch 29/400\n",
      "9323759/9323759 [==============================] - 44s 5us/step - loss: 0.1751 - accuracy: 0.9662 - val_loss: 0.1735 - val_accuracy: 0.9742\n",
      "Epoch 30/400\n",
      "9323759/9323759 [==============================] - 44s 5us/step - loss: 0.1748 - accuracy: 0.9662 - val_loss: 0.1696 - val_accuracy: 0.9655\n",
      "\n",
      "Epoch 00030: val_loss improved from 0.17183 to 0.16959, saving model to ../models/v7_detseparated//model_1_EE.hd5\n",
      "Epoch 31/400\n",
      "9323759/9323759 [==============================] - 44s 5us/step - loss: 0.1743 - accuracy: 0.9664 - val_loss: 0.1724 - val_accuracy: 0.9739\n",
      "Epoch 32/400\n",
      "9323759/9323759 [==============================] - 44s 5us/step - loss: 0.1742 - accuracy: 0.9662 - val_loss: 0.1739 - val_accuracy: 0.9753\n",
      "Epoch 33/400\n",
      "9323759/9323759 [==============================] - 44s 5us/step - loss: 0.1738 - accuracy: 0.9663 - val_loss: 0.1729 - val_accuracy: 0.9613\n",
      "\n",
      "Epoch 00033: val_loss did not improve from 0.16959\n",
      "Epoch 34/400\n",
      "9323759/9323759 [==============================] - 44s 5us/step - loss: 0.1738 - accuracy: 0.9663 - val_loss: 0.1778 - val_accuracy: 0.9767\n",
      "Epoch 35/400\n",
      "9323759/9323759 [==============================] - 44s 5us/step - loss: 0.1732 - accuracy: 0.9663 - val_loss: 0.1763 - val_accuracy: 0.9769\n",
      "Epoch 36/400\n",
      "9323759/9323759 [==============================] - 44s 5us/step - loss: 0.1732 - accuracy: 0.9664 - val_loss: 0.1683 - val_accuracy: 0.9690\n",
      "\n",
      "Epoch 00036: val_loss improved from 0.16959 to 0.16827, saving model to ../models/v7_detseparated//model_1_EE.hd5\n",
      "Epoch 37/400\n",
      "9323759/9323759 [==============================] - 44s 5us/step - loss: 0.1728 - accuracy: 0.9664 - val_loss: 0.1900 - val_accuracy: 0.9477\n",
      "Epoch 38/400\n",
      "9323759/9323759 [==============================] - 44s 5us/step - loss: 0.1729 - accuracy: 0.9664 - val_loss: 0.1702 - val_accuracy: 0.9706\n",
      "Epoch 39/400\n",
      "9323759/9323759 [==============================] - 45s 5us/step - loss: 0.1726 - accuracy: 0.9665 - val_loss: 0.1680 - val_accuracy: 0.9707\n",
      "\n",
      "Epoch 00039: val_loss improved from 0.16827 to 0.16799, saving model to ../models/v7_detseparated//model_1_EE.hd5\n",
      "Epoch 40/400\n",
      "9323759/9323759 [==============================] - 44s 5us/step - loss: 0.1724 - accuracy: 0.9666 - val_loss: 0.1685 - val_accuracy: 0.9657\n",
      "Epoch 41/400\n",
      "9323759/9323759 [==============================] - 45s 5us/step - loss: 0.1720 - accuracy: 0.9667 - val_loss: 0.1675 - val_accuracy: 0.9695\n",
      "Epoch 42/400\n",
      "9323759/9323759 [==============================] - 45s 5us/step - loss: 0.1722 - accuracy: 0.9664 - val_loss: 0.1707 - val_accuracy: 0.9729\n",
      "\n",
      "Epoch 00042: val_loss did not improve from 0.16799\n",
      "Epoch 43/400\n",
      "9323759/9323759 [==============================] - 45s 5us/step - loss: 0.1720 - accuracy: 0.9666 - val_loss: 0.1710 - val_accuracy: 0.9740\n",
      "Epoch 44/400\n",
      "9323759/9323759 [==============================] - 44s 5us/step - loss: 0.1716 - accuracy: 0.9665 - val_loss: 0.1673 - val_accuracy: 0.9668\n",
      "Epoch 45/400\n",
      "9323759/9323759 [==============================] - 44s 5us/step - loss: 0.1717 - accuracy: 0.9666 - val_loss: 0.1691 - val_accuracy: 0.9725\n"
     ]
    },
    {
     "name": "stdout",
     "output_type": "stream",
     "text": [
      "\n",
      "Epoch 00045: val_loss did not improve from 0.16799\n",
      "Epoch 46/400\n",
      "9323759/9323759 [==============================] - 44s 5us/step - loss: 0.1715 - accuracy: 0.9666 - val_loss: 0.1667 - val_accuracy: 0.9700\n",
      "Epoch 47/400\n",
      "9323759/9323759 [==============================] - 44s 5us/step - loss: 0.1716 - accuracy: 0.9665 - val_loss: 0.1714 - val_accuracy: 0.9737\n",
      "Epoch 48/400\n",
      "9323759/9323759 [==============================] - 44s 5us/step - loss: 0.1710 - accuracy: 0.9666 - val_loss: 0.1669 - val_accuracy: 0.9664\n",
      "\n",
      "Epoch 00048: val_loss improved from 0.16799 to 0.16693, saving model to ../models/v7_detseparated//model_1_EE.hd5\n",
      "Epoch 49/400\n",
      "9323759/9323759 [==============================] - 44s 5us/step - loss: 0.1713 - accuracy: 0.9664 - val_loss: 0.1659 - val_accuracy: 0.9670\n",
      "Epoch 50/400\n",
      "9323759/9323759 [==============================] - 44s 5us/step - loss: 0.1709 - accuracy: 0.9666 - val_loss: 0.1666 - val_accuracy: 0.9648\n",
      "Epoch 51/400\n",
      "9323759/9323759 [==============================] - 44s 5us/step - loss: 0.1708 - accuracy: 0.9666 - val_loss: 0.1697 - val_accuracy: 0.9748\n",
      "\n",
      "Epoch 00051: val_loss did not improve from 0.16693\n",
      "Epoch 52/400\n",
      "9323759/9323759 [==============================] - 44s 5us/step - loss: 0.1710 - accuracy: 0.9668 - val_loss: 0.1674 - val_accuracy: 0.9691\n",
      "Epoch 53/400\n",
      "9323759/9323759 [==============================] - 44s 5us/step - loss: 0.1707 - accuracy: 0.9667 - val_loss: 0.1766 - val_accuracy: 0.9545\n",
      "Epoch 54/400\n",
      "9323759/9323759 [==============================] - 44s 5us/step - loss: 0.1704 - accuracy: 0.9667 - val_loss: 0.1671 - val_accuracy: 0.9636\n",
      "\n",
      "Epoch 00054: val_loss did not improve from 0.16693\n",
      "Epoch 55/400\n",
      "9323759/9323759 [==============================] - 45s 5us/step - loss: 0.1701 - accuracy: 0.9668 - val_loss: 0.1691 - val_accuracy: 0.9647\n",
      "Epoch 56/400\n",
      "9323759/9323759 [==============================] - 45s 5us/step - loss: 0.1705 - accuracy: 0.9667 - val_loss: 0.1671 - val_accuracy: 0.9720\n",
      "Epoch 57/400\n",
      "9323759/9323759 [==============================] - 45s 5us/step - loss: 0.1702 - accuracy: 0.9667 - val_loss: 0.1728 - val_accuracy: 0.9757\n",
      "\n",
      "Epoch 00057: val_loss did not improve from 0.16693\n",
      "Epoch 58/400\n",
      "9323759/9323759 [==============================] - 45s 5us/step - loss: 0.1699 - accuracy: 0.9668 - val_loss: 0.1677 - val_accuracy: 0.9705\n",
      "Epoch 59/400\n",
      "9323759/9323759 [==============================] - 45s 5us/step - loss: 0.1701 - accuracy: 0.9666 - val_loss: 0.1725 - val_accuracy: 0.9750\n",
      "Epoch 00059: early stopping\n"
     ]
    }
   ],
   "source": [
    "auto_save = ModelCheckpoint(model_dir+ \"/model_v{}_EE.hd5\".format(model_version) , monitor='val_loss', \n",
    "                    verbose=1, save_best_only=True, save_weights_only=False, \n",
    "                    mode='auto', period=3)\n",
    "\n",
    "early_stop = EarlyStopping(monitor='val_loss', min_delta=0.0001, \n",
    "                            patience=10, verbose=1)\n",
    "\n",
    "\n",
    "#lr_scheduler = callbacks.LearningRateScheduler(step_decay, verbose=1)\n",
    "\n",
    "history = model.fit(\n",
    "            X_train, y_train,\n",
    "            sample_weight = w_train,\n",
    "            batch_size = 4096,\n",
    "            epochs=400,\n",
    "            shuffle=True,\n",
    "            validation_data = (X_val, y_val, w_val),\n",
    "            callbacks = [early_stop, auto_save, ] #lr_scheduler\n",
    "            )"
   ]
  },
  {
   "cell_type": "code",
   "execution_count": 19,
   "metadata": {
    "ExecuteTime": {
     "end_time": "2020-05-03T21:02:31.639054Z",
     "start_time": "2020-05-03T21:02:28.213008Z"
    }
   },
   "outputs": [
    {
     "name": "stdout",
     "output_type": "stream",
     "text": [
      ">>> Computing AUC...\n",
      "AUC score: 0.9913593398361924\n",
      ">>> Saving ROC curve...\n"
     ]
    },
    {
     "data": {
      "text/plain": [
       "<matplotlib.legend.Legend at 0x7f507c79e940>"
      ]
     },
     "execution_count": 19,
     "metadata": {},
     "output_type": "execute_result"
    },
    {
     "data": {
      "image/png": "[encoded data removed]",
      "text/plain": [
       "<Figure size 750x750 with 1 Axes>"
      ]
     },
     "metadata": {
      "needs_background": "light"
     },
     "output_type": "display_data"
    }
   ],
   "source": [
    "# Evalutation\n",
    "print(\">>> Computing AUC...\")\n",
    "\n",
    "from sklearn.metrics import roc_auc_score, roc_curve\n",
    "\n",
    "pred = model.predict(X_val,batch_size=2048)\n",
    "auc = roc_auc_score(y_val, pred, sample_weight=w_val)\n",
    "print(\"AUC score: \" + str(auc))\n",
    "\n",
    "print(\">>> Saving ROC curve...\")\n",
    "fp , tp, th = roc_curve(y_val, pred, sample_weight=w_val,drop_intermediate=True)\n",
    "plt.plot(fp, tp, label=\"roc\")\n",
    "#plt.plot(fp, th, label=\"threshold\")\n",
    "plt.xlabel(\"false positives\")\n",
    "plt.ylabel(\"true positives\")\n",
    "plt.ylim(-0.05,1.05)\n",
    "\n",
    "plt.legend()"
   ]
  },
  {
   "cell_type": "code",
   "execution_count": 20,
   "metadata": {
    "ExecuteTime": {
     "end_time": "2020-05-03T18:02:08.432215Z",
     "start_time": "2020-05-03T18:02:08.040559Z"
    }
   },
   "outputs": [
    {
     "data": {
      "text/plain": [
       "<matplotlib.legend.Legend at 0x7f507c718320>"
      ]
     },
     "execution_count": 20,
     "metadata": {},
     "output_type": "execute_result"
    },
    {
     "data": {
      "image/png": "[encoded data removed]",
      "text/plain": [
       "<Figure size 750x750 with 1 Axes>"
      ]
     },
     "metadata": {
      "needs_background": "light"
     },
     "output_type": "display_data"
    }
   ],
   "source": [
    "plt.plot(history.epoch, history.history[\"val_loss\"], label=\"validation loss\")\n",
    "plt.plot(history.epoch, history.history[\"loss\"], label=\"training loss\")\n",
    "plt.legend()"
   ]
  },
  {
   "cell_type": "code",
   "execution_count": 64,
   "metadata": {
    "ExecuteTime": {
     "end_time": "2020-05-03T21:02:59.616298Z",
     "start_time": "2020-05-03T21:02:59.348309Z"
    }
   },
   "outputs": [
    {
     "data": {
      "text/plain": [
       "<matplotlib.legend.Legend at 0x7f59973ec390>"
      ]
     },
     "execution_count": 64,
     "metadata": {},
     "output_type": "execute_result"
    },
    {
     "data": {
      "image/png": "[encoded data removed]",
      "text/plain": [
       "<Figure size 750x750 with 1 Axes>"
      ]
     },
     "metadata": {
      "needs_background": "light"
     },
     "output_type": "display_data"
    }
   ],
   "source": [
    "plt.plot(history.epoch, history.history[\"val_loss\"], label=\"validation loss\")\n",
    "plt.plot(history.epoch, history.history[\"loss\"], label=\"training loss\")\n",
    "plt.legend()"
   ]
  },
  {
   "cell_type": "code",
   "execution_count": 21,
   "metadata": {
    "ExecuteTime": {
     "end_time": "2020-05-03T18:02:48.984671Z",
     "start_time": "2020-05-03T18:02:41.386118Z"
    }
   },
   "outputs": [
    {
     "data": {
      "text/plain": [
       "<matplotlib.legend.Legend at 0x7f507c68f5c0>"
      ]
     },
     "execution_count": 21,
     "metadata": {},
     "output_type": "execute_result"
    },
    {
     "data": {
      "image/png": "[encoded data removed]",
      "text/plain": [
       "<Figure size 750x750 with 1 Axes>"
      ]
     },
     "metadata": {
      "needs_background": "light"
     },
     "output_type": "display_data"
    }
   ],
   "source": [
    "results = model.predict(X_val)\n",
    "plt.hist(results[y_val==0], bins=50,density=True, label=\"false\", histtype=\"step\")\n",
    "plt.hist(results[y_val==1], bins=50, density=True, label=\"true\", histtype=\"step\")\n",
    "plt.yscale(\"log\")\n",
    "plt.legend()"
   ]
  },
  {
   "cell_type": "code",
   "execution_count": 42,
   "metadata": {
    "ExecuteTime": {
     "end_time": "2020-05-03T21:03:45.561006Z",
     "start_time": "2020-05-03T21:03:28.491011Z"
    }
   },
   "outputs": [
    {
     "data": {
      "text/plain": [
       "<matplotlib.legend.Legend at 0x7f5061612208>"
      ]
     },
     "execution_count": 42,
     "metadata": {},
     "output_type": "execute_result"
    },
    {
     "data": {
      "image/png": "[encoded data removed]",
      "text/plain": [
       "<Figure size 750x750 with 1 Axes>"
      ]
     },
     "metadata": {
      "needs_background": "light"
     },
     "output_type": "display_data"
    }
   ],
   "source": [
    "results = model.predict(X_val)\n",
    "plt.hist(results[y_val==0], bins=100,density=True, label=\"false\", histtype=\"step\")\n",
    "plt.hist(results[y_val==1], bins=100, density=True, label=\"true\", histtype=\"step\")\n",
    "plt.yscale(\"log\")\n",
    "plt.legend()"
   ]
  },
  {
   "cell_type": "code",
   "execution_count": 34,
   "metadata": {},
   "outputs": [
    {
     "data": {
      "text/plain": [
       "<Figure size 750x750 with 0 Axes>"
      ]
     },
     "metadata": {},
     "output_type": "display_data"
    }
   ],
   "source": [
    "plt.savefig(model_dir +\"/output_model_v1_EB.png\")"
   ]
  },
  {
   "cell_type": "markdown",
   "metadata": {},
   "source": [
    "# Some plots"
   ]
  },
  {
   "cell_type": "code",
   "execution_count": 1,
   "metadata": {
    "ExecuteTime": {
     "end_time": "2020-01-13T09:25:43.435534Z",
     "start_time": "2020-01-13T09:25:30.930818Z"
    },
    "scrolled": true
   },
   "outputs": [
    {
     "name": "stderr",
     "output_type": "stream",
     "text": [
      "Using TensorFlow backend.\n"
     ]
    },
    {
     "ename": "OSError",
     "evalue": "Unable to open file (unable to open file: name = 'models/model11_balanced_100_80_50.hd5', errno = 2, error message = 'No such file or directory', flags = 0, o_flags = 0)",
     "output_type": "error",
     "traceback": [
      "\u001b[0;31m---------------------------------------------------------------------------\u001b[0m",
      "\u001b[0;31mOSError\u001b[0m                                   Traceback (most recent call last)",
      "\u001b[0;32m<ipython-input-1-5beff4d610ed>\u001b[0m in \u001b[0;36m<module>\u001b[0;34m\u001b[0m\n\u001b[1;32m      1\u001b[0m \u001b[0;32mfrom\u001b[0m \u001b[0mkeras\u001b[0m\u001b[0;34m.\u001b[0m\u001b[0mmodels\u001b[0m \u001b[0;32mimport\u001b[0m \u001b[0mload_model\u001b[0m\u001b[0;34m\u001b[0m\u001b[0m\n\u001b[0;32m----> 2\u001b[0;31m \u001b[0mmodel\u001b[0m \u001b[0;34m=\u001b[0m \u001b[0mload_model\u001b[0m\u001b[0;34m(\u001b[0m\u001b[0;34m\"models/model11_balanced_100_80_50.hd5\"\u001b[0m\u001b[0;34m)\u001b[0m\u001b[0;34m\u001b[0m\u001b[0m\n\u001b[0m\u001b[1;32m      3\u001b[0m \u001b[0mscaler\u001b[0m \u001b[0;34m=\u001b[0m \u001b[0mpickle\u001b[0m\u001b[0;34m.\u001b[0m\u001b[0mload\u001b[0m\u001b[0;34m(\u001b[0m\u001b[0mopen\u001b[0m\u001b[0;34m(\u001b[0m\u001b[0;34m\"models/scaler_gamma_electrons.pkl\"\u001b[0m\u001b[0;34m,\u001b[0m \u001b[0;34m\"rb\"\u001b[0m\u001b[0;34m)\u001b[0m\u001b[0;34m)\u001b[0m\u001b[0;34m\u001b[0m\u001b[0m\n",
      "\u001b[0;32m/cvmfs/sft.cern.ch/lcg/views/LCG_96python3/x86_64-centos7-gcc8-opt/lib/python3.6/site-packages/keras/engine/saving.py\u001b[0m in \u001b[0;36mload_model\u001b[0;34m(filepath, custom_objects, compile)\u001b[0m\n\u001b[1;32m    415\u001b[0m     \u001b[0mmodel\u001b[0m \u001b[0;34m=\u001b[0m \u001b[0;32mNone\u001b[0m\u001b[0;34m\u001b[0m\u001b[0m\n\u001b[1;32m    416\u001b[0m     \u001b[0mopened_new_file\u001b[0m \u001b[0;34m=\u001b[0m \u001b[0;32mnot\u001b[0m \u001b[0misinstance\u001b[0m\u001b[0;34m(\u001b[0m\u001b[0mfilepath\u001b[0m\u001b[0;34m,\u001b[0m \u001b[0mh5py\u001b[0m\u001b[0;34m.\u001b[0m\u001b[0mGroup\u001b[0m\u001b[0;34m)\u001b[0m\u001b[0;34m\u001b[0m\u001b[0m\n\u001b[0;32m--> 417\u001b[0;31m     \u001b[0mf\u001b[0m \u001b[0;34m=\u001b[0m \u001b[0mh5dict\u001b[0m\u001b[0;34m(\u001b[0m\u001b[0mfilepath\u001b[0m\u001b[0;34m,\u001b[0m \u001b[0;34m'r'\u001b[0m\u001b[0;34m)\u001b[0m\u001b[0;34m\u001b[0m\u001b[0m\n\u001b[0m\u001b[1;32m    418\u001b[0m     \u001b[0;32mtry\u001b[0m\u001b[0;34m:\u001b[0m\u001b[0;34m\u001b[0m\u001b[0m\n\u001b[1;32m    419\u001b[0m         \u001b[0mmodel\u001b[0m \u001b[0;34m=\u001b[0m \u001b[0m_deserialize_model\u001b[0m\u001b[0;34m(\u001b[0m\u001b[0mf\u001b[0m\u001b[0;34m,\u001b[0m \u001b[0mcustom_objects\u001b[0m\u001b[0;34m,\u001b[0m \u001b[0mcompile\u001b[0m\u001b[0;34m)\u001b[0m\u001b[0;34m\u001b[0m\u001b[0m\n",
      "\u001b[0;32m/cvmfs/sft.cern.ch/lcg/views/LCG_96python3/x86_64-centos7-gcc8-opt/lib/python3.6/site-packages/keras/utils/io_utils.py\u001b[0m in \u001b[0;36m__init__\u001b[0;34m(self, path, mode)\u001b[0m\n\u001b[1;32m    184\u001b[0m             \u001b[0mself\u001b[0m\u001b[0;34m.\u001b[0m\u001b[0m_is_file\u001b[0m \u001b[0;34m=\u001b[0m \u001b[0;32mFalse\u001b[0m\u001b[0;34m\u001b[0m\u001b[0m\n\u001b[1;32m    185\u001b[0m         \u001b[0;32melif\u001b[0m \u001b[0misinstance\u001b[0m\u001b[0;34m(\u001b[0m\u001b[0mpath\u001b[0m\u001b[0;34m,\u001b[0m \u001b[0mstr\u001b[0m\u001b[0;34m)\u001b[0m\u001b[0;34m:\u001b[0m\u001b[0;34m\u001b[0m\u001b[0m\n\u001b[0;32m--> 186\u001b[0;31m             \u001b[0mself\u001b[0m\u001b[0;34m.\u001b[0m\u001b[0mdata\u001b[0m \u001b[0;34m=\u001b[0m \u001b[0mh5py\u001b[0m\u001b[0;34m.\u001b[0m\u001b[0mFile\u001b[0m\u001b[0;34m(\u001b[0m\u001b[0mpath\u001b[0m\u001b[0;34m,\u001b[0m \u001b[0mmode\u001b[0m\u001b[0;34m=\u001b[0m\u001b[0mmode\u001b[0m\u001b[0;34m)\u001b[0m\u001b[0;34m\u001b[0m\u001b[0m\n\u001b[0m\u001b[1;32m    187\u001b[0m             \u001b[0mself\u001b[0m\u001b[0;34m.\u001b[0m\u001b[0m_is_file\u001b[0m \u001b[0;34m=\u001b[0m \u001b[0;32mTrue\u001b[0m\u001b[0;34m\u001b[0m\u001b[0m\n\u001b[1;32m    188\u001b[0m         \u001b[0;32melif\u001b[0m \u001b[0misinstance\u001b[0m\u001b[0;34m(\u001b[0m\u001b[0mpath\u001b[0m\u001b[0;34m,\u001b[0m \u001b[0mdict\u001b[0m\u001b[0;34m)\u001b[0m\u001b[0;34m:\u001b[0m\u001b[0;34m\u001b[0m\u001b[0m\n",
      "\u001b[0;32m/cvmfs/sft.cern.ch/lcg/views/LCG_96python3/x86_64-centos7-gcc8-opt/lib/python3.6/site-packages/h5py/_hl/files.py\u001b[0m in \u001b[0;36m__init__\u001b[0;34m(self, name, mode, driver, libver, userblock_size, swmr, rdcc_nslots, rdcc_nbytes, rdcc_w0, track_order, **kwds)\u001b[0m\n\u001b[1;32m    392\u001b[0m                 fid = make_fid(name, mode, userblock_size,\n\u001b[1;32m    393\u001b[0m                                \u001b[0mfapl\u001b[0m\u001b[0;34m,\u001b[0m \u001b[0mfcpl\u001b[0m\u001b[0;34m=\u001b[0m\u001b[0mmake_fcpl\u001b[0m\u001b[0;34m(\u001b[0m\u001b[0mtrack_order\u001b[0m\u001b[0;34m=\u001b[0m\u001b[0mtrack_order\u001b[0m\u001b[0;34m)\u001b[0m\u001b[0;34m,\u001b[0m\u001b[0;34m\u001b[0m\u001b[0m\n\u001b[0;32m--> 394\u001b[0;31m                                swmr=swmr)\n\u001b[0m\u001b[1;32m    395\u001b[0m \u001b[0;34m\u001b[0m\u001b[0m\n\u001b[1;32m    396\u001b[0m             \u001b[0;32mif\u001b[0m \u001b[0mswmr_support\u001b[0m\u001b[0;34m:\u001b[0m\u001b[0;34m\u001b[0m\u001b[0m\n",
      "\u001b[0;32m/cvmfs/sft.cern.ch/lcg/views/LCG_96python3/x86_64-centos7-gcc8-opt/lib/python3.6/site-packages/h5py/_hl/files.py\u001b[0m in \u001b[0;36mmake_fid\u001b[0;34m(name, mode, userblock_size, fapl, fcpl, swmr)\u001b[0m\n\u001b[1;32m    168\u001b[0m         \u001b[0;32mif\u001b[0m \u001b[0mswmr\u001b[0m \u001b[0;32mand\u001b[0m \u001b[0mswmr_support\u001b[0m\u001b[0;34m:\u001b[0m\u001b[0;34m\u001b[0m\u001b[0m\n\u001b[1;32m    169\u001b[0m             \u001b[0mflags\u001b[0m \u001b[0;34m|=\u001b[0m \u001b[0mh5f\u001b[0m\u001b[0;34m.\u001b[0m\u001b[0mACC_SWMR_READ\u001b[0m\u001b[0;34m\u001b[0m\u001b[0m\n\u001b[0;32m--> 170\u001b[0;31m         \u001b[0mfid\u001b[0m \u001b[0;34m=\u001b[0m \u001b[0mh5f\u001b[0m\u001b[0;34m.\u001b[0m\u001b[0mopen\u001b[0m\u001b[0;34m(\u001b[0m\u001b[0mname\u001b[0m\u001b[0;34m,\u001b[0m \u001b[0mflags\u001b[0m\u001b[0;34m,\u001b[0m \u001b[0mfapl\u001b[0m\u001b[0;34m=\u001b[0m\u001b[0mfapl\u001b[0m\u001b[0;34m)\u001b[0m\u001b[0;34m\u001b[0m\u001b[0m\n\u001b[0m\u001b[1;32m    171\u001b[0m     \u001b[0;32melif\u001b[0m \u001b[0mmode\u001b[0m \u001b[0;34m==\u001b[0m \u001b[0;34m'r+'\u001b[0m\u001b[0;34m:\u001b[0m\u001b[0;34m\u001b[0m\u001b[0m\n\u001b[1;32m    172\u001b[0m         \u001b[0mfid\u001b[0m \u001b[0;34m=\u001b[0m \u001b[0mh5f\u001b[0m\u001b[0;34m.\u001b[0m\u001b[0mopen\u001b[0m\u001b[0;34m(\u001b[0m\u001b[0mname\u001b[0m\u001b[0;34m,\u001b[0m \u001b[0mh5f\u001b[0m\u001b[0;34m.\u001b[0m\u001b[0mACC_RDWR\u001b[0m\u001b[0;34m,\u001b[0m \u001b[0mfapl\u001b[0m\u001b[0;34m=\u001b[0m\u001b[0mfapl\u001b[0m\u001b[0;34m)\u001b[0m\u001b[0;34m\u001b[0m\u001b[0m\n",
      "\u001b[0;32mh5py/_objects.pyx\u001b[0m in \u001b[0;36mh5py._objects.with_phil.wrapper\u001b[0;34m()\u001b[0m\n",
      "\u001b[0;32mh5py/_objects.pyx\u001b[0m in \u001b[0;36mh5py._objects.with_phil.wrapper\u001b[0;34m()\u001b[0m\n",
      "\u001b[0;32mh5py/h5f.pyx\u001b[0m in \u001b[0;36mh5py.h5f.open\u001b[0;34m()\u001b[0m\n",
      "\u001b[0;31mOSError\u001b[0m: Unable to open file (unable to open file: name = 'models/model11_balanced_100_80_50.hd5', errno = 2, error message = 'No such file or directory', flags = 0, o_flags = 0)"
     ]
    }
   ],
   "source": [
    "from keras.models import load_model\n",
    "model = load_model(\"models/model11_balanced_100_80_50.hd5\")\n",
    "scaler = pickle.load(open(\"models/scaler_gamma_electrons.pkl\", \"rb\"))"
   ]
  },
  {
   "cell_type": "code",
   "execution_count": 27,
   "metadata": {
    "ExecuteTime": {
     "end_time": "2020-04-20T22:38:16.819969Z",
     "start_time": "2020-04-20T22:38:16.467585Z"
    }
   },
   "outputs": [
    {
     "ename": "NameError",
     "evalue": "name 'y_test' is not defined",
     "output_type": "error",
     "traceback": [
      "\u001b[0;31m---------------------------------------------------------------------------\u001b[0m",
      "\u001b[0;31mNameError\u001b[0m                                 Traceback (most recent call last)",
      "\u001b[0;32m<ipython-input-27-a3f0e29f7606>\u001b[0m in \u001b[0;36m<module>\u001b[0;34m\u001b[0m\n\u001b[0;32m----> 1\u001b[0;31m \u001b[0mfp\u001b[0m \u001b[0;34m,\u001b[0m \u001b[0mtp\u001b[0m\u001b[0;34m,\u001b[0m \u001b[0mth\u001b[0m \u001b[0;34m=\u001b[0m \u001b[0mroc_curve\u001b[0m\u001b[0;34m(\u001b[0m\u001b[0my_test\u001b[0m\u001b[0;34m,\u001b[0m \u001b[0mpred\u001b[0m\u001b[0;34m)\u001b[0m\u001b[0;34m\u001b[0m\u001b[0;34m\u001b[0m\u001b[0m\n\u001b[0m\u001b[1;32m      2\u001b[0m \u001b[0mfig\u001b[0m\u001b[0;34m,\u001b[0m \u001b[0max1\u001b[0m \u001b[0;34m=\u001b[0m \u001b[0mplt\u001b[0m\u001b[0;34m.\u001b[0m\u001b[0msubplots\u001b[0m\u001b[0;34m(\u001b[0m\u001b[0mfigsize\u001b[0m\u001b[0;34m=\u001b[0m\u001b[0;34m(\u001b[0m\u001b[0;36m7\u001b[0m\u001b[0;34m,\u001b[0m\u001b[0;36m6\u001b[0m\u001b[0;34m)\u001b[0m\u001b[0;34m,\u001b[0m \u001b[0mdpi\u001b[0m\u001b[0;34m=\u001b[0m\u001b[0;36m100\u001b[0m\u001b[0;34m)\u001b[0m\u001b[0;34m\u001b[0m\u001b[0;34m\u001b[0m\u001b[0m\n\u001b[1;32m      3\u001b[0m \u001b[0max1\u001b[0m\u001b[0;34m.\u001b[0m\u001b[0mplot\u001b[0m\u001b[0;34m(\u001b[0m\u001b[0mfp\u001b[0m\u001b[0;34m,\u001b[0m \u001b[0mtp\u001b[0m\u001b[0;34m,\u001b[0m \u001b[0mlabel\u001b[0m\u001b[0;34m=\u001b[0m\u001b[0;34m\"roc\"\u001b[0m\u001b[0;34m,\u001b[0m \u001b[0mcolor\u001b[0m\u001b[0;34m=\u001b[0m\u001b[0;34m\"blue\"\u001b[0m\u001b[0;34m)\u001b[0m\u001b[0;34m\u001b[0m\u001b[0;34m\u001b[0m\u001b[0m\n\u001b[1;32m      4\u001b[0m \u001b[0;34m\u001b[0m\u001b[0m\n\u001b[1;32m      5\u001b[0m \u001b[0max1\u001b[0m\u001b[0;34m.\u001b[0m\u001b[0mset_xlabel\u001b[0m\u001b[0;34m(\u001b[0m\u001b[0;34m\"Bkg contamination\"\u001b[0m\u001b[0;34m,\u001b[0m \u001b[0mfontsize\u001b[0m\u001b[0;34m=\u001b[0m\u001b[0;36m18\u001b[0m\u001b[0;34m)\u001b[0m\u001b[0;34m\u001b[0m\u001b[0;34m\u001b[0m\u001b[0m\n",
      "\u001b[0;31mNameError\u001b[0m: name 'y_test' is not defined"
     ]
    }
   ],
   "source": [
    "fp , tp, th = roc_curve(y_test, pred)\n",
    "fig, ax1 = plt.subplots(figsize=(7,6), dpi=100)\n",
    "ax1.plot(fp, tp, label=\"roc\", color=\"blue\")\n",
    "\n",
    "ax1.set_xlabel(\"Bkg contamination\", fontsize=18)\n",
    "ax1.set_ylabel(\"Signal efficiency\", fontsize=18, color=\"blue\")\n",
    "ax1.set_ylim(0.850, 1.01)\n",
    "ax1.set_xlim(0, 0.06)\n",
    "#ax1.plot([0,1],[1,1],\"b--\")\n",
    "ax1.tick_params(\"y\",labelsize=\"large\", labelcolor=\"blue\")\n",
    "\n",
    "ax2 = ax1.twinx()\n",
    "ax2.plot(fp, th, label=\"threshold\", color=\"red\")\n",
    "ax2.tick_params(axis='y', labelcolor=\"red\", labelsize=\"large\")\n",
    "ax2.set_ylabel(\"Threshold\", fontsize=18, color=\"red\")\n",
    "ax2.set_ylim(0, 1)\n",
    "ax1.grid()\n",
    "#ax2.grid(linestyle=\"dashed\", color=\"red\")\n",
    "\n",
    "ax2.plot([0.01, 0.01], [0, 2], \"g--\")\n",
    "ax2.set_yticks(np.arange(0, 1.1, 0.1))\n",
    "#ax2.minorticks_on()\n",
    "\n",
    "ax1.set_title(\"ROC curve\", fontsize=20)\n",
    "ax2.text(x = 0.048, y = 1.01, s=\"AUC=0.997\", fontsize=\"large\")\n",
    "\n",
    "fig.tight_layout()"
   ]
  },
  {
   "cell_type": "code",
   "execution_count": 36,
   "metadata": {
    "ExecuteTime": {
     "end_time": "2020-01-11T14:23:01.035443Z",
     "start_time": "2020-01-11T14:23:00.336449Z"
    }
   },
   "outputs": [
    {
     "data": {
      "image/png": "[encoded data removed]",
      "text/plain": [
       "<Figure size 700x600 with 2 Axes>"
      ]
     },
     "metadata": {},
     "output_type": "display_data"
    }
   ],
   "source": [
    "fp , tp, th = roc_curve(y_test, pred)\n",
    "fig, ax1 = plt.subplots(figsize=(7,6), dpi=100)\n",
    "ax1.plot(fp, tp, label=\"roc\", color=\"blue\")\n",
    "\n",
    "ax1.set_xlabel(\"Bkg contamination\", fontsize=18)\n",
    "ax1.set_ylabel(\"Signal efficiency\", fontsize=18, color=\"blue\")\n",
    "ax1.set_ylim(0.850, 1.01)\n",
    "ax1.set_xlim(0, 0.06)\n",
    "#ax1.plot([0,1],[1,1],\"b--\")\n",
    "ax1.tick_params(\"y\",labelsize=\"large\", labelcolor=\"blue\")\n",
    "\n",
    "ax2 = ax1.twinx()\n",
    "ax2.plot(fp, th, label=\"threshold\", color=\"red\")\n",
    "ax2.tick_params(axis='y', labelcolor=\"red\", labelsize=\"large\")\n",
    "ax2.set_ylabel(\"Threshold\", fontsize=18, color=\"red\")\n",
    "ax2.set_ylim(0, 1)\n",
    "ax1.grid()\n",
    "#ax2.grid(linestyle=\"dashed\", color=\"red\")\n",
    "\n",
    "ax2.plot([0.01, 0.01], [0, 2], \"g--\")\n",
    "ax2.set_yticks(np.arange(0, 1.1, 0.1))\n",
    "#ax2.minorticks_on()\n",
    "\n",
    "ax1.set_title(\"ROC curve\", fontsize=20)\n",
    "ax2.text(x = 0.048, y = 1.01, s=\"AUC=0.997\", fontsize=\"large\")\n",
    "\n",
    "fig.tight_layout()"
   ]
  }
 ],
 "metadata": {
  "kernelspec": {
   "display_name": "Python 3",
   "language": "python",
   "name": "python3"
  },
  "language_info": {
   "codemirror_mode": {
    "name": "ipython",
    "version": 3
   },
   "file_extension": ".py",
   "mimetype": "text/x-python",
   "name": "python",
   "nbconvert_exporter": "python",
   "pygments_lexer": "ipython3",
   "version": "3.6.9"
  },
  "toc": {
   "base_numbering": 1,
   "nav_menu": {},
   "number_sections": true,
   "sideBar": true,
   "skip_h1_title": false,
   "title_cell": "Table of Contents",
   "title_sidebar": "Contents",
   "toc_cell": false,
   "toc_position": {},
   "toc_section_display": true,
   "toc_window_display": false
  },
  "varInspector": {
   "cols": {
    "lenName": 16,
    "lenType": 16,
    "lenVar": 40
   },
   "kernels_config": {
    "python": {
     "delete_cmd_postfix": "",
     "delete_cmd_prefix": "del ",
     "library": "var_list.py",
     "varRefreshCmd": "print(var_dic_list())"
    },
    "r": {
     "delete_cmd_postfix": ") ",
     "delete_cmd_prefix": "rm(",
     "library": "var_list.r",
     "varRefreshCmd": "cat(var_dic_list()) "
    }
   },
   "oldHeight": 745.183666,
   "position": {
    "height": "40px",
    "left": "717.5px",
    "right": "20px",
    "top": "55px",
    "width": "800px"
   },
   "types_to_exclude": [
    "module",
    "function",
    "builtin_function_or_method",
    "instance",
    "_Feature"
   ],
   "varInspector_section_display": "none",
   "window_display": false
  }
 },
 "nbformat": 4,
 "nbformat_minor": 2
}
