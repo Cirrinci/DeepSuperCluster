{
 "cells": [
  {
   "cell_type": "code",
   "execution_count": 1,
   "metadata": {
    "ExecuteTime": {
     "end_time": "2020-04-27T14:05:27.636520Z",
     "start_time": "2020-04-27T14:05:22.765399Z"
    }
   },
   "outputs": [],
   "source": [
    "import pickle\n",
    "import numpy as np \n",
    "import pandas as pd\n",
    "import matplotlib.colors as colors\n",
    "import matplotlib.pyplot as plt\n",
    "import matplotlib as mpl\n",
    "import os \n",
    "\n",
    "mpl.rcParams['figure.figsize'] = (10,10)\n",
    "mpl.rcParams['figure.dpi'] = 150\n",
    "mpl.rcParams[\"image.origin\"] = 'lower'"
   ]
  },
  {
   "cell_type": "markdown",
   "metadata": {},
   "source": [
    "# Data preparation\n",
    "## Input: \n",
    "- E seed\n",
    "- eta,phi,z seed\n",
    "- E cluster\n",
    "- delta_eta,delta_phi,\n",
    "\n",
    "Filter only windows with the calo"
   ]
  },
  {
   "cell_type": "code",
   "execution_count": 2,
   "metadata": {
    "ExecuteTime": {
     "end_time": "2020-04-27T14:05:29.644538Z",
     "start_time": "2020-04-27T14:05:29.588534Z"
    }
   },
   "outputs": [],
   "source": [
    "files_ele = os.listdir(\"/eos/user/r/rdfexp/ecal/cluster/output_deepcluster_dumper/electrons/numpy_v6/training/\")\n",
    "files_gamma = os.listdir(\"/eos/user/r/rdfexp/ecal/cluster/output_deepcluster_dumper/gammas/numpy_v6/training/\")"
   ]
  },
  {
   "cell_type": "code",
   "execution_count": 3,
   "metadata": {
    "ExecuteTime": {
     "end_time": "2020-04-27T14:05:30.385428Z",
     "start_time": "2020-04-27T14:05:30.379028Z"
    }
   },
   "outputs": [
    {
     "name": "stdout",
     "output_type": "stream",
     "text": [
      "N ele files: 25\n",
      "N gamma files: 28\n"
     ]
    }
   ],
   "source": [
    "print(f\"N ele files: {len(files_ele)}\")\n",
    "print(f\"N gamma files: {len(files_gamma)}\")"
   ]
  },
  {
   "cell_type": "code",
   "execution_count": 5,
   "metadata": {
    "ExecuteTime": {
     "end_time": "2020-04-27T14:06:52.401795Z",
     "start_time": "2020-04-27T14:06:07.429851Z"
    }
   },
   "outputs": [
    {
     "name": "stdout",
     "output_type": "stream",
     "text": [
      "N events ele:  1011997\n",
      "N events ele:  957021\n"
     ]
    }
   ],
   "source": [
    "datas_ele = []\n",
    "\n",
    "for i in range(1, 25):\n",
    "    f = f\"/eos/user/r/rdfexp/ecal/cluster/output_deepcluster_dumper/electrons/numpy_v6/training/clusters_data_{i}.pkl\"\n",
    "    if not os.path.exists(f):\n",
    "        print(\"file not found: \", f)\n",
    "        continue\n",
    "    d = pickle.load(open(f, \"rb\"))\n",
    "    outsc = d[(d.is_seed == False) & (d.in_scluster == False)]\n",
    "    insc =  d[(d.is_seed == False) & (d.in_scluster == True)]    \n",
    "    datas_ele += [insc, outsc]\n",
    "    \n",
    "data_ele = pd.concat(datas_ele, ignore_index=True)\n",
    "data_ele[\"particle\"] = \"electron\"\n",
    "print(\"N events ele: \",len(data_ele))\n",
    "\n",
    "datas_gamma = []\n",
    "for i in range(1, 28):\n",
    "    f = f\"/eos/user/r/rdfexp/ecal/cluster/output_deepcluster_dumper/gammas/numpy_v6/training/clusters_data_{i}.pkl\"\n",
    "    if not os.path.exists(f):\n",
    "        print(\"file not found: \", f)\n",
    "        continue\n",
    "    d = pickle.load(open(f, \"rb\"))\n",
    "    outsc = d[ (d.is_seed == False) & (d.in_scluster == False)]\n",
    "    insc =  d[ (d.is_seed == False) & (d.in_scluster == True)]  \n",
    "    datas_gamma += [insc, outsc]\n",
    "    \n",
    "data_gamma = pd.concat(datas_gamma, ignore_index=True)\n",
    "data_gamma[\"particle\"] = \"gamma\"\n",
    "print(\"N events gamma: \",len(data_gamma))\n",
    "\n",
    "if data_ele.shape[0]> data_gamma.shape[0]:\n",
    "    data = pd.concat([data_gamma, data_ele.iloc[0:len(data_gamma)]], ignore_index=True)\n",
    "else:\n",
    "    data = pd.concat([data_gamma.iloc[0:len(data_ele)], data_ele], ignore_index=True)"
   ]
  },
  {
   "cell_type": "markdown",
   "metadata": {},
   "source": [
    "Balance gamma and electron"
   ]
  },
  {
   "cell_type": "code",
   "execution_count": 47,
   "metadata": {
    "ExecuteTime": {
     "end_time": "2020-04-27T20:23:34.741011Z",
     "start_time": "2020-04-27T20:23:33.482993Z"
    }
   },
   "outputs": [],
   "source": [
    "data_EB = data[abs(data.seed_eta)<1.479]\n",
    "data_EE = data[abs(data.seed_eta)>=1.479]"
   ]
  },
  {
   "cell_type": "code",
   "execution_count": 6,
   "metadata": {
    "ExecuteTime": {
     "end_time": "2020-04-27T14:07:03.915007Z",
     "start_time": "2020-04-27T14:07:02.060986Z"
    }
   },
   "outputs": [
    {
     "name": "stdout",
     "output_type": "stream",
     "text": [
      "N in supercluster:  724745\n",
      "N out supercluster:  1189297\n",
      "1.640986829850499\n"
     ]
    }
   ],
   "source": [
    "print(\"N in supercluster: \", len(data[ data.in_scluster]))\n",
    "print(\"N out supercluster: \", len(data[data.in_scluster == False]))\n",
    "w = len(data[(data.is_seed == False) & (data.in_scluster == False)]) / len(data[(data.is_seed == False) & (data.in_scluster==True)])\n",
    "print(w)"
   ]
  },
  {
   "cell_type": "code",
   "execution_count": 7,
   "metadata": {
    "ExecuteTime": {
     "end_time": "2020-04-27T14:07:19.244995Z",
     "start_time": "2020-04-27T14:07:18.459768Z"
    }
   },
   "outputs": [
    {
     "name": "stdout",
     "output_type": "stream",
     "text": [
      "caloMatch samples:  1268776\n",
      "Not caloMatch samples:  645266\n"
     ]
    }
   ],
   "source": [
    "print(\"caloMatch samples: \", len(data[data.is_calo_matched]))\n",
    "print(\"Not caloMatch samples: \", len(data[data.is_calo_matched ==False]))"
   ]
  },
  {
   "cell_type": "code",
   "execution_count": 48,
   "metadata": {
    "ExecuteTime": {
     "end_time": "2020-04-27T20:23:42.576828Z",
     "start_time": "2020-04-27T20:23:41.674717Z"
    }
   },
   "outputs": [
    {
     "name": "stdout",
     "output_type": "stream",
     "text": [
      "Sample in EB: 968001\n",
      "Sample in EE: 946041\n",
      "Sample in EB in SC: 485043\n",
      "Sample in EE in SC: 239702\n"
     ]
    }
   ],
   "source": [
    "print(\"Sample in EB:\", len(data[abs(data.seed_eta) <1.479]))\n",
    "print(\"Sample in EE:\", len(data[abs(data.seed_eta) >=1.479]))\n",
    "print(\"Sample in EB in SC:\", len(data[(abs(data.seed_eta) <1.479)&(data.in_scluster)]))\n",
    "print(\"Sample in EE in SC:\", len(data[(abs(data.seed_eta) >=1.479)&(data.in_scluster)]))\n"
   ]
  },
  {
   "cell_type": "markdown",
   "metadata": {},
   "source": [
    "## Check plots"
   ]
  },
  {
   "cell_type": "code",
   "execution_count": 9,
   "metadata": {
    "ExecuteTime": {
     "end_time": "2020-04-27T14:07:39.272642Z",
     "start_time": "2020-04-27T14:07:38.560302Z"
    }
   },
   "outputs": [],
   "source": [
    "data_in = data[ (data.is_seed == False) & data.in_scluster]\n",
    "data_out =  data[(data.is_seed == False) & (data.in_scluster == False)]"
   ]
  },
  {
   "cell_type": "code",
   "execution_count": 11,
   "metadata": {
    "ExecuteTime": {
     "end_time": "2020-04-27T14:08:13.907165Z",
     "start_time": "2020-04-27T14:08:13.321412Z"
    }
   },
   "outputs": [
    {
     "data": {
      "text/plain": [
       "<matplotlib.colorbar.Colorbar at 0x7f5484a9ec90>"
      ]
     },
     "execution_count": 11,
     "metadata": {},
     "output_type": "execute_result"
    },
    {
     "data": {
      "image/png": "[encoded data removed]",
      "text/plain": [
       "<Figure size 288x288 with 2 Axes>"
      ]
     },
     "metadata": {
      "needs_background": "light"
     },
     "output_type": "display_data"
    }
   ],
   "source": [
    "plt.matshow(data_in[[\"et_cluster\", \"et_seed\", \"seed_eta\", \"seed_phi\", \"cluster_deta\", \"cluster_dphi\", \"seed_nxtals\",\"cl_nxtals\", \"seed_swissCross\", \"cl_swissCross\"]].corr(), cmap=\"viridis\")\n",
    "plt.colorbar()"
   ]
  },
  {
   "cell_type": "code",
   "execution_count": 12,
   "metadata": {
    "ExecuteTime": {
     "end_time": "2020-04-27T14:08:24.571020Z",
     "start_time": "2020-04-27T14:08:24.265349Z"
    },
    "scrolled": true
   },
   "outputs": [
    {
     "data": {
      "text/plain": [
       "<matplotlib.legend.Legend at 0x7f5484aead10>"
      ]
     },
     "execution_count": 12,
     "metadata": {},
     "output_type": "execute_result"
    },
    {
     "data": {
      "image/png": "[encoded data removed]",
      "text/plain": [
       "<Figure size 500x500 with 1 Axes>"
      ]
     },
     "metadata": {
      "needs_background": "light"
     },
     "output_type": "display_data"
    }
   ],
   "source": [
    "plt.subplots(figsize=(5,5), dpi=100)\n",
    "plt.hist(data_in.et_seed, histtype=\"step\", density=True, bins=50, label=\"in\", range=[0,100])\n",
    "plt.hist(data_out.et_seed, histtype=\"step\", density=True, bins=50, label=\"out\", range=[0,100])\n",
    "plt.legend()"
   ]
  },
  {
   "cell_type": "code",
   "execution_count": 13,
   "metadata": {
    "ExecuteTime": {
     "end_time": "2020-04-27T14:08:34.832582Z",
     "start_time": "2020-04-27T14:08:34.507735Z"
    },
    "scrolled": true
   },
   "outputs": [
    {
     "data": {
      "text/plain": [
       "<matplotlib.legend.Legend at 0x7f5484ae0bd0>"
      ]
     },
     "execution_count": 13,
     "metadata": {},
     "output_type": "execute_result"
    },
    {
     "data": {
      "image/png": "[encoded data removed]",
      "text/plain": [
       "<Figure size 500x500 with 1 Axes>"
      ]
     },
     "metadata": {
      "needs_background": "light"
     },
     "output_type": "display_data"
    }
   ],
   "source": [
    "plt.subplots(figsize=(5,5), dpi=100)\n",
    "plt.hist(data_in.seed_swissCross, histtype=\"step\", density=True, bins=50, label=\"in\", )\n",
    "plt.hist(data_out.seed_swissCross, histtype=\"step\", density=True, bins=50, label=\"out\")\n",
    "plt.legend()"
   ]
  },
  {
   "cell_type": "code",
   "execution_count": 14,
   "metadata": {
    "ExecuteTime": {
     "end_time": "2020-04-27T14:08:44.969551Z",
     "start_time": "2020-04-27T14:08:44.684606Z"
    }
   },
   "outputs": [
    {
     "data": {
      "text/plain": [
       "<matplotlib.legend.Legend at 0x7f5484b4de50>"
      ]
     },
     "execution_count": 14,
     "metadata": {},
     "output_type": "execute_result"
    },
    {
     "data": {
      "image/png": "[encoded data removed]",
      "text/plain": [
       "<Figure size 500x500 with 1 Axes>"
      ]
     },
     "metadata": {
      "needs_background": "light"
     },
     "output_type": "display_data"
    }
   ],
   "source": [
    "plt.subplots(figsize=(5,5), dpi=100)\n",
    "plt.hist(data_in.cl_swissCross, histtype=\"step\", density=True, bins=50, label=\"in\", )\n",
    "plt.hist(data_out.cl_swissCross, histtype=\"step\", density=True, bins=50, label=\"out\")\n",
    "plt.legend()"
   ]
  },
  {
   "cell_type": "code",
   "execution_count": 15,
   "metadata": {
    "ExecuteTime": {
     "end_time": "2020-04-27T14:08:55.342882Z",
     "start_time": "2020-04-27T14:08:55.015385Z"
    }
   },
   "outputs": [
    {
     "data": {
      "text/plain": [
       "<matplotlib.legend.Legend at 0x7f5484b2e610>"
      ]
     },
     "execution_count": 15,
     "metadata": {},
     "output_type": "execute_result"
    },
    {
     "data": {
      "image/png": "[encoded data removed]",
      "text/plain": [
       "<Figure size 500x500 with 1 Axes>"
      ]
     },
     "metadata": {
      "needs_background": "light"
     },
     "output_type": "display_data"
    }
   ],
   "source": [
    "plt.subplots(figsize=(5,5), dpi=100)\n",
    "plt.hist(data_in.seed_eta, histtype=\"step\", density=True, bins=100, label=\"in\")\n",
    "plt.hist(data_out.seed_eta, histtype=\"step\", density=True, bins=100, label=\"out\")\n",
    "plt.legend()"
   ]
  },
  {
   "cell_type": "code",
   "execution_count": 16,
   "metadata": {
    "ExecuteTime": {
     "end_time": "2020-04-27T14:09:05.721082Z",
     "start_time": "2020-04-27T14:09:05.127732Z"
    }
   },
   "outputs": [
    {
     "data": {
      "text/plain": [
       "<matplotlib.legend.Legend at 0x7f5484b25a10>"
      ]
     },
     "execution_count": 16,
     "metadata": {},
     "output_type": "execute_result"
    },
    {
     "data": {
      "image/png": "[encoded data removed]",
      "text/plain": [
       "<Figure size 500x500 with 1 Axes>"
      ]
     },
     "metadata": {
      "needs_background": "light"
     },
     "output_type": "display_data"
    }
   ],
   "source": [
    "plt.subplots(figsize=(5,5), dpi=100)\n",
    "plt.hist(data_in.et_cluster/data_in.et_seed, histtype=\"step\", density=True, bins=50, label=\"in\", range=(0,1.5))\n",
    "plt.hist(data_out.et_cluster/data_out.et_seed, histtype=\"step\", density=True, bins=50, label=\"out\",range=(0,1.5))\n",
    "plt.legend()"
   ]
  },
  {
   "cell_type": "code",
   "execution_count": 17,
   "metadata": {
    "ExecuteTime": {
     "end_time": "2020-04-27T14:09:16.053942Z",
     "start_time": "2020-04-27T14:09:15.803637Z"
    }
   },
   "outputs": [
    {
     "data": {
      "text/plain": [
       "<matplotlib.legend.Legend at 0x7f5484b94fd0>"
      ]
     },
     "execution_count": 17,
     "metadata": {},
     "output_type": "execute_result"
    },
    {
     "data": {
      "image/png": "[encoded data removed]",
      "text/plain": [
       "<Figure size 500x500 with 1 Axes>"
      ]
     },
     "metadata": {
      "needs_background": "light"
     },
     "output_type": "display_data"
    }
   ],
   "source": [
    "plt.subplots(figsize=(5,5), dpi=100)\n",
    "plt.hist(data_in.cluster_deta, histtype=\"step\", density=True, bins=50, label=\"in\", range=(-0.3,0.3))\n",
    "plt.hist(data_out.cluster_deta, histtype=\"step\", density=True, bins=50, label=\"out\",range=(-0.3,0.3))\n",
    "plt.legend()"
   ]
  },
  {
   "cell_type": "code",
   "execution_count": 18,
   "metadata": {
    "ExecuteTime": {
     "end_time": "2020-04-27T14:09:26.030799Z",
     "start_time": "2020-04-27T14:09:25.771987Z"
    }
   },
   "outputs": [
    {
     "data": {
      "text/plain": [
       "<matplotlib.legend.Legend at 0x7f5484b87a10>"
      ]
     },
     "execution_count": 18,
     "metadata": {},
     "output_type": "execute_result"
    },
    {
     "data": {
      "image/png": "[encoded data removed]",
      "text/plain": [
       "<Figure size 500x500 with 1 Axes>"
      ]
     },
     "metadata": {
      "needs_background": "light"
     },
     "output_type": "display_data"
    }
   ],
   "source": [
    "plt.subplots(figsize=(5,5), dpi=100)\n",
    "plt.hist(data_in.cluster_dphi, histtype=\"step\", density=True, bins=50, label=\"in\", range=(-0.7,0.7))\n",
    "plt.hist(data_out.cluster_dphi, histtype=\"step\", density=True, bins=50, label=\"out\",range=(-0.7,0.7))\n",
    "plt.legend()"
   ]
  },
  {
   "cell_type": "code",
   "execution_count": 19,
   "metadata": {
    "ExecuteTime": {
     "end_time": "2020-04-27T14:09:35.946210Z",
     "start_time": "2020-04-27T14:09:35.661284Z"
    }
   },
   "outputs": [
    {
     "data": {
      "text/plain": [
       "<matplotlib.legend.Legend at 0x7f5484aeab50>"
      ]
     },
     "execution_count": 19,
     "metadata": {},
     "output_type": "execute_result"
    },
    {
     "data": {
      "image/png": "[encoded data removed]",
      "text/plain": [
       "<Figure size 500x500 with 1 Axes>"
      ]
     },
     "metadata": {
      "needs_background": "light"
     },
     "output_type": "display_data"
    }
   ],
   "source": [
    "plt.subplots(figsize=(5,5), dpi=100)\n",
    "plt.hist(data_in.seed_f5_sigmaIphiIphi, histtype=\"step\", density=True, bins=50, label=\"in\", )\n",
    "plt.hist(data_out.seed_f5_sigmaIphiIphi, histtype=\"step\", density=True, bins=50, label=\"out\")\n",
    "plt.legend()"
   ]
  },
  {
   "cell_type": "code",
   "execution_count": 20,
   "metadata": {
    "ExecuteTime": {
     "end_time": "2020-04-27T14:10:05.518441Z",
     "start_time": "2020-04-27T14:10:05.165167Z"
    }
   },
   "outputs": [
    {
     "data": {
      "text/plain": [
       "<matplotlib.legend.Legend at 0x7f5484b5d590>"
      ]
     },
     "execution_count": 20,
     "metadata": {},
     "output_type": "execute_result"
    },
    {
     "data": {
      "image/png": "[encoded data removed]",
      "text/plain": [
       "<Figure size 500x500 with 1 Axes>"
      ]
     },
     "metadata": {
      "needs_background": "light"
     },
     "output_type": "display_data"
    }
   ],
   "source": [
    "plt.subplots(figsize=(5,5), dpi=100)\n",
    "plt.hist(data_in.cl_f5_sigmaIphiIphi, histtype=\"step\", density=True, bins=50, label=\"in\", )\n",
    "plt.hist(data_out.cl_f5_sigmaIphiIphi, histtype=\"step\", density=True, bins=50, label=\"out\")\n",
    "plt.legend()"
   ]
  },
  {
   "cell_type": "code",
   "execution_count": 21,
   "metadata": {
    "ExecuteTime": {
     "end_time": "2020-04-27T14:10:14.756371Z",
     "start_time": "2020-04-27T14:10:14.408093Z"
    }
   },
   "outputs": [
    {
     "data": {
      "text/plain": [
       "<matplotlib.legend.Legend at 0x7f548501d6d0>"
      ]
     },
     "execution_count": 21,
     "metadata": {},
     "output_type": "execute_result"
    },
    {
     "data": {
      "image/png": "[encoded data removed]",
      "text/plain": [
       "<Figure size 500x500 with 1 Axes>"
      ]
     },
     "metadata": {
      "needs_background": "light"
     },
     "output_type": "display_data"
    }
   ],
   "source": [
    "plt.subplots(figsize=(5,5), dpi=100)\n",
    "plt.hist(data_in.seed_f5_sigmaIetaIeta, histtype=\"step\", density=True, bins=50, label=\"in\", )\n",
    "plt.hist(data_out.seed_f5_sigmaIetaIeta, histtype=\"step\", density=True, bins=50, label=\"out\")\n",
    "plt.legend()"
   ]
  },
  {
   "cell_type": "code",
   "execution_count": 22,
   "metadata": {
    "ExecuteTime": {
     "end_time": "2020-04-27T14:10:23.901540Z",
     "start_time": "2020-04-27T14:10:23.553282Z"
    }
   },
   "outputs": [
    {
     "data": {
      "text/plain": [
       "<matplotlib.legend.Legend at 0x7f5485061490>"
      ]
     },
     "execution_count": 22,
     "metadata": {},
     "output_type": "execute_result"
    },
    {
     "data": {
      "image/png": "[encoded data removed]",
      "text/plain": [
       "<Figure size 500x500 with 1 Axes>"
      ]
     },
     "metadata": {
      "needs_background": "light"
     },
     "output_type": "display_data"
    }
   ],
   "source": [
    "plt.subplots(figsize=(5,5), dpi=100)\n",
    "plt.hist(data_in.cl_f5_sigmaIetaIeta, histtype=\"step\", density=True, bins=50, label=\"in\", )\n",
    "plt.hist(data_out.cl_f5_sigmaIetaIeta, histtype=\"step\", density=True, bins=50, label=\"out\")\n",
    "plt.legend()"
   ]
  },
  {
   "cell_type": "markdown",
   "metadata": {},
   "source": [
    "## Weights by DeltaPhi"
   ]
  },
  {
   "cell_type": "code",
   "execution_count": 8,
   "metadata": {
    "ExecuteTime": {
     "end_time": "2020-04-21T08:32:57.403322Z",
     "start_time": "2020-04-21T08:32:57.394511Z"
    }
   },
   "outputs": [
    {
     "data": {
      "text/plain": [
       "Index(['cl_f5_r9', 'cl_f5_sigmaIetaIeta', 'cl_f5_sigmaIetaIphi',\n",
       "       'cl_f5_sigmaIphiIphi', 'cl_nxtals', 'cl_swissCross', 'cluster_deta',\n",
       "       'cluster_dphi', 'cluster_iz', 'en_cluster', 'en_seed', 'en_true',\n",
       "       'et_cluster', 'et_seed', 'et_true', 'in_scluster', 'index',\n",
       "       'is_calo_matched', 'is_seed', 'max_dr_cluster', 'max_en_cluster',\n",
       "       'nclusters', 'seed_eta', 'seed_f5_r9d', 'seed_f5_sigmaIetaIeta',\n",
       "       'seed_f5_sigmaIetaIphi', 'seed_f5_sigmaIphiIphi', 'seed_iz',\n",
       "       'seed_nxtals', 'seed_phi', 'seed_swissCross', 'window_index',\n",
       "       'particle'],\n",
       "      dtype='object')"
      ]
     },
     "execution_count": 8,
     "metadata": {},
     "output_type": "execute_result"
    }
   ],
   "source": [
    "data.columns"
   ]
  },
  {
   "cell_type": "code",
   "execution_count": 49,
   "metadata": {
    "ExecuteTime": {
     "end_time": "2020-04-27T20:23:52.842955Z",
     "start_time": "2020-04-27T20:23:52.835364Z"
    }
   },
   "outputs": [],
   "source": [
    "cols = [\"seed_eta\", \"seed_phi\", \"seed_iz\",\"en_seed\",\"et_seed\",\n",
    "        \"cluster_deta\", \"cluster_dphi\", \"en_cluster\", \"et_cluster\",\n",
    "       \"seed_f5_r9\", \"seed_f5_sigmaIetaIeta\",\"seed_f5_sigmaIetaIphi\",\"seed_f5_sigmaIphiIphi\",\"seed_swissCross\",\"seed_nxtals\",\n",
    "        \"cl_f5_r9\", \"cl_f5_sigmaIetaIeta\",\"cl_f5_sigmaIetaIphi\",\"cl_f5_sigmaIphiIphi\",\"cl_swissCross\", \"cl_nxtals\"]"
   ]
  },
  {
   "cell_type": "code",
   "execution_count": 63,
   "metadata": {
    "ExecuteTime": {
     "end_time": "2020-04-27T20:34:58.261901Z",
     "start_time": "2020-04-27T20:34:58.256903Z"
    }
   },
   "outputs": [],
   "source": [
    "data = data_EE"
   ]
  },
  {
   "cell_type": "code",
   "execution_count": 64,
   "metadata": {
    "ExecuteTime": {
     "end_time": "2020-04-27T20:35:04.156134Z",
     "start_time": "2020-04-27T20:35:03.882632Z"
    }
   },
   "outputs": [],
   "source": [
    "X = data[ cols ].values\n",
    "truth = data[[\"in_scluster\"]].values\n",
    "y = np.array(truth[:], dtype=int)"
   ]
  },
  {
   "cell_type": "code",
   "execution_count": 65,
   "metadata": {
    "ExecuteTime": {
     "end_time": "2020-04-27T20:35:10.353902Z",
     "start_time": "2020-04-27T20:35:10.034366Z"
    }
   },
   "outputs": [
    {
     "name": "stdout",
     "output_type": "stream",
     "text": [
      "2.9467380330577133\n"
     ]
    }
   ],
   "source": [
    "w = len(data[(data.is_seed == False) & (data.in_scluster == False)]) / len(data[(data.is_seed == False) & (data.in_scluster==True)])\n",
    "print(w)"
   ]
  },
  {
   "cell_type": "code",
   "execution_count": 66,
   "metadata": {
    "ExecuteTime": {
     "end_time": "2020-04-27T20:35:15.862577Z",
     "start_time": "2020-04-27T20:35:15.343579Z"
    }
   },
   "outputs": [
    {
     "name": "stderr",
     "output_type": "stream",
     "text": [
      "/usr/local/bin/start_ipykernel.py:1: SettingWithCopyWarning: \n",
      "A value is trying to be set on a copy of a slice from a DataFrame.\n",
      "Try using .loc[row_indexer,col_indexer] = value instead\n",
      "\n",
      "See the caveats in the documentation: http://pandas.pydata.org/pandas-docs/stable/indexing.html#indexing-view-versus-copy\n",
      "  \n"
     ]
    }
   ],
   "source": [
    "data[\"w\"] = data.in_scluster.apply(lambda a: w if a else 1.)\n",
    "weight = data.w.values"
   ]
  },
  {
   "cell_type": "code",
   "execution_count": 54,
   "metadata": {
    "ExecuteTime": {
     "end_time": "2020-04-27T20:24:59.757684Z",
     "start_time": "2020-04-27T20:24:58.978247Z"
    }
   },
   "outputs": [],
   "source": [
    "from sklearn.preprocessing import MinMaxScaler, StandardScaler, QuantileTransformer\n",
    "from sklearn.model_selection import train_test_split\n",
    "scaler = StandardScaler()\n",
    "X_scaled = scaler.fit_transform(X)\n",
    "pickle.dump(scaler, open(\"../models/v5_dynamicwindow/scaler_model1_EB.pkl\", \"wb\"))"
   ]
  },
  {
   "cell_type": "code",
   "execution_count": 67,
   "metadata": {
    "ExecuteTime": {
     "end_time": "2020-04-27T20:35:22.559428Z",
     "start_time": "2020-04-27T20:35:21.978061Z"
    }
   },
   "outputs": [],
   "source": [
    "from sklearn.preprocessing import MinMaxScaler, StandardScaler, QuantileTransformer\n",
    "from sklearn.model_selection import train_test_split\n",
    "scaler = StandardScaler()\n",
    "X_scaled = scaler.fit_transform(X)\n",
    "pickle.dump(scaler, open(\"../models/v5_dynamicwindow/scaler_model1_EE.pkl\", \"wb\"))"
   ]
  },
  {
   "cell_type": "code",
   "execution_count": 68,
   "metadata": {
    "ExecuteTime": {
     "end_time": "2020-04-27T20:36:06.424318Z",
     "start_time": "2020-04-27T20:36:06.415406Z"
    }
   },
   "outputs": [
    {
     "data": {
      "text/plain": [
       "array([-9.48937722e-02, -2.59092069e-02, -3.23802034e-02,  8.54387012e+01,\n",
       "        1.95493967e+01, -7.99008024e-03,  1.68780274e-05,  8.92748605e+00,\n",
       "        1.92283524e+00,  1.08804190e+00,  3.39450646e-02,  1.85485538e-05,\n",
       "        4.13554904e-02,  4.96716655e-01,  5.44590774e+00,  4.09401210e+00,\n",
       "        3.71462585e-02,  4.80538918e-05,  4.39461957e-02,  5.70297494e-01,\n",
       "        3.15806715e+00])"
      ]
     },
     "execution_count": 68,
     "metadata": {},
     "output_type": "execute_result"
    }
   ],
   "source": [
    "scaler.mean_"
   ]
  },
  {
   "cell_type": "code",
   "execution_count": 69,
   "metadata": {
    "ExecuteTime": {
     "end_time": "2020-04-27T20:36:11.862086Z",
     "start_time": "2020-04-27T20:36:11.856918Z"
    }
   },
   "outputs": [
    {
     "data": {
      "text/plain": [
       "array([2.27502784e+00, 1.80358311e+00, 9.99475624e-01, 1.25874656e+02,\n",
       "       2.62122915e+01, 1.01794340e-01, 1.81101293e-01, 6.05398279e+00,\n",
       "       1.77231292e+00, 5.03589571e-01, 1.40048073e-02, 4.14562658e-04,\n",
       "       1.53689902e-02, 4.13270103e-01, 5.68762983e+00, 9.93354108e+00,\n",
       "       1.65018741e-02, 5.45041026e-04, 1.80243836e-02, 4.37347302e-01,\n",
       "       4.28826919e+00])"
      ]
     },
     "execution_count": 69,
     "metadata": {},
     "output_type": "execute_result"
    }
   ],
   "source": [
    "scaler.scale_"
   ]
  },
  {
   "cell_type": "code",
   "execution_count": 70,
   "metadata": {
    "ExecuteTime": {
     "end_time": "2020-04-27T20:36:18.139205Z",
     "start_time": "2020-04-27T20:36:17.868867Z"
    }
   },
   "outputs": [],
   "source": [
    "X_train, X_val, y_train, y_val, w_train, w_val = train_test_split(X_scaled, y, weight, test_size=0.20)"
   ]
  },
  {
   "cell_type": "markdown",
   "metadata": {},
   "source": [
    "# Training"
   ]
  },
  {
   "cell_type": "code",
   "execution_count": 71,
   "metadata": {
    "ExecuteTime": {
     "end_time": "2020-04-27T20:36:23.574823Z",
     "start_time": "2020-04-27T20:36:23.561721Z"
    }
   },
   "outputs": [],
   "source": [
    "# Import all the required Libraries\n",
    "import tensorflow\n",
    "import keras\n",
    "import pandas as pd\n",
    "import numpy as np\n",
    "import matplotlib.pyplot as plt\n",
    "from keras.datasets import mnist\n",
    "from keras.models import Model, Sequential\n",
    "from keras.layers import Dense, Conv2D, Dropout, BatchNormalization, Input, Reshape, Flatten, Deconvolution2D, Conv2DTranspose, MaxPooling2D, UpSampling2D, Lambda\n",
    "from keras.layers.advanced_activations import LeakyReLU\n",
    "from keras.optimizers import adam\n",
    "from keras import callbacks\n",
    "from keras import backend as K\n",
    "from keras import regularizers\n",
    "from keras.callbacks import *"
   ]
  },
  {
   "cell_type": "code",
   "execution_count": 82,
   "metadata": {
    "ExecuteTime": {
     "end_time": "2020-04-27T20:43:43.461007Z",
     "start_time": "2020-04-27T20:43:43.105870Z"
    }
   },
   "outputs": [
    {
     "name": "stdout",
     "output_type": "stream",
     "text": [
      "_________________________________________________________________\n",
      "Layer (type)                 Output Shape              Param #   \n",
      "=================================================================\n",
      "dense_29 (Dense)             (None, 100)               2200      \n",
      "_________________________________________________________________\n",
      "dropout_23 (Dropout)         (None, 100)               0         \n",
      "_________________________________________________________________\n",
      "dense_30 (Dense)             (None, 50)                5050      \n",
      "_________________________________________________________________\n",
      "dropout_24 (Dropout)         (None, 50)                0         \n",
      "_________________________________________________________________\n",
      "dense_31 (Dense)             (None, 50)                2550      \n",
      "_________________________________________________________________\n",
      "dropout_25 (Dropout)         (None, 50)                0         \n",
      "_________________________________________________________________\n",
      "dense_32 (Dense)             (None, 50)                2550      \n",
      "_________________________________________________________________\n",
      "dropout_26 (Dropout)         (None, 50)                0         \n",
      "_________________________________________________________________\n",
      "dense_33 (Dense)             (None, 1)                 51        \n",
      "=================================================================\n",
      "Total params: 12,401\n",
      "Trainable params: 12,401\n",
      "Non-trainable params: 0\n",
      "_________________________________________________________________\n"
     ]
    }
   ],
   "source": [
    "model = Sequential()\n",
    "model.add(Dense(100, input_dim=X_val.shape[1], activation=\"relu\",kernel_regularizer=regularizers.l2(0.01)))\n",
    "model.add(Dropout(0.05))\n",
    "model.add(Dense(50, activation=\"relu\",kernel_regularizer=regularizers.l2(0.01)))\n",
    "model.add(Dropout(0.05))\n",
    "model.add(Dense(50, activation=\"relu\"))\n",
    "model.add(Dropout(0.05))\n",
    "model.add(Dense(50, activation=\"relu\"))\n",
    "model.add(Dropout(0.05))\n",
    "model.add(Dense(1, activation=\"sigmoid\"))\n",
    "\n",
    "model.compile(optimizer='sgd',\n",
    "              loss='binary_crossentropy',\n",
    "              metrics=['accuracy'])\n",
    "\n",
    "model.summary()"
   ]
  },
  {
   "cell_type": "code",
   "execution_count": 81,
   "metadata": {
    "ExecuteTime": {
     "end_time": "2020-04-27T20:43:36.141251Z",
     "start_time": "2020-04-27T20:43:36.131252Z"
    }
   },
   "outputs": [],
   "source": [
    "import math\n",
    "def step_decay(epoch):\n",
    "    initial_lrate = 0.3\n",
    "    drop = 0.65\n",
    "    epochs_drop = 5.0\n",
    "    lrate = initial_lrate * math.pow(drop, math.floor((1+epoch)/epochs_drop))\n",
    "    if lrate < 0.005: return 0.005\n",
    "    return lrate"
   ]
  },
  {
   "cell_type": "code",
   "execution_count": 83,
   "metadata": {
    "ExecuteTime": {
     "end_time": "2020-04-27T20:54:32.026787Z",
     "start_time": "2020-04-27T20:43:47.969465Z"
    },
    "scrolled": false
   },
   "outputs": [
    {
     "name": "stdout",
     "output_type": "stream",
     "text": [
      "Train on 756832 samples, validate on 189209 samples\n",
      "Epoch 1/300\n",
      "\n",
      "Epoch 00001: LearningRateScheduler setting learning rate to 0.3.\n",
      "756832/756832 [==============================] - 5s 7us/step - loss: 0.6060 - acc: 0.9158 - val_loss: 0.3273 - val_acc: 0.9514\n",
      "Epoch 2/300\n",
      "\n",
      "Epoch 00002: LearningRateScheduler setting learning rate to 0.3.\n",
      "756832/756832 [==============================] - 4s 6us/step - loss: 0.3460 - acc: 0.9312 - val_loss: 0.3585 - val_acc: 0.8981\n",
      "Epoch 3/300\n",
      "\n",
      "Epoch 00003: LearningRateScheduler setting learning rate to 0.3.\n",
      "756832/756832 [==============================] - 4s 6us/step - loss: 0.3408 - acc: 0.9303 - val_loss: 0.3812 - val_acc: 0.8820\n",
      "Epoch 4/300\n",
      "\n",
      "Epoch 00004: LearningRateScheduler setting learning rate to 0.3.\n",
      "756832/756832 [==============================] - 4s 5us/step - loss: 0.3369 - acc: 0.9305 - val_loss: 0.3166 - val_acc: 0.9522\n",
      "Epoch 5/300\n",
      "\n",
      "Epoch 00005: LearningRateScheduler setting learning rate to 0.195.\n",
      "756832/756832 [==============================] - 4s 6us/step - loss: 0.3041 - acc: 0.9380 - val_loss: 0.2745 - val_acc: 0.9526\n",
      "\n",
      "Epoch 00005: val_loss improved from inf to 0.27446, saving model to ../models/v5_dynamicwindow/model2_EE.hd5\n",
      "Epoch 6/300\n",
      "\n",
      "Epoch 00006: LearningRateScheduler setting learning rate to 0.195.\n",
      "756832/756832 [==============================] - 4s 5us/step - loss: 0.3082 - acc: 0.9356 - val_loss: 0.2760 - val_acc: 0.9391\n",
      "Epoch 7/300\n",
      "\n",
      "Epoch 00007: LearningRateScheduler setting learning rate to 0.195.\n",
      "756832/756832 [==============================] - 4s 5us/step - loss: 0.3087 - acc: 0.9349 - val_loss: 0.2798 - val_acc: 0.9398\n",
      "Epoch 8/300\n",
      "\n",
      "Epoch 00008: LearningRateScheduler setting learning rate to 0.195.\n",
      "756832/756832 [==============================] - 4s 6us/step - loss: 0.3066 - acc: 0.9356 - val_loss: 0.2708 - val_acc: 0.9436\n",
      "Epoch 9/300\n",
      "\n",
      "Epoch 00009: LearningRateScheduler setting learning rate to 0.195.\n",
      "756832/756832 [==============================] - 4s 6us/step - loss: 0.3078 - acc: 0.9354 - val_loss: 0.3540 - val_acc: 0.9511\n",
      "Epoch 10/300\n",
      "\n",
      "Epoch 00010: LearningRateScheduler setting learning rate to 0.12675.\n",
      "756832/756832 [==============================] - 4s 6us/step - loss: 0.2807 - acc: 0.9419 - val_loss: 0.2775 - val_acc: 0.9569\n",
      "\n",
      "Epoch 00010: val_loss did not improve from 0.27446\n",
      "Epoch 11/300\n",
      "\n",
      "Epoch 00011: LearningRateScheduler setting learning rate to 0.12675.\n",
      "756832/756832 [==============================] - 4s 6us/step - loss: 0.2845 - acc: 0.9401 - val_loss: 0.2711 - val_acc: 0.9512\n",
      "Epoch 12/300\n",
      "\n",
      "Epoch 00012: LearningRateScheduler setting learning rate to 0.12675.\n",
      "756832/756832 [==============================] - 4s 6us/step - loss: 0.2834 - acc: 0.9405 - val_loss: 0.2761 - val_acc: 0.9262\n",
      "Epoch 13/300\n",
      "\n",
      "Epoch 00013: LearningRateScheduler setting learning rate to 0.12675.\n",
      "756832/756832 [==============================] - 4s 6us/step - loss: 0.2846 - acc: 0.9399 - val_loss: 0.2727 - val_acc: 0.9281\n",
      "Epoch 14/300\n",
      "\n",
      "Epoch 00014: LearningRateScheduler setting learning rate to 0.12675.\n",
      "756832/756832 [==============================] - 4s 6us/step - loss: 0.2838 - acc: 0.9403 - val_loss: 0.2686 - val_acc: 0.9567\n",
      "Epoch 15/300\n",
      "\n",
      "Epoch 00015: LearningRateScheduler setting learning rate to 0.0823875.\n",
      "756832/756832 [==============================] - 4s 6us/step - loss: 0.2625 - acc: 0.9458 - val_loss: 0.2477 - val_acc: 0.9543\n",
      "\n",
      "Epoch 00015: val_loss improved from 0.27446 to 0.24773, saving model to ../models/v5_dynamicwindow/model2_EE.hd5\n",
      "Epoch 16/300\n",
      "\n",
      "Epoch 00016: LearningRateScheduler setting learning rate to 0.0823875.\n",
      "756832/756832 [==============================] - 4s 6us/step - loss: 0.2656 - acc: 0.9442 - val_loss: 0.2608 - val_acc: 0.9566\n",
      "Epoch 17/300\n",
      "\n",
      "Epoch 00017: LearningRateScheduler setting learning rate to 0.0823875.\n",
      "756832/756832 [==============================] - 4s 6us/step - loss: 0.2671 - acc: 0.9437 - val_loss: 0.2642 - val_acc: 0.9318\n",
      "Epoch 18/300\n",
      "\n",
      "Epoch 00018: LearningRateScheduler setting learning rate to 0.0823875.\n",
      "756832/756832 [==============================] - 5s 6us/step - loss: 0.2659 - acc: 0.9439 - val_loss: 0.2998 - val_acc: 0.9565\n",
      "Epoch 19/300\n",
      "\n",
      "Epoch 00019: LearningRateScheduler setting learning rate to 0.0823875.\n",
      "756832/756832 [==============================] - 4s 6us/step - loss: 0.2657 - acc: 0.9438 - val_loss: 0.2423 - val_acc: 0.9552\n",
      "Epoch 20/300\n",
      "\n",
      "Epoch 00020: LearningRateScheduler setting learning rate to 0.053551875000000006.\n",
      "756832/756832 [==============================] - 4s 6us/step - loss: 0.2483 - acc: 0.9486 - val_loss: 0.2349 - val_acc: 0.9528\n",
      "\n",
      "Epoch 00020: val_loss improved from 0.24773 to 0.23486, saving model to ../models/v5_dynamicwindow/model2_EE.hd5\n",
      "Epoch 21/300\n",
      "\n",
      "Epoch 00021: LearningRateScheduler setting learning rate to 0.053551875000000006.\n",
      "756832/756832 [==============================] - 5s 6us/step - loss: 0.2515 - acc: 0.9468 - val_loss: 0.2371 - val_acc: 0.9444\n",
      "Epoch 22/300\n",
      "\n",
      "Epoch 00022: LearningRateScheduler setting learning rate to 0.053551875000000006.\n",
      "756832/756832 [==============================] - 4s 6us/step - loss: 0.2523 - acc: 0.9459 - val_loss: 0.2698 - val_acc: 0.9594\n",
      "Epoch 23/300\n",
      "\n",
      "Epoch 00023: LearningRateScheduler setting learning rate to 0.053551875000000006.\n",
      "756832/756832 [==============================] - 4s 6us/step - loss: 0.2531 - acc: 0.9458 - val_loss: 0.2367 - val_acc: 0.9440\n",
      "Epoch 24/300\n",
      "\n",
      "Epoch 00024: LearningRateScheduler setting learning rate to 0.053551875000000006.\n",
      "756832/756832 [==============================] - 4s 6us/step - loss: 0.2518 - acc: 0.9460 - val_loss: 0.2371 - val_acc: 0.9576\n",
      "Epoch 25/300\n",
      "\n",
      "Epoch 00025: LearningRateScheduler setting learning rate to 0.03480871875.\n",
      "756832/756832 [==============================] - 4s 6us/step - loss: 0.2369 - acc: 0.9506 - val_loss: 0.2495 - val_acc: 0.9598\n",
      "\n",
      "Epoch 00025: val_loss did not improve from 0.23486\n",
      "Epoch 26/300\n",
      "\n",
      "Epoch 00026: LearningRateScheduler setting learning rate to 0.03480871875.\n",
      "756832/756832 [==============================] - 4s 5us/step - loss: 0.2407 - acc: 0.9486 - val_loss: 0.2275 - val_acc: 0.9487\n",
      "Epoch 27/300\n",
      "\n",
      "Epoch 00027: LearningRateScheduler setting learning rate to 0.03480871875.\n",
      "756832/756832 [==============================] - 4s 5us/step - loss: 0.2392 - acc: 0.9488 - val_loss: 0.2294 - val_acc: 0.9462\n",
      "Epoch 28/300\n",
      "\n",
      "Epoch 00028: LearningRateScheduler setting learning rate to 0.03480871875.\n",
      "756832/756832 [==============================] - 4s 5us/step - loss: 0.2398 - acc: 0.9485 - val_loss: 0.2288 - val_acc: 0.9446\n",
      "Epoch 29/300\n",
      "\n",
      "Epoch 00029: LearningRateScheduler setting learning rate to 0.03480871875.\n",
      "756832/756832 [==============================] - 4s 6us/step - loss: 0.2411 - acc: 0.9485 - val_loss: 0.2284 - val_acc: 0.9579\n",
      "Epoch 30/300\n",
      "\n",
      "Epoch 00030: LearningRateScheduler setting learning rate to 0.022625667187500004.\n",
      "756832/756832 [==============================] - 4s 6us/step - loss: 0.2274 - acc: 0.9520 - val_loss: 0.2285 - val_acc: 0.9603\n",
      "\n",
      "Epoch 00030: val_loss improved from 0.23486 to 0.22855, saving model to ../models/v5_dynamicwindow/model2_EE.hd5\n",
      "Epoch 31/300\n",
      "\n",
      "Epoch 00031: LearningRateScheduler setting learning rate to 0.022625667187500004.\n",
      "756832/756832 [==============================] - 4s 6us/step - loss: 0.2297 - acc: 0.9508 - val_loss: 0.2227 - val_acc: 0.9455\n",
      "Epoch 32/300\n",
      "\n",
      "Epoch 00032: LearningRateScheduler setting learning rate to 0.022625667187500004.\n",
      "756832/756832 [==============================] - 4s 6us/step - loss: 0.2306 - acc: 0.9506 - val_loss: 0.2185 - val_acc: 0.9580\n",
      "Epoch 33/300\n",
      "\n",
      "Epoch 00033: LearningRateScheduler setting learning rate to 0.022625667187500004.\n",
      "756832/756832 [==============================] - 4s 5us/step - loss: 0.2304 - acc: 0.9506 - val_loss: 0.2284 - val_acc: 0.9405\n",
      "Epoch 34/300\n",
      "\n",
      "Epoch 00034: LearningRateScheduler setting learning rate to 0.022625667187500004.\n",
      "756832/756832 [==============================] - 4s 6us/step - loss: 0.2320 - acc: 0.9502 - val_loss: 0.2152 - val_acc: 0.9538\n",
      "Epoch 35/300\n",
      "\n",
      "Epoch 00035: LearningRateScheduler setting learning rate to 0.014706683671875003.\n",
      "756832/756832 [==============================] - 4s 6us/step - loss: 0.2202 - acc: 0.9528 - val_loss: 0.2197 - val_acc: 0.9432\n",
      "\n",
      "Epoch 00035: val_loss improved from 0.22855 to 0.21969, saving model to ../models/v5_dynamicwindow/model2_EE.hd5\n",
      "Epoch 36/300\n",
      "\n",
      "Epoch 00036: LearningRateScheduler setting learning rate to 0.014706683671875003.\n"
     ]
    },
    {
     "name": "stdout",
     "output_type": "stream",
     "text": [
      "756832/756832 [==============================] - 4s 6us/step - loss: 0.2205 - acc: 0.9521 - val_loss: 0.2119 - val_acc: 0.9518\n",
      "Epoch 37/300\n",
      "\n",
      "Epoch 00037: LearningRateScheduler setting learning rate to 0.014706683671875003.\n",
      "756832/756832 [==============================] - 4s 6us/step - loss: 0.2215 - acc: 0.9517 - val_loss: 0.2111 - val_acc: 0.9509\n",
      "Epoch 38/300\n",
      "\n",
      "Epoch 00038: LearningRateScheduler setting learning rate to 0.014706683671875003.\n",
      "756832/756832 [==============================] - 4s 6us/step - loss: 0.2219 - acc: 0.9514 - val_loss: 0.2206 - val_acc: 0.9432\n",
      "Epoch 39/300\n",
      "\n",
      "Epoch 00039: LearningRateScheduler setting learning rate to 0.014706683671875003.\n",
      "756832/756832 [==============================] - 4s 6us/step - loss: 0.2223 - acc: 0.9513 - val_loss: 0.2161 - val_acc: 0.9457\n",
      "Epoch 40/300\n",
      "\n",
      "Epoch 00040: LearningRateScheduler setting learning rate to 0.009559344386718753.\n",
      "756832/756832 [==============================] - 4s 6us/step - loss: 0.2161 - acc: 0.9529 - val_loss: 0.2093 - val_acc: 0.9563\n",
      "\n",
      "Epoch 00040: val_loss improved from 0.21969 to 0.20931, saving model to ../models/v5_dynamicwindow/model2_EE.hd5\n",
      "Epoch 41/300\n",
      "\n",
      "Epoch 00041: LearningRateScheduler setting learning rate to 0.009559344386718753.\n",
      "756832/756832 [==============================] - 4s 6us/step - loss: 0.2157 - acc: 0.9527 - val_loss: 0.2081 - val_acc: 0.9530\n",
      "Epoch 42/300\n",
      "\n",
      "Epoch 00042: LearningRateScheduler setting learning rate to 0.009559344386718753.\n",
      "756832/756832 [==============================] - 4s 6us/step - loss: 0.2158 - acc: 0.9527 - val_loss: 0.2078 - val_acc: 0.9523\n",
      "Epoch 43/300\n",
      "\n",
      "Epoch 00043: LearningRateScheduler setting learning rate to 0.009559344386718753.\n",
      "756832/756832 [==============================] - 4s 6us/step - loss: 0.2158 - acc: 0.9525 - val_loss: 0.2074 - val_acc: 0.9551\n",
      "Epoch 44/300\n",
      "\n",
      "Epoch 00044: LearningRateScheduler setting learning rate to 0.009559344386718753.\n",
      "756832/756832 [==============================] - 4s 6us/step - loss: 0.2156 - acc: 0.9524 - val_loss: 0.2098 - val_acc: 0.9577\n",
      "Epoch 45/300\n",
      "\n",
      "Epoch 00045: LearningRateScheduler setting learning rate to 0.0062135738513671894.\n",
      "756832/756832 [==============================] - 4s 6us/step - loss: 0.2139 - acc: 0.9526 - val_loss: 0.2092 - val_acc: 0.9487\n",
      "\n",
      "Epoch 00045: val_loss improved from 0.20931 to 0.20922, saving model to ../models/v5_dynamicwindow/model2_EE.hd5\n",
      "Epoch 46/300\n",
      "\n",
      "Epoch 00046: LearningRateScheduler setting learning rate to 0.0062135738513671894.\n",
      "756832/756832 [==============================] - 4s 6us/step - loss: 0.2135 - acc: 0.9529 - val_loss: 0.2061 - val_acc: 0.9540\n",
      "Epoch 47/300\n",
      "\n",
      "Epoch 00047: LearningRateScheduler setting learning rate to 0.0062135738513671894.\n",
      "756832/756832 [==============================] - 4s 6us/step - loss: 0.2133 - acc: 0.9528 - val_loss: 0.2088 - val_acc: 0.9577\n",
      "Epoch 48/300\n",
      "\n",
      "Epoch 00048: LearningRateScheduler setting learning rate to 0.0062135738513671894.\n",
      "756832/756832 [==============================] - 4s 6us/step - loss: 0.2131 - acc: 0.9528 - val_loss: 0.2061 - val_acc: 0.9548\n",
      "Epoch 49/300\n",
      "\n",
      "Epoch 00049: LearningRateScheduler setting learning rate to 0.0062135738513671894.\n",
      "756832/756832 [==============================] - 4s 6us/step - loss: 0.2131 - acc: 0.9530 - val_loss: 0.2061 - val_acc: 0.9540\n",
      "Epoch 50/300\n",
      "\n",
      "Epoch 00050: LearningRateScheduler setting learning rate to 0.005.\n",
      "756832/756832 [==============================] - 4s 6us/step - loss: 0.2121 - acc: 0.9531 - val_loss: 0.2056 - val_acc: 0.9530\n",
      "\n",
      "Epoch 00050: val_loss improved from 0.20922 to 0.20556, saving model to ../models/v5_dynamicwindow/model2_EE.hd5\n",
      "Epoch 51/300\n",
      "\n",
      "Epoch 00051: LearningRateScheduler setting learning rate to 0.005.\n",
      "756832/756832 [==============================] - 4s 6us/step - loss: 0.2125 - acc: 0.9531 - val_loss: 0.2056 - val_acc: 0.9539\n",
      "Epoch 52/300\n",
      "\n",
      "Epoch 00052: LearningRateScheduler setting learning rate to 0.005.\n",
      "756832/756832 [==============================] - 4s 6us/step - loss: 0.2123 - acc: 0.9528 - val_loss: 0.2056 - val_acc: 0.9524\n",
      "Epoch 53/300\n",
      "\n",
      "Epoch 00053: LearningRateScheduler setting learning rate to 0.005.\n",
      "756832/756832 [==============================] - 4s 6us/step - loss: 0.2119 - acc: 0.9531 - val_loss: 0.2076 - val_acc: 0.9566\n",
      "Epoch 54/300\n",
      "\n",
      "Epoch 00054: LearningRateScheduler setting learning rate to 0.005.\n",
      "756832/756832 [==============================] - 4s 6us/step - loss: 0.2120 - acc: 0.9531 - val_loss: 0.2050 - val_acc: 0.9542\n",
      "Epoch 55/300\n",
      "\n",
      "Epoch 00055: LearningRateScheduler setting learning rate to 0.005.\n",
      "756832/756832 [==============================] - 4s 6us/step - loss: 0.2121 - acc: 0.9530 - val_loss: 0.2049 - val_acc: 0.9527\n",
      "\n",
      "Epoch 00055: val_loss improved from 0.20556 to 0.20488, saving model to ../models/v5_dynamicwindow/model2_EE.hd5\n",
      "Epoch 56/300\n",
      "\n",
      "Epoch 00056: LearningRateScheduler setting learning rate to 0.005.\n",
      "756832/756832 [==============================] - 4s 6us/step - loss: 0.2116 - acc: 0.9531 - val_loss: 0.2047 - val_acc: 0.9551\n",
      "Epoch 57/300\n",
      "\n",
      "Epoch 00057: LearningRateScheduler setting learning rate to 0.005.\n",
      "756832/756832 [==============================] - 4s 6us/step - loss: 0.2116 - acc: 0.9528 - val_loss: 0.2050 - val_acc: 0.9560\n",
      "Epoch 58/300\n",
      "\n",
      "Epoch 00058: LearningRateScheduler setting learning rate to 0.005.\n",
      "756832/756832 [==============================] - 4s 5us/step - loss: 0.2117 - acc: 0.9530 - val_loss: 0.2054 - val_acc: 0.9507\n",
      "Epoch 59/300\n",
      "\n",
      "Epoch 00059: LearningRateScheduler setting learning rate to 0.005.\n",
      "756832/756832 [==============================] - 4s 5us/step - loss: 0.2111 - acc: 0.9530 - val_loss: 0.2049 - val_acc: 0.9552\n",
      "Epoch 60/300\n",
      "\n",
      "Epoch 00060: LearningRateScheduler setting learning rate to 0.005.\n",
      "756832/756832 [==============================] - 4s 5us/step - loss: 0.2113 - acc: 0.9530 - val_loss: 0.2046 - val_acc: 0.9551\n",
      "\n",
      "Epoch 00060: val_loss improved from 0.20488 to 0.20460, saving model to ../models/v5_dynamicwindow/model2_EE.hd5\n",
      "Epoch 61/300\n",
      "\n",
      "Epoch 00061: LearningRateScheduler setting learning rate to 0.005.\n",
      "756832/756832 [==============================] - 4s 5us/step - loss: 0.2109 - acc: 0.9532 - val_loss: 0.2068 - val_acc: 0.9487\n",
      "Epoch 62/300\n",
      "\n",
      "Epoch 00062: LearningRateScheduler setting learning rate to 0.005.\n",
      "756832/756832 [==============================] - 4s 5us/step - loss: 0.2110 - acc: 0.9530 - val_loss: 0.2038 - val_acc: 0.9550\n",
      "Epoch 63/300\n",
      "\n",
      "Epoch 00063: LearningRateScheduler setting learning rate to 0.005.\n",
      "756832/756832 [==============================] - 4s 5us/step - loss: 0.2106 - acc: 0.9533 - val_loss: 0.2038 - val_acc: 0.9551\n",
      "Epoch 64/300\n",
      "\n",
      "Epoch 00064: LearningRateScheduler setting learning rate to 0.005.\n",
      "756832/756832 [==============================] - 4s 5us/step - loss: 0.2105 - acc: 0.9532 - val_loss: 0.2044 - val_acc: 0.9520\n",
      "Epoch 65/300\n",
      "\n",
      "Epoch 00065: LearningRateScheduler setting learning rate to 0.005.\n",
      "756832/756832 [==============================] - 4s 5us/step - loss: 0.2107 - acc: 0.9530 - val_loss: 0.2040 - val_acc: 0.9529\n",
      "\n",
      "Epoch 00065: val_loss improved from 0.20460 to 0.20402, saving model to ../models/v5_dynamicwindow/model2_EE.hd5\n",
      "Epoch 66/300\n",
      "\n",
      "Epoch 00066: LearningRateScheduler setting learning rate to 0.005.\n",
      "756832/756832 [==============================] - 4s 5us/step - loss: 0.2109 - acc: 0.9531 - val_loss: 0.2038 - val_acc: 0.9541\n",
      "Epoch 67/300\n",
      "\n",
      "Epoch 00067: LearningRateScheduler setting learning rate to 0.005.\n",
      "756832/756832 [==============================] - 4s 6us/step - loss: 0.2104 - acc: 0.9531 - val_loss: 0.2035 - val_acc: 0.9532\n",
      "Epoch 68/300\n",
      "\n",
      "Epoch 00068: LearningRateScheduler setting learning rate to 0.005.\n",
      "756832/756832 [==============================] - 4s 6us/step - loss: 0.2105 - acc: 0.9531 - val_loss: 0.2045 - val_acc: 0.9514\n",
      "Epoch 69/300\n",
      "\n",
      "Epoch 00069: LearningRateScheduler setting learning rate to 0.005.\n",
      "756832/756832 [==============================] - 4s 6us/step - loss: 0.2104 - acc: 0.9529 - val_loss: 0.2052 - val_acc: 0.9571\n",
      "Epoch 70/300\n",
      "\n",
      "Epoch 00070: LearningRateScheduler setting learning rate to 0.005.\n",
      "756832/756832 [==============================] - 4s 6us/step - loss: 0.2101 - acc: 0.9531 - val_loss: 0.2045 - val_acc: 0.9515\n",
      "\n",
      "Epoch 00070: val_loss did not improve from 0.20402\n",
      "Epoch 71/300\n",
      "\n",
      "Epoch 00071: LearningRateScheduler setting learning rate to 0.005.\n"
     ]
    },
    {
     "name": "stdout",
     "output_type": "stream",
     "text": [
      "756832/756832 [==============================] - 4s 6us/step - loss: 0.2103 - acc: 0.9531 - val_loss: 0.2085 - val_acc: 0.9461\n",
      "Epoch 72/300\n",
      "\n",
      "Epoch 00072: LearningRateScheduler setting learning rate to 0.005.\n",
      "756832/756832 [==============================] - 4s 6us/step - loss: 0.2101 - acc: 0.9532 - val_loss: 0.2038 - val_acc: 0.9564\n",
      "Epoch 73/300\n",
      "\n",
      "Epoch 00073: LearningRateScheduler setting learning rate to 0.005.\n",
      "756832/756832 [==============================] - 4s 6us/step - loss: 0.2097 - acc: 0.9531 - val_loss: 0.2040 - val_acc: 0.9567\n",
      "Epoch 74/300\n",
      "\n",
      "Epoch 00074: LearningRateScheduler setting learning rate to 0.005.\n",
      "756832/756832 [==============================] - 4s 6us/step - loss: 0.2097 - acc: 0.9531 - val_loss: 0.2036 - val_acc: 0.9561\n",
      "Epoch 75/300\n",
      "\n",
      "Epoch 00075: LearningRateScheduler setting learning rate to 0.005.\n",
      "756832/756832 [==============================] - 4s 5us/step - loss: 0.2098 - acc: 0.9532 - val_loss: 0.2029 - val_acc: 0.9549\n",
      "\n",
      "Epoch 00075: val_loss improved from 0.20402 to 0.20289, saving model to ../models/v5_dynamicwindow/model2_EE.hd5\n",
      "Epoch 76/300\n",
      "\n",
      "Epoch 00076: LearningRateScheduler setting learning rate to 0.005.\n",
      "756832/756832 [==============================] - 4s 6us/step - loss: 0.2100 - acc: 0.9532 - val_loss: 0.2061 - val_acc: 0.9482\n",
      "Epoch 77/300\n",
      "\n",
      "Epoch 00077: LearningRateScheduler setting learning rate to 0.005.\n",
      "756832/756832 [==============================] - 4s 6us/step - loss: 0.2098 - acc: 0.9531 - val_loss: 0.2026 - val_acc: 0.9541\n",
      "Epoch 78/300\n",
      "\n",
      "Epoch 00078: LearningRateScheduler setting learning rate to 0.005.\n",
      "756832/756832 [==============================] - 4s 5us/step - loss: 0.2096 - acc: 0.9533 - val_loss: 0.2041 - val_acc: 0.9502\n",
      "Epoch 79/300\n",
      "\n",
      "Epoch 00079: LearningRateScheduler setting learning rate to 0.005.\n",
      "756832/756832 [==============================] - 4s 5us/step - loss: 0.2096 - acc: 0.9531 - val_loss: 0.2033 - val_acc: 0.9521\n",
      "Epoch 80/300\n",
      "\n",
      "Epoch 00080: LearningRateScheduler setting learning rate to 0.005.\n",
      "756832/756832 [==============================] - 4s 5us/step - loss: 0.2096 - acc: 0.9533 - val_loss: 0.2037 - val_acc: 0.9572\n",
      "\n",
      "Epoch 00080: val_loss did not improve from 0.20289\n",
      "Epoch 81/300\n",
      "\n",
      "Epoch 00081: LearningRateScheduler setting learning rate to 0.005.\n",
      "756832/756832 [==============================] - 4s 5us/step - loss: 0.2094 - acc: 0.9533 - val_loss: 0.2023 - val_acc: 0.9554\n",
      "Epoch 82/300\n",
      "\n",
      "Epoch 00082: LearningRateScheduler setting learning rate to 0.005.\n",
      "756832/756832 [==============================] - 4s 5us/step - loss: 0.2093 - acc: 0.9531 - val_loss: 0.2021 - val_acc: 0.9553\n",
      "Epoch 83/300\n",
      "\n",
      "Epoch 00083: LearningRateScheduler setting learning rate to 0.005.\n",
      "756832/756832 [==============================] - 4s 5us/step - loss: 0.2095 - acc: 0.9533 - val_loss: 0.2036 - val_acc: 0.9513\n",
      "Epoch 84/300\n",
      "\n",
      "Epoch 00084: LearningRateScheduler setting learning rate to 0.005.\n",
      "756832/756832 [==============================] - 4s 5us/step - loss: 0.2085 - acc: 0.9533 - val_loss: 0.2026 - val_acc: 0.9562\n",
      "Epoch 85/300\n",
      "\n",
      "Epoch 00085: LearningRateScheduler setting learning rate to 0.005.\n",
      "756832/756832 [==============================] - 4s 5us/step - loss: 0.2086 - acc: 0.9534 - val_loss: 0.2022 - val_acc: 0.9530\n",
      "\n",
      "Epoch 00085: val_loss improved from 0.20289 to 0.20221, saving model to ../models/v5_dynamicwindow/model2_EE.hd5\n",
      "Epoch 86/300\n",
      "\n",
      "Epoch 00086: LearningRateScheduler setting learning rate to 0.005.\n",
      "756832/756832 [==============================] - 4s 5us/step - loss: 0.2087 - acc: 0.9534 - val_loss: 0.2024 - val_acc: 0.9562\n",
      "Epoch 87/300\n",
      "\n",
      "Epoch 00087: LearningRateScheduler setting learning rate to 0.005.\n",
      "756832/756832 [==============================] - 4s 5us/step - loss: 0.2092 - acc: 0.9532 - val_loss: 0.2020 - val_acc: 0.9552\n",
      "Epoch 88/300\n",
      "\n",
      "Epoch 00088: LearningRateScheduler setting learning rate to 0.005.\n",
      "756832/756832 [==============================] - 4s 6us/step - loss: 0.2087 - acc: 0.9531 - val_loss: 0.2036 - val_acc: 0.9498\n",
      "Epoch 89/300\n",
      "\n",
      "Epoch 00089: LearningRateScheduler setting learning rate to 0.005.\n",
      "756832/756832 [==============================] - 4s 6us/step - loss: 0.2089 - acc: 0.9533 - val_loss: 0.2024 - val_acc: 0.9523\n",
      "Epoch 90/300\n",
      "\n",
      "Epoch 00090: LearningRateScheduler setting learning rate to 0.005.\n",
      "756832/756832 [==============================] - 4s 5us/step - loss: 0.2091 - acc: 0.9533 - val_loss: 0.2023 - val_acc: 0.9561\n",
      "\n",
      "Epoch 00090: val_loss did not improve from 0.20221\n",
      "Epoch 91/300\n",
      "\n",
      "Epoch 00091: LearningRateScheduler setting learning rate to 0.005.\n",
      "756832/756832 [==============================] - 4s 5us/step - loss: 0.2087 - acc: 0.9533 - val_loss: 0.2097 - val_acc: 0.9447\n",
      "Epoch 92/300\n",
      "\n",
      "Epoch 00092: LearningRateScheduler setting learning rate to 0.005.\n",
      "756832/756832 [==============================] - 4s 6us/step - loss: 0.2086 - acc: 0.9533 - val_loss: 0.2030 - val_acc: 0.9574\n",
      "Epoch 93/300\n",
      "\n",
      "Epoch 00093: LearningRateScheduler setting learning rate to 0.005.\n",
      "756832/756832 [==============================] - 4s 6us/step - loss: 0.2083 - acc: 0.9533 - val_loss: 0.2019 - val_acc: 0.9531\n",
      "Epoch 94/300\n",
      "\n",
      "Epoch 00094: LearningRateScheduler setting learning rate to 0.005.\n",
      "756832/756832 [==============================] - 4s 6us/step - loss: 0.2086 - acc: 0.9533 - val_loss: 0.2018 - val_acc: 0.9536\n",
      "Epoch 95/300\n",
      "\n",
      "Epoch 00095: LearningRateScheduler setting learning rate to 0.005.\n",
      "756832/756832 [==============================] - 4s 6us/step - loss: 0.2089 - acc: 0.9532 - val_loss: 0.2023 - val_acc: 0.9566\n",
      "\n",
      "Epoch 00095: val_loss did not improve from 0.20221\n",
      "Epoch 96/300\n",
      "\n",
      "Epoch 00096: LearningRateScheduler setting learning rate to 0.005.\n",
      "756832/756832 [==============================] - 4s 6us/step - loss: 0.2080 - acc: 0.9533 - val_loss: 0.2021 - val_acc: 0.9565\n",
      "Epoch 97/300\n",
      "\n",
      "Epoch 00097: LearningRateScheduler setting learning rate to 0.005.\n",
      "756832/756832 [==============================] - 4s 6us/step - loss: 0.2078 - acc: 0.9536 - val_loss: 0.2029 - val_acc: 0.9578\n",
      "Epoch 98/300\n",
      "\n",
      "Epoch 00098: LearningRateScheduler setting learning rate to 0.005.\n",
      "756832/756832 [==============================] - 4s 6us/step - loss: 0.2083 - acc: 0.9534 - val_loss: 0.2018 - val_acc: 0.9522\n",
      "Epoch 99/300\n",
      "\n",
      "Epoch 00099: LearningRateScheduler setting learning rate to 0.005.\n",
      "756832/756832 [==============================] - 4s 6us/step - loss: 0.2079 - acc: 0.9535 - val_loss: 0.2027 - val_acc: 0.9516\n",
      "Epoch 100/300\n",
      "\n",
      "Epoch 00100: LearningRateScheduler setting learning rate to 0.005.\n",
      "756832/756832 [==============================] - 4s 6us/step - loss: 0.2077 - acc: 0.9533 - val_loss: 0.2016 - val_acc: 0.9520\n",
      "\n",
      "Epoch 00100: val_loss improved from 0.20221 to 0.20162, saving model to ../models/v5_dynamicwindow/model2_EE.hd5\n",
      "Epoch 101/300\n",
      "\n",
      "Epoch 00101: LearningRateScheduler setting learning rate to 0.005.\n",
      "756832/756832 [==============================] - 4s 6us/step - loss: 0.2080 - acc: 0.9534 - val_loss: 0.2013 - val_acc: 0.9569\n",
      "Epoch 102/300\n",
      "\n",
      "Epoch 00102: LearningRateScheduler setting learning rate to 0.005.\n",
      "756832/756832 [==============================] - 4s 6us/step - loss: 0.2081 - acc: 0.9535 - val_loss: 0.2017 - val_acc: 0.9544\n",
      "Epoch 103/300\n",
      "\n",
      "Epoch 00103: LearningRateScheduler setting learning rate to 0.005.\n",
      "756832/756832 [==============================] - 4s 5us/step - loss: 0.2081 - acc: 0.9532 - val_loss: 0.2010 - val_acc: 0.9559\n",
      "Epoch 104/300\n",
      "\n",
      "Epoch 00104: LearningRateScheduler setting learning rate to 0.005.\n",
      "756832/756832 [==============================] - 4s 5us/step - loss: 0.2077 - acc: 0.9535 - val_loss: 0.2008 - val_acc: 0.9527\n",
      "Epoch 105/300\n",
      "\n",
      "Epoch 00105: LearningRateScheduler setting learning rate to 0.005.\n",
      "756832/756832 [==============================] - 4s 6us/step - loss: 0.2084 - acc: 0.9532 - val_loss: 0.2005 - val_acc: 0.9536\n",
      "\n",
      "Epoch 00105: val_loss improved from 0.20162 to 0.20046, saving model to ../models/v5_dynamicwindow/model2_EE.hd5\n",
      "Epoch 106/300\n",
      "\n",
      "Epoch 00106: LearningRateScheduler setting learning rate to 0.005.\n",
      "756832/756832 [==============================] - 4s 6us/step - loss: 0.2079 - acc: 0.9532 - val_loss: 0.2007 - val_acc: 0.9533\n",
      "Epoch 107/300\n",
      "\n",
      "Epoch 00107: LearningRateScheduler setting learning rate to 0.005.\n",
      "756832/756832 [==============================] - 4s 6us/step - loss: 0.2082 - acc: 0.9533 - val_loss: 0.2058 - val_acc: 0.9467\n",
      "Epoch 108/300\n",
      "\n",
      "Epoch 00108: LearningRateScheduler setting learning rate to 0.005.\n",
      "756832/756832 [==============================] - 4s 6us/step - loss: 0.2078 - acc: 0.9533 - val_loss: 0.2017 - val_acc: 0.9504\n",
      "Epoch 109/300\n",
      "\n",
      "Epoch 00109: LearningRateScheduler setting learning rate to 0.005.\n",
      "756832/756832 [==============================] - 4s 6us/step - loss: 0.2076 - acc: 0.9534 - val_loss: 0.2003 - val_acc: 0.9535\n",
      "Epoch 110/300\n",
      "\n",
      "Epoch 00110: LearningRateScheduler setting learning rate to 0.005.\n",
      "756832/756832 [==============================] - 4s 6us/step - loss: 0.2084 - acc: 0.9534 - val_loss: 0.2018 - val_acc: 0.9580\n",
      "\n",
      "Epoch 00110: val_loss did not improve from 0.20046\n",
      "Epoch 111/300\n",
      "\n",
      "Epoch 00111: LearningRateScheduler setting learning rate to 0.005.\n",
      "756832/756832 [==============================] - 4s 6us/step - loss: 0.2071 - acc: 0.9534 - val_loss: 0.2119 - val_acc: 0.9419\n",
      "Epoch 112/300\n",
      "\n",
      "Epoch 00112: LearningRateScheduler setting learning rate to 0.005.\n",
      "756832/756832 [==============================] - 4s 6us/step - loss: 0.2075 - acc: 0.9536 - val_loss: 0.2016 - val_acc: 0.9516\n",
      "Epoch 113/300\n",
      "\n",
      "Epoch 00113: LearningRateScheduler setting learning rate to 0.005.\n",
      "756832/756832 [==============================] - 4s 6us/step - loss: 0.2076 - acc: 0.9534 - val_loss: 0.2002 - val_acc: 0.9550\n",
      "Epoch 114/300\n",
      "\n",
      "Epoch 00114: LearningRateScheduler setting learning rate to 0.005.\n",
      "756832/756832 [==============================] - 4s 6us/step - loss: 0.2074 - acc: 0.9536 - val_loss: 0.2068 - val_acc: 0.9598\n",
      "Epoch 115/300\n",
      "\n",
      "Epoch 00115: LearningRateScheduler setting learning rate to 0.005.\n",
      "756832/756832 [==============================] - 4s 6us/step - loss: 0.2075 - acc: 0.9537 - val_loss: 0.2014 - val_acc: 0.9517\n",
      "\n",
      "Epoch 00115: val_loss did not improve from 0.20046\n",
      "Epoch 116/300\n",
      "\n",
      "Epoch 00116: LearningRateScheduler setting learning rate to 0.005.\n",
      "756832/756832 [==============================] - 4s 6us/step - loss: 0.2074 - acc: 0.9536 - val_loss: 0.2014 - val_acc: 0.9577\n",
      "Epoch 117/300\n",
      "\n",
      "Epoch 00117: LearningRateScheduler setting learning rate to 0.005.\n",
      "756832/756832 [==============================] - 4s 6us/step - loss: 0.2073 - acc: 0.9536 - val_loss: 0.2003 - val_acc: 0.9555\n",
      "Epoch 118/300\n",
      "\n",
      "Epoch 00118: LearningRateScheduler setting learning rate to 0.005.\n",
      "756832/756832 [==============================] - 4s 6us/step - loss: 0.2070 - acc: 0.9536 - val_loss: 0.2007 - val_acc: 0.9511\n",
      "Epoch 119/300\n",
      "\n",
      "Epoch 00119: LearningRateScheduler setting learning rate to 0.005.\n",
      "756832/756832 [==============================] - 4s 6us/step - loss: 0.2074 - acc: 0.9535 - val_loss: 0.2023 - val_acc: 0.9584\n",
      "Epoch 120/300\n",
      "\n",
      "Epoch 00120: LearningRateScheduler setting learning rate to 0.005.\n",
      "756832/756832 [==============================] - 4s 6us/step - loss: 0.2074 - acc: 0.9535 - val_loss: 0.2011 - val_acc: 0.9572\n",
      "\n",
      "Epoch 00120: val_loss did not improve from 0.20046\n",
      "Epoch 121/300\n",
      "\n",
      "Epoch 00121: LearningRateScheduler setting learning rate to 0.005.\n",
      "756832/756832 [==============================] - 4s 5us/step - loss: 0.2075 - acc: 0.9535 - val_loss: 0.2006 - val_acc: 0.9532\n",
      "Epoch 122/300\n",
      "\n",
      "Epoch 00122: LearningRateScheduler setting learning rate to 0.005.\n",
      "756832/756832 [==============================] - 4s 5us/step - loss: 0.2073 - acc: 0.9535 - val_loss: 0.2020 - val_acc: 0.9501\n",
      "Epoch 123/300\n",
      "\n",
      "Epoch 00123: LearningRateScheduler setting learning rate to 0.005.\n",
      "756832/756832 [==============================] - 4s 5us/step - loss: 0.2078 - acc: 0.9534 - val_loss: 0.2007 - val_acc: 0.9522\n",
      "Epoch 124/300\n",
      "\n",
      "Epoch 00124: LearningRateScheduler setting learning rate to 0.005.\n",
      "756832/756832 [==============================] - 4s 5us/step - loss: 0.2070 - acc: 0.9534 - val_loss: 0.1997 - val_acc: 0.9534\n",
      "Epoch 125/300\n",
      "\n",
      "Epoch 00125: LearningRateScheduler setting learning rate to 0.005.\n",
      "756832/756832 [==============================] - 4s 5us/step - loss: 0.2068 - acc: 0.9535 - val_loss: 0.2065 - val_acc: 0.9453\n",
      "\n",
      "Epoch 00125: val_loss did not improve from 0.20046\n",
      "Epoch 126/300\n",
      "\n",
      "Epoch 00126: LearningRateScheduler setting learning rate to 0.005.\n",
      "756832/756832 [==============================] - 4s 5us/step - loss: 0.2073 - acc: 0.9534 - val_loss: 0.2007 - val_acc: 0.9520\n",
      "Epoch 127/300\n",
      "\n",
      "Epoch 00127: LearningRateScheduler setting learning rate to 0.005.\n",
      "756832/756832 [==============================] - 4s 5us/step - loss: 0.2073 - acc: 0.9536 - val_loss: 0.1994 - val_acc: 0.9545\n",
      "Epoch 128/300\n",
      "\n",
      "Epoch 00128: LearningRateScheduler setting learning rate to 0.005.\n",
      "756832/756832 [==============================] - 4s 5us/step - loss: 0.2071 - acc: 0.9535 - val_loss: 0.1998 - val_acc: 0.9537\n",
      "Epoch 129/300\n",
      "\n",
      "Epoch 00129: LearningRateScheduler setting learning rate to 0.005.\n",
      "756832/756832 [==============================] - 4s 5us/step - loss: 0.2072 - acc: 0.9535 - val_loss: 0.1997 - val_acc: 0.9537\n",
      "Epoch 130/300\n",
      "\n",
      "Epoch 00130: LearningRateScheduler setting learning rate to 0.005.\n",
      "756832/756832 [==============================] - 4s 5us/step - loss: 0.2073 - acc: 0.9534 - val_loss: 0.2031 - val_acc: 0.9597\n",
      "\n",
      "Epoch 00130: val_loss did not improve from 0.20046\n",
      "Epoch 131/300\n",
      "\n",
      "Epoch 00131: LearningRateScheduler setting learning rate to 0.005.\n",
      "756832/756832 [==============================] - 4s 6us/step - loss: 0.2068 - acc: 0.9536 - val_loss: 0.2013 - val_acc: 0.9507\n",
      "Epoch 132/300\n",
      "\n",
      "Epoch 00132: LearningRateScheduler setting learning rate to 0.005.\n",
      "756832/756832 [==============================] - 4s 5us/step - loss: 0.2074 - acc: 0.9534 - val_loss: 0.2030 - val_acc: 0.9591\n",
      "Epoch 133/300\n",
      "\n",
      "Epoch 00133: LearningRateScheduler setting learning rate to 0.005.\n",
      "756832/756832 [==============================] - 4s 6us/step - loss: 0.2072 - acc: 0.9533 - val_loss: 0.1999 - val_acc: 0.9564\n",
      "Epoch 134/300\n",
      "\n",
      "Epoch 00134: LearningRateScheduler setting learning rate to 0.005.\n",
      "756832/756832 [==============================] - 4s 6us/step - loss: 0.2072 - acc: 0.9535 - val_loss: 0.2029 - val_acc: 0.9494\n",
      "Epoch 135/300\n",
      "\n",
      "Epoch 00135: LearningRateScheduler setting learning rate to 0.005.\n",
      "756832/756832 [==============================] - 4s 6us/step - loss: 0.2068 - acc: 0.9536 - val_loss: 0.1999 - val_acc: 0.9525\n",
      "\n",
      "Epoch 00135: val_loss improved from 0.20046 to 0.19988, saving model to ../models/v5_dynamicwindow/model2_EE.hd5\n",
      "Epoch 136/300\n",
      "\n",
      "Epoch 00136: LearningRateScheduler setting learning rate to 0.005.\n",
      "756832/756832 [==============================] - 4s 6us/step - loss: 0.2066 - acc: 0.9536 - val_loss: 0.1984 - val_acc: 0.9551\n",
      "Epoch 137/300\n",
      "\n",
      "Epoch 00137: LearningRateScheduler setting learning rate to 0.005.\n",
      "756832/756832 [==============================] - 4s 6us/step - loss: 0.2073 - acc: 0.9534 - val_loss: 0.2004 - val_acc: 0.9512\n",
      "Epoch 138/300\n",
      "\n",
      "Epoch 00138: LearningRateScheduler setting learning rate to 0.005.\n",
      "756832/756832 [==============================] - 4s 6us/step - loss: 0.2067 - acc: 0.9536 - val_loss: 0.2025 - val_acc: 0.9489\n",
      "Epoch 139/300\n",
      "\n",
      "Epoch 00139: LearningRateScheduler setting learning rate to 0.005.\n",
      "756832/756832 [==============================] - 4s 6us/step - loss: 0.2070 - acc: 0.9534 - val_loss: 0.2045 - val_acc: 0.9604\n",
      "Epoch 140/300\n",
      "\n",
      "Epoch 00140: LearningRateScheduler setting learning rate to 0.005.\n",
      "756832/756832 [==============================] - 4s 6us/step - loss: 0.2065 - acc: 0.9536 - val_loss: 0.2047 - val_acc: 0.9466\n",
      "\n",
      "Epoch 00140: val_loss did not improve from 0.19988\n",
      "Epoch 141/300\n",
      "\n",
      "Epoch 00141: LearningRateScheduler setting learning rate to 0.005.\n",
      "756832/756832 [==============================] - 4s 6us/step - loss: 0.2068 - acc: 0.9534 - val_loss: 0.2080 - val_acc: 0.9611\n",
      "Epoch 142/300\n",
      "\n",
      "Epoch 00142: LearningRateScheduler setting learning rate to 0.005.\n",
      "756832/756832 [==============================] - 4s 6us/step - loss: 0.2072 - acc: 0.9535 - val_loss: 0.2108 - val_acc: 0.9614\n",
      "Epoch 143/300\n",
      "\n",
      "Epoch 00143: LearningRateScheduler setting learning rate to 0.005.\n",
      "756832/756832 [==============================] - 4s 6us/step - loss: 0.2069 - acc: 0.9535 - val_loss: 0.2014 - val_acc: 0.9499\n",
      "Epoch 144/300\n",
      "\n",
      "Epoch 00144: LearningRateScheduler setting learning rate to 0.005.\n"
     ]
    },
    {
     "name": "stdout",
     "output_type": "stream",
     "text": [
      "756832/756832 [==============================] - 4s 6us/step - loss: 0.2066 - acc: 0.9536 - val_loss: 0.2073 - val_acc: 0.9449\n",
      "Epoch 145/300\n",
      "\n",
      "Epoch 00145: LearningRateScheduler setting learning rate to 0.005.\n",
      "756832/756832 [==============================] - 4s 5us/step - loss: 0.2067 - acc: 0.9536 - val_loss: 0.2032 - val_acc: 0.9599\n",
      "\n",
      "Epoch 00145: val_loss did not improve from 0.19988\n",
      "Epoch 146/300\n",
      "\n",
      "Epoch 00146: LearningRateScheduler setting learning rate to 0.005.\n",
      "756832/756832 [==============================] - 4s 5us/step - loss: 0.2070 - acc: 0.9535 - val_loss: 0.1989 - val_acc: 0.9536\n",
      "Epoch 147/300\n",
      "\n",
      "Epoch 00147: LearningRateScheduler setting learning rate to 0.005.\n",
      "756832/756832 [==============================] - 4s 5us/step - loss: 0.2067 - acc: 0.9534 - val_loss: 0.2001 - val_acc: 0.9581\n",
      "Epoch 148/300\n",
      "\n",
      "Epoch 00148: LearningRateScheduler setting learning rate to 0.005.\n",
      "756832/756832 [==============================] - 4s 5us/step - loss: 0.2063 - acc: 0.9537 - val_loss: 0.1991 - val_acc: 0.9529\n",
      "Epoch 149/300\n",
      "\n",
      "Epoch 00149: LearningRateScheduler setting learning rate to 0.005.\n",
      "756832/756832 [==============================] - 4s 5us/step - loss: 0.2071 - acc: 0.9534 - val_loss: 0.2051 - val_acc: 0.9607\n",
      "Epoch 150/300\n",
      "\n",
      "Epoch 00150: LearningRateScheduler setting learning rate to 0.005.\n",
      "756832/756832 [==============================] - 4s 5us/step - loss: 0.2065 - acc: 0.9537 - val_loss: 0.2021 - val_acc: 0.9595\n",
      "\n",
      "Epoch 00150: val_loss did not improve from 0.19988\n",
      "Epoch 151/300\n",
      "\n",
      "Epoch 00151: LearningRateScheduler setting learning rate to 0.005.\n",
      "756832/756832 [==============================] - 4s 5us/step - loss: 0.2067 - acc: 0.9537 - val_loss: 0.1987 - val_acc: 0.9552\n",
      "Epoch 00151: early stopping\n"
     ]
    }
   ],
   "source": [
    "auto_save = ModelCheckpoint(\"../models/v5_dynamicwindow/model2_EE.hd5\", monitor='val_loss', \n",
    "                    verbose=1, save_best_only=True, save_weights_only=False, \n",
    "                    mode='auto', period=5)\n",
    "\n",
    "early_stop = EarlyStopping(monitor='val_loss', min_delta=0.0001, \n",
    "                            patience=15, verbose=1)\n",
    "\n",
    "\n",
    "lr_scheduler = callbacks.LearningRateScheduler(step_decay, verbose=1)\n",
    "\n",
    "history = model.fit(\n",
    "            X_train, y_train,\n",
    "            sample_weight = w_train,\n",
    "            batch_size = 2048,\n",
    "            epochs=300,\n",
    "            validation_data = (X_val, y_val, w_val),\n",
    "            callbacks = [early_stop, auto_save, lr_scheduler]\n",
    "            )"
   ]
  },
  {
   "cell_type": "code",
   "execution_count": 84,
   "metadata": {
    "ExecuteTime": {
     "end_time": "2020-04-27T20:54:37.881430Z",
     "start_time": "2020-04-27T20:54:37.024432Z"
    }
   },
   "outputs": [
    {
     "name": "stdout",
     "output_type": "stream",
     "text": [
      ">>> Computing AUC...\n",
      "AUC score: 0.9905887952285245\n",
      ">>> Saving ROC curve...\n"
     ]
    },
    {
     "data": {
      "text/plain": [
       "<matplotlib.legend.Legend at 0x7f53f64ff3d0>"
      ]
     },
     "execution_count": 84,
     "metadata": {},
     "output_type": "execute_result"
    },
    {
     "data": {
      "image/png": "[encoded data removed]",
      "text/plain": [
       "<Figure size 432x288 with 1 Axes>"
      ]
     },
     "metadata": {
      "needs_background": "light"
     },
     "output_type": "display_data"
    }
   ],
   "source": [
    "# Evalutation\n",
    "print(\">>> Computing AUC...\")\n",
    "\n",
    "from sklearn.metrics import roc_auc_score, roc_curve\n",
    "\n",
    "pred = model.predict(X_val,batch_size=2048)\n",
    "auc = roc_auc_score(y_val, pred)\n",
    "print(\"AUC score: \" + str(auc))\n",
    "\n",
    "print(\">>> Saving ROC curve...\")\n",
    "fp , tp, th = roc_curve(y_val, pred)\n",
    "plt.plot(fp, tp, label=\"roc\")\n",
    "#plt.plot(fp, th, label=\"threshold\")\n",
    "plt.xlabel(\"false positives\")\n",
    "plt.ylabel(\"true positives\")\n",
    "plt.ylim(-0.05,1.05)\n",
    "plt.legend()"
   ]
  },
  {
   "cell_type": "code",
   "execution_count": 85,
   "metadata": {
    "ExecuteTime": {
     "end_time": "2020-04-27T20:54:43.008501Z",
     "start_time": "2020-04-27T20:54:42.680908Z"
    }
   },
   "outputs": [
    {
     "data": {
      "text/plain": [
       "<matplotlib.legend.Legend at 0x7f53f64b2590>"
      ]
     },
     "execution_count": 85,
     "metadata": {},
     "output_type": "execute_result"
    },
    {
     "data": {
      "image/png": "[encoded data removed]",
      "text/plain": [
       "<Figure size 432x288 with 1 Axes>"
      ]
     },
     "metadata": {
      "needs_background": "light"
     },
     "output_type": "display_data"
    }
   ],
   "source": [
    "plt.plot(history.epoch, history.history[\"val_loss\"], label=\"validation loss\")\n",
    "plt.plot(history.epoch, history.history[\"loss\"], label=\"training loss\")\n",
    "plt.legend()"
   ]
  },
  {
   "cell_type": "code",
   "execution_count": 86,
   "metadata": {
    "ExecuteTime": {
     "end_time": "2020-04-27T20:54:54.398617Z",
     "start_time": "2020-04-27T20:54:49.977424Z"
    }
   },
   "outputs": [
    {
     "data": {
      "text/plain": [
       "<matplotlib.legend.Legend at 0x7f53f650f1d0>"
      ]
     },
     "execution_count": 86,
     "metadata": {},
     "output_type": "execute_result"
    },
    {
     "data": {
      "image/png": "[encoded data removed]",
      "text/plain": [
       "<Figure size 432x288 with 1 Axes>"
      ]
     },
     "metadata": {
      "needs_background": "light"
     },
     "output_type": "display_data"
    }
   ],
   "source": [
    "results = model.predict(X_val)\n",
    "plt.hist(results[y_val==0], bins=100,density=True, label=\"false\", histtype=\"step\")\n",
    "plt.hist(results[y_val==1], bins=100, density=True, label=\"true\", histtype=\"step\")\n",
    "plt.yscale(\"log\")\n",
    "plt.legend()"
   ]
  },
  {
   "cell_type": "code",
   "execution_count": 45,
   "metadata": {
    "ExecuteTime": {
     "end_time": "2020-04-27T15:10:49.176742Z",
     "start_time": "2020-04-27T15:10:40.001112Z"
    }
   },
   "outputs": [
    {
     "data": {
      "text/plain": [
       "<matplotlib.legend.Legend at 0x7f53f0364250>"
      ]
     },
     "execution_count": 45,
     "metadata": {},
     "output_type": "execute_result"
    },
    {
     "data": {
      "image/png": "[encoded data removed]",
      "text/plain": [
       "<Figure size 432x288 with 1 Axes>"
      ]
     },
     "metadata": {
      "needs_background": "light"
     },
     "output_type": "display_data"
    }
   ],
   "source": [
    "results = model.predict(X_val)\n",
    "plt.hist(results[y_val==0], bins=100,density=True, label=\"false\", histtype=\"step\")\n",
    "plt.hist(results[y_val==1], bins=100, density=True, label=\"true\", histtype=\"step\")\n",
    "plt.yscale(\"log\")\n",
    "plt.legend()"
   ]
  },
  {
   "cell_type": "markdown",
   "metadata": {},
   "source": [
    "# Some plots"
   ]
  },
  {
   "cell_type": "code",
   "execution_count": 1,
   "metadata": {
    "ExecuteTime": {
     "end_time": "2020-01-13T09:25:43.435534Z",
     "start_time": "2020-01-13T09:25:30.930818Z"
    },
    "scrolled": true
   },
   "outputs": [
    {
     "name": "stderr",
     "output_type": "stream",
     "text": [
      "Using TensorFlow backend.\n"
     ]
    },
    {
     "ename": "OSError",
     "evalue": "Unable to open file (unable to open file: name = 'models/model11_balanced_100_80_50.hd5', errno = 2, error message = 'No such file or directory', flags = 0, o_flags = 0)",
     "output_type": "error",
     "traceback": [
      "\u001b[0;31m---------------------------------------------------------------------------\u001b[0m",
      "\u001b[0;31mOSError\u001b[0m                                   Traceback (most recent call last)",
      "\u001b[0;32m<ipython-input-1-5beff4d610ed>\u001b[0m in \u001b[0;36m<module>\u001b[0;34m\u001b[0m\n\u001b[1;32m      1\u001b[0m \u001b[0;32mfrom\u001b[0m \u001b[0mkeras\u001b[0m\u001b[0;34m.\u001b[0m\u001b[0mmodels\u001b[0m \u001b[0;32mimport\u001b[0m \u001b[0mload_model\u001b[0m\u001b[0;34m\u001b[0m\u001b[0m\n\u001b[0;32m----> 2\u001b[0;31m \u001b[0mmodel\u001b[0m \u001b[0;34m=\u001b[0m \u001b[0mload_model\u001b[0m\u001b[0;34m(\u001b[0m\u001b[0;34m\"models/model11_balanced_100_80_50.hd5\"\u001b[0m\u001b[0;34m)\u001b[0m\u001b[0;34m\u001b[0m\u001b[0m\n\u001b[0m\u001b[1;32m      3\u001b[0m \u001b[0mscaler\u001b[0m \u001b[0;34m=\u001b[0m \u001b[0mpickle\u001b[0m\u001b[0;34m.\u001b[0m\u001b[0mload\u001b[0m\u001b[0;34m(\u001b[0m\u001b[0mopen\u001b[0m\u001b[0;34m(\u001b[0m\u001b[0;34m\"models/scaler_gamma_electrons.pkl\"\u001b[0m\u001b[0;34m,\u001b[0m \u001b[0;34m\"rb\"\u001b[0m\u001b[0;34m)\u001b[0m\u001b[0;34m)\u001b[0m\u001b[0;34m\u001b[0m\u001b[0m\n",
      "\u001b[0;32m/cvmfs/sft.cern.ch/lcg/views/LCG_96python3/x86_64-centos7-gcc8-opt/lib/python3.6/site-packages/keras/engine/saving.py\u001b[0m in \u001b[0;36mload_model\u001b[0;34m(filepath, custom_objects, compile)\u001b[0m\n\u001b[1;32m    415\u001b[0m     \u001b[0mmodel\u001b[0m \u001b[0;34m=\u001b[0m \u001b[0;32mNone\u001b[0m\u001b[0;34m\u001b[0m\u001b[0m\n\u001b[1;32m    416\u001b[0m     \u001b[0mopened_new_file\u001b[0m \u001b[0;34m=\u001b[0m \u001b[0;32mnot\u001b[0m \u001b[0misinstance\u001b[0m\u001b[0;34m(\u001b[0m\u001b[0mfilepath\u001b[0m\u001b[0;34m,\u001b[0m \u001b[0mh5py\u001b[0m\u001b[0;34m.\u001b[0m\u001b[0mGroup\u001b[0m\u001b[0;34m)\u001b[0m\u001b[0;34m\u001b[0m\u001b[0m\n\u001b[0;32m--> 417\u001b[0;31m     \u001b[0mf\u001b[0m \u001b[0;34m=\u001b[0m \u001b[0mh5dict\u001b[0m\u001b[0;34m(\u001b[0m\u001b[0mfilepath\u001b[0m\u001b[0;34m,\u001b[0m \u001b[0;34m'r'\u001b[0m\u001b[0;34m)\u001b[0m\u001b[0;34m\u001b[0m\u001b[0m\n\u001b[0m\u001b[1;32m    418\u001b[0m     \u001b[0;32mtry\u001b[0m\u001b[0;34m:\u001b[0m\u001b[0;34m\u001b[0m\u001b[0m\n\u001b[1;32m    419\u001b[0m         \u001b[0mmodel\u001b[0m \u001b[0;34m=\u001b[0m \u001b[0m_deserialize_model\u001b[0m\u001b[0;34m(\u001b[0m\u001b[0mf\u001b[0m\u001b[0;34m,\u001b[0m \u001b[0mcustom_objects\u001b[0m\u001b[0;34m,\u001b[0m \u001b[0mcompile\u001b[0m\u001b[0;34m)\u001b[0m\u001b[0;34m\u001b[0m\u001b[0m\n",
      "\u001b[0;32m/cvmfs/sft.cern.ch/lcg/views/LCG_96python3/x86_64-centos7-gcc8-opt/lib/python3.6/site-packages/keras/utils/io_utils.py\u001b[0m in \u001b[0;36m__init__\u001b[0;34m(self, path, mode)\u001b[0m\n\u001b[1;32m    184\u001b[0m             \u001b[0mself\u001b[0m\u001b[0;34m.\u001b[0m\u001b[0m_is_file\u001b[0m \u001b[0;34m=\u001b[0m \u001b[0;32mFalse\u001b[0m\u001b[0;34m\u001b[0m\u001b[0m\n\u001b[1;32m    185\u001b[0m         \u001b[0;32melif\u001b[0m \u001b[0misinstance\u001b[0m\u001b[0;34m(\u001b[0m\u001b[0mpath\u001b[0m\u001b[0;34m,\u001b[0m \u001b[0mstr\u001b[0m\u001b[0;34m)\u001b[0m\u001b[0;34m:\u001b[0m\u001b[0;34m\u001b[0m\u001b[0m\n\u001b[0;32m--> 186\u001b[0;31m             \u001b[0mself\u001b[0m\u001b[0;34m.\u001b[0m\u001b[0mdata\u001b[0m \u001b[0;34m=\u001b[0m \u001b[0mh5py\u001b[0m\u001b[0;34m.\u001b[0m\u001b[0mFile\u001b[0m\u001b[0;34m(\u001b[0m\u001b[0mpath\u001b[0m\u001b[0;34m,\u001b[0m \u001b[0mmode\u001b[0m\u001b[0;34m=\u001b[0m\u001b[0mmode\u001b[0m\u001b[0;34m)\u001b[0m\u001b[0;34m\u001b[0m\u001b[0m\n\u001b[0m\u001b[1;32m    187\u001b[0m             \u001b[0mself\u001b[0m\u001b[0;34m.\u001b[0m\u001b[0m_is_file\u001b[0m \u001b[0;34m=\u001b[0m \u001b[0;32mTrue\u001b[0m\u001b[0;34m\u001b[0m\u001b[0m\n\u001b[1;32m    188\u001b[0m         \u001b[0;32melif\u001b[0m \u001b[0misinstance\u001b[0m\u001b[0;34m(\u001b[0m\u001b[0mpath\u001b[0m\u001b[0;34m,\u001b[0m \u001b[0mdict\u001b[0m\u001b[0;34m)\u001b[0m\u001b[0;34m:\u001b[0m\u001b[0;34m\u001b[0m\u001b[0m\n",
      "\u001b[0;32m/cvmfs/sft.cern.ch/lcg/views/LCG_96python3/x86_64-centos7-gcc8-opt/lib/python3.6/site-packages/h5py/_hl/files.py\u001b[0m in \u001b[0;36m__init__\u001b[0;34m(self, name, mode, driver, libver, userblock_size, swmr, rdcc_nslots, rdcc_nbytes, rdcc_w0, track_order, **kwds)\u001b[0m\n\u001b[1;32m    392\u001b[0m                 fid = make_fid(name, mode, userblock_size,\n\u001b[1;32m    393\u001b[0m                                \u001b[0mfapl\u001b[0m\u001b[0;34m,\u001b[0m \u001b[0mfcpl\u001b[0m\u001b[0;34m=\u001b[0m\u001b[0mmake_fcpl\u001b[0m\u001b[0;34m(\u001b[0m\u001b[0mtrack_order\u001b[0m\u001b[0;34m=\u001b[0m\u001b[0mtrack_order\u001b[0m\u001b[0;34m)\u001b[0m\u001b[0;34m,\u001b[0m\u001b[0;34m\u001b[0m\u001b[0m\n\u001b[0;32m--> 394\u001b[0;31m                                swmr=swmr)\n\u001b[0m\u001b[1;32m    395\u001b[0m \u001b[0;34m\u001b[0m\u001b[0m\n\u001b[1;32m    396\u001b[0m             \u001b[0;32mif\u001b[0m \u001b[0mswmr_support\u001b[0m\u001b[0;34m:\u001b[0m\u001b[0;34m\u001b[0m\u001b[0m\n",
      "\u001b[0;32m/cvmfs/sft.cern.ch/lcg/views/LCG_96python3/x86_64-centos7-gcc8-opt/lib/python3.6/site-packages/h5py/_hl/files.py\u001b[0m in \u001b[0;36mmake_fid\u001b[0;34m(name, mode, userblock_size, fapl, fcpl, swmr)\u001b[0m\n\u001b[1;32m    168\u001b[0m         \u001b[0;32mif\u001b[0m \u001b[0mswmr\u001b[0m \u001b[0;32mand\u001b[0m \u001b[0mswmr_support\u001b[0m\u001b[0;34m:\u001b[0m\u001b[0;34m\u001b[0m\u001b[0m\n\u001b[1;32m    169\u001b[0m             \u001b[0mflags\u001b[0m \u001b[0;34m|=\u001b[0m \u001b[0mh5f\u001b[0m\u001b[0;34m.\u001b[0m\u001b[0mACC_SWMR_READ\u001b[0m\u001b[0;34m\u001b[0m\u001b[0m\n\u001b[0;32m--> 170\u001b[0;31m         \u001b[0mfid\u001b[0m \u001b[0;34m=\u001b[0m \u001b[0mh5f\u001b[0m\u001b[0;34m.\u001b[0m\u001b[0mopen\u001b[0m\u001b[0;34m(\u001b[0m\u001b[0mname\u001b[0m\u001b[0;34m,\u001b[0m \u001b[0mflags\u001b[0m\u001b[0;34m,\u001b[0m \u001b[0mfapl\u001b[0m\u001b[0;34m=\u001b[0m\u001b[0mfapl\u001b[0m\u001b[0;34m)\u001b[0m\u001b[0;34m\u001b[0m\u001b[0m\n\u001b[0m\u001b[1;32m    171\u001b[0m     \u001b[0;32melif\u001b[0m \u001b[0mmode\u001b[0m \u001b[0;34m==\u001b[0m \u001b[0;34m'r+'\u001b[0m\u001b[0;34m:\u001b[0m\u001b[0;34m\u001b[0m\u001b[0m\n\u001b[1;32m    172\u001b[0m         \u001b[0mfid\u001b[0m \u001b[0;34m=\u001b[0m \u001b[0mh5f\u001b[0m\u001b[0;34m.\u001b[0m\u001b[0mopen\u001b[0m\u001b[0;34m(\u001b[0m\u001b[0mname\u001b[0m\u001b[0;34m,\u001b[0m \u001b[0mh5f\u001b[0m\u001b[0;34m.\u001b[0m\u001b[0mACC_RDWR\u001b[0m\u001b[0;34m,\u001b[0m \u001b[0mfapl\u001b[0m\u001b[0;34m=\u001b[0m\u001b[0mfapl\u001b[0m\u001b[0;34m)\u001b[0m\u001b[0;34m\u001b[0m\u001b[0m\n",
      "\u001b[0;32mh5py/_objects.pyx\u001b[0m in \u001b[0;36mh5py._objects.with_phil.wrapper\u001b[0;34m()\u001b[0m\n",
      "\u001b[0;32mh5py/_objects.pyx\u001b[0m in \u001b[0;36mh5py._objects.with_phil.wrapper\u001b[0;34m()\u001b[0m\n",
      "\u001b[0;32mh5py/h5f.pyx\u001b[0m in \u001b[0;36mh5py.h5f.open\u001b[0;34m()\u001b[0m\n",
      "\u001b[0;31mOSError\u001b[0m: Unable to open file (unable to open file: name = 'models/model11_balanced_100_80_50.hd5', errno = 2, error message = 'No such file or directory', flags = 0, o_flags = 0)"
     ]
    }
   ],
   "source": [
    "from keras.models import load_model\n",
    "model = load_model(\"models/model11_balanced_100_80_50.hd5\")\n",
    "scaler = pickle.load(open(\"models/scaler_gamma_electrons.pkl\", \"rb\"))"
   ]
  },
  {
   "cell_type": "code",
   "execution_count": 27,
   "metadata": {
    "ExecuteTime": {
     "end_time": "2020-04-20T22:38:16.819969Z",
     "start_time": "2020-04-20T22:38:16.467585Z"
    }
   },
   "outputs": [
    {
     "ename": "NameError",
     "evalue": "name 'y_test' is not defined",
     "output_type": "error",
     "traceback": [
      "\u001b[0;31m---------------------------------------------------------------------------\u001b[0m",
      "\u001b[0;31mNameError\u001b[0m                                 Traceback (most recent call last)",
      "\u001b[0;32m<ipython-input-27-a3f0e29f7606>\u001b[0m in \u001b[0;36m<module>\u001b[0;34m\u001b[0m\n\u001b[0;32m----> 1\u001b[0;31m \u001b[0mfp\u001b[0m \u001b[0;34m,\u001b[0m \u001b[0mtp\u001b[0m\u001b[0;34m,\u001b[0m \u001b[0mth\u001b[0m \u001b[0;34m=\u001b[0m \u001b[0mroc_curve\u001b[0m\u001b[0;34m(\u001b[0m\u001b[0my_test\u001b[0m\u001b[0;34m,\u001b[0m \u001b[0mpred\u001b[0m\u001b[0;34m)\u001b[0m\u001b[0;34m\u001b[0m\u001b[0;34m\u001b[0m\u001b[0m\n\u001b[0m\u001b[1;32m      2\u001b[0m \u001b[0mfig\u001b[0m\u001b[0;34m,\u001b[0m \u001b[0max1\u001b[0m \u001b[0;34m=\u001b[0m \u001b[0mplt\u001b[0m\u001b[0;34m.\u001b[0m\u001b[0msubplots\u001b[0m\u001b[0;34m(\u001b[0m\u001b[0mfigsize\u001b[0m\u001b[0;34m=\u001b[0m\u001b[0;34m(\u001b[0m\u001b[0;36m7\u001b[0m\u001b[0;34m,\u001b[0m\u001b[0;36m6\u001b[0m\u001b[0;34m)\u001b[0m\u001b[0;34m,\u001b[0m \u001b[0mdpi\u001b[0m\u001b[0;34m=\u001b[0m\u001b[0;36m100\u001b[0m\u001b[0;34m)\u001b[0m\u001b[0;34m\u001b[0m\u001b[0;34m\u001b[0m\u001b[0m\n\u001b[1;32m      3\u001b[0m \u001b[0max1\u001b[0m\u001b[0;34m.\u001b[0m\u001b[0mplot\u001b[0m\u001b[0;34m(\u001b[0m\u001b[0mfp\u001b[0m\u001b[0;34m,\u001b[0m \u001b[0mtp\u001b[0m\u001b[0;34m,\u001b[0m \u001b[0mlabel\u001b[0m\u001b[0;34m=\u001b[0m\u001b[0;34m\"roc\"\u001b[0m\u001b[0;34m,\u001b[0m \u001b[0mcolor\u001b[0m\u001b[0;34m=\u001b[0m\u001b[0;34m\"blue\"\u001b[0m\u001b[0;34m)\u001b[0m\u001b[0;34m\u001b[0m\u001b[0;34m\u001b[0m\u001b[0m\n\u001b[1;32m      4\u001b[0m \u001b[0;34m\u001b[0m\u001b[0m\n\u001b[1;32m      5\u001b[0m \u001b[0max1\u001b[0m\u001b[0;34m.\u001b[0m\u001b[0mset_xlabel\u001b[0m\u001b[0;34m(\u001b[0m\u001b[0;34m\"Bkg contamination\"\u001b[0m\u001b[0;34m,\u001b[0m \u001b[0mfontsize\u001b[0m\u001b[0;34m=\u001b[0m\u001b[0;36m18\u001b[0m\u001b[0;34m)\u001b[0m\u001b[0;34m\u001b[0m\u001b[0;34m\u001b[0m\u001b[0m\n",
      "\u001b[0;31mNameError\u001b[0m: name 'y_test' is not defined"
     ]
    }
   ],
   "source": [
    "fp , tp, th = roc_curve(y_test, pred)\n",
    "fig, ax1 = plt.subplots(figsize=(7,6), dpi=100)\n",
    "ax1.plot(fp, tp, label=\"roc\", color=\"blue\")\n",
    "\n",
    "ax1.set_xlabel(\"Bkg contamination\", fontsize=18)\n",
    "ax1.set_ylabel(\"Signal efficiency\", fontsize=18, color=\"blue\")\n",
    "ax1.set_ylim(0.850, 1.01)\n",
    "ax1.set_xlim(0, 0.06)\n",
    "#ax1.plot([0,1],[1,1],\"b--\")\n",
    "ax1.tick_params(\"y\",labelsize=\"large\", labelcolor=\"blue\")\n",
    "\n",
    "ax2 = ax1.twinx()\n",
    "ax2.plot(fp, th, label=\"threshold\", color=\"red\")\n",
    "ax2.tick_params(axis='y', labelcolor=\"red\", labelsize=\"large\")\n",
    "ax2.set_ylabel(\"Threshold\", fontsize=18, color=\"red\")\n",
    "ax2.set_ylim(0, 1)\n",
    "ax1.grid()\n",
    "#ax2.grid(linestyle=\"dashed\", color=\"red\")\n",
    "\n",
    "ax2.plot([0.01, 0.01], [0, 2], \"g--\")\n",
    "ax2.set_yticks(np.arange(0, 1.1, 0.1))\n",
    "#ax2.minorticks_on()\n",
    "\n",
    "ax1.set_title(\"ROC curve\", fontsize=20)\n",
    "ax2.text(x = 0.048, y = 1.01, s=\"AUC=0.997\", fontsize=\"large\")\n",
    "\n",
    "fig.tight_layout()"
   ]
  },
  {
   "cell_type": "code",
   "execution_count": 36,
   "metadata": {
    "ExecuteTime": {
     "end_time": "2020-01-11T14:23:01.035443Z",
     "start_time": "2020-01-11T14:23:00.336449Z"
    }
   },
   "outputs": [
    {
     "data": {
      "image/png": "[encoded data removed]",
      "text/plain": [
       "<Figure size 700x600 with 2 Axes>"
      ]
     },
     "metadata": {},
     "output_type": "display_data"
    }
   ],
   "source": [
    "fp , tp, th = roc_curve(y_test, pred)\n",
    "fig, ax1 = plt.subplots(figsize=(7,6), dpi=100)\n",
    "ax1.plot(fp, tp, label=\"roc\", color=\"blue\")\n",
    "\n",
    "ax1.set_xlabel(\"Bkg contamination\", fontsize=18)\n",
    "ax1.set_ylabel(\"Signal efficiency\", fontsize=18, color=\"blue\")\n",
    "ax1.set_ylim(0.850, 1.01)\n",
    "ax1.set_xlim(0, 0.06)\n",
    "#ax1.plot([0,1],[1,1],\"b--\")\n",
    "ax1.tick_params(\"y\",labelsize=\"large\", labelcolor=\"blue\")\n",
    "\n",
    "ax2 = ax1.twinx()\n",
    "ax2.plot(fp, th, label=\"threshold\", color=\"red\")\n",
    "ax2.tick_params(axis='y', labelcolor=\"red\", labelsize=\"large\")\n",
    "ax2.set_ylabel(\"Threshold\", fontsize=18, color=\"red\")\n",
    "ax2.set_ylim(0, 1)\n",
    "ax1.grid()\n",
    "#ax2.grid(linestyle=\"dashed\", color=\"red\")\n",
    "\n",
    "ax2.plot([0.01, 0.01], [0, 2], \"g--\")\n",
    "ax2.set_yticks(np.arange(0, 1.1, 0.1))\n",
    "#ax2.minorticks_on()\n",
    "\n",
    "ax1.set_title(\"ROC curve\", fontsize=20)\n",
    "ax2.text(x = 0.048, y = 1.01, s=\"AUC=0.997\", fontsize=\"large\")\n",
    "\n",
    "fig.tight_layout()"
   ]
  }
 ],
 "metadata": {
  "kernelspec": {
   "display_name": "Python 3",
   "language": "python",
   "name": "python3"
  },
  "language_info": {
   "codemirror_mode": {
    "name": "ipython",
    "version": 3
   },
   "file_extension": ".py",
   "mimetype": "text/x-python",
   "name": "python",
   "nbconvert_exporter": "python",
   "pygments_lexer": "ipython3",
   "version": "3.7.6"
  },
  "toc": {
   "base_numbering": 1,
   "nav_menu": {},
   "number_sections": true,
   "sideBar": true,
   "skip_h1_title": false,
   "title_cell": "Table of Contents",
   "title_sidebar": "Contents",
   "toc_cell": false,
   "toc_position": {},
   "toc_section_display": true,
   "toc_window_display": false
  },
  "varInspector": {
   "cols": {
    "lenName": 16,
    "lenType": 16,
    "lenVar": 40
   },
   "kernels_config": {
    "python": {
     "delete_cmd_postfix": "",
     "delete_cmd_prefix": "del ",
     "library": "var_list.py",
     "varRefreshCmd": "print(var_dic_list())"
    },
    "r": {
     "delete_cmd_postfix": ") ",
     "delete_cmd_prefix": "rm(",
     "library": "var_list.r",
     "varRefreshCmd": "cat(var_dic_list()) "
    }
   },
   "oldHeight": 745.183666,
   "position": {
    "height": "40px",
    "left": "717.5px",
    "right": "20px",
    "top": "55px",
    "width": "800px"
   },
   "types_to_exclude": [
    "module",
    "function",
    "builtin_function_or_method",
    "instance",
    "_Feature"
   ],
   "varInspector_section_display": "none",
   "window_display": false
  }
 },
 "nbformat": 4,
 "nbformat_minor": 2
}
