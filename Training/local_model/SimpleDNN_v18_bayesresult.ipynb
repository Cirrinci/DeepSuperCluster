{
 "cells": [
  {
   "cell_type": "code",
   "execution_count": 1,
   "metadata": {
    "ExecuteTime": {
     "end_time": "2020-05-04T14:22:35.838781Z",
     "start_time": "2020-05-04T14:22:35.831130Z"
    }
   },
   "outputs": [],
   "source": [
    "import pickle\n",
    "import numpy as np \n",
    "import pandas as pd\n",
    "import matplotlib.colors as colors\n",
    "import matplotlib.pyplot as plt\n",
    "import matplotlib as mpl\n",
    "import os \n",
    "import glob\n",
    "\n",
    "\n",
    "mpl.rcParams['figure.figsize'] = (5,5)\n",
    "mpl.rcParams['figure.dpi'] = 150\n",
    "mpl.rcParams[\"image.origin\"] = 'lower'"
   ]
  },
  {
   "cell_type": "code",
   "execution_count": 2,
   "metadata": {
    "ExecuteTime": {
     "end_time": "2020-05-04T14:22:36.542179Z",
     "start_time": "2020-05-04T14:22:36.538268Z"
    }
   },
   "outputs": [],
   "source": [
    "model_name = \"v18_bayesresult\"\n",
    "model_dir = \"../models/\"+model_name\n",
    "model_version = 2\n",
    "numpy_version = 1\n",
    "limit_files = 25\n",
    "cols = [\"seed_eta\", \"seed_iz\",\"en_seed\",\"et_seed\",\n",
    "        \"cluster_deta\", \"cluster_dphi\", \"en_cluster\", \"et_cluster\",\n",
    "       \"seed_f5_r9\", \"seed_f5_sigmaIetaIeta\",\"seed_f5_sigmaIetaIphi\",\"seed_f5_sigmaIphiIphi\",\n",
    "        \"seed_f5_swissCross\",\"seed_nxtals\", \"seed_etaWidth\", \"seed_phiWidth\",\n",
    "        \"cl_f5_r9\", \"cl_f5_sigmaIetaIeta\",\"cl_f5_sigmaIetaIphi\",\"cl_f5_sigmaIphiIphi\",\n",
    "        \"cl_f5_swissCross\", \"cl_nxtals\", \"cl_etaWidth\", \"cl_phiWidth\"]\n",
    "\n",
    "os.makedirs(model_dir, exist_ok = True)\n",
    "with open(\"variables.txt\", \"w\") as of:\n",
    "    of.write(\"\\n\".join(cols))"
   ]
  },
  {
   "cell_type": "markdown",
   "metadata": {},
   "source": [
    "# Data preparation\n",
    "## Input: \n",
    "- E seed\n",
    "- eta,phi,z seed\n",
    "- E cluster\n",
    "- delta_eta,delta_phi,\n",
    "\n",
    "Filter only windows with the calo"
   ]
  },
  {
   "cell_type": "code",
   "execution_count": 4,
   "metadata": {},
   "outputs": [],
   "source": [
    "files_ele = f\"/storage/ECAL/training_data/wp_comparison/electrons/numpy_wp_ele_v{numpy_version}/training/\"\n",
    "files_gamma = f\"/storage/ECAL/training_data/wp_comparison/gammas/numpy_wp_gamma_v{numpy_version}/training/\""
   ]
  },
  {
   "cell_type": "code",
   "execution_count": 4,
   "metadata": {},
   "outputs": [],
   "source": [
    "files_ele = f\"/storage/ECAL/training_data/electrons/numpy_v{numpy_version}/training/\"\n",
    "files_gamma = f\"/storage/ECAL/training_data/gammas/numpy_v{numpy_version}/training/\""
   ]
  },
  {
   "cell_type": "code",
   "execution_count": 5,
   "metadata": {
    "ExecuteTime": {
     "start_time": "2020-05-04T14:22:39.023Z"
    }
   },
   "outputs": [
    {
     "name": "stdout",
     "output_type": "stream",
     "text": [
      "N events ele:  12175090\n",
      "N events gamma:  11780261\n"
     ]
    }
   ],
   "source": [
    "datas_ele = []\n",
    "\n",
    "i = 0\n",
    "for f in glob.glob(files_ele+\"*.pkl\"):\n",
    "    if i>limit_files :continue\n",
    "    d = pickle.load(open(f, \"rb\"))   \n",
    "    datas_ele.append(d[d.is_seed == False])\n",
    "    i+=1\n",
    "    \n",
    "data_ele = pd.concat(datas_ele, ignore_index=True)\n",
    "data_ele[\"particle\"] = \"electron\"\n",
    "print(\"N events ele: \",len(data_ele))\n",
    "\n",
    "datas_gamma = []\n",
    "i = 0\n",
    "for f in glob.glob(files_gamma+\"*.pkl\"):\n",
    "    if i>limit_files :continue\n",
    "    d = pickle.load(open(f, \"rb\"))  \n",
    "    datas_gamma.append(d[d.is_seed==False])\n",
    "    i+=1\n",
    "    \n",
    "data_gamma = pd.concat(datas_gamma, ignore_index=True)\n",
    "data_gamma[\"particle\"] = \"gamma\"\n",
    "print(\"N events gamma: \",len(data_gamma))\n",
    "\n",
    "if data_ele.shape[0]> data_gamma.shape[0]:\n",
    "    data = pd.concat([data_gamma, data_ele.iloc[0:len(data_gamma)]], ignore_index=True)\n",
    "else:\n",
    "    data = pd.concat([data_gamma.iloc[0:len(data_ele)], data_ele], ignore_index=True)\n",
    "    \n",
    "del data_gamma\n",
    "del data_ele"
   ]
  },
  {
   "cell_type": "markdown",
   "metadata": {},
   "source": [
    "Balance gamma and electron"
   ]
  },
  {
   "cell_type": "code",
   "execution_count": 5,
   "metadata": {
    "ExecuteTime": {
     "start_time": "2020-05-04T14:14:26.563Z"
    }
   },
   "outputs": [],
   "source": [
    "data_EB = data[data.seed_iz == 0]\n",
    "data_EE = data[data.seed_iz != 0]"
   ]
  },
  {
   "cell_type": "code",
   "execution_count": 6,
   "metadata": {
    "ExecuteTime": {
     "end_time": "2020-05-03T14:58:15.903327Z",
     "start_time": "2020-05-03T14:58:12.456898Z"
    }
   },
   "outputs": [
    {
     "name": "stdout",
     "output_type": "stream",
     "text": [
      "Sample in EB: 7399437\n",
      "Sample in EE: 2563543\n",
      "Sample in EB in SC: 444591\n",
      "Sample in EE in SC: 181691\n",
      "N in supercluster:  626282\n",
      "N out supercluster:  9336698\n",
      "14.908137228916047\n"
     ]
    }
   ],
   "source": [
    "print(\"Sample in EB:\", len(data[abs(data.seed_eta) <1.479]))\n",
    "print(\"Sample in EE:\", len(data[abs(data.seed_eta) >=1.479]))\n",
    "print(\"Sample in EB in SC:\", len(data[(abs(data.seed_eta) <1.479)&(data.in_scluster)]))\n",
    "print(\"Sample in EE in SC:\", len(data[(abs(data.seed_eta) >=1.479)&(data.in_scluster)]))\n",
    "print(\"N in supercluster: \", len(data[ data.in_scluster]))\n",
    "print(\"N out supercluster: \", len(data[data.in_scluster == False]))\n",
    "w = len(data[(data.is_seed == False) & (data.in_scluster == False)]) / len(data[(data.is_seed == False) & (data.in_scluster==True)])\n",
    "print(w)"
   ]
  },
  {
   "cell_type": "code",
   "execution_count": 7,
   "metadata": {
    "ExecuteTime": {
     "end_time": "2020-05-03T14:58:46.167174Z",
     "start_time": "2020-05-03T14:58:45.165966Z"
    }
   },
   "outputs": [
    {
     "name": "stdout",
     "output_type": "stream",
     "text": [
      "caloMatch samples:  1639480\n",
      "Not caloMatch samples:  8323500\n"
     ]
    }
   ],
   "source": [
    "print(\"caloMatch samples: \", len(data[data.is_calo_matched]))\n",
    "print(\"Not caloMatch samples: \", len(data[data.is_calo_matched ==False]))"
   ]
  },
  {
   "cell_type": "markdown",
   "metadata": {},
   "source": [
    "# Data Preparation"
   ]
  },
  {
   "cell_type": "code",
   "execution_count": 12,
   "metadata": {
    "ExecuteTime": {
     "end_time": "2020-05-03T19:39:50.337125Z",
     "start_time": "2020-05-03T19:39:50.330651Z"
    }
   },
   "outputs": [],
   "source": [
    "if det == \"EB\":\n",
    "    data = data_EB\n",
    "if det == \"EE\":\n",
    "    data = data_EE"
   ]
  },
  {
   "cell_type": "markdown",
   "metadata": {},
   "source": [
    "## Reweighting\n",
    "Only the classes are reweighted, not in Et/eta bins"
   ]
  },
  {
   "cell_type": "code",
   "execution_count": 7,
   "metadata": {},
   "outputs": [
    {
     "name": "stdout",
     "output_type": "stream",
     "text": [
      "Weight  14.974448229289274\n"
     ]
    }
   ],
   "source": [
    "w = len(data[(data.is_seed == False) & (data.in_scluster == False)]) / len(data[(data.is_seed == False) & (data.in_scluster==True)])\n",
    "print(\"Weight \",w)\n",
    "data.loc[data.in_scluster,\"w\"] = w\n",
    "data.loc[data.in_scluster==False, \"w\"] = 1."
   ]
  },
  {
   "cell_type": "markdown",
   "metadata": {},
   "source": [
    "# Array preparation"
   ]
  },
  {
   "cell_type": "code",
   "execution_count": 28,
   "metadata": {},
   "outputs": [
    {
     "data": {
      "text/html": [
       "<div>\n",
       "<style scoped>\n",
       "    .dataframe tbody tr th:only-of-type {\n",
       "        vertical-align: middle;\n",
       "    }\n",
       "\n",
       "    .dataframe tbody tr th {\n",
       "        vertical-align: top;\n",
       "    }\n",
       "\n",
       "    .dataframe thead th {\n",
       "        text-align: right;\n",
       "    }\n",
       "</style>\n",
       "<table border=\"1\" class=\"dataframe\">\n",
       "  <thead>\n",
       "    <tr style=\"text-align: right;\">\n",
       "      <th></th>\n",
       "      <th>calo_seed_index</th>\n",
       "      <th>cl_etaWidth</th>\n",
       "      <th>cl_f5_r9</th>\n",
       "      <th>cl_f5_sigmaIetaIeta</th>\n",
       "      <th>cl_f5_sigmaIetaIphi</th>\n",
       "      <th>cl_f5_sigmaIphiIphi</th>\n",
       "      <th>cl_f5_swissCross</th>\n",
       "      <th>cl_nxtals</th>\n",
       "      <th>cl_phiWidth</th>\n",
       "      <th>cluster_deta</th>\n",
       "      <th>...</th>\n",
       "      <th>seed_f5_swissCross</th>\n",
       "      <th>seed_iz</th>\n",
       "      <th>seed_nxtals</th>\n",
       "      <th>seed_phi</th>\n",
       "      <th>seed_phiWidth</th>\n",
       "      <th>window_index</th>\n",
       "      <th>particle</th>\n",
       "      <th>et_bin</th>\n",
       "      <th>eta_bin</th>\n",
       "      <th>w</th>\n",
       "    </tr>\n",
       "  </thead>\n",
       "  <tbody>\n",
       "    <tr>\n",
       "      <th>1</th>\n",
       "      <td>-1</td>\n",
       "      <td>0.002766</td>\n",
       "      <td>1.000000</td>\n",
       "      <td>0.000000</td>\n",
       "      <td>0.000000</td>\n",
       "      <td>0.000000</td>\n",
       "      <td>1.000000</td>\n",
       "      <td>1</td>\n",
       "      <td>0.002089</td>\n",
       "      <td>-0.016367</td>\n",
       "      <td>...</td>\n",
       "      <td>0.688010</td>\n",
       "      <td>0</td>\n",
       "      <td>3</td>\n",
       "      <td>-2.834352</td>\n",
       "      <td>0.004936</td>\n",
       "      <td>hvlerqxix</td>\n",
       "      <td>gamma</td>\n",
       "      <td>0</td>\n",
       "      <td>3</td>\n",
       "      <td>1.000000</td>\n",
       "    </tr>\n",
       "    <tr>\n",
       "      <th>5</th>\n",
       "      <td>2</td>\n",
       "      <td>0.002557</td>\n",
       "      <td>1.000000</td>\n",
       "      <td>0.000000</td>\n",
       "      <td>0.000000</td>\n",
       "      <td>0.000000</td>\n",
       "      <td>1.000000</td>\n",
       "      <td>1</td>\n",
       "      <td>0.001303</td>\n",
       "      <td>0.102629</td>\n",
       "      <td>...</td>\n",
       "      <td>0.238974</td>\n",
       "      <td>0</td>\n",
       "      <td>22</td>\n",
       "      <td>2.334469</td>\n",
       "      <td>0.018377</td>\n",
       "      <td>hwwsnyejt</td>\n",
       "      <td>gamma</td>\n",
       "      <td>8</td>\n",
       "      <td>3</td>\n",
       "      <td>1.000000</td>\n",
       "    </tr>\n",
       "    <tr>\n",
       "      <th>6</th>\n",
       "      <td>-1</td>\n",
       "      <td>0.002266</td>\n",
       "      <td>1.647160</td>\n",
       "      <td>0.009259</td>\n",
       "      <td>0.000043</td>\n",
       "      <td>0.008191</td>\n",
       "      <td>0.701537</td>\n",
       "      <td>1</td>\n",
       "      <td>0.001874</td>\n",
       "      <td>-0.158738</td>\n",
       "      <td>...</td>\n",
       "      <td>0.688010</td>\n",
       "      <td>0</td>\n",
       "      <td>3</td>\n",
       "      <td>-2.834352</td>\n",
       "      <td>0.004936</td>\n",
       "      <td>hvlerqxix</td>\n",
       "      <td>gamma</td>\n",
       "      <td>0</td>\n",
       "      <td>3</td>\n",
       "      <td>1.000000</td>\n",
       "    </tr>\n",
       "    <tr>\n",
       "      <th>10</th>\n",
       "      <td>2</td>\n",
       "      <td>0.002434</td>\n",
       "      <td>1.000000</td>\n",
       "      <td>0.000000</td>\n",
       "      <td>0.000000</td>\n",
       "      <td>0.000000</td>\n",
       "      <td>1.000000</td>\n",
       "      <td>1</td>\n",
       "      <td>0.001172</td>\n",
       "      <td>0.136999</td>\n",
       "      <td>...</td>\n",
       "      <td>0.238974</td>\n",
       "      <td>0</td>\n",
       "      <td>22</td>\n",
       "      <td>2.334469</td>\n",
       "      <td>0.018377</td>\n",
       "      <td>hwwsnyejt</td>\n",
       "      <td>gamma</td>\n",
       "      <td>8</td>\n",
       "      <td>3</td>\n",
       "      <td>1.000000</td>\n",
       "    </tr>\n",
       "    <tr>\n",
       "      <th>11</th>\n",
       "      <td>1</td>\n",
       "      <td>0.002267</td>\n",
       "      <td>1.000000</td>\n",
       "      <td>0.000000</td>\n",
       "      <td>0.000000</td>\n",
       "      <td>0.000000</td>\n",
       "      <td>1.000000</td>\n",
       "      <td>1</td>\n",
       "      <td>0.001510</td>\n",
       "      <td>0.146770</td>\n",
       "      <td>...</td>\n",
       "      <td>0.341402</td>\n",
       "      <td>0</td>\n",
       "      <td>2</td>\n",
       "      <td>-0.967447</td>\n",
       "      <td>0.001695</td>\n",
       "      <td>maaimtxxj</td>\n",
       "      <td>gamma</td>\n",
       "      <td>0</td>\n",
       "      <td>6</td>\n",
       "      <td>1.000000</td>\n",
       "    </tr>\n",
       "    <tr>\n",
       "      <th>...</th>\n",
       "      <td>...</td>\n",
       "      <td>...</td>\n",
       "      <td>...</td>\n",
       "      <td>...</td>\n",
       "      <td>...</td>\n",
       "      <td>...</td>\n",
       "      <td>...</td>\n",
       "      <td>...</td>\n",
       "      <td>...</td>\n",
       "      <td>...</td>\n",
       "      <td>...</td>\n",
       "      <td>...</td>\n",
       "      <td>...</td>\n",
       "      <td>...</td>\n",
       "      <td>...</td>\n",
       "      <td>...</td>\n",
       "      <td>...</td>\n",
       "      <td>...</td>\n",
       "      <td>...</td>\n",
       "      <td>...</td>\n",
       "      <td>...</td>\n",
       "    </tr>\n",
       "    <tr>\n",
       "      <th>34420905</th>\n",
       "      <td>2</td>\n",
       "      <td>0.002469</td>\n",
       "      <td>1.000000</td>\n",
       "      <td>0.014994</td>\n",
       "      <td>-0.000176</td>\n",
       "      <td>0.014128</td>\n",
       "      <td>0.307549</td>\n",
       "      <td>1</td>\n",
       "      <td>0.008952</td>\n",
       "      <td>-0.184024</td>\n",
       "      <td>...</td>\n",
       "      <td>0.707970</td>\n",
       "      <td>0</td>\n",
       "      <td>1</td>\n",
       "      <td>-0.480436</td>\n",
       "      <td>0.001315</td>\n",
       "      <td>isxkdovpx</td>\n",
       "      <td>electron</td>\n",
       "      <td>0</td>\n",
       "      <td>3</td>\n",
       "      <td>1.000000</td>\n",
       "    </tr>\n",
       "    <tr>\n",
       "      <th>34420906</th>\n",
       "      <td>1</td>\n",
       "      <td>0.002529</td>\n",
       "      <td>1.616666</td>\n",
       "      <td>0.018228</td>\n",
       "      <td>0.000150</td>\n",
       "      <td>0.017587</td>\n",
       "      <td>0.663418</td>\n",
       "      <td>1</td>\n",
       "      <td>0.001423</td>\n",
       "      <td>0.001223</td>\n",
       "      <td>...</td>\n",
       "      <td>0.112008</td>\n",
       "      <td>0</td>\n",
       "      <td>2</td>\n",
       "      <td>1.597663</td>\n",
       "      <td>0.014243</td>\n",
       "      <td>vcolwulhq</td>\n",
       "      <td>electron</td>\n",
       "      <td>1</td>\n",
       "      <td>6</td>\n",
       "      <td>16.916718</td>\n",
       "    </tr>\n",
       "    <tr>\n",
       "      <th>34420907</th>\n",
       "      <td>1</td>\n",
       "      <td>0.002505</td>\n",
       "      <td>1.249638</td>\n",
       "      <td>0.008355</td>\n",
       "      <td>-0.000112</td>\n",
       "      <td>0.015185</td>\n",
       "      <td>0.750362</td>\n",
       "      <td>3</td>\n",
       "      <td>0.001400</td>\n",
       "      <td>0.018357</td>\n",
       "      <td>...</td>\n",
       "      <td>0.112008</td>\n",
       "      <td>0</td>\n",
       "      <td>2</td>\n",
       "      <td>1.597663</td>\n",
       "      <td>0.014243</td>\n",
       "      <td>vcolwulhq</td>\n",
       "      <td>electron</td>\n",
       "      <td>1</td>\n",
       "      <td>6</td>\n",
       "      <td>16.916718</td>\n",
       "    </tr>\n",
       "    <tr>\n",
       "      <th>34420909</th>\n",
       "      <td>-1</td>\n",
       "      <td>0.002163</td>\n",
       "      <td>1.000000</td>\n",
       "      <td>0.000000</td>\n",
       "      <td>0.000000</td>\n",
       "      <td>0.000000</td>\n",
       "      <td>1.000000</td>\n",
       "      <td>1</td>\n",
       "      <td>0.002124</td>\n",
       "      <td>-0.178211</td>\n",
       "      <td>...</td>\n",
       "      <td>1.000000</td>\n",
       "      <td>0</td>\n",
       "      <td>1</td>\n",
       "      <td>-0.864838</td>\n",
       "      <td>0.002363</td>\n",
       "      <td>lxponyheo</td>\n",
       "      <td>electron</td>\n",
       "      <td>0</td>\n",
       "      <td>4</td>\n",
       "      <td>1.000000</td>\n",
       "    </tr>\n",
       "    <tr>\n",
       "      <th>34420910</th>\n",
       "      <td>1</td>\n",
       "      <td>0.002457</td>\n",
       "      <td>1.262919</td>\n",
       "      <td>0.021749</td>\n",
       "      <td>0.000040</td>\n",
       "      <td>0.024886</td>\n",
       "      <td>-0.122740</td>\n",
       "      <td>1</td>\n",
       "      <td>0.008694</td>\n",
       "      <td>0.035227</td>\n",
       "      <td>...</td>\n",
       "      <td>0.112008</td>\n",
       "      <td>0</td>\n",
       "      <td>2</td>\n",
       "      <td>1.597663</td>\n",
       "      <td>0.014243</td>\n",
       "      <td>vcolwulhq</td>\n",
       "      <td>electron</td>\n",
       "      <td>1</td>\n",
       "      <td>6</td>\n",
       "      <td>1.000000</td>\n",
       "    </tr>\n",
       "  </tbody>\n",
       "</table>\n",
       "<p>25555153 rows × 46 columns</p>\n",
       "</div>"
      ],
      "text/plain": [
       "          calo_seed_index  cl_etaWidth  cl_f5_r9  cl_f5_sigmaIetaIeta  \\\n",
       "1                      -1     0.002766  1.000000             0.000000   \n",
       "5                       2     0.002557  1.000000             0.000000   \n",
       "6                      -1     0.002266  1.647160             0.009259   \n",
       "10                      2     0.002434  1.000000             0.000000   \n",
       "11                      1     0.002267  1.000000             0.000000   \n",
       "...                   ...          ...       ...                  ...   \n",
       "34420905                2     0.002469  1.000000             0.014994   \n",
       "34420906                1     0.002529  1.616666             0.018228   \n",
       "34420907                1     0.002505  1.249638             0.008355   \n",
       "34420909               -1     0.002163  1.000000             0.000000   \n",
       "34420910                1     0.002457  1.262919             0.021749   \n",
       "\n",
       "          cl_f5_sigmaIetaIphi  cl_f5_sigmaIphiIphi  cl_f5_swissCross  \\\n",
       "1                    0.000000             0.000000          1.000000   \n",
       "5                    0.000000             0.000000          1.000000   \n",
       "6                    0.000043             0.008191          0.701537   \n",
       "10                   0.000000             0.000000          1.000000   \n",
       "11                   0.000000             0.000000          1.000000   \n",
       "...                       ...                  ...               ...   \n",
       "34420905            -0.000176             0.014128          0.307549   \n",
       "34420906             0.000150             0.017587          0.663418   \n",
       "34420907            -0.000112             0.015185          0.750362   \n",
       "34420909             0.000000             0.000000          1.000000   \n",
       "34420910             0.000040             0.024886         -0.122740   \n",
       "\n",
       "          cl_nxtals  cl_phiWidth  cluster_deta  ...  seed_f5_swissCross  \\\n",
       "1                 1     0.002089     -0.016367  ...            0.688010   \n",
       "5                 1     0.001303      0.102629  ...            0.238974   \n",
       "6                 1     0.001874     -0.158738  ...            0.688010   \n",
       "10                1     0.001172      0.136999  ...            0.238974   \n",
       "11                1     0.001510      0.146770  ...            0.341402   \n",
       "...             ...          ...           ...  ...                 ...   \n",
       "34420905          1     0.008952     -0.184024  ...            0.707970   \n",
       "34420906          1     0.001423      0.001223  ...            0.112008   \n",
       "34420907          3     0.001400      0.018357  ...            0.112008   \n",
       "34420909          1     0.002124     -0.178211  ...            1.000000   \n",
       "34420910          1     0.008694      0.035227  ...            0.112008   \n",
       "\n",
       "          seed_iz  seed_nxtals  seed_phi  seed_phiWidth  window_index  \\\n",
       "1               0            3 -2.834352       0.004936     hvlerqxix   \n",
       "5               0           22  2.334469       0.018377     hwwsnyejt   \n",
       "6               0            3 -2.834352       0.004936     hvlerqxix   \n",
       "10              0           22  2.334469       0.018377     hwwsnyejt   \n",
       "11              0            2 -0.967447       0.001695     maaimtxxj   \n",
       "...           ...          ...       ...            ...           ...   \n",
       "34420905        0            1 -0.480436       0.001315     isxkdovpx   \n",
       "34420906        0            2  1.597663       0.014243     vcolwulhq   \n",
       "34420907        0            2  1.597663       0.014243     vcolwulhq   \n",
       "34420909        0            1 -0.864838       0.002363     lxponyheo   \n",
       "34420910        0            2  1.597663       0.014243     vcolwulhq   \n",
       "\n",
       "          particle  et_bin  eta_bin          w  \n",
       "1            gamma       0        3   1.000000  \n",
       "5            gamma       8        3   1.000000  \n",
       "6            gamma       0        3   1.000000  \n",
       "10           gamma       8        3   1.000000  \n",
       "11           gamma       0        6   1.000000  \n",
       "...            ...     ...      ...        ...  \n",
       "34420905  electron       0        3   1.000000  \n",
       "34420906  electron       1        6  16.916718  \n",
       "34420907  electron       1        6  16.916718  \n",
       "34420909  electron       0        4   1.000000  \n",
       "34420910  electron       1        6   1.000000  \n",
       "\n",
       "[25555153 rows x 46 columns]"
      ]
     },
     "execution_count": 28,
     "metadata": {},
     "output_type": "execute_result"
    }
   ],
   "source": [
    "data"
   ]
  },
  {
   "cell_type": "code",
   "execution_count": 8,
   "metadata": {
    "ExecuteTime": {
     "end_time": "2020-05-03T19:40:22.348120Z",
     "start_time": "2020-05-03T19:40:21.924777Z"
    }
   },
   "outputs": [],
   "source": [
    "X = data[ cols ].values\n",
    "truth = data[[\"in_scluster\"]].values\n",
    "y = np.array(truth[:], dtype=int)\n",
    "weights = data.w.values"
   ]
  },
  {
   "cell_type": "code",
   "execution_count": 9,
   "metadata": {
    "ExecuteTime": {
     "end_time": "2020-05-03T16:59:09.418959Z",
     "start_time": "2020-05-03T16:59:08.383315Z"
    }
   },
   "outputs": [],
   "source": [
    "from sklearn.preprocessing import MinMaxScaler, StandardScaler, QuantileTransformer\n",
    "from sklearn.model_selection import train_test_split\n",
    "scaler = StandardScaler()\n",
    "X_scaled = scaler.fit_transform(X)\n",
    "\n"
   ]
  },
  {
   "cell_type": "code",
   "execution_count": 10,
   "metadata": {},
   "outputs": [],
   "source": [
    "pickle.dump(scaler, open(model_dir + \"/scaler_model_v{}.pkl\".format(model_version), \"wb\"))"
   ]
  },
  {
   "cell_type": "code",
   "execution_count": 11,
   "metadata": {
    "ExecuteTime": {
     "end_time": "2020-04-27T20:36:06.424318Z",
     "start_time": "2020-04-27T20:36:06.415406Z"
    }
   },
   "outputs": [
    {
     "data": {
      "text/plain": [
       "array([ 6.59605159e-03,  1.40310983e-03,  5.81520619e+01,  2.57268528e+01,\n",
       "       -7.60385364e-04, -8.20990424e-05,  1.30389782e+00,  5.67076975e-01,\n",
       "        1.00779321e+00,  1.35849840e-02, -4.39461231e-06,  1.71042198e-02,\n",
       "        4.90437527e-01,  5.08827453e+00,  8.82387165e-03,  1.04089082e-02,\n",
       "        1.92350734e+00,  1.31540746e-02,  1.63013622e-05,  1.42988754e-02,\n",
       "        5.92932189e-01,  1.49464371e+00,  3.36168707e-03,  3.06380062e-03])"
      ]
     },
     "execution_count": 11,
     "metadata": {},
     "output_type": "execute_result"
    }
   ],
   "source": [
    "scaler.mean_"
   ]
  },
  {
   "cell_type": "code",
   "execution_count": 12,
   "metadata": {
    "ExecuteTime": {
     "end_time": "2020-04-27T20:36:11.862086Z",
     "start_time": "2020-04-27T20:36:11.856918Z"
    }
   },
   "outputs": [
    {
     "data": {
      "text/plain": [
       "array([1.31374887e+00, 5.07153804e-01, 9.20833733e+01, 2.98672898e+01,\n",
       "       1.10282082e-01, 3.30509185e-01, 2.62803922e+00, 1.16235636e+00,\n",
       "       1.28405813e-01, 1.12011772e-02, 1.86584005e-04, 1.31021698e-02,\n",
       "       4.01940837e-01, 5.66432789e+00, 6.14518214e-03, 7.25111773e-03,\n",
       "       7.83279567e+00, 1.70455724e-02, 3.06048936e-04, 1.80199726e-02,\n",
       "       1.99289103e+00, 1.88525191e+00, 4.12279432e-03, 4.79732956e-03])"
      ]
     },
     "execution_count": 12,
     "metadata": {},
     "output_type": "execute_result"
    }
   ],
   "source": [
    "scaler.scale_"
   ]
  },
  {
   "cell_type": "code",
   "execution_count": 13,
   "metadata": {},
   "outputs": [
    {
     "name": "stdout",
     "output_type": "stream",
     "text": [
      "N. samples: 23560522\n"
     ]
    }
   ],
   "source": [
    "print(\"N. samples:\", X.shape[0])"
   ]
  },
  {
   "cell_type": "code",
   "execution_count": 14,
   "metadata": {
    "ExecuteTime": {
     "end_time": "2020-05-03T19:42:21.213537Z",
     "start_time": "2020-05-03T19:42:20.253569Z"
    }
   },
   "outputs": [],
   "source": [
    "X_train, X_val, y_train, y_val, w_train, w_val = train_test_split(X_scaled, y, weights, test_size=0.20,\n",
    "                                                stratify=y)"
   ]
  },
  {
   "cell_type": "markdown",
   "metadata": {},
   "source": [
    "### Some plots"
   ]
  },
  {
   "cell_type": "markdown",
   "metadata": {},
   "source": [
    "# Training"
   ]
  },
  {
   "cell_type": "code",
   "execution_count": 1,
   "metadata": {
    "ExecuteTime": {
     "end_time": "2020-05-03T15:15:19.694207Z",
     "start_time": "2020-05-03T15:15:13.962325Z"
    }
   },
   "outputs": [
    {
     "name": "stderr",
     "output_type": "stream",
     "text": [
      "Using TensorFlow backend.\n"
     ]
    }
   ],
   "source": [
    "# Import all the required Libraries\n",
    "import tensorflow\n",
    "import keras\n",
    "import pandas as pd\n",
    "import numpy as np\n",
    "import matplotlib.pyplot as plt\n",
    "from keras.datasets import mnist\n",
    "from keras.models import Model, Sequential\n",
    "from keras.layers import Dense, Conv2D, Dropout, BatchNormalization, Input, Reshape, Flatten, Deconvolution2D, Conv2DTranspose, MaxPooling2D, UpSampling2D, Lambda\n",
    "from keras.layers.advanced_activations import LeakyReLU\n",
    "from keras.optimizers import adam\n",
    "from keras import callbacks\n",
    "from keras import backend as K\n",
    "from keras import regularizers\n",
    "from keras.callbacks import *\n",
    "from keras.metrics import AUC"
   ]
  },
  {
   "cell_type": "code",
   "execution_count": 28,
   "metadata": {},
   "outputs": [
    {
     "name": "stdout",
     "output_type": "stream",
     "text": [
      "Model: \"sequential_3\"\n",
      "_________________________________________________________________\n",
      "Layer (type)                 Output Shape              Param #   \n",
      "=================================================================\n",
      "dense_8 (Dense)              (None, 220)               5500      \n",
      "_________________________________________________________________\n",
      "dense_9 (Dense)              (None, 220)               48620     \n",
      "_________________________________________________________________\n",
      "dropout_1 (Dropout)          (None, 220)               0         \n",
      "_________________________________________________________________\n",
      "dense_10 (Dense)             (None, 220)               48620     \n",
      "_________________________________________________________________\n",
      "dropout_2 (Dropout)          (None, 220)               0         \n",
      "_________________________________________________________________\n",
      "dense_11 (Dense)             (None, 220)               48620     \n",
      "_________________________________________________________________\n",
      "dropout_3 (Dropout)          (None, 220)               0         \n",
      "_________________________________________________________________\n",
      "dense_12 (Dense)             (None, 220)               48620     \n",
      "_________________________________________________________________\n",
      "dropout_4 (Dropout)          (None, 220)               0         \n",
      "_________________________________________________________________\n",
      "dense_13 (Dense)             (None, 220)               48620     \n",
      "_________________________________________________________________\n",
      "dropout_5 (Dropout)          (None, 220)               0         \n",
      "_________________________________________________________________\n",
      "dense_14 (Dense)             (None, 1)                 221       \n",
      "=================================================================\n",
      "Total params: 248,821\n",
      "Trainable params: 248,821\n",
      "Non-trainable params: 0\n",
      "_________________________________________________________________\n"
     ]
    }
   ],
   "source": [
    "model = Sequential()\n",
    "model.add(Dense(220, input_dim=X_val.shape[1], activation=\"relu\"))\n",
    "for i in range(5):\n",
    "    model.add(Dense(220, activation=\"relu\"))\n",
    "    model.add(Dropout(0.1))\n",
    "\n",
    "model.add(Dense(1, activation=\"sigmoid\"))\n",
    "\n",
    "model.compile(optimizer='adam',\n",
    "              loss='binary_crossentropy',\n",
    "              metrics=['accuracy',AUC()])\n",
    "\n",
    "model.summary()"
   ]
  },
  {
   "cell_type": "code",
   "execution_count": 23,
   "metadata": {
    "ExecuteTime": {
     "end_time": "2020-04-27T20:43:36.141251Z",
     "start_time": "2020-04-27T20:43:36.131252Z"
    }
   },
   "outputs": [],
   "source": [
    "import math\n",
    "def step_decay(epoch):\n",
    "    initial_lrate = 1\n",
    "    drop = 0.5\n",
    "    epochs_drop = 2.0\n",
    "    lrate = initial_lrate * math.pow(drop, math.floor((1+epoch)/epochs_drop))\n",
    "    if lrate < 0.005: return 0.005\n",
    "    return lrate"
   ]
  },
  {
   "cell_type": "code",
   "execution_count": 11,
   "metadata": {},
   "outputs": [],
   "source": [
    "from keras import models\n",
    "model = models.load_model(model_dir+ \"/model_v{}.hd5\".format(model_version))\n",
    "scaler = pickle.load(open(model_dir+ \"/scaler_model_v{}.pkl\".format(model_version), \"rb\"))"
   ]
  },
  {
   "cell_type": "code",
   "execution_count": 29,
   "metadata": {
    "ExecuteTime": {
     "end_time": "2020-05-03T17:51:50.420166Z",
     "start_time": "2020-05-03T17:00:34.510038Z"
    },
    "scrolled": false
   },
   "outputs": [
    {
     "name": "stdout",
     "output_type": "stream",
     "text": [
      "Train on 18848417 samples, validate on 4712105 samples\n",
      "Epoch 1/300\n",
      "18848417/18848417 [==============================] - 122s 6us/step - loss: 0.2702 - accuracy: 0.9404 - auc_2: 0.9871 - val_loss: 0.2409 - val_accuracy: 0.9428 - val_auc_2: 0.9896\n",
      "\n",
      "Epoch 00001: val_loss improved from inf to 0.24094, saving model to ../models/v18_bayesresult/model_v2.hd5\n",
      "Epoch 2/300\n",
      "18848417/18848417 [==============================] - 122s 6us/step - loss: 0.2421 - accuracy: 0.9460 - auc_2: 0.9895 - val_loss: 0.2359 - val_accuracy: 0.9493 - val_auc_2: 0.9901\n",
      "\n",
      "Epoch 00002: val_loss improved from 0.24094 to 0.23587, saving model to ../models/v18_bayesresult/model_v2.hd5\n",
      "Epoch 3/300\n",
      "18848417/18848417 [==============================] - 122s 6us/step - loss: 0.2369 - accuracy: 0.9470 - auc_2: 0.9899 - val_loss: 0.2341 - val_accuracy: 0.9450 - val_auc_2: 0.9904\n",
      "\n",
      "Epoch 00003: val_loss improved from 0.23587 to 0.23414, saving model to ../models/v18_bayesresult/model_v2.hd5\n",
      "Epoch 4/300\n",
      "18848417/18848417 [==============================] - 121s 6us/step - loss: 0.2340 - accuracy: 0.9474 - auc_2: 0.9901 - val_loss: 0.2323 - val_accuracy: 0.9454 - val_auc_2: 0.9902\n",
      "\n",
      "Epoch 00004: val_loss improved from 0.23414 to 0.23234, saving model to ../models/v18_bayesresult/model_v2.hd5\n",
      "Epoch 5/300\n",
      "18848417/18848417 [==============================] - 122s 6us/step - loss: 0.2320 - accuracy: 0.9477 - auc_2: 0.9903 - val_loss: 0.2294 - val_accuracy: 0.9513 - val_auc_2: 0.9906\n",
      "\n",
      "Epoch 00005: val_loss improved from 0.23234 to 0.22937, saving model to ../models/v18_bayesresult/model_v2.hd5\n",
      "Epoch 6/300\n",
      "18848417/18848417 [==============================] - 122s 6us/step - loss: 0.2306 - accuracy: 0.9480 - auc_2: 0.9904 - val_loss: 0.2293 - val_accuracy: 0.9410 - val_auc_2: 0.9907\n",
      "\n",
      "Epoch 00006: val_loss improved from 0.22937 to 0.22933, saving model to ../models/v18_bayesresult/model_v2.hd5\n",
      "Epoch 7/300\n",
      "18848417/18848417 [==============================] - 122s 6us/step - loss: 0.2292 - accuracy: 0.9482 - auc_2: 0.9905 - val_loss: 0.2280 - val_accuracy: 0.9474 - val_auc_2: 0.9907\n",
      "\n",
      "Epoch 00007: val_loss improved from 0.22933 to 0.22797, saving model to ../models/v18_bayesresult/model_v2.hd5\n",
      "Epoch 8/300\n",
      "18848417/18848417 [==============================] - 122s 6us/step - loss: 0.2282 - accuracy: 0.9486 - auc_2: 0.9906 - val_loss: 0.2257 - val_accuracy: 0.9497 - val_auc_2: 0.9909\n",
      "\n",
      "Epoch 00008: val_loss improved from 0.22797 to 0.22575, saving model to ../models/v18_bayesresult/model_v2.hd5\n",
      "Epoch 9/300\n",
      "18848417/18848417 [==============================] - 121s 6us/step - loss: 0.2273 - accuracy: 0.9487 - auc_2: 0.9906 - val_loss: 0.2261 - val_accuracy: 0.9420 - val_auc_2: 0.9909\n",
      "\n",
      "Epoch 00009: val_loss did not improve from 0.22575\n",
      "Epoch 10/300\n",
      "18848417/18848417 [==============================] - 122s 6us/step - loss: 0.2264 - accuracy: 0.9489 - auc_2: 0.9907 - val_loss: 0.2236 - val_accuracy: 0.9495 - val_auc_2: 0.9911\n",
      "\n",
      "Epoch 00010: val_loss improved from 0.22575 to 0.22363, saving model to ../models/v18_bayesresult/model_v2.hd5\n",
      "Epoch 11/300\n",
      "18848417/18848417 [==============================] - 122s 6us/step - loss: 0.2258 - accuracy: 0.9494 - auc_2: 0.9908 - val_loss: 0.2256 - val_accuracy: 0.9491 - val_auc_2: 0.9910\n",
      "\n",
      "Epoch 00011: val_loss did not improve from 0.22363\n",
      "Epoch 12/300\n",
      "18848417/18848417 [==============================] - 123s 7us/step - loss: 0.2252 - accuracy: 0.9493 - auc_2: 0.9908 - val_loss: 0.2255 - val_accuracy: 0.9486 - val_auc_2: 0.9911\n",
      "\n",
      "Epoch 00012: val_loss did not improve from 0.22363\n",
      "Epoch 13/300\n",
      "18848417/18848417 [==============================] - 122s 6us/step - loss: 0.2247 - accuracy: 0.9494 - auc_2: 0.9909 - val_loss: 0.2234 - val_accuracy: 0.9483 - val_auc_2: 0.9911\n",
      "\n",
      "Epoch 00013: val_loss improved from 0.22363 to 0.22340, saving model to ../models/v18_bayesresult/model_v2.hd5\n",
      "Epoch 14/300\n",
      "18848417/18848417 [==============================] - 121s 6us/step - loss: 0.2241 - accuracy: 0.9494 - auc_2: 0.9909 - val_loss: 0.2255 - val_accuracy: 0.9523 - val_auc_2: 0.9911\n",
      "\n",
      "Epoch 00014: val_loss did not improve from 0.22340\n",
      "Epoch 15/300\n",
      "18848417/18848417 [==============================] - 122s 6us/step - loss: 0.2239 - accuracy: 0.9487 - auc_2: 0.9909 - val_loss: 0.2245 - val_accuracy: 0.9501 - val_auc_2: 0.9912\n",
      "\n",
      "Epoch 00015: val_loss did not improve from 0.22340\n",
      "Epoch 16/300\n",
      "18848417/18848417 [==============================] - 122s 6us/step - loss: 0.2233 - accuracy: 0.9497 - auc_2: 0.9910 - val_loss: 0.2250 - val_accuracy: 0.9436 - val_auc_2: 0.9910\n",
      "\n",
      "Epoch 00016: val_loss did not improve from 0.22340\n",
      "Epoch 17/300\n",
      "18848417/18848417 [==============================] - 122s 6us/step - loss: 0.2234 - accuracy: 0.9492 - auc_2: 0.9910 - val_loss: 0.2221 - val_accuracy: 0.9475 - val_auc_2: 0.9911\n",
      "\n",
      "Epoch 00017: val_loss improved from 0.22340 to 0.22209, saving model to ../models/v18_bayesresult/model_v2.hd5\n",
      "Epoch 18/300\n",
      "18848417/18848417 [==============================] - 121s 6us/step - loss: 0.2230 - accuracy: 0.9494 - auc_2: 0.9910 - val_loss: 0.2239 - val_accuracy: 0.9477 - val_auc_2: 0.9911\n",
      "\n",
      "Epoch 00018: val_loss did not improve from 0.22209\n",
      "Epoch 19/300\n",
      "18848417/18848417 [==============================] - 121s 6us/step - loss: 0.2226 - accuracy: 0.9493 - auc_2: 0.9910 - val_loss: 0.2236 - val_accuracy: 0.9504 - val_auc_2: 0.9910\n",
      "\n",
      "Epoch 00019: val_loss did not improve from 0.22209\n",
      "Epoch 20/300\n",
      "18848417/18848417 [==============================] - 123s 7us/step - loss: 0.2226 - accuracy: 0.9499 - auc_2: 0.9910 - val_loss: 0.2233 - val_accuracy: 0.9518 - val_auc_2: 0.9910\n",
      "\n",
      "Epoch 00020: val_loss did not improve from 0.22209\n",
      "Epoch 21/300\n",
      "18848417/18848417 [==============================] - 122s 6us/step - loss: 0.2225 - accuracy: 0.9495 - auc_2: 0.9911 - val_loss: 0.2226 - val_accuracy: 0.9513 - val_auc_2: 0.9913\n",
      "\n",
      "Epoch 00021: val_loss did not improve from 0.22209\n",
      "Epoch 22/300\n",
      "18848417/18848417 [==============================] - 123s 7us/step - loss: 0.2219 - accuracy: 0.9495 - auc_2: 0.9911 - val_loss: 0.2215 - val_accuracy: 0.9516 - val_auc_2: 0.9912\n",
      "\n",
      "Epoch 00022: val_loss improved from 0.22209 to 0.22147, saving model to ../models/v18_bayesresult/model_v2.hd5\n",
      "Epoch 23/300\n",
      "18848417/18848417 [==============================] - 121s 6us/step - loss: 0.2217 - accuracy: 0.9493 - auc_2: 0.9911 - val_loss: 0.2255 - val_accuracy: 0.9504 - val_auc_2: 0.9912\n",
      "\n",
      "Epoch 00023: val_loss did not improve from 0.22147\n",
      "Epoch 24/300\n",
      "18848417/18848417 [==============================] - 123s 7us/step - loss: 0.2214 - accuracy: 0.9495 - auc_2: 0.9911 - val_loss: 0.2229 - val_accuracy: 0.9547 - val_auc_2: 0.9911\n",
      "\n",
      "Epoch 00024: val_loss did not improve from 0.22147\n",
      "Epoch 25/300\n",
      "18848417/18848417 [==============================] - 123s 7us/step - loss: 0.2261 - accuracy: 0.9497 - auc_2: 0.9911 - val_loss: 0.2217 - val_accuracy: 0.9504 - val_auc_2: 0.9912\n",
      "\n",
      "Epoch 00025: val_loss did not improve from 0.22147\n",
      "Epoch 26/300\n",
      "18848417/18848417 [==============================] - 122s 6us/step - loss: 0.2209 - accuracy: 0.9498 - auc_2: 0.9912 - val_loss: 0.2245 - val_accuracy: 0.9487 - val_auc_2: 0.9913\n",
      "\n",
      "Epoch 00026: val_loss did not improve from 0.22147\n",
      "Epoch 27/300\n",
      "18848417/18848417 [==============================] - 124s 7us/step - loss: 0.2211 - accuracy: 0.9494 - auc_2: 0.9911 - val_loss: 0.2248 - val_accuracy: 0.9464 - val_auc_2: 0.9913\n",
      "\n",
      "Epoch 00027: val_loss did not improve from 0.22147\n",
      "Epoch 28/300\n",
      "18848417/18848417 [==============================] - 121s 6us/step - loss: 0.2208 - accuracy: 0.9501 - auc_2: 0.9912 - val_loss: 0.2235 - val_accuracy: 0.9531 - val_auc_2: 0.9912\n",
      "\n",
      "Epoch 00028: val_loss did not improve from 0.22147\n",
      "Epoch 29/300\n",
      "18848417/18848417 [==============================] - 122s 6us/step - loss: 0.2214 - accuracy: 0.9498 - auc_2: 0.9911 - val_loss: 0.2235 - val_accuracy: 0.9536 - val_auc_2: 0.9912\n",
      "\n",
      "Epoch 00029: val_loss did not improve from 0.22147\n",
      "Epoch 30/300\n",
      "18848417/18848417 [==============================] - 123s 7us/step - loss: 0.2208 - accuracy: 0.9498 - auc_2: 0.9912 - val_loss: 0.2211 - val_accuracy: 0.9511 - val_auc_2: 0.9913\n",
      "\n",
      "Epoch 00030: val_loss improved from 0.22147 to 0.22113, saving model to ../models/v18_bayesresult/model_v2.hd5\n",
      "Epoch 31/300\n",
      "18848417/18848417 [==============================] - 122s 6us/step - loss: 0.2206 - accuracy: 0.9497 - auc_2: 0.9912 - val_loss: 0.2238 - val_accuracy: 0.9504 - val_auc_2: 0.9913\n",
      "\n",
      "Epoch 00031: val_loss did not improve from 0.22113\n",
      "Epoch 32/300\n",
      "18848417/18848417 [==============================] - 123s 7us/step - loss: 0.2203 - accuracy: 0.9498 - auc_2: 0.9912 - val_loss: 0.2251 - val_accuracy: 0.9544 - val_auc_2: 0.9912\n",
      "\n",
      "Epoch 00032: val_loss did not improve from 0.22113\n",
      "Epoch 33/300\n",
      "18848417/18848417 [==============================] - 121s 6us/step - loss: 0.2203 - accuracy: 0.9498 - auc_2: 0.9912 - val_loss: 0.2218 - val_accuracy: 0.9501 - val_auc_2: 0.9913\n",
      "\n",
      "Epoch 00033: val_loss did not improve from 0.22113\n",
      "Epoch 34/300\n",
      "18848417/18848417 [==============================] - 123s 7us/step - loss: 0.2208 - accuracy: 0.9496 - auc_2: 0.9912 - val_loss: 0.2248 - val_accuracy: 0.9512 - val_auc_2: 0.9913\n",
      "\n",
      "Epoch 00034: val_loss did not improve from 0.22113\n",
      "Epoch 35/300\n",
      "18848417/18848417 [==============================] - 123s 7us/step - loss: 0.2495 - accuracy: 0.9499 - auc_2: 0.9912 - val_loss: 0.2224 - val_accuracy: 0.9525 - val_auc_2: 0.9914\n",
      "\n",
      "Epoch 00035: val_loss did not improve from 0.22113\n",
      "Epoch 36/300\n",
      "18848417/18848417 [==============================] - 123s 7us/step - loss: 0.2196 - accuracy: 0.9500 - auc_2: 0.9912 - val_loss: 0.2224 - val_accuracy: 0.9529 - val_auc_2: 0.9912\n",
      "\n",
      "Epoch 00036: val_loss did not improve from 0.22113\n",
      "Epoch 37/300\n",
      "18848417/18848417 [==============================] - 123s 7us/step - loss: 0.2194 - accuracy: 0.9501 - auc_2: 0.9913 - val_loss: 0.2230 - val_accuracy: 0.9538 - val_auc_2: 0.9913\n",
      "\n",
      "Epoch 00037: val_loss did not improve from 0.22113\n",
      "Epoch 38/300\n",
      "18848417/18848417 [==============================] - 121s 6us/step - loss: 0.2197 - accuracy: 0.9500 - auc_2: 0.9912 - val_loss: 0.2234 - val_accuracy: 0.9532 - val_auc_2: 0.9912\n",
      "\n",
      "Epoch 00038: val_loss did not improve from 0.22113\n",
      "Epoch 39/300\n",
      "18848417/18848417 [==============================] - 123s 7us/step - loss: 0.2199 - accuracy: 0.9499 - auc_2: 0.9912 - val_loss: 0.2240 - val_accuracy: 0.9494 - val_auc_2: 0.9913\n",
      "\n",
      "Epoch 00039: val_loss did not improve from 0.22113\n",
      "Epoch 40/300\n",
      "18848417/18848417 [==============================] - 123s 7us/step - loss: 0.2205 - accuracy: 0.9498 - auc_2: 0.9912 - val_loss: 0.2249 - val_accuracy: 0.9534 - val_auc_2: 0.9912\n",
      "\n",
      "Epoch 00040: val_loss did not improve from 0.22113\n",
      "Epoch 41/300\n",
      "18848417/18848417 [==============================] - 123s 7us/step - loss: 0.2204 - accuracy: 0.9502 - auc_2: 0.9912 - val_loss: 0.2256 - val_accuracy: 0.9547 - val_auc_2: 0.9911\n",
      "\n",
      "Epoch 00041: val_loss did not improve from 0.22113\n",
      "Epoch 42/300\n",
      "18848417/18848417 [==============================] - 123s 7us/step - loss: 0.2200 - accuracy: 0.9498 - auc_2: 0.9912 - val_loss: 0.2237 - val_accuracy: 0.9499 - val_auc_2: 0.9913\n",
      "\n",
      "Epoch 00042: val_loss did not improve from 0.22113\n",
      "Epoch 43/300\n",
      "18848417/18848417 [==============================] - 122s 6us/step - loss: 0.2195 - accuracy: 0.9496 - auc_2: 0.9912 - val_loss: 0.2224 - val_accuracy: 0.9477 - val_auc_2: 0.9912\n",
      "\n",
      "Epoch 00043: val_loss did not improve from 0.22113\n",
      "Epoch 44/300\n",
      "18848417/18848417 [==============================] - 123s 7us/step - loss: 0.2195 - accuracy: 0.9496 - auc_2: 0.9913 - val_loss: 0.2259 - val_accuracy: 0.9519 - val_auc_2: 0.9914\n",
      "\n",
      "Epoch 00044: val_loss did not improve from 0.22113\n",
      "Epoch 45/300\n",
      "18848417/18848417 [==============================] - 123s 7us/step - loss: 0.2208 - accuracy: 0.9494 - auc_2: 0.9912 - val_loss: 0.2249 - val_accuracy: 0.9514 - val_auc_2: 0.9913\n",
      "\n",
      "Epoch 00045: val_loss did not improve from 0.22113\n",
      "Epoch 46/300\n",
      "18848417/18848417 [==============================] - 123s 7us/step - loss: 0.2204 - accuracy: 0.9498 - auc_2: 0.9913 - val_loss: 0.2234 - val_accuracy: 0.9497 - val_auc_2: 0.9912\n",
      "\n",
      "Epoch 00046: val_loss did not improve from 0.22113\n",
      "Epoch 47/300\n",
      "18848417/18848417 [==============================] - 122s 6us/step - loss: 0.2190 - accuracy: 0.9496 - auc_2: 0.9913 - val_loss: 0.2231 - val_accuracy: 0.9488 - val_auc_2: 0.9914\n",
      "\n",
      "Epoch 00047: val_loss did not improve from 0.22113\n",
      "Epoch 48/300\n",
      "18848417/18848417 [==============================] - 122s 6us/step - loss: 0.2193 - accuracy: 0.9500 - auc_2: 0.9913 - val_loss: 0.2250 - val_accuracy: 0.9505 - val_auc_2: 0.9912\n",
      "\n",
      "Epoch 00048: val_loss did not improve from 0.22113\n",
      "Epoch 49/300\n",
      "18848417/18848417 [==============================] - 123s 7us/step - loss: 0.2192 - accuracy: 0.9499 - auc_2: 0.9913 - val_loss: 0.2218 - val_accuracy: 0.9489 - val_auc_2: 0.9912\n",
      "\n",
      "Epoch 00049: val_loss did not improve from 0.22113\n",
      "Epoch 50/300\n",
      "18848417/18848417 [==============================] - 123s 7us/step - loss: 0.2208 - accuracy: 0.9496 - auc_2: 0.9912 - val_loss: 0.2245 - val_accuracy: 0.9527 - val_auc_2: 0.9912\n",
      "\n",
      "Epoch 00050: val_loss did not improve from 0.22113\n",
      "Epoch 51/300\n",
      "18848417/18848417 [==============================] - 123s 7us/step - loss: 0.2192 - accuracy: 0.9496 - auc_2: 0.9913 - val_loss: 0.2216 - val_accuracy: 0.9520 - val_auc_2: 0.9912\n",
      "\n",
      "Epoch 00051: val_loss did not improve from 0.22113\n",
      "Epoch 52/300\n",
      "18848417/18848417 [==============================] - 121s 6us/step - loss: 0.2187 - accuracy: 0.9499 - auc_2: 0.9913 - val_loss: 0.2260 - val_accuracy: 0.9518 - val_auc_2: 0.9913\n",
      "\n",
      "Epoch 00052: val_loss did not improve from 0.22113\n",
      "Epoch 53/300\n",
      "18848417/18848417 [==============================] - 123s 7us/step - loss: 0.2188 - accuracy: 0.9497 - auc_2: 0.9913 - val_loss: 0.2265 - val_accuracy: 0.9490 - val_auc_2: 0.9914\n",
      "\n",
      "Epoch 00053: val_loss did not improve from 0.22113\n",
      "Epoch 54/300\n",
      "18848417/18848417 [==============================] - 124s 7us/step - loss: 0.2188 - accuracy: 0.9497 - auc_2: 0.9913 - val_loss: 0.2759 - val_accuracy: 0.9498 - val_auc_2: 0.9914\n",
      "\n",
      "Epoch 00054: val_loss did not improve from 0.22113\n",
      "Epoch 55/300\n",
      "18848417/18848417 [==============================] - 123s 7us/step - loss: 0.3629 - accuracy: 0.9502 - auc_2: 0.9913 - val_loss: 0.2262 - val_accuracy: 0.9504 - val_auc_2: 0.9912\n",
      "\n",
      "Epoch 00055: val_loss did not improve from 0.22113\n",
      "Epoch 00055: early stopping\n"
     ]
    }
   ],
   "source": [
    "auto_save = ModelCheckpoint(model_dir+ \"/model_v{}.hd5\".format(model_version), monitor='val_loss', \n",
    "                    verbose=1, save_best_only=True, save_weights_only=False, \n",
    "                    mode='auto', period=1)\n",
    "\n",
    "early_stop = EarlyStopping(monitor='val_loss', min_delta=0.0001, \n",
    "                            patience=25, verbose=1)\n",
    "\n",
    "\n",
    "#lr_scheduler = callbacks.LearningRateScheduler(step_decay, verbose=1)\n",
    "\n",
    "history = model.fit(\n",
    "            X_train, y_train,\n",
    "            sample_weight = w_train,\n",
    "            batch_size = 4096,\n",
    "            epochs=300,\n",
    "           initial_epoch=0,\n",
    "            shuffle=True,\n",
    "            validation_data = (X_val, y_val, w_val),\n",
    "            callbacks = [ auto_save, early_stop ] #lr_scheduler\n",
    "            )"
   ]
  },
  {
   "cell_type": "code",
   "execution_count": 30,
   "metadata": {},
   "outputs": [],
   "source": [
    "hist = history.history\n"
   ]
  },
  {
   "cell_type": "code",
   "execution_count": 31,
   "metadata": {},
   "outputs": [
    {
     "data": {
      "text/plain": [
       "{'val_loss': [0.24094389688746398,\n",
       "  0.23587042471137593,\n",
       "  0.23413756386512355,\n",
       "  0.2323411847092197,\n",
       "  0.22936590847430377,\n",
       "  0.22932644239131098,\n",
       "  0.22796726993700328,\n",
       "  0.22574775941480227,\n",
       "  0.22605579528563782,\n",
       "  0.22362769592081747,\n",
       "  0.22563880104941156,\n",
       "  0.2254746978484072,\n",
       "  0.22339505435129595,\n",
       "  0.22549666993190245,\n",
       "  0.2244570389475643,\n",
       "  0.22495012197014863,\n",
       "  0.22208537971492393,\n",
       "  0.22393402989215502,\n",
       "  0.22362928060910947,\n",
       "  0.22325890398787465,\n",
       "  0.2226473409569835,\n",
       "  0.22146846376256504,\n",
       "  0.22551006278823177,\n",
       "  0.2229297897273079,\n",
       "  0.22170002196878313,\n",
       "  0.2245443126038655,\n",
       "  0.2247743974201386,\n",
       "  0.22345397862032582,\n",
       "  0.22345477806384412,\n",
       "  0.22112825762876234,\n",
       "  0.2237512506041774,\n",
       "  0.22509843784240086,\n",
       "  0.22179396308784596,\n",
       "  0.22476633310391864,\n",
       "  0.2223890939467434,\n",
       "  0.2223645857234753,\n",
       "  0.22301779924648157,\n",
       "  0.22341913940724195,\n",
       "  0.22404588282145813,\n",
       "  0.22493413666075204,\n",
       "  0.2256337591903862,\n",
       "  0.2237316498610192,\n",
       "  0.22240913607866714,\n",
       "  0.22592842397362825,\n",
       "  0.22485879534510728,\n",
       "  0.223437781752932,\n",
       "  0.22306578643155747,\n",
       "  0.22497226248569113,\n",
       "  0.22178884633235169,\n",
       "  0.2244571388420209,\n",
       "  0.22158533726969504,\n",
       "  0.22596855661562332,\n",
       "  0.22652563547933524,\n",
       "  0.2758563326600605,\n",
       "  0.22617158557066488],\n",
       " 'val_accuracy': [0.942808985710144,\n",
       "  0.9493281841278076,\n",
       "  0.9449554085731506,\n",
       "  0.9453569054603577,\n",
       "  0.9513415098190308,\n",
       "  0.9409701228141785,\n",
       "  0.9473638534545898,\n",
       "  0.9497373104095459,\n",
       "  0.9419522881507874,\n",
       "  0.9494512677192688,\n",
       "  0.9491354823112488,\n",
       "  0.9486337900161743,\n",
       "  0.9483084678649902,\n",
       "  0.9523064494132996,\n",
       "  0.9500539302825928,\n",
       "  0.9436156749725342,\n",
       "  0.9474844336509705,\n",
       "  0.9476702809333801,\n",
       "  0.9503896832466125,\n",
       "  0.9517760872840881,\n",
       "  0.9512525796890259,\n",
       "  0.9516355991363525,\n",
       "  0.9503561854362488,\n",
       "  0.9546820521354675,\n",
       "  0.9503552913665771,\n",
       "  0.9487356543540955,\n",
       "  0.9463589787483215,\n",
       "  0.9530827403068542,\n",
       "  0.9536264538764954,\n",
       "  0.9510613679885864,\n",
       "  0.9504054188728333,\n",
       "  0.9544396996498108,\n",
       "  0.950129508972168,\n",
       "  0.9511784911155701,\n",
       "  0.9525377750396729,\n",
       "  0.9529169797897339,\n",
       "  0.9537991881370544,\n",
       "  0.9531595706939697,\n",
       "  0.949404776096344,\n",
       "  0.9534083008766174,\n",
       "  0.9546546339988708,\n",
       "  0.9499497413635254,\n",
       "  0.9477322697639465,\n",
       "  0.951942503452301,\n",
       "  0.9513563513755798,\n",
       "  0.9496857523918152,\n",
       "  0.9488383531570435,\n",
       "  0.950541615486145,\n",
       "  0.948894202709198,\n",
       "  0.9526553153991699,\n",
       "  0.9519855976104736,\n",
       "  0.9517638087272644,\n",
       "  0.949019193649292,\n",
       "  0.9497710466384888,\n",
       "  0.950411319732666],\n",
       " 'val_auc_2': [0.9895678162574768,\n",
       "  0.9900695085525513,\n",
       "  0.9904254078865051,\n",
       "  0.9902366399765015,\n",
       "  0.9905892014503479,\n",
       "  0.9906553626060486,\n",
       "  0.9906854629516602,\n",
       "  0.9909098148345947,\n",
       "  0.9909412264823914,\n",
       "  0.9910650849342346,\n",
       "  0.9910069108009338,\n",
       "  0.9911104440689087,\n",
       "  0.9910576343536377,\n",
       "  0.9910750985145569,\n",
       "  0.9911555647850037,\n",
       "  0.9910040497779846,\n",
       "  0.9911285638809204,\n",
       "  0.9910904765129089,\n",
       "  0.9910480976104736,\n",
       "  0.9910426139831543,\n",
       "  0.9912575483322144,\n",
       "  0.9912024140357971,\n",
       "  0.991195559501648,\n",
       "  0.9911224246025085,\n",
       "  0.9911960363388062,\n",
       "  0.9912533760070801,\n",
       "  0.9912570118904114,\n",
       "  0.9912158250808716,\n",
       "  0.9912311434745789,\n",
       "  0.9912643432617188,\n",
       "  0.9913225769996643,\n",
       "  0.9911918044090271,\n",
       "  0.9912539720535278,\n",
       "  0.9912638068199158,\n",
       "  0.9913536906242371,\n",
       "  0.9912152886390686,\n",
       "  0.9912636876106262,\n",
       "  0.9912167191505432,\n",
       "  0.9912810325622559,\n",
       "  0.9911623597145081,\n",
       "  0.9910787343978882,\n",
       "  0.9913159608840942,\n",
       "  0.9912436604499817,\n",
       "  0.9913656711578369,\n",
       "  0.9912838935852051,\n",
       "  0.991236686706543,\n",
       "  0.9913526773452759,\n",
       "  0.9911894202232361,\n",
       "  0.9912204742431641,\n",
       "  0.9911989569664001,\n",
       "  0.9912259578704834,\n",
       "  0.9912658333778381,\n",
       "  0.9913798570632935,\n",
       "  0.9913707971572876,\n",
       "  0.9912290573120117],\n",
       " 'loss': [0.2701912850858957,\n",
       "  0.24212613983408457,\n",
       "  0.2369402873508028,\n",
       "  0.23395506502052757,\n",
       "  0.23200803933704858,\n",
       "  0.2305766575897157,\n",
       "  0.22920649591903827,\n",
       "  0.22823933831596172,\n",
       "  0.22725334928474963,\n",
       "  0.2264376100228886,\n",
       "  0.22580450644098227,\n",
       "  0.22519576299196217,\n",
       "  0.22466318775740757,\n",
       "  0.2241392877530384,\n",
       "  0.22387741793878493,\n",
       "  0.22334621085509332,\n",
       "  0.22341593897755738,\n",
       "  0.22303304445193997,\n",
       "  0.2226173310915495,\n",
       "  0.22259376848643722,\n",
       "  0.2224784661818568,\n",
       "  0.22194260054199574,\n",
       "  0.2217165078858982,\n",
       "  0.22137653267991989,\n",
       "  0.22609315929246276,\n",
       "  0.22089685082779648,\n",
       "  0.2211269880050541,\n",
       "  0.22082725943489842,\n",
       "  0.221412258900679,\n",
       "  0.22076928299001555,\n",
       "  0.2206315456285819,\n",
       "  0.2202551406484042,\n",
       "  0.2203112928209619,\n",
       "  0.22079861091697175,\n",
       "  0.24954782901560504,\n",
       "  0.21957058649003253,\n",
       "  0.2193575517466508,\n",
       "  0.21974123264391973,\n",
       "  0.21988351645621657,\n",
       "  0.22052003972467063,\n",
       "  0.2204384702491421,\n",
       "  0.22000911007230808,\n",
       "  0.21953451987167233,\n",
       "  0.2194649516766802,\n",
       "  0.22082735444768364,\n",
       "  0.2203546242421829,\n",
       "  0.21901286978334022,\n",
       "  0.21926170326446398,\n",
       "  0.2191994591294508,\n",
       "  0.22075524433652488,\n",
       "  0.2192075799177039,\n",
       "  0.2187469121636548,\n",
       "  0.2188382602164575,\n",
       "  0.21876720525154875,\n",
       "  0.36286027559034933],\n",
       " 'accuracy': [0.9403534,\n",
       "  0.9459609,\n",
       "  0.9470054,\n",
       "  0.947366,\n",
       "  0.9476885,\n",
       "  0.94797015,\n",
       "  0.9482123,\n",
       "  0.9486217,\n",
       "  0.9486501,\n",
       "  0.9488544,\n",
       "  0.9494487,\n",
       "  0.9492836,\n",
       "  0.94938165,\n",
       "  0.94940346,\n",
       "  0.9487346,\n",
       "  0.9497003,\n",
       "  0.9492261,\n",
       "  0.9494075,\n",
       "  0.9492651,\n",
       "  0.9498884,\n",
       "  0.9494957,\n",
       "  0.9494943,\n",
       "  0.9492526,\n",
       "  0.9494886,\n",
       "  0.94972736,\n",
       "  0.94983685,\n",
       "  0.949432,\n",
       "  0.95012337,\n",
       "  0.94984883,\n",
       "  0.94981223,\n",
       "  0.9496723,\n",
       "  0.9497683,\n",
       "  0.9497637,\n",
       "  0.94959164,\n",
       "  0.94987655,\n",
       "  0.9499708,\n",
       "  0.95008427,\n",
       "  0.95004237,\n",
       "  0.9499213,\n",
       "  0.9497849,\n",
       "  0.9501766,\n",
       "  0.9498099,\n",
       "  0.94963014,\n",
       "  0.949624,\n",
       "  0.9493638,\n",
       "  0.9498031,\n",
       "  0.94959855,\n",
       "  0.9499843,\n",
       "  0.9499317,\n",
       "  0.949551,\n",
       "  0.94961447,\n",
       "  0.9499455,\n",
       "  0.94965816,\n",
       "  0.94974303,\n",
       "  0.95021504],\n",
       " 'auc_2': [0.98707616,\n",
       "  0.9894781,\n",
       "  0.9898885,\n",
       "  0.9901335,\n",
       "  0.99028414,\n",
       "  0.9903993,\n",
       "  0.9904986,\n",
       "  0.99059904,\n",
       "  0.9906498,\n",
       "  0.990726,\n",
       "  0.9907818,\n",
       "  0.99082226,\n",
       "  0.99087805,\n",
       "  0.99091315,\n",
       "  0.99093044,\n",
       "  0.99096864,\n",
       "  0.9909704,\n",
       "  0.9910022,\n",
       "  0.9910183,\n",
       "  0.9910295,\n",
       "  0.99106276,\n",
       "  0.99109226,\n",
       "  0.9910971,\n",
       "  0.9911198,\n",
       "  0.9911144,\n",
       "  0.9911585,\n",
       "  0.99113744,\n",
       "  0.9911546,\n",
       "  0.99113506,\n",
       "  0.9911762,\n",
       "  0.99116963,\n",
       "  0.9911911,\n",
       "  0.99119157,\n",
       "  0.99117154,\n",
       "  0.9912068,\n",
       "  0.9912397,\n",
       "  0.9912631,\n",
       "  0.99123293,\n",
       "  0.991223,\n",
       "  0.9911896,\n",
       "  0.99123037,\n",
       "  0.991204,\n",
       "  0.99124074,\n",
       "  0.99125373,\n",
       "  0.9912205,\n",
       "  0.9912549,\n",
       "  0.9912814,\n",
       "  0.9912632,\n",
       "  0.9912707,\n",
       "  0.99121684,\n",
       "  0.9912666,\n",
       "  0.9913073,\n",
       "  0.991304,\n",
       "  0.9913029,\n",
       "  0.99127644]}"
      ]
     },
     "execution_count": 31,
     "metadata": {},
     "output_type": "execute_result"
    }
   ],
   "source": [
    "hist"
   ]
  },
  {
   "cell_type": "code",
   "execution_count": 32,
   "metadata": {},
   "outputs": [],
   "source": [
    "import json\n",
    "json.dump(str(hist), open(model_dir+\"/history_v2.json\", \"w\"))"
   ]
  },
  {
   "cell_type": "code",
   "execution_count": 33,
   "metadata": {
    "ExecuteTime": {
     "end_time": "2020-05-03T21:02:31.639054Z",
     "start_time": "2020-05-03T21:02:28.213008Z"
    }
   },
   "outputs": [
    {
     "name": "stdout",
     "output_type": "stream",
     "text": [
      ">>> Computing AUC...\n",
      "AUC score: 0.9913132833091581\n",
      ">>> Saving ROC curve...\n"
     ]
    },
    {
     "data": {
      "text/plain": [
       "<matplotlib.legend.Legend at 0x7f2d0c037160>"
      ]
     },
     "execution_count": 33,
     "metadata": {},
     "output_type": "execute_result"
    },
    {
     "name": "stderr",
     "output_type": "stream",
     "text": [
      "/usr/local/lib/python3.6/dist-packages/IPython/core/pylabtools.py:128: UserWarning: Creating legend with loc=\"best\" can be slow with large amounts of data.\n",
      "  fig.canvas.print_figure(bytes_io, **kw)\n"
     ]
    },
    {
     "data": {
      "image/png": "[encoded data removed]",
      "text/plain": [
       "<Figure size 750x750 with 1 Axes>"
      ]
     },
     "metadata": {
      "needs_background": "light"
     },
     "output_type": "display_data"
    }
   ],
   "source": [
    "# Evalutation\n",
    "print(\">>> Computing AUC...\")\n",
    "\n",
    "from sklearn.metrics import roc_auc_score, roc_curve\n",
    "\n",
    "pred = model.predict(X_val,batch_size=2048)\n",
    "auc = roc_auc_score(y_val, pred, sample_weight=w_val)\n",
    "print(\"AUC score: \" + str(auc))\n",
    "\n",
    "print(\">>> Saving ROC curve...\")\n",
    "fp , tp, th = roc_curve(y_val, pred, sample_weight=w_val,drop_intermediate=True)\n",
    "plt.plot(fp, tp, label=\"roc\")\n",
    "#plt.plot(fp, th, label=\"threshold\")\n",
    "plt.xlabel(\"false positives\")\n",
    "plt.ylabel(\"true positives\")\n",
    "plt.ylim(-0.05,1.05)\n",
    "\n",
    "plt.legend()"
   ]
  },
  {
   "cell_type": "markdown",
   "metadata": {},
   "source": [
    "# AUC by eta and Et bin"
   ]
  },
  {
   "cell_type": "code",
   "execution_count": 20,
   "metadata": {
    "scrolled": true
   },
   "outputs": [
    {
     "ename": "NameError",
     "evalue": "name 'det' is not defined",
     "output_type": "error",
     "traceback": [
      "\u001b[0;31m---------------------------------------------------------------------------\u001b[0m",
      "\u001b[0;31mNameError\u001b[0m                                 Traceback (most recent call last)",
      "\u001b[0;32m<ipython-input-20-8a96b2f1b117>\u001b[0m in \u001b[0;36m<module>\u001b[0;34m\u001b[0m\n\u001b[1;32m      1\u001b[0m \u001b[0mdata\u001b[0m\u001b[0;34m[\u001b[0m\u001b[0;34m\"y\"\u001b[0m\u001b[0;34m]\u001b[0m \u001b[0;34m=\u001b[0m  \u001b[0mmodel\u001b[0m\u001b[0;34m.\u001b[0m\u001b[0mpredict\u001b[0m\u001b[0;34m(\u001b[0m\u001b[0mscaler\u001b[0m\u001b[0;34m.\u001b[0m\u001b[0mtransform\u001b[0m\u001b[0;34m(\u001b[0m\u001b[0mdata\u001b[0m\u001b[0;34m[\u001b[0m\u001b[0mcols\u001b[0m\u001b[0;34m]\u001b[0m\u001b[0;34m.\u001b[0m\u001b[0mvalues\u001b[0m\u001b[0;34m)\u001b[0m\u001b[0;34m,\u001b[0m \u001b[0mbatch_size\u001b[0m\u001b[0;34m=\u001b[0m\u001b[0;36m4096\u001b[0m\u001b[0;34m)\u001b[0m\u001b[0;34m\u001b[0m\u001b[0;34m\u001b[0m\u001b[0m\n\u001b[1;32m      2\u001b[0m \u001b[0;34m\u001b[0m\u001b[0m\n\u001b[0;32m----> 3\u001b[0;31m \u001b[0mdet\u001b[0m \u001b[0;34m==\u001b[0m \u001b[0;34m\"EB\"\u001b[0m\u001b[0;34m\u001b[0m\u001b[0;34m\u001b[0m\u001b[0m\n\u001b[0m\u001b[1;32m      4\u001b[0m \u001b[0mets\u001b[0m \u001b[0;34m=\u001b[0m \u001b[0;34m[\u001b[0m\u001b[0;36m0\u001b[0m\u001b[0;34m,\u001b[0m\u001b[0;36m20\u001b[0m\u001b[0;34m,\u001b[0m\u001b[0;36m40\u001b[0m\u001b[0;34m,\u001b[0m\u001b[0;36m60\u001b[0m\u001b[0;34m,\u001b[0m\u001b[0;36m80\u001b[0m\u001b[0;34m,\u001b[0m\u001b[0;36m100\u001b[0m\u001b[0;34m]\u001b[0m\u001b[0;34m\u001b[0m\u001b[0;34m\u001b[0m\u001b[0m\n\u001b[1;32m      5\u001b[0m \u001b[0;32mif\u001b[0m \u001b[0mdet\u001b[0m\u001b[0;34m==\u001b[0m\u001b[0;34m\"EB\"\u001b[0m\u001b[0;34m:\u001b[0m\u001b[0;34m\u001b[0m\u001b[0;34m\u001b[0m\u001b[0m\n",
      "\u001b[0;31mNameError\u001b[0m: name 'det' is not defined"
     ]
    }
   ],
   "source": [
    "data[\"y\"] =  model.predict(scaler.transform(data[cols].values), batch_size=4096)\n",
    "\n",
    "det == \"EB\"\n",
    "ets = [0,20,40,60,80,100]\n",
    "if det==\"EB\":\n",
    "    etas = [0, 0.4,0.8, 1.2,1.479]\n",
    "if det==\"EE\":\n",
    "    etas = [1.479,1.75,2.,2.25,3]\n",
    "\n",
    "data[\"eta_bin\"] = pd.cut(abs(data.seed_eta), etas, labels=list(range(len(etas)-1)))\n",
    "data[\"et_bin\"] = pd.cut(data.et_seed, ets, labels=list(range(len(ets)-1)))\n",
    "\n",
    "result =  data.groupby([\"eta_bin\", \"et_bin\"]).apply(\n",
    "        lambda gr:  roc_auc_score(gr.in_scluster, gr.y, sample_weight=gr.w)\n",
    ")\n",
    "\n",
    "a = result.values.reshape((len(etas)-1,len(ets)-1))\n",
    "plt.imshow(a.T)\n",
    "plt.xlabel(\"Eta bin\")\n",
    "plt.ylabel(\"Et bin\")\n",
    "plt.title(\"AUC\")\n",
    "plt.colorbar()"
   ]
  },
  {
   "cell_type": "code",
   "execution_count": 34,
   "metadata": {},
   "outputs": [],
   "source": [
    "from sklearn.metrics import roc_auc_score, roc_curve\n",
    "data[\"y\"] =  model.predict(scaler.transform(data[cols].values), batch_size=4096)\n",
    "\n",
    "ets = [0,20,40,60,80,100]\n",
    "etas = [0, 0.4,0.8, 1.2,1.479, 1.75,2.,2.25,3]\n",
    "\n",
    "data[\"eta_bin\"] = pd.cut(abs(data.seed_eta), etas, labels=list(range(len(etas)-1)))\n",
    "data[\"et_bin\"] = pd.cut(data.et_seed, ets, labels=list(range(len(ets)-1)))\n",
    "\n",
    "result =  data.groupby([\"eta_bin\", \"et_bin\"]).apply(\n",
    "        lambda gr:  roc_auc_score(gr.in_scluster, gr.y, sample_weight=gr.w)\n",
    ")\n",
    "\n",
    "a = result.values.reshape((len(etas)-1,len(ets)-1))\n"
   ]
  },
  {
   "cell_type": "code",
   "execution_count": 23,
   "metadata": {},
   "outputs": [
    {
     "data": {
      "image/png": "[encoded data removed]",
      "text/plain": [
       "<Figure size 1500x750 with 2 Axes>"
      ]
     },
     "metadata": {
      "needs_background": "light"
     },
     "output_type": "display_data"
    }
   ],
   "source": [
    "plt.figure(figsize=(10,5))\n",
    "plt.imshow(a.T, vmin=0.970)\n",
    "plt.xlabel(\"Eta bin\")\n",
    "plt.ylabel(\"Et bin\")\n",
    "plt.title(\"AUC\")\n",
    "plt.colorbar()\n",
    "plt.savefig(model_dir+ \"/AUC.png\")"
   ]
  },
  {
   "cell_type": "code",
   "execution_count": 35,
   "metadata": {},
   "outputs": [
    {
     "data": {
      "image/png": "[encoded data removed]",
      "text/plain": [
       "<Figure size 1500x750 with 2 Axes>"
      ]
     },
     "metadata": {
      "needs_background": "light"
     },
     "output_type": "display_data"
    }
   ],
   "source": [
    "plt.figure(figsize=(10,5))\n",
    "plt.imshow(a.T, vmin=0.970)\n",
    "plt.xlabel(\"Eta bin\")\n",
    "plt.ylabel(\"Et bin\")\n",
    "plt.title(\"AUC\")\n",
    "plt.colorbar()\n",
    "plt.savefig(model_dir+ \"/AUC_v2.png\")"
   ]
  },
  {
   "cell_type": "code",
   "execution_count": 26,
   "metadata": {
    "ExecuteTime": {
     "end_time": "2020-05-03T18:02:08.432215Z",
     "start_time": "2020-05-03T18:02:08.040559Z"
    }
   },
   "outputs": [
    {
     "data": {
      "text/plain": [
       "<matplotlib.legend.Legend at 0x7f2cc7134128>"
      ]
     },
     "execution_count": 26,
     "metadata": {},
     "output_type": "execute_result"
    },
    {
     "data": {
      "image/png": "[encoded data removed]",
      "text/plain": [
       "<Figure size 750x750 with 1 Axes>"
      ]
     },
     "metadata": {
      "needs_background": "light"
     },
     "output_type": "display_data"
    }
   ],
   "source": [
    "plt.plot(history.epoch, history.history[\"val_loss\"], label=\"validation loss\")\n",
    "plt.plot(history.epoch, history.history[\"loss\"], label=\"training loss\")\n",
    "plt.legend()"
   ]
  },
  {
   "cell_type": "code",
   "execution_count": 36,
   "metadata": {},
   "outputs": [
    {
     "data": {
      "text/plain": [
       "<matplotlib.legend.Legend at 0x7f2d0c0e3f28>"
      ]
     },
     "execution_count": 36,
     "metadata": {},
     "output_type": "execute_result"
    },
    {
     "data": {
      "image/png": "[encoded data removed]",
      "text/plain": [
       "<Figure size 750x750 with 1 Axes>"
      ]
     },
     "metadata": {
      "needs_background": "light"
     },
     "output_type": "display_data"
    }
   ],
   "source": [
    "plt.plot(history.epoch, history.history[\"val_loss\"], label=\"validation loss\")\n",
    "plt.plot(history.epoch, history.history[\"loss\"], label=\"training loss\")\n",
    "plt.legend()"
   ]
  },
  {
   "cell_type": "code",
   "execution_count": 37,
   "metadata": {
    "ExecuteTime": {
     "end_time": "2020-05-03T18:02:48.984671Z",
     "start_time": "2020-05-03T18:02:41.386118Z"
    }
   },
   "outputs": [
    {
     "data": {
      "text/plain": [
       "<matplotlib.legend.Legend at 0x7f2bbc7dc470>"
      ]
     },
     "execution_count": 37,
     "metadata": {},
     "output_type": "execute_result"
    },
    {
     "data": {
      "image/png": "[encoded data removed]",
      "text/plain": [
       "<Figure size 750x750 with 1 Axes>"
      ]
     },
     "metadata": {
      "needs_background": "light"
     },
     "output_type": "display_data"
    }
   ],
   "source": [
    "results = model.predict(X_val[:200000])\n",
    "plt.hist(results[y_val[:200000]==0], bins=30,density=True, label=\"false\", histtype=\"step\")\n",
    "plt.hist(results[y_val[:200000]==1], bins=30, density=True, label=\"true\", histtype=\"step\")\n",
    "plt.yscale(\"log\")\n",
    "plt.legend()"
   ]
  },
  {
   "cell_type": "code",
   "execution_count": 25,
   "metadata": {},
   "outputs": [
    {
     "data": {
      "text/plain": [
       "<Figure size 750x750 with 0 Axes>"
      ]
     },
     "metadata": {},
     "output_type": "display_data"
    }
   ],
   "source": [
    "plt.savefig(model_dir +\"/output_model_v2_EE.png\")"
   ]
  },
  {
   "cell_type": "markdown",
   "metadata": {},
   "source": [
    "# Some plots"
   ]
  },
  {
   "cell_type": "code",
   "execution_count": 1,
   "metadata": {
    "ExecuteTime": {
     "end_time": "2020-01-13T09:25:43.435534Z",
     "start_time": "2020-01-13T09:25:30.930818Z"
    },
    "scrolled": true
   },
   "outputs": [
    {
     "name": "stderr",
     "output_type": "stream",
     "text": [
      "Using TensorFlow backend.\n"
     ]
    },
    {
     "ename": "OSError",
     "evalue": "Unable to open file (unable to open file: name = 'models/model11_balanced_100_80_50.hd5', errno = 2, error message = 'No such file or directory', flags = 0, o_flags = 0)",
     "output_type": "error",
     "traceback": [
      "\u001b[0;31m---------------------------------------------------------------------------\u001b[0m",
      "\u001b[0;31mOSError\u001b[0m                                   Traceback (most recent call last)",
      "\u001b[0;32m<ipython-input-1-5beff4d610ed>\u001b[0m in \u001b[0;36m<module>\u001b[0;34m\u001b[0m\n\u001b[1;32m      1\u001b[0m \u001b[0;32mfrom\u001b[0m \u001b[0mkeras\u001b[0m\u001b[0;34m.\u001b[0m\u001b[0mmodels\u001b[0m \u001b[0;32mimport\u001b[0m \u001b[0mload_model\u001b[0m\u001b[0;34m\u001b[0m\u001b[0m\n\u001b[0;32m----> 2\u001b[0;31m \u001b[0mmodel\u001b[0m \u001b[0;34m=\u001b[0m \u001b[0mload_model\u001b[0m\u001b[0;34m(\u001b[0m\u001b[0;34m\"models/model11_balanced_100_80_50.hd5\"\u001b[0m\u001b[0;34m)\u001b[0m\u001b[0;34m\u001b[0m\u001b[0m\n\u001b[0m\u001b[1;32m      3\u001b[0m \u001b[0mscaler\u001b[0m \u001b[0;34m=\u001b[0m \u001b[0mpickle\u001b[0m\u001b[0;34m.\u001b[0m\u001b[0mload\u001b[0m\u001b[0;34m(\u001b[0m\u001b[0mopen\u001b[0m\u001b[0;34m(\u001b[0m\u001b[0;34m\"models/scaler_gamma_electrons.pkl\"\u001b[0m\u001b[0;34m,\u001b[0m \u001b[0;34m\"rb\"\u001b[0m\u001b[0;34m)\u001b[0m\u001b[0;34m)\u001b[0m\u001b[0;34m\u001b[0m\u001b[0m\n",
      "\u001b[0;32m/cvmfs/sft.cern.ch/lcg/views/LCG_96python3/x86_64-centos7-gcc8-opt/lib/python3.6/site-packages/keras/engine/saving.py\u001b[0m in \u001b[0;36mload_model\u001b[0;34m(filepath, custom_objects, compile)\u001b[0m\n\u001b[1;32m    415\u001b[0m     \u001b[0mmodel\u001b[0m \u001b[0;34m=\u001b[0m \u001b[0;32mNone\u001b[0m\u001b[0;34m\u001b[0m\u001b[0m\n\u001b[1;32m    416\u001b[0m     \u001b[0mopened_new_file\u001b[0m \u001b[0;34m=\u001b[0m \u001b[0;32mnot\u001b[0m \u001b[0misinstance\u001b[0m\u001b[0;34m(\u001b[0m\u001b[0mfilepath\u001b[0m\u001b[0;34m,\u001b[0m \u001b[0mh5py\u001b[0m\u001b[0;34m.\u001b[0m\u001b[0mGroup\u001b[0m\u001b[0;34m)\u001b[0m\u001b[0;34m\u001b[0m\u001b[0m\n\u001b[0;32m--> 417\u001b[0;31m     \u001b[0mf\u001b[0m \u001b[0;34m=\u001b[0m \u001b[0mh5dict\u001b[0m\u001b[0;34m(\u001b[0m\u001b[0mfilepath\u001b[0m\u001b[0;34m,\u001b[0m \u001b[0;34m'r'\u001b[0m\u001b[0;34m)\u001b[0m\u001b[0;34m\u001b[0m\u001b[0m\n\u001b[0m\u001b[1;32m    418\u001b[0m     \u001b[0;32mtry\u001b[0m\u001b[0;34m:\u001b[0m\u001b[0;34m\u001b[0m\u001b[0m\n\u001b[1;32m    419\u001b[0m         \u001b[0mmodel\u001b[0m \u001b[0;34m=\u001b[0m \u001b[0m_deserialize_model\u001b[0m\u001b[0;34m(\u001b[0m\u001b[0mf\u001b[0m\u001b[0;34m,\u001b[0m \u001b[0mcustom_objects\u001b[0m\u001b[0;34m,\u001b[0m \u001b[0mcompile\u001b[0m\u001b[0;34m)\u001b[0m\u001b[0;34m\u001b[0m\u001b[0m\n",
      "\u001b[0;32m/cvmfs/sft.cern.ch/lcg/views/LCG_96python3/x86_64-centos7-gcc8-opt/lib/python3.6/site-packages/keras/utils/io_utils.py\u001b[0m in \u001b[0;36m__init__\u001b[0;34m(self, path, mode)\u001b[0m\n\u001b[1;32m    184\u001b[0m             \u001b[0mself\u001b[0m\u001b[0;34m.\u001b[0m\u001b[0m_is_file\u001b[0m \u001b[0;34m=\u001b[0m \u001b[0;32mFalse\u001b[0m\u001b[0;34m\u001b[0m\u001b[0m\n\u001b[1;32m    185\u001b[0m         \u001b[0;32melif\u001b[0m \u001b[0misinstance\u001b[0m\u001b[0;34m(\u001b[0m\u001b[0mpath\u001b[0m\u001b[0;34m,\u001b[0m \u001b[0mstr\u001b[0m\u001b[0;34m)\u001b[0m\u001b[0;34m:\u001b[0m\u001b[0;34m\u001b[0m\u001b[0m\n\u001b[0;32m--> 186\u001b[0;31m             \u001b[0mself\u001b[0m\u001b[0;34m.\u001b[0m\u001b[0mdata\u001b[0m \u001b[0;34m=\u001b[0m \u001b[0mh5py\u001b[0m\u001b[0;34m.\u001b[0m\u001b[0mFile\u001b[0m\u001b[0;34m(\u001b[0m\u001b[0mpath\u001b[0m\u001b[0;34m,\u001b[0m \u001b[0mmode\u001b[0m\u001b[0;34m=\u001b[0m\u001b[0mmode\u001b[0m\u001b[0;34m)\u001b[0m\u001b[0;34m\u001b[0m\u001b[0m\n\u001b[0m\u001b[1;32m    187\u001b[0m             \u001b[0mself\u001b[0m\u001b[0;34m.\u001b[0m\u001b[0m_is_file\u001b[0m \u001b[0;34m=\u001b[0m \u001b[0;32mTrue\u001b[0m\u001b[0;34m\u001b[0m\u001b[0m\n\u001b[1;32m    188\u001b[0m         \u001b[0;32melif\u001b[0m \u001b[0misinstance\u001b[0m\u001b[0;34m(\u001b[0m\u001b[0mpath\u001b[0m\u001b[0;34m,\u001b[0m \u001b[0mdict\u001b[0m\u001b[0;34m)\u001b[0m\u001b[0;34m:\u001b[0m\u001b[0;34m\u001b[0m\u001b[0m\n",
      "\u001b[0;32m/cvmfs/sft.cern.ch/lcg/views/LCG_96python3/x86_64-centos7-gcc8-opt/lib/python3.6/site-packages/h5py/_hl/files.py\u001b[0m in \u001b[0;36m__init__\u001b[0;34m(self, name, mode, driver, libver, userblock_size, swmr, rdcc_nslots, rdcc_nbytes, rdcc_w0, track_order, **kwds)\u001b[0m\n\u001b[1;32m    392\u001b[0m                 fid = make_fid(name, mode, userblock_size,\n\u001b[1;32m    393\u001b[0m                                \u001b[0mfapl\u001b[0m\u001b[0;34m,\u001b[0m \u001b[0mfcpl\u001b[0m\u001b[0;34m=\u001b[0m\u001b[0mmake_fcpl\u001b[0m\u001b[0;34m(\u001b[0m\u001b[0mtrack_order\u001b[0m\u001b[0;34m=\u001b[0m\u001b[0mtrack_order\u001b[0m\u001b[0;34m)\u001b[0m\u001b[0;34m,\u001b[0m\u001b[0;34m\u001b[0m\u001b[0m\n\u001b[0;32m--> 394\u001b[0;31m                                swmr=swmr)\n\u001b[0m\u001b[1;32m    395\u001b[0m \u001b[0;34m\u001b[0m\u001b[0m\n\u001b[1;32m    396\u001b[0m             \u001b[0;32mif\u001b[0m \u001b[0mswmr_support\u001b[0m\u001b[0;34m:\u001b[0m\u001b[0;34m\u001b[0m\u001b[0m\n",
      "\u001b[0;32m/cvmfs/sft.cern.ch/lcg/views/LCG_96python3/x86_64-centos7-gcc8-opt/lib/python3.6/site-packages/h5py/_hl/files.py\u001b[0m in \u001b[0;36mmake_fid\u001b[0;34m(name, mode, userblock_size, fapl, fcpl, swmr)\u001b[0m\n\u001b[1;32m    168\u001b[0m         \u001b[0;32mif\u001b[0m \u001b[0mswmr\u001b[0m \u001b[0;32mand\u001b[0m \u001b[0mswmr_support\u001b[0m\u001b[0;34m:\u001b[0m\u001b[0;34m\u001b[0m\u001b[0m\n\u001b[1;32m    169\u001b[0m             \u001b[0mflags\u001b[0m \u001b[0;34m|=\u001b[0m \u001b[0mh5f\u001b[0m\u001b[0;34m.\u001b[0m\u001b[0mACC_SWMR_READ\u001b[0m\u001b[0;34m\u001b[0m\u001b[0m\n\u001b[0;32m--> 170\u001b[0;31m         \u001b[0mfid\u001b[0m \u001b[0;34m=\u001b[0m \u001b[0mh5f\u001b[0m\u001b[0;34m.\u001b[0m\u001b[0mopen\u001b[0m\u001b[0;34m(\u001b[0m\u001b[0mname\u001b[0m\u001b[0;34m,\u001b[0m \u001b[0mflags\u001b[0m\u001b[0;34m,\u001b[0m \u001b[0mfapl\u001b[0m\u001b[0;34m=\u001b[0m\u001b[0mfapl\u001b[0m\u001b[0;34m)\u001b[0m\u001b[0;34m\u001b[0m\u001b[0m\n\u001b[0m\u001b[1;32m    171\u001b[0m     \u001b[0;32melif\u001b[0m \u001b[0mmode\u001b[0m \u001b[0;34m==\u001b[0m \u001b[0;34m'r+'\u001b[0m\u001b[0;34m:\u001b[0m\u001b[0;34m\u001b[0m\u001b[0m\n\u001b[1;32m    172\u001b[0m         \u001b[0mfid\u001b[0m \u001b[0;34m=\u001b[0m \u001b[0mh5f\u001b[0m\u001b[0;34m.\u001b[0m\u001b[0mopen\u001b[0m\u001b[0;34m(\u001b[0m\u001b[0mname\u001b[0m\u001b[0;34m,\u001b[0m \u001b[0mh5f\u001b[0m\u001b[0;34m.\u001b[0m\u001b[0mACC_RDWR\u001b[0m\u001b[0;34m,\u001b[0m \u001b[0mfapl\u001b[0m\u001b[0;34m=\u001b[0m\u001b[0mfapl\u001b[0m\u001b[0;34m)\u001b[0m\u001b[0;34m\u001b[0m\u001b[0m\n",
      "\u001b[0;32mh5py/_objects.pyx\u001b[0m in \u001b[0;36mh5py._objects.with_phil.wrapper\u001b[0;34m()\u001b[0m\n",
      "\u001b[0;32mh5py/_objects.pyx\u001b[0m in \u001b[0;36mh5py._objects.with_phil.wrapper\u001b[0;34m()\u001b[0m\n",
      "\u001b[0;32mh5py/h5f.pyx\u001b[0m in \u001b[0;36mh5py.h5f.open\u001b[0;34m()\u001b[0m\n",
      "\u001b[0;31mOSError\u001b[0m: Unable to open file (unable to open file: name = 'models/model11_balanced_100_80_50.hd5', errno = 2, error message = 'No such file or directory', flags = 0, o_flags = 0)"
     ]
    }
   ],
   "source": [
    "from keras.models import load_model\n",
    "model = load_model(\"models/model11_balanced_100_80_50.hd5\")\n",
    "scaler = pickle.load(open(\"models/scaler_gamma_electrons.pkl\", \"rb\"))"
   ]
  },
  {
   "cell_type": "code",
   "execution_count": null,
   "metadata": {
    "ExecuteTime": {
     "end_time": "2020-04-20T22:38:16.819969Z",
     "start_time": "2020-04-20T22:38:16.467585Z"
    }
   },
   "outputs": [],
   "source": [
    "fp , tp, th = roc_curve(y_test, pred)\n",
    "fig, ax1 = plt.subplots(figsize=(7,6), dpi=100)\n",
    "ax1.plot(fp, tp, label=\"roc\", color=\"blue\")\n",
    "\n",
    "ax1.set_xlabel(\"Bkg contamination\", fontsize=18)\n",
    "ax1.set_ylabel(\"Signal efficiency\", fontsize=18, color=\"blue\")\n",
    "ax1.set_ylim(0.850, 1.01)\n",
    "ax1.set_xlim(0, 0.06)\n",
    "#ax1.plot([0,1],[1,1],\"b--\")\n",
    "ax1.tick_params(\"y\",labelsize=\"large\", labelcolor=\"blue\")\n",
    "\n",
    "ax2 = ax1.twinx()\n",
    "ax2.plot(fp, th, label=\"threshold\", color=\"red\")\n",
    "ax2.tick_params(axis='y', labelcolor=\"red\", labelsize=\"large\")\n",
    "ax2.set_ylabel(\"Threshold\", fontsize=18, color=\"red\")\n",
    "ax2.set_ylim(0, 1)\n",
    "ax1.grid()\n",
    "#ax2.grid(linestyle=\"dashed\", color=\"red\")\n",
    "\n",
    "ax2.plot([0.01, 0.01], [0, 2], \"g--\")\n",
    "ax2.set_yticks(np.arange(0, 1.1, 0.1))\n",
    "#ax2.minorticks_on()\n",
    "\n",
    "ax1.set_title(\"ROC curve\", fontsize=20)\n",
    "ax2.text(x = 0.048, y = 1.01, s=\"AUC=0.997\", fontsize=\"large\")\n",
    "\n",
    "fig.tight_layout()"
   ]
  },
  {
   "cell_type": "code",
   "execution_count": 36,
   "metadata": {
    "ExecuteTime": {
     "end_time": "2020-01-11T14:23:01.035443Z",
     "start_time": "2020-01-11T14:23:00.336449Z"
    }
   },
   "outputs": [
    {
     "data": {
      "image/png": "[encoded data removed]",
      "text/plain": [
       "<Figure size 700x600 with 2 Axes>"
      ]
     },
     "metadata": {},
     "output_type": "display_data"
    }
   ],
   "source": [
    "fp , tp, th = roc_curve(y_test, pred)\n",
    "fig, ax1 = plt.subplots(figsize=(7,6), dpi=100)\n",
    "ax1.plot(fp, tp, label=\"roc\", color=\"blue\")\n",
    "\n",
    "ax1.set_xlabel(\"Bkg contamination\", fontsize=18)\n",
    "ax1.set_ylabel(\"Signal efficiency\", fontsize=18, color=\"blue\")\n",
    "ax1.set_ylim(0.850, 1.01)\n",
    "ax1.set_xlim(0, 0.06)\n",
    "#ax1.plot([0,1],[1,1],\"b--\")\n",
    "ax1.tick_params(\"y\",labelsize=\"large\", labelcolor=\"blue\")\n",
    "\n",
    "ax2 = ax1.twinx()\n",
    "ax2.plot(fp, th, label=\"threshold\", color=\"red\")\n",
    "ax2.tick_params(axis='y', labelcolor=\"red\", labelsize=\"large\")\n",
    "ax2.set_ylabel(\"Threshold\", fontsize=18, color=\"red\")\n",
    "ax2.set_ylim(0, 1)\n",
    "ax1.grid()\n",
    "#ax2.grid(linestyle=\"dashed\", color=\"red\")\n",
    "\n",
    "ax2.plot([0.01, 0.01], [0, 2], \"g--\")\n",
    "ax2.set_yticks(np.arange(0, 1.1, 0.1))\n",
    "#ax2.minorticks_on()\n",
    "\n",
    "ax1.set_title(\"ROC curve\", fontsize=20)\n",
    "ax2.text(x = 0.048, y = 1.01, s=\"AUC=0.997\", fontsize=\"large\")\n",
    "\n",
    "fig.tight_layout()"
   ]
  }
 ],
 "metadata": {
  "kernelspec": {
   "display_name": "Python 3",
   "language": "python",
   "name": "python3"
  },
  "language_info": {
   "codemirror_mode": {
    "name": "ipython",
    "version": 3
   },
   "file_extension": ".py",
   "mimetype": "text/x-python",
   "name": "python",
   "nbconvert_exporter": "python",
   "pygments_lexer": "ipython3",
   "version": "3.6.9"
  },
  "toc": {
   "base_numbering": 1,
   "nav_menu": {},
   "number_sections": true,
   "sideBar": true,
   "skip_h1_title": false,
   "title_cell": "Table of Contents",
   "title_sidebar": "Contents",
   "toc_cell": false,
   "toc_position": {},
   "toc_section_display": true,
   "toc_window_display": false
  },
  "varInspector": {
   "cols": {
    "lenName": 16,
    "lenType": 16,
    "lenVar": 40
   },
   "kernels_config": {
    "python": {
     "delete_cmd_postfix": "",
     "delete_cmd_prefix": "del ",
     "library": "var_list.py",
     "varRefreshCmd": "print(var_dic_list())"
    },
    "r": {
     "delete_cmd_postfix": ") ",
     "delete_cmd_prefix": "rm(",
     "library": "var_list.r",
     "varRefreshCmd": "cat(var_dic_list()) "
    }
   },
   "oldHeight": 745.183666,
   "position": {
    "height": "40px",
    "left": "717.5px",
    "right": "20px",
    "top": "55px",
    "width": "800px"
   },
   "types_to_exclude": [
    "module",
    "function",
    "builtin_function_or_method",
    "instance",
    "_Feature"
   ],
   "varInspector_section_display": "none",
   "window_display": false
  }
 },
 "nbformat": 4,
 "nbformat_minor": 2
}
