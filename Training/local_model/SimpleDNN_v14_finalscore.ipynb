{
 "cells": [
  {
   "cell_type": "code",
   "execution_count": 2,
   "metadata": {
    "ExecuteTime": {
     "end_time": "2020-05-04T14:22:35.838781Z",
     "start_time": "2020-05-04T14:22:35.831130Z"
    }
   },
   "outputs": [],
   "source": [
    "import pickle\n",
    "import numpy as np \n",
    "import pandas as pd\n",
    "import matplotlib.colors as colors\n",
    "import matplotlib.pyplot as plt\n",
    "import matplotlib as mpl\n",
    "import os \n",
    "import glob\n",
    "\n",
    "mpl.rcParams['figure.figsize'] = (5,5)\n",
    "mpl.rcParams['figure.dpi'] = 150\n",
    "mpl.rcParams[\"image.origin\"] = 'lower'"
   ]
  },
  {
   "cell_type": "code",
   "execution_count": 65,
   "metadata": {
    "ExecuteTime": {
     "end_time": "2020-05-04T14:22:36.542179Z",
     "start_time": "2020-05-04T14:22:36.538268Z"
    }
   },
   "outputs": [],
   "source": [
    "model_name = \"v14_finalscore\"\n",
    "model_dir = \"../models/\"+model_name\n",
    "det = \"EE\"\n",
    "model_version = 6\n",
    "numpy_version = 17\n",
    "limit_files = 100\n",
    "cols = [\"seed_eta\", \"seed_phi\", \"seed_iz\",\"en_seed\",\"et_seed\",\n",
    "        \"cluster_deta\", \"cluster_dphi\", \"en_cluster\", \"et_cluster\",\n",
    "       \"seed_f5_r9\", \"seed_f5_sigmaIetaIeta\",\"seed_f5_sigmaIetaIphi\",\"seed_f5_sigmaIphiIphi\",\n",
    "        \"seed_f5_swissCross\",\"seed_nxtals\", \"seed_etaWidth\", \"seed_phiWidth\",\n",
    "        \"cl_f5_r9\", \"cl_f5_sigmaIetaIeta\",\"cl_f5_sigmaIetaIphi\",\"cl_f5_sigmaIphiIphi\",\n",
    "        \"cl_f5_swissCross\", \"cl_nxtals\", \"cl_etaWidth\", \"cl_phiWidth\"]\n",
    "\n",
    "os.makedirs(model_dir, exist_ok = True)\n",
    "with open(\"variables.txt\", \"w\") as of:\n",
    "    of.write(\"\\n\".join(cols))"
   ]
  },
  {
   "cell_type": "markdown",
   "metadata": {},
   "source": [
    "# Data preparation\n",
    "## Input: \n",
    "- E seed\n",
    "- eta,phi,z seed\n",
    "- E cluster\n",
    "- delta_eta,delta_phi,\n",
    "\n",
    "Filter only windows with the calo"
   ]
  },
  {
   "cell_type": "code",
   "execution_count": 4,
   "metadata": {},
   "outputs": [],
   "source": [
    "files_ele = f\"/storage/ECAL/training_data/electrons/numpy_v{numpy_version}/training/\"\n",
    "files_gamma = f\"/storage/ECAL/training_data/gammas/numpy_v{numpy_version}/training/\""
   ]
  },
  {
   "cell_type": "code",
   "execution_count": 5,
   "metadata": {
    "ExecuteTime": {
     "start_time": "2020-05-04T14:22:39.023Z"
    }
   },
   "outputs": [
    {
     "name": "stdout",
     "output_type": "stream",
     "text": [
      "N events ele:  18714162\n",
      "N events gamma:  18575156\n"
     ]
    }
   ],
   "source": [
    "datas_ele = []\n",
    "\n",
    "i = 0\n",
    "for f in glob.glob(files_ele+\"*.pkl\"):\n",
    "    if i>limit_files :continue\n",
    "    d = pickle.load(open(f, \"rb\"))   \n",
    "    datas_ele.append(d[d.is_seed == False])\n",
    "    i+=1\n",
    "    \n",
    "data_ele = pd.concat(datas_ele, ignore_index=True)\n",
    "data_ele[\"particle\"] = \"electron\"\n",
    "print(\"N events ele: \",len(data_ele))\n",
    "\n",
    "datas_gamma = []\n",
    "i = 0\n",
    "for f in glob.glob(files_gamma+\"*.pkl\"):\n",
    "    if i>limit_files :continue\n",
    "    d = pickle.load(open(f, \"rb\"))  \n",
    "    datas_gamma.append(d[d.is_seed==False])\n",
    "    i+=1\n",
    "    \n",
    "data_gamma = pd.concat(datas_gamma, ignore_index=True)\n",
    "data_gamma[\"particle\"] = \"gamma\"\n",
    "print(\"N events gamma: \",len(data_gamma))\n",
    "\n",
    "if data_ele.shape[0]> data_gamma.shape[0]:\n",
    "    data = pd.concat([data_gamma, data_ele.iloc[0:len(data_gamma)]], ignore_index=True)\n",
    "else:\n",
    "    data = pd.concat([data_gamma.iloc[0:len(data_ele)], data_ele], ignore_index=True)\n",
    "    \n",
    "del data_gamma\n",
    "del data_ele"
   ]
  },
  {
   "cell_type": "markdown",
   "metadata": {},
   "source": [
    "Balance gamma and electron"
   ]
  },
  {
   "cell_type": "code",
   "execution_count": 6,
   "metadata": {
    "ExecuteTime": {
     "start_time": "2020-05-04T14:14:26.563Z"
    }
   },
   "outputs": [],
   "source": [
    "data_EB = data[data.seed_iz == 0]\n",
    "data_EE = data[data.seed_iz != 0]"
   ]
  },
  {
   "cell_type": "code",
   "execution_count": 6,
   "metadata": {
    "ExecuteTime": {
     "end_time": "2020-05-03T14:58:15.903327Z",
     "start_time": "2020-05-03T14:58:12.456898Z"
    }
   },
   "outputs": [
    {
     "name": "stdout",
     "output_type": "stream",
     "text": [
      "Sample in EB: 27584323\n",
      "Sample in EE: 9565989\n",
      "Sample in EB in SC: 1605257\n",
      "Sample in EE in SC: 677235\n",
      "N in supercluster:  2282492\n",
      "N out supercluster:  34867820\n",
      "15.27620688265282\n"
     ]
    }
   ],
   "source": [
    "print(\"Sample in EB:\", len(data[abs(data.seed_eta) <1.479]))\n",
    "print(\"Sample in EE:\", len(data[abs(data.seed_eta) >=1.479]))\n",
    "print(\"Sample in EB in SC:\", len(data[(abs(data.seed_eta) <1.479)&(data.in_scluster)]))\n",
    "print(\"Sample in EE in SC:\", len(data[(abs(data.seed_eta) >=1.479)&(data.in_scluster)]))\n",
    "print(\"N in supercluster: \", len(data[ data.in_scluster]))\n",
    "print(\"N out supercluster: \", len(data[data.in_scluster == False]))\n",
    "w = len(data[(data.is_seed == False) & (data.in_scluster == False)]) / len(data[(data.is_seed == False) & (data.in_scluster==True)])\n",
    "print(w)"
   ]
  },
  {
   "cell_type": "code",
   "execution_count": 7,
   "metadata": {
    "ExecuteTime": {
     "end_time": "2020-05-03T14:58:46.167174Z",
     "start_time": "2020-05-03T14:58:45.165966Z"
    }
   },
   "outputs": [
    {
     "name": "stdout",
     "output_type": "stream",
     "text": [
      "caloMatch samples:  6113856\n",
      "Not caloMatch samples:  31036456\n"
     ]
    }
   ],
   "source": [
    "print(\"caloMatch samples: \", len(data[data.is_calo_matched]))\n",
    "print(\"Not caloMatch samples: \", len(data[data.is_calo_matched ==False]))"
   ]
  },
  {
   "cell_type": "markdown",
   "metadata": {},
   "source": [
    "# Data Preparation"
   ]
  },
  {
   "cell_type": "code",
   "execution_count": 9,
   "metadata": {
    "ExecuteTime": {
     "end_time": "2020-04-27T14:07:39.272642Z",
     "start_time": "2020-04-27T14:07:38.560302Z"
    }
   },
   "outputs": [],
   "source": [
    "data_in = data[ (data.is_seed == False) & data.in_scluster]\n",
    "data_out =  data[(data.is_seed == False) & (data.in_scluster == False)]"
   ]
  },
  {
   "cell_type": "code",
   "execution_count": 7,
   "metadata": {
    "ExecuteTime": {
     "end_time": "2020-05-03T19:39:50.337125Z",
     "start_time": "2020-05-03T19:39:50.330651Z"
    }
   },
   "outputs": [],
   "source": [
    "if det == \"EB\":\n",
    "    data = data_EB\n",
    "if det == \"EE\":\n",
    "    data = data_EE"
   ]
  },
  {
   "cell_type": "markdown",
   "metadata": {},
   "source": [
    "## Balance by et and eta of the seed"
   ]
  },
  {
   "cell_type": "code",
   "execution_count": 22,
   "metadata": {},
   "outputs": [],
   "source": [
    "etBinning = [0,10,20,30,40,50,60,70,80,90,200]\n",
    "etaBinning = [-3.0, -2.5, -1.75, -1.479, -0.75, 0.0, 0.75, 1.479, 1.75, 2.5, 3.0]"
   ]
  },
  {
   "cell_type": "code",
   "execution_count": 23,
   "metadata": {},
   "outputs": [],
   "source": [
    "data[\"et_bin\"] = pd.cut(data.et_seed, etBinning,labels=list(range(len(etBinning)-1)))\n",
    "data[\"eta_bin\"] = pd.cut(data.seed_eta, etaBinning,labels=list(range(len(etaBinning)-1)))"
   ]
  },
  {
   "cell_type": "code",
   "execution_count": 24,
   "metadata": {},
   "outputs": [
    {
     "data": {
      "text/plain": [
       "Text(0.5, 1.0, 'Samples in bins')"
      ]
     },
     "execution_count": 24,
     "metadata": {},
     "output_type": "execute_result"
    },
    {
     "data": {
      "image/png": "[encoded data removed]",
      "text/plain": [
       "<Figure size 750x750 with 2 Axes>"
      ]
     },
     "metadata": {
      "needs_background": "light"
     },
     "output_type": "display_data"
    }
   ],
   "source": [
    "a = data[[\"et_bin\", \"eta_bin\"]].values.T\n",
    "hoccupancy = plt.hist2d(a[0], a[1], bins=[10,10], range=[(-.5,9.5),(-.5,9.5)] ,norm= colors.LogNorm())\n",
    "plt.colorbar()\n",
    "plt.xlabel(\"et bin\")\n",
    "plt.ylabel(\"eta bin\")\n",
    "plt.title(\"Samples in bins\")"
   ]
  },
  {
   "cell_type": "code",
   "execution_count": 25,
   "metadata": {},
   "outputs": [
    {
     "data": {
      "text/plain": [
       "Text(0.5, 1.0, 'Samples in bins (out Supercluster)')"
      ]
     },
     "execution_count": 25,
     "metadata": {},
     "output_type": "execute_result"
    },
    {
     "data": {
      "image/png": "[encoded data removed]",
      "text/plain": [
       "<Figure size 1800x750 with 2 Axes>"
      ]
     },
     "metadata": {
      "needs_background": "light"
     },
     "output_type": "display_data"
    }
   ],
   "source": [
    "a_in = data[data.in_scluster==True][[\"et_bin\", \"eta_bin\"]].values.T\n",
    "a_out = data[data.in_scluster==False][[\"et_bin\", \"eta_bin\"]].values.T\n",
    "f, axs = plt.subplots(1,2, figsize=(12,5))\n",
    "hoccup_in = axs[0].hist2d(a_in[0], a_in[1], bins=[10,10], range=[(-.5,9.5),(-.5,9.5)] ,norm= colors.LogNorm())\n",
    "axs[0].set_xlabel(\"et bin\")\n",
    "axs[0].set_ylabel(\"eta bin\")\n",
    "axs[0].set_title(\"Samples in bins (in Supercluster)\")\n",
    "\n",
    "hoccup_out= axs[1].hist2d(a_out[0], a_out[1], bins=[10,10], range=[(-.5,9.5),(-.5,9.5)] ,norm= colors.LogNorm())\n",
    "axs[1].set_xlabel(\"et bin\")\n",
    "axs[1].set_ylabel(\"eta bin\")\n",
    "axs[1].set_title(\"Samples in bins (out Supercluster)\")"
   ]
  },
  {
   "cell_type": "markdown",
   "metadata": {},
   "source": [
    "## Reweighting\n",
    "Only the classes are reweighted, not in Et/eta bins"
   ]
  },
  {
   "cell_type": "code",
   "execution_count": 8,
   "metadata": {},
   "outputs": [
    {
     "name": "stdout",
     "output_type": "stream",
     "text": [
      "Weight  13.125065892932291\n"
     ]
    }
   ],
   "source": [
    "w = len(data[(data.is_seed == False) & (data.in_scluster == False)]) / len(data[(data.is_seed == False) & (data.in_scluster==True)])\n",
    "print(\"Weight \",w)\n",
    "data.loc[data.in_scluster,\"w\"] = w\n",
    "data.loc[data.in_scluster==False, \"w\"] = 1."
   ]
  },
  {
   "cell_type": "markdown",
   "metadata": {},
   "source": [
    "# Array preparation"
   ]
  },
  {
   "cell_type": "code",
   "execution_count": 28,
   "metadata": {},
   "outputs": [
    {
     "data": {
      "text/html": [
       "<div>\n",
       "<style scoped>\n",
       "    .dataframe tbody tr th:only-of-type {\n",
       "        vertical-align: middle;\n",
       "    }\n",
       "\n",
       "    .dataframe tbody tr th {\n",
       "        vertical-align: top;\n",
       "    }\n",
       "\n",
       "    .dataframe thead th {\n",
       "        text-align: right;\n",
       "    }\n",
       "</style>\n",
       "<table border=\"1\" class=\"dataframe\">\n",
       "  <thead>\n",
       "    <tr style=\"text-align: right;\">\n",
       "      <th></th>\n",
       "      <th>calo_seed_index</th>\n",
       "      <th>cl_etaWidth</th>\n",
       "      <th>cl_f5_r9</th>\n",
       "      <th>cl_f5_sigmaIetaIeta</th>\n",
       "      <th>cl_f5_sigmaIetaIphi</th>\n",
       "      <th>cl_f5_sigmaIphiIphi</th>\n",
       "      <th>cl_f5_swissCross</th>\n",
       "      <th>cl_nxtals</th>\n",
       "      <th>cl_phiWidth</th>\n",
       "      <th>cluster_deta</th>\n",
       "      <th>...</th>\n",
       "      <th>seed_f5_swissCross</th>\n",
       "      <th>seed_iz</th>\n",
       "      <th>seed_nxtals</th>\n",
       "      <th>seed_phi</th>\n",
       "      <th>seed_phiWidth</th>\n",
       "      <th>window_index</th>\n",
       "      <th>particle</th>\n",
       "      <th>et_bin</th>\n",
       "      <th>eta_bin</th>\n",
       "      <th>w</th>\n",
       "    </tr>\n",
       "  </thead>\n",
       "  <tbody>\n",
       "    <tr>\n",
       "      <th>1</th>\n",
       "      <td>-1</td>\n",
       "      <td>0.002766</td>\n",
       "      <td>1.000000</td>\n",
       "      <td>0.000000</td>\n",
       "      <td>0.000000</td>\n",
       "      <td>0.000000</td>\n",
       "      <td>1.000000</td>\n",
       "      <td>1</td>\n",
       "      <td>0.002089</td>\n",
       "      <td>-0.016367</td>\n",
       "      <td>...</td>\n",
       "      <td>0.688010</td>\n",
       "      <td>0</td>\n",
       "      <td>3</td>\n",
       "      <td>-2.834352</td>\n",
       "      <td>0.004936</td>\n",
       "      <td>hvlerqxix</td>\n",
       "      <td>gamma</td>\n",
       "      <td>0</td>\n",
       "      <td>3</td>\n",
       "      <td>1.000000</td>\n",
       "    </tr>\n",
       "    <tr>\n",
       "      <th>5</th>\n",
       "      <td>2</td>\n",
       "      <td>0.002557</td>\n",
       "      <td>1.000000</td>\n",
       "      <td>0.000000</td>\n",
       "      <td>0.000000</td>\n",
       "      <td>0.000000</td>\n",
       "      <td>1.000000</td>\n",
       "      <td>1</td>\n",
       "      <td>0.001303</td>\n",
       "      <td>0.102629</td>\n",
       "      <td>...</td>\n",
       "      <td>0.238974</td>\n",
       "      <td>0</td>\n",
       "      <td>22</td>\n",
       "      <td>2.334469</td>\n",
       "      <td>0.018377</td>\n",
       "      <td>hwwsnyejt</td>\n",
       "      <td>gamma</td>\n",
       "      <td>8</td>\n",
       "      <td>3</td>\n",
       "      <td>1.000000</td>\n",
       "    </tr>\n",
       "    <tr>\n",
       "      <th>6</th>\n",
       "      <td>-1</td>\n",
       "      <td>0.002266</td>\n",
       "      <td>1.647160</td>\n",
       "      <td>0.009259</td>\n",
       "      <td>0.000043</td>\n",
       "      <td>0.008191</td>\n",
       "      <td>0.701537</td>\n",
       "      <td>1</td>\n",
       "      <td>0.001874</td>\n",
       "      <td>-0.158738</td>\n",
       "      <td>...</td>\n",
       "      <td>0.688010</td>\n",
       "      <td>0</td>\n",
       "      <td>3</td>\n",
       "      <td>-2.834352</td>\n",
       "      <td>0.004936</td>\n",
       "      <td>hvlerqxix</td>\n",
       "      <td>gamma</td>\n",
       "      <td>0</td>\n",
       "      <td>3</td>\n",
       "      <td>1.000000</td>\n",
       "    </tr>\n",
       "    <tr>\n",
       "      <th>10</th>\n",
       "      <td>2</td>\n",
       "      <td>0.002434</td>\n",
       "      <td>1.000000</td>\n",
       "      <td>0.000000</td>\n",
       "      <td>0.000000</td>\n",
       "      <td>0.000000</td>\n",
       "      <td>1.000000</td>\n",
       "      <td>1</td>\n",
       "      <td>0.001172</td>\n",
       "      <td>0.136999</td>\n",
       "      <td>...</td>\n",
       "      <td>0.238974</td>\n",
       "      <td>0</td>\n",
       "      <td>22</td>\n",
       "      <td>2.334469</td>\n",
       "      <td>0.018377</td>\n",
       "      <td>hwwsnyejt</td>\n",
       "      <td>gamma</td>\n",
       "      <td>8</td>\n",
       "      <td>3</td>\n",
       "      <td>1.000000</td>\n",
       "    </tr>\n",
       "    <tr>\n",
       "      <th>11</th>\n",
       "      <td>1</td>\n",
       "      <td>0.002267</td>\n",
       "      <td>1.000000</td>\n",
       "      <td>0.000000</td>\n",
       "      <td>0.000000</td>\n",
       "      <td>0.000000</td>\n",
       "      <td>1.000000</td>\n",
       "      <td>1</td>\n",
       "      <td>0.001510</td>\n",
       "      <td>0.146770</td>\n",
       "      <td>...</td>\n",
       "      <td>0.341402</td>\n",
       "      <td>0</td>\n",
       "      <td>2</td>\n",
       "      <td>-0.967447</td>\n",
       "      <td>0.001695</td>\n",
       "      <td>maaimtxxj</td>\n",
       "      <td>gamma</td>\n",
       "      <td>0</td>\n",
       "      <td>6</td>\n",
       "      <td>1.000000</td>\n",
       "    </tr>\n",
       "    <tr>\n",
       "      <th>...</th>\n",
       "      <td>...</td>\n",
       "      <td>...</td>\n",
       "      <td>...</td>\n",
       "      <td>...</td>\n",
       "      <td>...</td>\n",
       "      <td>...</td>\n",
       "      <td>...</td>\n",
       "      <td>...</td>\n",
       "      <td>...</td>\n",
       "      <td>...</td>\n",
       "      <td>...</td>\n",
       "      <td>...</td>\n",
       "      <td>...</td>\n",
       "      <td>...</td>\n",
       "      <td>...</td>\n",
       "      <td>...</td>\n",
       "      <td>...</td>\n",
       "      <td>...</td>\n",
       "      <td>...</td>\n",
       "      <td>...</td>\n",
       "      <td>...</td>\n",
       "    </tr>\n",
       "    <tr>\n",
       "      <th>34420905</th>\n",
       "      <td>2</td>\n",
       "      <td>0.002469</td>\n",
       "      <td>1.000000</td>\n",
       "      <td>0.014994</td>\n",
       "      <td>-0.000176</td>\n",
       "      <td>0.014128</td>\n",
       "      <td>0.307549</td>\n",
       "      <td>1</td>\n",
       "      <td>0.008952</td>\n",
       "      <td>-0.184024</td>\n",
       "      <td>...</td>\n",
       "      <td>0.707970</td>\n",
       "      <td>0</td>\n",
       "      <td>1</td>\n",
       "      <td>-0.480436</td>\n",
       "      <td>0.001315</td>\n",
       "      <td>isxkdovpx</td>\n",
       "      <td>electron</td>\n",
       "      <td>0</td>\n",
       "      <td>3</td>\n",
       "      <td>1.000000</td>\n",
       "    </tr>\n",
       "    <tr>\n",
       "      <th>34420906</th>\n",
       "      <td>1</td>\n",
       "      <td>0.002529</td>\n",
       "      <td>1.616666</td>\n",
       "      <td>0.018228</td>\n",
       "      <td>0.000150</td>\n",
       "      <td>0.017587</td>\n",
       "      <td>0.663418</td>\n",
       "      <td>1</td>\n",
       "      <td>0.001423</td>\n",
       "      <td>0.001223</td>\n",
       "      <td>...</td>\n",
       "      <td>0.112008</td>\n",
       "      <td>0</td>\n",
       "      <td>2</td>\n",
       "      <td>1.597663</td>\n",
       "      <td>0.014243</td>\n",
       "      <td>vcolwulhq</td>\n",
       "      <td>electron</td>\n",
       "      <td>1</td>\n",
       "      <td>6</td>\n",
       "      <td>16.916718</td>\n",
       "    </tr>\n",
       "    <tr>\n",
       "      <th>34420907</th>\n",
       "      <td>1</td>\n",
       "      <td>0.002505</td>\n",
       "      <td>1.249638</td>\n",
       "      <td>0.008355</td>\n",
       "      <td>-0.000112</td>\n",
       "      <td>0.015185</td>\n",
       "      <td>0.750362</td>\n",
       "      <td>3</td>\n",
       "      <td>0.001400</td>\n",
       "      <td>0.018357</td>\n",
       "      <td>...</td>\n",
       "      <td>0.112008</td>\n",
       "      <td>0</td>\n",
       "      <td>2</td>\n",
       "      <td>1.597663</td>\n",
       "      <td>0.014243</td>\n",
       "      <td>vcolwulhq</td>\n",
       "      <td>electron</td>\n",
       "      <td>1</td>\n",
       "      <td>6</td>\n",
       "      <td>16.916718</td>\n",
       "    </tr>\n",
       "    <tr>\n",
       "      <th>34420909</th>\n",
       "      <td>-1</td>\n",
       "      <td>0.002163</td>\n",
       "      <td>1.000000</td>\n",
       "      <td>0.000000</td>\n",
       "      <td>0.000000</td>\n",
       "      <td>0.000000</td>\n",
       "      <td>1.000000</td>\n",
       "      <td>1</td>\n",
       "      <td>0.002124</td>\n",
       "      <td>-0.178211</td>\n",
       "      <td>...</td>\n",
       "      <td>1.000000</td>\n",
       "      <td>0</td>\n",
       "      <td>1</td>\n",
       "      <td>-0.864838</td>\n",
       "      <td>0.002363</td>\n",
       "      <td>lxponyheo</td>\n",
       "      <td>electron</td>\n",
       "      <td>0</td>\n",
       "      <td>4</td>\n",
       "      <td>1.000000</td>\n",
       "    </tr>\n",
       "    <tr>\n",
       "      <th>34420910</th>\n",
       "      <td>1</td>\n",
       "      <td>0.002457</td>\n",
       "      <td>1.262919</td>\n",
       "      <td>0.021749</td>\n",
       "      <td>0.000040</td>\n",
       "      <td>0.024886</td>\n",
       "      <td>-0.122740</td>\n",
       "      <td>1</td>\n",
       "      <td>0.008694</td>\n",
       "      <td>0.035227</td>\n",
       "      <td>...</td>\n",
       "      <td>0.112008</td>\n",
       "      <td>0</td>\n",
       "      <td>2</td>\n",
       "      <td>1.597663</td>\n",
       "      <td>0.014243</td>\n",
       "      <td>vcolwulhq</td>\n",
       "      <td>electron</td>\n",
       "      <td>1</td>\n",
       "      <td>6</td>\n",
       "      <td>1.000000</td>\n",
       "    </tr>\n",
       "  </tbody>\n",
       "</table>\n",
       "<p>25555153 rows × 46 columns</p>\n",
       "</div>"
      ],
      "text/plain": [
       "          calo_seed_index  cl_etaWidth  cl_f5_r9  cl_f5_sigmaIetaIeta  \\\n",
       "1                      -1     0.002766  1.000000             0.000000   \n",
       "5                       2     0.002557  1.000000             0.000000   \n",
       "6                      -1     0.002266  1.647160             0.009259   \n",
       "10                      2     0.002434  1.000000             0.000000   \n",
       "11                      1     0.002267  1.000000             0.000000   \n",
       "...                   ...          ...       ...                  ...   \n",
       "34420905                2     0.002469  1.000000             0.014994   \n",
       "34420906                1     0.002529  1.616666             0.018228   \n",
       "34420907                1     0.002505  1.249638             0.008355   \n",
       "34420909               -1     0.002163  1.000000             0.000000   \n",
       "34420910                1     0.002457  1.262919             0.021749   \n",
       "\n",
       "          cl_f5_sigmaIetaIphi  cl_f5_sigmaIphiIphi  cl_f5_swissCross  \\\n",
       "1                    0.000000             0.000000          1.000000   \n",
       "5                    0.000000             0.000000          1.000000   \n",
       "6                    0.000043             0.008191          0.701537   \n",
       "10                   0.000000             0.000000          1.000000   \n",
       "11                   0.000000             0.000000          1.000000   \n",
       "...                       ...                  ...               ...   \n",
       "34420905            -0.000176             0.014128          0.307549   \n",
       "34420906             0.000150             0.017587          0.663418   \n",
       "34420907            -0.000112             0.015185          0.750362   \n",
       "34420909             0.000000             0.000000          1.000000   \n",
       "34420910             0.000040             0.024886         -0.122740   \n",
       "\n",
       "          cl_nxtals  cl_phiWidth  cluster_deta  ...  seed_f5_swissCross  \\\n",
       "1                 1     0.002089     -0.016367  ...            0.688010   \n",
       "5                 1     0.001303      0.102629  ...            0.238974   \n",
       "6                 1     0.001874     -0.158738  ...            0.688010   \n",
       "10                1     0.001172      0.136999  ...            0.238974   \n",
       "11                1     0.001510      0.146770  ...            0.341402   \n",
       "...             ...          ...           ...  ...                 ...   \n",
       "34420905          1     0.008952     -0.184024  ...            0.707970   \n",
       "34420906          1     0.001423      0.001223  ...            0.112008   \n",
       "34420907          3     0.001400      0.018357  ...            0.112008   \n",
       "34420909          1     0.002124     -0.178211  ...            1.000000   \n",
       "34420910          1     0.008694      0.035227  ...            0.112008   \n",
       "\n",
       "          seed_iz  seed_nxtals  seed_phi  seed_phiWidth  window_index  \\\n",
       "1               0            3 -2.834352       0.004936     hvlerqxix   \n",
       "5               0           22  2.334469       0.018377     hwwsnyejt   \n",
       "6               0            3 -2.834352       0.004936     hvlerqxix   \n",
       "10              0           22  2.334469       0.018377     hwwsnyejt   \n",
       "11              0            2 -0.967447       0.001695     maaimtxxj   \n",
       "...           ...          ...       ...            ...           ...   \n",
       "34420905        0            1 -0.480436       0.001315     isxkdovpx   \n",
       "34420906        0            2  1.597663       0.014243     vcolwulhq   \n",
       "34420907        0            2  1.597663       0.014243     vcolwulhq   \n",
       "34420909        0            1 -0.864838       0.002363     lxponyheo   \n",
       "34420910        0            2  1.597663       0.014243     vcolwulhq   \n",
       "\n",
       "          particle  et_bin  eta_bin          w  \n",
       "1            gamma       0        3   1.000000  \n",
       "5            gamma       8        3   1.000000  \n",
       "6            gamma       0        3   1.000000  \n",
       "10           gamma       8        3   1.000000  \n",
       "11           gamma       0        6   1.000000  \n",
       "...            ...     ...      ...        ...  \n",
       "34420905  electron       0        3   1.000000  \n",
       "34420906  electron       1        6  16.916718  \n",
       "34420907  electron       1        6  16.916718  \n",
       "34420909  electron       0        4   1.000000  \n",
       "34420910  electron       1        6   1.000000  \n",
       "\n",
       "[25555153 rows x 46 columns]"
      ]
     },
     "execution_count": 28,
     "metadata": {},
     "output_type": "execute_result"
    }
   ],
   "source": [
    "data"
   ]
  },
  {
   "cell_type": "code",
   "execution_count": 9,
   "metadata": {
    "ExecuteTime": {
     "end_time": "2020-05-03T19:40:22.348120Z",
     "start_time": "2020-05-03T19:40:21.924777Z"
    }
   },
   "outputs": [],
   "source": [
    "X = data[ cols ].values\n",
    "truth = data[[\"in_scluster\"]].values\n",
    "y = np.array(truth[:], dtype=int)\n",
    "weights = data.w.values"
   ]
  },
  {
   "cell_type": "code",
   "execution_count": 10,
   "metadata": {
    "ExecuteTime": {
     "end_time": "2020-05-03T16:59:09.418959Z",
     "start_time": "2020-05-03T16:59:08.383315Z"
    }
   },
   "outputs": [],
   "source": [
    "from sklearn.preprocessing import MinMaxScaler, StandardScaler, QuantileTransformer\n",
    "from sklearn.model_selection import train_test_split\n",
    "scaler = StandardScaler()\n",
    "X_scaled = scaler.fit_transform(X)\n",
    "\n",
    "pickle.dump(scaler, open(model_dir + \"/scaler_model_v{}_{}.pkl\".format(model_version, det), \"wb\"))"
   ]
  },
  {
   "cell_type": "code",
   "execution_count": 12,
   "metadata": {
    "ExecuteTime": {
     "end_time": "2020-04-27T20:36:06.424318Z",
     "start_time": "2020-04-27T20:36:06.415406Z"
    }
   },
   "outputs": [
    {
     "data": {
      "text/plain": [
       "array([ 3.56700000e-03, -5.61881480e-04,  5.42432152e-03,  1.23144162e+02,\n",
       "        2.80286361e+01, -3.77895168e-03, -2.52080067e-04,  2.83572379e+00,\n",
       "        6.40789285e-01,  1.01572938e+00,  2.75843990e-02, -1.78424510e-05,\n",
       "        3.32103293e-02,  4.89525266e-01,  6.47583705e+00,  1.50177114e-02,\n",
       "        1.67321469e-02,  2.79373242e+00,  3.08011135e-02,  6.28599546e-05,\n",
       "        3.31705605e-02,  2.61118938e-01,  1.72031559e+00,  4.72343147e-03,\n",
       "        3.88800860e-03])"
      ]
     },
     "execution_count": 12,
     "metadata": {},
     "output_type": "execute_result"
    }
   ],
   "source": [
    "scaler.mean_"
   ]
  },
  {
   "cell_type": "code",
   "execution_count": 13,
   "metadata": {
    "ExecuteTime": {
     "end_time": "2020-04-27T20:36:11.862086Z",
     "start_time": "2020-04-27T20:36:11.856918Z"
    }
   },
   "outputs": [
    {
     "data": {
      "text/plain": [
       "array([2.12599275e+00, 1.81089171e+00, 9.99985288e-01, 1.46843692e+02,\n",
       "       3.01028994e+01, 1.12075884e-01, 3.27203361e-01, 3.59426937e+00,\n",
       "       9.23646139e-01, 1.90638817e-01, 1.25780060e-02, 3.53072883e-04,\n",
       "       1.50233813e-02, 4.06099128e-01, 6.06635914e+00, 8.35589745e-03,\n",
       "       1.01933224e-02, 1.01608434e+01, 2.27313472e-02, 5.72635095e-04,\n",
       "       2.39377164e-02, 3.07407340e+00, 2.33897667e+00, 7.15246184e-03,\n",
       "       8.16679482e-03])"
      ]
     },
     "execution_count": 13,
     "metadata": {},
     "output_type": "execute_result"
    }
   ],
   "source": [
    "scaler.scale_"
   ]
  },
  {
   "cell_type": "code",
   "execution_count": 11,
   "metadata": {},
   "outputs": [
    {
     "name": "stdout",
     "output_type": "stream",
     "text": [
      "N. samples: 9565989\n"
     ]
    }
   ],
   "source": [
    "print(\"N. samples:\", X.shape[0])"
   ]
  },
  {
   "cell_type": "code",
   "execution_count": 12,
   "metadata": {
    "ExecuteTime": {
     "end_time": "2020-05-03T19:42:21.213537Z",
     "start_time": "2020-05-03T19:42:20.253569Z"
    }
   },
   "outputs": [],
   "source": [
    "X_train, X_val, y_train, y_val, w_train, w_val = train_test_split(X_scaled, y, weights, test_size=0.10)"
   ]
  },
  {
   "cell_type": "markdown",
   "metadata": {},
   "source": [
    "### Some plots"
   ]
  },
  {
   "cell_type": "code",
   "execution_count": 13,
   "metadata": {},
   "outputs": [
    {
     "data": {
      "text/plain": [
       "(array([1112322., 2452809.,  845027.,       0.,       0.,       0.,\n",
       "              0.,  828021., 2640296.,  987286.]),\n",
       " array([-2.94149637e+00, -2.35319169e+00, -1.76488700e+00, -1.17658231e+00,\n",
       "        -5.88277626e-01,  2.70605087e-05,  5.88331747e-01,  1.17663643e+00,\n",
       "         1.76494112e+00,  2.35324581e+00,  2.94155049e+00]),\n",
       " <a list of 10 Patch objects>)"
      ]
     },
     "execution_count": 13,
     "metadata": {},
     "output_type": "execute_result"
    },
    {
     "data": {
      "image/png": "[encoded data removed]",
      "text/plain": [
       "<Figure size 750x750 with 1 Axes>"
      ]
     },
     "metadata": {
      "needs_background": "light"
     },
     "output_type": "display_data"
    }
   ],
   "source": [
    "plt.hist(data.seed_eta)"
   ]
  },
  {
   "cell_type": "code",
   "execution_count": 32,
   "metadata": {},
   "outputs": [
    {
     "data": {
      "text/plain": [
       "(array([10054694.,  1954410.,   525133.,   379607.,   336347.,   315614.,\n",
       "          303840.,   293251.,   283014.,   276668.,   271523.,   270633.,\n",
       "          266563.,   264467.,   264640.,   261522.,   257586.,   262236.,\n",
       "          259344.,   255480.,   256947.,   257496.,   254356.,   253974.,\n",
       "          256085.,   251226.,   254226.,   249003.,   253469.,   250976.,\n",
       "          244990.,   248582.,   247617.,   242916.,   243271.,   244615.,\n",
       "          241623.,   237348.,   234008.,   234599.,   226205.,   227074.,\n",
       "          220093.,   214095.,   203579.,   193947.,   181153.,   162423.,\n",
       "          125662.,    52422.]),\n",
       " array([  0.,   2.,   4.,   6.,   8.,  10.,  12.,  14.,  16.,  18.,  20.,\n",
       "         22.,  24.,  26.,  28.,  30.,  32.,  34.,  36.,  38.,  40.,  42.,\n",
       "         44.,  46.,  48.,  50.,  52.,  54.,  56.,  58.,  60.,  62.,  64.,\n",
       "         66.,  68.,  70.,  72.,  74.,  76.,  78.,  80.,  82.,  84.,  86.,\n",
       "         88.,  90.,  92.,  94.,  96.,  98., 100.]),\n",
       " <a list of 50 Patch objects>)"
      ]
     },
     "execution_count": 32,
     "metadata": {},
     "output_type": "execute_result"
    },
    {
     "data": {
      "image/png": "[encoded data removed]",
      "text/plain": [
       "<Figure size 750x750 with 1 Axes>"
      ]
     },
     "metadata": {
      "needs_background": "light"
     },
     "output_type": "display_data"
    }
   ],
   "source": [
    "plt.hist(data[data.in_scluster==False].et_seed, bins=50, weights=data[data.in_scluster==False].w, range=(0,100))"
   ]
  },
  {
   "cell_type": "markdown",
   "metadata": {},
   "source": [
    "# Training"
   ]
  },
  {
   "cell_type": "code",
   "execution_count": 14,
   "metadata": {
    "ExecuteTime": {
     "end_time": "2020-05-03T15:15:19.694207Z",
     "start_time": "2020-05-03T15:15:13.962325Z"
    }
   },
   "outputs": [
    {
     "name": "stderr",
     "output_type": "stream",
     "text": [
      "Using TensorFlow backend.\n"
     ]
    }
   ],
   "source": [
    "# Import all the required Libraries\n",
    "import tensorflow\n",
    "import keras\n",
    "import pandas as pd\n",
    "import numpy as np\n",
    "import matplotlib.pyplot as plt\n",
    "from keras.datasets import mnist\n",
    "from keras.models import Model, Sequential\n",
    "from keras.layers import Dense, Conv2D, Dropout, BatchNormalization, Input, Reshape, Flatten, Deconvolution2D, Conv2DTranspose, MaxPooling2D, UpSampling2D, Lambda\n",
    "from keras.layers.advanced_activations import LeakyReLU\n",
    "from keras.optimizers import adam\n",
    "from keras import callbacks\n",
    "from keras import backend as K\n",
    "from keras import regularizers\n",
    "from keras.callbacks import *"
   ]
  },
  {
   "cell_type": "code",
   "execution_count": 15,
   "metadata": {},
   "outputs": [
    {
     "name": "stdout",
     "output_type": "stream",
     "text": [
      "Model: \"sequential_1\"\n",
      "_________________________________________________________________\n",
      "Layer (type)                 Output Shape              Param #   \n",
      "=================================================================\n",
      "dense_1 (Dense)              (None, 300)               7800      \n",
      "_________________________________________________________________\n",
      "dropout_1 (Dropout)          (None, 300)               0         \n",
      "_________________________________________________________________\n",
      "dense_2 (Dense)              (None, 200)               60200     \n",
      "_________________________________________________________________\n",
      "dropout_2 (Dropout)          (None, 200)               0         \n",
      "_________________________________________________________________\n",
      "dense_3 (Dense)              (None, 200)               40200     \n",
      "_________________________________________________________________\n",
      "dropout_3 (Dropout)          (None, 200)               0         \n",
      "_________________________________________________________________\n",
      "dense_4 (Dense)              (None, 200)               40200     \n",
      "_________________________________________________________________\n",
      "dropout_4 (Dropout)          (None, 200)               0         \n",
      "_________________________________________________________________\n",
      "dense_5 (Dense)              (None, 50)                10050     \n",
      "_________________________________________________________________\n",
      "dropout_5 (Dropout)          (None, 50)                0         \n",
      "_________________________________________________________________\n",
      "dense_6 (Dense)              (None, 1)                 51        \n",
      "=================================================================\n",
      "Total params: 158,501\n",
      "Trainable params: 158,501\n",
      "Non-trainable params: 0\n",
      "_________________________________________________________________\n"
     ]
    }
   ],
   "source": [
    "model = Sequential()\n",
    "model.add(Dense(300, input_dim=X_val.shape[1], activation=\"relu\",kernel_regularizer=regularizers.l2(0.01)))\n",
    "model.add(Dropout(0.1))\n",
    "model.add(Dense(200, activation=\"relu\",kernel_regularizer=regularizers.l2(0.01)))\n",
    "model.add(Dropout(0.1))\n",
    "model.add(Dense(200, activation=\"relu\"))\n",
    "model.add(Dropout(0.05))\n",
    "model.add(Dense(200, activation=\"relu\"))\n",
    "model.add(Dropout(0.05))\n",
    "model.add(Dense(50, activation=\"relu\"))\n",
    "model.add(Dropout(0.05))\n",
    "\n",
    "model.add(Dense(1, activation=\"sigmoid\"))\n",
    "\n",
    "\n",
    "model.compile(optimizer='adagrad',\n",
    "              loss='binary_crossentropy',\n",
    "              metrics=['accuracy'])\n",
    "\n",
    "model.summary()"
   ]
  },
  {
   "cell_type": "code",
   "execution_count": 64,
   "metadata": {},
   "outputs": [
    {
     "name": "stdout",
     "output_type": "stream",
     "text": [
      "Model: \"sequential_3\"\n",
      "_________________________________________________________________\n",
      "Layer (type)                 Output Shape              Param #   \n",
      "=================================================================\n",
      "dense_9 (Dense)              (None, 200)               5200      \n",
      "_________________________________________________________________\n",
      "dropout_7 (Dropout)          (None, 200)               0         \n",
      "_________________________________________________________________\n",
      "dense_10 (Dense)             (None, 200)               40200     \n",
      "_________________________________________________________________\n",
      "dropout_8 (Dropout)          (None, 200)               0         \n",
      "_________________________________________________________________\n",
      "dense_11 (Dense)             (None, 200)               40200     \n",
      "_________________________________________________________________\n",
      "dropout_9 (Dropout)          (None, 200)               0         \n",
      "_________________________________________________________________\n",
      "dense_12 (Dense)             (None, 1)                 201       \n",
      "=================================================================\n",
      "Total params: 85,801\n",
      "Trainable params: 85,801\n",
      "Non-trainable params: 0\n",
      "_________________________________________________________________\n"
     ]
    }
   ],
   "source": [
    "model = Sequential()\n",
    "model.add(Dense(200, input_dim=X_val.shape[1], activation=\"relu\",kernel_regularizer=regularizers.l2(0.01)))\n",
    "model.add(Dropout(0.5))\n",
    "model.add(Dense(200, activation=\"relu\"))\n",
    "model.add(Dropout(0.5))\n",
    "model.add(Dense(200, activation=\"relu\"))\n",
    "model.add(Dropout(0.5))\n",
    "#model.add(Dense(50, activation=\"relu\"))\n",
    "#model.add(Dropout(0.05))\n",
    "\n",
    "model.add(Dense(1, activation=\"sigmoid\"))\n",
    "\n",
    "\n",
    "model.compile(optimizer='adagrad',\n",
    "              loss='binary_crossentropy',\n",
    "              metrics=['accuracy'])\n",
    "\n",
    "model.summary()"
   ]
  },
  {
   "cell_type": "code",
   "execution_count": 17,
   "metadata": {},
   "outputs": [
    {
     "name": "stdout",
     "output_type": "stream",
     "text": [
      "Model: \"sequential_1\"\n",
      "_________________________________________________________________\n",
      "Layer (type)                 Output Shape              Param #   \n",
      "=================================================================\n",
      "dense_1 (Dense)              (None, 300)               7800      \n",
      "_________________________________________________________________\n",
      "dropout_1 (Dropout)          (None, 300)               0         \n",
      "_________________________________________________________________\n",
      "dense_2 (Dense)              (None, 200)               60200     \n",
      "_________________________________________________________________\n",
      "dropout_2 (Dropout)          (None, 200)               0         \n",
      "_________________________________________________________________\n",
      "dense_3 (Dense)              (None, 200)               40200     \n",
      "_________________________________________________________________\n",
      "dropout_3 (Dropout)          (None, 200)               0         \n",
      "_________________________________________________________________\n",
      "dense_4 (Dense)              (None, 50)                10050     \n",
      "_________________________________________________________________\n",
      "dropout_4 (Dropout)          (None, 50)                0         \n",
      "_________________________________________________________________\n",
      "dense_5 (Dense)              (None, 1)                 51        \n",
      "=================================================================\n",
      "Total params: 118,301\n",
      "Trainable params: 118,301\n",
      "Non-trainable params: 0\n",
      "_________________________________________________________________\n"
     ]
    }
   ],
   "source": [
    "model = Sequential()\n",
    "model.add(Dense(300, input_dim=X_val.shape[1], activation=\"relu\",kernel_regularizer=regularizers.l2(0.01)))\n",
    "model.add(Dropout(0.1))\n",
    "model.add(Dense(200, activation=\"relu\",kernel_regularizer=regularizers.l2(0.01)))\n",
    "model.add(Dropout(0.1))\n",
    "model.add(Dense(200, activation=\"relu\"))\n",
    "model.add(Dropout(0.05))\n",
    "model.add(Dense(50, activation=\"relu\"))\n",
    "model.add(Dropout(0.05))\n",
    "\n",
    "model.add(Dense(1, activation=\"sigmoid\"))\n",
    "\n",
    "\n",
    "model.compile(optimizer='adagrad',\n",
    "              loss='binary_crossentropy',\n",
    "              metrics=['accuracy'])\n",
    "\n",
    "model.summary()"
   ]
  },
  {
   "cell_type": "code",
   "execution_count": 16,
   "metadata": {
    "ExecuteTime": {
     "end_time": "2020-05-03T19:43:37.659152Z",
     "start_time": "2020-05-03T19:43:37.313696Z"
    }
   },
   "outputs": [
    {
     "name": "stdout",
     "output_type": "stream",
     "text": [
      "Model: \"sequential_2\"\n",
      "_________________________________________________________________\n",
      "Layer (type)                 Output Shape              Param #   \n",
      "=================================================================\n",
      "dense_9 (Dense)              (None, 100)               2600      \n",
      "_________________________________________________________________\n",
      "dropout_8 (Dropout)          (None, 100)               0         \n",
      "_________________________________________________________________\n",
      "dense_10 (Dense)             (None, 100)               10100     \n",
      "_________________________________________________________________\n",
      "dropout_9 (Dropout)          (None, 100)               0         \n",
      "_________________________________________________________________\n",
      "dense_11 (Dense)             (None, 100)               10100     \n",
      "_________________________________________________________________\n",
      "dropout_10 (Dropout)         (None, 100)               0         \n",
      "_________________________________________________________________\n",
      "dense_12 (Dense)             (None, 50)                5050      \n",
      "_________________________________________________________________\n",
      "dropout_11 (Dropout)         (None, 50)                0         \n",
      "_________________________________________________________________\n",
      "dense_13 (Dense)             (None, 50)                2550      \n",
      "_________________________________________________________________\n",
      "dropout_12 (Dropout)         (None, 50)                0         \n",
      "_________________________________________________________________\n",
      "dense_14 (Dense)             (None, 50)                2550      \n",
      "_________________________________________________________________\n",
      "dropout_13 (Dropout)         (None, 50)                0         \n",
      "_________________________________________________________________\n",
      "dense_15 (Dense)             (None, 50)                2550      \n",
      "_________________________________________________________________\n",
      "dropout_14 (Dropout)         (None, 50)                0         \n",
      "_________________________________________________________________\n",
      "dense_16 (Dense)             (None, 1)                 51        \n",
      "=================================================================\n",
      "Total params: 35,551\n",
      "Trainable params: 35,551\n",
      "Non-trainable params: 0\n",
      "_________________________________________________________________\n"
     ]
    }
   ],
   "source": [
    "model = Sequential()\n",
    "model.add(Dense(200, input_dim=X_val.shape[1], activation=\"relu\",kernel_regularizer=regularizers.l2(0.01)))\n",
    "model.add(Dropout(0.1))\n",
    "model.add(Dense(100, activation=\"relu\",kernel_regularizer=regularizers.l2(0.01)))\n",
    "model.add(Dropout(0.1))\n",
    "model.add(Dense(100, activation=\"relu\"))\n",
    "model.add(Dropout(0.05))\n",
    "model.add(Dense(50, activation=\"relu\"))\n",
    "model.add(Dropout(0.05))\n",
    "model.add(Dense(50, activation=\"relu\"))\n",
    "model.add(Dropout(0.05))\n",
    "model.add(Dense(50, activation=\"relu\"))\n",
    "model.add(Dropout(0.05))\n",
    "model.add(Dense(50, activation=\"relu\"))\n",
    "model.add(Dropout(0.05))\n",
    "model.add(Dense(50, activation=\"relu\"))\n",
    "model.add(Dropout(0.05))\n",
    "model.add(Dense(1, activation=\"sigmoid\"))\n",
    "\n",
    "\n",
    "model.compile(optimizer='adagrad',\n",
    "              loss='binary_crossentropy',\n",
    "              metrics=['accuracy'])\n",
    "\n",
    "model.summary()"
   ]
  },
  {
   "cell_type": "code",
   "execution_count": 23,
   "metadata": {},
   "outputs": [
    {
     "name": "stdout",
     "output_type": "stream",
     "text": [
      "Model: \"sequential_2\"\n",
      "_________________________________________________________________\n",
      "Layer (type)                 Output Shape              Param #   \n",
      "=================================================================\n",
      "dense_6 (Dense)              (None, 200)               5200      \n",
      "_________________________________________________________________\n",
      "dropout_5 (Dropout)          (None, 200)               0         \n",
      "_________________________________________________________________\n",
      "dense_7 (Dense)              (None, 100)               20100     \n",
      "_________________________________________________________________\n",
      "dropout_6 (Dropout)          (None, 100)               0         \n",
      "_________________________________________________________________\n",
      "dense_8 (Dense)              (None, 100)               10100     \n",
      "_________________________________________________________________\n",
      "dropout_7 (Dropout)          (None, 100)               0         \n",
      "_________________________________________________________________\n",
      "dense_9 (Dense)              (None, 50)                5050      \n",
      "_________________________________________________________________\n",
      "dropout_8 (Dropout)          (None, 50)                0         \n",
      "_________________________________________________________________\n",
      "dense_10 (Dense)             (None, 50)                2550      \n",
      "_________________________________________________________________\n",
      "dropout_9 (Dropout)          (None, 50)                0         \n",
      "_________________________________________________________________\n",
      "dense_11 (Dense)             (None, 50)                2550      \n",
      "_________________________________________________________________\n",
      "dropout_10 (Dropout)         (None, 50)                0         \n",
      "_________________________________________________________________\n",
      "dense_12 (Dense)             (None, 1)                 51        \n",
      "=================================================================\n",
      "Total params: 45,601\n",
      "Trainable params: 45,601\n",
      "Non-trainable params: 0\n",
      "_________________________________________________________________\n"
     ]
    }
   ],
   "source": [
    "model = Sequential()\n",
    "model.add(Dense(200, input_dim=X_val.shape[1], activation=\"relu\",kernel_regularizer=regularizers.l2(0.01)))\n",
    "model.add(Dropout(0.1))\n",
    "model.add(Dense(100, activation=\"relu\",kernel_regularizer=regularizers.l2(0.01)))\n",
    "model.add(Dropout(0.1))\n",
    "model.add(Dense(100, activation=\"relu\"))\n",
    "model.add(Dropout(0.05))\n",
    "model.add(Dense(50, activation=\"relu\"))\n",
    "model.add(Dropout(0.05))\n",
    "model.add(Dense(50, activation=\"relu\"))\n",
    "model.add(Dropout(0.05))\n",
    "model.add(Dense(50, activation=\"relu\"))\n",
    "model.add(Dropout(0.05))\n",
    "model.add(Dense(1, activation=\"sigmoid\"))\n",
    "\n",
    "\n",
    "model.compile(optimizer='adam',\n",
    "              loss='binary_crossentropy',\n",
    "              metrics=['accuracy'])\n",
    "\n",
    "model.summary()"
   ]
  },
  {
   "cell_type": "code",
   "execution_count": 50,
   "metadata": {
    "ExecuteTime": {
     "end_time": "2020-05-03T19:42:50.162047Z",
     "start_time": "2020-05-03T19:42:49.929560Z"
    }
   },
   "outputs": [
    {
     "name": "stdout",
     "output_type": "stream",
     "text": [
      "Model: \"sequential_2\"\n",
      "_________________________________________________________________\n",
      "Layer (type)                 Output Shape              Param #   \n",
      "=================================================================\n",
      "dense_8 (Dense)              (None, 100)               2200      \n",
      "_________________________________________________________________\n",
      "dropout_7 (Dropout)          (None, 100)               0         \n",
      "_________________________________________________________________\n",
      "dense_9 (Dense)              (None, 100)               10100     \n",
      "_________________________________________________________________\n",
      "dropout_8 (Dropout)          (None, 100)               0         \n",
      "_________________________________________________________________\n",
      "dense_10 (Dense)             (None, 100)               10100     \n",
      "_________________________________________________________________\n",
      "dropout_9 (Dropout)          (None, 100)               0         \n",
      "_________________________________________________________________\n",
      "dense_11 (Dense)             (None, 100)               10100     \n",
      "_________________________________________________________________\n",
      "dropout_10 (Dropout)         (None, 100)               0         \n",
      "_________________________________________________________________\n",
      "dense_12 (Dense)             (None, 1)                 101       \n",
      "=================================================================\n",
      "Total params: 32,601\n",
      "Trainable params: 32,601\n",
      "Non-trainable params: 0\n",
      "_________________________________________________________________\n"
     ]
    }
   ],
   "source": [
    "model = Sequential()\n",
    "model.add(Dense(100, input_dim=X_val.shape[1], activation=\"relu\",kernel_regularizer=regularizers.l2(0.01)))\n",
    "model.add(Dropout(0.1))\n",
    "model.add(Dense(100, activation=\"relu\",kernel_regularizer=regularizers.l2(0.01)))\n",
    "model.add(Dropout(0.1))\n",
    "model.add(Dense(100, activation=\"relu\"))\n",
    "model.add(Dropout(0.05))\n",
    "model.add(Dense(100, activation=\"relu\"))\n",
    "model.add(Dropout(0.05))\n",
    "model.add(Dense(1, activation=\"sigmoid\"))\n",
    "\n",
    "\n",
    "model.compile(optimizer='adagrad',\n",
    "              loss='binary_crossentropy',\n",
    "              metrics=['accuracy'])\n",
    "\n",
    "model.summary()"
   ]
  },
  {
   "cell_type": "code",
   "execution_count": 23,
   "metadata": {
    "ExecuteTime": {
     "end_time": "2020-04-27T20:43:36.141251Z",
     "start_time": "2020-04-27T20:43:36.131252Z"
    }
   },
   "outputs": [],
   "source": [
    "import math\n",
    "def step_decay(epoch):\n",
    "    initial_lrate = 1\n",
    "    drop = 0.5\n",
    "    epochs_drop = 2.0\n",
    "    lrate = initial_lrate * math.pow(drop, math.floor((1+epoch)/epochs_drop))\n",
    "    if lrate < 0.005: return 0.005\n",
    "    return lrate"
   ]
  },
  {
   "cell_type": "code",
   "execution_count": 66,
   "metadata": {
    "ExecuteTime": {
     "end_time": "2020-05-03T17:51:50.420166Z",
     "start_time": "2020-05-03T17:00:34.510038Z"
    },
    "scrolled": false
   },
   "outputs": [
    {
     "name": "stdout",
     "output_type": "stream",
     "text": [
      "Train on 8609390 samples, validate on 956599 samples\n",
      "Epoch 1/400\n",
      "8609390/8609390 [==============================] - 34s 4us/step - loss: 0.4079 - accuracy: 0.9227 - val_loss: 0.3247 - val_accuracy: 0.9363\n",
      "Epoch 2/400\n",
      "8609390/8609390 [==============================] - 34s 4us/step - loss: 0.3421 - accuracy: 0.9297 - val_loss: 0.3104 - val_accuracy: 0.9309\n",
      "\n",
      "Epoch 00002: val_loss improved from inf to 0.31042, saving model to ../models/v14_finalscore/model_v6_EE.hd5\n",
      "Epoch 3/400\n",
      "8609390/8609390 [==============================] - 34s 4us/step - loss: 0.3311 - accuracy: 0.9307 - val_loss: 0.3040 - val_accuracy: 0.9318\n",
      "Epoch 4/400\n",
      "8609390/8609390 [==============================] - 34s 4us/step - loss: 0.3248 - accuracy: 0.9315 - val_loss: 0.2989 - val_accuracy: 0.9378\n",
      "\n",
      "Epoch 00004: val_loss improved from 0.31042 to 0.29893, saving model to ../models/v14_finalscore/model_v6_EE.hd5\n",
      "Epoch 5/400\n",
      "8609390/8609390 [==============================] - 34s 4us/step - loss: 0.3202 - accuracy: 0.9320 - val_loss: 0.2949 - val_accuracy: 0.9339\n",
      "Epoch 6/400\n",
      "8609390/8609390 [==============================] - 34s 4us/step - loss: 0.3175 - accuracy: 0.9324 - val_loss: 0.2933 - val_accuracy: 0.9389\n",
      "\n",
      "Epoch 00006: val_loss improved from 0.29893 to 0.29333, saving model to ../models/v14_finalscore/model_v6_EE.hd5\n",
      "Epoch 7/400\n",
      "8609390/8609390 [==============================] - 34s 4us/step - loss: 0.3147 - accuracy: 0.9328 - val_loss: 0.2930 - val_accuracy: 0.9291\n",
      "Epoch 8/400\n",
      "8609390/8609390 [==============================] - 34s 4us/step - loss: 0.3126 - accuracy: 0.9331 - val_loss: 0.2918 - val_accuracy: 0.9283\n",
      "\n",
      "Epoch 00008: val_loss improved from 0.29333 to 0.29180, saving model to ../models/v14_finalscore/model_v6_EE.hd5\n",
      "Epoch 9/400\n",
      "8609390/8609390 [==============================] - 34s 4us/step - loss: 0.3115 - accuracy: 0.9331 - val_loss: 0.2896 - val_accuracy: 0.9325\n",
      "Epoch 10/400\n",
      "8609390/8609390 [==============================] - 34s 4us/step - loss: 0.3095 - accuracy: 0.9334 - val_loss: 0.2877 - val_accuracy: 0.9331\n",
      "\n",
      "Epoch 00010: val_loss improved from 0.29180 to 0.28766, saving model to ../models/v14_finalscore/model_v6_EE.hd5\n",
      "Epoch 11/400\n",
      "8609390/8609390 [==============================] - 34s 4us/step - loss: 0.3087 - accuracy: 0.9336 - val_loss: 0.2875 - val_accuracy: 0.9321\n",
      "Epoch 12/400\n",
      "8609390/8609390 [==============================] - 34s 4us/step - loss: 0.3077 - accuracy: 0.9335 - val_loss: 0.2867 - val_accuracy: 0.9348\n",
      "\n",
      "Epoch 00012: val_loss improved from 0.28766 to 0.28670, saving model to ../models/v14_finalscore/model_v6_EE.hd5\n",
      "Epoch 13/400\n",
      "8609390/8609390 [==============================] - 34s 4us/step - loss: 0.3068 - accuracy: 0.9335 - val_loss: 0.2858 - val_accuracy: 0.9309\n",
      "Epoch 14/400\n",
      "8609390/8609390 [==============================] - 34s 4us/step - loss: 0.3058 - accuracy: 0.9336 - val_loss: 0.2849 - val_accuracy: 0.9294\n",
      "\n",
      "Epoch 00014: val_loss improved from 0.28670 to 0.28493, saving model to ../models/v14_finalscore/model_v6_EE.hd5\n",
      "Epoch 15/400\n",
      "8609390/8609390 [==============================] - 34s 4us/step - loss: 0.3053 - accuracy: 0.9336 - val_loss: 0.2855 - val_accuracy: 0.9287\n",
      "Epoch 16/400\n",
      "8609390/8609390 [==============================] - 34s 4us/step - loss: 0.3042 - accuracy: 0.9336 - val_loss: 0.2834 - val_accuracy: 0.9353\n",
      "\n",
      "Epoch 00016: val_loss improved from 0.28493 to 0.28336, saving model to ../models/v14_finalscore/model_v6_EE.hd5\n",
      "Epoch 17/400\n",
      "8609390/8609390 [==============================] - 34s 4us/step - loss: 0.3036 - accuracy: 0.9337 - val_loss: 0.2842 - val_accuracy: 0.9334\n",
      "Epoch 18/400\n",
      "8609390/8609390 [==============================] - 34s 4us/step - loss: 0.3032 - accuracy: 0.9339 - val_loss: 0.2824 - val_accuracy: 0.9341\n",
      "\n",
      "Epoch 00018: val_loss improved from 0.28336 to 0.28242, saving model to ../models/v14_finalscore/model_v6_EE.hd5\n",
      "Epoch 19/400\n",
      "8609390/8609390 [==============================] - 34s 4us/step - loss: 0.3026 - accuracy: 0.9338 - val_loss: 0.2820 - val_accuracy: 0.9355\n",
      "Epoch 20/400\n",
      "8609390/8609390 [==============================] - 34s 4us/step - loss: 0.3015 - accuracy: 0.9339 - val_loss: 0.2825 - val_accuracy: 0.9312\n",
      "\n",
      "Epoch 00020: val_loss did not improve from 0.28242\n",
      "Epoch 21/400\n",
      "8609390/8609390 [==============================] - 34s 4us/step - loss: 0.3013 - accuracy: 0.9340 - val_loss: 0.2802 - val_accuracy: 0.9356\n",
      "Epoch 22/400\n",
      "8609390/8609390 [==============================] - 34s 4us/step - loss: 0.3010 - accuracy: 0.9340 - val_loss: 0.2806 - val_accuracy: 0.9315\n",
      "\n",
      "Epoch 00022: val_loss improved from 0.28242 to 0.28063, saving model to ../models/v14_finalscore/model_v6_EE.hd5\n",
      "Epoch 23/400\n",
      "8609390/8609390 [==============================] - 34s 4us/step - loss: 0.3005 - accuracy: 0.9340 - val_loss: 0.2810 - val_accuracy: 0.9340\n",
      "Epoch 24/400\n",
      "8609390/8609390 [==============================] - 34s 4us/step - loss: 0.3002 - accuracy: 0.9341 - val_loss: 0.2807 - val_accuracy: 0.9329\n",
      "\n",
      "Epoch 00024: val_loss did not improve from 0.28063\n",
      "Epoch 25/400\n",
      "8609390/8609390 [==============================] - 34s 4us/step - loss: 0.2998 - accuracy: 0.9341 - val_loss: 0.2800 - val_accuracy: 0.9326\n",
      "Epoch 26/400\n",
      "8609390/8609390 [==============================] - 34s 4us/step - loss: 0.2991 - accuracy: 0.9342 - val_loss: 0.2799 - val_accuracy: 0.9313\n",
      "\n",
      "Epoch 00026: val_loss improved from 0.28063 to 0.27995, saving model to ../models/v14_finalscore/model_v6_EE.hd5\n",
      "Epoch 27/400\n",
      "8609390/8609390 [==============================] - 34s 4us/step - loss: 0.2989 - accuracy: 0.9341 - val_loss: 0.2793 - val_accuracy: 0.9310\n",
      "Epoch 28/400\n",
      "8609390/8609390 [==============================] - 34s 4us/step - loss: 0.2989 - accuracy: 0.9342 - val_loss: 0.2811 - val_accuracy: 0.9281\n",
      "\n",
      "Epoch 00028: val_loss did not improve from 0.27995\n",
      "Epoch 29/400\n",
      "8609390/8609390 [==============================] - 35s 4us/step - loss: 0.2984 - accuracy: 0.9342 - val_loss: 0.2790 - val_accuracy: 0.9319\n",
      "Epoch 30/400\n",
      "8609390/8609390 [==============================] - 35s 4us/step - loss: 0.2978 - accuracy: 0.9344 - val_loss: 0.2792 - val_accuracy: 0.9296\n",
      "\n",
      "Epoch 00030: val_loss improved from 0.27995 to 0.27921, saving model to ../models/v14_finalscore/model_v6_EE.hd5\n",
      "Epoch 31/400\n",
      "8609390/8609390 [==============================] - 35s 4us/step - loss: 0.2978 - accuracy: 0.9343 - val_loss: 0.2781 - val_accuracy: 0.9340\n",
      "Epoch 32/400\n",
      "8609390/8609390 [==============================] - 35s 4us/step - loss: 0.2978 - accuracy: 0.9344 - val_loss: 0.2792 - val_accuracy: 0.9297\n",
      "\n",
      "Epoch 00032: val_loss improved from 0.27921 to 0.27916, saving model to ../models/v14_finalscore/model_v6_EE.hd5\n",
      "Epoch 33/400\n",
      "8609390/8609390 [==============================] - 35s 4us/step - loss: 0.2969 - accuracy: 0.9345 - val_loss: 0.2787 - val_accuracy: 0.9297\n",
      "Epoch 34/400\n",
      "8609390/8609390 [==============================] - 35s 4us/step - loss: 0.2968 - accuracy: 0.9345 - val_loss: 0.2779 - val_accuracy: 0.9334\n",
      "\n",
      "Epoch 00034: val_loss improved from 0.27916 to 0.27786, saving model to ../models/v14_finalscore/model_v6_EE.hd5\n",
      "Epoch 35/400\n",
      "8609390/8609390 [==============================] - 35s 4us/step - loss: 0.2965 - accuracy: 0.9346 - val_loss: 0.2790 - val_accuracy: 0.9283\n",
      "Epoch 36/400\n",
      "8609390/8609390 [==============================] - 35s 4us/step - loss: 0.2964 - accuracy: 0.9345 - val_loss: 0.2787 - val_accuracy: 0.9299\n",
      "\n",
      "Epoch 00036: val_loss did not improve from 0.27786\n",
      "Epoch 37/400\n",
      "8609390/8609390 [==============================] - 35s 4us/step - loss: 0.2960 - accuracy: 0.9346 - val_loss: 0.2771 - val_accuracy: 0.9317\n",
      "Epoch 38/400\n",
      "8609390/8609390 [==============================] - 34s 4us/step - loss: 0.2955 - accuracy: 0.9345 - val_loss: 0.2780 - val_accuracy: 0.9290\n",
      "\n",
      "Epoch 00038: val_loss did not improve from 0.27786\n",
      "Epoch 39/400\n",
      "8609390/8609390 [==============================] - 34s 4us/step - loss: 0.2957 - accuracy: 0.9347 - val_loss: 0.2781 - val_accuracy: 0.9297\n",
      "Epoch 40/400\n",
      "8609390/8609390 [==============================] - 34s 4us/step - loss: 0.2955 - accuracy: 0.9347 - val_loss: 0.2776 - val_accuracy: 0.9296\n",
      "\n",
      "Epoch 00040: val_loss improved from 0.27786 to 0.27760, saving model to ../models/v14_finalscore/model_v6_EE.hd5\n",
      "Epoch 41/400\n"
     ]
    },
    {
     "name": "stdout",
     "output_type": "stream",
     "text": [
      "8609390/8609390 [==============================] - 34s 4us/step - loss: 0.2954 - accuracy: 0.9346 - val_loss: 0.2773 - val_accuracy: 0.9324\n",
      "Epoch 42/400\n",
      "8609390/8609390 [==============================] - 34s 4us/step - loss: 0.2947 - accuracy: 0.9347 - val_loss: 0.2768 - val_accuracy: 0.9346\n",
      "\n",
      "Epoch 00042: val_loss improved from 0.27760 to 0.27682, saving model to ../models/v14_finalscore/model_v6_EE.hd5\n",
      "Epoch 43/400\n",
      "8609390/8609390 [==============================] - 34s 4us/step - loss: 0.2947 - accuracy: 0.9348 - val_loss: 0.2764 - val_accuracy: 0.9314\n",
      "Epoch 44/400\n",
      "8609390/8609390 [==============================] - 34s 4us/step - loss: 0.2948 - accuracy: 0.9348 - val_loss: 0.2759 - val_accuracy: 0.9341\n",
      "\n",
      "Epoch 00044: val_loss improved from 0.27682 to 0.27588, saving model to ../models/v14_finalscore/model_v6_EE.hd5\n",
      "Epoch 45/400\n",
      "8609390/8609390 [==============================] - 34s 4us/step - loss: 0.2945 - accuracy: 0.9349 - val_loss: 0.2770 - val_accuracy: 0.9302\n",
      "Epoch 46/400\n",
      "8609390/8609390 [==============================] - 34s 4us/step - loss: 0.2943 - accuracy: 0.9349 - val_loss: 0.2758 - val_accuracy: 0.9321\n",
      "\n",
      "Epoch 00046: val_loss improved from 0.27588 to 0.27575, saving model to ../models/v14_finalscore/model_v6_EE.hd5\n",
      "Epoch 47/400\n",
      "8609390/8609390 [==============================] - 34s 4us/step - loss: 0.2937 - accuracy: 0.9349 - val_loss: 0.2765 - val_accuracy: 0.9306\n",
      "Epoch 48/400\n",
      "8609390/8609390 [==============================] - 34s 4us/step - loss: 0.2940 - accuracy: 0.9349 - val_loss: 0.2769 - val_accuracy: 0.9287\n",
      "\n",
      "Epoch 00048: val_loss did not improve from 0.27575\n",
      "Epoch 49/400\n",
      "8609390/8609390 [==============================] - 34s 4us/step - loss: 0.2935 - accuracy: 0.9350 - val_loss: 0.2756 - val_accuracy: 0.9330\n",
      "Epoch 50/400\n",
      "8609390/8609390 [==============================] - 34s 4us/step - loss: 0.2932 - accuracy: 0.9350 - val_loss: 0.2767 - val_accuracy: 0.9284\n",
      "\n",
      "Epoch 00050: val_loss did not improve from 0.27575\n",
      "Epoch 51/400\n",
      "8609390/8609390 [==============================] - 34s 4us/step - loss: 0.2937 - accuracy: 0.9350 - val_loss: 0.2760 - val_accuracy: 0.9301\n",
      "Epoch 52/400\n",
      "8609390/8609390 [==============================] - 34s 4us/step - loss: 0.2933 - accuracy: 0.9350 - val_loss: 0.2761 - val_accuracy: 0.9290\n",
      "\n",
      "Epoch 00052: val_loss did not improve from 0.27575\n",
      "Epoch 53/400\n",
      "8609390/8609390 [==============================] - 35s 4us/step - loss: 0.2931 - accuracy: 0.9352 - val_loss: 0.2750 - val_accuracy: 0.9315\n",
      "Epoch 54/400\n",
      "8609390/8609390 [==============================] - 34s 4us/step - loss: 0.2926 - accuracy: 0.9351 - val_loss: 0.2745 - val_accuracy: 0.9339\n",
      "\n",
      "Epoch 00054: val_loss improved from 0.27575 to 0.27455, saving model to ../models/v14_finalscore/model_v6_EE.hd5\n",
      "Epoch 55/400\n",
      "8609390/8609390 [==============================] - 34s 4us/step - loss: 0.2929 - accuracy: 0.9351 - val_loss: 0.2763 - val_accuracy: 0.9295\n",
      "Epoch 56/400\n",
      "8609390/8609390 [==============================] - 34s 4us/step - loss: 0.2926 - accuracy: 0.9352 - val_loss: 0.2768 - val_accuracy: 0.9279\n",
      "\n",
      "Epoch 00056: val_loss did not improve from 0.27455\n",
      "Epoch 57/400\n",
      "8609390/8609390 [==============================] - 34s 4us/step - loss: 0.2927 - accuracy: 0.9352 - val_loss: 0.2767 - val_accuracy: 0.9278\n",
      "Epoch 58/400\n",
      "8609390/8609390 [==============================] - 34s 4us/step - loss: 0.2920 - accuracy: 0.9352 - val_loss: 0.2756 - val_accuracy: 0.9304\n",
      "\n",
      "Epoch 00058: val_loss did not improve from 0.27455\n",
      "Epoch 59/400\n",
      "8609390/8609390 [==============================] - 34s 4us/step - loss: 0.2923 - accuracy: 0.9351 - val_loss: 0.2754 - val_accuracy: 0.9300\n",
      "Epoch 60/400\n",
      "8609390/8609390 [==============================] - 34s 4us/step - loss: 0.2922 - accuracy: 0.9353 - val_loss: 0.2749 - val_accuracy: 0.9295\n",
      "\n",
      "Epoch 00060: val_loss did not improve from 0.27455\n",
      "Epoch 61/400\n",
      "8609390/8609390 [==============================] - 34s 4us/step - loss: 0.2918 - accuracy: 0.9352 - val_loss: 0.2750 - val_accuracy: 0.9297\n",
      "Epoch 62/400\n",
      "8609390/8609390 [==============================] - 34s 4us/step - loss: 0.2916 - accuracy: 0.9354 - val_loss: 0.2755 - val_accuracy: 0.9290\n",
      "\n",
      "Epoch 00062: val_loss did not improve from 0.27455\n",
      "Epoch 63/400\n",
      "8609390/8609390 [==============================] - 34s 4us/step - loss: 0.2918 - accuracy: 0.9352 - val_loss: 0.2755 - val_accuracy: 0.9312\n",
      "Epoch 64/400\n",
      "8609390/8609390 [==============================] - 34s 4us/step - loss: 0.2918 - accuracy: 0.9353 - val_loss: 0.2756 - val_accuracy: 0.9296\n",
      "\n",
      "Epoch 00064: val_loss did not improve from 0.27455\n",
      "Epoch 00064: early stopping\n"
     ]
    }
   ],
   "source": [
    "auto_save = ModelCheckpoint(model_dir+ \"/model_v{}_{}.hd5\".format(model_version,det), monitor='val_loss', \n",
    "                    verbose=1, save_best_only=True, save_weights_only=False, \n",
    "                    mode='auto', period=2)\n",
    "\n",
    "early_stop = EarlyStopping(monitor='val_loss', min_delta=0.0004, \n",
    "                            patience=10, verbose=1)\n",
    "\n",
    "\n",
    "#lr_scheduler = callbacks.LearningRateScheduler(step_decay, verbose=1)\n",
    "\n",
    "history = model.fit(\n",
    "            X_train, y_train,\n",
    "            sample_weight = w_train,\n",
    "            batch_size = 4096,\n",
    "            epochs=400,\n",
    "            shuffle=True,\n",
    "            validation_data = (X_val, y_val, w_val),\n",
    "            callbacks = [early_stop, auto_save] #lr_scheduler\n",
    "            )"
   ]
  },
  {
   "cell_type": "code",
   "execution_count": null,
   "metadata": {},
   "outputs": [],
   "source": [
    "auto_save = ModelCheckpoint(model_dir+ \"/model_v{}_{}.hd5\".format(model_version,det), monitor='val_loss', \n",
    "                    verbose=1, save_best_only=True, save_weights_only=False, \n",
    "                    mode='auto', period=2)\n",
    "\n",
    "early_stop = EarlyStopping(monitor='val_loss', min_delta=0.0001, \n",
    "                            patience=5, verbose=1)\n",
    "\n",
    "\n",
    "lr_scheduler = callbacks.LearningRateScheduler(step_decay, verbose=1)\n",
    "\n",
    "history = model.fit(\n",
    "            X_train, y_train,\n",
    "            sample_weight = w_train,\n",
    "            batch_size = 4096,\n",
    "            epochs=400,\n",
    "            shuffle=True,\n",
    "            validation_data = (X_val, y_val, w_val),\n",
    "            callbacks = [early_stop, auto_save,lr_scheduler] #lr_scheduler\n",
    "            )"
   ]
  },
  {
   "cell_type": "code",
   "execution_count": 67,
   "metadata": {
    "ExecuteTime": {
     "end_time": "2020-05-03T21:02:31.639054Z",
     "start_time": "2020-05-03T21:02:28.213008Z"
    }
   },
   "outputs": [
    {
     "name": "stdout",
     "output_type": "stream",
     "text": [
      ">>> Computing AUC...\n",
      "AUC score: 0.9873056526645082\n",
      ">>> Saving ROC curve...\n"
     ]
    },
    {
     "data": {
      "text/plain": [
       "<matplotlib.legend.Legend at 0x7fd485fb2a58>"
      ]
     },
     "execution_count": 67,
     "metadata": {},
     "output_type": "execute_result"
    },
    {
     "data": {
      "image/png": "[encoded data removed]",
      "text/plain": [
       "<Figure size 750x750 with 1 Axes>"
      ]
     },
     "metadata": {
      "needs_background": "light"
     },
     "output_type": "display_data"
    }
   ],
   "source": [
    "# Evalutation\n",
    "print(\">>> Computing AUC...\")\n",
    "\n",
    "from sklearn.metrics import roc_auc_score, roc_curve\n",
    "\n",
    "pred = model.predict(X_val,batch_size=2048)\n",
    "auc = roc_auc_score(y_val, pred, sample_weight=w_val)\n",
    "print(\"AUC score: \" + str(auc))\n",
    "\n",
    "print(\">>> Saving ROC curve...\")\n",
    "fp , tp, th = roc_curve(y_val, pred, sample_weight=w_val,drop_intermediate=True)\n",
    "plt.plot(fp, tp, label=\"roc\")\n",
    "#plt.plot(fp, th, label=\"threshold\")\n",
    "plt.xlabel(\"false positives\")\n",
    "plt.ylabel(\"true positives\")\n",
    "plt.ylim(-0.05,1.05)\n",
    "\n",
    "plt.legend()"
   ]
  },
  {
   "cell_type": "markdown",
   "metadata": {},
   "source": [
    "# AUC by eta and Et bin"
   ]
  },
  {
   "cell_type": "code",
   "execution_count": 68,
   "metadata": {},
   "outputs": [
    {
     "data": {
      "text/plain": [
       "<matplotlib.colorbar.Colorbar at 0x7fd485e7cc88>"
      ]
     },
     "execution_count": 68,
     "metadata": {},
     "output_type": "execute_result"
    },
    {
     "data": {
      "image/png": "[encoded data removed]",
      "text/plain": [
       "<Figure size 750x750 with 2 Axes>"
      ]
     },
     "metadata": {
      "needs_background": "light"
     },
     "output_type": "display_data"
    }
   ],
   "source": [
    "data[\"y\"] =  model.predict(scaler.transform(data[cols].values), batch_size=4096)\n",
    "\n",
    "ets = [0,20,40,60,80,100]\n",
    "if det==\"EB\":\n",
    "    etas = [0, 0.4,0.8, 1.2,1.479]\n",
    "if det==\"EE\":\n",
    "    etas = [1.479,1.75,2.,2.25,3]\n",
    "\n",
    "data[\"eta_bin\"] = pd.cut(abs(data.seed_eta), etas, labels=list(range(len(etas)-1)))\n",
    "data[\"et_bin\"] = pd.cut(data.et_seed, ets, labels=list(range(len(ets)-1)))\n",
    "\n",
    "result =  data.groupby([\"eta_bin\", \"et_bin\"]).apply(\n",
    "        lambda gr:  roc_auc_score(gr.in_scluster, gr.y, sample_weight=gr.w)\n",
    ")\n",
    "\n",
    "a = result.values.reshape((len(etas)-1,len(ets)-1))\n",
    "plt.imshow(a.T)\n",
    "plt.xlabel(\"Eta bin\")\n",
    "plt.ylabel(\"Et bin\")\n",
    "plt.title(\"AUC\")\n",
    "plt.colorbar()"
   ]
  },
  {
   "cell_type": "code",
   "execution_count": 70,
   "metadata": {
    "ExecuteTime": {
     "end_time": "2020-05-03T18:02:08.432215Z",
     "start_time": "2020-05-03T18:02:08.040559Z"
    }
   },
   "outputs": [
    {
     "data": {
      "text/plain": [
       "<matplotlib.legend.Legend at 0x7fd485dc8780>"
      ]
     },
     "execution_count": 70,
     "metadata": {},
     "output_type": "execute_result"
    },
    {
     "data": {
      "image/png": "[encoded data removed]",
      "text/plain": [
       "<Figure size 750x750 with 1 Axes>"
      ]
     },
     "metadata": {
      "needs_background": "light"
     },
     "output_type": "display_data"
    }
   ],
   "source": [
    "plt.plot(history.epoch, history.history[\"val_loss\"], label=\"validation loss\")\n",
    "plt.plot(history.epoch, history.history[\"loss\"], label=\"training loss\")\n",
    "plt.legend()"
   ]
  },
  {
   "cell_type": "code",
   "execution_count": 26,
   "metadata": {
    "ExecuteTime": {
     "end_time": "2020-05-03T21:02:59.616298Z",
     "start_time": "2020-05-03T21:02:59.348309Z"
    }
   },
   "outputs": [
    {
     "data": {
      "text/plain": [
       "<matplotlib.legend.Legend at 0x7ff260535eb8>"
      ]
     },
     "execution_count": 26,
     "metadata": {},
     "output_type": "execute_result"
    },
    {
     "data": {
      "image/png": "[encoded data removed]",
      "text/plain": [
       "<Figure size 750x750 with 1 Axes>"
      ]
     },
     "metadata": {
      "needs_background": "light"
     },
     "output_type": "display_data"
    }
   ],
   "source": [
    "plt.plot(history.epoch, history.history[\"val_loss\"], label=\"validation loss\")\n",
    "plt.plot(history.epoch, history.history[\"loss\"], label=\"training loss\")\n",
    "plt.legend()"
   ]
  },
  {
   "cell_type": "code",
   "execution_count": 71,
   "metadata": {
    "ExecuteTime": {
     "end_time": "2020-05-03T18:02:48.984671Z",
     "start_time": "2020-05-03T18:02:41.386118Z"
    }
   },
   "outputs": [
    {
     "data": {
      "text/plain": [
       "<matplotlib.legend.Legend at 0x7fd485db1fd0>"
      ]
     },
     "execution_count": 71,
     "metadata": {},
     "output_type": "execute_result"
    },
    {
     "data": {
      "image/png": "[encoded data removed]",
      "text/plain": [
       "<Figure size 750x750 with 1 Axes>"
      ]
     },
     "metadata": {
      "needs_background": "light"
     },
     "output_type": "display_data"
    }
   ],
   "source": [
    "results = model.predict(X_val[:200000])\n",
    "plt.hist(results[y_val[:200000]==0], bins=30,density=True, label=\"false\", histtype=\"step\")\n",
    "plt.hist(results[y_val[:200000]==1], bins=30, density=True, label=\"true\", histtype=\"step\")\n",
    "plt.yscale(\"log\")\n",
    "plt.legend()"
   ]
  },
  {
   "cell_type": "code",
   "execution_count": 26,
   "metadata": {},
   "outputs": [
    {
     "data": {
      "text/plain": [
       "<matplotlib.legend.Legend at 0x7fb72043b470>"
      ]
     },
     "execution_count": 26,
     "metadata": {},
     "output_type": "execute_result"
    },
    {
     "data": {
      "image/png": "[encoded data removed]",
      "text/plain": [
       "<Figure size 750x750 with 1 Axes>"
      ]
     },
     "metadata": {
      "needs_background": "light"
     },
     "output_type": "display_data"
    }
   ],
   "source": [
    "results = model.predict(X_val[:500000])\n",
    "plt.hist(results[y_val[:500000]==0], bins=30,density=True, label=\"false\", histtype=\"step\")\n",
    "plt.hist(results[y_val[:500000]==1], bins=30, density=True, label=\"true\", histtype=\"step\")\n",
    "plt.yscale(\"log\")\n",
    "plt.legend()"
   ]
  },
  {
   "cell_type": "code",
   "execution_count": 27,
   "metadata": {},
   "outputs": [
    {
     "data": {
      "text/plain": [
       "<Figure size 750x750 with 0 Axes>"
      ]
     },
     "metadata": {},
     "output_type": "display_data"
    }
   ],
   "source": [
    "plt.savefig(model_dir +\"/output_model_v1_EB.png\")"
   ]
  },
  {
   "cell_type": "markdown",
   "metadata": {},
   "source": [
    "# Some plots"
   ]
  },
  {
   "cell_type": "code",
   "execution_count": 1,
   "metadata": {
    "ExecuteTime": {
     "end_time": "2020-01-13T09:25:43.435534Z",
     "start_time": "2020-01-13T09:25:30.930818Z"
    },
    "scrolled": true
   },
   "outputs": [
    {
     "name": "stderr",
     "output_type": "stream",
     "text": [
      "Using TensorFlow backend.\n"
     ]
    },
    {
     "ename": "OSError",
     "evalue": "Unable to open file (unable to open file: name = 'models/model11_balanced_100_80_50.hd5', errno = 2, error message = 'No such file or directory', flags = 0, o_flags = 0)",
     "output_type": "error",
     "traceback": [
      "\u001b[0;31m---------------------------------------------------------------------------\u001b[0m",
      "\u001b[0;31mOSError\u001b[0m                                   Traceback (most recent call last)",
      "\u001b[0;32m<ipython-input-1-5beff4d610ed>\u001b[0m in \u001b[0;36m<module>\u001b[0;34m\u001b[0m\n\u001b[1;32m      1\u001b[0m \u001b[0;32mfrom\u001b[0m \u001b[0mkeras\u001b[0m\u001b[0;34m.\u001b[0m\u001b[0mmodels\u001b[0m \u001b[0;32mimport\u001b[0m \u001b[0mload_model\u001b[0m\u001b[0;34m\u001b[0m\u001b[0m\n\u001b[0;32m----> 2\u001b[0;31m \u001b[0mmodel\u001b[0m \u001b[0;34m=\u001b[0m \u001b[0mload_model\u001b[0m\u001b[0;34m(\u001b[0m\u001b[0;34m\"models/model11_balanced_100_80_50.hd5\"\u001b[0m\u001b[0;34m)\u001b[0m\u001b[0;34m\u001b[0m\u001b[0m\n\u001b[0m\u001b[1;32m      3\u001b[0m \u001b[0mscaler\u001b[0m \u001b[0;34m=\u001b[0m \u001b[0mpickle\u001b[0m\u001b[0;34m.\u001b[0m\u001b[0mload\u001b[0m\u001b[0;34m(\u001b[0m\u001b[0mopen\u001b[0m\u001b[0;34m(\u001b[0m\u001b[0;34m\"models/scaler_gamma_electrons.pkl\"\u001b[0m\u001b[0;34m,\u001b[0m \u001b[0;34m\"rb\"\u001b[0m\u001b[0;34m)\u001b[0m\u001b[0;34m)\u001b[0m\u001b[0;34m\u001b[0m\u001b[0m\n",
      "\u001b[0;32m/cvmfs/sft.cern.ch/lcg/views/LCG_96python3/x86_64-centos7-gcc8-opt/lib/python3.6/site-packages/keras/engine/saving.py\u001b[0m in \u001b[0;36mload_model\u001b[0;34m(filepath, custom_objects, compile)\u001b[0m\n\u001b[1;32m    415\u001b[0m     \u001b[0mmodel\u001b[0m \u001b[0;34m=\u001b[0m \u001b[0;32mNone\u001b[0m\u001b[0;34m\u001b[0m\u001b[0m\n\u001b[1;32m    416\u001b[0m     \u001b[0mopened_new_file\u001b[0m \u001b[0;34m=\u001b[0m \u001b[0;32mnot\u001b[0m \u001b[0misinstance\u001b[0m\u001b[0;34m(\u001b[0m\u001b[0mfilepath\u001b[0m\u001b[0;34m,\u001b[0m \u001b[0mh5py\u001b[0m\u001b[0;34m.\u001b[0m\u001b[0mGroup\u001b[0m\u001b[0;34m)\u001b[0m\u001b[0;34m\u001b[0m\u001b[0m\n\u001b[0;32m--> 417\u001b[0;31m     \u001b[0mf\u001b[0m \u001b[0;34m=\u001b[0m \u001b[0mh5dict\u001b[0m\u001b[0;34m(\u001b[0m\u001b[0mfilepath\u001b[0m\u001b[0;34m,\u001b[0m \u001b[0;34m'r'\u001b[0m\u001b[0;34m)\u001b[0m\u001b[0;34m\u001b[0m\u001b[0m\n\u001b[0m\u001b[1;32m    418\u001b[0m     \u001b[0;32mtry\u001b[0m\u001b[0;34m:\u001b[0m\u001b[0;34m\u001b[0m\u001b[0m\n\u001b[1;32m    419\u001b[0m         \u001b[0mmodel\u001b[0m \u001b[0;34m=\u001b[0m \u001b[0m_deserialize_model\u001b[0m\u001b[0;34m(\u001b[0m\u001b[0mf\u001b[0m\u001b[0;34m,\u001b[0m \u001b[0mcustom_objects\u001b[0m\u001b[0;34m,\u001b[0m \u001b[0mcompile\u001b[0m\u001b[0;34m)\u001b[0m\u001b[0;34m\u001b[0m\u001b[0m\n",
      "\u001b[0;32m/cvmfs/sft.cern.ch/lcg/views/LCG_96python3/x86_64-centos7-gcc8-opt/lib/python3.6/site-packages/keras/utils/io_utils.py\u001b[0m in \u001b[0;36m__init__\u001b[0;34m(self, path, mode)\u001b[0m\n\u001b[1;32m    184\u001b[0m             \u001b[0mself\u001b[0m\u001b[0;34m.\u001b[0m\u001b[0m_is_file\u001b[0m \u001b[0;34m=\u001b[0m \u001b[0;32mFalse\u001b[0m\u001b[0;34m\u001b[0m\u001b[0m\n\u001b[1;32m    185\u001b[0m         \u001b[0;32melif\u001b[0m \u001b[0misinstance\u001b[0m\u001b[0;34m(\u001b[0m\u001b[0mpath\u001b[0m\u001b[0;34m,\u001b[0m \u001b[0mstr\u001b[0m\u001b[0;34m)\u001b[0m\u001b[0;34m:\u001b[0m\u001b[0;34m\u001b[0m\u001b[0m\n\u001b[0;32m--> 186\u001b[0;31m             \u001b[0mself\u001b[0m\u001b[0;34m.\u001b[0m\u001b[0mdata\u001b[0m \u001b[0;34m=\u001b[0m \u001b[0mh5py\u001b[0m\u001b[0;34m.\u001b[0m\u001b[0mFile\u001b[0m\u001b[0;34m(\u001b[0m\u001b[0mpath\u001b[0m\u001b[0;34m,\u001b[0m \u001b[0mmode\u001b[0m\u001b[0;34m=\u001b[0m\u001b[0mmode\u001b[0m\u001b[0;34m)\u001b[0m\u001b[0;34m\u001b[0m\u001b[0m\n\u001b[0m\u001b[1;32m    187\u001b[0m             \u001b[0mself\u001b[0m\u001b[0;34m.\u001b[0m\u001b[0m_is_file\u001b[0m \u001b[0;34m=\u001b[0m \u001b[0;32mTrue\u001b[0m\u001b[0;34m\u001b[0m\u001b[0m\n\u001b[1;32m    188\u001b[0m         \u001b[0;32melif\u001b[0m \u001b[0misinstance\u001b[0m\u001b[0;34m(\u001b[0m\u001b[0mpath\u001b[0m\u001b[0;34m,\u001b[0m \u001b[0mdict\u001b[0m\u001b[0;34m)\u001b[0m\u001b[0;34m:\u001b[0m\u001b[0;34m\u001b[0m\u001b[0m\n",
      "\u001b[0;32m/cvmfs/sft.cern.ch/lcg/views/LCG_96python3/x86_64-centos7-gcc8-opt/lib/python3.6/site-packages/h5py/_hl/files.py\u001b[0m in \u001b[0;36m__init__\u001b[0;34m(self, name, mode, driver, libver, userblock_size, swmr, rdcc_nslots, rdcc_nbytes, rdcc_w0, track_order, **kwds)\u001b[0m\n\u001b[1;32m    392\u001b[0m                 fid = make_fid(name, mode, userblock_size,\n\u001b[1;32m    393\u001b[0m                                \u001b[0mfapl\u001b[0m\u001b[0;34m,\u001b[0m \u001b[0mfcpl\u001b[0m\u001b[0;34m=\u001b[0m\u001b[0mmake_fcpl\u001b[0m\u001b[0;34m(\u001b[0m\u001b[0mtrack_order\u001b[0m\u001b[0;34m=\u001b[0m\u001b[0mtrack_order\u001b[0m\u001b[0;34m)\u001b[0m\u001b[0;34m,\u001b[0m\u001b[0;34m\u001b[0m\u001b[0m\n\u001b[0;32m--> 394\u001b[0;31m                                swmr=swmr)\n\u001b[0m\u001b[1;32m    395\u001b[0m \u001b[0;34m\u001b[0m\u001b[0m\n\u001b[1;32m    396\u001b[0m             \u001b[0;32mif\u001b[0m \u001b[0mswmr_support\u001b[0m\u001b[0;34m:\u001b[0m\u001b[0;34m\u001b[0m\u001b[0m\n",
      "\u001b[0;32m/cvmfs/sft.cern.ch/lcg/views/LCG_96python3/x86_64-centos7-gcc8-opt/lib/python3.6/site-packages/h5py/_hl/files.py\u001b[0m in \u001b[0;36mmake_fid\u001b[0;34m(name, mode, userblock_size, fapl, fcpl, swmr)\u001b[0m\n\u001b[1;32m    168\u001b[0m         \u001b[0;32mif\u001b[0m \u001b[0mswmr\u001b[0m \u001b[0;32mand\u001b[0m \u001b[0mswmr_support\u001b[0m\u001b[0;34m:\u001b[0m\u001b[0;34m\u001b[0m\u001b[0m\n\u001b[1;32m    169\u001b[0m             \u001b[0mflags\u001b[0m \u001b[0;34m|=\u001b[0m \u001b[0mh5f\u001b[0m\u001b[0;34m.\u001b[0m\u001b[0mACC_SWMR_READ\u001b[0m\u001b[0;34m\u001b[0m\u001b[0m\n\u001b[0;32m--> 170\u001b[0;31m         \u001b[0mfid\u001b[0m \u001b[0;34m=\u001b[0m \u001b[0mh5f\u001b[0m\u001b[0;34m.\u001b[0m\u001b[0mopen\u001b[0m\u001b[0;34m(\u001b[0m\u001b[0mname\u001b[0m\u001b[0;34m,\u001b[0m \u001b[0mflags\u001b[0m\u001b[0;34m,\u001b[0m \u001b[0mfapl\u001b[0m\u001b[0;34m=\u001b[0m\u001b[0mfapl\u001b[0m\u001b[0;34m)\u001b[0m\u001b[0;34m\u001b[0m\u001b[0m\n\u001b[0m\u001b[1;32m    171\u001b[0m     \u001b[0;32melif\u001b[0m \u001b[0mmode\u001b[0m \u001b[0;34m==\u001b[0m \u001b[0;34m'r+'\u001b[0m\u001b[0;34m:\u001b[0m\u001b[0;34m\u001b[0m\u001b[0m\n\u001b[1;32m    172\u001b[0m         \u001b[0mfid\u001b[0m \u001b[0;34m=\u001b[0m \u001b[0mh5f\u001b[0m\u001b[0;34m.\u001b[0m\u001b[0mopen\u001b[0m\u001b[0;34m(\u001b[0m\u001b[0mname\u001b[0m\u001b[0;34m,\u001b[0m \u001b[0mh5f\u001b[0m\u001b[0;34m.\u001b[0m\u001b[0mACC_RDWR\u001b[0m\u001b[0;34m,\u001b[0m \u001b[0mfapl\u001b[0m\u001b[0;34m=\u001b[0m\u001b[0mfapl\u001b[0m\u001b[0;34m)\u001b[0m\u001b[0;34m\u001b[0m\u001b[0m\n",
      "\u001b[0;32mh5py/_objects.pyx\u001b[0m in \u001b[0;36mh5py._objects.with_phil.wrapper\u001b[0;34m()\u001b[0m\n",
      "\u001b[0;32mh5py/_objects.pyx\u001b[0m in \u001b[0;36mh5py._objects.with_phil.wrapper\u001b[0;34m()\u001b[0m\n",
      "\u001b[0;32mh5py/h5f.pyx\u001b[0m in \u001b[0;36mh5py.h5f.open\u001b[0;34m()\u001b[0m\n",
      "\u001b[0;31mOSError\u001b[0m: Unable to open file (unable to open file: name = 'models/model11_balanced_100_80_50.hd5', errno = 2, error message = 'No such file or directory', flags = 0, o_flags = 0)"
     ]
    }
   ],
   "source": [
    "from keras.models import load_model\n",
    "model = load_model(\"models/model11_balanced_100_80_50.hd5\")\n",
    "scaler = pickle.load(open(\"models/scaler_gamma_electrons.pkl\", \"rb\"))"
   ]
  },
  {
   "cell_type": "code",
   "execution_count": null,
   "metadata": {
    "ExecuteTime": {
     "end_time": "2020-04-20T22:38:16.819969Z",
     "start_time": "2020-04-20T22:38:16.467585Z"
    }
   },
   "outputs": [],
   "source": [
    "fp , tp, th = roc_curve(y_test, pred)\n",
    "fig, ax1 = plt.subplots(figsize=(7,6), dpi=100)\n",
    "ax1.plot(fp, tp, label=\"roc\", color=\"blue\")\n",
    "\n",
    "ax1.set_xlabel(\"Bkg contamination\", fontsize=18)\n",
    "ax1.set_ylabel(\"Signal efficiency\", fontsize=18, color=\"blue\")\n",
    "ax1.set_ylim(0.850, 1.01)\n",
    "ax1.set_xlim(0, 0.06)\n",
    "#ax1.plot([0,1],[1,1],\"b--\")\n",
    "ax1.tick_params(\"y\",labelsize=\"large\", labelcolor=\"blue\")\n",
    "\n",
    "ax2 = ax1.twinx()\n",
    "ax2.plot(fp, th, label=\"threshold\", color=\"red\")\n",
    "ax2.tick_params(axis='y', labelcolor=\"red\", labelsize=\"large\")\n",
    "ax2.set_ylabel(\"Threshold\", fontsize=18, color=\"red\")\n",
    "ax2.set_ylim(0, 1)\n",
    "ax1.grid()\n",
    "#ax2.grid(linestyle=\"dashed\", color=\"red\")\n",
    "\n",
    "ax2.plot([0.01, 0.01], [0, 2], \"g--\")\n",
    "ax2.set_yticks(np.arange(0, 1.1, 0.1))\n",
    "#ax2.minorticks_on()\n",
    "\n",
    "ax1.set_title(\"ROC curve\", fontsize=20)\n",
    "ax2.text(x = 0.048, y = 1.01, s=\"AUC=0.997\", fontsize=\"large\")\n",
    "\n",
    "fig.tight_layout()"
   ]
  },
  {
   "cell_type": "code",
   "execution_count": 36,
   "metadata": {
    "ExecuteTime": {
     "end_time": "2020-01-11T14:23:01.035443Z",
     "start_time": "2020-01-11T14:23:00.336449Z"
    }
   },
   "outputs": [
    {
     "data": {
      "image/png": "[encoded data removed]",
      "text/plain": [
       "<Figure size 700x600 with 2 Axes>"
      ]
     },
     "metadata": {},
     "output_type": "display_data"
    }
   ],
   "source": [
    "fp , tp, th = roc_curve(y_test, pred)\n",
    "fig, ax1 = plt.subplots(figsize=(7,6), dpi=100)\n",
    "ax1.plot(fp, tp, label=\"roc\", color=\"blue\")\n",
    "\n",
    "ax1.set_xlabel(\"Bkg contamination\", fontsize=18)\n",
    "ax1.set_ylabel(\"Signal efficiency\", fontsize=18, color=\"blue\")\n",
    "ax1.set_ylim(0.850, 1.01)\n",
    "ax1.set_xlim(0, 0.06)\n",
    "#ax1.plot([0,1],[1,1],\"b--\")\n",
    "ax1.tick_params(\"y\",labelsize=\"large\", labelcolor=\"blue\")\n",
    "\n",
    "ax2 = ax1.twinx()\n",
    "ax2.plot(fp, th, label=\"threshold\", color=\"red\")\n",
    "ax2.tick_params(axis='y', labelcolor=\"red\", labelsize=\"large\")\n",
    "ax2.set_ylabel(\"Threshold\", fontsize=18, color=\"red\")\n",
    "ax2.set_ylim(0, 1)\n",
    "ax1.grid()\n",
    "#ax2.grid(linestyle=\"dashed\", color=\"red\")\n",
    "\n",
    "ax2.plot([0.01, 0.01], [0, 2], \"g--\")\n",
    "ax2.set_yticks(np.arange(0, 1.1, 0.1))\n",
    "#ax2.minorticks_on()\n",
    "\n",
    "ax1.set_title(\"ROC curve\", fontsize=20)\n",
    "ax2.text(x = 0.048, y = 1.01, s=\"AUC=0.997\", fontsize=\"large\")\n",
    "\n",
    "fig.tight_layout()"
   ]
  }
 ],
 "metadata": {
  "kernelspec": {
   "display_name": "Python 3",
   "language": "python",
   "name": "python3"
  },
  "language_info": {
   "codemirror_mode": {
    "name": "ipython",
    "version": 3
   },
   "file_extension": ".py",
   "mimetype": "text/x-python",
   "name": "python",
   "nbconvert_exporter": "python",
   "pygments_lexer": "ipython3",
   "version": "3.6.9"
  },
  "toc": {
   "base_numbering": 1,
   "nav_menu": {},
   "number_sections": true,
   "sideBar": true,
   "skip_h1_title": false,
   "title_cell": "Table of Contents",
   "title_sidebar": "Contents",
   "toc_cell": false,
   "toc_position": {},
   "toc_section_display": true,
   "toc_window_display": false
  },
  "varInspector": {
   "cols": {
    "lenName": 16,
    "lenType": 16,
    "lenVar": 40
   },
   "kernels_config": {
    "python": {
     "delete_cmd_postfix": "",
     "delete_cmd_prefix": "del ",
     "library": "var_list.py",
     "varRefreshCmd": "print(var_dic_list())"
    },
    "r": {
     "delete_cmd_postfix": ") ",
     "delete_cmd_prefix": "rm(",
     "library": "var_list.r",
     "varRefreshCmd": "cat(var_dic_list()) "
    }
   },
   "oldHeight": 745.183666,
   "position": {
    "height": "40px",
    "left": "717.5px",
    "right": "20px",
    "top": "55px",
    "width": "800px"
   },
   "types_to_exclude": [
    "module",
    "function",
    "builtin_function_or_method",
    "instance",
    "_Feature"
   ],
   "varInspector_section_display": "none",
   "window_display": false
  }
 },
 "nbformat": 4,
 "nbformat_minor": 2
}
