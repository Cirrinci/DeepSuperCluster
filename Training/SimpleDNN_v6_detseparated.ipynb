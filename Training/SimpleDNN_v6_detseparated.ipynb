{
 "cells": [
  {
   "cell_type": "code",
   "execution_count": 2,
   "metadata": {
    "ExecuteTime": {
     "end_time": "2020-05-04T14:22:35.838781Z",
     "start_time": "2020-05-04T14:22:35.831130Z"
    }
   },
   "outputs": [],
   "source": [
    "import pickle\n",
    "import numpy as np \n",
    "import pandas as pd\n",
    "import matplotlib.colors as colors\n",
    "import matplotlib.pyplot as plt\n",
    "import matplotlib as mpl\n",
    "import os \n",
    "import glob\n",
    "\n",
    "mpl.rcParams['figure.figsize'] = (5,5)\n",
    "mpl.rcParams['figure.dpi'] = 150\n",
    "mpl.rcParams[\"image.origin\"] = 'lower'"
   ]
  },
  {
   "cell_type": "code",
   "execution_count": 3,
   "metadata": {
    "ExecuteTime": {
     "end_time": "2020-05-04T14:22:36.542179Z",
     "start_time": "2020-05-04T14:22:36.538268Z"
    }
   },
   "outputs": [],
   "source": [
    "model_dir = \"../models/v6_detseparated/\"\n",
    "model_name = \"v6_detseparated\""
   ]
  },
  {
   "cell_type": "markdown",
   "metadata": {},
   "source": [
    "# Data preparation\n",
    "## Input: \n",
    "- E seed\n",
    "- eta,phi,z seed\n",
    "- E cluster\n",
    "- delta_eta,delta_phi,\n",
    "\n",
    "Filter only windows with the calo"
   ]
  },
  {
   "cell_type": "code",
   "execution_count": 4,
   "metadata": {
    "ExecuteTime": {
     "end_time": "2020-05-04T14:22:38.611857Z",
     "start_time": "2020-05-04T14:22:38.606202Z"
    }
   },
   "outputs": [],
   "source": [
    "files_ele = \"/eos/user/r/rdfexp/ecal/cluster/output_deepcluster_dumper/electrons/numpy_v8/training/\"\n",
    "files_gamma = \"/eos/user/r/rdfexp/ecal/cluster/output_deepcluster_dumper/gammas/numpy_v8/training/\""
   ]
  },
  {
   "cell_type": "code",
   "execution_count": null,
   "metadata": {
    "ExecuteTime": {
     "start_time": "2020-05-04T14:22:39.023Z"
    }
   },
   "outputs": [
    {
     "name": "stdout",
     "output_type": "stream",
     "text": [
      "N events ele:  23603630\n"
     ]
    }
   ],
   "source": [
    "datas_ele = []\n",
    "\n",
    "for f in glob.glob(files_ele+\"*.pkl\"):\n",
    "    d = pickle.load(open(f, \"rb\"))   \n",
    "    datas_ele.append(d[d.is_seed == False])\n",
    "    \n",
    "data_ele = pd.concat(datas_ele, ignore_index=True)\n",
    "data_ele[\"particle\"] = \"electron\"\n",
    "print(\"N events ele: \",len(data_ele))\n",
    "\n",
    "datas_gamma = []\n",
    "for f in glob.glob(files_gamma+\"*.pkl\"):\n",
    "    d = pickle.load(open(f, \"rb\"))  \n",
    "    datas_gamma.append(d[d.is_seed==False])\n",
    "    \n",
    "data_gamma = pd.concat(datas_gamma, ignore_index=True)\n",
    "data_gamma[\"particle\"] = \"gamma\"\n",
    "print(\"N events gamma: \",len(data_gamma))\n",
    "\n",
    "if data_ele.shape[0]> data_gamma.shape[0]:\n",
    "    data = pd.concat([data_gamma, data_ele.iloc[0:len(data_gamma)]], ignore_index=True)\n",
    "else:\n",
    "    data = pd.concat([data_gamma.iloc[0:len(data_ele)], data_ele], ignore_index=True)"
   ]
  },
  {
   "cell_type": "markdown",
   "metadata": {},
   "source": [
    "Balance gamma and electron"
   ]
  },
  {
   "cell_type": "code",
   "execution_count": null,
   "metadata": {
    "ExecuteTime": {
     "start_time": "2020-05-04T14:14:26.563Z"
    }
   },
   "outputs": [],
   "source": [
    "data_EB = data[abs(data.seed_eta)<1.479]\n",
    "data_EE = data[abs(data.seed_eta)>=1.479]"
   ]
  },
  {
   "cell_type": "code",
   "execution_count": 5,
   "metadata": {
    "ExecuteTime": {
     "end_time": "2020-05-03T14:58:15.903327Z",
     "start_time": "2020-05-03T14:58:12.456898Z"
    }
   },
   "outputs": [
    {
     "name": "stdout",
     "output_type": "stream",
     "text": [
      "Sample in EB: 2188030\n",
      "Sample in EE: 3671292\n",
      "Sample in EB in SC: 794754\n",
      "Sample in EE in SC: 393750\n",
      "N in supercluster:  1188504\n",
      "N out supercluster:  4670818\n",
      "3.929997711408628\n"
     ]
    }
   ],
   "source": [
    "print(\"Sample in EB:\", len(data[abs(data.seed_eta) <1.479]))\n",
    "print(\"Sample in EE:\", len(data[abs(data.seed_eta) >=1.479]))\n",
    "print(\"Sample in EB in SC:\", len(data[(abs(data.seed_eta) <1.479)&(data.in_scluster)]))\n",
    "print(\"Sample in EE in SC:\", len(data[(abs(data.seed_eta) >=1.479)&(data.in_scluster)]))\n",
    "print(\"N in supercluster: \", len(data[ data.in_scluster]))\n",
    "print(\"N out supercluster: \", len(data[data.in_scluster == False]))\n",
    "w = len(data[(data.is_seed == False) & (data.in_scluster == False)]) / len(data[(data.is_seed == False) & (data.in_scluster==True)])\n",
    "print(w)"
   ]
  },
  {
   "cell_type": "code",
   "execution_count": 6,
   "metadata": {
    "ExecuteTime": {
     "end_time": "2020-05-03T14:58:46.167174Z",
     "start_time": "2020-05-03T14:58:45.165966Z"
    }
   },
   "outputs": [
    {
     "name": "stdout",
     "output_type": "stream",
     "text": [
      "caloMatch samples:  3133915\n",
      "Not caloMatch samples:  2725407\n"
     ]
    }
   ],
   "source": [
    "print(\"caloMatch samples: \", len(data[data.is_calo_matched]))\n",
    "print(\"Not caloMatch samples: \", len(data[data.is_calo_matched ==False]))"
   ]
  },
  {
   "cell_type": "markdown",
   "metadata": {},
   "source": [
    "## Check plots"
   ]
  },
  {
   "cell_type": "code",
   "execution_count": 9,
   "metadata": {
    "ExecuteTime": {
     "end_time": "2020-04-27T14:07:39.272642Z",
     "start_time": "2020-04-27T14:07:38.560302Z"
    }
   },
   "outputs": [],
   "source": [
    "data_in = data[ (data.is_seed == False) & data.in_scluster]\n",
    "data_out =  data[(data.is_seed == False) & (data.in_scluster == False)]"
   ]
  },
  {
   "cell_type": "code",
   "execution_count": 11,
   "metadata": {
    "ExecuteTime": {
     "end_time": "2020-04-27T14:08:13.907165Z",
     "start_time": "2020-04-27T14:08:13.321412Z"
    }
   },
   "outputs": [
    {
     "data": {
      "text/plain": [
       "<matplotlib.colorbar.Colorbar at 0x7f5484a9ec90>"
      ]
     },
     "execution_count": 11,
     "metadata": {},
     "output_type": "execute_result"
    },
    {
     "data": {
      "image/png": "[encoded data removed]",
      "text/plain": [
       "<Figure size 288x288 with 2 Axes>"
      ]
     },
     "metadata": {
      "needs_background": "light"
     },
     "output_type": "display_data"
    }
   ],
   "source": [
    "plt.matshow(data_in[[\"et_cluster\", \"et_seed\", \"seed_eta\", \"seed_phi\", \"cluster_deta\", \"cluster_dphi\", \"seed_nxtals\",\"cl_nxtals\", \"seed_swissCross\", \"cl_swissCross\"]].corr(), cmap=\"viridis\")\n",
    "plt.colorbar()"
   ]
  },
  {
   "cell_type": "code",
   "execution_count": 12,
   "metadata": {
    "ExecuteTime": {
     "end_time": "2020-04-27T14:08:24.571020Z",
     "start_time": "2020-04-27T14:08:24.265349Z"
    },
    "scrolled": true
   },
   "outputs": [
    {
     "data": {
      "text/plain": [
       "<matplotlib.legend.Legend at 0x7f5484aead10>"
      ]
     },
     "execution_count": 12,
     "metadata": {},
     "output_type": "execute_result"
    },
    {
     "data": {
      "image/png": "[encoded data removed]",
      "text/plain": [
       "<Figure size 500x500 with 1 Axes>"
      ]
     },
     "metadata": {
      "needs_background": "light"
     },
     "output_type": "display_data"
    }
   ],
   "source": [
    "plt.subplots(figsize=(5,5), dpi=100)\n",
    "plt.hist(data_in.et_seed, histtype=\"step\", density=True, bins=50, label=\"in\", range=[0,100])\n",
    "plt.hist(data_out.et_seed, histtype=\"step\", density=True, bins=50, label=\"out\", range=[0,100])\n",
    "plt.legend()"
   ]
  },
  {
   "cell_type": "code",
   "execution_count": 13,
   "metadata": {
    "ExecuteTime": {
     "end_time": "2020-04-27T14:08:34.832582Z",
     "start_time": "2020-04-27T14:08:34.507735Z"
    },
    "scrolled": true
   },
   "outputs": [
    {
     "data": {
      "text/plain": [
       "<matplotlib.legend.Legend at 0x7f5484ae0bd0>"
      ]
     },
     "execution_count": 13,
     "metadata": {},
     "output_type": "execute_result"
    },
    {
     "data": {
      "image/png": "[encoded data removed]",
      "text/plain": [
       "<Figure size 500x500 with 1 Axes>"
      ]
     },
     "metadata": {
      "needs_background": "light"
     },
     "output_type": "display_data"
    }
   ],
   "source": [
    "plt.subplots(figsize=(5,5), dpi=100)\n",
    "plt.hist(data_in.seed_swissCross, histtype=\"step\", density=True, bins=50, label=\"in\", )\n",
    "plt.hist(data_out.seed_swissCross, histtype=\"step\", density=True, bins=50, label=\"out\")\n",
    "plt.legend()"
   ]
  },
  {
   "cell_type": "code",
   "execution_count": 14,
   "metadata": {
    "ExecuteTime": {
     "end_time": "2020-04-27T14:08:44.969551Z",
     "start_time": "2020-04-27T14:08:44.684606Z"
    }
   },
   "outputs": [
    {
     "data": {
      "text/plain": [
       "<matplotlib.legend.Legend at 0x7f5484b4de50>"
      ]
     },
     "execution_count": 14,
     "metadata": {},
     "output_type": "execute_result"
    },
    {
     "data": {
      "image/png": "[encoded data removed]",
      "text/plain": [
       "<Figure size 500x500 with 1 Axes>"
      ]
     },
     "metadata": {
      "needs_background": "light"
     },
     "output_type": "display_data"
    }
   ],
   "source": [
    "plt.subplots(figsize=(5,5), dpi=100)\n",
    "plt.hist(data_in.cl_swissCross, histtype=\"step\", density=True, bins=50, label=\"in\", )\n",
    "plt.hist(data_out.cl_swissCross, histtype=\"step\", density=True, bins=50, label=\"out\")\n",
    "plt.legend()"
   ]
  },
  {
   "cell_type": "code",
   "execution_count": 15,
   "metadata": {
    "ExecuteTime": {
     "end_time": "2020-04-27T14:08:55.342882Z",
     "start_time": "2020-04-27T14:08:55.015385Z"
    }
   },
   "outputs": [
    {
     "data": {
      "text/plain": [
       "<matplotlib.legend.Legend at 0x7f5484b2e610>"
      ]
     },
     "execution_count": 15,
     "metadata": {},
     "output_type": "execute_result"
    },
    {
     "data": {
      "image/png": "[encoded data removed]",
      "text/plain": [
       "<Figure size 500x500 with 1 Axes>"
      ]
     },
     "metadata": {
      "needs_background": "light"
     },
     "output_type": "display_data"
    }
   ],
   "source": [
    "plt.subplots(figsize=(5,5), dpi=100)\n",
    "plt.hist(data_in.seed_eta, histtype=\"step\", density=True, bins=100, label=\"in\")\n",
    "plt.hist(data_out.seed_eta, histtype=\"step\", density=True, bins=100, label=\"out\")\n",
    "plt.legend()"
   ]
  },
  {
   "cell_type": "code",
   "execution_count": 16,
   "metadata": {
    "ExecuteTime": {
     "end_time": "2020-04-27T14:09:05.721082Z",
     "start_time": "2020-04-27T14:09:05.127732Z"
    }
   },
   "outputs": [
    {
     "data": {
      "text/plain": [
       "<matplotlib.legend.Legend at 0x7f5484b25a10>"
      ]
     },
     "execution_count": 16,
     "metadata": {},
     "output_type": "execute_result"
    },
    {
     "data": {
      "image/png": "[encoded data removed]",
      "text/plain": [
       "<Figure size 500x500 with 1 Axes>"
      ]
     },
     "metadata": {
      "needs_background": "light"
     },
     "output_type": "display_data"
    }
   ],
   "source": [
    "plt.subplots(figsize=(5,5), dpi=100)\n",
    "plt.hist(data_in.et_cluster/data_in.et_seed, histtype=\"step\", density=True, bins=50, label=\"in\", range=(0,1.5))\n",
    "plt.hist(data_out.et_cluster/data_out.et_seed, histtype=\"step\", density=True, bins=50, label=\"out\",range=(0,1.5))\n",
    "plt.legend()"
   ]
  },
  {
   "cell_type": "code",
   "execution_count": 17,
   "metadata": {
    "ExecuteTime": {
     "end_time": "2020-04-27T14:09:16.053942Z",
     "start_time": "2020-04-27T14:09:15.803637Z"
    }
   },
   "outputs": [
    {
     "data": {
      "text/plain": [
       "<matplotlib.legend.Legend at 0x7f5484b94fd0>"
      ]
     },
     "execution_count": 17,
     "metadata": {},
     "output_type": "execute_result"
    },
    {
     "data": {
      "image/png": "[encoded data removed]",
      "text/plain": [
       "<Figure size 500x500 with 1 Axes>"
      ]
     },
     "metadata": {
      "needs_background": "light"
     },
     "output_type": "display_data"
    }
   ],
   "source": [
    "plt.subplots(figsize=(5,5), dpi=100)\n",
    "plt.hist(data_in.cluster_deta, histtype=\"step\", density=True, bins=50, label=\"in\", range=(-0.3,0.3))\n",
    "plt.hist(data_out.cluster_deta, histtype=\"step\", density=True, bins=50, label=\"out\",range=(-0.3,0.3))\n",
    "plt.legend()"
   ]
  },
  {
   "cell_type": "code",
   "execution_count": 18,
   "metadata": {
    "ExecuteTime": {
     "end_time": "2020-04-27T14:09:26.030799Z",
     "start_time": "2020-04-27T14:09:25.771987Z"
    }
   },
   "outputs": [
    {
     "data": {
      "text/plain": [
       "<matplotlib.legend.Legend at 0x7f5484b87a10>"
      ]
     },
     "execution_count": 18,
     "metadata": {},
     "output_type": "execute_result"
    },
    {
     "data": {
      "image/png": "[encoded data removed]",
      "text/plain": [
       "<Figure size 500x500 with 1 Axes>"
      ]
     },
     "metadata": {
      "needs_background": "light"
     },
     "output_type": "display_data"
    }
   ],
   "source": [
    "plt.subplots(figsize=(5,5), dpi=100)\n",
    "plt.hist(data_in.cluster_dphi, histtype=\"step\", density=True, bins=50, label=\"in\", range=(-0.7,0.7))\n",
    "plt.hist(data_out.cluster_dphi, histtype=\"step\", density=True, bins=50, label=\"out\",range=(-0.7,0.7))\n",
    "plt.legend()"
   ]
  },
  {
   "cell_type": "code",
   "execution_count": 19,
   "metadata": {
    "ExecuteTime": {
     "end_time": "2020-04-27T14:09:35.946210Z",
     "start_time": "2020-04-27T14:09:35.661284Z"
    }
   },
   "outputs": [
    {
     "data": {
      "text/plain": [
       "<matplotlib.legend.Legend at 0x7f5484aeab50>"
      ]
     },
     "execution_count": 19,
     "metadata": {},
     "output_type": "execute_result"
    },
    {
     "data": {
      "image/png": "[encoded data removed]",
      "text/plain": [
       "<Figure size 500x500 with 1 Axes>"
      ]
     },
     "metadata": {
      "needs_background": "light"
     },
     "output_type": "display_data"
    }
   ],
   "source": [
    "plt.subplots(figsize=(5,5), dpi=100)\n",
    "plt.hist(data_in.seed_f5_sigmaIphiIphi, histtype=\"step\", density=True, bins=50, label=\"in\", )\n",
    "plt.hist(data_out.seed_f5_sigmaIphiIphi, histtype=\"step\", density=True, bins=50, label=\"out\")\n",
    "plt.legend()"
   ]
  },
  {
   "cell_type": "code",
   "execution_count": 20,
   "metadata": {
    "ExecuteTime": {
     "end_time": "2020-04-27T14:10:05.518441Z",
     "start_time": "2020-04-27T14:10:05.165167Z"
    }
   },
   "outputs": [
    {
     "data": {
      "text/plain": [
       "<matplotlib.legend.Legend at 0x7f5484b5d590>"
      ]
     },
     "execution_count": 20,
     "metadata": {},
     "output_type": "execute_result"
    },
    {
     "data": {
      "image/png": "[encoded data removed]",
      "text/plain": [
       "<Figure size 500x500 with 1 Axes>"
      ]
     },
     "metadata": {
      "needs_background": "light"
     },
     "output_type": "display_data"
    }
   ],
   "source": [
    "plt.subplots(figsize=(5,5), dpi=100)\n",
    "plt.hist(data_in.cl_f5_sigmaIphiIphi, histtype=\"step\", density=True, bins=50, label=\"in\", )\n",
    "plt.hist(data_out.cl_f5_sigmaIphiIphi, histtype=\"step\", density=True, bins=50, label=\"out\")\n",
    "plt.legend()"
   ]
  },
  {
   "cell_type": "code",
   "execution_count": 21,
   "metadata": {
    "ExecuteTime": {
     "end_time": "2020-04-27T14:10:14.756371Z",
     "start_time": "2020-04-27T14:10:14.408093Z"
    }
   },
   "outputs": [
    {
     "data": {
      "text/plain": [
       "<matplotlib.legend.Legend at 0x7f548501d6d0>"
      ]
     },
     "execution_count": 21,
     "metadata": {},
     "output_type": "execute_result"
    },
    {
     "data": {
      "image/png": "[encoded data removed]",
      "text/plain": [
       "<Figure size 500x500 with 1 Axes>"
      ]
     },
     "metadata": {
      "needs_background": "light"
     },
     "output_type": "display_data"
    }
   ],
   "source": [
    "plt.subplots(figsize=(5,5), dpi=100)\n",
    "plt.hist(data_in.seed_f5_sigmaIetaIeta, histtype=\"step\", density=True, bins=50, label=\"in\", )\n",
    "plt.hist(data_out.seed_f5_sigmaIetaIeta, histtype=\"step\", density=True, bins=50, label=\"out\")\n",
    "plt.legend()"
   ]
  },
  {
   "cell_type": "code",
   "execution_count": 22,
   "metadata": {
    "ExecuteTime": {
     "end_time": "2020-04-27T14:10:23.901540Z",
     "start_time": "2020-04-27T14:10:23.553282Z"
    }
   },
   "outputs": [
    {
     "data": {
      "text/plain": [
       "<matplotlib.legend.Legend at 0x7f5485061490>"
      ]
     },
     "execution_count": 22,
     "metadata": {},
     "output_type": "execute_result"
    },
    {
     "data": {
      "image/png": "[encoded data removed]",
      "text/plain": [
       "<Figure size 500x500 with 1 Axes>"
      ]
     },
     "metadata": {
      "needs_background": "light"
     },
     "output_type": "display_data"
    }
   ],
   "source": [
    "plt.subplots(figsize=(5,5), dpi=100)\n",
    "plt.hist(data_in.cl_f5_sigmaIetaIeta, histtype=\"step\", density=True, bins=50, label=\"in\", )\n",
    "plt.hist(data_out.cl_f5_sigmaIetaIeta, histtype=\"step\", density=True, bins=50, label=\"out\")\n",
    "plt.legend()"
   ]
  },
  {
   "cell_type": "markdown",
   "metadata": {},
   "source": [
    "## Weights by DeltaPhi"
   ]
  },
  {
   "cell_type": "code",
   "execution_count": 7,
   "metadata": {
    "ExecuteTime": {
     "end_time": "2020-05-03T14:59:15.286452Z",
     "start_time": "2020-05-03T14:59:15.279741Z"
    }
   },
   "outputs": [
    {
     "data": {
      "text/plain": [
       "Index(['cl_f5_r9', 'cl_f5_sigmaIetaIeta', 'cl_f5_sigmaIetaIphi',\n",
       "       'cl_f5_sigmaIphiIphi', 'cl_nxtals', 'cl_swissCross', 'cluster_deta',\n",
       "       'cluster_dphi', 'cluster_iz', 'en_cluster', 'en_seed', 'en_true',\n",
       "       'et_cluster', 'et_seed', 'et_true', 'in_mustache', 'in_scluster',\n",
       "       'index', 'is_calo_matched', 'is_seed', 'max_dr_cluster',\n",
       "       'max_en_cluster', 'mustache_seed_index', 'nclusters', 'seed_eta',\n",
       "       'seed_f5_r9', 'seed_f5_sigmaIetaIeta', 'seed_f5_sigmaIetaIphi',\n",
       "       'seed_f5_sigmaIphiIphi', 'seed_iz', 'seed_nxtals', 'seed_phi',\n",
       "       'seed_swissCross', 'window_index', 'particle'],\n",
       "      dtype='object')"
      ]
     },
     "execution_count": 7,
     "metadata": {},
     "output_type": "execute_result"
    }
   ],
   "source": [
    "data.columns"
   ]
  },
  {
   "cell_type": "code",
   "execution_count": 8,
   "metadata": {
    "ExecuteTime": {
     "end_time": "2020-05-03T14:59:44.792694Z",
     "start_time": "2020-05-03T14:59:44.788287Z"
    }
   },
   "outputs": [],
   "source": [
    "cols = [\"seed_eta\", \"seed_phi\", \"seed_iz\",\"en_seed\",\"et_seed\",\n",
    "        \"cluster_deta\", \"cluster_dphi\", \"en_cluster\", \"et_cluster\",\n",
    "       \"seed_f5_r9\", \"seed_f5_sigmaIetaIeta\",\"seed_f5_sigmaIetaIphi\",\"seed_f5_sigmaIphiIphi\",\"seed_swissCross\",\"seed_nxtals\",\n",
    "        \"cl_f5_r9\", \"cl_f5_sigmaIetaIeta\",\"cl_f5_sigmaIetaIphi\",\"cl_f5_sigmaIphiIphi\",\"cl_swissCross\", \"cl_nxtals\"]"
   ]
  },
  {
   "cell_type": "code",
   "execution_count": 53,
   "metadata": {
    "ExecuteTime": {
     "end_time": "2020-05-03T19:39:50.337125Z",
     "start_time": "2020-05-03T19:39:50.330651Z"
    }
   },
   "outputs": [],
   "source": [
    "data = data_EE"
   ]
  },
  {
   "cell_type": "code",
   "execution_count": 54,
   "metadata": {
    "ExecuteTime": {
     "end_time": "2020-05-03T19:40:22.348120Z",
     "start_time": "2020-05-03T19:40:21.924777Z"
    }
   },
   "outputs": [],
   "source": [
    "X = data[ cols ].values\n",
    "truth = data[[\"in_scluster\"]].values\n",
    "y = np.array(truth[:], dtype=int)"
   ]
  },
  {
   "cell_type": "code",
   "execution_count": 55,
   "metadata": {
    "ExecuteTime": {
     "end_time": "2020-05-03T19:40:52.284346Z",
     "start_time": "2020-05-03T19:40:51.557266Z"
    }
   },
   "outputs": [
    {
     "name": "stdout",
     "output_type": "stream",
     "text": [
      "8.32391619047619\n"
     ]
    }
   ],
   "source": [
    "w = len(data[(data.is_seed == False) & (data.in_scluster == False)]) / len(data[(data.is_seed == False) & (data.in_scluster==True)])\n",
    "print(w)"
   ]
  },
  {
   "cell_type": "code",
   "execution_count": 56,
   "metadata": {
    "ExecuteTime": {
     "end_time": "2020-05-03T19:41:21.619919Z",
     "start_time": "2020-05-03T19:41:20.903085Z"
    }
   },
   "outputs": [],
   "source": [
    "data[\"w\"] = data.in_scluster.apply(lambda a: w if a else 1.)\n",
    "weight = data.w.values"
   ]
  },
  {
   "cell_type": "code",
   "execution_count": 46,
   "metadata": {
    "ExecuteTime": {
     "end_time": "2020-05-03T16:59:09.418959Z",
     "start_time": "2020-05-03T16:59:08.383315Z"
    }
   },
   "outputs": [],
   "source": [
    "from sklearn.preprocessing import MinMaxScaler, StandardScaler, QuantileTransformer\n",
    "from sklearn.model_selection import train_test_split\n",
    "scaler = StandardScaler()\n",
    "X_scaled = scaler.fit_transform(X)\n",
    "os.makedirs(\"../models/v6_detseparated/\", exist_ok = True)\n",
    "pickle.dump(scaler, open(\"../models/v6_detseparated/scaler_model1_EB.pkl\", \"wb\"))"
   ]
  },
  {
   "cell_type": "code",
   "execution_count": 57,
   "metadata": {
    "ExecuteTime": {
     "end_time": "2020-05-03T19:41:51.724830Z",
     "start_time": "2020-05-03T19:41:49.713894Z"
    }
   },
   "outputs": [],
   "source": [
    "from sklearn.preprocessing import MinMaxScaler, StandardScaler, QuantileTransformer\n",
    "from sklearn.model_selection import train_test_split\n",
    "scaler = StandardScaler()\n",
    "X_scaled = scaler.fit_transform(X)\n",
    "os.makedirs(\"../models/v6_detseparated/\", exist_ok = True)\n",
    "pickle.dump(scaler, open(\"../models/v6_detseparated/scaler_model1_EE.pkl\", \"wb\"))"
   ]
  },
  {
   "cell_type": "code",
   "execution_count": 68,
   "metadata": {
    "ExecuteTime": {
     "end_time": "2020-04-27T20:36:06.424318Z",
     "start_time": "2020-04-27T20:36:06.415406Z"
    }
   },
   "outputs": [
    {
     "data": {
      "text/plain": [
       "array([-9.48937722e-02, -2.59092069e-02, -3.23802034e-02,  8.54387012e+01,\n",
       "        1.95493967e+01, -7.99008024e-03,  1.68780274e-05,  8.92748605e+00,\n",
       "        1.92283524e+00,  1.08804190e+00,  3.39450646e-02,  1.85485538e-05,\n",
       "        4.13554904e-02,  4.96716655e-01,  5.44590774e+00,  4.09401210e+00,\n",
       "        3.71462585e-02,  4.80538918e-05,  4.39461957e-02,  5.70297494e-01,\n",
       "        3.15806715e+00])"
      ]
     },
     "execution_count": 68,
     "metadata": {},
     "output_type": "execute_result"
    }
   ],
   "source": [
    "scaler.mean_"
   ]
  },
  {
   "cell_type": "code",
   "execution_count": 69,
   "metadata": {
    "ExecuteTime": {
     "end_time": "2020-04-27T20:36:11.862086Z",
     "start_time": "2020-04-27T20:36:11.856918Z"
    }
   },
   "outputs": [
    {
     "data": {
      "text/plain": [
       "array([2.27502784e+00, 1.80358311e+00, 9.99475624e-01, 1.25874656e+02,\n",
       "       2.62122915e+01, 1.01794340e-01, 1.81101293e-01, 6.05398279e+00,\n",
       "       1.77231292e+00, 5.03589571e-01, 1.40048073e-02, 4.14562658e-04,\n",
       "       1.53689902e-02, 4.13270103e-01, 5.68762983e+00, 9.93354108e+00,\n",
       "       1.65018741e-02, 5.45041026e-04, 1.80243836e-02, 4.37347302e-01,\n",
       "       4.28826919e+00])"
      ]
     },
     "execution_count": 69,
     "metadata": {},
     "output_type": "execute_result"
    }
   ],
   "source": [
    "scaler.scale_"
   ]
  },
  {
   "cell_type": "code",
   "execution_count": 58,
   "metadata": {
    "ExecuteTime": {
     "end_time": "2020-05-03T19:42:21.213537Z",
     "start_time": "2020-05-03T19:42:20.253569Z"
    }
   },
   "outputs": [],
   "source": [
    "X_train, X_val, y_train, y_val, w_train, w_val = train_test_split(X_scaled, y, weight, test_size=0.30)"
   ]
  },
  {
   "cell_type": "markdown",
   "metadata": {},
   "source": [
    "# Training"
   ]
  },
  {
   "cell_type": "code",
   "execution_count": 31,
   "metadata": {
    "ExecuteTime": {
     "end_time": "2020-05-03T15:15:19.694207Z",
     "start_time": "2020-05-03T15:15:13.962325Z"
    }
   },
   "outputs": [
    {
     "name": "stderr",
     "output_type": "stream",
     "text": [
      "Using TensorFlow backend.\n"
     ]
    }
   ],
   "source": [
    "# Import all the required Libraries\n",
    "import tensorflow\n",
    "import keras\n",
    "import pandas as pd\n",
    "import numpy as np\n",
    "import matplotlib.pyplot as plt\n",
    "from keras.datasets import mnist\n",
    "from keras.models import Model, Sequential\n",
    "from keras.layers import Dense, Conv2D, Dropout, BatchNormalization, Input, Reshape, Flatten, Deconvolution2D, Conv2DTranspose, MaxPooling2D, UpSampling2D, Lambda\n",
    "from keras.layers.advanced_activations import LeakyReLU\n",
    "from keras.optimizers import adam\n",
    "from keras import callbacks\n",
    "from keras import backend as K\n",
    "from keras import regularizers\n",
    "from keras.callbacks import *"
   ]
  },
  {
   "cell_type": "code",
   "execution_count": 61,
   "metadata": {
    "ExecuteTime": {
     "end_time": "2020-05-03T19:43:37.659152Z",
     "start_time": "2020-05-03T19:43:37.313696Z"
    }
   },
   "outputs": [
    {
     "name": "stdout",
     "output_type": "stream",
     "text": [
      "_________________________________________________________________\n",
      "Layer (type)                 Output Shape              Param #   \n",
      "=================================================================\n",
      "dense_15 (Dense)             (None, 100)               2200      \n",
      "_________________________________________________________________\n",
      "dropout_13 (Dropout)         (None, 100)               0         \n",
      "_________________________________________________________________\n",
      "dense_16 (Dense)             (None, 100)               10100     \n",
      "_________________________________________________________________\n",
      "dropout_14 (Dropout)         (None, 100)               0         \n",
      "_________________________________________________________________\n",
      "dense_17 (Dense)             (None, 100)               10100     \n",
      "_________________________________________________________________\n",
      "dropout_15 (Dropout)         (None, 100)               0         \n",
      "_________________________________________________________________\n",
      "dense_18 (Dense)             (None, 100)               10100     \n",
      "_________________________________________________________________\n",
      "dropout_16 (Dropout)         (None, 100)               0         \n",
      "_________________________________________________________________\n",
      "dense_19 (Dense)             (None, 1)                 101       \n",
      "=================================================================\n",
      "Total params: 32,601\n",
      "Trainable params: 32,601\n",
      "Non-trainable params: 0\n",
      "_________________________________________________________________\n"
     ]
    }
   ],
   "source": [
    "model = Sequential()\n",
    "model.add(Dense(100, input_dim=X_val.shape[1], activation=\"relu\",kernel_regularizer=regularizers.l2(0.01)))\n",
    "model.add(Dropout(0.05))\n",
    "model.add(Dense(100, activation=\"relu\",kernel_regularizer=regularizers.l2(0.01)))\n",
    "model.add(Dropout(0.05))\n",
    "model.add(Dense(100, activation=\"relu\"))\n",
    "model.add(Dropout(0.05))\n",
    "model.add(Dense(100, activation=\"relu\"))\n",
    "model.add(Dropout(0.05))\n",
    "model.add(Dense(1, activation=\"sigmoid\"))\n",
    "\n",
    "\n",
    "model.compile(optimizer='adagrad',\n",
    "              loss='binary_crossentropy',\n",
    "              metrics=['accuracy'])\n",
    "\n",
    "model.summary()"
   ]
  },
  {
   "cell_type": "code",
   "execution_count": 59,
   "metadata": {
    "ExecuteTime": {
     "end_time": "2020-05-03T19:42:50.162047Z",
     "start_time": "2020-05-03T19:42:49.929560Z"
    }
   },
   "outputs": [
    {
     "ename": "NameError",
     "evalue": "name 'ùmodel' is not defined",
     "output_type": "error",
     "traceback": [
      "\u001b[0;31m---------------------------------------------------------------------------\u001b[0m",
      "\u001b[0;31mNameError\u001b[0m                                 Traceback (most recent call last)",
      "\u001b[0;32m<ipython-input-59-62bd94216ce7>\u001b[0m in \u001b[0;36m<module>\u001b[0;34m\u001b[0m\n\u001b[1;32m      8\u001b[0m \u001b[0mmodel\u001b[0m\u001b[0;34m.\u001b[0m\u001b[0madd\u001b[0m\u001b[0;34m(\u001b[0m\u001b[0mDense\u001b[0m\u001b[0;34m(\u001b[0m\u001b[0;36m100\u001b[0m\u001b[0;34m,\u001b[0m \u001b[0mactivation\u001b[0m\u001b[0;34m=\u001b[0m\u001b[0;34m\"relu\"\u001b[0m\u001b[0;34m)\u001b[0m\u001b[0;34m)\u001b[0m\u001b[0;34m\u001b[0m\u001b[0;34m\u001b[0m\u001b[0m\n\u001b[1;32m      9\u001b[0m \u001b[0mmodel\u001b[0m\u001b[0;34m.\u001b[0m\u001b[0madd\u001b[0m\u001b[0;34m(\u001b[0m\u001b[0mDropout\u001b[0m\u001b[0;34m(\u001b[0m\u001b[0;36m0.05\u001b[0m\u001b[0;34m)\u001b[0m\u001b[0;34m)\u001b[0m\u001b[0;34m\u001b[0m\u001b[0;34m\u001b[0m\u001b[0m\n\u001b[0;32m---> 10\u001b[0;31m \u001b[0mùmodel\u001b[0m\u001b[0;34m.\u001b[0m\u001b[0madd\u001b[0m\u001b[0;34m(\u001b[0m\u001b[0mDense\u001b[0m\u001b[0;34m(\u001b[0m\u001b[0;36m50\u001b[0m\u001b[0;34m,\u001b[0m \u001b[0mactivation\u001b[0m\u001b[0;34m=\u001b[0m\u001b[0;34m\"relu\"\u001b[0m\u001b[0;34m)\u001b[0m\u001b[0;34m)\u001b[0m\u001b[0;34m\u001b[0m\u001b[0;34m\u001b[0m\u001b[0m\n\u001b[0m\u001b[1;32m     11\u001b[0m \u001b[0mmodel\u001b[0m\u001b[0;34m.\u001b[0m\u001b[0madd\u001b[0m\u001b[0;34m(\u001b[0m\u001b[0mDropout\u001b[0m\u001b[0;34m(\u001b[0m\u001b[0;36m0.01\u001b[0m\u001b[0;34m)\u001b[0m\u001b[0;34m)\u001b[0m\u001b[0;34m\u001b[0m\u001b[0;34m\u001b[0m\u001b[0m\n\u001b[1;32m     12\u001b[0m \u001b[0mmodel\u001b[0m\u001b[0;34m.\u001b[0m\u001b[0madd\u001b[0m\u001b[0;34m(\u001b[0m\u001b[0mDense\u001b[0m\u001b[0;34m(\u001b[0m\u001b[0;36m1\u001b[0m\u001b[0;34m,\u001b[0m \u001b[0mactivation\u001b[0m\u001b[0;34m=\u001b[0m\u001b[0;34m\"sigmoid\"\u001b[0m\u001b[0;34m)\u001b[0m\u001b[0;34m)\u001b[0m\u001b[0;34m\u001b[0m\u001b[0;34m\u001b[0m\u001b[0m\n",
      "\u001b[0;31mNameError\u001b[0m: name 'ùmodel' is not defined"
     ]
    }
   ],
   "source": [
    "model = Sequential()\n",
    "model.add(Dense(200, input_dim=X_val.shape[1], activation=\"relu\",kernel_regularizer=regularizers.l2(0.01)))\n",
    "model.add(Dropout(0.1))\n",
    "model.add(Dense(200, activation=\"relu\",kernel_regularizer=regularizers.l2(0.01)))\n",
    "model.add(Dropout(0.1))\n",
    "model.add(Dense(100, activation=\"relu\"))\n",
    "model.add(Dropout(0.05))\n",
    "model.add(Dense(100, activation=\"relu\"))\n",
    "model.add(Dropout(0.05))\n",
    "ùmodel.add(Dense(50, activation=\"relu\"))\n",
    "model.add(Dropout(0.01))\n",
    "model.add(Dense(1, activation=\"sigmoid\"))\n",
    "\n",
    "\n",
    "model.compile(optimizer='adagrad',\n",
    "              loss='binary_crossentropy',\n",
    "              metrics=['accuracy'])\n",
    "\n",
    "model.summary()"
   ]
  },
  {
   "cell_type": "code",
   "execution_count": 81,
   "metadata": {
    "ExecuteTime": {
     "end_time": "2020-04-27T20:43:36.141251Z",
     "start_time": "2020-04-27T20:43:36.131252Z"
    }
   },
   "outputs": [],
   "source": [
    "import math\n",
    "def step_decay(epoch):\n",
    "    initial_lrate = 0.3\n",
    "    drop = 0.65\n",
    "    epochs_drop = 5.0\n",
    "    lrate = initial_lrate * math.pow(drop, math.floor((1+epoch)/epochs_drop))\n",
    "    if lrate < 0.005: return 0.005\n",
    "    return lrate"
   ]
  },
  {
   "cell_type": "code",
   "execution_count": 49,
   "metadata": {
    "ExecuteTime": {
     "end_time": "2020-05-03T17:51:50.420166Z",
     "start_time": "2020-05-03T17:00:34.510038Z"
    },
    "scrolled": true
   },
   "outputs": [
    {
     "name": "stdout",
     "output_type": "stream",
     "text": [
      "Train on 1750424 samples, validate on 437606 samples\n",
      "Epoch 1/400\n",
      "1750424/1750424 [==============================] - 16s 9us/step - loss: 0.2337 - acc: 0.9586 - val_loss: 0.1272 - val_acc: 0.9699\n",
      "Epoch 2/400\n",
      "1750424/1750424 [==============================] - 16s 9us/step - loss: 0.1214 - acc: 0.9677 - val_loss: 0.1151 - val_acc: 0.9670\n",
      "Epoch 3/400\n",
      "1750424/1750424 [==============================] - 16s 9us/step - loss: 0.1139 - acc: 0.9687 - val_loss: 0.1087 - val_acc: 0.9704\n",
      "\n",
      "Epoch 00003: val_loss improved from inf to 0.10872, saving model to ../models/v6_detseparated//model1_EE.hd5\n",
      "Epoch 4/400\n",
      "1750424/1750424 [==============================] - 16s 9us/step - loss: 0.1101 - acc: 0.9694 - val_loss: 0.1158 - val_acc: 0.9645\n",
      "Epoch 5/400\n",
      "1750424/1750424 [==============================] - 16s 9us/step - loss: 0.1077 - acc: 0.9698 - val_loss: 0.1044 - val_acc: 0.9697\n",
      "Epoch 6/400\n",
      "1750424/1750424 [==============================] - 16s 9us/step - loss: 0.1060 - acc: 0.9701 - val_loss: 0.1043 - val_acc: 0.9716\n",
      "\n",
      "Epoch 00006: val_loss improved from 0.10872 to 0.10428, saving model to ../models/v6_detseparated//model1_EE.hd5\n",
      "Epoch 7/400\n",
      "1750424/1750424 [==============================] - 16s 9us/step - loss: 0.1046 - acc: 0.9704 - val_loss: 0.1026 - val_acc: 0.9705\n",
      "Epoch 8/400\n",
      "1750424/1750424 [==============================] - 17s 10us/step - loss: 0.1038 - acc: 0.9706 - val_loss: 0.1004 - val_acc: 0.9717\n",
      "Epoch 9/400\n",
      "1750424/1750424 [==============================] - 17s 10us/step - loss: 0.1027 - acc: 0.9708 - val_loss: 0.1015 - val_acc: 0.9722\n",
      "\n",
      "Epoch 00009: val_loss improved from 0.10428 to 0.10154, saving model to ../models/v6_detseparated//model1_EE.hd5\n",
      "Epoch 10/400\n",
      "1750424/1750424 [==============================] - 16s 9us/step - loss: 0.1020 - acc: 0.9709 - val_loss: 0.0984 - val_acc: 0.9720\n",
      "Epoch 11/400\n",
      "1750424/1750424 [==============================] - 16s 9us/step - loss: 0.1014 - acc: 0.9710 - val_loss: 0.0984 - val_acc: 0.9718\n",
      "Epoch 12/400\n",
      "1750424/1750424 [==============================] - 16s 9us/step - loss: 0.1008 - acc: 0.9711 - val_loss: 0.0989 - val_acc: 0.9706\n",
      "\n",
      "Epoch 00012: val_loss improved from 0.10154 to 0.09886, saving model to ../models/v6_detseparated//model1_EE.hd5\n",
      "Epoch 13/400\n",
      "1750424/1750424 [==============================] - 16s 9us/step - loss: 0.1001 - acc: 0.9714 - val_loss: 0.0978 - val_acc: 0.9727\n",
      "Epoch 14/400\n",
      "1750424/1750424 [==============================] - 16s 9us/step - loss: 0.0995 - acc: 0.9715 - val_loss: 0.0972 - val_acc: 0.9714\n",
      "Epoch 15/400\n",
      "1750424/1750424 [==============================] - 17s 10us/step - loss: 0.0990 - acc: 0.9716 - val_loss: 0.0959 - val_acc: 0.9719\n",
      "\n",
      "Epoch 00015: val_loss improved from 0.09886 to 0.09591, saving model to ../models/v6_detseparated//model1_EE.hd5\n",
      "Epoch 16/400\n",
      "1750424/1750424 [==============================] - 16s 9us/step - loss: 0.0988 - acc: 0.9716 - val_loss: 0.0974 - val_acc: 0.9707\n",
      "Epoch 17/400\n",
      "1750424/1750424 [==============================] - 16s 9us/step - loss: 0.0984 - acc: 0.9716 - val_loss: 0.0969 - val_acc: 0.9709\n",
      "Epoch 18/400\n",
      "1750424/1750424 [==============================] - 16s 9us/step - loss: 0.0980 - acc: 0.9719 - val_loss: 0.0953 - val_acc: 0.9725\n",
      "\n",
      "Epoch 00018: val_loss improved from 0.09591 to 0.09529, saving model to ../models/v6_detseparated//model1_EE.hd5\n",
      "Epoch 19/400\n",
      "1750424/1750424 [==============================] - 16s 9us/step - loss: 0.0977 - acc: 0.9719 - val_loss: 0.0954 - val_acc: 0.9732\n",
      "Epoch 20/400\n",
      "1750424/1750424 [==============================] - 17s 9us/step - loss: 0.0975 - acc: 0.9717 - val_loss: 0.0947 - val_acc: 0.9721\n",
      "Epoch 21/400\n",
      "1750424/1750424 [==============================] - 16s 9us/step - loss: 0.0971 - acc: 0.9719 - val_loss: 0.0945 - val_acc: 0.9727\n",
      "\n",
      "Epoch 00021: val_loss improved from 0.09529 to 0.09450, saving model to ../models/v6_detseparated//model1_EE.hd5\n",
      "Epoch 22/400\n",
      "1750424/1750424 [==============================] - 17s 9us/step - loss: 0.0968 - acc: 0.9721 - val_loss: 0.0969 - val_acc: 0.9736\n",
      "Epoch 23/400\n",
      "1750424/1750424 [==============================] - 16s 9us/step - loss: 0.0968 - acc: 0.9720 - val_loss: 0.0938 - val_acc: 0.9727\n",
      "Epoch 24/400\n",
      "1750424/1750424 [==============================] - 16s 9us/step - loss: 0.0967 - acc: 0.9721 - val_loss: 0.0947 - val_acc: 0.9717\n",
      "\n",
      "Epoch 00024: val_loss did not improve from 0.09450\n",
      "Epoch 25/400\n",
      "1750424/1750424 [==============================] - 16s 9us/step - loss: 0.0964 - acc: 0.9721 - val_loss: 0.0969 - val_acc: 0.9734\n",
      "Epoch 26/400\n",
      "1750424/1750424 [==============================] - 16s 9us/step - loss: 0.0962 - acc: 0.9722 - val_loss: 0.0934 - val_acc: 0.9731\n",
      "Epoch 27/400\n",
      "1750424/1750424 [==============================] - 16s 9us/step - loss: 0.0961 - acc: 0.9722 - val_loss: 0.0934 - val_acc: 0.9732\n",
      "\n",
      "Epoch 00027: val_loss improved from 0.09450 to 0.09337, saving model to ../models/v6_detseparated//model1_EE.hd5\n",
      "Epoch 28/400\n",
      "1750424/1750424 [==============================] - 16s 9us/step - loss: 0.0958 - acc: 0.9722 - val_loss: 0.0930 - val_acc: 0.9731\n",
      "Epoch 29/400\n",
      "1750424/1750424 [==============================] - 16s 9us/step - loss: 0.0956 - acc: 0.9723 - val_loss: 0.0927 - val_acc: 0.9725\n",
      "Epoch 30/400\n",
      "1750424/1750424 [==============================] - 17s 10us/step - loss: 0.0955 - acc: 0.9723 - val_loss: 0.0927 - val_acc: 0.9734\n",
      "\n",
      "Epoch 00030: val_loss improved from 0.09337 to 0.09268, saving model to ../models/v6_detseparated//model1_EE.hd5\n",
      "Epoch 31/400\n",
      "1750424/1750424 [==============================] - 19s 11us/step - loss: 0.0952 - acc: 0.9724 - val_loss: 0.0924 - val_acc: 0.9734\n",
      "Epoch 32/400\n",
      "1750424/1750424 [==============================] - 20s 11us/step - loss: 0.0950 - acc: 0.9724 - val_loss: 0.0925 - val_acc: 0.9731\n",
      "Epoch 33/400\n",
      "1750424/1750424 [==============================] - 20s 11us/step - loss: 0.0950 - acc: 0.9724 - val_loss: 0.0932 - val_acc: 0.9727\n",
      "\n",
      "Epoch 00033: val_loss did not improve from 0.09268\n",
      "Epoch 34/400\n",
      "1750424/1750424 [==============================] - 19s 11us/step - loss: 0.0948 - acc: 0.9725 - val_loss: 0.0922 - val_acc: 0.9727\n",
      "Epoch 35/400\n",
      "1750424/1750424 [==============================] - 19s 11us/step - loss: 0.0947 - acc: 0.9724 - val_loss: 0.0919 - val_acc: 0.9729\n",
      "Epoch 36/400\n",
      "1750424/1750424 [==============================] - 20s 11us/step - loss: 0.0946 - acc: 0.9725 - val_loss: 0.0919 - val_acc: 0.9738\n",
      "\n",
      "Epoch 00036: val_loss improved from 0.09268 to 0.09186, saving model to ../models/v6_detseparated//model1_EE.hd5\n",
      "Epoch 37/400\n",
      "1750424/1750424 [==============================] - 19s 11us/step - loss: 0.0945 - acc: 0.9726 - val_loss: 0.0953 - val_acc: 0.9709\n",
      "Epoch 38/400\n",
      "1750424/1750424 [==============================] - 20s 11us/step - loss: 0.0942 - acc: 0.9726 - val_loss: 0.0932 - val_acc: 0.9713\n",
      "Epoch 39/400\n",
      "1750424/1750424 [==============================] - 19s 11us/step - loss: 0.0942 - acc: 0.9725 - val_loss: 0.0913 - val_acc: 0.9734\n",
      "\n",
      "Epoch 00039: val_loss improved from 0.09186 to 0.09128, saving model to ../models/v6_detseparated//model1_EE.hd5\n",
      "Epoch 40/400\n",
      "1750424/1750424 [==============================] - 17s 9us/step - loss: 0.0940 - acc: 0.9726 - val_loss: 0.0963 - val_acc: 0.9735\n",
      "Epoch 41/400\n",
      "1750424/1750424 [==============================] - 16s 9us/step - loss: 0.0940 - acc: 0.9727 - val_loss: 0.0918 - val_acc: 0.9723\n",
      "Epoch 42/400\n",
      "1750424/1750424 [==============================] - 16s 9us/step - loss: 0.0939 - acc: 0.9726 - val_loss: 0.0911 - val_acc: 0.9738\n",
      "\n",
      "Epoch 00042: val_loss improved from 0.09128 to 0.09110, saving model to ../models/v6_detseparated//model1_EE.hd5\n",
      "Epoch 43/400\n",
      "1750424/1750424 [==============================] - 16s 9us/step - loss: 0.0937 - acc: 0.9727 - val_loss: 0.0928 - val_acc: 0.9739\n",
      "Epoch 44/400\n",
      "1750424/1750424 [==============================] - 16s 9us/step - loss: 0.0937 - acc: 0.9727 - val_loss: 0.0918 - val_acc: 0.9736\n",
      "Epoch 45/400\n",
      "1750424/1750424 [==============================] - 16s 9us/step - loss: 0.0936 - acc: 0.9727 - val_loss: 0.0928 - val_acc: 0.9743\n",
      "\n",
      "Epoch 00045: val_loss did not improve from 0.09110\n",
      "Epoch 46/400\n",
      "1750424/1750424 [==============================] - 16s 9us/step - loss: 0.0936 - acc: 0.9727 - val_loss: 0.0908 - val_acc: 0.9730\n",
      "Epoch 47/400\n",
      "1750424/1750424 [==============================] - 16s 9us/step - loss: 0.0934 - acc: 0.9728 - val_loss: 0.0915 - val_acc: 0.9727\n",
      "Epoch 48/400\n",
      "1750424/1750424 [==============================] - 17s 9us/step - loss: 0.0934 - acc: 0.9727 - val_loss: 0.0910 - val_acc: 0.9738\n",
      "\n",
      "Epoch 00048: val_loss improved from 0.09110 to 0.09096, saving model to ../models/v6_detseparated//model1_EE.hd5\n",
      "Epoch 49/400\n",
      "1750424/1750424 [==============================] - 16s 9us/step - loss: 0.0931 - acc: 0.9729 - val_loss: 0.0930 - val_acc: 0.9713\n",
      "Epoch 50/400\n",
      "1750424/1750424 [==============================] - 16s 9us/step - loss: 0.0932 - acc: 0.9728 - val_loss: 0.0911 - val_acc: 0.9741\n",
      "Epoch 51/400\n",
      "1750424/1750424 [==============================] - 16s 9us/step - loss: 0.0930 - acc: 0.9728 - val_loss: 0.0916 - val_acc: 0.9734\n",
      "\n",
      "Epoch 00051: val_loss did not improve from 0.09096\n",
      "Epoch 52/400\n",
      "1750424/1750424 [==============================] - 15s 8us/step - loss: 0.0929 - acc: 0.9729 - val_loss: 0.0905 - val_acc: 0.9739\n",
      "Epoch 53/400\n",
      "1750424/1750424 [==============================] - 16s 9us/step - loss: 0.0929 - acc: 0.9728 - val_loss: 0.0906 - val_acc: 0.9730\n",
      "Epoch 54/400\n",
      "1750424/1750424 [==============================] - 16s 9us/step - loss: 0.0928 - acc: 0.9729 - val_loss: 0.0903 - val_acc: 0.9738\n",
      "\n",
      "Epoch 00054: val_loss improved from 0.09096 to 0.09027, saving model to ../models/v6_detseparated//model1_EE.hd5\n",
      "Epoch 55/400\n",
      "1750424/1750424 [==============================] - 16s 9us/step - loss: 0.0928 - acc: 0.9729 - val_loss: 0.0901 - val_acc: 0.9735\n",
      "Epoch 56/400\n",
      "1750424/1750424 [==============================] - 16s 9us/step - loss: 0.0927 - acc: 0.9728 - val_loss: 0.0908 - val_acc: 0.9730\n",
      "Epoch 57/400\n",
      "1750424/1750424 [==============================] - 16s 9us/step - loss: 0.0925 - acc: 0.9730 - val_loss: 0.0902 - val_acc: 0.9740\n",
      "\n",
      "Epoch 00057: val_loss improved from 0.09027 to 0.09017, saving model to ../models/v6_detseparated//model1_EE.hd5\n",
      "Epoch 58/400\n",
      "1750424/1750424 [==============================] - 16s 9us/step - loss: 0.0926 - acc: 0.9729 - val_loss: 0.0908 - val_acc: 0.9728\n",
      "Epoch 59/400\n",
      "1750424/1750424 [==============================] - 15s 9us/step - loss: 0.0923 - acc: 0.9729 - val_loss: 0.0915 - val_acc: 0.9746\n",
      "Epoch 60/400\n",
      "1750424/1750424 [==============================] - 16s 9us/step - loss: 0.0924 - acc: 0.9729 - val_loss: 0.0902 - val_acc: 0.9736\n",
      "\n",
      "Epoch 00060: val_loss did not improve from 0.09017\n",
      "Epoch 61/400\n",
      "1750424/1750424 [==============================] - 16s 9us/step - loss: 0.0923 - acc: 0.9730 - val_loss: 0.0899 - val_acc: 0.9742\n",
      "Epoch 62/400\n",
      "1750424/1750424 [==============================] - 16s 9us/step - loss: 0.0922 - acc: 0.9730 - val_loss: 0.0903 - val_acc: 0.9728\n",
      "Epoch 63/400\n",
      "1750424/1750424 [==============================] - 16s 9us/step - loss: 0.0922 - acc: 0.9730 - val_loss: 0.0903 - val_acc: 0.9725\n",
      "\n",
      "Epoch 00063: val_loss did not improve from 0.09017\n",
      "Epoch 64/400\n",
      "1750424/1750424 [==============================] - 16s 9us/step - loss: 0.0921 - acc: 0.9730 - val_loss: 0.0903 - val_acc: 0.9744\n",
      "Epoch 65/400\n",
      "1750424/1750424 [==============================] - 16s 9us/step - loss: 0.0922 - acc: 0.9730 - val_loss: 0.0917 - val_acc: 0.9747\n",
      "Epoch 66/400\n",
      "1750424/1750424 [==============================] - 16s 9us/step - loss: 0.0920 - acc: 0.9731 - val_loss: 0.0901 - val_acc: 0.9733\n",
      "\n",
      "Epoch 00066: val_loss improved from 0.09017 to 0.09014, saving model to ../models/v6_detseparated//model1_EE.hd5\n",
      "Epoch 67/400\n",
      "1750424/1750424 [==============================] - 16s 9us/step - loss: 0.0919 - acc: 0.9730 - val_loss: 0.0916 - val_acc: 0.9720\n",
      "Epoch 68/400\n",
      "1750424/1750424 [==============================] - 16s 9us/step - loss: 0.0918 - acc: 0.9731 - val_loss: 0.0905 - val_acc: 0.9744\n",
      "Epoch 69/400\n",
      "1750424/1750424 [==============================] - 16s 9us/step - loss: 0.0919 - acc: 0.9730 - val_loss: 0.0907 - val_acc: 0.9721\n",
      "\n",
      "Epoch 00069: val_loss did not improve from 0.09014\n",
      "Epoch 70/400\n",
      "1750424/1750424 [==============================] - 17s 9us/step - loss: 0.0918 - acc: 0.9731 - val_loss: 0.0897 - val_acc: 0.9729\n",
      "Epoch 71/400\n",
      "1750424/1750424 [==============================] - 16s 9us/step - loss: 0.0918 - acc: 0.9731 - val_loss: 0.0894 - val_acc: 0.9739\n",
      "Epoch 72/400\n",
      "1750424/1750424 [==============================] - 16s 9us/step - loss: 0.0917 - acc: 0.9731 - val_loss: 0.0917 - val_acc: 0.9716\n",
      "\n",
      "Epoch 00072: val_loss did not improve from 0.09014\n",
      "Epoch 73/400\n",
      "1750424/1750424 [==============================] - 18s 11us/step - loss: 0.0917 - acc: 0.9731 - val_loss: 0.0893 - val_acc: 0.9739\n",
      "Epoch 74/400\n",
      "1750424/1750424 [==============================] - 19s 11us/step - loss: 0.0915 - acc: 0.9731 - val_loss: 0.0896 - val_acc: 0.9737\n",
      "Epoch 75/400\n",
      "1750424/1750424 [==============================] - 19s 11us/step - loss: 0.0916 - acc: 0.9731 - val_loss: 0.0891 - val_acc: 0.9742\n",
      "\n",
      "Epoch 00075: val_loss improved from 0.09014 to 0.08914, saving model to ../models/v6_detseparated//model1_EE.hd5\n",
      "Epoch 76/400\n",
      "1750424/1750424 [==============================] - 19s 11us/step - loss: 0.0915 - acc: 0.9732 - val_loss: 0.0906 - val_acc: 0.9723\n",
      "Epoch 77/400\n",
      "1750424/1750424 [==============================] - 19s 11us/step - loss: 0.0916 - acc: 0.9731 - val_loss: 0.0893 - val_acc: 0.9733\n",
      "Epoch 78/400\n",
      "1750424/1750424 [==============================] - 19s 11us/step - loss: 0.0914 - acc: 0.9732 - val_loss: 0.0891 - val_acc: 0.9735\n",
      "\n",
      "Epoch 00078: val_loss improved from 0.08914 to 0.08911, saving model to ../models/v6_detseparated//model1_EE.hd5\n",
      "Epoch 79/400\n",
      "1750424/1750424 [==============================] - 20s 11us/step - loss: 0.0914 - acc: 0.9732 - val_loss: 0.0890 - val_acc: 0.9736\n",
      "Epoch 80/400\n",
      "1750424/1750424 [==============================] - 19s 11us/step - loss: 0.0914 - acc: 0.9732 - val_loss: 0.0892 - val_acc: 0.9737\n",
      "Epoch 81/400\n",
      "1750424/1750424 [==============================] - 19s 11us/step - loss: 0.0912 - acc: 0.9732 - val_loss: 0.0892 - val_acc: 0.9734\n",
      "\n",
      "Epoch 00081: val_loss did not improve from 0.08911\n",
      "Epoch 82/400\n",
      "1750424/1750424 [==============================] - 20s 11us/step - loss: 0.0913 - acc: 0.9733 - val_loss: 0.0917 - val_acc: 0.9717\n",
      "Epoch 83/400\n",
      "1750424/1750424 [==============================] - 20s 11us/step - loss: 0.0912 - acc: 0.9732 - val_loss: 0.0905 - val_acc: 0.9723\n",
      "Epoch 84/400\n",
      "1750424/1750424 [==============================] - 19s 11us/step - loss: 0.0911 - acc: 0.9732 - val_loss: 0.0897 - val_acc: 0.9733\n",
      "\n",
      "Epoch 00084: val_loss did not improve from 0.08911\n",
      "Epoch 85/400\n",
      "1750424/1750424 [==============================] - 20s 11us/step - loss: 0.0911 - acc: 0.9732 - val_loss: 0.0906 - val_acc: 0.9731\n",
      "Epoch 86/400\n",
      "1750424/1750424 [==============================] - 19s 11us/step - loss: 0.0910 - acc: 0.9733 - val_loss: 0.0908 - val_acc: 0.9724\n",
      "Epoch 87/400\n",
      "1750424/1750424 [==============================] - 19s 11us/step - loss: 0.0910 - acc: 0.9733 - val_loss: 0.0893 - val_acc: 0.9744\n",
      "\n",
      "Epoch 00087: val_loss did not improve from 0.08911\n",
      "Epoch 88/400\n",
      "1750424/1750424 [==============================] - 19s 11us/step - loss: 0.0908 - acc: 0.9733 - val_loss: 0.0887 - val_acc: 0.9743\n",
      "Epoch 89/400\n",
      "1750424/1750424 [==============================] - 19s 11us/step - loss: 0.0908 - acc: 0.9732 - val_loss: 0.0888 - val_acc: 0.9735\n",
      "Epoch 90/400\n",
      "1750424/1750424 [==============================] - 19s 11us/step - loss: 0.0909 - acc: 0.9733 - val_loss: 0.0897 - val_acc: 0.9743\n",
      "\n",
      "Epoch 00090: val_loss did not improve from 0.08911\n",
      "Epoch 91/400\n",
      "1750424/1750424 [==============================] - 20s 11us/step - loss: 0.0908 - acc: 0.9733 - val_loss: 0.0907 - val_acc: 0.9745\n",
      "Epoch 92/400\n",
      "1750424/1750424 [==============================] - 20s 11us/step - loss: 0.0909 - acc: 0.9732 - val_loss: 0.0892 - val_acc: 0.9731\n",
      "Epoch 93/400\n",
      "1750424/1750424 [==============================] - 19s 11us/step - loss: 0.0907 - acc: 0.9733 - val_loss: 0.0885 - val_acc: 0.9745\n",
      "\n",
      "Epoch 00093: val_loss improved from 0.08911 to 0.08847, saving model to ../models/v6_detseparated//model1_EE.hd5\n",
      "Epoch 94/400\n",
      "1750424/1750424 [==============================] - 18s 10us/step - loss: 0.0906 - acc: 0.9734 - val_loss: 0.0887 - val_acc: 0.9736\n",
      "Epoch 95/400\n"
     ]
    },
    {
     "name": "stdout",
     "output_type": "stream",
     "text": [
      "1750424/1750424 [==============================] - 19s 11us/step - loss: 0.0906 - acc: 0.9733 - val_loss: 0.0895 - val_acc: 0.9724\n",
      "Epoch 96/400\n",
      "1750424/1750424 [==============================] - 16s 9us/step - loss: 0.0905 - acc: 0.9735 - val_loss: 0.0897 - val_acc: 0.9725\n",
      "\n",
      "Epoch 00096: val_loss did not improve from 0.08847\n",
      "Epoch 97/400\n",
      "1750424/1750424 [==============================] - 16s 9us/step - loss: 0.0906 - acc: 0.9734 - val_loss: 0.0891 - val_acc: 0.9748\n",
      "Epoch 98/400\n",
      "1750424/1750424 [==============================] - 16s 9us/step - loss: 0.0907 - acc: 0.9733 - val_loss: 0.0898 - val_acc: 0.9745\n",
      "Epoch 99/400\n",
      "1750424/1750424 [==============================] - 16s 9us/step - loss: 0.0904 - acc: 0.9734 - val_loss: 0.0883 - val_acc: 0.9737\n",
      "\n",
      "Epoch 00099: val_loss improved from 0.08847 to 0.08833, saving model to ../models/v6_detseparated//model1_EE.hd5\n",
      "Epoch 100/400\n",
      "1750424/1750424 [==============================] - 19s 11us/step - loss: 0.0905 - acc: 0.9734 - val_loss: 0.0904 - val_acc: 0.9746\n",
      "Epoch 101/400\n",
      "1750424/1750424 [==============================] - 18s 10us/step - loss: 0.0905 - acc: 0.9733 - val_loss: 0.0890 - val_acc: 0.9741\n",
      "Epoch 102/400\n",
      "1750424/1750424 [==============================] - 20s 12us/step - loss: 0.0904 - acc: 0.9733 - val_loss: 0.0883 - val_acc: 0.9735\n",
      "\n",
      "Epoch 00102: val_loss improved from 0.08833 to 0.08833, saving model to ../models/v6_detseparated//model1_EE.hd5\n",
      "Epoch 103/400\n",
      "1750424/1750424 [==============================] - 16s 9us/step - loss: 0.0904 - acc: 0.9734 - val_loss: 0.0896 - val_acc: 0.9733\n",
      "Epoch 104/400\n",
      "1750424/1750424 [==============================] - 20s 12us/step - loss: 0.0904 - acc: 0.9735 - val_loss: 0.0901 - val_acc: 0.9724\n",
      "Epoch 105/400\n",
      "1750424/1750424 [==============================] - 20s 11us/step - loss: 0.0903 - acc: 0.9734 - val_loss: 0.0894 - val_acc: 0.9737\n",
      "\n",
      "Epoch 00105: val_loss did not improve from 0.08833\n",
      "Epoch 106/400\n",
      "1750424/1750424 [==============================] - 19s 11us/step - loss: 0.0902 - acc: 0.9735 - val_loss: 0.0900 - val_acc: 0.9718\n",
      "Epoch 107/400\n",
      "1750424/1750424 [==============================] - 20s 11us/step - loss: 0.0903 - acc: 0.9734 - val_loss: 0.0879 - val_acc: 0.9743\n",
      "Epoch 108/400\n",
      "1750424/1750424 [==============================] - 20s 11us/step - loss: 0.0903 - acc: 0.9734 - val_loss: 0.0894 - val_acc: 0.9747\n",
      "\n",
      "Epoch 00108: val_loss did not improve from 0.08833\n",
      "Epoch 109/400\n",
      "1750424/1750424 [==============================] - 20s 11us/step - loss: 0.0902 - acc: 0.9734 - val_loss: 0.0883 - val_acc: 0.9740\n",
      "Epoch 110/400\n",
      "1750424/1750424 [==============================] - 20s 11us/step - loss: 0.0901 - acc: 0.9736 - val_loss: 0.0909 - val_acc: 0.9715\n",
      "Epoch 111/400\n",
      "1750424/1750424 [==============================] - 20s 11us/step - loss: 0.0902 - acc: 0.9734 - val_loss: 0.0885 - val_acc: 0.9740\n",
      "\n",
      "Epoch 00111: val_loss did not improve from 0.08833\n",
      "Epoch 112/400\n",
      "1750424/1750424 [==============================] - 20s 11us/step - loss: 0.0902 - acc: 0.9734 - val_loss: 0.0880 - val_acc: 0.9743\n",
      "Epoch 113/400\n",
      "1750424/1750424 [==============================] - 18s 10us/step - loss: 0.0901 - acc: 0.9735 - val_loss: 0.0895 - val_acc: 0.9740\n",
      "Epoch 114/400\n",
      "1750424/1750424 [==============================] - 17s 9us/step - loss: 0.0901 - acc: 0.9735 - val_loss: 0.0881 - val_acc: 0.9742\n",
      "\n",
      "Epoch 00114: val_loss improved from 0.08833 to 0.08809, saving model to ../models/v6_detseparated//model1_EE.hd5\n",
      "Epoch 115/400\n",
      "1750424/1750424 [==============================] - 16s 9us/step - loss: 0.0898 - acc: 0.9736 - val_loss: 0.0878 - val_acc: 0.9739\n",
      "Epoch 116/400\n",
      "1750424/1750424 [==============================] - 16s 9us/step - loss: 0.0901 - acc: 0.9734 - val_loss: 0.0882 - val_acc: 0.9745\n",
      "Epoch 117/400\n",
      "1750424/1750424 [==============================] - 20s 11us/step - loss: 0.0900 - acc: 0.9735 - val_loss: 0.0878 - val_acc: 0.9737\n",
      "\n",
      "Epoch 00117: val_loss improved from 0.08809 to 0.08784, saving model to ../models/v6_detseparated//model1_EE.hd5\n",
      "Epoch 118/400\n",
      "1750424/1750424 [==============================] - 20s 11us/step - loss: 0.0900 - acc: 0.9734 - val_loss: 0.0890 - val_acc: 0.9726\n",
      "Epoch 119/400\n",
      "1750424/1750424 [==============================] - 18s 10us/step - loss: 0.0897 - acc: 0.9735 - val_loss: 0.0891 - val_acc: 0.9726\n",
      "Epoch 120/400\n",
      "1750424/1750424 [==============================] - 17s 9us/step - loss: 0.0898 - acc: 0.9735 - val_loss: 0.0884 - val_acc: 0.9733\n",
      "\n",
      "Epoch 00120: val_loss did not improve from 0.08784\n",
      "Epoch 121/400\n",
      "1750424/1750424 [==============================] - 19s 11us/step - loss: 0.0897 - acc: 0.9735 - val_loss: 0.0880 - val_acc: 0.9745\n",
      "Epoch 122/400\n",
      "1750424/1750424 [==============================] - 18s 11us/step - loss: 0.0899 - acc: 0.9736 - val_loss: 0.0882 - val_acc: 0.9745\n",
      "Epoch 123/400\n",
      "1750424/1750424 [==============================] - 18s 10us/step - loss: 0.0896 - acc: 0.9736 - val_loss: 0.0889 - val_acc: 0.9725\n",
      "\n",
      "Epoch 00123: val_loss did not improve from 0.08784\n",
      "Epoch 124/400\n",
      "1750424/1750424 [==============================] - 17s 10us/step - loss: 0.0896 - acc: 0.9736 - val_loss: 0.0878 - val_acc: 0.9737\n",
      "Epoch 125/400\n",
      "1750424/1750424 [==============================] - 16s 9us/step - loss: 0.0897 - acc: 0.9736 - val_loss: 0.0888 - val_acc: 0.9726\n",
      "Epoch 126/400\n",
      "1750424/1750424 [==============================] - 16s 9us/step - loss: 0.0898 - acc: 0.9736 - val_loss: 0.0877 - val_acc: 0.9735\n",
      "\n",
      "Epoch 00126: val_loss improved from 0.08784 to 0.08767, saving model to ../models/v6_detseparated//model1_EE.hd5\n",
      "Epoch 127/400\n",
      "1750424/1750424 [==============================] - 16s 9us/step - loss: 0.0897 - acc: 0.9735 - val_loss: 0.0878 - val_acc: 0.9742\n",
      "Epoch 128/400\n",
      "1750424/1750424 [==============================] - 16s 9us/step - loss: 0.0896 - acc: 0.9735 - val_loss: 0.0877 - val_acc: 0.9739\n",
      "Epoch 129/400\n",
      "1750424/1750424 [==============================] - 16s 9us/step - loss: 0.0896 - acc: 0.9736 - val_loss: 0.0885 - val_acc: 0.9750\n",
      "\n",
      "Epoch 00129: val_loss did not improve from 0.08767\n",
      "Epoch 130/400\n",
      "1750424/1750424 [==============================] - 16s 9us/step - loss: 0.0896 - acc: 0.9736 - val_loss: 0.0886 - val_acc: 0.9726\n",
      "Epoch 131/400\n",
      "1750424/1750424 [==============================] - 16s 9us/step - loss: 0.0894 - acc: 0.9736 - val_loss: 0.0893 - val_acc: 0.9724\n",
      "Epoch 132/400\n",
      "1750424/1750424 [==============================] - 16s 9us/step - loss: 0.0896 - acc: 0.9736 - val_loss: 0.0874 - val_acc: 0.9744\n",
      "\n",
      "Epoch 00132: val_loss improved from 0.08767 to 0.08740, saving model to ../models/v6_detseparated//model1_EE.hd5\n",
      "Epoch 133/400\n",
      "1750424/1750424 [==============================] - 16s 9us/step - loss: 0.0894 - acc: 0.9736 - val_loss: 0.0885 - val_acc: 0.9749\n",
      "Epoch 134/400\n",
      "1750424/1750424 [==============================] - 16s 9us/step - loss: 0.0895 - acc: 0.9735 - val_loss: 0.0881 - val_acc: 0.9729\n",
      "Epoch 135/400\n",
      "1750424/1750424 [==============================] - 16s 9us/step - loss: 0.0895 - acc: 0.9735 - val_loss: 0.0885 - val_acc: 0.9747\n",
      "\n",
      "Epoch 00135: val_loss did not improve from 0.08740\n",
      "Epoch 136/400\n",
      "1750424/1750424 [==============================] - 16s 9us/step - loss: 0.0896 - acc: 0.9735 - val_loss: 0.0875 - val_acc: 0.9747\n",
      "Epoch 137/400\n",
      "1750424/1750424 [==============================] - 16s 9us/step - loss: 0.0893 - acc: 0.9736 - val_loss: 0.0875 - val_acc: 0.9744\n",
      "Epoch 138/400\n",
      "1750424/1750424 [==============================] - 17s 10us/step - loss: 0.0893 - acc: 0.9735 - val_loss: 0.0874 - val_acc: 0.9741\n",
      "\n",
      "Epoch 00138: val_loss did not improve from 0.08740\n",
      "Epoch 139/400\n",
      "1750424/1750424 [==============================] - 16s 9us/step - loss: 0.0893 - acc: 0.9736 - val_loss: 0.0888 - val_acc: 0.9728\n",
      "Epoch 140/400\n",
      "1750424/1750424 [==============================] - 16s 9us/step - loss: 0.0893 - acc: 0.9736 - val_loss: 0.0887 - val_acc: 0.9728\n",
      "Epoch 141/400\n",
      "1750424/1750424 [==============================] - 16s 9us/step - loss: 0.0894 - acc: 0.9737 - val_loss: 0.0880 - val_acc: 0.9735\n",
      "\n",
      "Epoch 00141: val_loss did not improve from 0.08740\n",
      "Epoch 142/400\n",
      "1750424/1750424 [==============================] - 17s 9us/step - loss: 0.0892 - acc: 0.9736 - val_loss: 0.0879 - val_acc: 0.9747\n",
      "Epoch 143/400\n",
      "1750424/1750424 [==============================] - 16s 9us/step - loss: 0.0893 - acc: 0.9736 - val_loss: 0.0878 - val_acc: 0.9743\n",
      "Epoch 144/400\n",
      "1750424/1750424 [==============================] - 16s 9us/step - loss: 0.0892 - acc: 0.9736 - val_loss: 0.0874 - val_acc: 0.9737\n",
      "\n",
      "Epoch 00144: val_loss improved from 0.08740 to 0.08739, saving model to ../models/v6_detseparated//model1_EE.hd5\n",
      "Epoch 145/400\n",
      "1750424/1750424 [==============================] - 16s 9us/step - loss: 0.0891 - acc: 0.9736 - val_loss: 0.0874 - val_acc: 0.9744\n",
      "Epoch 146/400\n",
      "1750424/1750424 [==============================] - 16s 9us/step - loss: 0.0892 - acc: 0.9736 - val_loss: 0.0876 - val_acc: 0.9749\n",
      "Epoch 147/400\n",
      "1750424/1750424 [==============================] - 16s 9us/step - loss: 0.0892 - acc: 0.9736 - val_loss: 0.0875 - val_acc: 0.9738\n",
      "\n",
      "Epoch 00147: val_loss did not improve from 0.08739\n",
      "Epoch 148/400\n",
      "1750424/1750424 [==============================] - 16s 9us/step - loss: 0.0894 - acc: 0.9736 - val_loss: 0.0899 - val_acc: 0.9750\n",
      "Epoch 149/400\n",
      "1750424/1750424 [==============================] - 16s 9us/step - loss: 0.0890 - acc: 0.9737 - val_loss: 0.0876 - val_acc: 0.9748\n",
      "Epoch 150/400\n",
      "1750424/1750424 [==============================] - 16s 9us/step - loss: 0.0892 - acc: 0.9737 - val_loss: 0.0872 - val_acc: 0.9739\n",
      "\n",
      "Epoch 00150: val_loss improved from 0.08739 to 0.08718, saving model to ../models/v6_detseparated//model1_EE.hd5\n",
      "Epoch 151/400\n",
      "1750424/1750424 [==============================] - 16s 9us/step - loss: 0.0891 - acc: 0.9737 - val_loss: 0.0882 - val_acc: 0.9727\n",
      "Epoch 152/400\n",
      "1750424/1750424 [==============================] - 16s 9us/step - loss: 0.0891 - acc: 0.9737 - val_loss: 0.0873 - val_acc: 0.9739\n",
      "Epoch 153/400\n",
      "1750424/1750424 [==============================] - 16s 9us/step - loss: 0.0890 - acc: 0.9737 - val_loss: 0.0908 - val_acc: 0.9748\n",
      "\n",
      "Epoch 00153: val_loss did not improve from 0.08718\n",
      "Epoch 154/400\n",
      "1750424/1750424 [==============================] - 16s 9us/step - loss: 0.0890 - acc: 0.9737 - val_loss: 0.0879 - val_acc: 0.9731\n",
      "Epoch 155/400\n",
      "1750424/1750424 [==============================] - 15s 8us/step - loss: 0.0890 - acc: 0.9737 - val_loss: 0.0889 - val_acc: 0.9745\n",
      "Epoch 156/400\n",
      "1750424/1750424 [==============================] - 16s 9us/step - loss: 0.0890 - acc: 0.9737 - val_loss: 0.0873 - val_acc: 0.9748\n",
      "\n",
      "Epoch 00156: val_loss did not improve from 0.08718\n",
      "Epoch 157/400\n",
      "1750424/1750424 [==============================] - 16s 9us/step - loss: 0.0891 - acc: 0.9737 - val_loss: 0.0873 - val_acc: 0.9735\n",
      "Epoch 158/400\n",
      "1750424/1750424 [==============================] - 16s 9us/step - loss: 0.0889 - acc: 0.9738 - val_loss: 0.0870 - val_acc: 0.9739\n",
      "Epoch 159/400\n",
      "1750424/1750424 [==============================] - 16s 9us/step - loss: 0.0889 - acc: 0.9737 - val_loss: 0.0881 - val_acc: 0.9747\n",
      "\n",
      "Epoch 00159: val_loss did not improve from 0.08718\n",
      "Epoch 160/400\n",
      "1750424/1750424 [==============================] - 16s 9us/step - loss: 0.0890 - acc: 0.9736 - val_loss: 0.0865 - val_acc: 0.9743\n",
      "Epoch 161/400\n",
      "1750424/1750424 [==============================] - 16s 9us/step - loss: 0.0889 - acc: 0.9737 - val_loss: 0.0876 - val_acc: 0.9731\n",
      "Epoch 162/400\n",
      "1750424/1750424 [==============================] - 16s 9us/step - loss: 0.0888 - acc: 0.9737 - val_loss: 0.0879 - val_acc: 0.9727\n",
      "\n",
      "Epoch 00162: val_loss did not improve from 0.08718\n",
      "Epoch 163/400\n",
      "1750424/1750424 [==============================] - 16s 9us/step - loss: 0.0888 - acc: 0.9737 - val_loss: 0.0873 - val_acc: 0.9734\n",
      "Epoch 164/400\n",
      "1750424/1750424 [==============================] - 16s 9us/step - loss: 0.0887 - acc: 0.9737 - val_loss: 0.0879 - val_acc: 0.9735\n",
      "Epoch 165/400\n",
      "1750424/1750424 [==============================] - 16s 9us/step - loss: 0.0887 - acc: 0.9738 - val_loss: 0.0883 - val_acc: 0.9725\n",
      "\n",
      "Epoch 00165: val_loss did not improve from 0.08718\n",
      "Epoch 166/400\n",
      "1750424/1750424 [==============================] - 16s 9us/step - loss: 0.0888 - acc: 0.9737 - val_loss: 0.0878 - val_acc: 0.9730\n",
      "Epoch 167/400\n",
      "1750424/1750424 [==============================] - 16s 9us/step - loss: 0.0888 - acc: 0.9738 - val_loss: 0.0883 - val_acc: 0.9724\n",
      "Epoch 168/400\n",
      "1750424/1750424 [==============================] - 16s 9us/step - loss: 0.0887 - acc: 0.9737 - val_loss: 0.0871 - val_acc: 0.9734\n",
      "\n",
      "Epoch 00168: val_loss improved from 0.08718 to 0.08709, saving model to ../models/v6_detseparated//model1_EE.hd5\n",
      "Epoch 169/400\n",
      "1750424/1750424 [==============================] - 16s 9us/step - loss: 0.0886 - acc: 0.9738 - val_loss: 0.0926 - val_acc: 0.9703\n",
      "Epoch 170/400\n",
      "1750424/1750424 [==============================] - 16s 9us/step - loss: 0.0887 - acc: 0.9737 - val_loss: 0.0874 - val_acc: 0.9738\n",
      "Epoch 171/400\n",
      "1750424/1750424 [==============================] - 17s 9us/step - loss: 0.0885 - acc: 0.9738 - val_loss: 0.0875 - val_acc: 0.9741\n",
      "\n",
      "Epoch 00171: val_loss did not improve from 0.08709\n",
      "Epoch 172/400\n",
      "1750424/1750424 [==============================] - 16s 9us/step - loss: 0.0887 - acc: 0.9737 - val_loss: 0.0878 - val_acc: 0.9727\n",
      "Epoch 173/400\n",
      "1750424/1750424 [==============================] - 17s 9us/step - loss: 0.0886 - acc: 0.9737 - val_loss: 0.0891 - val_acc: 0.9752\n",
      "Epoch 174/400\n",
      "1750424/1750424 [==============================] - 16s 9us/step - loss: 0.0887 - acc: 0.9738 - val_loss: 0.0883 - val_acc: 0.9726\n",
      "\n",
      "Epoch 00174: val_loss did not improve from 0.08709\n",
      "Epoch 175/400\n",
      "1750424/1750424 [==============================] - 16s 9us/step - loss: 0.0886 - acc: 0.9738 - val_loss: 0.0881 - val_acc: 0.9731\n",
      "Epoch 176/400\n",
      "1750424/1750424 [==============================] - 16s 9us/step - loss: 0.0886 - acc: 0.9738 - val_loss: 0.0879 - val_acc: 0.9733\n",
      "Epoch 177/400\n",
      "1750424/1750424 [==============================] - 16s 9us/step - loss: 0.0886 - acc: 0.9737 - val_loss: 0.0882 - val_acc: 0.9748\n",
      "\n",
      "Epoch 00177: val_loss did not improve from 0.08709\n",
      "Epoch 178/400\n",
      "1750424/1750424 [==============================] - 16s 9us/step - loss: 0.0885 - acc: 0.9738 - val_loss: 0.0878 - val_acc: 0.9740\n",
      "Epoch 179/400\n",
      "1750424/1750424 [==============================] - 16s 9us/step - loss: 0.0885 - acc: 0.9738 - val_loss: 0.0872 - val_acc: 0.9741\n",
      "Epoch 180/400\n",
      "1750424/1750424 [==============================] - 16s 9us/step - loss: 0.0886 - acc: 0.9738 - val_loss: 0.0876 - val_acc: 0.9730\n",
      "\n",
      "Epoch 00180: val_loss did not improve from 0.08709\n",
      "Epoch 00180: early stopping\n"
     ]
    }
   ],
   "source": [
    "auto_save = ModelCheckpoint(model_dir+ \"/model1_EB.hd5\", monitor='val_loss', \n",
    "                    verbose=1, save_best_only=True, save_weights_only=False, \n",
    "                    mode='auto', period=3)\n",
    "\n",
    "early_stop = EarlyStopping(monitor='val_loss', min_delta=0.0001, \n",
    "                            patience=20, verbose=1)\n",
    "\n",
    "\n",
    "#lr_scheduler = callbacks.LearningRateScheduler(step_decay, verbose=1)\n",
    "\n",
    "history = model.fit(\n",
    "            X_train, y_train,\n",
    "            sample_weight = w_train,\n",
    "            batch_size = 2048,\n",
    "            epochs=400,\n",
    "            shuffle=True,\n",
    "            validation_data = (X_val, y_val, w_val),\n",
    "            callbacks = [early_stop, auto_save, ] #lr_scheduler\n",
    "            )"
   ]
  },
  {
   "cell_type": "code",
   "execution_count": 62,
   "metadata": {
    "ExecuteTime": {
     "end_time": "2020-05-03T21:01:53.835957Z",
     "start_time": "2020-05-03T19:44:06.183365Z"
    },
    "scrolled": false
   },
   "outputs": [
    {
     "name": "stdout",
     "output_type": "stream",
     "text": [
      "Train on 2569904 samples, validate on 1101388 samples\n",
      "Epoch 1/400\n",
      "2569904/2569904 [==============================] - 31s 12us/step - loss: 0.3005 - acc: 0.9591 - val_loss: 0.1863 - val_acc: 0.9668\n",
      "Epoch 2/400\n",
      "2569904/2569904 [==============================] - 28s 11us/step - loss: 0.1834 - acc: 0.9666 - val_loss: 0.1666 - val_acc: 0.9697\n",
      "Epoch 3/400\n",
      "2569904/2569904 [==============================] - 29s 11us/step - loss: 0.1715 - acc: 0.9679 - val_loss: 0.1646 - val_acc: 0.9639\n",
      "\n",
      "Epoch 00003: val_loss improved from inf to 0.16461, saving model to ../models/v6_detseparated//model1_EE.hd5\n",
      "Epoch 4/400\n",
      "2569904/2569904 [==============================] - 30s 12us/step - loss: 0.1658 - acc: 0.9685 - val_loss: 0.1570 - val_acc: 0.9706\n",
      "Epoch 5/400\n",
      "2569904/2569904 [==============================] - 30s 12us/step - loss: 0.1625 - acc: 0.9689 - val_loss: 0.1549 - val_acc: 0.9733\n",
      "Epoch 6/400\n",
      "2569904/2569904 [==============================] - 30s 12us/step - loss: 0.1601 - acc: 0.9691 - val_loss: 0.1532 - val_acc: 0.9723\n",
      "\n",
      "Epoch 00006: val_loss improved from 0.16461 to 0.15321, saving model to ../models/v6_detseparated//model1_EE.hd5\n",
      "Epoch 7/400\n",
      "2569904/2569904 [==============================] - 30s 12us/step - loss: 0.1579 - acc: 0.9694 - val_loss: 0.1511 - val_acc: 0.9738\n",
      "Epoch 8/400\n",
      "2569904/2569904 [==============================] - 31s 12us/step - loss: 0.1564 - acc: 0.9696 - val_loss: 0.1503 - val_acc: 0.9692\n",
      "Epoch 9/400\n",
      "2569904/2569904 [==============================] - 30s 12us/step - loss: 0.1554 - acc: 0.9698 - val_loss: 0.1504 - val_acc: 0.9712\n",
      "\n",
      "Epoch 00009: val_loss improved from 0.15321 to 0.15036, saving model to ../models/v6_detseparated//model1_EE.hd5\n",
      "Epoch 10/400\n",
      "2569904/2569904 [==============================] - 30s 12us/step - loss: 0.1543 - acc: 0.9699 - val_loss: 0.1478 - val_acc: 0.9716\n",
      "Epoch 11/400\n",
      "2569904/2569904 [==============================] - 31s 12us/step - loss: 0.1536 - acc: 0.9700 - val_loss: 0.1468 - val_acc: 0.9712\n",
      "Epoch 12/400\n",
      "2569904/2569904 [==============================] - 30s 12us/step - loss: 0.1529 - acc: 0.9702 - val_loss: 0.1471 - val_acc: 0.9711\n",
      "\n",
      "Epoch 00012: val_loss improved from 0.15036 to 0.14710, saving model to ../models/v6_detseparated//model1_EE.hd5\n",
      "Epoch 13/400\n",
      "2569904/2569904 [==============================] - 30s 12us/step - loss: 0.1522 - acc: 0.9701 - val_loss: 0.1468 - val_acc: 0.9724\n",
      "Epoch 14/400\n",
      "2569904/2569904 [==============================] - 30s 12us/step - loss: 0.1517 - acc: 0.9703 - val_loss: 0.1461 - val_acc: 0.9740\n",
      "Epoch 15/400\n",
      "2569904/2569904 [==============================] - 30s 12us/step - loss: 0.1505 - acc: 0.9705 - val_loss: 0.1470 - val_acc: 0.9668\n",
      "\n",
      "Epoch 00015: val_loss improved from 0.14710 to 0.14701, saving model to ../models/v6_detseparated//model1_EE.hd5\n",
      "Epoch 16/400\n",
      "2569904/2569904 [==============================] - 31s 12us/step - loss: 0.1502 - acc: 0.9705 - val_loss: 0.1461 - val_acc: 0.9747\n",
      "Epoch 17/400\n",
      "2569904/2569904 [==============================] - 30s 12us/step - loss: 0.1501 - acc: 0.9705 - val_loss: 0.1445 - val_acc: 0.9728\n",
      "Epoch 18/400\n",
      "2569904/2569904 [==============================] - 30s 12us/step - loss: 0.1493 - acc: 0.9705 - val_loss: 0.1441 - val_acc: 0.9734\n",
      "\n",
      "Epoch 00018: val_loss improved from 0.14701 to 0.14406, saving model to ../models/v6_detseparated//model1_EE.hd5\n",
      "Epoch 19/400\n",
      "2569904/2569904 [==============================] - 30s 12us/step - loss: 0.1491 - acc: 0.9706 - val_loss: 0.1522 - val_acc: 0.9788\n",
      "Epoch 20/400\n",
      "2569904/2569904 [==============================] - 30s 12us/step - loss: 0.1487 - acc: 0.9708 - val_loss: 0.1438 - val_acc: 0.9712\n",
      "Epoch 21/400\n",
      "2569904/2569904 [==============================] - 31s 12us/step - loss: 0.1482 - acc: 0.9709 - val_loss: 0.1438 - val_acc: 0.9739\n",
      "\n",
      "Epoch 00021: val_loss improved from 0.14406 to 0.14377, saving model to ../models/v6_detseparated//model1_EE.hd5\n",
      "Epoch 22/400\n",
      "2569904/2569904 [==============================] - 30s 12us/step - loss: 0.1481 - acc: 0.9707 - val_loss: 0.1438 - val_acc: 0.9725\n",
      "Epoch 23/400\n",
      "2569904/2569904 [==============================] - 31s 12us/step - loss: 0.1476 - acc: 0.9708 - val_loss: 0.1453 - val_acc: 0.9662\n",
      "Epoch 24/400\n",
      "2569904/2569904 [==============================] - 30s 12us/step - loss: 0.1476 - acc: 0.9709 - val_loss: 0.1437 - val_acc: 0.9750\n",
      "\n",
      "Epoch 00024: val_loss improved from 0.14377 to 0.14367, saving model to ../models/v6_detseparated//model1_EE.hd5\n",
      "Epoch 25/400\n",
      "2569904/2569904 [==============================] - 31s 12us/step - loss: 0.1472 - acc: 0.9709 - val_loss: 0.1423 - val_acc: 0.9728\n",
      "Epoch 26/400\n",
      "2569904/2569904 [==============================] - 30s 12us/step - loss: 0.1468 - acc: 0.9710 - val_loss: 0.1425 - val_acc: 0.9701\n",
      "Epoch 27/400\n",
      "2569904/2569904 [==============================] - 30s 12us/step - loss: 0.1468 - acc: 0.9709 - val_loss: 0.1448 - val_acc: 0.9772\n",
      "\n",
      "Epoch 00027: val_loss did not improve from 0.14367\n",
      "Epoch 28/400\n",
      "2569904/2569904 [==============================] - 29s 11us/step - loss: 0.1466 - acc: 0.9710 - val_loss: 0.1421 - val_acc: 0.9698\n",
      "Epoch 29/400\n",
      "2569904/2569904 [==============================] - 30s 12us/step - loss: 0.1460 - acc: 0.9710 - val_loss: 0.1418 - val_acc: 0.9705\n",
      "Epoch 30/400\n",
      "2569904/2569904 [==============================] - 30s 12us/step - loss: 0.1460 - acc: 0.9710 - val_loss: 0.1446 - val_acc: 0.9759\n",
      "\n",
      "Epoch 00030: val_loss did not improve from 0.14367\n",
      "Epoch 31/400\n",
      "2569904/2569904 [==============================] - 29s 11us/step - loss: 0.1457 - acc: 0.9711 - val_loss: 0.1416 - val_acc: 0.9723\n",
      "Epoch 32/400\n",
      "2569904/2569904 [==============================] - 24s 9us/step - loss: 0.1457 - acc: 0.9711 - val_loss: 0.1410 - val_acc: 0.9706\n",
      "Epoch 33/400\n",
      "2569904/2569904 [==============================] - 23s 9us/step - loss: 0.1454 - acc: 0.9712 - val_loss: 0.1426 - val_acc: 0.9695\n",
      "\n",
      "Epoch 00033: val_loss improved from 0.14367 to 0.14265, saving model to ../models/v6_detseparated//model1_EE.hd5\n",
      "Epoch 34/400\n",
      "2569904/2569904 [==============================] - 24s 10us/step - loss: 0.1454 - acc: 0.9712 - val_loss: 0.1411 - val_acc: 0.9702\n",
      "Epoch 35/400\n",
      "2569904/2569904 [==============================] - 24s 9us/step - loss: 0.1451 - acc: 0.9712 - val_loss: 0.1425 - val_acc: 0.9755\n",
      "Epoch 36/400\n",
      "2569904/2569904 [==============================] - 24s 9us/step - loss: 0.1448 - acc: 0.9712 - val_loss: 0.1412 - val_acc: 0.9703\n",
      "\n",
      "Epoch 00036: val_loss improved from 0.14265 to 0.14124, saving model to ../models/v6_detseparated//model1_EE.hd5\n",
      "Epoch 37/400\n",
      "2569904/2569904 [==============================] - 24s 9us/step - loss: 0.1446 - acc: 0.9714 - val_loss: 0.1403 - val_acc: 0.9728\n",
      "Epoch 38/400\n",
      "2569904/2569904 [==============================] - 25s 10us/step - loss: 0.1446 - acc: 0.9714 - val_loss: 0.1406 - val_acc: 0.9710\n",
      "Epoch 39/400\n",
      "2569904/2569904 [==============================] - 25s 10us/step - loss: 0.1445 - acc: 0.9713 - val_loss: 0.1400 - val_acc: 0.9721\n",
      "\n",
      "Epoch 00039: val_loss improved from 0.14124 to 0.14003, saving model to ../models/v6_detseparated//model1_EE.hd5\n",
      "Epoch 40/400\n",
      "2569904/2569904 [==============================] - 25s 10us/step - loss: 0.1442 - acc: 0.9714 - val_loss: 0.1415 - val_acc: 0.9749\n",
      "Epoch 41/400\n",
      "2569904/2569904 [==============================] - 25s 10us/step - loss: 0.1443 - acc: 0.9713 - val_loss: 0.1395 - val_acc: 0.9723\n",
      "Epoch 42/400\n",
      "2569904/2569904 [==============================] - 24s 10us/step - loss: 0.1437 - acc: 0.9714 - val_loss: 0.1400 - val_acc: 0.9690\n",
      "\n",
      "Epoch 00042: val_loss did not improve from 0.14003\n",
      "Epoch 43/400\n",
      "2569904/2569904 [==============================] - 25s 10us/step - loss: 0.1436 - acc: 0.9715 - val_loss: 0.1406 - val_acc: 0.9690\n",
      "Epoch 44/400\n",
      "2569904/2569904 [==============================] - 25s 10us/step - loss: 0.1435 - acc: 0.9715 - val_loss: 0.1404 - val_acc: 0.9696\n",
      "Epoch 45/400\n",
      "2569904/2569904 [==============================] - 24s 9us/step - loss: 0.1436 - acc: 0.9716 - val_loss: 0.1491 - val_acc: 0.9796\n",
      "\n",
      "Epoch 00045: val_loss did not improve from 0.14003\n",
      "Epoch 46/400\n",
      "2569904/2569904 [==============================] - 24s 9us/step - loss: 0.1431 - acc: 0.9716 - val_loss: 0.1430 - val_acc: 0.9657\n",
      "Epoch 47/400\n",
      "2569904/2569904 [==============================] - 24s 9us/step - loss: 0.1433 - acc: 0.9715 - val_loss: 0.1390 - val_acc: 0.9725\n",
      "Epoch 48/400\n",
      "2569904/2569904 [==============================] - 24s 9us/step - loss: 0.1431 - acc: 0.9715 - val_loss: 0.1408 - val_acc: 0.9685\n",
      "\n",
      "Epoch 00048: val_loss did not improve from 0.14003\n",
      "Epoch 49/400\n",
      "2569904/2569904 [==============================] - 24s 9us/step - loss: 0.1431 - acc: 0.9716 - val_loss: 0.1396 - val_acc: 0.9715\n",
      "Epoch 50/400\n",
      "2569904/2569904 [==============================] - 24s 9us/step - loss: 0.1429 - acc: 0.9716 - val_loss: 0.1393 - val_acc: 0.9749\n",
      "Epoch 51/400\n",
      "2569904/2569904 [==============================] - 24s 9us/step - loss: 0.1429 - acc: 0.9716 - val_loss: 0.1414 - val_acc: 0.9770\n",
      "\n",
      "Epoch 00051: val_loss did not improve from 0.14003\n",
      "Epoch 52/400\n",
      "2569904/2569904 [==============================] - 24s 9us/step - loss: 0.1425 - acc: 0.9715 - val_loss: 0.1384 - val_acc: 0.9722\n",
      "Epoch 53/400\n",
      "2569904/2569904 [==============================] - 25s 10us/step - loss: 0.1424 - acc: 0.9717 - val_loss: 0.1388 - val_acc: 0.9742\n",
      "Epoch 54/400\n",
      "2569904/2569904 [==============================] - 24s 9us/step - loss: 0.1424 - acc: 0.9716 - val_loss: 0.1388 - val_acc: 0.9739\n",
      "\n",
      "Epoch 00054: val_loss improved from 0.14003 to 0.13875, saving model to ../models/v6_detseparated//model1_EE.hd5\n",
      "Epoch 55/400\n",
      "2569904/2569904 [==============================] - 25s 10us/step - loss: 0.1422 - acc: 0.9717 - val_loss: 0.1401 - val_acc: 0.9703\n",
      "Epoch 56/400\n",
      "2569904/2569904 [==============================] - 24s 9us/step - loss: 0.1421 - acc: 0.9717 - val_loss: 0.1401 - val_acc: 0.9677\n",
      "Epoch 57/400\n",
      "2569904/2569904 [==============================] - 24s 9us/step - loss: 0.1421 - acc: 0.9718 - val_loss: 0.1382 - val_acc: 0.9728\n",
      "\n",
      "Epoch 00057: val_loss improved from 0.13875 to 0.13818, saving model to ../models/v6_detseparated//model1_EE.hd5\n",
      "Epoch 58/400\n",
      "2569904/2569904 [==============================] - 24s 9us/step - loss: 0.1419 - acc: 0.9717 - val_loss: 0.1394 - val_acc: 0.9740\n",
      "Epoch 59/400\n",
      "2569904/2569904 [==============================] - 24s 9us/step - loss: 0.1421 - acc: 0.9717 - val_loss: 0.1414 - val_acc: 0.9688\n",
      "Epoch 60/400\n",
      "2569904/2569904 [==============================] - 24s 10us/step - loss: 0.1419 - acc: 0.9718 - val_loss: 0.1388 - val_acc: 0.9756\n",
      "\n",
      "Epoch 00060: val_loss did not improve from 0.13818\n",
      "Epoch 61/400\n",
      "2569904/2569904 [==============================] - 24s 10us/step - loss: 0.1418 - acc: 0.9717 - val_loss: 0.1387 - val_acc: 0.9711\n",
      "Epoch 62/400\n",
      "2569904/2569904 [==============================] - 25s 10us/step - loss: 0.1417 - acc: 0.9717 - val_loss: 0.1434 - val_acc: 0.9782\n",
      "Epoch 63/400\n",
      "2569904/2569904 [==============================] - 25s 10us/step - loss: 0.1417 - acc: 0.9719 - val_loss: 0.1386 - val_acc: 0.9709\n",
      "\n",
      "Epoch 00063: val_loss did not improve from 0.13818\n",
      "Epoch 64/400\n",
      "2569904/2569904 [==============================] - 25s 10us/step - loss: 0.1414 - acc: 0.9718 - val_loss: 0.1377 - val_acc: 0.9730\n",
      "Epoch 65/400\n",
      "2569904/2569904 [==============================] - 24s 9us/step - loss: 0.1414 - acc: 0.9717 - val_loss: 0.1374 - val_acc: 0.9727\n",
      "Epoch 66/400\n",
      "2569904/2569904 [==============================] - 25s 10us/step - loss: 0.1415 - acc: 0.9717 - val_loss: 0.1381 - val_acc: 0.9723\n",
      "\n",
      "Epoch 00066: val_loss improved from 0.13818 to 0.13807, saving model to ../models/v6_detseparated//model1_EE.hd5\n",
      "Epoch 67/400\n",
      "2569904/2569904 [==============================] - 24s 9us/step - loss: 0.1411 - acc: 0.9719 - val_loss: 0.1380 - val_acc: 0.9717\n",
      "Epoch 68/400\n",
      "2569904/2569904 [==============================] - 25s 10us/step - loss: 0.1412 - acc: 0.9719 - val_loss: 0.1396 - val_acc: 0.9695\n",
      "Epoch 69/400\n",
      "2569904/2569904 [==============================] - 22s 9us/step - loss: 0.1412 - acc: 0.9719 - val_loss: 0.1378 - val_acc: 0.9723\n",
      "\n",
      "Epoch 00069: val_loss improved from 0.13807 to 0.13779, saving model to ../models/v6_detseparated//model1_EE.hd5\n",
      "Epoch 70/400\n",
      "2569904/2569904 [==============================] - 24s 9us/step - loss: 0.1410 - acc: 0.9719 - val_loss: 0.1376 - val_acc: 0.9712\n",
      "Epoch 71/400\n",
      "2569904/2569904 [==============================] - 25s 10us/step - loss: 0.1412 - acc: 0.9719 - val_loss: 0.1381 - val_acc: 0.9695\n",
      "Epoch 72/400\n",
      "2569904/2569904 [==============================] - 25s 10us/step - loss: 0.1409 - acc: 0.9720 - val_loss: 0.1382 - val_acc: 0.9710\n",
      "\n",
      "Epoch 00072: val_loss did not improve from 0.13779\n",
      "Epoch 73/400\n",
      "2569904/2569904 [==============================] - 25s 10us/step - loss: 0.1409 - acc: 0.9719 - val_loss: 0.1385 - val_acc: 0.9752\n",
      "Epoch 74/400\n",
      "2569904/2569904 [==============================] - 24s 9us/step - loss: 0.1409 - acc: 0.9720 - val_loss: 0.1380 - val_acc: 0.9747\n",
      "Epoch 75/400\n",
      "2569904/2569904 [==============================] - 25s 10us/step - loss: 0.1406 - acc: 0.9720 - val_loss: 0.1376 - val_acc: 0.9710\n",
      "\n",
      "Epoch 00075: val_loss improved from 0.13779 to 0.13760, saving model to ../models/v6_detseparated//model1_EE.hd5\n",
      "Epoch 76/400\n",
      "2569904/2569904 [==============================] - 25s 10us/step - loss: 0.1408 - acc: 0.9720 - val_loss: 0.1375 - val_acc: 0.9710\n",
      "Epoch 77/400\n",
      "2569904/2569904 [==============================] - 24s 9us/step - loss: 0.1405 - acc: 0.9719 - val_loss: 0.1382 - val_acc: 0.9696\n",
      "Epoch 78/400\n",
      "2569904/2569904 [==============================] - 25s 10us/step - loss: 0.1406 - acc: 0.9719 - val_loss: 0.1372 - val_acc: 0.9711\n",
      "\n",
      "Epoch 00078: val_loss improved from 0.13760 to 0.13717, saving model to ../models/v6_detseparated//model1_EE.hd5\n",
      "Epoch 79/400\n",
      "2569904/2569904 [==============================] - 24s 10us/step - loss: 0.1404 - acc: 0.9719 - val_loss: 0.1369 - val_acc: 0.9731\n",
      "Epoch 80/400\n",
      "2569904/2569904 [==============================] - 25s 10us/step - loss: 0.1406 - acc: 0.9720 - val_loss: 0.1379 - val_acc: 0.9756\n",
      "Epoch 81/400\n",
      "2569904/2569904 [==============================] - 24s 9us/step - loss: 0.1402 - acc: 0.9721 - val_loss: 0.1365 - val_acc: 0.9732\n",
      "\n",
      "Epoch 00081: val_loss improved from 0.13717 to 0.13651, saving model to ../models/v6_detseparated//model1_EE.hd5\n",
      "Epoch 82/400\n",
      "2569904/2569904 [==============================] - 24s 9us/step - loss: 0.1406 - acc: 0.9720 - val_loss: 0.1378 - val_acc: 0.9698\n",
      "Epoch 83/400\n",
      "2569904/2569904 [==============================] - 24s 9us/step - loss: 0.1404 - acc: 0.9720 - val_loss: 0.1366 - val_acc: 0.9726\n",
      "Epoch 84/400\n",
      "2569904/2569904 [==============================] - 24s 9us/step - loss: 0.1403 - acc: 0.9720 - val_loss: 0.1374 - val_acc: 0.9758\n",
      "\n",
      "Epoch 00084: val_loss did not improve from 0.13651\n",
      "Epoch 85/400\n",
      "2569904/2569904 [==============================] - 23s 9us/step - loss: 0.1401 - acc: 0.9721 - val_loss: 0.1377 - val_acc: 0.9698\n",
      "Epoch 86/400\n",
      "2569904/2569904 [==============================] - 25s 10us/step - loss: 0.1401 - acc: 0.9720 - val_loss: 0.1392 - val_acc: 0.9671\n",
      "Epoch 87/400\n",
      "2569904/2569904 [==============================] - 26s 10us/step - loss: 0.1402 - acc: 0.9722 - val_loss: 0.1400 - val_acc: 0.9678\n",
      "\n",
      "Epoch 00087: val_loss did not improve from 0.13651\n",
      "Epoch 88/400\n",
      "2569904/2569904 [==============================] - 30s 12us/step - loss: 0.1399 - acc: 0.9720 - val_loss: 0.1382 - val_acc: 0.9697\n",
      "Epoch 89/400\n",
      "2569904/2569904 [==============================] - 30s 12us/step - loss: 0.1399 - acc: 0.9721 - val_loss: 0.1394 - val_acc: 0.9769\n",
      "Epoch 90/400\n",
      "2569904/2569904 [==============================] - 30s 12us/step - loss: 0.1398 - acc: 0.9721 - val_loss: 0.1372 - val_acc: 0.9730\n",
      "\n",
      "Epoch 00090: val_loss did not improve from 0.13651\n",
      "Epoch 91/400\n",
      "2569904/2569904 [==============================] - 30s 12us/step - loss: 0.1395 - acc: 0.9721 - val_loss: 0.1368 - val_acc: 0.9736\n",
      "Epoch 92/400\n",
      "2569904/2569904 [==============================] - 31s 12us/step - loss: 0.1398 - acc: 0.9721 - val_loss: 0.1427 - val_acc: 0.9640\n",
      "Epoch 93/400\n",
      "2569904/2569904 [==============================] - 29s 11us/step - loss: 0.1395 - acc: 0.9722 - val_loss: 0.1378 - val_acc: 0.9730\n",
      "\n",
      "Epoch 00093: val_loss did not improve from 0.13651\n",
      "Epoch 94/400\n",
      "2569904/2569904 [==============================] - 31s 12us/step - loss: 0.1397 - acc: 0.9721 - val_loss: 0.1361 - val_acc: 0.9735\n",
      "Epoch 95/400\n"
     ]
    },
    {
     "name": "stdout",
     "output_type": "stream",
     "text": [
      "2569904/2569904 [==============================] - 30s 12us/step - loss: 0.1397 - acc: 0.9721 - val_loss: 0.1376 - val_acc: 0.9743\n",
      "Epoch 96/400\n",
      "2569904/2569904 [==============================] - 31s 12us/step - loss: 0.1395 - acc: 0.9721 - val_loss: 0.1363 - val_acc: 0.9731\n",
      "\n",
      "Epoch 00096: val_loss improved from 0.13651 to 0.13630, saving model to ../models/v6_detseparated//model1_EE.hd5\n",
      "Epoch 97/400\n",
      "2569904/2569904 [==============================] - 30s 12us/step - loss: 0.1392 - acc: 0.9721 - val_loss: 0.1372 - val_acc: 0.9758\n",
      "Epoch 98/400\n",
      "2569904/2569904 [==============================] - 30s 12us/step - loss: 0.1395 - acc: 0.9722 - val_loss: 0.1370 - val_acc: 0.9703\n",
      "Epoch 99/400\n",
      "2569904/2569904 [==============================] - 30s 12us/step - loss: 0.1394 - acc: 0.9722 - val_loss: 0.1363 - val_acc: 0.9726\n",
      "\n",
      "Epoch 00099: val_loss did not improve from 0.13630\n",
      "Epoch 100/400\n",
      "2569904/2569904 [==============================] - 30s 12us/step - loss: 0.1395 - acc: 0.9722 - val_loss: 0.1367 - val_acc: 0.9724\n",
      "Epoch 101/400\n",
      "2569904/2569904 [==============================] - 30s 12us/step - loss: 0.1392 - acc: 0.9721 - val_loss: 0.1362 - val_acc: 0.9738\n",
      "Epoch 102/400\n",
      "2569904/2569904 [==============================] - 30s 12us/step - loss: 0.1393 - acc: 0.9721 - val_loss: 0.1375 - val_acc: 0.9697\n",
      "\n",
      "Epoch 00102: val_loss did not improve from 0.13630\n",
      "Epoch 103/400\n",
      "2569904/2569904 [==============================] - 26s 10us/step - loss: 0.1394 - acc: 0.9721 - val_loss: 0.1365 - val_acc: 0.9719\n",
      "Epoch 104/400\n",
      "2569904/2569904 [==============================] - 31s 12us/step - loss: 0.1392 - acc: 0.9723 - val_loss: 0.1369 - val_acc: 0.9753\n",
      "Epoch 105/400\n",
      "2569904/2569904 [==============================] - 29s 11us/step - loss: 0.1390 - acc: 0.9723 - val_loss: 0.1379 - val_acc: 0.9749\n",
      "\n",
      "Epoch 00105: val_loss did not improve from 0.13630\n",
      "Epoch 106/400\n",
      "2569904/2569904 [==============================] - 31s 12us/step - loss: 0.1390 - acc: 0.9723 - val_loss: 0.1362 - val_acc: 0.9749\n",
      "Epoch 107/400\n",
      "2569904/2569904 [==============================] - 27s 11us/step - loss: 0.1389 - acc: 0.9723 - val_loss: 0.1360 - val_acc: 0.9739\n",
      "Epoch 108/400\n",
      "2569904/2569904 [==============================] - 30s 12us/step - loss: 0.1391 - acc: 0.9721 - val_loss: 0.1370 - val_acc: 0.9695\n",
      "\n",
      "Epoch 00108: val_loss did not improve from 0.13630\n",
      "Epoch 109/400\n",
      "2569904/2569904 [==============================] - 30s 12us/step - loss: 0.1388 - acc: 0.9723 - val_loss: 0.1373 - val_acc: 0.9742\n",
      "Epoch 110/400\n",
      "2569904/2569904 [==============================] - 29s 11us/step - loss: 0.1389 - acc: 0.9723 - val_loss: 0.1361 - val_acc: 0.9731\n",
      "Epoch 111/400\n",
      "2569904/2569904 [==============================] - 30s 12us/step - loss: 0.1390 - acc: 0.9722 - val_loss: 0.1392 - val_acc: 0.9774\n",
      "\n",
      "Epoch 00111: val_loss did not improve from 0.13630\n",
      "Epoch 112/400\n",
      "2569904/2569904 [==============================] - 30s 12us/step - loss: 0.1388 - acc: 0.9723 - val_loss: 0.1369 - val_acc: 0.9757\n",
      "Epoch 113/400\n",
      "2569904/2569904 [==============================] - 29s 11us/step - loss: 0.1388 - acc: 0.9723 - val_loss: 0.1359 - val_acc: 0.9725\n",
      "Epoch 114/400\n",
      "2569904/2569904 [==============================] - 30s 12us/step - loss: 0.1388 - acc: 0.9723 - val_loss: 0.1367 - val_acc: 0.9747\n",
      "\n",
      "Epoch 00114: val_loss did not improve from 0.13630\n",
      "Epoch 115/400\n",
      "2569904/2569904 [==============================] - 30s 12us/step - loss: 0.1387 - acc: 0.9723 - val_loss: 0.1364 - val_acc: 0.9747\n",
      "Epoch 116/400\n",
      "2569904/2569904 [==============================] - 31s 12us/step - loss: 0.1386 - acc: 0.9723 - val_loss: 0.1373 - val_acc: 0.9691\n",
      "Epoch 117/400\n",
      "2569904/2569904 [==============================] - 30s 12us/step - loss: 0.1385 - acc: 0.9722 - val_loss: 0.1371 - val_acc: 0.9759\n",
      "\n",
      "Epoch 00117: val_loss did not improve from 0.13630\n",
      "Epoch 118/400\n",
      "2569904/2569904 [==============================] - 30s 12us/step - loss: 0.1385 - acc: 0.9722 - val_loss: 0.1355 - val_acc: 0.9735\n",
      "Epoch 119/400\n",
      "2569904/2569904 [==============================] - 30s 12us/step - loss: 0.1385 - acc: 0.9723 - val_loss: 0.1354 - val_acc: 0.9728\n",
      "Epoch 120/400\n",
      "2569904/2569904 [==============================] - 31s 12us/step - loss: 0.1382 - acc: 0.9723 - val_loss: 0.1365 - val_acc: 0.9696\n",
      "\n",
      "Epoch 00120: val_loss did not improve from 0.13630\n",
      "Epoch 121/400\n",
      "2569904/2569904 [==============================] - 30s 12us/step - loss: 0.1381 - acc: 0.9724 - val_loss: 0.1374 - val_acc: 0.9762\n",
      "Epoch 122/400\n",
      "2569904/2569904 [==============================] - 30s 12us/step - loss: 0.1385 - acc: 0.9724 - val_loss: 0.1367 - val_acc: 0.9751\n",
      "Epoch 123/400\n",
      "2569904/2569904 [==============================] - 30s 12us/step - loss: 0.1382 - acc: 0.9724 - val_loss: 0.1361 - val_acc: 0.9747\n",
      "\n",
      "Epoch 00123: val_loss improved from 0.13630 to 0.13608, saving model to ../models/v6_detseparated//model1_EE.hd5\n",
      "Epoch 124/400\n",
      "2569904/2569904 [==============================] - 31s 12us/step - loss: 0.1383 - acc: 0.9724 - val_loss: 0.1375 - val_acc: 0.9684\n",
      "Epoch 125/400\n",
      "2569904/2569904 [==============================] - 30s 12us/step - loss: 0.1384 - acc: 0.9723 - val_loss: 0.1365 - val_acc: 0.9755\n",
      "Epoch 126/400\n",
      "2569904/2569904 [==============================] - 30s 12us/step - loss: 0.1383 - acc: 0.9725 - val_loss: 0.1354 - val_acc: 0.9723\n",
      "\n",
      "Epoch 00126: val_loss improved from 0.13608 to 0.13536, saving model to ../models/v6_detseparated//model1_EE.hd5\n",
      "Epoch 127/400\n",
      "2569904/2569904 [==============================] - 30s 12us/step - loss: 0.1381 - acc: 0.9725 - val_loss: 0.1363 - val_acc: 0.9713\n",
      "Epoch 128/400\n",
      "2569904/2569904 [==============================] - 30s 12us/step - loss: 0.1383 - acc: 0.9724 - val_loss: 0.1361 - val_acc: 0.9735\n",
      "Epoch 129/400\n",
      "2569904/2569904 [==============================] - 30s 12us/step - loss: 0.1384 - acc: 0.9724 - val_loss: 0.1358 - val_acc: 0.9707\n",
      "\n",
      "Epoch 00129: val_loss did not improve from 0.13536\n",
      "Epoch 130/400\n",
      "2569904/2569904 [==============================] - 31s 12us/step - loss: 0.1380 - acc: 0.9724 - val_loss: 0.1357 - val_acc: 0.9751\n",
      "Epoch 131/400\n",
      "2569904/2569904 [==============================] - 30s 12us/step - loss: 0.1382 - acc: 0.9724 - val_loss: 0.1360 - val_acc: 0.9711\n",
      "Epoch 132/400\n",
      "2569904/2569904 [==============================] - 31s 12us/step - loss: 0.1379 - acc: 0.9724 - val_loss: 0.1363 - val_acc: 0.9757\n",
      "\n",
      "Epoch 00132: val_loss did not improve from 0.13536\n",
      "Epoch 133/400\n",
      "2569904/2569904 [==============================] - 25s 10us/step - loss: 0.1378 - acc: 0.9725 - val_loss: 0.1351 - val_acc: 0.9738\n",
      "Epoch 134/400\n",
      "2569904/2569904 [==============================] - 30s 12us/step - loss: 0.1380 - acc: 0.9725 - val_loss: 0.1350 - val_acc: 0.9723\n",
      "Epoch 135/400\n",
      "2569904/2569904 [==============================] - 29s 11us/step - loss: 0.1379 - acc: 0.9725 - val_loss: 0.1375 - val_acc: 0.9758\n",
      "\n",
      "Epoch 00135: val_loss did not improve from 0.13536\n",
      "Epoch 136/400\n",
      "2569904/2569904 [==============================] - 31s 12us/step - loss: 0.1379 - acc: 0.9723 - val_loss: 0.1352 - val_acc: 0.9714\n",
      "Epoch 137/400\n",
      "2569904/2569904 [==============================] - 30s 12us/step - loss: 0.1378 - acc: 0.9724 - val_loss: 0.1352 - val_acc: 0.9730\n",
      "Epoch 138/400\n",
      "2569904/2569904 [==============================] - 31s 12us/step - loss: 0.1378 - acc: 0.9724 - val_loss: 0.1390 - val_acc: 0.9655\n",
      "\n",
      "Epoch 00138: val_loss did not improve from 0.13536\n",
      "Epoch 139/400\n",
      "2569904/2569904 [==============================] - 30s 12us/step - loss: 0.1378 - acc: 0.9724 - val_loss: 0.1358 - val_acc: 0.9704\n",
      "Epoch 140/400\n",
      "2569904/2569904 [==============================] - 30s 12us/step - loss: 0.1376 - acc: 0.9725 - val_loss: 0.1389 - val_acc: 0.9662\n",
      "Epoch 141/400\n",
      "2569904/2569904 [==============================] - 30s 12us/step - loss: 0.1377 - acc: 0.9725 - val_loss: 0.1364 - val_acc: 0.9699\n",
      "\n",
      "Epoch 00141: val_loss did not improve from 0.13536\n",
      "Epoch 142/400\n",
      "2569904/2569904 [==============================] - 30s 12us/step - loss: 0.1377 - acc: 0.9723 - val_loss: 0.1355 - val_acc: 0.9727\n",
      "Epoch 143/400\n",
      "2569904/2569904 [==============================] - 29s 11us/step - loss: 0.1378 - acc: 0.9724 - val_loss: 0.1349 - val_acc: 0.9733\n",
      "Epoch 144/400\n",
      "2569904/2569904 [==============================] - 30s 12us/step - loss: 0.1377 - acc: 0.9725 - val_loss: 0.1353 - val_acc: 0.9748\n",
      "\n",
      "Epoch 00144: val_loss improved from 0.13536 to 0.13526, saving model to ../models/v6_detseparated//model1_EE.hd5\n",
      "Epoch 145/400\n",
      "2569904/2569904 [==============================] - 30s 12us/step - loss: 0.1377 - acc: 0.9725 - val_loss: 0.1358 - val_acc: 0.9746\n",
      "Epoch 146/400\n",
      "2569904/2569904 [==============================] - 31s 12us/step - loss: 0.1375 - acc: 0.9724 - val_loss: 0.1348 - val_acc: 0.9720\n",
      "Epoch 147/400\n",
      "2569904/2569904 [==============================] - 30s 12us/step - loss: 0.1376 - acc: 0.9724 - val_loss: 0.1356 - val_acc: 0.9722\n",
      "\n",
      "Epoch 00147: val_loss did not improve from 0.13526\n",
      "Epoch 148/400\n",
      "2569904/2569904 [==============================] - 30s 12us/step - loss: 0.1376 - acc: 0.9723 - val_loss: 0.1358 - val_acc: 0.9727\n",
      "Epoch 149/400\n",
      "2569904/2569904 [==============================] - 30s 12us/step - loss: 0.1374 - acc: 0.9724 - val_loss: 0.1355 - val_acc: 0.9746\n",
      "Epoch 150/400\n",
      "2569904/2569904 [==============================] - 30s 12us/step - loss: 0.1375 - acc: 0.9724 - val_loss: 0.1348 - val_acc: 0.9730\n",
      "\n",
      "Epoch 00150: val_loss improved from 0.13526 to 0.13475, saving model to ../models/v6_detseparated//model1_EE.hd5\n",
      "Epoch 151/400\n",
      "2569904/2569904 [==============================] - 30s 12us/step - loss: 0.1375 - acc: 0.9723 - val_loss: 0.1358 - val_acc: 0.9761\n",
      "Epoch 152/400\n",
      "2569904/2569904 [==============================] - 29s 11us/step - loss: 0.1374 - acc: 0.9725 - val_loss: 0.1356 - val_acc: 0.9712\n",
      "Epoch 153/400\n",
      "2569904/2569904 [==============================] - 30s 11us/step - loss: 0.1373 - acc: 0.9725 - val_loss: 0.1414 - val_acc: 0.9637\n",
      "\n",
      "Epoch 00153: val_loss did not improve from 0.13475\n",
      "Epoch 154/400\n",
      "2569904/2569904 [==============================] - 31s 12us/step - loss: 0.1373 - acc: 0.9725 - val_loss: 0.1370 - val_acc: 0.9688\n",
      "Epoch 155/400\n",
      "2569904/2569904 [==============================] - 30s 12us/step - loss: 0.1373 - acc: 0.9725 - val_loss: 0.1349 - val_acc: 0.9743\n",
      "Epoch 156/400\n",
      "2569904/2569904 [==============================] - 30s 12us/step - loss: 0.1373 - acc: 0.9725 - val_loss: 0.1353 - val_acc: 0.9718\n",
      "\n",
      "Epoch 00156: val_loss did not improve from 0.13475\n",
      "Epoch 157/400\n",
      "2569904/2569904 [==============================] - 30s 12us/step - loss: 0.1374 - acc: 0.9725 - val_loss: 0.1352 - val_acc: 0.9726\n",
      "Epoch 158/400\n",
      "2569904/2569904 [==============================] - 30s 12us/step - loss: 0.1371 - acc: 0.9725 - val_loss: 0.1358 - val_acc: 0.9698\n",
      "Epoch 159/400\n",
      "2569904/2569904 [==============================] - 30s 12us/step - loss: 0.1371 - acc: 0.9725 - val_loss: 0.1352 - val_acc: 0.9712\n",
      "\n",
      "Epoch 00159: val_loss did not improve from 0.13475\n",
      "Epoch 160/400\n",
      "2569904/2569904 [==============================] - 30s 12us/step - loss: 0.1371 - acc: 0.9724 - val_loss: 0.1358 - val_acc: 0.9752\n",
      "Epoch 161/400\n",
      "2569904/2569904 [==============================] - 30s 12us/step - loss: 0.1370 - acc: 0.9727 - val_loss: 0.1359 - val_acc: 0.9742\n",
      "Epoch 162/400\n",
      "2569904/2569904 [==============================] - 31s 12us/step - loss: 0.1371 - acc: 0.9725 - val_loss: 0.1348 - val_acc: 0.9737\n",
      "\n",
      "Epoch 00162: val_loss did not improve from 0.13475\n",
      "Epoch 163/400\n",
      "2569904/2569904 [==============================] - 26s 10us/step - loss: 0.1370 - acc: 0.9725 - val_loss: 0.1359 - val_acc: 0.9700\n",
      "Epoch 164/400\n",
      "2569904/2569904 [==============================] - 30s 12us/step - loss: 0.1370 - acc: 0.9726 - val_loss: 0.1368 - val_acc: 0.9755\n",
      "Epoch 165/400\n",
      "2569904/2569904 [==============================] - 29s 11us/step - loss: 0.1371 - acc: 0.9726 - val_loss: 0.1354 - val_acc: 0.9742\n",
      "\n",
      "Epoch 00165: val_loss did not improve from 0.13475\n",
      "Epoch 166/400\n",
      "2569904/2569904 [==============================] - 31s 12us/step - loss: 0.1367 - acc: 0.9725 - val_loss: 0.1350 - val_acc: 0.9715\n",
      "Epoch 00166: early stopping\n"
     ]
    }
   ],
   "source": [
    "auto_save = ModelCheckpoint(model_dir+ \"/model1_EE.hd5\", monitor='val_loss', \n",
    "                    verbose=1, save_best_only=True, save_weights_only=False, \n",
    "                    mode='auto', period=3)\n",
    "\n",
    "early_stop = EarlyStopping(monitor='val_loss', min_delta=0.0001, \n",
    "                            patience=20, verbose=1)\n",
    "\n",
    "\n",
    "#lr_scheduler = callbacks.LearningRateScheduler(step_decay, verbose=1)\n",
    "\n",
    "history = model.fit(\n",
    "            X_train, y_train,\n",
    "            sample_weight = w_train,\n",
    "            batch_size = 2048,\n",
    "            epochs=400,\n",
    "            shuffle=True,\n",
    "            validation_data = (X_val, y_val, w_val),\n",
    "            callbacks = [early_stop, auto_save, ] #lr_scheduler\n",
    "            )"
   ]
  },
  {
   "cell_type": "code",
   "execution_count": 63,
   "metadata": {
    "ExecuteTime": {
     "end_time": "2020-05-03T21:02:31.639054Z",
     "start_time": "2020-05-03T21:02:28.213008Z"
    }
   },
   "outputs": [
    {
     "name": "stdout",
     "output_type": "stream",
     "text": [
      ">>> Computing AUC...\n",
      "AUC score: 0.9965043098246165\n",
      ">>> Saving ROC curve...\n"
     ]
    },
    {
     "data": {
      "text/plain": [
       "<matplotlib.legend.Legend at 0x7f598c5ab1d0>"
      ]
     },
     "execution_count": 63,
     "metadata": {},
     "output_type": "execute_result"
    },
    {
     "data": {
      "image/png": "[encoded data removed]",
      "text/plain": [
       "<Figure size 750x750 with 1 Axes>"
      ]
     },
     "metadata": {
      "needs_background": "light"
     },
     "output_type": "display_data"
    }
   ],
   "source": [
    "# Evalutation\n",
    "print(\">>> Computing AUC...\")\n",
    "\n",
    "from sklearn.metrics import roc_auc_score, roc_curve\n",
    "\n",
    "pred = model.predict(X_val,batch_size=2048)\n",
    "auc = roc_auc_score(y_val, pred, sample_weight=w_val)\n",
    "print(\"AUC score: \" + str(auc))\n",
    "\n",
    "print(\">>> Saving ROC curve...\")\n",
    "fp , tp, th = roc_curve(y_val, pred, sample_weight=w_val,drop_intermediate=True)\n",
    "plt.plot(fp, tp, label=\"roc\")\n",
    "#plt.plot(fp, th, label=\"threshold\")\n",
    "plt.xlabel(\"false positives\")\n",
    "plt.ylabel(\"true positives\")\n",
    "plt.ylim(-0.05,1.05)\n",
    "\n",
    "plt.legend()"
   ]
  },
  {
   "cell_type": "code",
   "execution_count": 51,
   "metadata": {
    "ExecuteTime": {
     "end_time": "2020-05-03T18:02:08.432215Z",
     "start_time": "2020-05-03T18:02:08.040559Z"
    }
   },
   "outputs": [
    {
     "data": {
      "text/plain": [
       "<matplotlib.legend.Legend at 0x7f598c719590>"
      ]
     },
     "execution_count": 51,
     "metadata": {},
     "output_type": "execute_result"
    },
    {
     "data": {
      "image/png": "[encoded data removed]",
      "text/plain": [
       "<Figure size 750x750 with 1 Axes>"
      ]
     },
     "metadata": {
      "needs_background": "light"
     },
     "output_type": "display_data"
    }
   ],
   "source": [
    "plt.plot(history.epoch, history.history[\"val_loss\"], label=\"validation loss\")\n",
    "plt.plot(history.epoch, history.history[\"loss\"], label=\"training loss\")\n",
    "plt.legend()"
   ]
  },
  {
   "cell_type": "code",
   "execution_count": 64,
   "metadata": {
    "ExecuteTime": {
     "end_time": "2020-05-03T21:02:59.616298Z",
     "start_time": "2020-05-03T21:02:59.348309Z"
    }
   },
   "outputs": [
    {
     "data": {
      "text/plain": [
       "<matplotlib.legend.Legend at 0x7f59973ec390>"
      ]
     },
     "execution_count": 64,
     "metadata": {},
     "output_type": "execute_result"
    },
    {
     "data": {
      "image/png": "[encoded data removed]",
      "text/plain": [
       "<Figure size 750x750 with 1 Axes>"
      ]
     },
     "metadata": {
      "needs_background": "light"
     },
     "output_type": "display_data"
    }
   ],
   "source": [
    "plt.plot(history.epoch, history.history[\"val_loss\"], label=\"validation loss\")\n",
    "plt.plot(history.epoch, history.history[\"loss\"], label=\"training loss\")\n",
    "plt.legend()"
   ]
  },
  {
   "cell_type": "code",
   "execution_count": 52,
   "metadata": {
    "ExecuteTime": {
     "end_time": "2020-05-03T18:02:48.984671Z",
     "start_time": "2020-05-03T18:02:41.386118Z"
    }
   },
   "outputs": [
    {
     "data": {
      "text/plain": [
       "<matplotlib.legend.Legend at 0x7f59a2e3bf90>"
      ]
     },
     "execution_count": 52,
     "metadata": {},
     "output_type": "execute_result"
    },
    {
     "data": {
      "image/png": "[encoded data removed]",
      "text/plain": [
       "<Figure size 750x750 with 1 Axes>"
      ]
     },
     "metadata": {
      "needs_background": "light"
     },
     "output_type": "display_data"
    }
   ],
   "source": [
    "results = model.predict(X_val)\n",
    "plt.hist(results[y_val==0], bins=100,density=True, label=\"false\", histtype=\"step\")\n",
    "plt.hist(results[y_val==1], bins=100, density=True, label=\"true\", histtype=\"step\")\n",
    "plt.yscale(\"log\")\n",
    "plt.legend()"
   ]
  },
  {
   "cell_type": "code",
   "execution_count": 65,
   "metadata": {
    "ExecuteTime": {
     "end_time": "2020-05-03T21:03:45.561006Z",
     "start_time": "2020-05-03T21:03:28.491011Z"
    }
   },
   "outputs": [
    {
     "data": {
      "text/plain": [
       "<matplotlib.legend.Legend at 0x7f5997375510>"
      ]
     },
     "execution_count": 65,
     "metadata": {},
     "output_type": "execute_result"
    },
    {
     "data": {
      "image/png": "[encoded data removed]",
      "text/plain": [
       "<Figure size 750x750 with 1 Axes>"
      ]
     },
     "metadata": {
      "needs_background": "light"
     },
     "output_type": "display_data"
    }
   ],
   "source": [
    "results = model.predict(X_val)\n",
    "plt.hist(results[y_val==0], bins=100,density=True, label=\"false\", histtype=\"step\")\n",
    "plt.hist(results[y_val==1], bins=100, density=True, label=\"true\", histtype=\"step\")\n",
    "plt.yscale(\"log\")\n",
    "plt.legend()"
   ]
  },
  {
   "cell_type": "markdown",
   "metadata": {},
   "source": [
    "# Some plots"
   ]
  },
  {
   "cell_type": "code",
   "execution_count": 1,
   "metadata": {
    "ExecuteTime": {
     "end_time": "2020-01-13T09:25:43.435534Z",
     "start_time": "2020-01-13T09:25:30.930818Z"
    },
    "scrolled": true
   },
   "outputs": [
    {
     "name": "stderr",
     "output_type": "stream",
     "text": [
      "Using TensorFlow backend.\n"
     ]
    },
    {
     "ename": "OSError",
     "evalue": "Unable to open file (unable to open file: name = 'models/model11_balanced_100_80_50.hd5', errno = 2, error message = 'No such file or directory', flags = 0, o_flags = 0)",
     "output_type": "error",
     "traceback": [
      "\u001b[0;31m---------------------------------------------------------------------------\u001b[0m",
      "\u001b[0;31mOSError\u001b[0m                                   Traceback (most recent call last)",
      "\u001b[0;32m<ipython-input-1-5beff4d610ed>\u001b[0m in \u001b[0;36m<module>\u001b[0;34m\u001b[0m\n\u001b[1;32m      1\u001b[0m \u001b[0;32mfrom\u001b[0m \u001b[0mkeras\u001b[0m\u001b[0;34m.\u001b[0m\u001b[0mmodels\u001b[0m \u001b[0;32mimport\u001b[0m \u001b[0mload_model\u001b[0m\u001b[0;34m\u001b[0m\u001b[0m\n\u001b[0;32m----> 2\u001b[0;31m \u001b[0mmodel\u001b[0m \u001b[0;34m=\u001b[0m \u001b[0mload_model\u001b[0m\u001b[0;34m(\u001b[0m\u001b[0;34m\"models/model11_balanced_100_80_50.hd5\"\u001b[0m\u001b[0;34m)\u001b[0m\u001b[0;34m\u001b[0m\u001b[0m\n\u001b[0m\u001b[1;32m      3\u001b[0m \u001b[0mscaler\u001b[0m \u001b[0;34m=\u001b[0m \u001b[0mpickle\u001b[0m\u001b[0;34m.\u001b[0m\u001b[0mload\u001b[0m\u001b[0;34m(\u001b[0m\u001b[0mopen\u001b[0m\u001b[0;34m(\u001b[0m\u001b[0;34m\"models/scaler_gamma_electrons.pkl\"\u001b[0m\u001b[0;34m,\u001b[0m \u001b[0;34m\"rb\"\u001b[0m\u001b[0;34m)\u001b[0m\u001b[0;34m)\u001b[0m\u001b[0;34m\u001b[0m\u001b[0m\n",
      "\u001b[0;32m/cvmfs/sft.cern.ch/lcg/views/LCG_96python3/x86_64-centos7-gcc8-opt/lib/python3.6/site-packages/keras/engine/saving.py\u001b[0m in \u001b[0;36mload_model\u001b[0;34m(filepath, custom_objects, compile)\u001b[0m\n\u001b[1;32m    415\u001b[0m     \u001b[0mmodel\u001b[0m \u001b[0;34m=\u001b[0m \u001b[0;32mNone\u001b[0m\u001b[0;34m\u001b[0m\u001b[0m\n\u001b[1;32m    416\u001b[0m     \u001b[0mopened_new_file\u001b[0m \u001b[0;34m=\u001b[0m \u001b[0;32mnot\u001b[0m \u001b[0misinstance\u001b[0m\u001b[0;34m(\u001b[0m\u001b[0mfilepath\u001b[0m\u001b[0;34m,\u001b[0m \u001b[0mh5py\u001b[0m\u001b[0;34m.\u001b[0m\u001b[0mGroup\u001b[0m\u001b[0;34m)\u001b[0m\u001b[0;34m\u001b[0m\u001b[0m\n\u001b[0;32m--> 417\u001b[0;31m     \u001b[0mf\u001b[0m \u001b[0;34m=\u001b[0m \u001b[0mh5dict\u001b[0m\u001b[0;34m(\u001b[0m\u001b[0mfilepath\u001b[0m\u001b[0;34m,\u001b[0m \u001b[0;34m'r'\u001b[0m\u001b[0;34m)\u001b[0m\u001b[0;34m\u001b[0m\u001b[0m\n\u001b[0m\u001b[1;32m    418\u001b[0m     \u001b[0;32mtry\u001b[0m\u001b[0;34m:\u001b[0m\u001b[0;34m\u001b[0m\u001b[0m\n\u001b[1;32m    419\u001b[0m         \u001b[0mmodel\u001b[0m \u001b[0;34m=\u001b[0m \u001b[0m_deserialize_model\u001b[0m\u001b[0;34m(\u001b[0m\u001b[0mf\u001b[0m\u001b[0;34m,\u001b[0m \u001b[0mcustom_objects\u001b[0m\u001b[0;34m,\u001b[0m \u001b[0mcompile\u001b[0m\u001b[0;34m)\u001b[0m\u001b[0;34m\u001b[0m\u001b[0m\n",
      "\u001b[0;32m/cvmfs/sft.cern.ch/lcg/views/LCG_96python3/x86_64-centos7-gcc8-opt/lib/python3.6/site-packages/keras/utils/io_utils.py\u001b[0m in \u001b[0;36m__init__\u001b[0;34m(self, path, mode)\u001b[0m\n\u001b[1;32m    184\u001b[0m             \u001b[0mself\u001b[0m\u001b[0;34m.\u001b[0m\u001b[0m_is_file\u001b[0m \u001b[0;34m=\u001b[0m \u001b[0;32mFalse\u001b[0m\u001b[0;34m\u001b[0m\u001b[0m\n\u001b[1;32m    185\u001b[0m         \u001b[0;32melif\u001b[0m \u001b[0misinstance\u001b[0m\u001b[0;34m(\u001b[0m\u001b[0mpath\u001b[0m\u001b[0;34m,\u001b[0m \u001b[0mstr\u001b[0m\u001b[0;34m)\u001b[0m\u001b[0;34m:\u001b[0m\u001b[0;34m\u001b[0m\u001b[0m\n\u001b[0;32m--> 186\u001b[0;31m             \u001b[0mself\u001b[0m\u001b[0;34m.\u001b[0m\u001b[0mdata\u001b[0m \u001b[0;34m=\u001b[0m \u001b[0mh5py\u001b[0m\u001b[0;34m.\u001b[0m\u001b[0mFile\u001b[0m\u001b[0;34m(\u001b[0m\u001b[0mpath\u001b[0m\u001b[0;34m,\u001b[0m \u001b[0mmode\u001b[0m\u001b[0;34m=\u001b[0m\u001b[0mmode\u001b[0m\u001b[0;34m)\u001b[0m\u001b[0;34m\u001b[0m\u001b[0m\n\u001b[0m\u001b[1;32m    187\u001b[0m             \u001b[0mself\u001b[0m\u001b[0;34m.\u001b[0m\u001b[0m_is_file\u001b[0m \u001b[0;34m=\u001b[0m \u001b[0;32mTrue\u001b[0m\u001b[0;34m\u001b[0m\u001b[0m\n\u001b[1;32m    188\u001b[0m         \u001b[0;32melif\u001b[0m \u001b[0misinstance\u001b[0m\u001b[0;34m(\u001b[0m\u001b[0mpath\u001b[0m\u001b[0;34m,\u001b[0m \u001b[0mdict\u001b[0m\u001b[0;34m)\u001b[0m\u001b[0;34m:\u001b[0m\u001b[0;34m\u001b[0m\u001b[0m\n",
      "\u001b[0;32m/cvmfs/sft.cern.ch/lcg/views/LCG_96python3/x86_64-centos7-gcc8-opt/lib/python3.6/site-packages/h5py/_hl/files.py\u001b[0m in \u001b[0;36m__init__\u001b[0;34m(self, name, mode, driver, libver, userblock_size, swmr, rdcc_nslots, rdcc_nbytes, rdcc_w0, track_order, **kwds)\u001b[0m\n\u001b[1;32m    392\u001b[0m                 fid = make_fid(name, mode, userblock_size,\n\u001b[1;32m    393\u001b[0m                                \u001b[0mfapl\u001b[0m\u001b[0;34m,\u001b[0m \u001b[0mfcpl\u001b[0m\u001b[0;34m=\u001b[0m\u001b[0mmake_fcpl\u001b[0m\u001b[0;34m(\u001b[0m\u001b[0mtrack_order\u001b[0m\u001b[0;34m=\u001b[0m\u001b[0mtrack_order\u001b[0m\u001b[0;34m)\u001b[0m\u001b[0;34m,\u001b[0m\u001b[0;34m\u001b[0m\u001b[0m\n\u001b[0;32m--> 394\u001b[0;31m                                swmr=swmr)\n\u001b[0m\u001b[1;32m    395\u001b[0m \u001b[0;34m\u001b[0m\u001b[0m\n\u001b[1;32m    396\u001b[0m             \u001b[0;32mif\u001b[0m \u001b[0mswmr_support\u001b[0m\u001b[0;34m:\u001b[0m\u001b[0;34m\u001b[0m\u001b[0m\n",
      "\u001b[0;32m/cvmfs/sft.cern.ch/lcg/views/LCG_96python3/x86_64-centos7-gcc8-opt/lib/python3.6/site-packages/h5py/_hl/files.py\u001b[0m in \u001b[0;36mmake_fid\u001b[0;34m(name, mode, userblock_size, fapl, fcpl, swmr)\u001b[0m\n\u001b[1;32m    168\u001b[0m         \u001b[0;32mif\u001b[0m \u001b[0mswmr\u001b[0m \u001b[0;32mand\u001b[0m \u001b[0mswmr_support\u001b[0m\u001b[0;34m:\u001b[0m\u001b[0;34m\u001b[0m\u001b[0m\n\u001b[1;32m    169\u001b[0m             \u001b[0mflags\u001b[0m \u001b[0;34m|=\u001b[0m \u001b[0mh5f\u001b[0m\u001b[0;34m.\u001b[0m\u001b[0mACC_SWMR_READ\u001b[0m\u001b[0;34m\u001b[0m\u001b[0m\n\u001b[0;32m--> 170\u001b[0;31m         \u001b[0mfid\u001b[0m \u001b[0;34m=\u001b[0m \u001b[0mh5f\u001b[0m\u001b[0;34m.\u001b[0m\u001b[0mopen\u001b[0m\u001b[0;34m(\u001b[0m\u001b[0mname\u001b[0m\u001b[0;34m,\u001b[0m \u001b[0mflags\u001b[0m\u001b[0;34m,\u001b[0m \u001b[0mfapl\u001b[0m\u001b[0;34m=\u001b[0m\u001b[0mfapl\u001b[0m\u001b[0;34m)\u001b[0m\u001b[0;34m\u001b[0m\u001b[0m\n\u001b[0m\u001b[1;32m    171\u001b[0m     \u001b[0;32melif\u001b[0m \u001b[0mmode\u001b[0m \u001b[0;34m==\u001b[0m \u001b[0;34m'r+'\u001b[0m\u001b[0;34m:\u001b[0m\u001b[0;34m\u001b[0m\u001b[0m\n\u001b[1;32m    172\u001b[0m         \u001b[0mfid\u001b[0m \u001b[0;34m=\u001b[0m \u001b[0mh5f\u001b[0m\u001b[0;34m.\u001b[0m\u001b[0mopen\u001b[0m\u001b[0;34m(\u001b[0m\u001b[0mname\u001b[0m\u001b[0;34m,\u001b[0m \u001b[0mh5f\u001b[0m\u001b[0;34m.\u001b[0m\u001b[0mACC_RDWR\u001b[0m\u001b[0;34m,\u001b[0m \u001b[0mfapl\u001b[0m\u001b[0;34m=\u001b[0m\u001b[0mfapl\u001b[0m\u001b[0;34m)\u001b[0m\u001b[0;34m\u001b[0m\u001b[0m\n",
      "\u001b[0;32mh5py/_objects.pyx\u001b[0m in \u001b[0;36mh5py._objects.with_phil.wrapper\u001b[0;34m()\u001b[0m\n",
      "\u001b[0;32mh5py/_objects.pyx\u001b[0m in \u001b[0;36mh5py._objects.with_phil.wrapper\u001b[0;34m()\u001b[0m\n",
      "\u001b[0;32mh5py/h5f.pyx\u001b[0m in \u001b[0;36mh5py.h5f.open\u001b[0;34m()\u001b[0m\n",
      "\u001b[0;31mOSError\u001b[0m: Unable to open file (unable to open file: name = 'models/model11_balanced_100_80_50.hd5', errno = 2, error message = 'No such file or directory', flags = 0, o_flags = 0)"
     ]
    }
   ],
   "source": [
    "from keras.models import load_model\n",
    "model = load_model(\"models/model11_balanced_100_80_50.hd5\")\n",
    "scaler = pickle.load(open(\"models/scaler_gamma_electrons.pkl\", \"rb\"))"
   ]
  },
  {
   "cell_type": "code",
   "execution_count": 27,
   "metadata": {
    "ExecuteTime": {
     "end_time": "2020-04-20T22:38:16.819969Z",
     "start_time": "2020-04-20T22:38:16.467585Z"
    }
   },
   "outputs": [
    {
     "ename": "NameError",
     "evalue": "name 'y_test' is not defined",
     "output_type": "error",
     "traceback": [
      "\u001b[0;31m---------------------------------------------------------------------------\u001b[0m",
      "\u001b[0;31mNameError\u001b[0m                                 Traceback (most recent call last)",
      "\u001b[0;32m<ipython-input-27-a3f0e29f7606>\u001b[0m in \u001b[0;36m<module>\u001b[0;34m\u001b[0m\n\u001b[0;32m----> 1\u001b[0;31m \u001b[0mfp\u001b[0m \u001b[0;34m,\u001b[0m \u001b[0mtp\u001b[0m\u001b[0;34m,\u001b[0m \u001b[0mth\u001b[0m \u001b[0;34m=\u001b[0m \u001b[0mroc_curve\u001b[0m\u001b[0;34m(\u001b[0m\u001b[0my_test\u001b[0m\u001b[0;34m,\u001b[0m \u001b[0mpred\u001b[0m\u001b[0;34m)\u001b[0m\u001b[0;34m\u001b[0m\u001b[0;34m\u001b[0m\u001b[0m\n\u001b[0m\u001b[1;32m      2\u001b[0m \u001b[0mfig\u001b[0m\u001b[0;34m,\u001b[0m \u001b[0max1\u001b[0m \u001b[0;34m=\u001b[0m \u001b[0mplt\u001b[0m\u001b[0;34m.\u001b[0m\u001b[0msubplots\u001b[0m\u001b[0;34m(\u001b[0m\u001b[0mfigsize\u001b[0m\u001b[0;34m=\u001b[0m\u001b[0;34m(\u001b[0m\u001b[0;36m7\u001b[0m\u001b[0;34m,\u001b[0m\u001b[0;36m6\u001b[0m\u001b[0;34m)\u001b[0m\u001b[0;34m,\u001b[0m \u001b[0mdpi\u001b[0m\u001b[0;34m=\u001b[0m\u001b[0;36m100\u001b[0m\u001b[0;34m)\u001b[0m\u001b[0;34m\u001b[0m\u001b[0;34m\u001b[0m\u001b[0m\n\u001b[1;32m      3\u001b[0m \u001b[0max1\u001b[0m\u001b[0;34m.\u001b[0m\u001b[0mplot\u001b[0m\u001b[0;34m(\u001b[0m\u001b[0mfp\u001b[0m\u001b[0;34m,\u001b[0m \u001b[0mtp\u001b[0m\u001b[0;34m,\u001b[0m \u001b[0mlabel\u001b[0m\u001b[0;34m=\u001b[0m\u001b[0;34m\"roc\"\u001b[0m\u001b[0;34m,\u001b[0m \u001b[0mcolor\u001b[0m\u001b[0;34m=\u001b[0m\u001b[0;34m\"blue\"\u001b[0m\u001b[0;34m)\u001b[0m\u001b[0;34m\u001b[0m\u001b[0;34m\u001b[0m\u001b[0m\n\u001b[1;32m      4\u001b[0m \u001b[0;34m\u001b[0m\u001b[0m\n\u001b[1;32m      5\u001b[0m \u001b[0max1\u001b[0m\u001b[0;34m.\u001b[0m\u001b[0mset_xlabel\u001b[0m\u001b[0;34m(\u001b[0m\u001b[0;34m\"Bkg contamination\"\u001b[0m\u001b[0;34m,\u001b[0m \u001b[0mfontsize\u001b[0m\u001b[0;34m=\u001b[0m\u001b[0;36m18\u001b[0m\u001b[0;34m)\u001b[0m\u001b[0;34m\u001b[0m\u001b[0;34m\u001b[0m\u001b[0m\n",
      "\u001b[0;31mNameError\u001b[0m: name 'y_test' is not defined"
     ]
    }
   ],
   "source": [
    "fp , tp, th = roc_curve(y_test, pred)\n",
    "fig, ax1 = plt.subplots(figsize=(7,6), dpi=100)\n",
    "ax1.plot(fp, tp, label=\"roc\", color=\"blue\")\n",
    "\n",
    "ax1.set_xlabel(\"Bkg contamination\", fontsize=18)\n",
    "ax1.set_ylabel(\"Signal efficiency\", fontsize=18, color=\"blue\")\n",
    "ax1.set_ylim(0.850, 1.01)\n",
    "ax1.set_xlim(0, 0.06)\n",
    "#ax1.plot([0,1],[1,1],\"b--\")\n",
    "ax1.tick_params(\"y\",labelsize=\"large\", labelcolor=\"blue\")\n",
    "\n",
    "ax2 = ax1.twinx()\n",
    "ax2.plot(fp, th, label=\"threshold\", color=\"red\")\n",
    "ax2.tick_params(axis='y', labelcolor=\"red\", labelsize=\"large\")\n",
    "ax2.set_ylabel(\"Threshold\", fontsize=18, color=\"red\")\n",
    "ax2.set_ylim(0, 1)\n",
    "ax1.grid()\n",
    "#ax2.grid(linestyle=\"dashed\", color=\"red\")\n",
    "\n",
    "ax2.plot([0.01, 0.01], [0, 2], \"g--\")\n",
    "ax2.set_yticks(np.arange(0, 1.1, 0.1))\n",
    "#ax2.minorticks_on()\n",
    "\n",
    "ax1.set_title(\"ROC curve\", fontsize=20)\n",
    "ax2.text(x = 0.048, y = 1.01, s=\"AUC=0.997\", fontsize=\"large\")\n",
    "\n",
    "fig.tight_layout()"
   ]
  },
  {
   "cell_type": "code",
   "execution_count": 36,
   "metadata": {
    "ExecuteTime": {
     "end_time": "2020-01-11T14:23:01.035443Z",
     "start_time": "2020-01-11T14:23:00.336449Z"
    }
   },
   "outputs": [
    {
     "data": {
      "image/png": "[encoded data removed]",
      "text/plain": [
       "<Figure size 700x600 with 2 Axes>"
      ]
     },
     "metadata": {},
     "output_type": "display_data"
    }
   ],
   "source": [
    "fp , tp, th = roc_curve(y_test, pred)\n",
    "fig, ax1 = plt.subplots(figsize=(7,6), dpi=100)\n",
    "ax1.plot(fp, tp, label=\"roc\", color=\"blue\")\n",
    "\n",
    "ax1.set_xlabel(\"Bkg contamination\", fontsize=18)\n",
    "ax1.set_ylabel(\"Signal efficiency\", fontsize=18, color=\"blue\")\n",
    "ax1.set_ylim(0.850, 1.01)\n",
    "ax1.set_xlim(0, 0.06)\n",
    "#ax1.plot([0,1],[1,1],\"b--\")\n",
    "ax1.tick_params(\"y\",labelsize=\"large\", labelcolor=\"blue\")\n",
    "\n",
    "ax2 = ax1.twinx()\n",
    "ax2.plot(fp, th, label=\"threshold\", color=\"red\")\n",
    "ax2.tick_params(axis='y', labelcolor=\"red\", labelsize=\"large\")\n",
    "ax2.set_ylabel(\"Threshold\", fontsize=18, color=\"red\")\n",
    "ax2.set_ylim(0, 1)\n",
    "ax1.grid()\n",
    "#ax2.grid(linestyle=\"dashed\", color=\"red\")\n",
    "\n",
    "ax2.plot([0.01, 0.01], [0, 2], \"g--\")\n",
    "ax2.set_yticks(np.arange(0, 1.1, 0.1))\n",
    "#ax2.minorticks_on()\n",
    "\n",
    "ax1.set_title(\"ROC curve\", fontsize=20)\n",
    "ax2.text(x = 0.048, y = 1.01, s=\"AUC=0.997\", fontsize=\"large\")\n",
    "\n",
    "fig.tight_layout()"
   ]
  }
 ],
 "metadata": {
  "kernelspec": {
   "display_name": "Python 3",
   "language": "python",
   "name": "python3"
  },
  "language_info": {
   "codemirror_mode": {
    "name": "ipython",
    "version": 3
   },
   "file_extension": ".py",
   "mimetype": "text/x-python",
   "name": "python",
   "nbconvert_exporter": "python",
   "pygments_lexer": "ipython3",
   "version": "3.7.6"
  },
  "toc": {
   "base_numbering": 1,
   "nav_menu": {},
   "number_sections": true,
   "sideBar": true,
   "skip_h1_title": false,
   "title_cell": "Table of Contents",
   "title_sidebar": "Contents",
   "toc_cell": false,
   "toc_position": {},
   "toc_section_display": true,
   "toc_window_display": false
  },
  "varInspector": {
   "cols": {
    "lenName": 16,
    "lenType": 16,
    "lenVar": 40
   },
   "kernels_config": {
    "python": {
     "delete_cmd_postfix": "",
     "delete_cmd_prefix": "del ",
     "library": "var_list.py",
     "varRefreshCmd": "print(var_dic_list())"
    },
    "r": {
     "delete_cmd_postfix": ") ",
     "delete_cmd_prefix": "rm(",
     "library": "var_list.r",
     "varRefreshCmd": "cat(var_dic_list()) "
    }
   },
   "oldHeight": 745.183666,
   "position": {
    "height": "40px",
    "left": "717.5px",
    "right": "20px",
    "top": "55px",
    "width": "800px"
   },
   "types_to_exclude": [
    "module",
    "function",
    "builtin_function_or_method",
    "instance",
    "_Feature"
   ],
   "varInspector_section_display": "none",
   "window_display": false
  }
 },
 "nbformat": 4,
 "nbformat_minor": 2
}
