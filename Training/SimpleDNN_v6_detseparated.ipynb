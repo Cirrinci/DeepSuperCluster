{
 "cells": [
  {
   "cell_type": "code",
   "execution_count": 1,
   "metadata": {
    "ExecuteTime": {
     "end_time": "2020-05-04T14:22:35.838781Z",
     "start_time": "2020-05-04T14:22:35.831130Z"
    }
   },
   "outputs": [],
   "source": [
    "import pickle\n",
    "import numpy as np \n",
    "import pandas as pd\n",
    "import matplotlib.colors as colors\n",
    "import matplotlib.pyplot as plt\n",
    "import matplotlib as mpl\n",
    "import os \n",
    "import glob\n",
    "\n",
    "mpl.rcParams['figure.figsize'] = (5,5)\n",
    "mpl.rcParams['figure.dpi'] = 150\n",
    "mpl.rcParams[\"image.origin\"] = 'lower'"
   ]
  },
  {
   "cell_type": "code",
   "execution_count": 68,
   "metadata": {
    "ExecuteTime": {
     "end_time": "2020-05-04T14:22:36.542179Z",
     "start_time": "2020-05-04T14:22:36.538268Z"
    }
   },
   "outputs": [],
   "source": [
    "model_dir = \"../models/v6_detseparated/\"\n",
    "model_name = \"v6_detseparated\"\n",
    "model_version = \"v3\"\n",
    "os.makedirs(model_dir, exist_ok = True)"
   ]
  },
  {
   "cell_type": "markdown",
   "metadata": {},
   "source": [
    "# Data preparation\n",
    "## Input: \n",
    "- E seed\n",
    "- eta,phi,z seed\n",
    "- E cluster\n",
    "- delta_eta,delta_phi,\n",
    "\n",
    "Filter only windows with the calo"
   ]
  },
  {
   "cell_type": "code",
   "execution_count": 3,
   "metadata": {},
   "outputs": [],
   "source": [
    "files_ele = \"/storage/ECAL/training_data/electrons/training/\"\n",
    "files_gamma = \"/storage/ECAL/training_data/gammas/numpy_v8/training/\""
   ]
  },
  {
   "cell_type": "code",
   "execution_count": 4,
   "metadata": {
    "ExecuteTime": {
     "end_time": "2020-05-04T14:22:38.611857Z",
     "start_time": "2020-05-04T14:22:38.606202Z"
    }
   },
   "outputs": [],
   "source": [
    "files_ele = \"/eos/user/r/rdfexp/ecal/cluster/output_deepcluster_dumper/electrons/numpy_v8/training/\"\n",
    "files_gamma = \"/eos/user/r/rdfexp/ecal/cluster/output_deepcluster_dumper/gammas/numpy_v8/training/\""
   ]
  },
  {
   "cell_type": "code",
   "execution_count": 4,
   "metadata": {
    "ExecuteTime": {
     "start_time": "2020-05-04T14:22:39.023Z"
    }
   },
   "outputs": [
    {
     "name": "stdout",
     "output_type": "stream",
     "text": [
      "N events ele:  23603630\n",
      "N events gamma:  20426249\n"
     ]
    }
   ],
   "source": [
    "datas_ele = []\n",
    "\n",
    "for f in glob.glob(files_ele+\"*.pkl\"):\n",
    "    d = pickle.load(open(f, \"rb\"))   \n",
    "    datas_ele.append(d[d.is_seed == False])\n",
    "    \n",
    "data_ele = pd.concat(datas_ele, ignore_index=True)\n",
    "data_ele[\"particle\"] = \"electron\"\n",
    "print(\"N events ele: \",len(data_ele))\n",
    "\n",
    "datas_gamma = []\n",
    "for f in glob.glob(files_gamma+\"*.pkl\"):\n",
    "    d = pickle.load(open(f, \"rb\"))  \n",
    "    datas_gamma.append(d[d.is_seed==False])\n",
    "    \n",
    "data_gamma = pd.concat(datas_gamma, ignore_index=True)\n",
    "data_gamma[\"particle\"] = \"gamma\"\n",
    "print(\"N events gamma: \",len(data_gamma))\n",
    "\n",
    "if data_ele.shape[0]> data_gamma.shape[0]:\n",
    "    data = pd.concat([data_gamma, data_ele.iloc[0:len(data_gamma)]], ignore_index=True)\n",
    "else:\n",
    "    data = pd.concat([data_gamma.iloc[0:len(data_ele)], data_ele], ignore_index=True)\n",
    "    \n",
    "del data_gamma\n",
    "del data_ele"
   ]
  },
  {
   "cell_type": "markdown",
   "metadata": {},
   "source": [
    "Balance gamma and electron"
   ]
  },
  {
   "cell_type": "code",
   "execution_count": 5,
   "metadata": {
    "ExecuteTime": {
     "start_time": "2020-05-04T14:14:26.563Z"
    }
   },
   "outputs": [],
   "source": [
    "data_EB = data[abs(data.seed_eta)<1.479]\n",
    "data_EE = data[abs(data.seed_eta)>=1.479]"
   ]
  },
  {
   "cell_type": "code",
   "execution_count": 6,
   "metadata": {
    "ExecuteTime": {
     "end_time": "2020-05-03T14:58:15.903327Z",
     "start_time": "2020-05-03T14:58:12.456898Z"
    }
   },
   "outputs": [
    {
     "name": "stdout",
     "output_type": "stream",
     "text": [
      "Sample in EB: 22710542\n",
      "Sample in EE: 18141956\n",
      "Sample in EB in SC: 736993\n",
      "Sample in EE in SC: 349943\n",
      "N in supercluster:  1086936\n",
      "N out supercluster:  39765562\n",
      "36.5850077649466\n"
     ]
    }
   ],
   "source": [
    "print(\"Sample in EB:\", len(data[abs(data.seed_eta) <1.479]))\n",
    "print(\"Sample in EE:\", len(data[abs(data.seed_eta) >=1.479]))\n",
    "print(\"Sample in EB in SC:\", len(data[(abs(data.seed_eta) <1.479)&(data.in_scluster)]))\n",
    "print(\"Sample in EE in SC:\", len(data[(abs(data.seed_eta) >=1.479)&(data.in_scluster)]))\n",
    "print(\"N in supercluster: \", len(data[ data.in_scluster]))\n",
    "print(\"N out supercluster: \", len(data[data.in_scluster == False]))\n",
    "w = len(data[(data.is_seed == False) & (data.in_scluster == False)]) / len(data[(data.is_seed == False) & (data.in_scluster==True)])\n",
    "print(w)"
   ]
  },
  {
   "cell_type": "code",
   "execution_count": 7,
   "metadata": {
    "ExecuteTime": {
     "end_time": "2020-05-03T14:58:46.167174Z",
     "start_time": "2020-05-03T14:58:45.165966Z"
    }
   },
   "outputs": [
    {
     "name": "stdout",
     "output_type": "stream",
     "text": [
      "caloMatch samples:  27531639\n",
      "Not caloMatch samples:  13320859\n"
     ]
    }
   ],
   "source": [
    "print(\"caloMatch samples: \", len(data[data.is_calo_matched]))\n",
    "print(\"Not caloMatch samples: \", len(data[data.is_calo_matched ==False]))"
   ]
  },
  {
   "cell_type": "markdown",
   "metadata": {},
   "source": [
    "## Check plots"
   ]
  },
  {
   "cell_type": "code",
   "execution_count": 9,
   "metadata": {
    "ExecuteTime": {
     "end_time": "2020-04-27T14:07:39.272642Z",
     "start_time": "2020-04-27T14:07:38.560302Z"
    }
   },
   "outputs": [],
   "source": [
    "data_in = data[ (data.is_seed == False) & data.in_scluster]\n",
    "data_out =  data[(data.is_seed == False) & (data.in_scluster == False)]"
   ]
  },
  {
   "cell_type": "markdown",
   "metadata": {},
   "source": [
    "## Weights by DeltaPhi"
   ]
  },
  {
   "cell_type": "code",
   "execution_count": 7,
   "metadata": {
    "ExecuteTime": {
     "end_time": "2020-05-03T14:59:15.286452Z",
     "start_time": "2020-05-03T14:59:15.279741Z"
    }
   },
   "outputs": [
    {
     "data": {
      "text/plain": [
       "Index(['cl_f5_r9', 'cl_f5_sigmaIetaIeta', 'cl_f5_sigmaIetaIphi',\n",
       "       'cl_f5_sigmaIphiIphi', 'cl_nxtals', 'cl_swissCross', 'cluster_deta',\n",
       "       'cluster_dphi', 'cluster_iz', 'en_cluster', 'en_seed', 'en_true',\n",
       "       'et_cluster', 'et_seed', 'et_true', 'in_mustache', 'in_scluster',\n",
       "       'index', 'is_calo_matched', 'is_seed', 'max_dr_cluster',\n",
       "       'max_en_cluster', 'mustache_seed_index', 'nclusters', 'seed_eta',\n",
       "       'seed_f5_r9', 'seed_f5_sigmaIetaIeta', 'seed_f5_sigmaIetaIphi',\n",
       "       'seed_f5_sigmaIphiIphi', 'seed_iz', 'seed_nxtals', 'seed_phi',\n",
       "       'seed_swissCross', 'window_index', 'particle'],\n",
       "      dtype='object')"
      ]
     },
     "execution_count": 7,
     "metadata": {},
     "output_type": "execute_result"
    }
   ],
   "source": [
    "data.columns"
   ]
  },
  {
   "cell_type": "code",
   "execution_count": 6,
   "metadata": {
    "ExecuteTime": {
     "end_time": "2020-05-03T14:59:44.792694Z",
     "start_time": "2020-05-03T14:59:44.788287Z"
    }
   },
   "outputs": [],
   "source": [
    "cols = [\"seed_eta\", \"seed_phi\", \"seed_iz\",\"en_seed\",\"et_seed\",\n",
    "        \"cluster_deta\", \"cluster_dphi\", \"en_cluster\", \"et_cluster\",\n",
    "       \"seed_f5_r9\", \"seed_f5_sigmaIetaIeta\",\"seed_f5_sigmaIetaIphi\",\"seed_f5_sigmaIphiIphi\",\"seed_swissCross\",\"seed_nxtals\",\n",
    "        \"cl_f5_r9\", \"cl_f5_sigmaIetaIeta\",\"cl_f5_sigmaIetaIphi\",\"cl_f5_sigmaIphiIphi\",\"cl_swissCross\", \"cl_nxtals\"]"
   ]
  },
  {
   "cell_type": "code",
   "execution_count": 44,
   "metadata": {
    "ExecuteTime": {
     "end_time": "2020-05-03T19:39:50.337125Z",
     "start_time": "2020-05-03T19:39:50.330651Z"
    }
   },
   "outputs": [],
   "source": [
    "data = data_EE"
   ]
  },
  {
   "cell_type": "code",
   "execution_count": 46,
   "metadata": {},
   "outputs": [],
   "source": [
    "inSC = len(data[(data.is_seed == False) & (data.in_scluster == True)])\n",
    "data = pd.concat([data[(data.is_seed == False) & (data.in_scluster == True)],\n",
    "                  data[(data.is_seed == False) & (data.in_scluster == False)].iloc[:25*inSC]])"
   ]
  },
  {
   "cell_type": "code",
   "execution_count": 47,
   "metadata": {
    "ExecuteTime": {
     "end_time": "2020-05-03T19:40:22.348120Z",
     "start_time": "2020-05-03T19:40:21.924777Z"
    }
   },
   "outputs": [],
   "source": [
    "X = data[ cols ].values\n",
    "truth = data[[\"in_scluster\"]].values\n",
    "y = np.array(truth[:], dtype=int)"
   ]
  },
  {
   "cell_type": "code",
   "execution_count": 48,
   "metadata": {
    "ExecuteTime": {
     "end_time": "2020-05-03T19:40:52.284346Z",
     "start_time": "2020-05-03T19:40:51.557266Z"
    }
   },
   "outputs": [
    {
     "name": "stdout",
     "output_type": "stream",
     "text": [
      "25.0\n"
     ]
    }
   ],
   "source": [
    "w = len(data[(data.is_seed == False) & (data.in_scluster == False)]) / len(data[(data.is_seed == False) & (data.in_scluster==True)])\n",
    "print(w)"
   ]
  },
  {
   "cell_type": "code",
   "execution_count": 49,
   "metadata": {
    "ExecuteTime": {
     "end_time": "2020-05-03T19:41:21.619919Z",
     "start_time": "2020-05-03T19:41:20.903085Z"
    }
   },
   "outputs": [],
   "source": [
    "data[\"w\"] = data.in_scluster.apply(lambda a: w if a else 1.)\n",
    "weight = data.w.values"
   ]
  },
  {
   "cell_type": "code",
   "execution_count": 35,
   "metadata": {
    "ExecuteTime": {
     "end_time": "2020-05-03T16:59:09.418959Z",
     "start_time": "2020-05-03T16:59:08.383315Z"
    }
   },
   "outputs": [],
   "source": [
    "from sklearn.preprocessing import MinMaxScaler, StandardScaler, QuantileTransformer\n",
    "from sklearn.model_selection import train_test_split\n",
    "scaler = StandardScaler()\n",
    "X_scaled = scaler.fit_transform(X)\n",
    "pickle.dump(scaler, open(model_dir + \"/scaler_model_v3_EB.pkl\", \"wb\"))"
   ]
  },
  {
   "cell_type": "code",
   "execution_count": 51,
   "metadata": {
    "ExecuteTime": {
     "end_time": "2020-05-03T19:41:51.724830Z",
     "start_time": "2020-05-03T19:41:49.713894Z"
    }
   },
   "outputs": [],
   "source": [
    "from sklearn.preprocessing import MinMaxScaler, StandardScaler, QuantileTransformer\n",
    "from sklearn.model_selection import train_test_split\n",
    "scaler = StandardScaler()\n",
    "X_scaled = scaler.fit_transform(X)\n",
    "pickle.dump(scaler, open(model_dir+\"/scaler_model_{}_EE.pkl\".format(model_version), \"wb\"))"
   ]
  },
  {
   "cell_type": "code",
   "execution_count": 68,
   "metadata": {
    "ExecuteTime": {
     "end_time": "2020-04-27T20:36:06.424318Z",
     "start_time": "2020-04-27T20:36:06.415406Z"
    }
   },
   "outputs": [
    {
     "data": {
      "text/plain": [
       "array([-9.48937722e-02, -2.59092069e-02, -3.23802034e-02,  8.54387012e+01,\n",
       "        1.95493967e+01, -7.99008024e-03,  1.68780274e-05,  8.92748605e+00,\n",
       "        1.92283524e+00,  1.08804190e+00,  3.39450646e-02,  1.85485538e-05,\n",
       "        4.13554904e-02,  4.96716655e-01,  5.44590774e+00,  4.09401210e+00,\n",
       "        3.71462585e-02,  4.80538918e-05,  4.39461957e-02,  5.70297494e-01,\n",
       "        3.15806715e+00])"
      ]
     },
     "execution_count": 68,
     "metadata": {},
     "output_type": "execute_result"
    }
   ],
   "source": [
    "scaler.mean_"
   ]
  },
  {
   "cell_type": "code",
   "execution_count": 69,
   "metadata": {
    "ExecuteTime": {
     "end_time": "2020-04-27T20:36:11.862086Z",
     "start_time": "2020-04-27T20:36:11.856918Z"
    }
   },
   "outputs": [
    {
     "data": {
      "text/plain": [
       "array([2.27502784e+00, 1.80358311e+00, 9.99475624e-01, 1.25874656e+02,\n",
       "       2.62122915e+01, 1.01794340e-01, 1.81101293e-01, 6.05398279e+00,\n",
       "       1.77231292e+00, 5.03589571e-01, 1.40048073e-02, 4.14562658e-04,\n",
       "       1.53689902e-02, 4.13270103e-01, 5.68762983e+00, 9.93354108e+00,\n",
       "       1.65018741e-02, 5.45041026e-04, 1.80243836e-02, 4.37347302e-01,\n",
       "       4.28826919e+00])"
      ]
     },
     "execution_count": 69,
     "metadata": {},
     "output_type": "execute_result"
    }
   ],
   "source": [
    "scaler.scale_"
   ]
  },
  {
   "cell_type": "code",
   "execution_count": 52,
   "metadata": {
    "ExecuteTime": {
     "end_time": "2020-05-03T19:42:21.213537Z",
     "start_time": "2020-05-03T19:42:20.253569Z"
    }
   },
   "outputs": [],
   "source": [
    "X_train, X_val, y_train, y_val, w_train, w_val = train_test_split(X_scaled, y, weight, test_size=0.40)"
   ]
  },
  {
   "cell_type": "markdown",
   "metadata": {},
   "source": [
    "# Training"
   ]
  },
  {
   "cell_type": "code",
   "execution_count": 53,
   "metadata": {
    "ExecuteTime": {
     "end_time": "2020-05-03T15:15:19.694207Z",
     "start_time": "2020-05-03T15:15:13.962325Z"
    }
   },
   "outputs": [],
   "source": [
    "# Import all the required Libraries\n",
    "import tensorflow\n",
    "import keras\n",
    "import pandas as pd\n",
    "import numpy as np\n",
    "import matplotlib.pyplot as plt\n",
    "from keras.datasets import mnist\n",
    "from keras.models import Model, Sequential\n",
    "from keras.layers import Dense, Conv2D, Dropout, BatchNormalization, Input, Reshape, Flatten, Deconvolution2D, Conv2DTranspose, MaxPooling2D, UpSampling2D, Lambda\n",
    "from keras.layers.advanced_activations import LeakyReLU\n",
    "from keras.optimizers import adam\n",
    "from keras import callbacks\n",
    "from keras import backend as K\n",
    "from keras import regularizers\n",
    "from keras.callbacks import *"
   ]
  },
  {
   "cell_type": "code",
   "execution_count": 61,
   "metadata": {
    "ExecuteTime": {
     "end_time": "2020-05-03T19:43:37.659152Z",
     "start_time": "2020-05-03T19:43:37.313696Z"
    }
   },
   "outputs": [
    {
     "name": "stdout",
     "output_type": "stream",
     "text": [
      "Model: \"sequential_9\"\n",
      "_________________________________________________________________\n",
      "Layer (type)                 Output Shape              Param #   \n",
      "=================================================================\n",
      "dense_43 (Dense)             (None, 100)               2200      \n",
      "_________________________________________________________________\n",
      "dropout_35 (Dropout)         (None, 100)               0         \n",
      "_________________________________________________________________\n",
      "dense_44 (Dense)             (None, 100)               10100     \n",
      "_________________________________________________________________\n",
      "dropout_36 (Dropout)         (None, 100)               0         \n",
      "_________________________________________________________________\n",
      "dense_45 (Dense)             (None, 100)               10100     \n",
      "_________________________________________________________________\n",
      "dropout_37 (Dropout)         (None, 100)               0         \n",
      "_________________________________________________________________\n",
      "dense_46 (Dense)             (None, 100)               10100     \n",
      "_________________________________________________________________\n",
      "dropout_38 (Dropout)         (None, 100)               0         \n",
      "_________________________________________________________________\n",
      "dense_47 (Dense)             (None, 1)                 101       \n",
      "=================================================================\n",
      "Total params: 32,601\n",
      "Trainable params: 32,601\n",
      "Non-trainable params: 0\n",
      "_________________________________________________________________\n"
     ]
    }
   ],
   "source": [
    "model = Sequential()\n",
    "model.add(Dense(100, input_dim=X_val.shape[1], activation=\"relu\",kernel_regularizer=regularizers.l2(0.01)))\n",
    "model.add(Dropout(0.05))\n",
    "model.add(Dense(100, activation=\"relu\",kernel_regularizer=regularizers.l2(0.01)))\n",
    "model.add(Dropout(0.05))\n",
    "model.add(Dense(100, activation=\"relu\"))\n",
    "model.add(Dropout(0.05))\n",
    "model.add(Dense(100, activation=\"relu\"))\n",
    "model.add(Dropout(0.05))\n",
    "model.add(Dense(1, activation=\"sigmoid\"))\n",
    "\n",
    "\n",
    "model.compile(optimizer='adagrad',\n",
    "              loss='binary_crossentropy',\n",
    "              metrics=['accuracy'])\n",
    "\n",
    "model.summary()"
   ]
  },
  {
   "cell_type": "code",
   "execution_count": 67,
   "metadata": {
    "ExecuteTime": {
     "end_time": "2020-05-03T19:42:50.162047Z",
     "start_time": "2020-05-03T19:42:49.929560Z"
    }
   },
   "outputs": [
    {
     "name": "stdout",
     "output_type": "stream",
     "text": [
      "Model: \"sequential_10\"\n",
      "_________________________________________________________________\n",
      "Layer (type)                 Output Shape              Param #   \n",
      "=================================================================\n",
      "dense_48 (Dense)             (None, 200)               4400      \n",
      "_________________________________________________________________\n",
      "dropout_39 (Dropout)         (None, 200)               0         \n",
      "_________________________________________________________________\n",
      "dense_49 (Dense)             (None, 200)               40200     \n",
      "_________________________________________________________________\n",
      "dropout_40 (Dropout)         (None, 200)               0         \n",
      "_________________________________________________________________\n",
      "dense_50 (Dense)             (None, 100)               20100     \n",
      "_________________________________________________________________\n",
      "dropout_41 (Dropout)         (None, 100)               0         \n",
      "_________________________________________________________________\n",
      "dense_51 (Dense)             (None, 100)               10100     \n",
      "_________________________________________________________________\n",
      "dropout_42 (Dropout)         (None, 100)               0         \n",
      "_________________________________________________________________\n",
      "dense_52 (Dense)             (None, 50)                5050      \n",
      "_________________________________________________________________\n",
      "dropout_43 (Dropout)         (None, 50)                0         \n",
      "_________________________________________________________________\n",
      "dense_53 (Dense)             (None, 1)                 51        \n",
      "=================================================================\n",
      "Total params: 79,901\n",
      "Trainable params: 79,901\n",
      "Non-trainable params: 0\n",
      "_________________________________________________________________\n"
     ]
    }
   ],
   "source": [
    "model = Sequential()\n",
    "model.add(Dense(200, input_dim=X_val.shape[1], activation=\"relu\",kernel_regularizer=regularizers.l2(0.01)))\n",
    "model.add(Dropout(0.1))\n",
    "model.add(Dense(200, activation=\"relu\",kernel_regularizer=regularizers.l2(0.01)))\n",
    "model.add(Dropout(0.1))\n",
    "model.add(Dense(100, activation=\"relu\"))\n",
    "model.add(Dropout(0.05))\n",
    "model.add(Dense(100, activation=\"relu\"))\n",
    "model.add(Dropout(0.05))\n",
    "model.add(Dense(50, activation=\"relu\"))\n",
    "model.add(Dropout(0.01))\n",
    "model.add(Dense(1, activation=\"sigmoid\"))\n",
    "\n",
    "\n",
    "model.compile(optimizer='adam',\n",
    "              loss='binary_crossentropy',\n",
    "              metrics=['accuracy'])\n",
    "\n",
    "model.summary()"
   ]
  },
  {
   "cell_type": "code",
   "execution_count": 23,
   "metadata": {
    "ExecuteTime": {
     "end_time": "2020-04-27T20:43:36.141251Z",
     "start_time": "2020-04-27T20:43:36.131252Z"
    }
   },
   "outputs": [],
   "source": [
    "import math\n",
    "def step_decay(epoch):\n",
    "    initial_lrate = 0.4\n",
    "    drop = 0.65\n",
    "    epochs_drop = 5.0\n",
    "    lrate = initial_lrate * math.pow(drop, math.floor((1+epoch)/epochs_drop))\n",
    "    if lrate < 0.002: return 0.002\n",
    "    return lrate"
   ]
  },
  {
   "cell_type": "code",
   "execution_count": 39,
   "metadata": {
    "ExecuteTime": {
     "end_time": "2020-05-03T17:51:50.420166Z",
     "start_time": "2020-05-03T17:00:34.510038Z"
    },
    "scrolled": true
   },
   "outputs": [
    {
     "name": "stdout",
     "output_type": "stream",
     "text": [
      "Train on 13626325 samples, validate on 9084217 samples\n",
      "Epoch 1/400\n",
      "13626325/13626325 [==============================] - 65s 5us/step - loss: 0.3130 - accuracy: 0.9435 - val_loss: 0.2333 - val_accuracy: 0.9480\n",
      "Epoch 2/400\n",
      "13626325/13626325 [==============================] - 64s 5us/step - loss: 0.2306 - accuracy: 0.9508 - val_loss: 0.2152 - val_accuracy: 0.9493\n",
      "\n",
      "Epoch 00002: val_loss improved from inf to 0.21516, saving model to ../models/v6_detseparated//model_v3_EB.hd5\n",
      "Epoch 3/400\n",
      "13626325/13626325 [==============================] - 65s 5us/step - loss: 0.2196 - accuracy: 0.9523 - val_loss: 0.2081 - val_accuracy: 0.9554\n",
      "Epoch 4/400\n",
      "13626325/13626325 [==============================] - 64s 5us/step - loss: 0.2144 - accuracy: 0.9529 - val_loss: 0.2064 - val_accuracy: 0.9502\n",
      "\n",
      "Epoch 00004: val_loss improved from 0.21516 to 0.20640, saving model to ../models/v6_detseparated//model_v3_EB.hd5\n",
      "Epoch 5/400\n",
      "13626325/13626325 [==============================] - 64s 5us/step - loss: 0.2110 - accuracy: 0.9532 - val_loss: 0.2020 - val_accuracy: 0.9574\n",
      "Epoch 6/400\n",
      "13626325/13626325 [==============================] - 64s 5us/step - loss: 0.2085 - accuracy: 0.9537 - val_loss: 0.2040 - val_accuracy: 0.9459\n",
      "\n",
      "Epoch 00006: val_loss improved from 0.20640 to 0.20403, saving model to ../models/v6_detseparated//model_v3_EB.hd5\n",
      "Epoch 7/400\n",
      "13626325/13626325 [==============================] - 63s 5us/step - loss: 0.2065 - accuracy: 0.9539 - val_loss: 0.2029 - val_accuracy: 0.9487\n",
      "Epoch 8/400\n",
      "13626325/13626325 [==============================] - 64s 5us/step - loss: 0.2046 - accuracy: 0.9543 - val_loss: 0.1980 - val_accuracy: 0.9541\n",
      "\n",
      "Epoch 00008: val_loss improved from 0.20403 to 0.19798, saving model to ../models/v6_detseparated//model_v3_EB.hd5\n",
      "Epoch 9/400\n",
      "13626325/13626325 [==============================] - 64s 5us/step - loss: 0.2033 - accuracy: 0.9545 - val_loss: 0.1970 - val_accuracy: 0.9520\n",
      "Epoch 10/400\n",
      "13626325/13626325 [==============================] - 64s 5us/step - loss: 0.2024 - accuracy: 0.9547 - val_loss: 0.1956 - val_accuracy: 0.9538\n",
      "\n",
      "Epoch 00010: val_loss improved from 0.19798 to 0.19558, saving model to ../models/v6_detseparated//model_v3_EB.hd5\n",
      "Epoch 11/400\n",
      "13626325/13626325 [==============================] - 64s 5us/step - loss: 0.2010 - accuracy: 0.9548 - val_loss: 0.1934 - val_accuracy: 0.9587\n",
      "Epoch 12/400\n",
      "13626325/13626325 [==============================] - 65s 5us/step - loss: 0.2001 - accuracy: 0.9550 - val_loss: 0.1927 - val_accuracy: 0.9572\n",
      "\n",
      "Epoch 00012: val_loss improved from 0.19558 to 0.19267, saving model to ../models/v6_detseparated//model_v3_EB.hd5\n",
      "Epoch 13/400\n",
      "13626325/13626325 [==============================] - 64s 5us/step - loss: 0.1994 - accuracy: 0.9552 - val_loss: 0.1973 - val_accuracy: 0.9474\n",
      "Epoch 14/400\n",
      "13626325/13626325 [==============================] - 64s 5us/step - loss: 0.1987 - accuracy: 0.9552 - val_loss: 0.1934 - val_accuracy: 0.9554\n",
      "\n",
      "Epoch 00014: val_loss did not improve from 0.19267\n",
      "Epoch 15/400\n",
      "13626325/13626325 [==============================] - 64s 5us/step - loss: 0.1981 - accuracy: 0.9553 - val_loss: 0.1935 - val_accuracy: 0.9520\n",
      "Epoch 16/400\n",
      "13626325/13626325 [==============================] - 65s 5us/step - loss: 0.1975 - accuracy: 0.9555 - val_loss: 0.1937 - val_accuracy: 0.9524\n",
      "\n",
      "Epoch 00016: val_loss did not improve from 0.19267\n",
      "Epoch 17/400\n",
      "13626325/13626325 [==============================] - 64s 5us/step - loss: 0.1970 - accuracy: 0.9555 - val_loss: 0.1904 - val_accuracy: 0.9577\n",
      "Epoch 18/400\n",
      "13626325/13626325 [==============================] - 63s 5us/step - loss: 0.1962 - accuracy: 0.9557 - val_loss: 0.1894 - val_accuracy: 0.9559\n",
      "\n",
      "Epoch 00018: val_loss improved from 0.19267 to 0.18942, saving model to ../models/v6_detseparated//model_v3_EB.hd5\n",
      "Epoch 19/400\n",
      "13626325/13626325 [==============================] - 64s 5us/step - loss: 0.1958 - accuracy: 0.9558 - val_loss: 0.1903 - val_accuracy: 0.9601\n",
      "Epoch 20/400\n",
      "13626325/13626325 [==============================] - 64s 5us/step - loss: 0.1956 - accuracy: 0.9559 - val_loss: 0.1888 - val_accuracy: 0.9559\n",
      "\n",
      "Epoch 00020: val_loss improved from 0.18942 to 0.18879, saving model to ../models/v6_detseparated//model_v3_EB.hd5\n",
      "Epoch 21/400\n",
      "13626325/13626325 [==============================] - 64s 5us/step - loss: 0.1951 - accuracy: 0.9558 - val_loss: 0.1891 - val_accuracy: 0.9566\n",
      "Epoch 22/400\n",
      "13626325/13626325 [==============================] - 64s 5us/step - loss: 0.1949 - accuracy: 0.9560 - val_loss: 0.1895 - val_accuracy: 0.9537\n",
      "\n",
      "Epoch 00022: val_loss did not improve from 0.18879\n",
      "Epoch 23/400\n",
      "13626325/13626325 [==============================] - 64s 5us/step - loss: 0.1943 - accuracy: 0.9559 - val_loss: 0.1880 - val_accuracy: 0.9587\n",
      "Epoch 24/400\n",
      "13626325/13626325 [==============================] - 64s 5us/step - loss: 0.1942 - accuracy: 0.9560 - val_loss: 0.1882 - val_accuracy: 0.9579\n",
      "\n",
      "Epoch 00024: val_loss improved from 0.18879 to 0.18819, saving model to ../models/v6_detseparated//model_v3_EB.hd5\n",
      "Epoch 25/400\n",
      "13626325/13626325 [==============================] - 64s 5us/step - loss: 0.1938 - accuracy: 0.9561 - val_loss: 0.1874 - val_accuracy: 0.9554\n",
      "Epoch 26/400\n",
      "13626325/13626325 [==============================] - 64s 5us/step - loss: 0.1935 - accuracy: 0.9562 - val_loss: 0.1880 - val_accuracy: 0.9555\n",
      "\n",
      "Epoch 00026: val_loss improved from 0.18819 to 0.18805, saving model to ../models/v6_detseparated//model_v3_EB.hd5\n",
      "Epoch 27/400\n",
      "13626325/13626325 [==============================] - 64s 5us/step - loss: 0.1933 - accuracy: 0.9562 - val_loss: 0.1880 - val_accuracy: 0.9581\n",
      "Epoch 28/400\n",
      "13626325/13626325 [==============================] - 63s 5us/step - loss: 0.1930 - accuracy: 0.9563 - val_loss: 0.1879 - val_accuracy: 0.9568\n",
      "\n",
      "Epoch 00028: val_loss improved from 0.18805 to 0.18789, saving model to ../models/v6_detseparated//model_v3_EB.hd5\n",
      "Epoch 29/400\n",
      "13626325/13626325 [==============================] - 64s 5us/step - loss: 0.1928 - accuracy: 0.9563 - val_loss: 0.1878 - val_accuracy: 0.9531\n",
      "Epoch 30/400\n",
      "13626325/13626325 [==============================] - 64s 5us/step - loss: 0.1924 - accuracy: 0.9564 - val_loss: 0.1863 - val_accuracy: 0.9554\n",
      "\n",
      "Epoch 00030: val_loss improved from 0.18789 to 0.18628, saving model to ../models/v6_detseparated//model_v3_EB.hd5\n",
      "Epoch 31/400\n",
      "13626325/13626325 [==============================] - 64s 5us/step - loss: 0.1921 - accuracy: 0.9566 - val_loss: 0.1865 - val_accuracy: 0.9606\n",
      "Epoch 32/400\n",
      "13626325/13626325 [==============================] - 64s 5us/step - loss: 0.1917 - accuracy: 0.9565 - val_loss: 0.1891 - val_accuracy: 0.9498\n",
      "\n",
      "Epoch 00032: val_loss did not improve from 0.18628\n",
      "Epoch 33/400\n",
      "13626325/13626325 [==============================] - 64s 5us/step - loss: 0.1919 - accuracy: 0.9564 - val_loss: 0.1875 - val_accuracy: 0.9527\n",
      "Epoch 34/400\n",
      "13626325/13626325 [==============================] - 64s 5us/step - loss: 0.1914 - accuracy: 0.9565 - val_loss: 0.1860 - val_accuracy: 0.9589\n",
      "\n",
      "Epoch 00034: val_loss improved from 0.18628 to 0.18600, saving model to ../models/v6_detseparated//model_v3_EB.hd5\n",
      "Epoch 35/400\n",
      "13626325/13626325 [==============================] - 64s 5us/step - loss: 0.1914 - accuracy: 0.9566 - val_loss: 0.1856 - val_accuracy: 0.9572\n",
      "Epoch 36/400\n",
      "13626325/13626325 [==============================] - 64s 5us/step - loss: 0.1911 - accuracy: 0.9566 - val_loss: 0.1863 - val_accuracy: 0.9564\n",
      "\n",
      "Epoch 00036: val_loss did not improve from 0.18600\n",
      "Epoch 37/400\n",
      "13626325/13626325 [==============================] - 64s 5us/step - loss: 0.1910 - accuracy: 0.9567 - val_loss: 0.1867 - val_accuracy: 0.9559\n",
      "Epoch 38/400\n",
      "13626325/13626325 [==============================] - 64s 5us/step - loss: 0.1909 - accuracy: 0.9567 - val_loss: 0.1861 - val_accuracy: 0.9582\n",
      "\n",
      "Epoch 00038: val_loss did not improve from 0.18600\n",
      "Epoch 39/400\n",
      "13626325/13626325 [==============================] - 63s 5us/step - loss: 0.1907 - accuracy: 0.9566 - val_loss: 0.1849 - val_accuracy: 0.9562\n",
      "Epoch 40/400\n",
      "13626325/13626325 [==============================] - 64s 5us/step - loss: 0.1905 - accuracy: 0.9567 - val_loss: 0.1852 - val_accuracy: 0.9582\n",
      "\n",
      "Epoch 00040: val_loss improved from 0.18600 to 0.18518, saving model to ../models/v6_detseparated//model_v3_EB.hd5\n",
      "Epoch 41/400\n",
      "13626325/13626325 [==============================] - 64s 5us/step - loss: 0.1903 - accuracy: 0.9568 - val_loss: 0.1850 - val_accuracy: 0.9605\n",
      "Epoch 42/400\n",
      "13626325/13626325 [==============================] - 64s 5us/step - loss: 0.1901 - accuracy: 0.9567 - val_loss: 0.1848 - val_accuracy: 0.9560\n",
      "\n",
      "Epoch 00042: val_loss improved from 0.18518 to 0.18477, saving model to ../models/v6_detseparated//model_v3_EB.hd5\n",
      "Epoch 43/400\n",
      "13626325/13626325 [==============================] - 64s 5us/step - loss: 0.1897 - accuracy: 0.9568 - val_loss: 0.1857 - val_accuracy: 0.9573\n",
      "Epoch 44/400\n",
      "13626325/13626325 [==============================] - 64s 5us/step - loss: 0.1898 - accuracy: 0.9568 - val_loss: 0.1851 - val_accuracy: 0.9548\n",
      "\n",
      "Epoch 00044: val_loss did not improve from 0.18477\n",
      "Epoch 45/400\n",
      "13626325/13626325 [==============================] - 64s 5us/step - loss: 0.1897 - accuracy: 0.9569 - val_loss: 0.1844 - val_accuracy: 0.9600\n",
      "Epoch 46/400\n",
      "13626325/13626325 [==============================] - 64s 5us/step - loss: 0.1895 - accuracy: 0.9569 - val_loss: 0.1842 - val_accuracy: 0.9560\n",
      "\n",
      "Epoch 00046: val_loss improved from 0.18477 to 0.18424, saving model to ../models/v6_detseparated//model_v3_EB.hd5\n",
      "Epoch 47/400\n",
      "13626325/13626325 [==============================] - 64s 5us/step - loss: 0.1894 - accuracy: 0.9569 - val_loss: 0.1855 - val_accuracy: 0.9523\n",
      "Epoch 48/400\n",
      "13626325/13626325 [==============================] - 64s 5us/step - loss: 0.1894 - accuracy: 0.9568 - val_loss: 0.1841 - val_accuracy: 0.9568\n",
      "\n",
      "Epoch 00048: val_loss improved from 0.18424 to 0.18411, saving model to ../models/v6_detseparated//model_v3_EB.hd5\n",
      "Epoch 49/400\n",
      "13626325/13626325 [==============================] - 63s 5us/step - loss: 0.1890 - accuracy: 0.9570 - val_loss: 0.1842 - val_accuracy: 0.9617\n",
      "Epoch 50/400\n",
      "13626325/13626325 [==============================] - 64s 5us/step - loss: 0.1890 - accuracy: 0.9570 - val_loss: 0.1852 - val_accuracy: 0.9527\n",
      "\n",
      "Epoch 00050: val_loss did not improve from 0.18411\n",
      "Epoch 51/400\n",
      "13626325/13626325 [==============================] - 64s 5us/step - loss: 0.1889 - accuracy: 0.9570 - val_loss: 0.1842 - val_accuracy: 0.9541\n",
      "Epoch 52/400\n",
      "13626325/13626325 [==============================] - 64s 5us/step - loss: 0.1888 - accuracy: 0.9570 - val_loss: 0.1837 - val_accuracy: 0.9597\n",
      "\n",
      "Epoch 00052: val_loss improved from 0.18411 to 0.18366, saving model to ../models/v6_detseparated//model_v3_EB.hd5\n",
      "Epoch 53/400\n",
      "13626325/13626325 [==============================] - 64s 5us/step - loss: 0.1887 - accuracy: 0.9570 - val_loss: 0.1840 - val_accuracy: 0.9569\n",
      "Epoch 54/400\n",
      "13626325/13626325 [==============================] - 64s 5us/step - loss: 0.1885 - accuracy: 0.9570 - val_loss: 0.1837 - val_accuracy: 0.9601\n",
      "\n",
      "Epoch 00054: val_loss improved from 0.18366 to 0.18366, saving model to ../models/v6_detseparated//model_v3_EB.hd5\n",
      "Epoch 55/400\n",
      "13626325/13626325 [==============================] - 64s 5us/step - loss: 0.1884 - accuracy: 0.9570 - val_loss: 0.1835 - val_accuracy: 0.9552\n",
      "Epoch 56/400\n",
      "13626325/13626325 [==============================] - 64s 5us/step - loss: 0.1884 - accuracy: 0.9570 - val_loss: 0.1830 - val_accuracy: 0.9565\n",
      "\n",
      "Epoch 00056: val_loss improved from 0.18366 to 0.18302, saving model to ../models/v6_detseparated//model_v3_EB.hd5\n",
      "Epoch 57/400\n",
      "13626325/13626325 [==============================] - 64s 5us/step - loss: 0.1882 - accuracy: 0.9571 - val_loss: 0.1833 - val_accuracy: 0.9615\n",
      "Epoch 58/400\n",
      "13626325/13626325 [==============================] - 65s 5us/step - loss: 0.1882 - accuracy: 0.9571 - val_loss: 0.1828 - val_accuracy: 0.9579\n",
      "\n",
      "Epoch 00058: val_loss improved from 0.18302 to 0.18276, saving model to ../models/v6_detseparated//model_v3_EB.hd5\n",
      "Epoch 59/400\n",
      "13626325/13626325 [==============================] - 64s 5us/step - loss: 0.1880 - accuracy: 0.9571 - val_loss: 0.1835 - val_accuracy: 0.9561\n",
      "Epoch 60/400\n",
      "13626325/13626325 [==============================] - 63s 5us/step - loss: 0.1878 - accuracy: 0.9571 - val_loss: 0.1826 - val_accuracy: 0.9604\n",
      "\n",
      "Epoch 00060: val_loss improved from 0.18276 to 0.18263, saving model to ../models/v6_detseparated//model_v3_EB.hd5\n",
      "Epoch 61/400\n",
      "13626325/13626325 [==============================] - 64s 5us/step - loss: 0.1877 - accuracy: 0.9571 - val_loss: 0.1865 - val_accuracy: 0.9510\n",
      "Epoch 62/400\n",
      "13626325/13626325 [==============================] - 64s 5us/step - loss: 0.1878 - accuracy: 0.9571 - val_loss: 0.1833 - val_accuracy: 0.9551\n",
      "\n",
      "Epoch 00062: val_loss did not improve from 0.18263\n",
      "Epoch 63/400\n",
      "13626325/13626325 [==============================] - 64s 5us/step - loss: 0.1876 - accuracy: 0.9571 - val_loss: 0.1825 - val_accuracy: 0.9565\n",
      "Epoch 64/400\n",
      "13626325/13626325 [==============================] - 64s 5us/step - loss: 0.1875 - accuracy: 0.9572 - val_loss: 0.1834 - val_accuracy: 0.9550\n",
      "\n",
      "Epoch 00064: val_loss did not improve from 0.18263\n",
      "Epoch 65/400\n",
      "13626325/13626325 [==============================] - 64s 5us/step - loss: 0.1874 - accuracy: 0.9572 - val_loss: 0.1838 - val_accuracy: 0.9571\n",
      "Epoch 66/400\n",
      "13626325/13626325 [==============================] - 64s 5us/step - loss: 0.1872 - accuracy: 0.9573 - val_loss: 0.1821 - val_accuracy: 0.9596\n",
      "\n",
      "Epoch 00066: val_loss improved from 0.18263 to 0.18207, saving model to ../models/v6_detseparated//model_v3_EB.hd5\n",
      "Epoch 67/400\n",
      "13626325/13626325 [==============================] - 64s 5us/step - loss: 0.1874 - accuracy: 0.9572 - val_loss: 0.1832 - val_accuracy: 0.9629\n",
      "Epoch 68/400\n",
      "13626325/13626325 [==============================] - 64s 5us/step - loss: 0.1872 - accuracy: 0.9572 - val_loss: 0.1819 - val_accuracy: 0.9601\n",
      "\n",
      "Epoch 00068: val_loss improved from 0.18207 to 0.18190, saving model to ../models/v6_detseparated//model_v3_EB.hd5\n",
      "Epoch 69/400\n",
      "13626325/13626325 [==============================] - 64s 5us/step - loss: 0.1870 - accuracy: 0.9572 - val_loss: 0.1818 - val_accuracy: 0.9592\n",
      "Epoch 70/400\n",
      "13626325/13626325 [==============================] - 63s 5us/step - loss: 0.1870 - accuracy: 0.9574 - val_loss: 0.1820 - val_accuracy: 0.9585\n",
      "\n",
      "Epoch 00070: val_loss did not improve from 0.18190\n",
      "Epoch 71/400\n",
      "13626325/13626325 [==============================] - 64s 5us/step - loss: 0.1868 - accuracy: 0.9573 - val_loss: 0.1822 - val_accuracy: 0.9576\n",
      "Epoch 72/400\n",
      "13626325/13626325 [==============================] - 64s 5us/step - loss: 0.1868 - accuracy: 0.9572 - val_loss: 0.1836 - val_accuracy: 0.9542\n",
      "\n",
      "Epoch 00072: val_loss did not improve from 0.18190\n",
      "Epoch 73/400\n",
      "13626325/13626325 [==============================] - 64s 5us/step - loss: 0.1867 - accuracy: 0.9573 - val_loss: 0.1824 - val_accuracy: 0.9612\n",
      "Epoch 74/400\n",
      "13626325/13626325 [==============================] - 64s 5us/step - loss: 0.1868 - accuracy: 0.9573 - val_loss: 0.1864 - val_accuracy: 0.9495\n",
      "\n",
      "Epoch 00074: val_loss did not improve from 0.18190\n",
      "Epoch 75/400\n",
      "13626325/13626325 [==============================] - 64s 5us/step - loss: 0.1868 - accuracy: 0.9573 - val_loss: 0.1818 - val_accuracy: 0.9567\n",
      "Epoch 76/400\n",
      "13626325/13626325 [==============================] - 64s 5us/step - loss: 0.1865 - accuracy: 0.9573 - val_loss: 0.1826 - val_accuracy: 0.9551\n",
      "\n",
      "Epoch 00076: val_loss did not improve from 0.18190\n",
      "Epoch 77/400\n",
      "13626325/13626325 [==============================] - 64s 5us/step - loss: 0.1864 - accuracy: 0.9573 - val_loss: 0.1823 - val_accuracy: 0.9615\n",
      "Epoch 78/400\n",
      "13626325/13626325 [==============================] - 64s 5us/step - loss: 0.1864 - accuracy: 0.9573 - val_loss: 0.1854 - val_accuracy: 0.9513\n",
      "\n",
      "Epoch 00078: val_loss did not improve from 0.18190\n",
      "Epoch 79/400\n",
      "13626325/13626325 [==============================] - 64s 5us/step - loss: 0.1862 - accuracy: 0.9573 - val_loss: 0.1833 - val_accuracy: 0.9524\n",
      "Epoch 80/400\n",
      "13626325/13626325 [==============================] - 64s 5us/step - loss: 0.1860 - accuracy: 0.9574 - val_loss: 0.1820 - val_accuracy: 0.9552\n",
      "\n",
      "Epoch 00080: val_loss did not improve from 0.18190\n",
      "Epoch 81/400\n",
      "13626325/13626325 [==============================] - 63s 5us/step - loss: 0.1861 - accuracy: 0.9573 - val_loss: 0.1815 - val_accuracy: 0.9578\n",
      "Epoch 82/400\n",
      "13626325/13626325 [==============================] - 64s 5us/step - loss: 0.1861 - accuracy: 0.9573 - val_loss: 0.1826 - val_accuracy: 0.9553\n",
      "\n",
      "Epoch 00082: val_loss did not improve from 0.18190\n",
      "Epoch 83/400\n"
     ]
    },
    {
     "name": "stdout",
     "output_type": "stream",
     "text": [
      "13626325/13626325 [==============================] - 64s 5us/step - loss: 0.1862 - accuracy: 0.9574 - val_loss: 0.1826 - val_accuracy: 0.9542\n",
      "Epoch 84/400\n",
      "13626325/13626325 [==============================] - 64s 5us/step - loss: 0.1857 - accuracy: 0.9575 - val_loss: 0.1814 - val_accuracy: 0.9607\n",
      "\n",
      "Epoch 00084: val_loss improved from 0.18190 to 0.18143, saving model to ../models/v6_detseparated//model_v3_EB.hd5\n",
      "Epoch 85/400\n",
      "13626325/13626325 [==============================] - 64s 5us/step - loss: 0.1859 - accuracy: 0.9575 - val_loss: 0.1815 - val_accuracy: 0.9624\n",
      "Epoch 86/400\n",
      "13626325/13626325 [==============================] - 64s 5us/step - loss: 0.1859 - accuracy: 0.9574 - val_loss: 0.1815 - val_accuracy: 0.9585\n",
      "\n",
      "Epoch 00086: val_loss did not improve from 0.18143\n",
      "Epoch 87/400\n",
      "13626325/13626325 [==============================] - 64s 5us/step - loss: 0.1861 - accuracy: 0.9574 - val_loss: 0.1822 - val_accuracy: 0.9540\n",
      "Epoch 88/400\n",
      "13626325/13626325 [==============================] - 64s 5us/step - loss: 0.1857 - accuracy: 0.9575 - val_loss: 0.1819 - val_accuracy: 0.9627\n",
      "\n",
      "Epoch 00088: val_loss did not improve from 0.18143\n",
      "Epoch 89/400\n",
      "13626325/13626325 [==============================] - 64s 5us/step - loss: 0.1858 - accuracy: 0.9576 - val_loss: 0.1808 - val_accuracy: 0.9593\n",
      "Epoch 90/400\n",
      "13626325/13626325 [==============================] - 64s 5us/step - loss: 0.1854 - accuracy: 0.9576 - val_loss: 0.1812 - val_accuracy: 0.9591\n",
      "\n",
      "Epoch 00090: val_loss improved from 0.18143 to 0.18120, saving model to ../models/v6_detseparated//model_v3_EB.hd5\n",
      "Epoch 91/400\n",
      "13626325/13626325 [==============================] - 63s 5us/step - loss: 0.1854 - accuracy: 0.9575 - val_loss: 0.1813 - val_accuracy: 0.9557\n",
      "Epoch 92/400\n",
      "13626325/13626325 [==============================] - 64s 5us/step - loss: 0.1853 - accuracy: 0.9575 - val_loss: 0.1814 - val_accuracy: 0.9558\n",
      "\n",
      "Epoch 00092: val_loss did not improve from 0.18120\n",
      "Epoch 93/400\n",
      "13626325/13626325 [==============================] - 64s 5us/step - loss: 0.1855 - accuracy: 0.9575 - val_loss: 0.1798 - val_accuracy: 0.9583\n",
      "Epoch 94/400\n",
      "13626325/13626325 [==============================] - 64s 5us/step - loss: 0.1856 - accuracy: 0.9574 - val_loss: 0.1815 - val_accuracy: 0.9625\n",
      "\n",
      "Epoch 00094: val_loss did not improve from 0.18120\n",
      "Epoch 95/400\n",
      "13626325/13626325 [==============================] - 64s 5us/step - loss: 0.1853 - accuracy: 0.9575 - val_loss: 0.1830 - val_accuracy: 0.9532\n",
      "Epoch 96/400\n",
      "13626325/13626325 [==============================] - 64s 5us/step - loss: 0.1852 - accuracy: 0.9575 - val_loss: 0.1807 - val_accuracy: 0.9570\n",
      "\n",
      "Epoch 00096: val_loss improved from 0.18120 to 0.18071, saving model to ../models/v6_detseparated//model_v3_EB.hd5\n",
      "Epoch 97/400\n",
      "13626325/13626325 [==============================] - 64s 5us/step - loss: 0.1853 - accuracy: 0.9576 - val_loss: 0.1807 - val_accuracy: 0.9564\n",
      "Epoch 98/400\n",
      "13626325/13626325 [==============================] - 64s 5us/step - loss: 0.1852 - accuracy: 0.9575 - val_loss: 0.1803 - val_accuracy: 0.9580\n",
      "\n",
      "Epoch 00098: val_loss improved from 0.18071 to 0.18030, saving model to ../models/v6_detseparated//model_v3_EB.hd5\n",
      "Epoch 99/400\n",
      "13626325/13626325 [==============================] - 64s 5us/step - loss: 0.1853 - accuracy: 0.9576 - val_loss: 0.1801 - val_accuracy: 0.9578\n",
      "Epoch 100/400\n",
      "13626325/13626325 [==============================] - 64s 5us/step - loss: 0.1850 - accuracy: 0.9576 - val_loss: 0.1812 - val_accuracy: 0.9543\n",
      "\n",
      "Epoch 00100: val_loss did not improve from 0.18030\n",
      "Epoch 101/400\n",
      "13626325/13626325 [==============================] - 64s 5us/step - loss: 0.1850 - accuracy: 0.9577 - val_loss: 0.1818 - val_accuracy: 0.9538\n",
      "Epoch 102/400\n",
      "13626325/13626325 [==============================] - 63s 5us/step - loss: 0.1849 - accuracy: 0.9576 - val_loss: 0.1805 - val_accuracy: 0.9601\n",
      "\n",
      "Epoch 00102: val_loss did not improve from 0.18030\n",
      "Epoch 103/400\n",
      "13626325/13626325 [==============================] - 64s 5us/step - loss: 0.1849 - accuracy: 0.9575 - val_loss: 0.1806 - val_accuracy: 0.9560\n",
      "Epoch 104/400\n",
      "13626325/13626325 [==============================] - 64s 5us/step - loss: 0.1848 - accuracy: 0.9576 - val_loss: 0.1806 - val_accuracy: 0.9578\n",
      "\n",
      "Epoch 00104: val_loss did not improve from 0.18030\n",
      "Epoch 105/400\n",
      "13626325/13626325 [==============================] - 64s 5us/step - loss: 0.1849 - accuracy: 0.9577 - val_loss: 0.1813 - val_accuracy: 0.9553\n",
      "Epoch 106/400\n",
      "13626325/13626325 [==============================] - 64s 5us/step - loss: 0.1847 - accuracy: 0.9577 - val_loss: 0.1803 - val_accuracy: 0.9609\n",
      "\n",
      "Epoch 00106: val_loss improved from 0.18030 to 0.18028, saving model to ../models/v6_detseparated//model_v3_EB.hd5\n",
      "Epoch 107/400\n",
      "13626325/13626325 [==============================] - 64s 5us/step - loss: 0.1847 - accuracy: 0.9576 - val_loss: 0.1803 - val_accuracy: 0.9554\n",
      "Epoch 108/400\n",
      "13626325/13626325 [==============================] - 64s 5us/step - loss: 0.1847 - accuracy: 0.9576 - val_loss: 0.1828 - val_accuracy: 0.9539\n",
      "\n",
      "Epoch 00108: val_loss did not improve from 0.18028\n",
      "Epoch 109/400\n",
      "13626325/13626325 [==============================] - 64s 5us/step - loss: 0.1846 - accuracy: 0.9577 - val_loss: 0.1802 - val_accuracy: 0.9575\n",
      "Epoch 110/400\n",
      "13626325/13626325 [==============================] - 64s 5us/step - loss: 0.1847 - accuracy: 0.9577 - val_loss: 0.1805 - val_accuracy: 0.9578\n",
      "\n",
      "Epoch 00110: val_loss did not improve from 0.18028\n",
      "Epoch 111/400\n",
      "13626325/13626325 [==============================] - 64s 5us/step - loss: 0.1846 - accuracy: 0.9578 - val_loss: 0.1804 - val_accuracy: 0.9621\n",
      "Epoch 112/400\n",
      "13626325/13626325 [==============================] - 63s 5us/step - loss: 0.1844 - accuracy: 0.9576 - val_loss: 0.1801 - val_accuracy: 0.9606\n",
      "\n",
      "Epoch 00112: val_loss improved from 0.18028 to 0.18007, saving model to ../models/v6_detseparated//model_v3_EB.hd5\n",
      "Epoch 113/400\n",
      "13626325/13626325 [==============================] - 64s 5us/step - loss: 0.1844 - accuracy: 0.9577 - val_loss: 0.1831 - val_accuracy: 0.9500\n",
      "Epoch 00113: early stopping\n"
     ]
    }
   ],
   "source": [
    "auto_save = ModelCheckpoint(model_dir+ \"/model_{}_EB.hd5\".format(model_version), monitor='val_loss', \n",
    "                    verbose=1, save_best_only=True, save_weights_only=False, \n",
    "                    mode='auto', period=2)\n",
    "\n",
    "early_stop = EarlyStopping(monitor='val_loss', min_delta=0.0001, \n",
    "                            patience=20, verbose=1)\n",
    "\n",
    "\n",
    "#lr_scheduler = callbacks.LearningRateScheduler(step_decay, verbose=1)\n",
    "\n",
    "history = model.fit(\n",
    "            X_train, y_train,\n",
    "            sample_weight = w_train,\n",
    "            batch_size = 4096,\n",
    "            epochs=400,\n",
    "            shuffle=True,\n",
    "            validation_data = (X_val, y_val, w_val),\n",
    "            callbacks = [early_stop, auto_save] #lr_scheduler\n",
    "            )"
   ]
  },
  {
   "cell_type": "code",
   "execution_count": null,
   "metadata": {
    "ExecuteTime": {
     "end_time": "2020-05-03T21:01:53.835957Z",
     "start_time": "2020-05-03T19:44:06.183365Z"
    },
    "scrolled": false
   },
   "outputs": [
    {
     "name": "stdout",
     "output_type": "stream",
     "text": [
      "Train on 5459110 samples, validate on 3639408 samples\n",
      "Epoch 1/400\n",
      "5459110/5459110 [==============================] - 31s 6us/step - loss: 0.4526 - accuracy: 0.9372 - val_loss: 0.2744 - val_accuracy: 0.9484\n",
      "Epoch 2/400\n",
      "5459110/5459110 [==============================] - 30s 6us/step - loss: 0.2784 - accuracy: 0.9485 - val_loss: 0.2663 - val_accuracy: 0.9631\n",
      "Epoch 3/400\n",
      "5459110/5459110 [==============================] - 31s 6us/step - loss: 0.2714 - accuracy: 0.9495 - val_loss: 0.2616 - val_accuracy: 0.9440\n",
      "\n",
      "Epoch 00003: val_loss improved from inf to 0.26157, saving model to ../models/v6_detseparated//model_v3_EE.hd5\n",
      "Epoch 4/400\n",
      "5459110/5459110 [==============================] - 30s 6us/step - loss: 0.2681 - accuracy: 0.9503 - val_loss: 0.2512 - val_accuracy: 0.9575\n",
      "Epoch 5/400\n",
      "5459110/5459110 [==============================] - 31s 6us/step - loss: 0.2672 - accuracy: 0.9504 - val_loss: 0.2564 - val_accuracy: 0.9413\n",
      "Epoch 6/400\n",
      "5459110/5459110 [==============================] - 31s 6us/step - loss: 0.2667 - accuracy: 0.9503 - val_loss: 0.2567 - val_accuracy: 0.9634\n",
      "\n",
      "Epoch 00006: val_loss improved from 0.26157 to 0.25669, saving model to ../models/v6_detseparated//model_v3_EE.hd5\n",
      "Epoch 7/400\n",
      "5459110/5459110 [==============================] - 30s 6us/step - loss: 0.2657 - accuracy: 0.9501 - val_loss: 0.2654 - val_accuracy: 0.9648\n",
      "Epoch 8/400\n",
      "5459110/5459110 [==============================] - 31s 6us/step - loss: 0.2643 - accuracy: 0.9508 - val_loss: 0.2506 - val_accuracy: 0.9442\n",
      "Epoch 9/400\n",
      "5459110/5459110 [==============================] - 31s 6us/step - loss: 0.2652 - accuracy: 0.9505 - val_loss: 0.2492 - val_accuracy: 0.9507\n",
      "\n",
      "Epoch 00009: val_loss improved from 0.25669 to 0.24925, saving model to ../models/v6_detseparated//model_v3_EE.hd5\n",
      "Epoch 10/400\n",
      "5459110/5459110 [==============================] - 30s 6us/step - loss: 0.2637 - accuracy: 0.9508 - val_loss: 0.2547 - val_accuracy: 0.9474\n",
      "Epoch 11/400\n",
      "5459110/5459110 [==============================] - 31s 6us/step - loss: 0.2641 - accuracy: 0.9504 - val_loss: 0.2536 - val_accuracy: 0.9497\n",
      "Epoch 12/400\n",
      "5459110/5459110 [==============================] - 31s 6us/step - loss: 0.2634 - accuracy: 0.9506 - val_loss: 0.2501 - val_accuracy: 0.9490\n",
      "\n",
      "Epoch 00012: val_loss did not improve from 0.24925\n",
      "Epoch 13/400\n",
      "5459110/5459110 [==============================] - 30s 6us/step - loss: 0.2635 - accuracy: 0.9511 - val_loss: 0.2489 - val_accuracy: 0.9515\n",
      "Epoch 14/400\n",
      "5459110/5459110 [==============================] - 31s 6us/step - loss: 0.2631 - accuracy: 0.9507 - val_loss: 0.2501 - val_accuracy: 0.9608\n",
      "Epoch 15/400\n",
      "5459110/5459110 [==============================] - 31s 6us/step - loss: 0.2634 - accuracy: 0.9506 - val_loss: 0.2463 - val_accuracy: 0.9589\n",
      "\n",
      "Epoch 00015: val_loss improved from 0.24925 to 0.24632, saving model to ../models/v6_detseparated//model_v3_EE.hd5\n",
      "Epoch 16/400\n",
      "5451776/5459110 [============================>.] - ETA: 0s - loss: 0.2625 - accuracy: 0.9508"
     ]
    }
   ],
   "source": [
    "auto_save = ModelCheckpoint(model_dir+ \"/model_{}_EE.hd5\".format(model_version) , monitor='val_loss', \n",
    "                    verbose=1, save_best_only=True, save_weights_only=False, \n",
    "                    mode='auto', period=3)\n",
    "\n",
    "early_stop = EarlyStopping(monitor='val_loss', min_delta=0.0001, \n",
    "                            patience=15, verbose=1)\n",
    "\n",
    "\n",
    "#lr_scheduler = callbacks.LearningRateScheduler(step_decay, verbose=1)\n",
    "\n",
    "history = model.fit(\n",
    "            X_train, y_train,\n",
    "            sample_weight = w_train,\n",
    "            batch_size = 4096,\n",
    "            epochs=400,\n",
    "            shuffle=True,\n",
    "            validation_data = (X_val, y_val, w_val),\n",
    "            callbacks = [early_stop, auto_save, ] #lr_scheduler\n",
    "            )"
   ]
  },
  {
   "cell_type": "code",
   "execution_count": 64,
   "metadata": {
    "ExecuteTime": {
     "end_time": "2020-05-03T21:02:31.639054Z",
     "start_time": "2020-05-03T21:02:28.213008Z"
    }
   },
   "outputs": [
    {
     "name": "stdout",
     "output_type": "stream",
     "text": [
      ">>> Computing AUC...\n",
      "AUC score: 0.99343467334777\n",
      ">>> Saving ROC curve...\n"
     ]
    },
    {
     "data": {
      "text/plain": [
       "<matplotlib.legend.Legend at 0x7f5060ffa358>"
      ]
     },
     "execution_count": 64,
     "metadata": {},
     "output_type": "execute_result"
    },
    {
     "name": "stderr",
     "output_type": "stream",
     "text": [
      "/usr/local/lib/python3.6/dist-packages/IPython/core/pylabtools.py:128: UserWarning: Creating legend with loc=\"best\" can be slow with large amounts of data.\n",
      "  fig.canvas.print_figure(bytes_io, **kw)\n"
     ]
    },
    {
     "data": {
      "image/png": "[encoded data removed]",
      "text/plain": [
       "<Figure size 750x750 with 1 Axes>"
      ]
     },
     "metadata": {
      "needs_background": "light"
     },
     "output_type": "display_data"
    }
   ],
   "source": [
    "# Evalutation\n",
    "print(\">>> Computing AUC...\")\n",
    "\n",
    "from sklearn.metrics import roc_auc_score, roc_curve\n",
    "\n",
    "pred = model.predict(X_val,batch_size=2048)\n",
    "auc = roc_auc_score(y_val, pred, sample_weight=w_val)\n",
    "print(\"AUC score: \" + str(auc))\n",
    "\n",
    "print(\">>> Saving ROC curve...\")\n",
    "fp , tp, th = roc_curve(y_val, pred, sample_weight=w_val,drop_intermediate=True)\n",
    "plt.plot(fp, tp, label=\"roc\")\n",
    "#plt.plot(fp, th, label=\"threshold\")\n",
    "plt.xlabel(\"false positives\")\n",
    "plt.ylabel(\"true positives\")\n",
    "plt.ylim(-0.05,1.05)\n",
    "\n",
    "plt.legend()"
   ]
  },
  {
   "cell_type": "code",
   "execution_count": 65,
   "metadata": {
    "ExecuteTime": {
     "end_time": "2020-05-03T18:02:08.432215Z",
     "start_time": "2020-05-03T18:02:08.040559Z"
    }
   },
   "outputs": [
    {
     "data": {
      "text/plain": [
       "<matplotlib.legend.Legend at 0x7f5060fd1dd8>"
      ]
     },
     "execution_count": 65,
     "metadata": {},
     "output_type": "execute_result"
    },
    {
     "data": {
      "image/png": "[encoded data removed]",
      "text/plain": [
       "<Figure size 750x750 with 1 Axes>"
      ]
     },
     "metadata": {
      "needs_background": "light"
     },
     "output_type": "display_data"
    }
   ],
   "source": [
    "plt.plot(history.epoch, history.history[\"val_loss\"], label=\"validation loss\")\n",
    "plt.plot(history.epoch, history.history[\"loss\"], label=\"training loss\")\n",
    "plt.legend()"
   ]
  },
  {
   "cell_type": "code",
   "execution_count": 64,
   "metadata": {
    "ExecuteTime": {
     "end_time": "2020-05-03T21:02:59.616298Z",
     "start_time": "2020-05-03T21:02:59.348309Z"
    }
   },
   "outputs": [
    {
     "data": {
      "text/plain": [
       "<matplotlib.legend.Legend at 0x7f59973ec390>"
      ]
     },
     "execution_count": 64,
     "metadata": {},
     "output_type": "execute_result"
    },
    {
     "data": {
      "image/png": "[encoded data removed]",
      "text/plain": [
       "<Figure size 750x750 with 1 Axes>"
      ]
     },
     "metadata": {
      "needs_background": "light"
     },
     "output_type": "display_data"
    }
   ],
   "source": [
    "plt.plot(history.epoch, history.history[\"val_loss\"], label=\"validation loss\")\n",
    "plt.plot(history.epoch, history.history[\"loss\"], label=\"training loss\")\n",
    "plt.legend()"
   ]
  },
  {
   "cell_type": "code",
   "execution_count": 66,
   "metadata": {
    "ExecuteTime": {
     "end_time": "2020-05-03T18:02:48.984671Z",
     "start_time": "2020-05-03T18:02:41.386118Z"
    }
   },
   "outputs": [
    {
     "data": {
      "text/plain": [
       "<matplotlib.legend.Legend at 0x7f5060665668>"
      ]
     },
     "execution_count": 66,
     "metadata": {},
     "output_type": "execute_result"
    },
    {
     "data": {
      "image/png": "[encoded data removed]",
      "text/plain": [
       "<Figure size 750x750 with 1 Axes>"
      ]
     },
     "metadata": {
      "needs_background": "light"
     },
     "output_type": "display_data"
    }
   ],
   "source": [
    "results = model.predict(X_val)\n",
    "plt.hist(results[y_val==0], bins=100,density=True, label=\"false\", histtype=\"step\")\n",
    "plt.hist(results[y_val==1], bins=100, density=True, label=\"true\", histtype=\"step\")\n",
    "plt.yscale(\"log\")\n",
    "plt.legend()"
   ]
  },
  {
   "cell_type": "code",
   "execution_count": 42,
   "metadata": {
    "ExecuteTime": {
     "end_time": "2020-05-03T21:03:45.561006Z",
     "start_time": "2020-05-03T21:03:28.491011Z"
    }
   },
   "outputs": [
    {
     "data": {
      "text/plain": [
       "<matplotlib.legend.Legend at 0x7f5061612208>"
      ]
     },
     "execution_count": 42,
     "metadata": {},
     "output_type": "execute_result"
    },
    {
     "data": {
      "image/png": "[encoded data removed]",
      "text/plain": [
       "<Figure size 750x750 with 1 Axes>"
      ]
     },
     "metadata": {
      "needs_background": "light"
     },
     "output_type": "display_data"
    }
   ],
   "source": [
    "results = model.predict(X_val)\n",
    "plt.hist(results[y_val==0], bins=100,density=True, label=\"false\", histtype=\"step\")\n",
    "plt.hist(results[y_val==1], bins=100, density=True, label=\"true\", histtype=\"step\")\n",
    "plt.yscale(\"log\")\n",
    "plt.legend()"
   ]
  },
  {
   "cell_type": "code",
   "execution_count": 43,
   "metadata": {},
   "outputs": [
    {
     "data": {
      "text/plain": [
       "<Figure size 750x750 with 0 Axes>"
      ]
     },
     "metadata": {},
     "output_type": "display_data"
    }
   ],
   "source": [
    "plt.savefig(model_dir +\"/output_model_v3_EB.png\")"
   ]
  },
  {
   "cell_type": "markdown",
   "metadata": {},
   "source": [
    "# Some plots"
   ]
  },
  {
   "cell_type": "code",
   "execution_count": 1,
   "metadata": {
    "ExecuteTime": {
     "end_time": "2020-01-13T09:25:43.435534Z",
     "start_time": "2020-01-13T09:25:30.930818Z"
    },
    "scrolled": true
   },
   "outputs": [
    {
     "name": "stderr",
     "output_type": "stream",
     "text": [
      "Using TensorFlow backend.\n"
     ]
    },
    {
     "ename": "OSError",
     "evalue": "Unable to open file (unable to open file: name = 'models/model11_balanced_100_80_50.hd5', errno = 2, error message = 'No such file or directory', flags = 0, o_flags = 0)",
     "output_type": "error",
     "traceback": [
      "\u001b[0;31m---------------------------------------------------------------------------\u001b[0m",
      "\u001b[0;31mOSError\u001b[0m                                   Traceback (most recent call last)",
      "\u001b[0;32m<ipython-input-1-5beff4d610ed>\u001b[0m in \u001b[0;36m<module>\u001b[0;34m\u001b[0m\n\u001b[1;32m      1\u001b[0m \u001b[0;32mfrom\u001b[0m \u001b[0mkeras\u001b[0m\u001b[0;34m.\u001b[0m\u001b[0mmodels\u001b[0m \u001b[0;32mimport\u001b[0m \u001b[0mload_model\u001b[0m\u001b[0;34m\u001b[0m\u001b[0m\n\u001b[0;32m----> 2\u001b[0;31m \u001b[0mmodel\u001b[0m \u001b[0;34m=\u001b[0m \u001b[0mload_model\u001b[0m\u001b[0;34m(\u001b[0m\u001b[0;34m\"models/model11_balanced_100_80_50.hd5\"\u001b[0m\u001b[0;34m)\u001b[0m\u001b[0;34m\u001b[0m\u001b[0m\n\u001b[0m\u001b[1;32m      3\u001b[0m \u001b[0mscaler\u001b[0m \u001b[0;34m=\u001b[0m \u001b[0mpickle\u001b[0m\u001b[0;34m.\u001b[0m\u001b[0mload\u001b[0m\u001b[0;34m(\u001b[0m\u001b[0mopen\u001b[0m\u001b[0;34m(\u001b[0m\u001b[0;34m\"models/scaler_gamma_electrons.pkl\"\u001b[0m\u001b[0;34m,\u001b[0m \u001b[0;34m\"rb\"\u001b[0m\u001b[0;34m)\u001b[0m\u001b[0;34m)\u001b[0m\u001b[0;34m\u001b[0m\u001b[0m\n",
      "\u001b[0;32m/cvmfs/sft.cern.ch/lcg/views/LCG_96python3/x86_64-centos7-gcc8-opt/lib/python3.6/site-packages/keras/engine/saving.py\u001b[0m in \u001b[0;36mload_model\u001b[0;34m(filepath, custom_objects, compile)\u001b[0m\n\u001b[1;32m    415\u001b[0m     \u001b[0mmodel\u001b[0m \u001b[0;34m=\u001b[0m \u001b[0;32mNone\u001b[0m\u001b[0;34m\u001b[0m\u001b[0m\n\u001b[1;32m    416\u001b[0m     \u001b[0mopened_new_file\u001b[0m \u001b[0;34m=\u001b[0m \u001b[0;32mnot\u001b[0m \u001b[0misinstance\u001b[0m\u001b[0;34m(\u001b[0m\u001b[0mfilepath\u001b[0m\u001b[0;34m,\u001b[0m \u001b[0mh5py\u001b[0m\u001b[0;34m.\u001b[0m\u001b[0mGroup\u001b[0m\u001b[0;34m)\u001b[0m\u001b[0;34m\u001b[0m\u001b[0m\n\u001b[0;32m--> 417\u001b[0;31m     \u001b[0mf\u001b[0m \u001b[0;34m=\u001b[0m \u001b[0mh5dict\u001b[0m\u001b[0;34m(\u001b[0m\u001b[0mfilepath\u001b[0m\u001b[0;34m,\u001b[0m \u001b[0;34m'r'\u001b[0m\u001b[0;34m)\u001b[0m\u001b[0;34m\u001b[0m\u001b[0m\n\u001b[0m\u001b[1;32m    418\u001b[0m     \u001b[0;32mtry\u001b[0m\u001b[0;34m:\u001b[0m\u001b[0;34m\u001b[0m\u001b[0m\n\u001b[1;32m    419\u001b[0m         \u001b[0mmodel\u001b[0m \u001b[0;34m=\u001b[0m \u001b[0m_deserialize_model\u001b[0m\u001b[0;34m(\u001b[0m\u001b[0mf\u001b[0m\u001b[0;34m,\u001b[0m \u001b[0mcustom_objects\u001b[0m\u001b[0;34m,\u001b[0m \u001b[0mcompile\u001b[0m\u001b[0;34m)\u001b[0m\u001b[0;34m\u001b[0m\u001b[0m\n",
      "\u001b[0;32m/cvmfs/sft.cern.ch/lcg/views/LCG_96python3/x86_64-centos7-gcc8-opt/lib/python3.6/site-packages/keras/utils/io_utils.py\u001b[0m in \u001b[0;36m__init__\u001b[0;34m(self, path, mode)\u001b[0m\n\u001b[1;32m    184\u001b[0m             \u001b[0mself\u001b[0m\u001b[0;34m.\u001b[0m\u001b[0m_is_file\u001b[0m \u001b[0;34m=\u001b[0m \u001b[0;32mFalse\u001b[0m\u001b[0;34m\u001b[0m\u001b[0m\n\u001b[1;32m    185\u001b[0m         \u001b[0;32melif\u001b[0m \u001b[0misinstance\u001b[0m\u001b[0;34m(\u001b[0m\u001b[0mpath\u001b[0m\u001b[0;34m,\u001b[0m \u001b[0mstr\u001b[0m\u001b[0;34m)\u001b[0m\u001b[0;34m:\u001b[0m\u001b[0;34m\u001b[0m\u001b[0m\n\u001b[0;32m--> 186\u001b[0;31m             \u001b[0mself\u001b[0m\u001b[0;34m.\u001b[0m\u001b[0mdata\u001b[0m \u001b[0;34m=\u001b[0m \u001b[0mh5py\u001b[0m\u001b[0;34m.\u001b[0m\u001b[0mFile\u001b[0m\u001b[0;34m(\u001b[0m\u001b[0mpath\u001b[0m\u001b[0;34m,\u001b[0m \u001b[0mmode\u001b[0m\u001b[0;34m=\u001b[0m\u001b[0mmode\u001b[0m\u001b[0;34m)\u001b[0m\u001b[0;34m\u001b[0m\u001b[0m\n\u001b[0m\u001b[1;32m    187\u001b[0m             \u001b[0mself\u001b[0m\u001b[0;34m.\u001b[0m\u001b[0m_is_file\u001b[0m \u001b[0;34m=\u001b[0m \u001b[0;32mTrue\u001b[0m\u001b[0;34m\u001b[0m\u001b[0m\n\u001b[1;32m    188\u001b[0m         \u001b[0;32melif\u001b[0m \u001b[0misinstance\u001b[0m\u001b[0;34m(\u001b[0m\u001b[0mpath\u001b[0m\u001b[0;34m,\u001b[0m \u001b[0mdict\u001b[0m\u001b[0;34m)\u001b[0m\u001b[0;34m:\u001b[0m\u001b[0;34m\u001b[0m\u001b[0m\n",
      "\u001b[0;32m/cvmfs/sft.cern.ch/lcg/views/LCG_96python3/x86_64-centos7-gcc8-opt/lib/python3.6/site-packages/h5py/_hl/files.py\u001b[0m in \u001b[0;36m__init__\u001b[0;34m(self, name, mode, driver, libver, userblock_size, swmr, rdcc_nslots, rdcc_nbytes, rdcc_w0, track_order, **kwds)\u001b[0m\n\u001b[1;32m    392\u001b[0m                 fid = make_fid(name, mode, userblock_size,\n\u001b[1;32m    393\u001b[0m                                \u001b[0mfapl\u001b[0m\u001b[0;34m,\u001b[0m \u001b[0mfcpl\u001b[0m\u001b[0;34m=\u001b[0m\u001b[0mmake_fcpl\u001b[0m\u001b[0;34m(\u001b[0m\u001b[0mtrack_order\u001b[0m\u001b[0;34m=\u001b[0m\u001b[0mtrack_order\u001b[0m\u001b[0;34m)\u001b[0m\u001b[0;34m,\u001b[0m\u001b[0;34m\u001b[0m\u001b[0m\n\u001b[0;32m--> 394\u001b[0;31m                                swmr=swmr)\n\u001b[0m\u001b[1;32m    395\u001b[0m \u001b[0;34m\u001b[0m\u001b[0m\n\u001b[1;32m    396\u001b[0m             \u001b[0;32mif\u001b[0m \u001b[0mswmr_support\u001b[0m\u001b[0;34m:\u001b[0m\u001b[0;34m\u001b[0m\u001b[0m\n",
      "\u001b[0;32m/cvmfs/sft.cern.ch/lcg/views/LCG_96python3/x86_64-centos7-gcc8-opt/lib/python3.6/site-packages/h5py/_hl/files.py\u001b[0m in \u001b[0;36mmake_fid\u001b[0;34m(name, mode, userblock_size, fapl, fcpl, swmr)\u001b[0m\n\u001b[1;32m    168\u001b[0m         \u001b[0;32mif\u001b[0m \u001b[0mswmr\u001b[0m \u001b[0;32mand\u001b[0m \u001b[0mswmr_support\u001b[0m\u001b[0;34m:\u001b[0m\u001b[0;34m\u001b[0m\u001b[0m\n\u001b[1;32m    169\u001b[0m             \u001b[0mflags\u001b[0m \u001b[0;34m|=\u001b[0m \u001b[0mh5f\u001b[0m\u001b[0;34m.\u001b[0m\u001b[0mACC_SWMR_READ\u001b[0m\u001b[0;34m\u001b[0m\u001b[0m\n\u001b[0;32m--> 170\u001b[0;31m         \u001b[0mfid\u001b[0m \u001b[0;34m=\u001b[0m \u001b[0mh5f\u001b[0m\u001b[0;34m.\u001b[0m\u001b[0mopen\u001b[0m\u001b[0;34m(\u001b[0m\u001b[0mname\u001b[0m\u001b[0;34m,\u001b[0m \u001b[0mflags\u001b[0m\u001b[0;34m,\u001b[0m \u001b[0mfapl\u001b[0m\u001b[0;34m=\u001b[0m\u001b[0mfapl\u001b[0m\u001b[0;34m)\u001b[0m\u001b[0;34m\u001b[0m\u001b[0m\n\u001b[0m\u001b[1;32m    171\u001b[0m     \u001b[0;32melif\u001b[0m \u001b[0mmode\u001b[0m \u001b[0;34m==\u001b[0m \u001b[0;34m'r+'\u001b[0m\u001b[0;34m:\u001b[0m\u001b[0;34m\u001b[0m\u001b[0m\n\u001b[1;32m    172\u001b[0m         \u001b[0mfid\u001b[0m \u001b[0;34m=\u001b[0m \u001b[0mh5f\u001b[0m\u001b[0;34m.\u001b[0m\u001b[0mopen\u001b[0m\u001b[0;34m(\u001b[0m\u001b[0mname\u001b[0m\u001b[0;34m,\u001b[0m \u001b[0mh5f\u001b[0m\u001b[0;34m.\u001b[0m\u001b[0mACC_RDWR\u001b[0m\u001b[0;34m,\u001b[0m \u001b[0mfapl\u001b[0m\u001b[0;34m=\u001b[0m\u001b[0mfapl\u001b[0m\u001b[0;34m)\u001b[0m\u001b[0;34m\u001b[0m\u001b[0m\n",
      "\u001b[0;32mh5py/_objects.pyx\u001b[0m in \u001b[0;36mh5py._objects.with_phil.wrapper\u001b[0;34m()\u001b[0m\n",
      "\u001b[0;32mh5py/_objects.pyx\u001b[0m in \u001b[0;36mh5py._objects.with_phil.wrapper\u001b[0;34m()\u001b[0m\n",
      "\u001b[0;32mh5py/h5f.pyx\u001b[0m in \u001b[0;36mh5py.h5f.open\u001b[0;34m()\u001b[0m\n",
      "\u001b[0;31mOSError\u001b[0m: Unable to open file (unable to open file: name = 'models/model11_balanced_100_80_50.hd5', errno = 2, error message = 'No such file or directory', flags = 0, o_flags = 0)"
     ]
    }
   ],
   "source": [
    "from keras.models import load_model\n",
    "model = load_model(\"models/model11_balanced_100_80_50.hd5\")\n",
    "scaler = pickle.load(open(\"models/scaler_gamma_electrons.pkl\", \"rb\"))"
   ]
  },
  {
   "cell_type": "code",
   "execution_count": 27,
   "metadata": {
    "ExecuteTime": {
     "end_time": "2020-04-20T22:38:16.819969Z",
     "start_time": "2020-04-20T22:38:16.467585Z"
    }
   },
   "outputs": [
    {
     "ename": "NameError",
     "evalue": "name 'y_test' is not defined",
     "output_type": "error",
     "traceback": [
      "\u001b[0;31m---------------------------------------------------------------------------\u001b[0m",
      "\u001b[0;31mNameError\u001b[0m                                 Traceback (most recent call last)",
      "\u001b[0;32m<ipython-input-27-a3f0e29f7606>\u001b[0m in \u001b[0;36m<module>\u001b[0;34m\u001b[0m\n\u001b[0;32m----> 1\u001b[0;31m \u001b[0mfp\u001b[0m \u001b[0;34m,\u001b[0m \u001b[0mtp\u001b[0m\u001b[0;34m,\u001b[0m \u001b[0mth\u001b[0m \u001b[0;34m=\u001b[0m \u001b[0mroc_curve\u001b[0m\u001b[0;34m(\u001b[0m\u001b[0my_test\u001b[0m\u001b[0;34m,\u001b[0m \u001b[0mpred\u001b[0m\u001b[0;34m)\u001b[0m\u001b[0;34m\u001b[0m\u001b[0;34m\u001b[0m\u001b[0m\n\u001b[0m\u001b[1;32m      2\u001b[0m \u001b[0mfig\u001b[0m\u001b[0;34m,\u001b[0m \u001b[0max1\u001b[0m \u001b[0;34m=\u001b[0m \u001b[0mplt\u001b[0m\u001b[0;34m.\u001b[0m\u001b[0msubplots\u001b[0m\u001b[0;34m(\u001b[0m\u001b[0mfigsize\u001b[0m\u001b[0;34m=\u001b[0m\u001b[0;34m(\u001b[0m\u001b[0;36m7\u001b[0m\u001b[0;34m,\u001b[0m\u001b[0;36m6\u001b[0m\u001b[0;34m)\u001b[0m\u001b[0;34m,\u001b[0m \u001b[0mdpi\u001b[0m\u001b[0;34m=\u001b[0m\u001b[0;36m100\u001b[0m\u001b[0;34m)\u001b[0m\u001b[0;34m\u001b[0m\u001b[0;34m\u001b[0m\u001b[0m\n\u001b[1;32m      3\u001b[0m \u001b[0max1\u001b[0m\u001b[0;34m.\u001b[0m\u001b[0mplot\u001b[0m\u001b[0;34m(\u001b[0m\u001b[0mfp\u001b[0m\u001b[0;34m,\u001b[0m \u001b[0mtp\u001b[0m\u001b[0;34m,\u001b[0m \u001b[0mlabel\u001b[0m\u001b[0;34m=\u001b[0m\u001b[0;34m\"roc\"\u001b[0m\u001b[0;34m,\u001b[0m \u001b[0mcolor\u001b[0m\u001b[0;34m=\u001b[0m\u001b[0;34m\"blue\"\u001b[0m\u001b[0;34m)\u001b[0m\u001b[0;34m\u001b[0m\u001b[0;34m\u001b[0m\u001b[0m\n\u001b[1;32m      4\u001b[0m \u001b[0;34m\u001b[0m\u001b[0m\n\u001b[1;32m      5\u001b[0m \u001b[0max1\u001b[0m\u001b[0;34m.\u001b[0m\u001b[0mset_xlabel\u001b[0m\u001b[0;34m(\u001b[0m\u001b[0;34m\"Bkg contamination\"\u001b[0m\u001b[0;34m,\u001b[0m \u001b[0mfontsize\u001b[0m\u001b[0;34m=\u001b[0m\u001b[0;36m18\u001b[0m\u001b[0;34m)\u001b[0m\u001b[0;34m\u001b[0m\u001b[0;34m\u001b[0m\u001b[0m\n",
      "\u001b[0;31mNameError\u001b[0m: name 'y_test' is not defined"
     ]
    }
   ],
   "source": [
    "fp , tp, th = roc_curve(y_test, pred)\n",
    "fig, ax1 = plt.subplots(figsize=(7,6), dpi=100)\n",
    "ax1.plot(fp, tp, label=\"roc\", color=\"blue\")\n",
    "\n",
    "ax1.set_xlabel(\"Bkg contamination\", fontsize=18)\n",
    "ax1.set_ylabel(\"Signal efficiency\", fontsize=18, color=\"blue\")\n",
    "ax1.set_ylim(0.850, 1.01)\n",
    "ax1.set_xlim(0, 0.06)\n",
    "#ax1.plot([0,1],[1,1],\"b--\")\n",
    "ax1.tick_params(\"y\",labelsize=\"large\", labelcolor=\"blue\")\n",
    "\n",
    "ax2 = ax1.twinx()\n",
    "ax2.plot(fp, th, label=\"threshold\", color=\"red\")\n",
    "ax2.tick_params(axis='y', labelcolor=\"red\", labelsize=\"large\")\n",
    "ax2.set_ylabel(\"Threshold\", fontsize=18, color=\"red\")\n",
    "ax2.set_ylim(0, 1)\n",
    "ax1.grid()\n",
    "#ax2.grid(linestyle=\"dashed\", color=\"red\")\n",
    "\n",
    "ax2.plot([0.01, 0.01], [0, 2], \"g--\")\n",
    "ax2.set_yticks(np.arange(0, 1.1, 0.1))\n",
    "#ax2.minorticks_on()\n",
    "\n",
    "ax1.set_title(\"ROC curve\", fontsize=20)\n",
    "ax2.text(x = 0.048, y = 1.01, s=\"AUC=0.997\", fontsize=\"large\")\n",
    "\n",
    "fig.tight_layout()"
   ]
  },
  {
   "cell_type": "code",
   "execution_count": 36,
   "metadata": {
    "ExecuteTime": {
     "end_time": "2020-01-11T14:23:01.035443Z",
     "start_time": "2020-01-11T14:23:00.336449Z"
    }
   },
   "outputs": [
    {
     "data": {
      "image/png": "[encoded data removed]",
      "text/plain": [
       "<Figure size 700x600 with 2 Axes>"
      ]
     },
     "metadata": {},
     "output_type": "display_data"
    }
   ],
   "source": [
    "fp , tp, th = roc_curve(y_test, pred)\n",
    "fig, ax1 = plt.subplots(figsize=(7,6), dpi=100)\n",
    "ax1.plot(fp, tp, label=\"roc\", color=\"blue\")\n",
    "\n",
    "ax1.set_xlabel(\"Bkg contamination\", fontsize=18)\n",
    "ax1.set_ylabel(\"Signal efficiency\", fontsize=18, color=\"blue\")\n",
    "ax1.set_ylim(0.850, 1.01)\n",
    "ax1.set_xlim(0, 0.06)\n",
    "#ax1.plot([0,1],[1,1],\"b--\")\n",
    "ax1.tick_params(\"y\",labelsize=\"large\", labelcolor=\"blue\")\n",
    "\n",
    "ax2 = ax1.twinx()\n",
    "ax2.plot(fp, th, label=\"threshold\", color=\"red\")\n",
    "ax2.tick_params(axis='y', labelcolor=\"red\", labelsize=\"large\")\n",
    "ax2.set_ylabel(\"Threshold\", fontsize=18, color=\"red\")\n",
    "ax2.set_ylim(0, 1)\n",
    "ax1.grid()\n",
    "#ax2.grid(linestyle=\"dashed\", color=\"red\")\n",
    "\n",
    "ax2.plot([0.01, 0.01], [0, 2], \"g--\")\n",
    "ax2.set_yticks(np.arange(0, 1.1, 0.1))\n",
    "#ax2.minorticks_on()\n",
    "\n",
    "ax1.set_title(\"ROC curve\", fontsize=20)\n",
    "ax2.text(x = 0.048, y = 1.01, s=\"AUC=0.997\", fontsize=\"large\")\n",
    "\n",
    "fig.tight_layout()"
   ]
  }
 ],
 "metadata": {
  "kernelspec": {
   "display_name": "Python 3",
   "language": "python",
   "name": "python3"
  },
  "language_info": {
   "codemirror_mode": {
    "name": "ipython",
    "version": 3
   },
   "file_extension": ".py",
   "mimetype": "text/x-python",
   "name": "python",
   "nbconvert_exporter": "python",
   "pygments_lexer": "ipython3",
   "version": "3.6.9"
  },
  "toc": {
   "base_numbering": 1,
   "nav_menu": {},
   "number_sections": true,
   "sideBar": true,
   "skip_h1_title": false,
   "title_cell": "Table of Contents",
   "title_sidebar": "Contents",
   "toc_cell": false,
   "toc_position": {},
   "toc_section_display": true,
   "toc_window_display": false
  },
  "varInspector": {
   "cols": {
    "lenName": 16,
    "lenType": 16,
    "lenVar": 40
   },
   "kernels_config": {
    "python": {
     "delete_cmd_postfix": "",
     "delete_cmd_prefix": "del ",
     "library": "var_list.py",
     "varRefreshCmd": "print(var_dic_list())"
    },
    "r": {
     "delete_cmd_postfix": ") ",
     "delete_cmd_prefix": "rm(",
     "library": "var_list.r",
     "varRefreshCmd": "cat(var_dic_list()) "
    }
   },
   "oldHeight": 745.183666,
   "position": {
    "height": "40px",
    "left": "717.5px",
    "right": "20px",
    "top": "55px",
    "width": "800px"
   },
   "types_to_exclude": [
    "module",
    "function",
    "builtin_function_or_method",
    "instance",
    "_Feature"
   ],
   "varInspector_section_display": "none",
   "window_display": false
  }
 },
 "nbformat": 4,
 "nbformat_minor": 2
}
