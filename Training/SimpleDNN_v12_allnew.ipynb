{
 "cells": [
  {
   "cell_type": "code",
   "execution_count": 1,
   "metadata": {
    "ExecuteTime": {
     "end_time": "2020-05-04T14:22:35.838781Z",
     "start_time": "2020-05-04T14:22:35.831130Z"
    }
   },
   "outputs": [],
   "source": [
    "import pickle\n",
    "import numpy as np \n",
    "import pandas as pd\n",
    "import matplotlib.colors as colors\n",
    "import matplotlib.pyplot as plt\n",
    "import matplotlib as mpl\n",
    "import os \n",
    "import glob\n",
    "\n",
    "mpl.rcParams['figure.figsize'] = (5,5)\n",
    "mpl.rcParams['figure.dpi'] = 150\n",
    "mpl.rcParams[\"image.origin\"] = 'lower'"
   ]
  },
  {
   "cell_type": "code",
   "execution_count": 2,
   "metadata": {
    "ExecuteTime": {
     "end_time": "2020-05-04T14:22:36.542179Z",
     "start_time": "2020-05-04T14:22:36.538268Z"
    }
   },
   "outputs": [],
   "source": [
    "model_dir = \"../models/v12_allnew/\"\n",
    "model_name = \"v12_allnew\"\n",
    "det = \"EB\"\n",
    "model_version = 1\n",
    "cols = [\"seed_eta\", \"seed_phi\", \"seed_iz\",\"en_seed\",\"et_seed\",\n",
    "        \"cluster_deta\", \"cluster_dphi\", \"en_cluster\", \"et_cluster\",\n",
    "       \"seed_f5_r9\", \"seed_f5_sigmaIetaIeta\",\"seed_f5_sigmaIetaIphi\",\"seed_f5_sigmaIphiIphi\",\n",
    "        \"seed_f5_swissCross\",\"seed_nxtals\", \"seed_etaWidth\", \"seed_phiWidth\",\n",
    "        \"cl_f5_r9\", \"cl_f5_sigmaIetaIeta\",\"cl_f5_sigmaIetaIphi\",\"cl_f5_sigmaIphiIphi\",\n",
    "        \"cl_f5_swissCross\", \"cl_nxtals\", \"cl_etaWidth\", \"cl_phiWidth\"]\n",
    "\n",
    "os.makedirs(model_dir, exist_ok = True)\n",
    "with open(\"variables.txt\", \"w\") as of:\n",
    "    of.write(\"\\n\".join(cols))"
   ]
  },
  {
   "cell_type": "markdown",
   "metadata": {},
   "source": [
    "# Data preparation\n",
    "## Input: \n",
    "- E seed\n",
    "- eta,phi,z seed\n",
    "- E cluster\n",
    "- delta_eta,delta_phi,\n",
    "\n",
    "Filter only windows with the calo"
   ]
  },
  {
   "cell_type": "code",
   "execution_count": 3,
   "metadata": {},
   "outputs": [],
   "source": [
    "files_ele = \"/storage/ECAL/training_data/electrons/numpy_v15/training/\"\n",
    "files_gamma = \"/storage/ECAL/training_data/gammas/numpy_v15/training/\""
   ]
  },
  {
   "cell_type": "code",
   "execution_count": 4,
   "metadata": {
    "ExecuteTime": {
     "end_time": "2020-05-04T14:22:38.611857Z",
     "start_time": "2020-05-04T14:22:38.606202Z"
    }
   },
   "outputs": [],
   "source": [
    "files_ele = \"/eos/user/r/rdfexp/ecal/cluster/output_deepcluster_dumper/electrons/numpy_v9/training/\"\n",
    "files_gamma = \"/eos/user/r/rdfexp/ecal/cluster/output_deepcluster_dumper/gammas/numpy_v9/training/\""
   ]
  },
  {
   "cell_type": "code",
   "execution_count": 4,
   "metadata": {
    "ExecuteTime": {
     "start_time": "2020-05-04T14:22:39.023Z"
    }
   },
   "outputs": [
    {
     "name": "stdout",
     "output_type": "stream",
     "text": [
      "N events ele:  11041607\n",
      "N events gamma:  10621264\n"
     ]
    }
   ],
   "source": [
    "datas_ele = []\n",
    "\n",
    "i = 0\n",
    "for f in glob.glob(files_ele+\"*.pkl\"):\n",
    "    if i >25: continue\n",
    "    d = pickle.load(open(f, \"rb\"))   \n",
    "    datas_ele.append(d[d.is_seed == False])\n",
    "    i+=1\n",
    "    \n",
    "data_ele = pd.concat(datas_ele, ignore_index=True)\n",
    "data_ele[\"particle\"] = \"electron\"\n",
    "print(\"N events ele: \",len(data_ele))\n",
    "\n",
    "datas_gamma = []\n",
    "i = 0\n",
    "for f in glob.glob(files_gamma+\"*.pkl\"):\n",
    "    if i >25: continue\n",
    "    d = pickle.load(open(f, \"rb\"))  \n",
    "    datas_gamma.append(d[d.is_seed==False])\n",
    "    i+=1\n",
    "    \n",
    "data_gamma = pd.concat(datas_gamma, ignore_index=True)\n",
    "data_gamma[\"particle\"] = \"gamma\"\n",
    "print(\"N events gamma: \",len(data_gamma))\n",
    "\n",
    "if data_ele.shape[0]> data_gamma.shape[0]:\n",
    "    data = pd.concat([data_gamma, data_ele.iloc[0:len(data_gamma)]], ignore_index=True)\n",
    "else:\n",
    "    data = pd.concat([data_gamma.iloc[0:len(data_ele)], data_ele], ignore_index=True)\n",
    "    \n",
    "del data_gamma\n",
    "del data_ele"
   ]
  },
  {
   "cell_type": "markdown",
   "metadata": {},
   "source": [
    "Balance gamma and electron"
   ]
  },
  {
   "cell_type": "code",
   "execution_count": 5,
   "metadata": {
    "ExecuteTime": {
     "start_time": "2020-05-04T14:14:26.563Z"
    }
   },
   "outputs": [],
   "source": [
    "data_EB = data[abs(data.seed_eta)<1.479]\n",
    "data_EE = data[abs(data.seed_eta)>=1.479]"
   ]
  },
  {
   "cell_type": "code",
   "execution_count": 6,
   "metadata": {
    "ExecuteTime": {
     "end_time": "2020-05-03T14:58:15.903327Z",
     "start_time": "2020-05-03T14:58:12.456898Z"
    }
   },
   "outputs": [
    {
     "name": "stdout",
     "output_type": "stream",
     "text": [
      "Sample in EB: 16964143\n",
      "Sample in EE: 4278385\n",
      "Sample in EB in SC: 923055\n",
      "Sample in EE in SC: 580337\n",
      "N in supercluster:  1503392\n",
      "N out supercluster:  19739136\n",
      "13.129733296438985\n"
     ]
    }
   ],
   "source": [
    "print(\"Sample in EB:\", len(data[abs(data.seed_eta) <1.479]))\n",
    "print(\"Sample in EE:\", len(data[abs(data.seed_eta) >=1.479]))\n",
    "print(\"Sample in EB in SC:\", len(data[(abs(data.seed_eta) <1.479)&(data.in_scluster)]))\n",
    "print(\"Sample in EE in SC:\", len(data[(abs(data.seed_eta) >=1.479)&(data.in_scluster)]))\n",
    "print(\"N in supercluster: \", len(data[ data.in_scluster]))\n",
    "print(\"N out supercluster: \", len(data[data.in_scluster == False]))\n",
    "w = len(data[(data.is_seed == False) & (data.in_scluster == False)]) / len(data[(data.is_seed == False) & (data.in_scluster==True)])\n",
    "print(w)"
   ]
  },
  {
   "cell_type": "code",
   "execution_count": 7,
   "metadata": {
    "ExecuteTime": {
     "end_time": "2020-05-03T14:58:46.167174Z",
     "start_time": "2020-05-03T14:58:45.165966Z"
    }
   },
   "outputs": [
    {
     "name": "stdout",
     "output_type": "stream",
     "text": [
      "caloMatch samples:  12131004\n",
      "Not caloMatch samples:  9111524\n"
     ]
    }
   ],
   "source": [
    "print(\"caloMatch samples: \", len(data[data.is_calo_matched]))\n",
    "print(\"Not caloMatch samples: \", len(data[data.is_calo_matched ==False]))"
   ]
  },
  {
   "cell_type": "markdown",
   "metadata": {},
   "source": [
    "# Data Preparation"
   ]
  },
  {
   "cell_type": "code",
   "execution_count": 9,
   "metadata": {
    "ExecuteTime": {
     "end_time": "2020-04-27T14:07:39.272642Z",
     "start_time": "2020-04-27T14:07:38.560302Z"
    }
   },
   "outputs": [],
   "source": [
    "data_in = data[ (data.is_seed == False) & data.in_scluster]\n",
    "data_out =  data[(data.is_seed == False) & (data.in_scluster == False)]"
   ]
  },
  {
   "cell_type": "code",
   "execution_count": 9,
   "metadata": {
    "ExecuteTime": {
     "end_time": "2020-05-03T19:39:50.337125Z",
     "start_time": "2020-05-03T19:39:50.330651Z"
    }
   },
   "outputs": [],
   "source": [
    "data = data_EB"
   ]
  },
  {
   "cell_type": "markdown",
   "metadata": {},
   "source": [
    "## Balance by et and eta of the seed"
   ]
  },
  {
   "cell_type": "code",
   "execution_count": 10,
   "metadata": {},
   "outputs": [],
   "source": [
    "etBinning = [0,10,20,30,40,50,60,70,80,90,200]\n",
    "etaBinning = [-3.0, -2.5, -1.75, -1.479, -0.75, 0.0, 0.75, 1.479, 1.75, 2.5, 3.0]"
   ]
  },
  {
   "cell_type": "code",
   "execution_count": 11,
   "metadata": {},
   "outputs": [],
   "source": [
    "data[\"et_bin\"] = pd.cut(data.et_seed, etBinning,labels=list(range(len(etBinning)-1)))\n",
    "data[\"eta_bin\"] = pd.cut(data.seed_eta, etaBinning,labels=list(range(len(etaBinning)-1)))"
   ]
  },
  {
   "cell_type": "code",
   "execution_count": 12,
   "metadata": {},
   "outputs": [
    {
     "data": {
      "text/plain": [
       "Text(0.5, 1.0, 'Samples in bins')"
      ]
     },
     "execution_count": 12,
     "metadata": {},
     "output_type": "execute_result"
    },
    {
     "data": {
      "image/png": "[encoded data removed]",
      "text/plain": [
       "<Figure size 750x750 with 2 Axes>"
      ]
     },
     "metadata": {
      "needs_background": "light"
     },
     "output_type": "display_data"
    }
   ],
   "source": [
    "a = data[[\"et_bin\", \"eta_bin\"]].values.T\n",
    "hoccupancy = plt.hist2d(a[0], a[1], bins=[10,10], range=[(-.5,9.5),(-.5,9.5)] ,norm= colors.LogNorm())\n",
    "plt.colorbar()\n",
    "plt.xlabel(\"et bin\")\n",
    "plt.ylabel(\"eta bin\")\n",
    "plt.title(\"Samples in bins\")"
   ]
  },
  {
   "cell_type": "code",
   "execution_count": 13,
   "metadata": {},
   "outputs": [
    {
     "data": {
      "text/plain": [
       "Text(0.5, 1.0, 'Samples in bins (out Supercluster)')"
      ]
     },
     "execution_count": 13,
     "metadata": {},
     "output_type": "execute_result"
    },
    {
     "data": {
      "image/png": "[encoded data removed]",
      "text/plain": [
       "<Figure size 1800x750 with 2 Axes>"
      ]
     },
     "metadata": {
      "needs_background": "light"
     },
     "output_type": "display_data"
    }
   ],
   "source": [
    "a_in = data[data.in_scluster==True][[\"et_bin\", \"eta_bin\"]].values.T\n",
    "a_out = data[data.in_scluster==False][[\"et_bin\", \"eta_bin\"]].values.T\n",
    "f, axs = plt.subplots(1,2, figsize=(12,5))\n",
    "hoccup_in = axs[0].hist2d(a_in[0], a_in[1], bins=[10,10], range=[(-.5,9.5),(-.5,9.5)] ,norm= colors.LogNorm())\n",
    "axs[0].set_xlabel(\"et bin\")\n",
    "axs[0].set_ylabel(\"eta bin\")\n",
    "axs[0].set_title(\"Samples in bins (in Supercluster)\")\n",
    "\n",
    "hoccup_out= axs[1].hist2d(a_out[0], a_out[1], bins=[10,10], range=[(-.5,9.5),(-.5,9.5)] ,norm= colors.LogNorm())\n",
    "axs[1].set_xlabel(\"et bin\")\n",
    "axs[1].set_ylabel(\"eta bin\")\n",
    "axs[1].set_title(\"Samples in bins (out Supercluster)\")"
   ]
  },
  {
   "cell_type": "code",
   "execution_count": 14,
   "metadata": {},
   "outputs": [],
   "source": [
    "tot = np.sum(hoccup_in[0] + hoccup_out[0])\n",
    "cell_tot = tot / 80"
   ]
  },
  {
   "cell_type": "code",
   "execution_count": 15,
   "metadata": {},
   "outputs": [
    {
     "name": "stderr",
     "output_type": "stream",
     "text": [
      "/usr/local/lib/python3.6/dist-packages/ipykernel_launcher.py:4: RuntimeWarning: divide by zero encountered in double_scalars\n",
      "  after removing the cwd from sys.path.\n",
      "/usr/local/lib/python3.6/dist-packages/ipykernel_launcher.py:5: RuntimeWarning: divide by zero encountered in double_scalars\n",
      "  \"\"\"\n"
     ]
    }
   ],
   "source": [
    "weights = np.zeros((10,10,2))\n",
    "for i in range(0,10):\n",
    "    for j in range(0,10):\n",
    "        weights[i,j,0] = cell_tot / hoccup_in[0][i,j]\n",
    "        weights[i,j,1] = cell_tot / hoccup_out[0][i,j]"
   ]
  },
  {
   "cell_type": "code",
   "execution_count": 16,
   "metadata": {},
   "outputs": [
    {
     "data": {
      "text/plain": [
       "<matplotlib.colorbar.Colorbar at 0x7f1b9aec21d0>"
      ]
     },
     "execution_count": 16,
     "metadata": {},
     "output_type": "execute_result"
    },
    {
     "data": {
      "image/png": "[encoded data removed]",
      "text/plain": [
       "<Figure size 750x750 with 2 Axes>"
      ]
     },
     "metadata": {
      "needs_background": "light"
     },
     "output_type": "display_data"
    }
   ],
   "source": [
    "plt.imshow(weights[:,:,0].T)\n",
    "plt.colorbar()"
   ]
  },
  {
   "cell_type": "code",
   "execution_count": 17,
   "metadata": {},
   "outputs": [
    {
     "name": "stdout",
     "output_type": "stream",
     "text": [
      "INFO: Pandarallel will run on 10 workers.\n",
      "INFO: Pandarallel will use standard multiprocessing data transfer (pipe) to transfer data between the main process and workers.\n"
     ]
    }
   ],
   "source": [
    "from pandarallel import pandarallel\n",
    "pandarallel.initialize(use_memory_fs=False)"
   ]
  },
  {
   "cell_type": "code",
   "execution_count": 18,
   "metadata": {},
   "outputs": [
    {
     "name": "stdout",
     "output_type": "stream",
     "text": [
      "out\n"
     ]
    }
   ],
   "source": [
    "def applyweight_insc(row):\n",
    "    return weights[int(row.et_bin), int(row.eta_bin), 0]\n",
    "def applyweight_outsc(row):\n",
    "    return weights[int(row.et_bin), int(row.eta_bin), 1]\n",
    "\n",
    "w_in = data[data.in_scluster].parallel_apply(applyweight_insc, axis=1)\n",
    "print(\"out\")\n",
    "w_out = data[data.in_scluster ==False].parallel_apply(applyweight_outsc, axis=1)"
   ]
  },
  {
   "cell_type": "code",
   "execution_count": 19,
   "metadata": {},
   "outputs": [],
   "source": [
    "data.loc[data.in_scluster,\"w\"] = w_in\n",
    "data.loc[data.in_scluster==False, \"w\"] = w_out"
   ]
  },
  {
   "cell_type": "markdown",
   "metadata": {},
   "source": [
    "# Array preparation"
   ]
  },
  {
   "cell_type": "code",
   "execution_count": 24,
   "metadata": {},
   "outputs": [
    {
     "data": {
      "text/html": [
       "<div>\n",
       "<style scoped>\n",
       "    .dataframe tbody tr th:only-of-type {\n",
       "        vertical-align: middle;\n",
       "    }\n",
       "\n",
       "    .dataframe tbody tr th {\n",
       "        vertical-align: top;\n",
       "    }\n",
       "\n",
       "    .dataframe thead th {\n",
       "        text-align: right;\n",
       "    }\n",
       "</style>\n",
       "<table border=\"1\" class=\"dataframe\">\n",
       "  <thead>\n",
       "    <tr style=\"text-align: right;\">\n",
       "      <th></th>\n",
       "      <th>calo_seed_index</th>\n",
       "      <th>cl_f5_r9</th>\n",
       "      <th>cl_f5_sigmaIetaIeta</th>\n",
       "      <th>cl_f5_sigmaIetaIphi</th>\n",
       "      <th>cl_f5_sigmaIphiIphi</th>\n",
       "      <th>cl_nxtals</th>\n",
       "      <th>cl_swissCross</th>\n",
       "      <th>cluster_deta</th>\n",
       "      <th>cluster_dphi</th>\n",
       "      <th>cluster_iz</th>\n",
       "      <th>...</th>\n",
       "      <th>seed_f5_sigmaIphiIphi</th>\n",
       "      <th>seed_iz</th>\n",
       "      <th>seed_nxtals</th>\n",
       "      <th>seed_phi</th>\n",
       "      <th>seed_swissCross</th>\n",
       "      <th>window_index</th>\n",
       "      <th>particle</th>\n",
       "      <th>et_bin</th>\n",
       "      <th>eta_bin</th>\n",
       "      <th>w</th>\n",
       "    </tr>\n",
       "  </thead>\n",
       "  <tbody>\n",
       "    <tr>\n",
       "      <th>3</th>\n",
       "      <td>-1</td>\n",
       "      <td>1.000000</td>\n",
       "      <td>0.000000</td>\n",
       "      <td>0.000000</td>\n",
       "      <td>0.000000</td>\n",
       "      <td>1</td>\n",
       "      <td>1.000000</td>\n",
       "      <td>0.000242</td>\n",
       "      <td>-0.246111</td>\n",
       "      <td>-1</td>\n",
       "      <td>...</td>\n",
       "      <td>0.039687</td>\n",
       "      <td>-1</td>\n",
       "      <td>2</td>\n",
       "      <td>0.993276</td>\n",
       "      <td>0.751841</td>\n",
       "      <td>fnugkdgu</td>\n",
       "      <td>gamma</td>\n",
       "      <td>0</td>\n",
       "      <td>1</td>\n",
       "      <td>2.135359</td>\n",
       "    </tr>\n",
       "    <tr>\n",
       "      <th>4</th>\n",
       "      <td>-1</td>\n",
       "      <td>1.000000</td>\n",
       "      <td>0.025746</td>\n",
       "      <td>0.000655</td>\n",
       "      <td>0.037499</td>\n",
       "      <td>2</td>\n",
       "      <td>0.451848</td>\n",
       "      <td>-0.178774</td>\n",
       "      <td>0.138692</td>\n",
       "      <td>-1</td>\n",
       "      <td>...</td>\n",
       "      <td>0.039687</td>\n",
       "      <td>-1</td>\n",
       "      <td>2</td>\n",
       "      <td>0.993276</td>\n",
       "      <td>0.751841</td>\n",
       "      <td>fnugkdgu</td>\n",
       "      <td>gamma</td>\n",
       "      <td>0</td>\n",
       "      <td>1</td>\n",
       "      <td>2.135359</td>\n",
       "    </tr>\n",
       "    <tr>\n",
       "      <th>7</th>\n",
       "      <td>-1</td>\n",
       "      <td>1.139388</td>\n",
       "      <td>0.045016</td>\n",
       "      <td>-0.000420</td>\n",
       "      <td>0.015058</td>\n",
       "      <td>1</td>\n",
       "      <td>1.000000</td>\n",
       "      <td>-0.046251</td>\n",
       "      <td>0.115087</td>\n",
       "      <td>-1</td>\n",
       "      <td>...</td>\n",
       "      <td>0.039687</td>\n",
       "      <td>-1</td>\n",
       "      <td>2</td>\n",
       "      <td>0.993276</td>\n",
       "      <td>0.751841</td>\n",
       "      <td>fnugkdgu</td>\n",
       "      <td>gamma</td>\n",
       "      <td>0</td>\n",
       "      <td>1</td>\n",
       "      <td>2.135359</td>\n",
       "    </tr>\n",
       "    <tr>\n",
       "      <th>9</th>\n",
       "      <td>-1</td>\n",
       "      <td>1.000000</td>\n",
       "      <td>0.000000</td>\n",
       "      <td>0.000000</td>\n",
       "      <td>0.000000</td>\n",
       "      <td>1</td>\n",
       "      <td>1.000000</td>\n",
       "      <td>-0.074259</td>\n",
       "      <td>-0.337123</td>\n",
       "      <td>-1</td>\n",
       "      <td>...</td>\n",
       "      <td>0.039687</td>\n",
       "      <td>-1</td>\n",
       "      <td>2</td>\n",
       "      <td>0.993276</td>\n",
       "      <td>0.751841</td>\n",
       "      <td>fnugkdgu</td>\n",
       "      <td>gamma</td>\n",
       "      <td>0</td>\n",
       "      <td>1</td>\n",
       "      <td>2.135359</td>\n",
       "    </tr>\n",
       "    <tr>\n",
       "      <th>10</th>\n",
       "      <td>0</td>\n",
       "      <td>1.728512</td>\n",
       "      <td>0.068250</td>\n",
       "      <td>0.001948</td>\n",
       "      <td>0.057110</td>\n",
       "      <td>1</td>\n",
       "      <td>1.000000</td>\n",
       "      <td>-0.177897</td>\n",
       "      <td>-0.099450</td>\n",
       "      <td>1</td>\n",
       "      <td>...</td>\n",
       "      <td>0.022173</td>\n",
       "      <td>1</td>\n",
       "      <td>11</td>\n",
       "      <td>-0.823558</td>\n",
       "      <td>0.831717</td>\n",
       "      <td>ivpinssh</td>\n",
       "      <td>gamma</td>\n",
       "      <td>5</td>\n",
       "      <td>8</td>\n",
       "      <td>3.729532</td>\n",
       "    </tr>\n",
       "    <tr>\n",
       "      <th>...</th>\n",
       "      <td>...</td>\n",
       "      <td>...</td>\n",
       "      <td>...</td>\n",
       "      <td>...</td>\n",
       "      <td>...</td>\n",
       "      <td>...</td>\n",
       "      <td>...</td>\n",
       "      <td>...</td>\n",
       "      <td>...</td>\n",
       "      <td>...</td>\n",
       "      <td>...</td>\n",
       "      <td>...</td>\n",
       "      <td>...</td>\n",
       "      <td>...</td>\n",
       "      <td>...</td>\n",
       "      <td>...</td>\n",
       "      <td>...</td>\n",
       "      <td>...</td>\n",
       "      <td>...</td>\n",
       "      <td>...</td>\n",
       "      <td>...</td>\n",
       "    </tr>\n",
       "    <tr>\n",
       "      <th>22020919</th>\n",
       "      <td>-1</td>\n",
       "      <td>1.000000</td>\n",
       "      <td>0.045569</td>\n",
       "      <td>0.000711</td>\n",
       "      <td>0.084967</td>\n",
       "      <td>3</td>\n",
       "      <td>1.000000</td>\n",
       "      <td>-0.184629</td>\n",
       "      <td>-0.042686</td>\n",
       "      <td>-1</td>\n",
       "      <td>...</td>\n",
       "      <td>0.052480</td>\n",
       "      <td>-1</td>\n",
       "      <td>21</td>\n",
       "      <td>-1.975005</td>\n",
       "      <td>1.000000</td>\n",
       "      <td>agwotjjy</td>\n",
       "      <td>electron</td>\n",
       "      <td>0</td>\n",
       "      <td>0</td>\n",
       "      <td>17.207152</td>\n",
       "    </tr>\n",
       "    <tr>\n",
       "      <th>22020920</th>\n",
       "      <td>-1</td>\n",
       "      <td>1.000000</td>\n",
       "      <td>0.045569</td>\n",
       "      <td>0.000711</td>\n",
       "      <td>0.084967</td>\n",
       "      <td>3</td>\n",
       "      <td>1.000000</td>\n",
       "      <td>0.030717</td>\n",
       "      <td>-0.139609</td>\n",
       "      <td>-1</td>\n",
       "      <td>...</td>\n",
       "      <td>0.050619</td>\n",
       "      <td>-1</td>\n",
       "      <td>13</td>\n",
       "      <td>-2.071928</td>\n",
       "      <td>1.000000</td>\n",
       "      <td>jgnopcad</td>\n",
       "      <td>electron</td>\n",
       "      <td>0</td>\n",
       "      <td>0</td>\n",
       "      <td>17.207152</td>\n",
       "    </tr>\n",
       "    <tr>\n",
       "      <th>22020922</th>\n",
       "      <td>-1</td>\n",
       "      <td>1.000000</td>\n",
       "      <td>0.068638</td>\n",
       "      <td>0.000875</td>\n",
       "      <td>0.069488</td>\n",
       "      <td>1</td>\n",
       "      <td>1.000000</td>\n",
       "      <td>-0.197631</td>\n",
       "      <td>0.221468</td>\n",
       "      <td>-1</td>\n",
       "      <td>...</td>\n",
       "      <td>0.023076</td>\n",
       "      <td>-1</td>\n",
       "      <td>1</td>\n",
       "      <td>0.248542</td>\n",
       "      <td>0.327192</td>\n",
       "      <td>cfhbknkp</td>\n",
       "      <td>electron</td>\n",
       "      <td>0</td>\n",
       "      <td>0</td>\n",
       "      <td>17.207152</td>\n",
       "    </tr>\n",
       "    <tr>\n",
       "      <th>22020927</th>\n",
       "      <td>0</td>\n",
       "      <td>1.317060</td>\n",
       "      <td>0.065095</td>\n",
       "      <td>-0.000060</td>\n",
       "      <td>0.035467</td>\n",
       "      <td>1</td>\n",
       "      <td>1.000000</td>\n",
       "      <td>0.082528</td>\n",
       "      <td>0.180335</td>\n",
       "      <td>1</td>\n",
       "      <td>...</td>\n",
       "      <td>0.025697</td>\n",
       "      <td>1</td>\n",
       "      <td>23</td>\n",
       "      <td>1.777724</td>\n",
       "      <td>0.457754</td>\n",
       "      <td>qshimppd</td>\n",
       "      <td>electron</td>\n",
       "      <td>8</td>\n",
       "      <td>8</td>\n",
       "      <td>4.670866</td>\n",
       "    </tr>\n",
       "    <tr>\n",
       "      <th>22020930</th>\n",
       "      <td>0</td>\n",
       "      <td>2.117167</td>\n",
       "      <td>0.059724</td>\n",
       "      <td>0.000581</td>\n",
       "      <td>0.038736</td>\n",
       "      <td>1</td>\n",
       "      <td>1.000000</td>\n",
       "      <td>-0.160316</td>\n",
       "      <td>-0.162524</td>\n",
       "      <td>1</td>\n",
       "      <td>...</td>\n",
       "      <td>0.025697</td>\n",
       "      <td>1</td>\n",
       "      <td>23</td>\n",
       "      <td>1.777724</td>\n",
       "      <td>0.457754</td>\n",
       "      <td>qshimppd</td>\n",
       "      <td>electron</td>\n",
       "      <td>8</td>\n",
       "      <td>8</td>\n",
       "      <td>4.670866</td>\n",
       "    </tr>\n",
       "  </tbody>\n",
       "</table>\n",
       "<p>7414906 rows × 35 columns</p>\n",
       "</div>"
      ],
      "text/plain": [
       "          calo_seed_index  cl_f5_r9  cl_f5_sigmaIetaIeta  cl_f5_sigmaIetaIphi  \\\n",
       "3                      -1  1.000000             0.000000             0.000000   \n",
       "4                      -1  1.000000             0.025746             0.000655   \n",
       "7                      -1  1.139388             0.045016            -0.000420   \n",
       "9                      -1  1.000000             0.000000             0.000000   \n",
       "10                      0  1.728512             0.068250             0.001948   \n",
       "...                   ...       ...                  ...                  ...   \n",
       "22020919               -1  1.000000             0.045569             0.000711   \n",
       "22020920               -1  1.000000             0.045569             0.000711   \n",
       "22020922               -1  1.000000             0.068638             0.000875   \n",
       "22020927                0  1.317060             0.065095            -0.000060   \n",
       "22020930                0  2.117167             0.059724             0.000581   \n",
       "\n",
       "          cl_f5_sigmaIphiIphi  cl_nxtals  cl_swissCross  cluster_deta  \\\n",
       "3                    0.000000          1       1.000000      0.000242   \n",
       "4                    0.037499          2       0.451848     -0.178774   \n",
       "7                    0.015058          1       1.000000     -0.046251   \n",
       "9                    0.000000          1       1.000000     -0.074259   \n",
       "10                   0.057110          1       1.000000     -0.177897   \n",
       "...                       ...        ...            ...           ...   \n",
       "22020919             0.084967          3       1.000000     -0.184629   \n",
       "22020920             0.084967          3       1.000000      0.030717   \n",
       "22020922             0.069488          1       1.000000     -0.197631   \n",
       "22020927             0.035467          1       1.000000      0.082528   \n",
       "22020930             0.038736          1       1.000000     -0.160316   \n",
       "\n",
       "          cluster_dphi  cluster_iz  ...  seed_f5_sigmaIphiIphi  seed_iz  \\\n",
       "3            -0.246111          -1  ...               0.039687       -1   \n",
       "4             0.138692          -1  ...               0.039687       -1   \n",
       "7             0.115087          -1  ...               0.039687       -1   \n",
       "9            -0.337123          -1  ...               0.039687       -1   \n",
       "10           -0.099450           1  ...               0.022173        1   \n",
       "...                ...         ...  ...                    ...      ...   \n",
       "22020919     -0.042686          -1  ...               0.052480       -1   \n",
       "22020920     -0.139609          -1  ...               0.050619       -1   \n",
       "22020922      0.221468          -1  ...               0.023076       -1   \n",
       "22020927      0.180335           1  ...               0.025697        1   \n",
       "22020930     -0.162524           1  ...               0.025697        1   \n",
       "\n",
       "          seed_nxtals  seed_phi  seed_swissCross  window_index  particle  \\\n",
       "3                   2  0.993276         0.751841      fnugkdgu     gamma   \n",
       "4                   2  0.993276         0.751841      fnugkdgu     gamma   \n",
       "7                   2  0.993276         0.751841      fnugkdgu     gamma   \n",
       "9                   2  0.993276         0.751841      fnugkdgu     gamma   \n",
       "10                 11 -0.823558         0.831717      ivpinssh     gamma   \n",
       "...               ...       ...              ...           ...       ...   \n",
       "22020919           21 -1.975005         1.000000      agwotjjy  electron   \n",
       "22020920           13 -2.071928         1.000000      jgnopcad  electron   \n",
       "22020922            1  0.248542         0.327192      cfhbknkp  electron   \n",
       "22020927           23  1.777724         0.457754      qshimppd  electron   \n",
       "22020930           23  1.777724         0.457754      qshimppd  electron   \n",
       "\n",
       "          et_bin  eta_bin          w  \n",
       "3              0        1   2.135359  \n",
       "4              0        1   2.135359  \n",
       "7              0        1   2.135359  \n",
       "9              0        1   2.135359  \n",
       "10             5        8   3.729532  \n",
       "...          ...      ...        ...  \n",
       "22020919       0        0  17.207152  \n",
       "22020920       0        0  17.207152  \n",
       "22020922       0        0  17.207152  \n",
       "22020927       8        8   4.670866  \n",
       "22020930       8        8   4.670866  \n",
       "\n",
       "[7414906 rows x 35 columns]"
      ]
     },
     "execution_count": 24,
     "metadata": {},
     "output_type": "execute_result"
    }
   ],
   "source": [
    "data\n"
   ]
  },
  {
   "cell_type": "code",
   "execution_count": 20,
   "metadata": {
    "ExecuteTime": {
     "end_time": "2020-05-03T19:40:22.348120Z",
     "start_time": "2020-05-03T19:40:21.924777Z"
    }
   },
   "outputs": [],
   "source": [
    "X = data[ cols ].values\n",
    "truth = data[[\"in_scluster\"]].values\n",
    "y = np.array(truth[:], dtype=int)\n",
    "weights = data.w.values"
   ]
  },
  {
   "cell_type": "code",
   "execution_count": 21,
   "metadata": {
    "ExecuteTime": {
     "end_time": "2020-05-03T16:59:09.418959Z",
     "start_time": "2020-05-03T16:59:08.383315Z"
    }
   },
   "outputs": [],
   "source": [
    "from sklearn.preprocessing import MinMaxScaler, StandardScaler, QuantileTransformer\n",
    "from sklearn.model_selection import train_test_split\n",
    "scaler = StandardScaler()\n",
    "X_scaled = scaler.fit_transform(X)\n",
    "pickle.dump(scaler, open(model_dir + \"/scaler_model_v{}_EB.pkl\".format(model_version), \"wb\"))"
   ]
  },
  {
   "cell_type": "code",
   "execution_count": 21,
   "metadata": {
    "ExecuteTime": {
     "end_time": "2020-05-03T19:41:51.724830Z",
     "start_time": "2020-05-03T19:41:49.713894Z"
    }
   },
   "outputs": [],
   "source": [
    "from sklearn.preprocessing import MinMaxScaler, StandardScaler, QuantileTransformer\n",
    "from sklearn.model_selection import train_test_split\n",
    "scaler = StandardScaler()\n",
    "X_scaled = scaler.fit_transform(X)\n",
    "pickle.dump(scaler, open(model_dir+\"/scaler_model_v{}_EE.pkl\".format(model_version), \"wb\"))"
   ]
  },
  {
   "cell_type": "code",
   "execution_count": 27,
   "metadata": {
    "ExecuteTime": {
     "end_time": "2020-04-27T20:36:06.424318Z",
     "start_time": "2020-04-27T20:36:06.415406Z"
    }
   },
   "outputs": [
    {
     "data": {
      "text/plain": [
       "array([-4.55792861e-02, -1.17083964e-02, -1.34903935e-02,  1.00161923e+02,\n",
       "        2.42561384e+01, -8.63536138e-03,  4.48592224e-05,  3.45859337e+00,\n",
       "        7.37630646e-01,  1.04697022e+00,  3.19432209e-02,  5.39142449e-07,\n",
       "        3.79630062e-02,  4.91967698e-01,  6.15836829e+00,  3.24158995e+00,\n",
       "        3.66877393e-02,  9.16334075e-05,  3.95834353e-02,  8.46881736e-01,\n",
       "        1.84766712e+00])"
      ]
     },
     "execution_count": 27,
     "metadata": {},
     "output_type": "execute_result"
    }
   ],
   "source": [
    "scaler.mean_"
   ]
  },
  {
   "cell_type": "code",
   "execution_count": 28,
   "metadata": {
    "ExecuteTime": {
     "end_time": "2020-04-27T20:36:11.862086Z",
     "start_time": "2020-04-27T20:36:11.856918Z"
    }
   },
   "outputs": [
    {
     "data": {
      "text/plain": [
       "array([2.19135988e+00, 1.80431643e+00, 9.99909001e-01, 1.26802617e+02,\n",
       "       2.84861755e+01, 1.13600284e-01, 2.17083162e-01, 4.07726804e+00,\n",
       "       1.02004000e+00, 4.79399721e-01, 1.30861530e-02, 3.85008975e-04,\n",
       "       1.45566813e-02, 3.99832660e-01, 5.92165725e+00, 1.11050894e+01,\n",
       "       2.14458584e-02, 6.45316467e-04, 2.24543330e-02, 3.22714857e-01,\n",
       "       2.58670004e+00])"
      ]
     },
     "execution_count": 28,
     "metadata": {},
     "output_type": "execute_result"
    }
   ],
   "source": [
    "scaler.scale_"
   ]
  },
  {
   "cell_type": "code",
   "execution_count": 22,
   "metadata": {
    "ExecuteTime": {
     "end_time": "2020-05-03T19:42:21.213537Z",
     "start_time": "2020-05-03T19:42:20.253569Z"
    }
   },
   "outputs": [],
   "source": [
    "X_train, X_val, y_train, y_val, w_train, w_val = train_test_split(X_scaled, y, weights, test_size=0.33)"
   ]
  },
  {
   "cell_type": "markdown",
   "metadata": {},
   "source": [
    "### Some plots"
   ]
  },
  {
   "cell_type": "code",
   "execution_count": 24,
   "metadata": {},
   "outputs": [
    {
     "data": {
      "text/plain": [
       "(array([640990.99993502, 124926.58416488,  34517.36397685,  25241.2743975 ,\n",
       "         22530.92752569, 181174.92144246, 174676.3253948 , 169241.76840749,\n",
       "        163300.51172571, 159813.62302955, 170953.84852242, 171076.78680737,\n",
       "        168157.94389618, 167710.67321968, 170307.89755435, 169192.89582129,\n",
       "        168974.78734882, 172015.37141437, 170108.2338704 , 167915.86154512,\n",
       "        169547.3311247 , 171158.51843446, 168659.1448184 , 168720.57613241,\n",
       "        170121.57949003, 170035.41826431, 171194.74570652, 167812.37586164,\n",
       "        170457.73981816, 168706.87034938, 168603.83018938, 172415.16055244,\n",
       "        170180.23570407, 168382.874932  , 168625.0486221 , 175128.38527599,\n",
       "        171879.74794567, 167455.83614848, 166562.28662565, 167180.89400422,\n",
       "        177356.44923787, 176284.42998748, 170377.54631625, 166773.34117676,\n",
       "        157415.38328164, 232313.04238497, 211846.51109503, 188958.29284204,\n",
       "        145301.0217066 ,  60287.08730361]),\n",
       " array([  0.,   2.,   4.,   6.,   8.,  10.,  12.,  14.,  16.,  18.,  20.,\n",
       "         22.,  24.,  26.,  28.,  30.,  32.,  34.,  36.,  38.,  40.,  42.,\n",
       "         44.,  46.,  48.,  50.,  52.,  54.,  56.,  58.,  60.,  62.,  64.,\n",
       "         66.,  68.,  70.,  72.,  74.,  76.,  78.,  80.,  82.,  84.,  86.,\n",
       "         88.,  90.,  92.,  94.,  96.,  98., 100.]),\n",
       " <a list of 50 Patch objects>)"
      ]
     },
     "execution_count": 24,
     "metadata": {},
     "output_type": "execute_result"
    },
    {
     "data": {
      "image/png": "[encoded data removed]",
      "text/plain": [
       "<Figure size 750x750 with 1 Axes>"
      ]
     },
     "metadata": {
      "needs_background": "light"
     },
     "output_type": "display_data"
    }
   ],
   "source": [
    "plt.hist(data[data.in_scluster==False].et_seed, bins=50, weights=data[data.in_scluster==False].w, range=(0,100))"
   ]
  },
  {
   "cell_type": "markdown",
   "metadata": {},
   "source": [
    "# Training"
   ]
  },
  {
   "cell_type": "code",
   "execution_count": 25,
   "metadata": {
    "ExecuteTime": {
     "end_time": "2020-05-03T15:15:19.694207Z",
     "start_time": "2020-05-03T15:15:13.962325Z"
    }
   },
   "outputs": [
    {
     "name": "stderr",
     "output_type": "stream",
     "text": [
      "Using TensorFlow backend.\n"
     ]
    }
   ],
   "source": [
    "# Import all the required Libraries\n",
    "import tensorflow\n",
    "import keras\n",
    "import pandas as pd\n",
    "import numpy as np\n",
    "import matplotlib.pyplot as plt\n",
    "from keras.datasets import mnist\n",
    "from keras.models import Model, Sequential\n",
    "from keras.layers import Dense, Conv2D, Dropout, BatchNormalization, Input, Reshape, Flatten, Deconvolution2D, Conv2DTranspose, MaxPooling2D, UpSampling2D, Lambda\n",
    "from keras.layers.advanced_activations import LeakyReLU\n",
    "from keras.optimizers import adam\n",
    "from keras import callbacks\n",
    "from keras import backend as K\n",
    "from keras import regularizers\n",
    "from keras.callbacks import *"
   ]
  },
  {
   "cell_type": "code",
   "execution_count": 26,
   "metadata": {
    "ExecuteTime": {
     "end_time": "2020-05-03T19:43:37.659152Z",
     "start_time": "2020-05-03T19:43:37.313696Z"
    }
   },
   "outputs": [
    {
     "name": "stdout",
     "output_type": "stream",
     "text": [
      "Model: \"sequential_1\"\n",
      "_________________________________________________________________\n",
      "Layer (type)                 Output Shape              Param #   \n",
      "=================================================================\n",
      "dense_1 (Dense)              (None, 200)               5200      \n",
      "_________________________________________________________________\n",
      "dropout_1 (Dropout)          (None, 200)               0         \n",
      "_________________________________________________________________\n",
      "dense_2 (Dense)              (None, 100)               20100     \n",
      "_________________________________________________________________\n",
      "dropout_2 (Dropout)          (None, 100)               0         \n",
      "_________________________________________________________________\n",
      "dense_3 (Dense)              (None, 100)               10100     \n",
      "_________________________________________________________________\n",
      "dropout_3 (Dropout)          (None, 100)               0         \n",
      "_________________________________________________________________\n",
      "dense_4 (Dense)              (None, 100)               10100     \n",
      "_________________________________________________________________\n",
      "dropout_4 (Dropout)          (None, 100)               0         \n",
      "_________________________________________________________________\n",
      "dense_5 (Dense)              (None, 100)               10100     \n",
      "_________________________________________________________________\n",
      "dropout_5 (Dropout)          (None, 100)               0         \n",
      "_________________________________________________________________\n",
      "dense_6 (Dense)              (None, 100)               10100     \n",
      "_________________________________________________________________\n",
      "dropout_6 (Dropout)          (None, 100)               0         \n",
      "_________________________________________________________________\n",
      "dense_7 (Dense)              (None, 1)                 101       \n",
      "=================================================================\n",
      "Total params: 65,801\n",
      "Trainable params: 65,801\n",
      "Non-trainable params: 0\n",
      "_________________________________________________________________\n"
     ]
    }
   ],
   "source": [
    "model = Sequential()\n",
    "model.add(Dense(200, input_dim=X_val.shape[1], activation=\"relu\",kernel_regularizer=regularizers.l2(0.01)))\n",
    "model.add(Dropout(0.1))\n",
    "model.add(Dense(100, activation=\"relu\",kernel_regularizer=regularizers.l2(0.01)))\n",
    "model.add(Dropout(0.1))\n",
    "model.add(Dense(100, activation=\"relu\"))\n",
    "model.add(Dropout(0.05))\n",
    "model.add(Dense(100, activation=\"relu\"))\n",
    "model.add(Dropout(0.05))\n",
    "model.add(Dense(100, activation=\"relu\"))\n",
    "model.add(Dropout(0.05))\n",
    "model.add(Dense(100, activation=\"relu\"))\n",
    "model.add(Dropout(0.05))\n",
    "model.add(Dense(1, activation=\"sigmoid\"))\n",
    "\n",
    "\n",
    "model.compile(optimizer='adagrad',\n",
    "              loss='binary_crossentropy',\n",
    "              metrics=['accuracy'])\n",
    "\n",
    "model.summary()"
   ]
  },
  {
   "cell_type": "code",
   "execution_count": 26,
   "metadata": {},
   "outputs": [
    {
     "name": "stdout",
     "output_type": "stream",
     "text": [
      "Model: \"sequential_1\"\n",
      "_________________________________________________________________\n",
      "Layer (type)                 Output Shape              Param #   \n",
      "=================================================================\n",
      "dense_1 (Dense)              (None, 200)               5200      \n",
      "_________________________________________________________________\n",
      "dropout_1 (Dropout)          (None, 200)               0         \n",
      "_________________________________________________________________\n",
      "dense_2 (Dense)              (None, 100)               20100     \n",
      "_________________________________________________________________\n",
      "dropout_2 (Dropout)          (None, 100)               0         \n",
      "_________________________________________________________________\n",
      "dense_3 (Dense)              (None, 100)               10100     \n",
      "_________________________________________________________________\n",
      "dropout_3 (Dropout)          (None, 100)               0         \n",
      "_________________________________________________________________\n",
      "dense_4 (Dense)              (None, 50)                5050      \n",
      "_________________________________________________________________\n",
      "dropout_4 (Dropout)          (None, 50)                0         \n",
      "_________________________________________________________________\n",
      "dense_5 (Dense)              (None, 50)                2550      \n",
      "_________________________________________________________________\n",
      "dropout_5 (Dropout)          (None, 50)                0         \n",
      "_________________________________________________________________\n",
      "dense_6 (Dense)              (None, 50)                2550      \n",
      "_________________________________________________________________\n",
      "dropout_6 (Dropout)          (None, 50)                0         \n",
      "_________________________________________________________________\n",
      "dense_7 (Dense)              (None, 1)                 51        \n",
      "=================================================================\n",
      "Total params: 45,601\n",
      "Trainable params: 45,601\n",
      "Non-trainable params: 0\n",
      "_________________________________________________________________\n"
     ]
    }
   ],
   "source": [
    "model = Sequential()\n",
    "model.add(Dense(200, input_dim=X_val.shape[1], activation=\"relu\",kernel_regularizer=regularizers.l2(0.01)))\n",
    "model.add(Dropout(0.1))\n",
    "model.add(Dense(100, activation=\"relu\",kernel_regularizer=regularizers.l2(0.01)))\n",
    "model.add(Dropout(0.1))\n",
    "model.add(Dense(100, activation=\"relu\"))\n",
    "model.add(Dropout(0.05))\n",
    "model.add(Dense(50, activation=\"relu\"))\n",
    "model.add(Dropout(0.05))\n",
    "model.add(Dense(50, activation=\"relu\"))\n",
    "model.add(Dropout(0.05))\n",
    "model.add(Dense(50, activation=\"relu\"))\n",
    "model.add(Dropout(0.05))\n",
    "model.add(Dense(1, activation=\"sigmoid\"))\n",
    "\n",
    "\n",
    "model.compile(optimizer='adagrad',\n",
    "              loss='binary_crossentropy',\n",
    "              metrics=['accuracy'])\n",
    "\n",
    "model.summary()"
   ]
  },
  {
   "cell_type": "code",
   "execution_count": 50,
   "metadata": {
    "ExecuteTime": {
     "end_time": "2020-05-03T19:42:50.162047Z",
     "start_time": "2020-05-03T19:42:49.929560Z"
    }
   },
   "outputs": [
    {
     "name": "stdout",
     "output_type": "stream",
     "text": [
      "Model: \"sequential_2\"\n",
      "_________________________________________________________________\n",
      "Layer (type)                 Output Shape              Param #   \n",
      "=================================================================\n",
      "dense_8 (Dense)              (None, 100)               2200      \n",
      "_________________________________________________________________\n",
      "dropout_7 (Dropout)          (None, 100)               0         \n",
      "_________________________________________________________________\n",
      "dense_9 (Dense)              (None, 100)               10100     \n",
      "_________________________________________________________________\n",
      "dropout_8 (Dropout)          (None, 100)               0         \n",
      "_________________________________________________________________\n",
      "dense_10 (Dense)             (None, 100)               10100     \n",
      "_________________________________________________________________\n",
      "dropout_9 (Dropout)          (None, 100)               0         \n",
      "_________________________________________________________________\n",
      "dense_11 (Dense)             (None, 100)               10100     \n",
      "_________________________________________________________________\n",
      "dropout_10 (Dropout)         (None, 100)               0         \n",
      "_________________________________________________________________\n",
      "dense_12 (Dense)             (None, 1)                 101       \n",
      "=================================================================\n",
      "Total params: 32,601\n",
      "Trainable params: 32,601\n",
      "Non-trainable params: 0\n",
      "_________________________________________________________________\n"
     ]
    }
   ],
   "source": [
    "model = Sequential()\n",
    "model.add(Dense(100, input_dim=X_val.shape[1], activation=\"relu\",kernel_regularizer=regularizers.l2(0.01)))\n",
    "model.add(Dropout(0.1))\n",
    "model.add(Dense(100, activation=\"relu\",kernel_regularizer=regularizers.l2(0.01)))\n",
    "model.add(Dropout(0.1))\n",
    "model.add(Dense(100, activation=\"relu\"))\n",
    "model.add(Dropout(0.05))\n",
    "model.add(Dense(100, activation=\"relu\"))\n",
    "model.add(Dropout(0.05))\n",
    "model.add(Dense(1, activation=\"sigmoid\"))\n",
    "\n",
    "\n",
    "model.compile(optimizer='adagrad',\n",
    "              loss='binary_crossentropy',\n",
    "              metrics=['accuracy'])\n",
    "\n",
    "model.summary()"
   ]
  },
  {
   "cell_type": "code",
   "execution_count": 64,
   "metadata": {
    "ExecuteTime": {
     "end_time": "2020-04-27T20:43:36.141251Z",
     "start_time": "2020-04-27T20:43:36.131252Z"
    }
   },
   "outputs": [],
   "source": [
    "import math\n",
    "def step_decay(epoch):\n",
    "    initial_lrate = 0.35\n",
    "    drop = 0.7\n",
    "    epochs_drop = 5.0\n",
    "    lrate = initial_lrate * math.pow(drop, math.floor((1+epoch)/epochs_drop))\n",
    "    if lrate < 0.002: return 0.002\n",
    "    return lrate"
   ]
  },
  {
   "cell_type": "code",
   "execution_count": null,
   "metadata": {
    "ExecuteTime": {
     "end_time": "2020-05-03T17:51:50.420166Z",
     "start_time": "2020-05-03T17:00:34.510038Z"
    },
    "scrolled": false
   },
   "outputs": [
    {
     "name": "stdout",
     "output_type": "stream",
     "text": [
      "Train on 11365975 samples, validate on 5598168 samples\n",
      "Epoch 1/400\n",
      "11365975/11365975 [==============================] - 61s 5us/step - loss: 0.1432 - accuracy: 0.9456 - val_loss: 0.1038 - val_accuracy: 0.9461\n",
      "Epoch 2/400\n",
      "11365975/11365975 [==============================] - 58s 5us/step - loss: 0.1059 - accuracy: 0.9491 - val_loss: 0.0989 - val_accuracy: 0.9611\n",
      "\n",
      "Epoch 00002: val_loss improved from inf to 0.09887, saving model to ../models/v12_allnew//model_v1_EB.hd5\n",
      "Epoch 3/400\n",
      "11365975/11365975 [==============================] - 59s 5us/step - loss: 0.1016 - accuracy: 0.9500 - val_loss: 0.0956 - val_accuracy: 0.9530\n",
      "Epoch 4/400\n",
      "11365975/11365975 [==============================] - 58s 5us/step - loss: 0.0991 - accuracy: 0.9503 - val_loss: 0.0984 - val_accuracy: 0.9381\n",
      "\n",
      "Epoch 00004: val_loss improved from 0.09887 to 0.09835, saving model to ../models/v12_allnew//model_v1_EB.hd5\n",
      "Epoch 5/400\n",
      "11365975/11365975 [==============================] - 58s 5us/step - loss: 0.0978 - accuracy: 0.9510 - val_loss: 0.0926 - val_accuracy: 0.9463\n",
      "Epoch 6/400\n",
      "11365975/11365975 [==============================] - 58s 5us/step - loss: 0.0964 - accuracy: 0.9516 - val_loss: 0.0917 - val_accuracy: 0.9606\n",
      "\n",
      "Epoch 00006: val_loss improved from 0.09835 to 0.09173, saving model to ../models/v12_allnew//model_v1_EB.hd5\n",
      "Epoch 7/400\n",
      "11365975/11365975 [==============================] - 58s 5us/step - loss: 0.0955 - accuracy: 0.9523 - val_loss: 0.0926 - val_accuracy: 0.9593\n",
      "Epoch 8/400\n",
      "11365975/11365975 [==============================] - 58s 5us/step - loss: 0.0949 - accuracy: 0.9524 - val_loss: 0.0898 - val_accuracy: 0.9548\n",
      "\n",
      "Epoch 00008: val_loss improved from 0.09173 to 0.08978, saving model to ../models/v12_allnew//model_v1_EB.hd5\n",
      "Epoch 9/400\n",
      "11365975/11365975 [==============================] - 58s 5us/step - loss: 0.0942 - accuracy: 0.9526 - val_loss: 0.0931 - val_accuracy: 0.9360\n",
      "Epoch 10/400\n",
      "11365975/11365975 [==============================] - 59s 5us/step - loss: 0.0935 - accuracy: 0.9528 - val_loss: 0.0883 - val_accuracy: 0.9540\n",
      "\n",
      "Epoch 00010: val_loss improved from 0.08978 to 0.08828, saving model to ../models/v12_allnew//model_v1_EB.hd5\n",
      "Epoch 11/400\n",
      "11365975/11365975 [==============================] - 60s 5us/step - loss: 0.0932 - accuracy: 0.9529 - val_loss: 0.0905 - val_accuracy: 0.9558\n",
      "Epoch 12/400\n",
      "11365975/11365975 [==============================] - 60s 5us/step - loss: 0.0926 - accuracy: 0.9531 - val_loss: 0.0878 - val_accuracy: 0.9622\n",
      "\n",
      "Epoch 00012: val_loss improved from 0.08828 to 0.08783, saving model to ../models/v12_allnew//model_v1_EB.hd5\n",
      "Epoch 13/400\n",
      "11365975/11365975 [==============================] - 59s 5us/step - loss: 0.0923 - accuracy: 0.9540 - val_loss: 0.0866 - val_accuracy: 0.9562\n",
      "Epoch 14/400\n",
      "11365975/11365975 [==============================] - 59s 5us/step - loss: 0.0921 - accuracy: 0.9542 - val_loss: 0.0880 - val_accuracy: 0.9648\n",
      "\n",
      "Epoch 00014: val_loss did not improve from 0.08783\n",
      "Epoch 15/400\n",
      "11365975/11365975 [==============================] - 59s 5us/step - loss: 0.0917 - accuracy: 0.9542 - val_loss: 0.0867 - val_accuracy: 0.9569\n",
      "Epoch 16/400\n",
      "11365975/11365975 [==============================] - 59s 5us/step - loss: 0.0914 - accuracy: 0.9544 - val_loss: 0.0871 - val_accuracy: 0.9592\n",
      "\n",
      "Epoch 00016: val_loss improved from 0.08783 to 0.08706, saving model to ../models/v12_allnew//model_v1_EB.hd5\n",
      "Epoch 17/400\n",
      "11365975/11365975 [==============================] - 59s 5us/step - loss: 0.0910 - accuracy: 0.9544 - val_loss: 0.0867 - val_accuracy: 0.9633\n",
      "Epoch 18/400\n",
      "11365975/11365975 [==============================] - 57s 5us/step - loss: 0.0908 - accuracy: 0.9546 - val_loss: 0.0860 - val_accuracy: 0.9613\n",
      "\n",
      "Epoch 00018: val_loss improved from 0.08706 to 0.08598, saving model to ../models/v12_allnew//model_v1_EB.hd5\n",
      "Epoch 19/400\n",
      "11365975/11365975 [==============================] - 59s 5us/step - loss: 0.0907 - accuracy: 0.9545 - val_loss: 0.0871 - val_accuracy: 0.9482\n",
      "Epoch 20/400\n",
      "11365975/11365975 [==============================] - 59s 5us/step - loss: 0.0902 - accuracy: 0.9550 - val_loss: 0.0880 - val_accuracy: 0.9677\n",
      "\n",
      "Epoch 00020: val_loss did not improve from 0.08598\n",
      "Epoch 21/400\n",
      "11365975/11365975 [==============================] - 59s 5us/step - loss: 0.0901 - accuracy: 0.9547 - val_loss: 0.0865 - val_accuracy: 0.9605\n",
      "Epoch 22/400\n",
      "11365975/11365975 [==============================] - 59s 5us/step - loss: 0.0901 - accuracy: 0.9549 - val_loss: 0.0857 - val_accuracy: 0.9591\n",
      "\n",
      "Epoch 00022: val_loss improved from 0.08598 to 0.08566, saving model to ../models/v12_allnew//model_v1_EB.hd5\n",
      "Epoch 23/400\n",
      "11365975/11365975 [==============================] - 59s 5us/step - loss: 0.0899 - accuracy: 0.9549 - val_loss: 0.0862 - val_accuracy: 0.9646\n",
      "Epoch 24/400\n",
      "11365975/11365975 [==============================] - 58s 5us/step - loss: 0.0895 - accuracy: 0.9548 - val_loss: 0.0848 - val_accuracy: 0.9559\n",
      "\n",
      "Epoch 00024: val_loss improved from 0.08566 to 0.08482, saving model to ../models/v12_allnew//model_v1_EB.hd5\n",
      "Epoch 25/400\n",
      "11365975/11365975 [==============================] - 58s 5us/step - loss: 0.0894 - accuracy: 0.9549 - val_loss: 0.0851 - val_accuracy: 0.9567\n",
      "Epoch 26/400\n",
      "11365975/11365975 [==============================] - 58s 5us/step - loss: 0.0892 - accuracy: 0.9547 - val_loss: 0.0885 - val_accuracy: 0.9451\n",
      "\n",
      "Epoch 00026: val_loss did not improve from 0.08482\n",
      "Epoch 27/400\n",
      "11365975/11365975 [==============================] - 58s 5us/step - loss: 0.0892 - accuracy: 0.9552 - val_loss: 0.0845 - val_accuracy: 0.9571\n",
      "Epoch 28/400\n",
      "11365975/11365975 [==============================] - 57s 5us/step - loss: 0.0890 - accuracy: 0.9552 - val_loss: 0.0847 - val_accuracy: 0.9559\n",
      "\n",
      "Epoch 00028: val_loss improved from 0.08482 to 0.08472, saving model to ../models/v12_allnew//model_v1_EB.hd5\n",
      "Epoch 29/400\n",
      "11365975/11365975 [==============================] - 58s 5us/step - loss: 0.0888 - accuracy: 0.9550 - val_loss: 0.0851 - val_accuracy: 0.9570\n",
      "Epoch 30/400\n",
      "11365975/11365975 [==============================] - 58s 5us/step - loss: 0.0887 - accuracy: 0.9555 - val_loss: 0.0871 - val_accuracy: 0.9504\n",
      "\n",
      "Epoch 00030: val_loss did not improve from 0.08472\n",
      "Epoch 31/400\n",
      "11365975/11365975 [==============================] - 58s 5us/step - loss: 0.0886 - accuracy: 0.9555 - val_loss: 0.0845 - val_accuracy: 0.9607\n",
      "Epoch 32/400\n",
      "11365975/11365975 [==============================] - 59s 5us/step - loss: 0.0885 - accuracy: 0.9551 - val_loss: 0.0841 - val_accuracy: 0.9582\n",
      "\n",
      "Epoch 00032: val_loss improved from 0.08472 to 0.08411, saving model to ../models/v12_allnew//model_v1_EB.hd5\n",
      "Epoch 33/400\n",
      "11365975/11365975 [==============================] - 58s 5us/step - loss: 0.0883 - accuracy: 0.9552 - val_loss: 0.0840 - val_accuracy: 0.9568\n",
      "Epoch 34/400\n",
      "11365975/11365975 [==============================] - 58s 5us/step - loss: 0.0883 - accuracy: 0.9552 - val_loss: 0.0867 - val_accuracy: 0.9497\n",
      "\n",
      "Epoch 00034: val_loss did not improve from 0.08411\n",
      "Epoch 35/400\n",
      "11365975/11365975 [==============================] - 58s 5us/step - loss: 0.0881 - accuracy: 0.9551 - val_loss: 0.0844 - val_accuracy: 0.9573\n",
      "Epoch 36/400\n",
      "11365975/11365975 [==============================] - 58s 5us/step - loss: 0.0880 - accuracy: 0.9556 - val_loss: 0.0833 - val_accuracy: 0.9570\n",
      "\n",
      "Epoch 00036: val_loss improved from 0.08411 to 0.08335, saving model to ../models/v12_allnew//model_v1_EB.hd5\n",
      "Epoch 37/400\n",
      "11365975/11365975 [==============================] - 58s 5us/step - loss: 0.0881 - accuracy: 0.9553 - val_loss: 0.0842 - val_accuracy: 0.9550\n",
      "Epoch 38/400\n",
      "11365975/11365975 [==============================] - 57s 5us/step - loss: 0.0878 - accuracy: 0.9555 - val_loss: 0.0847 - val_accuracy: 0.9590\n",
      "\n",
      "Epoch 00038: val_loss did not improve from 0.08335\n",
      "Epoch 39/400\n",
      "11365975/11365975 [==============================] - 58s 5us/step - loss: 0.0878 - accuracy: 0.9557 - val_loss: 0.0834 - val_accuracy: 0.9587\n",
      "Epoch 40/400\n",
      "11365975/11365975 [==============================] - 58s 5us/step - loss: 0.0878 - accuracy: 0.9553 - val_loss: 0.0841 - val_accuracy: 0.9563\n",
      "\n",
      "Epoch 00040: val_loss did not improve from 0.08335\n",
      "Epoch 41/400\n",
      "11365975/11365975 [==============================] - 59s 5us/step - loss: 0.0876 - accuracy: 0.9552 - val_loss: 0.0852 - val_accuracy: 0.9508\n"
     ]
    },
    {
     "name": "stdout",
     "output_type": "stream",
     "text": [
      "Epoch 42/400\n",
      "11365975/11365975 [==============================] - 59s 5us/step - loss: 0.0875 - accuracy: 0.9551 - val_loss: 0.0836 - val_accuracy: 0.9577\n",
      "\n",
      "Epoch 00042: val_loss did not improve from 0.08335\n",
      "Epoch 43/400\n",
      "11365975/11365975 [==============================] - 58s 5us/step - loss: 0.0875 - accuracy: 0.9555 - val_loss: 0.0842 - val_accuracy: 0.9618\n",
      "Epoch 44/400\n",
      "11365975/11365975 [==============================] - 58s 5us/step - loss: 0.0874 - accuracy: 0.9552 - val_loss: 0.0832 - val_accuracy: 0.9569\n",
      "\n",
      "Epoch 00044: val_loss improved from 0.08335 to 0.08323, saving model to ../models/v12_allnew//model_v1_EB.hd5\n",
      "Epoch 45/400\n",
      "11365975/11365975 [==============================] - 58s 5us/step - loss: 0.0874 - accuracy: 0.9554 - val_loss: 0.0849 - val_accuracy: 0.9508\n",
      "Epoch 46/400\n",
      " 3932160/11365975 [=========>....................] - ETA: 32s - loss: 0.0871 - accuracy: 0.9554"
     ]
    }
   ],
   "source": [
    "auto_save = ModelCheckpoint(model_dir+ \"/model_v{}_{}.hd5\".format(model_version,det), monitor='val_loss', \n",
    "                    verbose=1, save_best_only=True, save_weights_only=False, \n",
    "                    mode='auto', period=2)\n",
    "\n",
    "early_stop = EarlyStopping(monitor='val_loss', min_delta=0.0001, \n",
    "                            patience=15, verbose=1)\n",
    "\n",
    "\n",
    "#lr_scheduler = callbacks.LearningRateScheduler(step_decay, verbose=1)\n",
    "\n",
    "history = model.fit(\n",
    "            X_train, y_train,\n",
    "            sample_weight = w_train,\n",
    "            batch_size = 4096,\n",
    "            epochs=400,\n",
    "            shuffle=True,\n",
    "            validation_data = (X_val, y_val, w_val),\n",
    "            callbacks = [early_stop, auto_save] #lr_scheduler\n",
    "            )"
   ]
  },
  {
   "cell_type": "code",
   "execution_count": 29,
   "metadata": {
    "ExecuteTime": {
     "end_time": "2020-05-03T21:02:31.639054Z",
     "start_time": "2020-05-03T21:02:28.213008Z"
    }
   },
   "outputs": [
    {
     "name": "stdout",
     "output_type": "stream",
     "text": [
      ">>> Computing AUC...\n",
      "AUC score: 0.9740152221717028\n",
      ">>> Saving ROC curve...\n"
     ]
    },
    {
     "data": {
      "text/plain": [
       "<matplotlib.legend.Legend at 0x7efb55f0a748>"
      ]
     },
     "execution_count": 29,
     "metadata": {},
     "output_type": "execute_result"
    },
    {
     "name": "stderr",
     "output_type": "stream",
     "text": [
      "/usr/local/lib/python3.6/dist-packages/IPython/core/pylabtools.py:128: UserWarning: Creating legend with loc=\"best\" can be slow with large amounts of data.\n",
      "  fig.canvas.print_figure(bytes_io, **kw)\n"
     ]
    },
    {
     "data": {
      "image/png": "[encoded data removed]",
      "text/plain": [
       "<Figure size 750x750 with 1 Axes>"
      ]
     },
     "metadata": {
      "needs_background": "light"
     },
     "output_type": "display_data"
    }
   ],
   "source": [
    "# Evalutation\n",
    "print(\">>> Computing AUC...\")\n",
    "\n",
    "from sklearn.metrics import roc_auc_score, roc_curve\n",
    "\n",
    "pred = model.predict(X_val,batch_size=2048)\n",
    "auc = roc_auc_score(y_val, pred, sample_weight=w_val)\n",
    "print(\"AUC score: \" + str(auc))\n",
    "\n",
    "print(\">>> Saving ROC curve...\")\n",
    "fp , tp, th = roc_curve(y_val, pred, sample_weight=w_val,drop_intermediate=True)\n",
    "plt.plot(fp, tp, label=\"roc\")\n",
    "#plt.plot(fp, th, label=\"threshold\")\n",
    "plt.xlabel(\"false positives\")\n",
    "plt.ylabel(\"true positives\")\n",
    "plt.ylim(-0.05,1.05)\n",
    "\n",
    "plt.legend()"
   ]
  },
  {
   "cell_type": "code",
   "execution_count": 30,
   "metadata": {
    "ExecuteTime": {
     "end_time": "2020-05-03T18:02:08.432215Z",
     "start_time": "2020-05-03T18:02:08.040559Z"
    }
   },
   "outputs": [
    {
     "data": {
      "text/plain": [
       "<matplotlib.legend.Legend at 0x7efb55e73ba8>"
      ]
     },
     "execution_count": 30,
     "metadata": {},
     "output_type": "execute_result"
    },
    {
     "data": {
      "image/png": "[encoded data removed]",
      "text/plain": [
       "<Figure size 750x750 with 1 Axes>"
      ]
     },
     "metadata": {
      "needs_background": "light"
     },
     "output_type": "display_data"
    }
   ],
   "source": [
    "plt.plot(history.epoch, history.history[\"val_loss\"], label=\"validation loss\")\n",
    "plt.plot(history.epoch, history.history[\"loss\"], label=\"training loss\")\n",
    "plt.legend()"
   ]
  },
  {
   "cell_type": "code",
   "execution_count": 29,
   "metadata": {
    "ExecuteTime": {
     "end_time": "2020-05-03T21:02:59.616298Z",
     "start_time": "2020-05-03T21:02:59.348309Z"
    }
   },
   "outputs": [
    {
     "data": {
      "text/plain": [
       "<matplotlib.legend.Legend at 0x7fab338d6198>"
      ]
     },
     "execution_count": 29,
     "metadata": {},
     "output_type": "execute_result"
    },
    {
     "data": {
      "image/png": "[encoded data removed]",
      "text/plain": [
       "<Figure size 750x750 with 1 Axes>"
      ]
     },
     "metadata": {
      "needs_background": "light"
     },
     "output_type": "display_data"
    }
   ],
   "source": [
    "plt.plot(history.epoch, history.history[\"val_loss\"], label=\"validation loss\")\n",
    "plt.plot(history.epoch, history.history[\"loss\"], label=\"training loss\")\n",
    "plt.legend()"
   ]
  },
  {
   "cell_type": "code",
   "execution_count": 31,
   "metadata": {
    "ExecuteTime": {
     "end_time": "2020-05-03T18:02:48.984671Z",
     "start_time": "2020-05-03T18:02:41.386118Z"
    }
   },
   "outputs": [
    {
     "data": {
      "text/plain": [
       "<matplotlib.legend.Legend at 0x7efb55e2ed30>"
      ]
     },
     "execution_count": 31,
     "metadata": {},
     "output_type": "execute_result"
    },
    {
     "data": {
      "image/png": "[encoded data removed]",
      "text/plain": [
       "<Figure size 750x750 with 1 Axes>"
      ]
     },
     "metadata": {
      "needs_background": "light"
     },
     "output_type": "display_data"
    }
   ],
   "source": [
    "results = model.predict(X_val)\n",
    "plt.hist(results[y_val==0], bins=50,density=True, label=\"false\", histtype=\"step\")\n",
    "plt.hist(results[y_val==1], bins=50, density=True, label=\"true\", histtype=\"step\")\n",
    "plt.yscale(\"log\")\n",
    "plt.legend()"
   ]
  },
  {
   "cell_type": "code",
   "execution_count": 31,
   "metadata": {},
   "outputs": [
    {
     "data": {
      "text/plain": [
       "<Figure size 750x750 with 0 Axes>"
      ]
     },
     "metadata": {},
     "output_type": "display_data"
    }
   ],
   "source": [
    "plt.savefig(model_dir +\"/output_model_v1_EE.png\")"
   ]
  },
  {
   "cell_type": "markdown",
   "metadata": {},
   "source": [
    "# Some plots"
   ]
  },
  {
   "cell_type": "code",
   "execution_count": 1,
   "metadata": {
    "ExecuteTime": {
     "end_time": "2020-01-13T09:25:43.435534Z",
     "start_time": "2020-01-13T09:25:30.930818Z"
    },
    "scrolled": true
   },
   "outputs": [
    {
     "name": "stderr",
     "output_type": "stream",
     "text": [
      "Using TensorFlow backend.\n"
     ]
    },
    {
     "ename": "OSError",
     "evalue": "Unable to open file (unable to open file: name = 'models/model11_balanced_100_80_50.hd5', errno = 2, error message = 'No such file or directory', flags = 0, o_flags = 0)",
     "output_type": "error",
     "traceback": [
      "\u001b[0;31m---------------------------------------------------------------------------\u001b[0m",
      "\u001b[0;31mOSError\u001b[0m                                   Traceback (most recent call last)",
      "\u001b[0;32m<ipython-input-1-5beff4d610ed>\u001b[0m in \u001b[0;36m<module>\u001b[0;34m\u001b[0m\n\u001b[1;32m      1\u001b[0m \u001b[0;32mfrom\u001b[0m \u001b[0mkeras\u001b[0m\u001b[0;34m.\u001b[0m\u001b[0mmodels\u001b[0m \u001b[0;32mimport\u001b[0m \u001b[0mload_model\u001b[0m\u001b[0;34m\u001b[0m\u001b[0m\n\u001b[0;32m----> 2\u001b[0;31m \u001b[0mmodel\u001b[0m \u001b[0;34m=\u001b[0m \u001b[0mload_model\u001b[0m\u001b[0;34m(\u001b[0m\u001b[0;34m\"models/model11_balanced_100_80_50.hd5\"\u001b[0m\u001b[0;34m)\u001b[0m\u001b[0;34m\u001b[0m\u001b[0m\n\u001b[0m\u001b[1;32m      3\u001b[0m \u001b[0mscaler\u001b[0m \u001b[0;34m=\u001b[0m \u001b[0mpickle\u001b[0m\u001b[0;34m.\u001b[0m\u001b[0mload\u001b[0m\u001b[0;34m(\u001b[0m\u001b[0mopen\u001b[0m\u001b[0;34m(\u001b[0m\u001b[0;34m\"models/scaler_gamma_electrons.pkl\"\u001b[0m\u001b[0;34m,\u001b[0m \u001b[0;34m\"rb\"\u001b[0m\u001b[0;34m)\u001b[0m\u001b[0;34m)\u001b[0m\u001b[0;34m\u001b[0m\u001b[0m\n",
      "\u001b[0;32m/cvmfs/sft.cern.ch/lcg/views/LCG_96python3/x86_64-centos7-gcc8-opt/lib/python3.6/site-packages/keras/engine/saving.py\u001b[0m in \u001b[0;36mload_model\u001b[0;34m(filepath, custom_objects, compile)\u001b[0m\n\u001b[1;32m    415\u001b[0m     \u001b[0mmodel\u001b[0m \u001b[0;34m=\u001b[0m \u001b[0;32mNone\u001b[0m\u001b[0;34m\u001b[0m\u001b[0m\n\u001b[1;32m    416\u001b[0m     \u001b[0mopened_new_file\u001b[0m \u001b[0;34m=\u001b[0m \u001b[0;32mnot\u001b[0m \u001b[0misinstance\u001b[0m\u001b[0;34m(\u001b[0m\u001b[0mfilepath\u001b[0m\u001b[0;34m,\u001b[0m \u001b[0mh5py\u001b[0m\u001b[0;34m.\u001b[0m\u001b[0mGroup\u001b[0m\u001b[0;34m)\u001b[0m\u001b[0;34m\u001b[0m\u001b[0m\n\u001b[0;32m--> 417\u001b[0;31m     \u001b[0mf\u001b[0m \u001b[0;34m=\u001b[0m \u001b[0mh5dict\u001b[0m\u001b[0;34m(\u001b[0m\u001b[0mfilepath\u001b[0m\u001b[0;34m,\u001b[0m \u001b[0;34m'r'\u001b[0m\u001b[0;34m)\u001b[0m\u001b[0;34m\u001b[0m\u001b[0m\n\u001b[0m\u001b[1;32m    418\u001b[0m     \u001b[0;32mtry\u001b[0m\u001b[0;34m:\u001b[0m\u001b[0;34m\u001b[0m\u001b[0m\n\u001b[1;32m    419\u001b[0m         \u001b[0mmodel\u001b[0m \u001b[0;34m=\u001b[0m \u001b[0m_deserialize_model\u001b[0m\u001b[0;34m(\u001b[0m\u001b[0mf\u001b[0m\u001b[0;34m,\u001b[0m \u001b[0mcustom_objects\u001b[0m\u001b[0;34m,\u001b[0m \u001b[0mcompile\u001b[0m\u001b[0;34m)\u001b[0m\u001b[0;34m\u001b[0m\u001b[0m\n",
      "\u001b[0;32m/cvmfs/sft.cern.ch/lcg/views/LCG_96python3/x86_64-centos7-gcc8-opt/lib/python3.6/site-packages/keras/utils/io_utils.py\u001b[0m in \u001b[0;36m__init__\u001b[0;34m(self, path, mode)\u001b[0m\n\u001b[1;32m    184\u001b[0m             \u001b[0mself\u001b[0m\u001b[0;34m.\u001b[0m\u001b[0m_is_file\u001b[0m \u001b[0;34m=\u001b[0m \u001b[0;32mFalse\u001b[0m\u001b[0;34m\u001b[0m\u001b[0m\n\u001b[1;32m    185\u001b[0m         \u001b[0;32melif\u001b[0m \u001b[0misinstance\u001b[0m\u001b[0;34m(\u001b[0m\u001b[0mpath\u001b[0m\u001b[0;34m,\u001b[0m \u001b[0mstr\u001b[0m\u001b[0;34m)\u001b[0m\u001b[0;34m:\u001b[0m\u001b[0;34m\u001b[0m\u001b[0m\n\u001b[0;32m--> 186\u001b[0;31m             \u001b[0mself\u001b[0m\u001b[0;34m.\u001b[0m\u001b[0mdata\u001b[0m \u001b[0;34m=\u001b[0m \u001b[0mh5py\u001b[0m\u001b[0;34m.\u001b[0m\u001b[0mFile\u001b[0m\u001b[0;34m(\u001b[0m\u001b[0mpath\u001b[0m\u001b[0;34m,\u001b[0m \u001b[0mmode\u001b[0m\u001b[0;34m=\u001b[0m\u001b[0mmode\u001b[0m\u001b[0;34m)\u001b[0m\u001b[0;34m\u001b[0m\u001b[0m\n\u001b[0m\u001b[1;32m    187\u001b[0m             \u001b[0mself\u001b[0m\u001b[0;34m.\u001b[0m\u001b[0m_is_file\u001b[0m \u001b[0;34m=\u001b[0m \u001b[0;32mTrue\u001b[0m\u001b[0;34m\u001b[0m\u001b[0m\n\u001b[1;32m    188\u001b[0m         \u001b[0;32melif\u001b[0m \u001b[0misinstance\u001b[0m\u001b[0;34m(\u001b[0m\u001b[0mpath\u001b[0m\u001b[0;34m,\u001b[0m \u001b[0mdict\u001b[0m\u001b[0;34m)\u001b[0m\u001b[0;34m:\u001b[0m\u001b[0;34m\u001b[0m\u001b[0m\n",
      "\u001b[0;32m/cvmfs/sft.cern.ch/lcg/views/LCG_96python3/x86_64-centos7-gcc8-opt/lib/python3.6/site-packages/h5py/_hl/files.py\u001b[0m in \u001b[0;36m__init__\u001b[0;34m(self, name, mode, driver, libver, userblock_size, swmr, rdcc_nslots, rdcc_nbytes, rdcc_w0, track_order, **kwds)\u001b[0m\n\u001b[1;32m    392\u001b[0m                 fid = make_fid(name, mode, userblock_size,\n\u001b[1;32m    393\u001b[0m                                \u001b[0mfapl\u001b[0m\u001b[0;34m,\u001b[0m \u001b[0mfcpl\u001b[0m\u001b[0;34m=\u001b[0m\u001b[0mmake_fcpl\u001b[0m\u001b[0;34m(\u001b[0m\u001b[0mtrack_order\u001b[0m\u001b[0;34m=\u001b[0m\u001b[0mtrack_order\u001b[0m\u001b[0;34m)\u001b[0m\u001b[0;34m,\u001b[0m\u001b[0;34m\u001b[0m\u001b[0m\n\u001b[0;32m--> 394\u001b[0;31m                                swmr=swmr)\n\u001b[0m\u001b[1;32m    395\u001b[0m \u001b[0;34m\u001b[0m\u001b[0m\n\u001b[1;32m    396\u001b[0m             \u001b[0;32mif\u001b[0m \u001b[0mswmr_support\u001b[0m\u001b[0;34m:\u001b[0m\u001b[0;34m\u001b[0m\u001b[0m\n",
      "\u001b[0;32m/cvmfs/sft.cern.ch/lcg/views/LCG_96python3/x86_64-centos7-gcc8-opt/lib/python3.6/site-packages/h5py/_hl/files.py\u001b[0m in \u001b[0;36mmake_fid\u001b[0;34m(name, mode, userblock_size, fapl, fcpl, swmr)\u001b[0m\n\u001b[1;32m    168\u001b[0m         \u001b[0;32mif\u001b[0m \u001b[0mswmr\u001b[0m \u001b[0;32mand\u001b[0m \u001b[0mswmr_support\u001b[0m\u001b[0;34m:\u001b[0m\u001b[0;34m\u001b[0m\u001b[0m\n\u001b[1;32m    169\u001b[0m             \u001b[0mflags\u001b[0m \u001b[0;34m|=\u001b[0m \u001b[0mh5f\u001b[0m\u001b[0;34m.\u001b[0m\u001b[0mACC_SWMR_READ\u001b[0m\u001b[0;34m\u001b[0m\u001b[0m\n\u001b[0;32m--> 170\u001b[0;31m         \u001b[0mfid\u001b[0m \u001b[0;34m=\u001b[0m \u001b[0mh5f\u001b[0m\u001b[0;34m.\u001b[0m\u001b[0mopen\u001b[0m\u001b[0;34m(\u001b[0m\u001b[0mname\u001b[0m\u001b[0;34m,\u001b[0m \u001b[0mflags\u001b[0m\u001b[0;34m,\u001b[0m \u001b[0mfapl\u001b[0m\u001b[0;34m=\u001b[0m\u001b[0mfapl\u001b[0m\u001b[0;34m)\u001b[0m\u001b[0;34m\u001b[0m\u001b[0m\n\u001b[0m\u001b[1;32m    171\u001b[0m     \u001b[0;32melif\u001b[0m \u001b[0mmode\u001b[0m \u001b[0;34m==\u001b[0m \u001b[0;34m'r+'\u001b[0m\u001b[0;34m:\u001b[0m\u001b[0;34m\u001b[0m\u001b[0m\n\u001b[1;32m    172\u001b[0m         \u001b[0mfid\u001b[0m \u001b[0;34m=\u001b[0m \u001b[0mh5f\u001b[0m\u001b[0;34m.\u001b[0m\u001b[0mopen\u001b[0m\u001b[0;34m(\u001b[0m\u001b[0mname\u001b[0m\u001b[0;34m,\u001b[0m \u001b[0mh5f\u001b[0m\u001b[0;34m.\u001b[0m\u001b[0mACC_RDWR\u001b[0m\u001b[0;34m,\u001b[0m \u001b[0mfapl\u001b[0m\u001b[0;34m=\u001b[0m\u001b[0mfapl\u001b[0m\u001b[0;34m)\u001b[0m\u001b[0;34m\u001b[0m\u001b[0m\n",
      "\u001b[0;32mh5py/_objects.pyx\u001b[0m in \u001b[0;36mh5py._objects.with_phil.wrapper\u001b[0;34m()\u001b[0m\n",
      "\u001b[0;32mh5py/_objects.pyx\u001b[0m in \u001b[0;36mh5py._objects.with_phil.wrapper\u001b[0;34m()\u001b[0m\n",
      "\u001b[0;32mh5py/h5f.pyx\u001b[0m in \u001b[0;36mh5py.h5f.open\u001b[0;34m()\u001b[0m\n",
      "\u001b[0;31mOSError\u001b[0m: Unable to open file (unable to open file: name = 'models/model11_balanced_100_80_50.hd5', errno = 2, error message = 'No such file or directory', flags = 0, o_flags = 0)"
     ]
    }
   ],
   "source": [
    "from keras.models import load_model\n",
    "model = load_model(\"models/model11_balanced_100_80_50.hd5\")\n",
    "scaler = pickle.load(open(\"models/scaler_gamma_electrons.pkl\", \"rb\"))"
   ]
  },
  {
   "cell_type": "code",
   "execution_count": null,
   "metadata": {
    "ExecuteTime": {
     "end_time": "2020-04-20T22:38:16.819969Z",
     "start_time": "2020-04-20T22:38:16.467585Z"
    }
   },
   "outputs": [],
   "source": [
    "fp , tp, th = roc_curve(y_test, pred)\n",
    "fig, ax1 = plt.subplots(figsize=(7,6), dpi=100)\n",
    "ax1.plot(fp, tp, label=\"roc\", color=\"blue\")\n",
    "\n",
    "ax1.set_xlabel(\"Bkg contamination\", fontsize=18)\n",
    "ax1.set_ylabel(\"Signal efficiency\", fontsize=18, color=\"blue\")\n",
    "ax1.set_ylim(0.850, 1.01)\n",
    "ax1.set_xlim(0, 0.06)\n",
    "#ax1.plot([0,1],[1,1],\"b--\")\n",
    "ax1.tick_params(\"y\",labelsize=\"large\", labelcolor=\"blue\")\n",
    "\n",
    "ax2 = ax1.twinx()\n",
    "ax2.plot(fp, th, label=\"threshold\", color=\"red\")\n",
    "ax2.tick_params(axis='y', labelcolor=\"red\", labelsize=\"large\")\n",
    "ax2.set_ylabel(\"Threshold\", fontsize=18, color=\"red\")\n",
    "ax2.set_ylim(0, 1)\n",
    "ax1.grid()\n",
    "#ax2.grid(linestyle=\"dashed\", color=\"red\")\n",
    "\n",
    "ax2.plot([0.01, 0.01], [0, 2], \"g--\")\n",
    "ax2.set_yticks(np.arange(0, 1.1, 0.1))\n",
    "#ax2.minorticks_on()\n",
    "\n",
    "ax1.set_title(\"ROC curve\", fontsize=20)\n",
    "ax2.text(x = 0.048, y = 1.01, s=\"AUC=0.997\", fontsize=\"large\")\n",
    "\n",
    "fig.tight_layout()"
   ]
  },
  {
   "cell_type": "code",
   "execution_count": 36,
   "metadata": {
    "ExecuteTime": {
     "end_time": "2020-01-11T14:23:01.035443Z",
     "start_time": "2020-01-11T14:23:00.336449Z"
    }
   },
   "outputs": [
    {
     "data": {
      "image/png": "[encoded data removed]",
      "text/plain": [
       "<Figure size 700x600 with 2 Axes>"
      ]
     },
     "metadata": {},
     "output_type": "display_data"
    }
   ],
   "source": [
    "fp , tp, th = roc_curve(y_test, pred)\n",
    "fig, ax1 = plt.subplots(figsize=(7,6), dpi=100)\n",
    "ax1.plot(fp, tp, label=\"roc\", color=\"blue\")\n",
    "\n",
    "ax1.set_xlabel(\"Bkg contamination\", fontsize=18)\n",
    "ax1.set_ylabel(\"Signal efficiency\", fontsize=18, color=\"blue\")\n",
    "ax1.set_ylim(0.850, 1.01)\n",
    "ax1.set_xlim(0, 0.06)\n",
    "#ax1.plot([0,1],[1,1],\"b--\")\n",
    "ax1.tick_params(\"y\",labelsize=\"large\", labelcolor=\"blue\")\n",
    "\n",
    "ax2 = ax1.twinx()\n",
    "ax2.plot(fp, th, label=\"threshold\", color=\"red\")\n",
    "ax2.tick_params(axis='y', labelcolor=\"red\", labelsize=\"large\")\n",
    "ax2.set_ylabel(\"Threshold\", fontsize=18, color=\"red\")\n",
    "ax2.set_ylim(0, 1)\n",
    "ax1.grid()\n",
    "#ax2.grid(linestyle=\"dashed\", color=\"red\")\n",
    "\n",
    "ax2.plot([0.01, 0.01], [0, 2], \"g--\")\n",
    "ax2.set_yticks(np.arange(0, 1.1, 0.1))\n",
    "#ax2.minorticks_on()\n",
    "\n",
    "ax1.set_title(\"ROC curve\", fontsize=20)\n",
    "ax2.text(x = 0.048, y = 1.01, s=\"AUC=0.997\", fontsize=\"large\")\n",
    "\n",
    "fig.tight_layout()"
   ]
  }
 ],
 "metadata": {
  "kernelspec": {
   "display_name": "Python 3",
   "language": "python",
   "name": "python3"
  },
  "language_info": {
   "codemirror_mode": {
    "name": "ipython",
    "version": 3
   },
   "file_extension": ".py",
   "mimetype": "text/x-python",
   "name": "python",
   "nbconvert_exporter": "python",
   "pygments_lexer": "ipython3",
   "version": "3.6.9"
  },
  "toc": {
   "base_numbering": 1,
   "nav_menu": {},
   "number_sections": true,
   "sideBar": true,
   "skip_h1_title": false,
   "title_cell": "Table of Contents",
   "title_sidebar": "Contents",
   "toc_cell": false,
   "toc_position": {},
   "toc_section_display": true,
   "toc_window_display": false
  },
  "varInspector": {
   "cols": {
    "lenName": 16,
    "lenType": 16,
    "lenVar": 40
   },
   "kernels_config": {
    "python": {
     "delete_cmd_postfix": "",
     "delete_cmd_prefix": "del ",
     "library": "var_list.py",
     "varRefreshCmd": "print(var_dic_list())"
    },
    "r": {
     "delete_cmd_postfix": ") ",
     "delete_cmd_prefix": "rm(",
     "library": "var_list.r",
     "varRefreshCmd": "cat(var_dic_list()) "
    }
   },
   "oldHeight": 745.183666,
   "position": {
    "height": "40px",
    "left": "717.5px",
    "right": "20px",
    "top": "55px",
    "width": "800px"
   },
   "types_to_exclude": [
    "module",
    "function",
    "builtin_function_or_method",
    "instance",
    "_Feature"
   ],
   "varInspector_section_display": "none",
   "window_display": false
  }
 },
 "nbformat": 4,
 "nbformat_minor": 2
}
