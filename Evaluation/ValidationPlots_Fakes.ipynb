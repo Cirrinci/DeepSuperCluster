{
 "cells": [
  {
   "cell_type": "code",
   "execution_count": 1,
   "metadata": {
    "ExecuteTime": {
     "end_time": "2020-01-22T07:22:05.835977Z",
     "start_time": "2020-01-22T07:22:04.775404Z"
    }
   },
   "outputs": [],
   "source": [
    "import pickle\n",
    "import numpy as np \n",
    "import pandas as pd\n",
    "import matplotlib.colors as colors\n",
    "import matplotlib.pyplot as plt\n",
    "import matplotlib as mpl\n",
    "from mpl_toolkits.axes_grid1 import make_axes_locatable\n",
    "import os \n",
    "\n",
    "mpl.rcParams['figure.figsize'] = (10,10)\n",
    "mpl.rcParams['figure.dpi'] = 150\n",
    "mpl.rcParams[\"image.origin\"] = 'lower'"
   ]
  },
  {
   "cell_type": "code",
   "execution_count": null,
   "metadata": {},
   "outputs": [],
   "source": [
    "from keras.models import load_model\n",
    "model_shower = load_model(\"../models/v2_showervars/model1_showervars_100_80_50.hd5\")\n",
    "scaler_shower = pickle.load(open(\"../models/v2_showervars/scaler_model1.pkl\", \"rb\"))\n",
    "\n",
    "model_base = load_model(\"../models/v1_baseline/model12_balanced_100_50.hd5\")\n",
    "scaler_base = pickle.load(open(\"../models/v1_baseline/scaler_gamma_electrons.pkl\", \"rb\"))"
   ]
  },
  {
   "cell_type": "code",
   "execution_count": null,
   "metadata": {},
   "outputs": [],
   "source": [
    "include_seed=True"
   ]
  },
  {
   "cell_type": "code",
   "execution_count": null,
   "metadata": {},
   "outputs": [],
   "source": [
    "datas_val = []\n",
    "\n",
    "for i in range(1,4):\n",
    "    f = f\"/eos/user/r/rdfexp/ecal/cluster/output_deepcluster_dumper/electrons/numpy_v2_mustache/clusters_data_{i}.pkl\"\n",
    "    if not os.path.exists(f):\n",
    "        print(\"file not found: \", f)\n",
    "        continue\n",
    "    d = pickle.load(open(f, \"rb\"))\n",
    "    #Seed included\n",
    "    \n",
    "    if include_seed:\n",
    "        datas_val.append(d[(d.is_calo) ])\n",
    "        # Seed not included\n",
    "    else:\n",
    "        datas_val.append(d[(d.is_calo) & (d.is_seed==False)])\n",
    "    \n",
    "data_ele = pd.concat(datas_val, ignore_index=True)\n",
    "data_ele[\"particle\"] = \"electron\"\n",
    "\n",
    "datas_val = []\n",
    "\n",
    "for i in range(1,4):\n",
    "    f = f\"/eos/user/r/rdfexp/ecal/cluster/output_deepcluster_dumper/gammas/numpy_v2_mustache/clusters_data_{i}.pkl\"\n",
    "    if not os.path.exists(f):\n",
    "        print(\"file not found: \", f)\n",
    "        continue\n",
    "    d = pickle.load(open(f, \"rb\"))\n",
    "    #Seed included\n",
    "    if include_seed:\n",
    "        datas_val.append(d[(d.is_calo) ])\n",
    "        # Seed not included\n",
    "    else:\n",
    "        datas_val.append(d[(d.is_calo) & (d.is_seed==False)])\n",
    "    \n",
    "data_gamma = pd.concat(datas_val, ignore_index=True)\n",
    "data_gamma[\"particle\"] = \"gamma\"\n",
    "\n",
    "if data_ele.shape[0]> data_gamma.shape[0]:\n",
    "    data_val = pd.concat([data_gamma, data_ele.iloc[0:len(data_gamma)]], ignore_index=True)\n",
    "else:\n",
    "    data_val = pd.concat([data_gamma.iloc[0:len(data_ele)], data_ele], ignore_index=True)\n",
    "    \n",
    "del data_gamma\n",
    "del data_ele"
   ]
  }
 ],
 "metadata": {
  "kernelspec": {
   "display_name": "Python 3",
   "language": "python",
   "name": "python3"
  },
  "language_info": {
   "codemirror_mode": {
    "name": "ipython",
    "version": 3
   },
   "file_extension": ".py",
   "mimetype": "text/x-python",
   "name": "python",
   "nbconvert_exporter": "python",
   "pygments_lexer": "ipython3",
   "version": "3.6.5"
  },
  "toc": {
   "base_numbering": 1,
   "nav_menu": {},
   "number_sections": true,
   "sideBar": true,
   "skip_h1_title": false,
   "title_cell": "Table of Contents",
   "title_sidebar": "Contents",
   "toc_cell": false,
   "toc_position": {},
   "toc_section_display": true,
   "toc_window_display": false
  },
  "varInspector": {
   "cols": {
    "lenName": 16,
    "lenType": 16,
    "lenVar": 40
   },
   "kernels_config": {
    "python": {
     "delete_cmd_postfix": "",
     "delete_cmd_prefix": "del ",
     "library": "var_list.py",
     "varRefreshCmd": "print(var_dic_list())"
    },
    "r": {
     "delete_cmd_postfix": ") ",
     "delete_cmd_prefix": "rm(",
     "library": "var_list.r",
     "varRefreshCmd": "cat(var_dic_list()) "
    }
   },
   "types_to_exclude": [
    "module",
    "function",
    "builtin_function_or_method",
    "instance",
    "_Feature"
   ],
   "window_display": false
  }
 },
 "nbformat": 4,
 "nbformat_minor": 2
}
