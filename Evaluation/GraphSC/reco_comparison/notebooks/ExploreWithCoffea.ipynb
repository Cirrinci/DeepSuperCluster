{
 "cells": [
  {
   "cell_type": "code",
   "execution_count": 1,
   "id": "123e033c",
   "metadata": {
    "ExecuteTime": {
     "end_time": "2022-02-17T15:23:22.336315Z",
     "start_time": "2022-02-17T15:23:19.792867Z"
    }
   },
   "outputs": [],
   "source": [
    "import numpy as np\n",
    "import matplotlib.pyplot as plt\n",
    "plt.rcParams['figure.dpi'] = 200 # make figures bigger and more readable"
   ]
  },
  {
   "cell_type": "code",
   "execution_count": 2,
   "id": "2c494c4c",
   "metadata": {
    "ExecuteTime": {
     "end_time": "2022-02-17T15:23:22.504810Z",
     "start_time": "2022-02-17T15:23:22.339201Z"
    }
   },
   "outputs": [],
   "source": [
    "import uproot\n",
    "import awkward as ak"
   ]
  },
  {
   "cell_type": "code",
   "execution_count": 3,
   "id": "f5dea1be",
   "metadata": {
    "ExecuteTime": {
     "end_time": "2022-02-17T15:23:25.855348Z",
     "start_time": "2022-02-17T15:23:22.515785Z"
    }
   },
   "outputs": [
    {
     "name": "stdout",
     "output_type": "stream",
     "text": [
      "Datasets\r\n",
      "FourElectronsGunPt1-100_pythia8_StdMixing_Flat55To75_14TeV_112X_mcRun3_2021_realistic_v16_Reduced_Dumper_SLIM\r\n",
      "FourElectronsGunPt1-100_pythia8_StdMixing_Flat55To75_14TeV_112X_mcRun3_2021_realistic_v16_Reduced_RECO\r\n",
      "FourElectronsGunPt1-100_pythia8_StdMixing_Flat55To75_14TeV_123X_mcRun3_2021_realistic_v4_Reduced_Dumper_AlgoA\r\n",
      "FourElectronsGunPt1-100_pythia8_StdMixing_Flat55To75_14TeV_123X_mcRun3_2021_realistic_v4_Reduced_Dumper_AlgoB\r\n",
      "FourElectronsGunPt1-100_pythia8_StdMixing_Flat55To75_14TeV_123X_mcRun3_2021_realistic_v4_Reduced_Dumper_AlgoC\r\n",
      "FourElectronsGunPt1-100_pythia8_StdMixing_Flat55To75_14TeV_123X_mcRun3_2021_realistic_v4_Reduced_RECO_manyALGO_GraphSC\r\n",
      "FourElectronsGunPt1-100_pythia8_StdMixing_Flat55To75_14TeV_123X_mcRun3_2021_realistic_v4_Reduced_RECO_manyALGO_pfRechitThres-UL18\r\n",
      "FourElectronsGunPt1-100_pythia8_withPU_withTracker_106X_mcRun3_2021_realistic_v3_RAW_StdSeedingGathering_Mustache_Dumper_v6_Total.root\r\n",
      "FourElectronsGunPt1-100_pythia8_withPU_withTracker_106X_mcRun3_2021_realistic_v3_RAW_StdSeedingGathering_Mustache_optimizedDeepSC_v14_finalscore_v3_Total.root\r\n",
      "FourElectronsGunPt1-100_pythia8_withPU_withTracker_106X_mcRun3_2021_realistic_v3_RAW_StdSeedingGathering_Mustache_optimizedDeepSC_v15_optwpelegamma_Total.root\r\n",
      "FourElectronsGunPt1-100_pythia8_withPU_withTracker_106X_mcRun3_2021_realistic_v3_RAW_StdSeedingGathering_Mustache_optimizedDeepSC_v16_elegammasep_ele_Total.root\r\n",
      "FourElectronsGunPt1-100_pythia8_withPU_withTracker_106X_mcRun3_2021_realistic_v3_RAW_StdSeedingGathering_Mustache_optimizedDeepSC_v16_elegammasep_gamma_Total.root\r\n",
      "FourElectronsGunPt1-100_pythia8_withPU_withTracker_106X_mcRun3_2021_realistic_v3_RAW_StdSeedingGathering_Mustache_optimizedDeepSC_v17_joindet_elegamma_EBEE_Total.root\r\n",
      "FourGammasGunPt1-100_pythia8_StdMixing_Flat55To75_14TeV_112X_mcRun3_2021_realistic_v16_Reduced_Dumper_SLIM\r\n",
      "FourGammasGunPt1-100_pythia8_StdMixing_Flat55To75_14TeV_112X_mcRun3_2021_realistic_v16_Reduced_RECO\r\n",
      "FourGammasGunPt1-100_pythia8_StdMixing_Flat55To75_14TeV_123X_mcRun3_2021_realistic_v4_Reduced_Dumper_AlgoA\r\n",
      "FourGammasGunPt1-100_pythia8_StdMixing_Flat55To75_14TeV_123X_mcRun3_2021_realistic_v4_Reduced_Dumper_AlgoB\r\n",
      "FourGammasGunPt1-100_pythia8_StdMixing_Flat55To75_14TeV_123X_mcRun3_2021_realistic_v4_Reduced_Dumper_AlgoC\r\n",
      "FourGammasGunPt1-100_pythia8_StdMixing_Flat55To75_14TeV_123X_mcRun3_2021_realistic_v4_Reduced_RECO_manyALGO_GraphSC\r\n",
      "FourGammasGunPt1-100_pythia8_withPU_withTracker_106X_mcRun3_2021_realistic_v3_RAW_StdSeedingGathering_Mustache_Dumper_v6_Total.root\r\n",
      "FourGammasGunPt1-100_pythia8_withPU_withTracker_106X_mcRun3_2021_realistic_v3_RAW_StdSeedingGathering_Mustache_optimizedDeepSC_v14_finalscore_v3_Total.root\r\n",
      "FourGammasGunPt1-100_pythia8_withPU_withTracker_106X_mcRun3_2021_realistic_v3_RAW_StdSeedingGathering_Mustache_optimizedDeepSC_v15_optwpelegamma_Total.root\r\n",
      "FourGammasGunPt1-100_pythia8_withPU_withTracker_106X_mcRun3_2021_realistic_v3_RAW_StdSeedingGathering_Mustache_optimizedDeepSC_v16_elegammasep_ele_Total.root\r\n",
      "FourGammasGunPt1-100_pythia8_withPU_withTracker_106X_mcRun3_2021_realistic_v3_RAW_StdSeedingGathering_Mustache_optimizedDeepSC_v16_elegammasep_gamma_Total.root\r\n",
      "FourGammasGunPt1-100_pythia8_withPU_withTracker_106X_mcRun3_2021_realistic_v3_RAW_StdSeedingGathering_Mustache_optimizedDeepSC_v17_joindet_elegamma_EBEE_Total.root\r\n",
      "FourJetsGunPt100-500_EMEnriched_noTops_pythia8_PU_Flat55To75_14TeV_112X_mcRun3_2021_realistic_v15_GEN-SIM-RAW_Dumper\r\n",
      "FourJetsGunPt1-100_EMEnriched_pythia8_StdMixing_Flat55To75_14TeV_112X_mcRun3_2021_realistic_v16_Reduced_Dumper_SLIM_v2\r\n",
      "FourJetsGunPt1-100_EMEnriched_pythia8_StdMixing_Flat55To75_14TeV_112X_mcRun3_2021_realistic_v16_Reduced_RECO\r\n",
      "Models\r\n"
     ]
    }
   ],
   "source": [
    "!ls /eos/cms/store/group/dpg_ecal/alca_ecalcalib/bmarzocc/Clustering"
   ]
  },
  {
   "cell_type": "code",
   "execution_count": 4,
   "id": "68a8ea62",
   "metadata": {
    "ExecuteTime": {
     "end_time": "2022-02-17T15:23:25.916644Z",
     "start_time": "2022-02-17T15:23:25.892230Z"
    }
   },
   "outputs": [],
   "source": [
    "basedir = \"/eos/cms/store/group/dpg_ecal/alca_ecalcalib/bmarzocc/Clustering/\"\n",
    "file = uproot.open(basedir + 'FourElectronsGunPt1-100_pythia8_StdMixing_Flat55To75_14TeV_123X_mcRun3_2021_realistic_v4_Reduced_Dumper_AlgoA/crab_FourElectronsGunPt1-100_Dumper_AlgoA/220214_092524/0000/output_1.root')"
   ]
  },
  {
   "cell_type": "code",
   "execution_count": 5,
   "id": "8bfb85f3",
   "metadata": {
    "ExecuteTime": {
     "end_time": "2022-02-17T15:23:25.936737Z",
     "start_time": "2022-02-17T15:23:25.928550Z"
    }
   },
   "outputs": [
    {
     "data": {
      "text/plain": [
       "['recosimdumper;1', 'recosimdumper/caloTree;3', 'recosimdumper/caloTree;2']"
      ]
     },
     "execution_count": 5,
     "metadata": {},
     "output_type": "execute_result"
    }
   ],
   "source": [
    "file.keys()"
   ]
  },
  {
   "cell_type": "code",
   "execution_count": 6,
   "id": "af6e77cd",
   "metadata": {
    "ExecuteTime": {
     "end_time": "2022-02-17T15:23:26.599061Z",
     "start_time": "2022-02-17T15:23:25.947593Z"
    }
   },
   "outputs": [],
   "source": [
    "tree = file[\"recosimdumper/caloTree\"]"
   ]
  },
  {
   "cell_type": "code",
   "execution_count": 7,
   "id": "4448f2a2",
   "metadata": {
    "ExecuteTime": {
     "end_time": "2022-02-17T15:23:26.617311Z",
     "start_time": "2022-02-17T15:23:26.611791Z"
    }
   },
   "outputs": [
    {
     "name": "stdout",
     "output_type": "stream",
     "text": [
      "Help on method arrays in module uproot.behaviors.TBranch:\n",
      "\n",
      "arrays(expressions=None, cut=None, filter_name=<function no_filter at 0x7f91f055e430>, filter_typename=<function no_filter at 0x7f91f055e430>, filter_branch=<function no_filter at 0x7f91f055e430>, aliases=None, language=<uproot.language.python.PythonLanguage object at 0x7f91f054f3a0>, entry_start=None, entry_stop=None, decompression_executor=None, interpretation_executor=None, array_cache='inherit', library='ak', how=None) method of uproot.models.TTree.Model_TTree_v20 instance\n",
      "    Args:\n",
      "        expressions (None, str, or list of str): Names of ``TBranches`` or\n",
      "            aliases to convert to arrays or mathematical expressions of them.\n",
      "            Uses the ``language`` to evaluate. If None, all ``TBranches``\n",
      "            selected by the filters are included.\n",
      "        cut (None or str): If not None, this expression filters all of the\n",
      "            ``expressions``.\n",
      "        filter_name (None, glob string, regex string in ``\"/pattern/i\"`` syntax, function of str → bool, or iterable of the above): A\n",
      "            filter to select ``TBranches`` by name.\n",
      "        filter_typename (None, glob string, regex string in ``\"/pattern/i\"`` syntax, function of str → bool, or iterable of the above): A\n",
      "            filter to select ``TBranches`` by type.\n",
      "        filter_branch (None or function of :doc:`uproot.behaviors.TBranch.TBranch` → bool, :doc:`uproot.interpretation.Interpretation`, or None): A\n",
      "            filter to select ``TBranches`` using the full\n",
      "            :doc:`uproot.behaviors.TBranch.TBranch` object. If the function\n",
      "            returns False or None, the ``TBranch`` is excluded; if the function\n",
      "            returns True, it is included with its standard\n",
      "            :ref:`uproot.behaviors.TBranch.TBranch.interpretation`; if an\n",
      "            :doc:`uproot.interpretation.Interpretation`, this interpretation\n",
      "            overrules the standard one.\n",
      "        aliases (None or dict of str → str): Mathematical expressions that\n",
      "            can be used in ``expressions`` or other aliases (without cycles).\n",
      "            Uses the ``language`` engine to evaluate. If None, only the\n",
      "            :ref:`uproot.behaviors.TBranch.TBranch.aliases` are available.\n",
      "        language (:doc:`uproot.language.Language`): Language used to interpret\n",
      "            the ``expressions`` and ``aliases``.\n",
      "        entry_start (None or int): The first entry to include. If None, start\n",
      "            at zero. If negative, count from the end, like a Python slice.\n",
      "        entry_stop (None or int): The first entry to exclude (i.e. one greater\n",
      "            than the last entry to include). If None, stop at\n",
      "            :ref:`uproot.behaviors.TTree.TTree.num_entries`. If negative,\n",
      "            count from the end, like a Python slice.\n",
      "        decompression_executor (None or Executor with a ``submit`` method): The\n",
      "            executor that is used to decompress ``TBaskets``; if None, the\n",
      "            file's :ref:`uproot.reading.ReadOnlyFile.decompression_executor`\n",
      "            is used.\n",
      "        interpretation_executor (None or Executor with a ``submit`` method): The\n",
      "            executor that is used to interpret uncompressed ``TBasket`` data as\n",
      "            arrays; if None, the file's :ref:`uproot.reading.ReadOnlyFile.interpretation_executor`\n",
      "            is used.\n",
      "        array_cache (\"inherit\", None, MutableMapping, or memory size): Cache of arrays;\n",
      "            if \"inherit\", use the file's cache; if None, do not use a cache;\n",
      "            if a memory size, create a new cache of this size.\n",
      "        library (str or :doc:`uproot.interpretation.library.Library`): The library\n",
      "            that is used to represent arrays. Options are ``\"np\"`` for NumPy,\n",
      "            ``\"ak\"`` for Awkward Array, ``\"pd\"`` for Pandas, and ``\"cp\"`` for\n",
      "            CuPy.\n",
      "        how (None, str, or container type): Library-dependent instructions\n",
      "            for grouping. The only recognized container types are ``tuple``,\n",
      "            ``list``, and ``dict``. Note that the container *type itself*\n",
      "            must be passed as ``how``, not an instance of that type (i.e.\n",
      "            ``how=tuple``, not ``how=()``).\n",
      "    \n",
      "    Returns a group of arrays from the ``TTree``.\n",
      "    \n",
      "    For example:\n",
      "    \n",
      "    .. code-block:: python\n",
      "    \n",
      "        >>> my_tree[\"x\"].array()\n",
      "        <Array [-41.2, 35.1, 35.1, ... 32.4, 32.5] type='2304 * float64'>\n",
      "        >>> my_tree[\"y\"].array()\n",
      "        <Array [17.4, -16.6, -16.6, ... 1.2, 1.2, 1.2] type='2304 * float64'>\n",
      "    \n",
      "    See also :ref:`uproot.behaviors.TBranch.TBranch.array` to read a single\n",
      "    ``TBranch`` as an array.\n",
      "    \n",
      "    See also :ref:`uproot.behaviors.TBranch.HasBranches.iterate` to iterate over\n",
      "    the array in contiguous ranges of entries.\n",
      "\n"
     ]
    }
   ],
   "source": [
    "help(tree.arrays)"
   ]
  },
  {
   "cell_type": "code",
   "execution_count": 8,
   "id": "12a59bbb",
   "metadata": {
    "ExecuteTime": {
     "end_time": "2022-02-17T15:23:51.892165Z",
     "start_time": "2022-02-17T15:23:26.778259Z"
    }
   },
   "outputs": [],
   "source": [
    "data = tree.arrays(entry_stop=100)"
   ]
  },
  {
   "cell_type": "code",
   "execution_count": 9,
   "id": "373f3117",
   "metadata": {
    "ExecuteTime": {
     "end_time": "2022-02-17T15:23:52.705838Z",
     "start_time": "2022-02-17T15:23:51.905539Z"
    }
   },
   "outputs": [
    {
     "data": {
      "text/plain": [
       "(array([1.2624e+04, 5.0320e+03, 1.6390e+03, 7.8400e+02, 4.6900e+02,\n",
       "        2.7500e+02, 1.8500e+02, 1.2300e+02, 8.4000e+01, 7.4000e+01,\n",
       "        6.0000e+01, 4.2000e+01, 3.6000e+01, 2.9000e+01, 1.9000e+01,\n",
       "        2.0000e+01, 1.8000e+01, 1.7000e+01, 1.8000e+01, 1.1000e+01,\n",
       "        8.0000e+00, 9.0000e+00, 9.0000e+00, 5.0000e+00, 6.0000e+00,\n",
       "        4.0000e+00, 6.0000e+00, 4.0000e+00, 3.0000e+00, 4.0000e+00,\n",
       "        3.0000e+00, 3.0000e+00, 3.0000e+00, 6.0000e+00, 3.0000e+00,\n",
       "        2.0000e+00, 7.0000e+00, 1.0000e+00, 3.0000e+00, 2.0000e+00,\n",
       "        1.0000e+00, 2.0000e+00, 3.0000e+00, 1.0000e+00, 2.0000e+00,\n",
       "        4.0000e+00, 3.0000e+00, 4.0000e+00, 2.0000e+00, 3.0000e+00,\n",
       "        2.0000e+00, 1.0000e+00, 0.0000e+00, 3.0000e+00, 2.0000e+00,\n",
       "        1.0000e+00, 3.0000e+00, 5.0000e+00, 2.0000e+00, 6.0000e+00,\n",
       "        3.0000e+00, 2.0000e+00, 1.0000e+00, 3.0000e+00, 3.0000e+00,\n",
       "        1.0000e+00, 2.0000e+00, 2.0000e+00, 3.0000e+00, 3.0000e+00,\n",
       "        2.0000e+00, 3.0000e+00, 2.0000e+00, 1.0000e+00, 1.0000e+00,\n",
       "        3.0000e+00, 1.0000e+00, 2.0000e+00, 1.0000e+00, 3.0000e+00,\n",
       "        3.0000e+00, 0.0000e+00, 2.0000e+00, 2.0000e+00, 3.0000e+00,\n",
       "        1.0000e+00, 5.0000e+00, 0.0000e+00, 0.0000e+00, 1.0000e+00,\n",
       "        2.0000e+00, 1.0000e+00, 1.0000e+00, 2.0000e+00, 2.0000e+00,\n",
       "        3.0000e+00, 1.0000e+00, 2.0000e+00, 4.0000e+00, 2.0000e+00]),\n",
       " array([  0.,   1.,   2.,   3.,   4.,   5.,   6.,   7.,   8.,   9.,  10.,\n",
       "         11.,  12.,  13.,  14.,  15.,  16.,  17.,  18.,  19.,  20.,  21.,\n",
       "         22.,  23.,  24.,  25.,  26.,  27.,  28.,  29.,  30.,  31.,  32.,\n",
       "         33.,  34.,  35.,  36.,  37.,  38.,  39.,  40.,  41.,  42.,  43.,\n",
       "         44.,  45.,  46.,  47.,  48.,  49.,  50.,  51.,  52.,  53.,  54.,\n",
       "         55.,  56.,  57.,  58.,  59.,  60.,  61.,  62.,  63.,  64.,  65.,\n",
       "         66.,  67.,  68.,  69.,  70.,  71.,  72.,  73.,  74.,  75.,  76.,\n",
       "         77.,  78.,  79.,  80.,  81.,  82.,  83.,  84.,  85.,  86.,  87.,\n",
       "         88.,  89.,  90.,  91.,  92.,  93.,  94.,  95.,  96.,  97.,  98.,\n",
       "         99., 100.]),\n",
       " <BarContainer object of 100 artists>)"
      ]
     },
     "execution_count": 9,
     "metadata": {},
     "output_type": "execute_result"
    },
    {
     "data": {
      "image/png": "[encoded data removed]",
      "text/plain": [
       "<Figure size 432x288 with 1 Axes>"
      ]
     },
     "metadata": {
      "needs_background": "light"
     },
     "output_type": "display_data"
    }
   ],
   "source": [
    "plt.hist(ak.flatten(data.pfCluster_energy), bins=100, range=(0,100))"
   ]
  },
  {
   "cell_type": "code",
   "execution_count": 12,
   "id": "3a96be7c",
   "metadata": {
    "ExecuteTime": {
     "end_time": "2022-02-17T15:28:36.323630Z",
     "start_time": "2022-02-17T15:28:36.290144Z"
    }
   },
   "outputs": [
    {
     "ename": "ModuleNotFoundError",
     "evalue": "No module named 'coffea'",
     "output_type": "error",
     "traceback": [
      "\u001b[0;31m---------------------------------------------------------------------------\u001b[0m",
      "\u001b[0;31mModuleNotFoundError\u001b[0m                       Traceback (most recent call last)",
      "\u001b[0;32m<ipython-input-12-7fb8787950a7>\u001b[0m in \u001b[0;36m<module>\u001b[0;34m\u001b[0m\n\u001b[0;32m----> 1\u001b[0;31m \u001b[0;32mfrom\u001b[0m \u001b[0mcoffea\u001b[0m\u001b[0;34m.\u001b[0m\u001b[0mhist\u001b[0m \u001b[0;32mimport\u001b[0m \u001b[0mhist\u001b[0m\u001b[0;34m\u001b[0m\u001b[0;34m\u001b[0m\u001b[0m\n\u001b[0m",
      "\u001b[0;31mModuleNotFoundError\u001b[0m: No module named 'coffea'"
     ]
    }
   ],
   "source": [
    "from coffea.hist import hist"
   ]
  },
  {
   "cell_type": "code",
   "execution_count": null,
   "id": "2357ace4",
   "metadata": {},
   "outputs": [],
   "source": []
  }
 ],
 "metadata": {
  "kernelspec": {
   "display_name": "Python 3",
   "language": "python",
   "name": "python3"
  },
  "language_info": {
   "codemirror_mode": {
    "name": "ipython",
    "version": 3
   },
   "file_extension": ".py",
   "mimetype": "text/x-python",
   "name": "python",
   "nbconvert_exporter": "python",
   "pygments_lexer": "ipython3",
   "version": "3.8.6"
  },
  "toc": {
   "base_numbering": 1,
   "nav_menu": {},
   "number_sections": true,
   "sideBar": true,
   "skip_h1_title": false,
   "title_cell": "Table of Contents",
   "title_sidebar": "Contents",
   "toc_cell": false,
   "toc_position": {},
   "toc_section_display": true,
   "toc_window_display": false
  },
  "varInspector": {
   "cols": {
    "lenName": 16,
    "lenType": 16,
    "lenVar": 40
   },
   "kernels_config": {
    "python": {
     "delete_cmd_postfix": "",
     "delete_cmd_prefix": "del ",
     "library": "var_list.py",
     "varRefreshCmd": "print(var_dic_list())"
    },
    "r": {
     "delete_cmd_postfix": ") ",
     "delete_cmd_prefix": "rm(",
     "library": "var_list.r",
     "varRefreshCmd": "cat(var_dic_list()) "
    }
   },
   "types_to_exclude": [
    "module",
    "function",
    "builtin_function_or_method",
    "instance",
    "_Feature"
   ],
   "window_display": false
  }
 },
 "nbformat": 4,
 "nbformat_minor": 5
}
