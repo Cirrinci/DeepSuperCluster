{
 "cells": [
  {
   "cell_type": "code",
   "execution_count": 1,
   "metadata": {
    "ExecuteTime": {
     "end_time": "2020-05-04T14:22:35.838781Z",
     "start_time": "2020-05-04T14:22:35.831130Z"
    }
   },
   "outputs": [],
   "source": [
    "import pickle\n",
    "import numpy as np \n",
    "import pandas as pd\n",
    "import matplotlib.colors as colors\n",
    "import matplotlib.pyplot as plt\n",
    "import matplotlib as mpl\n",
    "import os \n",
    "import glob\n",
    "\n",
    "mpl.rcParams['figure.figsize'] = (5,5)\n",
    "mpl.rcParams['figure.dpi'] = 150\n",
    "mpl.rcParams[\"image.origin\"] = 'lower'"
   ]
  },
  {
   "cell_type": "code",
   "execution_count": 33,
   "metadata": {
    "ExecuteTime": {
     "end_time": "2020-05-04T14:22:36.542179Z",
     "start_time": "2020-05-04T14:22:36.538268Z"
    }
   },
   "outputs": [],
   "source": [
    "model_name = \"v16_elegammasep\"\n",
    "model_dir = \"../models/\"+model_name\n",
    "model_tag = \"300x3\"\n",
    "det = \"EE\"\n",
    "flavour = \"ele\"\n",
    "model_version = 1\n",
    "numpy_version = 1\n",
    "limit_files = 10\n",
    "cols = [\"seed_eta\", \"seed_iz\",\"en_seed\",\"et_seed\",\n",
    "        \"cluster_deta\", \"cluster_dphi\", \"en_cluster\", \"et_cluster\",\n",
    "       \"seed_f5_r9\", \"seed_f5_sigmaIetaIeta\",\"seed_f5_sigmaIetaIphi\",\"seed_f5_sigmaIphiIphi\",\n",
    "        \"seed_f5_swissCross\",\"seed_nxtals\", \"seed_etaWidth\", \"seed_phiWidth\",\n",
    "        \"cl_f5_r9\", \"cl_f5_sigmaIetaIeta\",\"cl_f5_sigmaIetaIphi\",\"cl_f5_sigmaIphiIphi\",\n",
    "        \"cl_f5_swissCross\", \"cl_nxtals\", \"cl_etaWidth\", \"cl_phiWidth\"]\n",
    "\n",
    "os.makedirs(model_dir, exist_ok = True)\n",
    "with open(\"variables.txt\", \"w\") as of:\n",
    "    of.write(\"\\n\".join(cols))"
   ]
  },
  {
   "cell_type": "markdown",
   "metadata": {},
   "source": [
    "# Data preparation\n",
    "## Input: \n",
    "- E seed\n",
    "- eta,phi,z seed\n",
    "- E cluster\n",
    "- delta_eta,delta_phi,\n",
    "\n",
    "Filter only windows with the calo"
   ]
  },
  {
   "cell_type": "code",
   "execution_count": 3,
   "metadata": {},
   "outputs": [],
   "source": [
    "files_ele = f\"/storage/ECAL/training_data/wp_comparison/electrons/numpy_wp_ele_v{numpy_version}/training/\"\n",
    "files_gamma = f\"/storage/ECAL/training_data/wp_comparison/gammas/numpy_wp_gamma_v{numpy_version}/training/\""
   ]
  },
  {
   "cell_type": "code",
   "execution_count": 34,
   "metadata": {
    "ExecuteTime": {
     "start_time": "2020-05-04T14:22:39.023Z"
    }
   },
   "outputs": [
    {
     "name": "stdout",
     "output_type": "stream",
     "text": [
      "N events ele:  1328435\n"
     ]
    }
   ],
   "source": [
    "if flavour == \"ele\":\n",
    "    datas_ele = []\n",
    "\n",
    "    i = 0\n",
    "    for f in glob.glob(files_ele+\"*.pkl\"):\n",
    "        if i>limit_files :continue\n",
    "        d = pickle.load(open(f, \"rb\")) \n",
    "        \n",
    "        if det == \"EB\":\n",
    "            datas_ele.append(d[(d.is_seed == False) & (d.seed_iz == 0)])\n",
    "        elif det == \"EE\":\n",
    "            datas_ele.append(d[(d.is_seed == False) & (d.seed_iz != 0)])\n",
    "        i+=1\n",
    "\n",
    "    data_ele = pd.concat(datas_ele, ignore_index=True)\n",
    "    data_ele[\"particle\"] = \"electron\"\n",
    "    print(\"N events ele: \",len(data_ele))\n",
    "    \n",
    "    data = data_ele\n",
    "\n",
    "elif flavour == \"gamma\":\n",
    "    datas_gamma = []\n",
    "    i = 0\n",
    "    for f in glob.glob(files_gamma+\"*.pkl\"):\n",
    "        if i>limit_files :continue\n",
    "        d = pickle.load(open(f, \"rb\"))  \n",
    "        \n",
    "        if det == \"EB\":\n",
    "            datas_gamma.append(d[(d.is_seed == False) & (d.seed_iz == 0)])\n",
    "        elif det == \"EE\":\n",
    "            datas_gamma.append(d[(d.is_seed == False) & (d.seed_iz != 0)])\n",
    "        i+=1\n",
    "\n",
    "    data_gamma = pd.concat(datas_gamma, ignore_index=True)\n",
    "    data_gamma[\"particle\"] = \"gamma\"\n",
    "    print(\"N events gamma: \",len(data_gamma))\n",
    "    data = data_gamma\n",
    "\n",
    "    "
   ]
  },
  {
   "cell_type": "markdown",
   "metadata": {},
   "source": [
    "Balance gamma and electron"
   ]
  },
  {
   "cell_type": "code",
   "execution_count": 9,
   "metadata": {
    "ExecuteTime": {
     "end_time": "2020-05-03T14:58:15.903327Z",
     "start_time": "2020-05-03T14:58:12.456898Z"
    }
   },
   "outputs": [
    {
     "name": "stdout",
     "output_type": "stream",
     "text": [
      "Sample in EB: 17692709\n",
      "Sample in EE: 6153312\n",
      "Sample in EB in SC: 1349042\n",
      "Sample in EE in SC: 534642\n",
      "N in supercluster:  1883684\n",
      "N out supercluster:  21962337\n",
      "11.659246986224865\n"
     ]
    }
   ],
   "source": [
    "print(\"Sample in EB:\", len(data[abs(data.seed_eta) <1.479]))\n",
    "print(\"Sample in EE:\", len(data[abs(data.seed_eta) >=1.479]))\n",
    "print(\"Sample in EB in SC:\", len(data[(abs(data.seed_eta) <1.479)&(data.in_scluster)]))\n",
    "print(\"Sample in EE in SC:\", len(data[(abs(data.seed_eta) >=1.479)&(data.in_scluster)]))\n",
    "print(\"N in supercluster: \", len(data[ data.in_scluster]))\n",
    "print(\"N out supercluster: \", len(data[data.in_scluster == False]))\n",
    "w = len(data[(data.is_seed == False) & (data.in_scluster == False)]) / len(data[(data.is_seed == False) & (data.in_scluster==True)])\n",
    "print(w)"
   ]
  },
  {
   "cell_type": "code",
   "execution_count": 13,
   "metadata": {
    "ExecuteTime": {
     "end_time": "2020-05-03T14:58:46.167174Z",
     "start_time": "2020-05-03T14:58:45.165966Z"
    }
   },
   "outputs": [
    {
     "name": "stdout",
     "output_type": "stream",
     "text": [
      "caloMatch samples:  6112489\n",
      "Not caloMatch samples:  31029667\n"
     ]
    }
   ],
   "source": [
    "print(\"caloMatch samples: \", len(data[data.is_calo_matched]))\n",
    "print(\"Not caloMatch samples: \", len(data[data.is_calo_matched ==False]))"
   ]
  },
  {
   "cell_type": "markdown",
   "metadata": {},
   "source": [
    "# Data Preparation"
   ]
  },
  {
   "cell_type": "markdown",
   "metadata": {},
   "source": [
    "## Reweighting\n",
    "Only the classes are reweighted, not in Et/eta bins"
   ]
  },
  {
   "cell_type": "code",
   "execution_count": 35,
   "metadata": {},
   "outputs": [
    {
     "name": "stdout",
     "output_type": "stream",
     "text": [
      "Weight  10.494038554717243\n"
     ]
    }
   ],
   "source": [
    "w = len(data[(data.is_seed == False) & (data.in_scluster == False)]) / len(data[(data.is_seed == False) & (data.in_scluster==True)])\n",
    "print(\"Weight \",w)\n",
    "data.loc[data.in_scluster,\"w\"] = w\n",
    "data.loc[data.in_scluster==False, \"w\"] = 1."
   ]
  },
  {
   "cell_type": "markdown",
   "metadata": {},
   "source": [
    "# Array preparation"
   ]
  },
  {
   "cell_type": "code",
   "execution_count": 36,
   "metadata": {
    "ExecuteTime": {
     "end_time": "2020-05-03T19:40:22.348120Z",
     "start_time": "2020-05-03T19:40:21.924777Z"
    }
   },
   "outputs": [],
   "source": [
    "X = data[ cols ].values\n",
    "truth = data[[\"in_scluster\"]].values\n",
    "y = np.array(truth[:], dtype=int)\n",
    "weights = data.w.values"
   ]
  },
  {
   "cell_type": "code",
   "execution_count": 37,
   "metadata": {
    "ExecuteTime": {
     "end_time": "2020-05-03T16:59:09.418959Z",
     "start_time": "2020-05-03T16:59:08.383315Z"
    }
   },
   "outputs": [],
   "source": [
    "from sklearn.preprocessing import MinMaxScaler, StandardScaler, QuantileTransformer\n",
    "from sklearn.model_selection import train_test_split\n",
    "scaler = StandardScaler()\n",
    "X_scaled = scaler.fit_transform(X)\n",
    "\n",
    "#pickle.dump(scaler, open(model_dir + \"/scaler_model_v{}_{}_{}.pkl\".format(model_version, det, flavour), \"wb\"))"
   ]
  },
  {
   "cell_type": "code",
   "execution_count": 18,
   "metadata": {
    "ExecuteTime": {
     "end_time": "2020-04-27T20:36:06.424318Z",
     "start_time": "2020-04-27T20:36:06.415406Z"
    }
   },
   "outputs": [
    {
     "data": {
      "text/plain": [
       "array([ 3.37056124e-03, -1.74593130e-05,  5.36130602e-03,  1.23126729e+02,\n",
       "        2.80265087e+01, -3.78455052e-03, -1.50203344e-04,  2.83484634e+00,\n",
       "        6.40677925e-01,  1.01554926e+00,  2.75737241e-02, -1.77616711e-05,\n",
       "        3.32061958e-02,  4.89319494e-01,  6.44707573e+00,  1.50138129e-02,\n",
       "        1.67344891e-02,  2.79334186e+00,  3.08046911e-02,  6.27775699e-05,\n",
       "        3.31590078e-02,  2.61119929e-01,  1.71585841e+00,  4.72540581e-03,\n",
       "        3.88576832e-03])"
      ]
     },
     "execution_count": 18,
     "metadata": {},
     "output_type": "execute_result"
    }
   ],
   "source": [
    "scaler.mean_"
   ]
  },
  {
   "cell_type": "code",
   "execution_count": 19,
   "metadata": {
    "ExecuteTime": {
     "end_time": "2020-04-27T20:36:11.862086Z",
     "start_time": "2020-04-27T20:36:11.856918Z"
    }
   },
   "outputs": [
    {
     "data": {
      "text/plain": [
       "array([2.12589494e+00, 1.81044039e+00, 9.99985628e-01, 1.46820096e+02,\n",
       "       3.00979511e+01, 1.12098571e-01, 3.27104817e-01, 3.59360965e+00,\n",
       "       9.23493314e-01, 1.99068714e-01, 1.25832325e-02, 3.53237934e-04,\n",
       "       1.50224864e-02, 4.04929254e-01, 6.05649518e+00, 8.35942362e-03,\n",
       "       1.01887911e-02, 1.01619895e+01, 2.27360544e-02, 5.72288469e-04,\n",
       "       2.39331450e-02, 3.07576377e+00, 2.33820102e+00, 7.15756749e-03,\n",
       "       8.16390373e-03])"
      ]
     },
     "execution_count": 19,
     "metadata": {},
     "output_type": "execute_result"
    }
   ],
   "source": [
    "scaler.scale_"
   ]
  },
  {
   "cell_type": "code",
   "execution_count": 10,
   "metadata": {},
   "outputs": [
    {
     "name": "stdout",
     "output_type": "stream",
     "text": [
      "N. samples: 11895361\n"
     ]
    }
   ],
   "source": [
    "print(\"N. samples:\", X.shape[0])"
   ]
  },
  {
   "cell_type": "code",
   "execution_count": 8,
   "metadata": {
    "ExecuteTime": {
     "end_time": "2020-05-03T19:42:21.213537Z",
     "start_time": "2020-05-03T19:42:20.253569Z"
    }
   },
   "outputs": [],
   "source": [
    "X_train, X_val, y_train, y_val, w_train, w_val = train_test_split(X_scaled, y, weights, test_size=0.15)"
   ]
  },
  {
   "cell_type": "markdown",
   "metadata": {},
   "source": [
    "# Training"
   ]
  },
  {
   "cell_type": "code",
   "execution_count": 11,
   "metadata": {
    "ExecuteTime": {
     "end_time": "2020-05-03T15:15:19.694207Z",
     "start_time": "2020-05-03T15:15:13.962325Z"
    }
   },
   "outputs": [],
   "source": [
    "# Import all the required Libraries\n",
    "import tensorflow\n",
    "import keras\n",
    "import pandas as pd\n",
    "import numpy as np\n",
    "import matplotlib.pyplot as plt\n",
    "from keras.datasets import mnist\n",
    "from keras.models import Model, Sequential\n",
    "from keras.layers import Dense, Conv2D, Dropout, BatchNormalization, Input, Reshape, Flatten, Deconvolution2D, Conv2DTranspose, MaxPooling2D, UpSampling2D, Lambda\n",
    "from keras.layers.advanced_activations import LeakyReLU\n",
    "from keras.optimizers import adam\n",
    "from keras import callbacks\n",
    "from keras import backend as K\n",
    "from keras import regularizers\n",
    "from keras.callbacks import *\n",
    "from importlib import reload"
   ]
  },
  {
   "cell_type": "code",
   "execution_count": 38,
   "metadata": {},
   "outputs": [],
   "source": [
    "model_EB = keras.models.load_model(model_dir+\"/model_v{}_{}_{}.hd5\".format(1,\"EB\", flavour))\n",
    "model_EE = keras.models.load_model(model_dir+\"/model_v{}_{}_{}.hd5\".format(1,\"EE\", flavour))"
   ]
  },
  {
   "cell_type": "markdown",
   "metadata": {},
   "source": [
    "# AUC by eta and Et bin"
   ]
  },
  {
   "cell_type": "code",
   "execution_count": 42,
   "metadata": {
    "scrolled": false
   },
   "outputs": [],
   "source": [
    "from sklearn.metrics import roc_auc_score, roc_curve\n",
    "\n",
    "data[\"y\"] =  model_EE.predict(scaler.transform(data[cols].values), batch_size=4096)\n",
    "\n",
    "ets = [0,20,40,60,80,100]\n",
    "if det==\"EB\":\n",
    "    etas = [0, 0.4,0.8, 1.2,1.479]\n",
    "if det==\"EE\":\n",
    "    etas = [1.479,1.75,2.,2.25,3]\n",
    "\n",
    "data[\"eta_bin\"] = pd.cut(abs(data.seed_eta), etas, labels=list(range(len(etas)-1)))\n",
    "data[\"et_bin\"] = pd.cut(data.et_seed, ets, labels=list(range(len(ets)-1)))\n",
    "\n",
    "result =  data.groupby([\"eta_bin\", \"et_bin\"]).apply(\n",
    "        lambda gr:  roc_auc_score(gr.in_scluster, gr.y, sample_weight=gr.w)\n",
    ")\n"
   ]
  },
  {
   "cell_type": "code",
   "execution_count": 43,
   "metadata": {},
   "outputs": [
    {
     "name": "stdout",
     "output_type": "stream",
     "text": [
      "[-1.  0.  1.  2.  3.  4.  5.]\n"
     ]
    },
    {
     "data": {
      "text/plain": [
       "<matplotlib.colorbar.Colorbar at 0x7f0e387d54a8>"
      ]
     },
     "execution_count": 43,
     "metadata": {},
     "output_type": "execute_result"
    },
    {
     "data": {
      "image/png": "[encoded data removed]",
      "text/plain": [
       "<Figure size 1400x1200 with 2 Axes>"
      ]
     },
     "metadata": {
      "needs_background": "light"
     },
     "output_type": "display_data"
    }
   ],
   "source": [
    "a = result.values.reshape((len(etas)-1,len(ets)-1))\n",
    "fig,ax1 = plt.subplots(figsize=(7,6), dpi=200)\n",
    "\n",
    "c = ax1.imshow(a.T, vmax=1, vmin=0.96)\n",
    "ax1.set_xlabel(\"Eta bin\")\n",
    "ax1.set_ylabel(\"Et bin\")\n",
    "ax1.set_title(\"AUC\")\n",
    "\n",
    "locs,labels  = plt.xticks()\n",
    "locs = np.append(locs, locs[-2]+1)\n",
    "plt.xticks((locs-0.5)[1::2], etas)\n",
    "\n",
    "\n",
    "locs,labels  = plt.yticks()\n",
    "print(locs)\n",
    "locs = np.append(locs, locs[-2]+1)\n",
    "plt.yticks((locs-0.5)[1::], ets)\n",
    "\n",
    "plt.colorbar(c)"
   ]
  },
  {
   "cell_type": "code",
   "execution_count": null,
   "metadata": {},
   "outputs": [],
   "source": []
  }
 ],
 "metadata": {
  "kernelspec": {
   "display_name": "Python 3",
   "language": "python",
   "name": "python3"
  },
  "language_info": {
   "codemirror_mode": {
    "name": "ipython",
    "version": 3
   },
   "file_extension": ".py",
   "mimetype": "text/x-python",
   "name": "python",
   "nbconvert_exporter": "python",
   "pygments_lexer": "ipython3",
   "version": "3.6.9"
  },
  "toc": {
   "base_numbering": 1,
   "nav_menu": {},
   "number_sections": true,
   "sideBar": true,
   "skip_h1_title": false,
   "title_cell": "Table of Contents",
   "title_sidebar": "Contents",
   "toc_cell": false,
   "toc_position": {},
   "toc_section_display": true,
   "toc_window_display": false
  },
  "varInspector": {
   "cols": {
    "lenName": 16,
    "lenType": 16,
    "lenVar": 40
   },
   "kernels_config": {
    "python": {
     "delete_cmd_postfix": "",
     "delete_cmd_prefix": "del ",
     "library": "var_list.py",
     "varRefreshCmd": "print(var_dic_list())"
    },
    "r": {
     "delete_cmd_postfix": ") ",
     "delete_cmd_prefix": "rm(",
     "library": "var_list.r",
     "varRefreshCmd": "cat(var_dic_list()) "
    }
   },
   "oldHeight": 745.183666,
   "position": {
    "height": "40px",
    "left": "717.5px",
    "right": "20px",
    "top": "55px",
    "width": "800px"
   },
   "types_to_exclude": [
    "module",
    "function",
    "builtin_function_or_method",
    "instance",
    "_Feature"
   ],
   "varInspector_section_display": "none",
   "window_display": false
  }
 },
 "nbformat": 4,
 "nbformat_minor": 2
}
