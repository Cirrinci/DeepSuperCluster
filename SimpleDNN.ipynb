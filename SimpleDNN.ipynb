{
 "cells": [
  {
   "cell_type": "code",
   "execution_count": 52,
   "metadata": {
    "ExecuteTime": {
     "end_time": "2019-11-26T08:37:52.869738Z",
     "start_time": "2019-11-26T08:37:52.865533Z"
    }
   },
   "outputs": [],
   "source": [
    "import pickle\n",
    "import numpy as np \n",
    "import pandas as pd\n",
    "import matplotlib.colors as colors\n",
    "import matplotlib.pyplot as plt\n",
    "import matplotlib as mpl\n",
    "\n",
    "mpl.rcParams['figure.figsize'] = (10,8)\n",
    "mpl.rcParams[\"image.origin\"] = 'lower'"
   ]
  },
  {
   "cell_type": "code",
   "execution_count": 2,
   "metadata": {
    "ExecuteTime": {
     "end_time": "2019-11-26T08:12:44.963535Z",
     "start_time": "2019-11-26T08:12:44.950601Z"
    }
   },
   "outputs": [],
   "source": [
    "def plot(a,i):\n",
    "    if i> 1:\n",
    "        f, ax = plt.subplots(1,i, figsize=(25,15))\n",
    "        for j in range(i):\n",
    "            ax[j].imshow(a[:,:,j] ,cmap=\"Blues\", norm=colors.LogNorm()) \n",
    "    else:\n",
    "        plt.imshow(a[:,:,0], cmap=\"Blues\", norm=colors.LogNorm())"
   ]
  },
  {
   "cell_type": "code",
   "execution_count": 3,
   "metadata": {
    "ExecuteTime": {
     "end_time": "2019-11-26T08:12:47.264374Z",
     "start_time": "2019-11-26T08:12:45.903019Z"
    }
   },
   "outputs": [],
   "source": [
    "masks_raw = pickle.load(open(\"clusters_masks.pkl\", \"rb\"))\n",
    "clusters = pd.DataFrame(masks_raw)"
   ]
  },
  {
   "cell_type": "code",
   "execution_count": 4,
   "metadata": {
    "ExecuteTime": {
     "end_time": "2019-11-26T08:13:00.918124Z",
     "start_time": "2019-11-26T08:13:00.849624Z"
    }
   },
   "outputs": [],
   "source": [
    "windows = pd.read_csv(\"metadata_windows.csv\")"
   ]
  },
  {
   "cell_type": "code",
   "execution_count": 5,
   "metadata": {
    "ExecuteTime": {
     "end_time": "2019-11-26T08:13:15.462092Z",
     "start_time": "2019-11-26T08:13:15.164428Z"
    }
   },
   "outputs": [],
   "source": [
    "data = np.load(\"data_calo.npy\", mmap_mode=\"r\")"
   ]
  },
  {
   "cell_type": "code",
   "execution_count": 15,
   "metadata": {
    "ExecuteTime": {
     "end_time": "2019-11-26T06:40:21.557204Z",
     "start_time": "2019-11-26T06:40:21.544794Z"
    }
   },
   "outputs": [
    {
     "data": {
      "text/plain": [
       "cluster_eta        1.97854\n",
       "cluster_iz               1\n",
       "cluster_phi        -1.1297\n",
       "en_cluster         2.58736\n",
       "in_scluster          False\n",
       "is_seed              False\n",
       "mask            [(14, 15)]\n",
       "window_index             2\n",
       "Name: 10, dtype: object"
      ]
     },
     "execution_count": 15,
     "metadata": {},
     "output_type": "execute_result"
    }
   ],
   "source": [
    "clusters.iloc[10]"
   ]
  },
  {
   "cell_type": "code",
   "execution_count": 11,
   "metadata": {
    "ExecuteTime": {
     "end_time": "2019-11-26T06:40:02.674081Z",
     "start_time": "2019-11-26T06:40:02.662540Z"
    }
   },
   "outputs": [
    {
     "data": {
      "text/plain": [
       "en_seed           111.154\n",
       "en_true             137.8\n",
       "index                   0\n",
       "is_calo              True\n",
       "max_dr_cluster    0.18127\n",
       "max_en_cluster    111.154\n",
       "nclusters               4\n",
       "seed_eta           1.3919\n",
       "seed_iz                 0\n",
       "seed_phi         -2.50165\n",
       "Name: 0, dtype: object"
      ]
     },
     "execution_count": 11,
     "metadata": {},
     "output_type": "execute_result"
    }
   ],
   "source": [
    "windows.iloc[0]"
   ]
  },
  {
   "cell_type": "markdown",
   "metadata": {},
   "source": [
    "# Data preparation\n",
    "## Input: \n",
    "- E seed\n",
    "- eta,phi,z seed\n",
    "- E cluster\n",
    "- eta,phi,z cluster\n",
    "\n",
    "Filter only windows with the calo"
   ]
  },
  {
   "cell_type": "code",
   "execution_count": 9,
   "metadata": {
    "ExecuteTime": {
     "end_time": "2019-11-26T08:20:18.685898Z",
     "start_time": "2019-11-26T08:18:08.005758Z"
    }
   },
   "outputs": [],
   "source": [
    "# Use only cluster that are in windows with caloparticle and not seed\n",
    "calo_windows = windows[windows.is_calo].index.values\n",
    "clusters_calo = clusters[clusters.window_index.isin(calo_windows)]\n",
    "\n",
    "def prepare_samples():\n",
    "    samples = []\n",
    "    truths = []\n",
    "    for _, cl in clusters_calo[clusters_calo.is_seed == False].iterrows():\n",
    "        # save cluster info\n",
    "        sample = [cl.cluster_eta, cl.cluster_phi, cl.cluster_iz, cl.en_cluster]\n",
    "        # Get window information\n",
    "        ws = windows.iloc[cl.window_index]\n",
    "        sample += [ws.en_seed, ws.seed_eta, ws.seed_phi, ws.seed_iz]\n",
    "        truth = [cl.in_scluster, ws.nclusters]\n",
    "        \n",
    "        samples.append(sample)\n",
    "        truths.append(truth)\n",
    "    return np.array(samples), np.array(truths)\n",
    "        \n",
    "samples, truth = prepare_samples()"
   ]
  },
  {
   "cell_type": "markdown",
   "metadata": {},
   "source": [
    "## Categories balancing"
   ]
  },
  {
   "cell_type": "code",
   "execution_count": 16,
   "metadata": {
    "ExecuteTime": {
     "end_time": "2019-11-26T08:24:02.800674Z",
     "start_time": "2019-11-26T08:24:02.777612Z"
    }
   },
   "outputs": [],
   "source": [
    "samples_0 = samples[truth[:, 0] == 0]\n",
    "samples_1 = samples[truth[:, 0] == 1]\n",
    "max_samples = len(samples_1)"
   ]
  },
  {
   "cell_type": "code",
   "execution_count": 36,
   "metadata": {
    "ExecuteTime": {
     "end_time": "2019-11-26T08:29:41.982173Z",
     "start_time": "2019-11-26T08:29:41.973255Z"
    }
   },
   "outputs": [],
   "source": [
    "samples_0_cut = samples_0[:max_samples]\n",
    "truth_0 = np.zeros((max_samples))\n",
    "truth_1 = np.ones((max_samples))\n",
    "samples_tot = np.vstack((samples_0_cut, samples_1))\n",
    "truth_tot = np.append(truth_0, truth_1)"
   ]
  },
  {
   "cell_type": "markdown",
   "metadata": {},
   "source": [
    "# Training"
   ]
  },
  {
   "cell_type": "code",
   "execution_count": 21,
   "metadata": {
    "ExecuteTime": {
     "end_time": "2019-11-26T08:26:08.848910Z",
     "start_time": "2019-11-26T08:25:59.216686Z"
    }
   },
   "outputs": [
    {
     "name": "stderr",
     "output_type": "stream",
     "text": [
      "Using TensorFlow backend.\n"
     ]
    }
   ],
   "source": [
    "# Import all the required Libraries\n",
    "import tensorflow\n",
    "import keras\n",
    "import pandas as pd\n",
    "import numpy as np\n",
    "import matplotlib.pyplot as plt\n",
    "from keras.datasets import mnist\n",
    "from keras.models import Model, Sequential\n",
    "from keras.layers import Dense, Conv2D, Dropout, BatchNormalization, Input, Reshape, Flatten, Deconvolution2D, Conv2DTranspose, MaxPooling2D, UpSampling2D, Lambda\n",
    "from keras.layers.advanced_activations import LeakyReLU\n",
    "from keras.optimizers import adam\n",
    "from keras import backend as K\n",
    "\n",
    "from sklearn.preprocessing import MinMaxScaler, StandardScaler, QuantileTransformer\n",
    "from sklearn.model_selection import train_test_split\n",
    "from sklearn.metrics import mean_squared_error"
   ]
  },
  {
   "cell_type": "markdown",
   "metadata": {
    "ExecuteTime": {
     "end_time": "2019-11-26T06:59:47.993010Z",
     "start_time": "2019-11-26T06:59:47.732122Z"
    }
   },
   "source": [
    "## Scaling"
   ]
  },
  {
   "cell_type": "code",
   "execution_count": 38,
   "metadata": {
    "ExecuteTime": {
     "end_time": "2019-11-26T08:30:24.046894Z",
     "start_time": "2019-11-26T08:30:24.033521Z"
    }
   },
   "outputs": [],
   "source": [
    "scaler = StandardScaler()\n",
    "samples_scaled = scaler.fit_transform(samples_tot)"
   ]
  },
  {
   "cell_type": "markdown",
   "metadata": {},
   "source": [
    "## Samples split\n"
   ]
  },
  {
   "cell_type": "code",
   "execution_count": 39,
   "metadata": {
    "ExecuteTime": {
     "end_time": "2019-11-26T08:30:38.510623Z",
     "start_time": "2019-11-26T08:30:38.505401Z"
    }
   },
   "outputs": [],
   "source": [
    "x_train, x_test, y_train, y_test = train_test_split(samples_tot, truth_tot, test_size=0.1)"
   ]
  },
  {
   "cell_type": "markdown",
   "metadata": {},
   "source": [
    "## Category weights"
   ]
  },
  {
   "cell_type": "code",
   "execution_count": 40,
   "metadata": {
    "ExecuteTime": {
     "end_time": "2019-11-26T08:30:54.494123Z",
     "start_time": "2019-11-26T08:30:54.485611Z"
    }
   },
   "outputs": [
    {
     "name": "stdout",
     "output_type": "stream",
     "text": [
      "[1.00249288 0.99751949]\n"
     ]
    }
   ],
   "source": [
    "from sklearn.utils import class_weight\n",
    "class_weights = class_weight.compute_class_weight('balanced',[0,1], y_train)\n",
    "print(class_weights)"
   ]
  },
  {
   "cell_type": "code",
   "execution_count": 53,
   "metadata": {
    "ExecuteTime": {
     "end_time": "2019-11-26T08:38:06.852841Z",
     "start_time": "2019-11-26T08:38:06.650680Z"
    }
   },
   "outputs": [
    {
     "name": "stdout",
     "output_type": "stream",
     "text": [
      "_________________________________________________________________\n",
      "Layer (type)                 Output Shape              Param #   \n",
      "=================================================================\n",
      "dense_4 (Dense)              (None, 60)                540       \n",
      "_________________________________________________________________\n",
      "dense_5 (Dense)              (None, 40)                2440      \n",
      "_________________________________________________________________\n",
      "dense_6 (Dense)              (None, 1)                 41        \n",
      "=================================================================\n",
      "Total params: 3,021\n",
      "Trainable params: 3,021\n",
      "Non-trainable params: 0\n",
      "_________________________________________________________________\n"
     ]
    }
   ],
   "source": [
    "model = Sequential()\n",
    "model.add(Dense(60, input_dim=8, activation=\"relu\"))\n",
    "model.add(Dense(40, activation=\"relu\"))\n",
    "model.add(Dense(1, activation=\"sigmoid\"))\n",
    "\n",
    "model.compile(optimizer='adam',\n",
    "              loss='binary_crossentropy',\n",
    "              metrics=['accuracy'])\n",
    "\n",
    "model.summary()"
   ]
  },
  {
   "cell_type": "code",
   "execution_count": 54,
   "metadata": {
    "ExecuteTime": {
     "end_time": "2019-11-26T08:38:44.567038Z",
     "start_time": "2019-11-26T08:38:20.993917Z"
    }
   },
   "outputs": [
    {
     "name": "stdout",
     "output_type": "stream",
     "text": [
      "Train on 9008 samples, validate on 2252 samples\n",
      "Epoch 1/100\n",
      "9008/9008 [==============================] - 1s 72us/step - loss: 0.5904 - acc: 0.7294 - val_loss: 0.5328 - val_acc: 0.7558\n",
      "Epoch 2/100\n",
      "9008/9008 [==============================] - 0s 24us/step - loss: 0.5304 - acc: 0.7651 - val_loss: 0.6098 - val_acc: 0.7282\n",
      "Epoch 3/100\n",
      "9008/9008 [==============================] - 0s 23us/step - loss: 0.5338 - acc: 0.7678 - val_loss: 0.5153 - val_acc: 0.7718\n",
      "Epoch 4/100\n",
      "9008/9008 [==============================] - 0s 25us/step - loss: 0.5307 - acc: 0.7716 - val_loss: 0.5707 - val_acc: 0.7518\n",
      "Epoch 5/100\n",
      "9008/9008 [==============================] - 0s 27us/step - loss: 0.5144 - acc: 0.7779 - val_loss: 0.5397 - val_acc: 0.7731\n",
      "Epoch 6/100\n",
      "9008/9008 [==============================] - 0s 31us/step - loss: 0.4986 - acc: 0.7880 - val_loss: 0.4882 - val_acc: 0.7886\n",
      "Epoch 7/100\n",
      "9008/9008 [==============================] - 0s 31us/step - loss: 0.4968 - acc: 0.7864 - val_loss: 0.4783 - val_acc: 0.8068\n",
      "Epoch 8/100\n",
      "9008/9008 [==============================] - 0s 36us/step - loss: 0.4747 - acc: 0.7963 - val_loss: 0.4901 - val_acc: 0.8011\n",
      "Epoch 9/100\n",
      "9008/9008 [==============================] - 0s 32us/step - loss: 0.4909 - acc: 0.7895 - val_loss: 0.6163 - val_acc: 0.7278\n",
      "Epoch 10/100\n",
      "9008/9008 [==============================] - 0s 34us/step - loss: 0.4614 - acc: 0.8033 - val_loss: 0.5308 - val_acc: 0.7638\n",
      "Epoch 11/100\n",
      "9008/9008 [==============================] - 0s 30us/step - loss: 0.4667 - acc: 0.7995 - val_loss: 0.5891 - val_acc: 0.7562\n",
      "Epoch 12/100\n",
      "9008/9008 [==============================] - 0s 30us/step - loss: 0.4481 - acc: 0.8056 - val_loss: 0.4474 - val_acc: 0.8099\n",
      "Epoch 13/100\n",
      "9008/9008 [==============================] - 0s 26us/step - loss: 0.4367 - acc: 0.8132 - val_loss: 0.6142 - val_acc: 0.7256\n",
      "Epoch 14/100\n",
      "9008/9008 [==============================] - 0s 27us/step - loss: 0.4329 - acc: 0.8128 - val_loss: 0.4486 - val_acc: 0.8126\n",
      "Epoch 15/100\n",
      "9008/9008 [==============================] - 0s 28us/step - loss: 0.4347 - acc: 0.8159 - val_loss: 0.4346 - val_acc: 0.8126\n",
      "Epoch 16/100\n",
      "9008/9008 [==============================] - 0s 31us/step - loss: 0.4370 - acc: 0.8151 - val_loss: 0.4872 - val_acc: 0.7917\n",
      "Epoch 17/100\n",
      "9008/9008 [==============================] - 0s 35us/step - loss: 0.4231 - acc: 0.8184 - val_loss: 0.4322 - val_acc: 0.8171\n",
      "Epoch 18/100\n",
      "9008/9008 [==============================] - 0s 27us/step - loss: 0.4102 - acc: 0.8196 - val_loss: 0.4246 - val_acc: 0.8197\n",
      "Epoch 19/100\n",
      "9008/9008 [==============================] - 0s 30us/step - loss: 0.4130 - acc: 0.8203 - val_loss: 0.4576 - val_acc: 0.7984\n",
      "Epoch 20/100\n",
      "9008/9008 [==============================] - 0s 26us/step - loss: 0.4071 - acc: 0.8267 - val_loss: 0.4386 - val_acc: 0.8188\n",
      "Epoch 21/100\n",
      "9008/9008 [==============================] - 0s 25us/step - loss: 0.4243 - acc: 0.8206 - val_loss: 0.4127 - val_acc: 0.8237\n",
      "Epoch 22/100\n",
      "9008/9008 [==============================] - 0s 28us/step - loss: 0.3997 - acc: 0.8270 - val_loss: 0.4115 - val_acc: 0.8117\n",
      "Epoch 23/100\n",
      "9008/9008 [==============================] - 0s 30us/step - loss: 0.4258 - acc: 0.8212 - val_loss: 0.4077 - val_acc: 0.8197\n",
      "Epoch 24/100\n",
      "9008/9008 [==============================] - 0s 27us/step - loss: 0.3952 - acc: 0.8302 - val_loss: 0.4099 - val_acc: 0.8237\n",
      "Epoch 25/100\n",
      "9008/9008 [==============================] - 0s 26us/step - loss: 0.3953 - acc: 0.8286 - val_loss: 0.3964 - val_acc: 0.8264\n",
      "Epoch 26/100\n",
      "9008/9008 [==============================] - 0s 25us/step - loss: 0.3885 - acc: 0.8314 - val_loss: 0.4034 - val_acc: 0.8224\n",
      "Epoch 27/100\n",
      "9008/9008 [==============================] - 0s 26us/step - loss: 0.3704 - acc: 0.8411 - val_loss: 0.3947 - val_acc: 0.8290\n",
      "Epoch 28/100\n",
      "9008/9008 [==============================] - 0s 22us/step - loss: 0.3685 - acc: 0.8369 - val_loss: 0.3846 - val_acc: 0.8282\n",
      "Epoch 29/100\n",
      "9008/9008 [==============================] - 0s 22us/step - loss: 0.4034 - acc: 0.8275 - val_loss: 0.5723 - val_acc: 0.7540\n",
      "Epoch 30/100\n",
      "9008/9008 [==============================] - 0s 24us/step - loss: 0.3906 - acc: 0.8298 - val_loss: 0.3888 - val_acc: 0.8277\n",
      "Epoch 31/100\n",
      "9008/9008 [==============================] - 0s 21us/step - loss: 0.3850 - acc: 0.8356 - val_loss: 0.5120 - val_acc: 0.7749\n",
      "Epoch 32/100\n",
      "9008/9008 [==============================] - 0s 21us/step - loss: 0.3907 - acc: 0.8330 - val_loss: 0.3885 - val_acc: 0.8277\n",
      "Epoch 33/100\n",
      "9008/9008 [==============================] - 0s 23us/step - loss: 0.3747 - acc: 0.8331 - val_loss: 0.4277 - val_acc: 0.8126\n",
      "Epoch 34/100\n",
      "9008/9008 [==============================] - 0s 23us/step - loss: 0.3636 - acc: 0.8400 - val_loss: 0.3829 - val_acc: 0.8326\n",
      "Epoch 35/100\n",
      "9008/9008 [==============================] - 0s 24us/step - loss: 0.3729 - acc: 0.8398 - val_loss: 0.3863 - val_acc: 0.8290\n",
      "Epoch 36/100\n",
      "9008/9008 [==============================] - 0s 22us/step - loss: 0.3628 - acc: 0.8414 - val_loss: 0.3940 - val_acc: 0.8242\n",
      "Epoch 37/100\n",
      "9008/9008 [==============================] - 0s 28us/step - loss: 0.3677 - acc: 0.8367 - val_loss: 0.3823 - val_acc: 0.8335\n",
      "Epoch 38/100\n",
      "9008/9008 [==============================] - 0s 28us/step - loss: 0.3578 - acc: 0.8434 - val_loss: 0.4558 - val_acc: 0.8188\n",
      "Epoch 39/100\n",
      "9008/9008 [==============================] - 0s 26us/step - loss: 0.3815 - acc: 0.8354 - val_loss: 0.4235 - val_acc: 0.8077\n",
      "Epoch 40/100\n",
      "9008/9008 [==============================] - 0s 23us/step - loss: 0.3658 - acc: 0.8435 - val_loss: 0.3825 - val_acc: 0.8344\n",
      "Epoch 41/100\n",
      "9008/9008 [==============================] - 0s 27us/step - loss: 0.3472 - acc: 0.8514 - val_loss: 0.3899 - val_acc: 0.8321\n",
      "Epoch 42/100\n",
      "9008/9008 [==============================] - 0s 24us/step - loss: 0.3752 - acc: 0.8370 - val_loss: 0.4385 - val_acc: 0.8024\n",
      "Epoch 43/100\n",
      "9008/9008 [==============================] - 0s 23us/step - loss: 0.3474 - acc: 0.8484 - val_loss: 0.3729 - val_acc: 0.8326\n",
      "Epoch 44/100\n",
      "9008/9008 [==============================] - 0s 23us/step - loss: 0.3458 - acc: 0.8491 - val_loss: 0.3708 - val_acc: 0.8370\n",
      "Epoch 45/100\n",
      "9008/9008 [==============================] - 0s 22us/step - loss: 0.3408 - acc: 0.8507 - val_loss: 0.3690 - val_acc: 0.8397\n",
      "Epoch 46/100\n",
      "9008/9008 [==============================] - 0s 22us/step - loss: 0.3505 - acc: 0.8471 - val_loss: 0.3958 - val_acc: 0.8228\n",
      "Epoch 47/100\n",
      "9008/9008 [==============================] - 0s 21us/step - loss: 0.3480 - acc: 0.8497 - val_loss: 0.3827 - val_acc: 0.8295\n",
      "Epoch 48/100\n",
      "9008/9008 [==============================] - 0s 22us/step - loss: 0.3428 - acc: 0.8502 - val_loss: 0.3718 - val_acc: 0.8326\n",
      "Epoch 49/100\n",
      "9008/9008 [==============================] - 0s 23us/step - loss: 0.3420 - acc: 0.8479 - val_loss: 0.3966 - val_acc: 0.8330\n",
      "Epoch 50/100\n",
      "9008/9008 [==============================] - 0s 21us/step - loss: 0.3466 - acc: 0.8536 - val_loss: 0.3841 - val_acc: 0.8246\n",
      "Epoch 51/100\n",
      "9008/9008 [==============================] - 0s 20us/step - loss: 0.3472 - acc: 0.8517 - val_loss: 0.3770 - val_acc: 0.8299\n",
      "Epoch 52/100\n",
      "9008/9008 [==============================] - 0s 20us/step - loss: 0.3490 - acc: 0.8502 - val_loss: 0.3754 - val_acc: 0.8397\n",
      "Epoch 53/100\n",
      "9008/9008 [==============================] - 0s 22us/step - loss: 0.3461 - acc: 0.8522 - val_loss: 0.4519 - val_acc: 0.7957\n",
      "Epoch 54/100\n",
      "9008/9008 [==============================] - 0s 21us/step - loss: 0.3454 - acc: 0.8496 - val_loss: 0.3580 - val_acc: 0.8441\n",
      "Epoch 55/100\n",
      "9008/9008 [==============================] - 0s 22us/step - loss: 0.3512 - acc: 0.8514 - val_loss: 0.3604 - val_acc: 0.8415\n",
      "Epoch 56/100\n",
      "9008/9008 [==============================] - 0s 21us/step - loss: 0.3411 - acc: 0.8547 - val_loss: 0.3852 - val_acc: 0.8290\n",
      "Epoch 57/100\n",
      "9008/9008 [==============================] - 0s 22us/step - loss: 0.3299 - acc: 0.8568 - val_loss: 0.4648 - val_acc: 0.7909\n",
      "Epoch 58/100\n",
      "9008/9008 [==============================] - 0s 21us/step - loss: 0.3389 - acc: 0.8547 - val_loss: 0.3981 - val_acc: 0.8379\n",
      "Epoch 59/100\n",
      "9008/9008 [==============================] - 0s 22us/step - loss: 0.3424 - acc: 0.8529 - val_loss: 0.3711 - val_acc: 0.8321\n",
      "Epoch 60/100\n"
     ]
    },
    {
     "name": "stdout",
     "output_type": "stream",
     "text": [
      "9008/9008 [==============================] - 0s 23us/step - loss: 0.3266 - acc: 0.8559 - val_loss: 0.3496 - val_acc: 0.8441\n",
      "Epoch 61/100\n",
      "9008/9008 [==============================] - 0s 23us/step - loss: 0.3291 - acc: 0.8567 - val_loss: 0.3722 - val_acc: 0.8375\n",
      "Epoch 62/100\n",
      "9008/9008 [==============================] - 0s 22us/step - loss: 0.3339 - acc: 0.8557 - val_loss: 0.3621 - val_acc: 0.8464\n",
      "Epoch 63/100\n",
      "9008/9008 [==============================] - 0s 20us/step - loss: 0.3326 - acc: 0.8562 - val_loss: 0.3520 - val_acc: 0.8375\n",
      "Epoch 64/100\n",
      "9008/9008 [==============================] - 0s 21us/step - loss: 0.3354 - acc: 0.8551 - val_loss: 0.3841 - val_acc: 0.8228\n",
      "Epoch 65/100\n",
      "9008/9008 [==============================] - 0s 21us/step - loss: 0.3278 - acc: 0.8596 - val_loss: 0.3922 - val_acc: 0.8224\n",
      "Epoch 66/100\n",
      "9008/9008 [==============================] - 0s 21us/step - loss: 0.3182 - acc: 0.8635 - val_loss: 0.3550 - val_acc: 0.8437\n",
      "Epoch 67/100\n",
      "9008/9008 [==============================] - 0s 23us/step - loss: 0.3589 - acc: 0.8526 - val_loss: 0.3942 - val_acc: 0.8179\n",
      "Epoch 68/100\n",
      "9008/9008 [==============================] - 0s 23us/step - loss: 0.3289 - acc: 0.8589 - val_loss: 0.3595 - val_acc: 0.8428\n",
      "Epoch 69/100\n",
      "9008/9008 [==============================] - 0s 28us/step - loss: 0.3150 - acc: 0.8619 - val_loss: 0.3888 - val_acc: 0.8326\n",
      "Epoch 70/100\n",
      "9008/9008 [==============================] - 0s 32us/step - loss: 0.3317 - acc: 0.8592 - val_loss: 0.4039 - val_acc: 0.8144\n",
      "Epoch 71/100\n",
      "9008/9008 [==============================] - 0s 29us/step - loss: 0.3293 - acc: 0.8650 - val_loss: 0.3637 - val_acc: 0.8357\n",
      "Epoch 72/100\n",
      "9008/9008 [==============================] - 0s 28us/step - loss: 0.3198 - acc: 0.8602 - val_loss: 0.3918 - val_acc: 0.8282\n",
      "Epoch 73/100\n",
      "9008/9008 [==============================] - 0s 27us/step - loss: 0.3234 - acc: 0.8610 - val_loss: 0.4139 - val_acc: 0.8117\n",
      "Epoch 74/100\n",
      "9008/9008 [==============================] - 0s 35us/step - loss: 0.3120 - acc: 0.8670 - val_loss: 0.3678 - val_acc: 0.8410\n",
      "Epoch 75/100\n",
      "9008/9008 [==============================] - 0s 31us/step - loss: 0.3138 - acc: 0.8680 - val_loss: 0.3474 - val_acc: 0.8481\n",
      "Epoch 76/100\n",
      "9008/9008 [==============================] - 0s 33us/step - loss: 0.3169 - acc: 0.8639 - val_loss: 0.3930 - val_acc: 0.8277\n",
      "Epoch 77/100\n",
      "9008/9008 [==============================] - 0s 30us/step - loss: 0.3141 - acc: 0.8646 - val_loss: 0.4275 - val_acc: 0.8268\n",
      "Epoch 78/100\n",
      "9008/9008 [==============================] - 0s 25us/step - loss: 0.3120 - acc: 0.8678 - val_loss: 0.3998 - val_acc: 0.8153\n",
      "Epoch 79/100\n",
      "9008/9008 [==============================] - 0s 28us/step - loss: 0.3263 - acc: 0.8592 - val_loss: 0.5050 - val_acc: 0.8273\n",
      "Epoch 80/100\n",
      "9008/9008 [==============================] - 0s 28us/step - loss: 0.3154 - acc: 0.8667 - val_loss: 0.3550 - val_acc: 0.8486\n",
      "Epoch 81/100\n",
      "9008/9008 [==============================] - 0s 23us/step - loss: 0.3122 - acc: 0.8639 - val_loss: 0.3645 - val_acc: 0.8335\n",
      "Epoch 82/100\n",
      "9008/9008 [==============================] - 0s 25us/step - loss: 0.3182 - acc: 0.8631 - val_loss: 0.3551 - val_acc: 0.8419\n",
      "Epoch 83/100\n",
      "9008/9008 [==============================] - 0s 23us/step - loss: 0.3187 - acc: 0.8681 - val_loss: 0.3569 - val_acc: 0.8508\n",
      "Epoch 84/100\n",
      "9008/9008 [==============================] - 0s 21us/step - loss: 0.3083 - acc: 0.8694 - val_loss: 0.3523 - val_acc: 0.8508\n",
      "Epoch 85/100\n",
      "9008/9008 [==============================] - 0s 23us/step - loss: 0.3234 - acc: 0.8637 - val_loss: 0.3787 - val_acc: 0.8308\n",
      "Epoch 86/100\n",
      "9008/9008 [==============================] - 0s 26us/step - loss: 0.3183 - acc: 0.8647 - val_loss: 0.3842 - val_acc: 0.8446\n",
      "Epoch 87/100\n",
      "9008/9008 [==============================] - 0s 23us/step - loss: 0.3332 - acc: 0.8620 - val_loss: 0.3607 - val_acc: 0.8526\n",
      "Epoch 88/100\n",
      "9008/9008 [==============================] - 0s 22us/step - loss: 0.3135 - acc: 0.8676 - val_loss: 0.3551 - val_acc: 0.8504\n",
      "Epoch 89/100\n",
      "9008/9008 [==============================] - 0s 21us/step - loss: 0.3184 - acc: 0.8642 - val_loss: 0.3673 - val_acc: 0.8433\n",
      "Epoch 90/100\n",
      "9008/9008 [==============================] - 0s 21us/step - loss: 0.3011 - acc: 0.8738 - val_loss: 0.3446 - val_acc: 0.8517\n",
      "Epoch 91/100\n",
      "9008/9008 [==============================] - 0s 22us/step - loss: 0.3076 - acc: 0.8671 - val_loss: 0.3544 - val_acc: 0.8410\n",
      "Epoch 92/100\n",
      "9008/9008 [==============================] - 0s 24us/step - loss: 0.3044 - acc: 0.8719 - val_loss: 0.3481 - val_acc: 0.8566\n",
      "Epoch 93/100\n",
      "9008/9008 [==============================] - 0s 25us/step - loss: 0.2957 - acc: 0.8750 - val_loss: 0.3438 - val_acc: 0.8508\n",
      "Epoch 94/100\n",
      "9008/9008 [==============================] - 0s 23us/step - loss: 0.3038 - acc: 0.8732 - val_loss: 0.3574 - val_acc: 0.8499\n",
      "Epoch 95/100\n",
      "9008/9008 [==============================] - 0s 22us/step - loss: 0.3091 - acc: 0.8655 - val_loss: 0.3455 - val_acc: 0.8548\n",
      "Epoch 96/100\n",
      "9008/9008 [==============================] - 0s 23us/step - loss: 0.2885 - acc: 0.8757 - val_loss: 0.3329 - val_acc: 0.8588\n",
      "Epoch 97/100\n",
      "9008/9008 [==============================] - 0s 23us/step - loss: 0.2913 - acc: 0.8769 - val_loss: 0.3692 - val_acc: 0.8508\n",
      "Epoch 98/100\n",
      "9008/9008 [==============================] - 0s 22us/step - loss: 0.3076 - acc: 0.8701 - val_loss: 0.3484 - val_acc: 0.8539\n",
      "Epoch 99/100\n",
      "9008/9008 [==============================] - 0s 22us/step - loss: 0.2878 - acc: 0.8788 - val_loss: 0.3414 - val_acc: 0.8561\n",
      "Epoch 100/100\n",
      "9008/9008 [==============================] - 0s 28us/step - loss: 0.2942 - acc: 0.8740 - val_loss: 0.3967 - val_acc: 0.8388\n"
     ]
    }
   ],
   "source": [
    "history = model.fit(x_train, y_train, #class_weight=class_weights, \n",
    "          batch_size=64,epochs=100, validation_split=0.2 )"
   ]
  },
  {
   "cell_type": "code",
   "execution_count": 55,
   "metadata": {
    "ExecuteTime": {
     "end_time": "2019-11-26T08:38:59.287020Z",
     "start_time": "2019-11-26T08:38:58.972427Z"
    }
   },
   "outputs": [
    {
     "name": "stdout",
     "output_type": "stream",
     "text": [
      ">>> Computing AUC...\n",
      "AUC score: 0.9366421568627452\n",
      ">>> Saving ROC curve...\n"
     ]
    },
    {
     "data": {
      "text/plain": [
       "<matplotlib.legend.Legend at 0x7fe8f414fa58>"
      ]
     },
     "execution_count": 55,
     "metadata": {},
     "output_type": "execute_result"
    },
    {
     "data": {
      "image/png": "[encoded data removed]",
      "text/plain": [
       "<Figure size 720x576 with 1 Axes>"
      ]
     },
     "metadata": {},
     "output_type": "display_data"
    }
   ],
   "source": [
    "# Evalutation\n",
    "print(\">>> Computing AUC...\")\n",
    "\n",
    "from sklearn.metrics import roc_auc_score, roc_curve\n",
    "\n",
    "pred = model.predict(x_test,batch_size=2048)\n",
    "auc = roc_auc_score(y_test, pred)\n",
    "print(\"AUC score: \" + str(auc))\n",
    "\n",
    "print(\">>> Saving ROC curve...\")\n",
    "fp , tp, th = roc_curve(y_test, pred)\n",
    "plt.plot(fp, tp, label=\"roc\")\n",
    "plt.plot(fp, th, label=\"threshold\")\n",
    "plt.xlabel(\"false positives\")\n",
    "plt.ylabel(\"true positives\")\n",
    "plt.legend()"
   ]
  },
  {
   "cell_type": "code",
   "execution_count": 56,
   "metadata": {
    "ExecuteTime": {
     "end_time": "2019-11-26T08:39:19.499505Z",
     "start_time": "2019-11-26T08:39:19.128220Z"
    }
   },
   "outputs": [
    {
     "data": {
      "text/plain": [
       "<matplotlib.legend.Legend at 0x7fe8f4112048>"
      ]
     },
     "execution_count": 56,
     "metadata": {},
     "output_type": "execute_result"
    },
    {
     "data": {
      "image/png": "[encoded data removed]",
      "text/plain": [
       "<Figure size 720x576 with 1 Axes>"
      ]
     },
     "metadata": {},
     "output_type": "display_data"
    }
   ],
   "source": [
    "plt.plot(history.epoch, history.history[\"val_loss\"], label=\"validation loss\")\n",
    "plt.plot(history.epoch, history.history[\"loss\"], label=\"training loss\")\n",
    "plt.legend()"
   ]
  },
  {
   "cell_type": "code",
   "execution_count": 66,
   "metadata": {
    "ExecuteTime": {
     "end_time": "2019-11-26T08:44:59.972290Z",
     "start_time": "2019-11-26T08:44:59.939964Z"
    }
   },
   "outputs": [],
   "source": [
    "results = model.predict(x_test)"
   ]
  },
  {
   "cell_type": "code",
   "execution_count": 68,
   "metadata": {
    "ExecuteTime": {
     "end_time": "2019-11-26T08:45:39.020702Z",
     "start_time": "2019-11-26T08:45:37.972461Z"
    }
   },
   "outputs": [
    {
     "data": {
      "text/plain": [
       "<matplotlib.legend.Legend at 0x7fe8e86e5da0>"
      ]
     },
     "execution_count": 68,
     "metadata": {},
     "output_type": "execute_result"
    },
    {
     "data": {
      "image/png": "[encoded data removed]",
      "text/plain": [
       "<Figure size 720x576 with 1 Axes>"
      ]
     },
     "metadata": {},
     "output_type": "display_data"
    }
   ],
   "source": [
    "plt.hist(results[y_test==0], bins=100, label=\"false\")\n",
    "plt.hist(results[y_test==1], bins=100, label=\"true\")\n",
    "plt.legend()"
   ]
  },
  {
   "cell_type": "code",
   "execution_count": 69,
   "metadata": {
    "ExecuteTime": {
     "end_time": "2019-11-26T08:46:35.384140Z",
     "start_time": "2019-11-26T08:46:35.378208Z"
    }
   },
   "outputs": [],
   "source": [
    "reverse_sample = scaler.inverse_transform(x_test)"
   ]
  },
  {
   "cell_type": "code",
   "execution_count": 73,
   "metadata": {
    "ExecuteTime": {
     "end_time": "2019-11-26T08:48:00.134577Z",
     "start_time": "2019-11-26T08:47:59.603313Z"
    }
   },
   "outputs": [
    {
     "data": {
      "text/plain": [
       "(array([18., 22., 32., 34., 47., 26., 12., 19., 17., 23., 16., 13., 13.,\n",
       "        16., 15., 13., 16., 22., 19., 23., 14., 11.,  7., 14., 18., 41.,\n",
       "        54., 30., 21., 14.]),\n",
       " array([-4.76676979, -4.45162297, -4.13647615, -3.82132933, -3.50618251,\n",
       "        -3.19103569, -2.87588888, -2.56074206, -2.24559524, -1.93044842,\n",
       "        -1.6153016 , -1.30015478, -0.98500797, -0.66986115, -0.35471433,\n",
       "        -0.03956751,  0.27557931,  0.59072613,  0.90587294,  1.22101976,\n",
       "         1.53616658,  1.8513134 ,  2.16646022,  2.48160704,  2.79675385,\n",
       "         3.11190067,  3.42704749,  3.74219431,  4.05734113,  4.37248795,\n",
       "         4.68763476]),\n",
       " <a list of 30 Patch objects>)"
      ]
     },
     "execution_count": 73,
     "metadata": {},
     "output_type": "execute_result"
    },
    {
     "data": {
      "image/png": "[encoded data removed]",
      "text/plain": [
       "<Figure size 720x576 with 1 Axes>"
      ]
     },
     "metadata": {},
     "output_type": "display_data"
    }
   ],
   "source": [
    "plt.hist(reverse_sample[:,0], bins=30)\n",
    "plt.hist(reverse_sample[y_test==0, 0], bins=30)\n"
   ]
  },
  {
   "cell_type": "code",
   "execution_count": 74,
   "metadata": {
    "ExecuteTime": {
     "end_time": "2019-11-26T08:48:15.873312Z",
     "start_time": "2019-11-26T08:48:15.333546Z"
    }
   },
   "outputs": [
    {
     "data": {
      "text/plain": [
       "(array([ 4.,  9.,  7., 20., 19., 23., 32., 32., 40., 38., 26., 15., 20.,\n",
       "        16.,  8., 16., 19., 11., 18., 21., 20., 41., 34., 34., 31., 19.,\n",
       "        20., 10.,  6.,  3.]),\n",
       " array([-4.68995424, -4.37980052, -4.06964681, -3.7594931 , -3.44933939,\n",
       "        -3.13918567, -2.82903196, -2.51887825, -2.20872453, -1.89857082,\n",
       "        -1.58841711, -1.27826339, -0.96810968, -0.65795597, -0.34780225,\n",
       "        -0.03764854,  0.27250517,  0.58265889,  0.8928126 ,  1.20296631,\n",
       "         1.51312003,  1.82327374,  2.13342745,  2.44358117,  2.75373488,\n",
       "         3.06388859,  3.3740423 ,  3.68419602,  3.99434973,  4.30450344,\n",
       "         4.61465716]),\n",
       " <a list of 30 Patch objects>)"
      ]
     },
     "execution_count": 74,
     "metadata": {},
     "output_type": "execute_result"
    },
    {
     "data": {
      "image/png": "[encoded data removed]",
      "text/plain": [
       "<Figure size 720x576 with 1 Axes>"
      ]
     },
     "metadata": {},
     "output_type": "display_data"
    }
   ],
   "source": [
    "plt.hist(reverse_sample[:,0], bins=30)\n",
    "plt.hist(reverse_sample[y_test==1, 0], bins=30)\n"
   ]
  },
  {
   "cell_type": "code",
   "execution_count": null,
   "metadata": {},
   "outputs": [],
   "source": []
  }
 ],
 "metadata": {
  "kernelspec": {
   "display_name": "Python 3",
   "language": "python",
   "name": "python3"
  },
  "toc": {
   "base_numbering": 1,
   "nav_menu": {},
   "number_sections": true,
   "sideBar": true,
   "skip_h1_title": false,
   "title_cell": "Table of Contents",
   "title_sidebar": "Contents",
   "toc_cell": false,
   "toc_position": {},
   "toc_section_display": true,
   "toc_window_display": false
  },
  "varInspector": {
   "cols": {
    "lenName": 16,
    "lenType": 16,
    "lenVar": 40
   },
   "kernels_config": {
    "python": {
     "delete_cmd_postfix": "",
     "delete_cmd_prefix": "del ",
     "library": "var_list.py",
     "varRefreshCmd": "print(var_dic_list())"
    },
    "r": {
     "delete_cmd_postfix": ") ",
     "delete_cmd_prefix": "rm(",
     "library": "var_list.r",
     "varRefreshCmd": "cat(var_dic_list()) "
    }
   },
   "types_to_exclude": [
    "module",
    "function",
    "builtin_function_or_method",
    "instance",
    "_Feature"
   ],
   "window_display": false
  }
 },
 "nbformat": 4,
 "nbformat_minor": 2
}
